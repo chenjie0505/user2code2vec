{
 "cells": [
  {
   "cell_type": "markdown",
   "metadata": {},
   "source": [
    "# code2vec using Embeddings and NN\n",
    "\n",
    "We are going to represent programs as token vectors and learn their representations using embeddings\n",
    "\n",
    "We are going to create a prediction problem and try to predict whether the program submitted with be considered as correct, i.e. the program pass the testcases specified by the lecturer. Creating a prediction problem to learn representations of the data is a useful approach. There is no easy way to represent these programs so we are going to learn these representations. \n",
    " \n",
    "\n",
    "* https://code.google.com/archive/p/word2vec/\n",
    "\n",
    "* https://medium.com/@sabber/classifying-yelp-review-comments-using-cnn-lstm-and-pre-trained-glove-word-embeddings-part-3-53fcea9a17fa\n",
    "\n",
    "* https://www.cse.iitb.ac.in/~pb/papers/bionlp-acl17-medical-coding.pdf\n",
    "\n",
    "* https://github.com/sloomba/protein2vec\n",
    "\n",
    "* https://github.com/samiroid/usr2vec\n",
    "\n",
    "* https://github.com/keras-team/keras/blob/master/examples/pretrained_word_embeddings.py\n",
    "\n",
    "* http://ahogrammer.com/2017/01/20/the-list-of-pretrained-word-embeddings/\n",
    "\n",
    "* Topic Modelling for Humans: https://radimrehurek.com/gensim/\n",
    "\n",
    "* https://spacy.io/models/\n",
    "\n",
    "* https://www.shanelynn.ie/get-busy-with-word-embeddings-introduction/\n",
    "\n",
    "* Code2Vec https://ieeexplore.ieee.org/stamp/stamp.jsp?tp=&arnumber=8031179&tag=1, https://arxiv.org/pdf/1803.09473.pdf, https://code2vec.org/\n",
    "\n",
    "* From People2Vec to Emotional AI: http://people2vec.org/\n",
    "\n",
    "* Using Word2vec for Music Recommendations: https://towardsdatascience.com/using-word2vec-for-music-recommendations-bb9649ac2484\n",
    "\n",
    "* Source code identifier embeddings: https://blog.sourced.tech/post/id2vec/\n",
    "\n",
    "* Recommending Recommendation Systems: https://gab41.lab41.org/recommending-recommendation-systems-cc39ace3f5c1, https://github.com/Lab41/Misc/blob/master/blog/python2vec/Python2Vec%20Example.ipynb\n",
    "\n",
    "* Python2Vec: Word Embeddings for Source Code: https://gab41.lab41.org/python2vec-word-embeddings-for-source-code-3d14d030fe8f\n",
    "\n",
    "* Anything2Vec: https://gab41.lab41.org/anything2vec-e99ec0dc186\n",
    "\n",
    "* AutoKeras: https://towardsdatascience.com/autokeras-the-killer-of-googles-automl-9e84c552a319, https://autokeras.com/\n",
    "\n",
    "* Learning Program Embeddings to Propagate Feedback on Student Code: https://web.stanford.edu/~cpiech/bio/papers/programEncoding.pdf, https://github.com/chrispiech/refactoredEncoder\n",
    "\n",
    "* Research at Code.org: https://code.org/research\n",
    "\n",
    "* Cheatsheet: https://startupsventurecapital.com/essential-cheat-sheets-for-machine-learning-and-deep-learning-researchers-efb6a8ebd2e5\n",
    "\n",
    "* DCU Deep Learning Summer School: https://telecombcn-dl.github.io/2018-dlcv/, https://www.slideshare.net/xavigiro/d1l2-the-neural-network-zoo-upc-2018-deep-learning-for-computer-vision\n",
    "\n",
    "* Embeddings: https://developers.google.com/machine-learning/crash-course/embeddings/video-lecture"
   ]
  },
  {
   "cell_type": "code",
   "execution_count": 1,
   "metadata": {
    "collapsed": true
   },
   "outputs": [],
   "source": [
    "import pandas as pd\n",
    "import numpy as np\n",
    "import matplotlib.pyplot as plt\n",
    "%matplotlib inline"
   ]
  },
  {
   "cell_type": "code",
   "execution_count": 2,
   "metadata": {
    "collapsed": true
   },
   "outputs": [],
   "source": [
    "font = {'weight': 'bold', 'size': 20}\n",
    "plt.rc('font', **font)"
   ]
  },
  {
   "cell_type": "markdown",
   "metadata": {},
   "source": [
    "## VECTORIZE\n",
    "\n",
    "**Programming data**: Student develop programs locally for the laboratory sheets of computer programming courses at our university. These programs are submitted by them to an automatic grading platform that runs some test cases specified by the lecturer on each program. A JSON output for those testcases and whether the program passed them or not along with the actual code is stored."
   ]
  },
  {
   "cell_type": "code",
   "execution_count": 3,
   "metadata": {},
   "outputs": [
    {
     "name": "stdout",
     "output_type": "stream",
     "text": [
      "data/raw/programming_data.json\r\n"
     ]
    }
   ],
   "source": [
    "!ls data/raw/programming_data.json"
   ]
  },
  {
   "cell_type": "code",
   "execution_count": 4,
   "metadata": {
    "collapsed": true
   },
   "outputs": [],
   "source": [
    "dataframe = pd.read_json('data/raw/programming_data.json')"
   ]
  },
  {
   "cell_type": "code",
   "execution_count": 5,
   "metadata": {},
   "outputs": [
    {
     "data": {
      "text/html": [
       "<div>\n",
       "<style>\n",
       "    .dataframe thead tr:only-child th {\n",
       "        text-align: right;\n",
       "    }\n",
       "\n",
       "    .dataframe thead th {\n",
       "        text-align: left;\n",
       "    }\n",
       "\n",
       "    .dataframe tbody tr th {\n",
       "        vertical-align: top;\n",
       "    }\n",
       "</style>\n",
       "<table border=\"1\" class=\"dataframe\">\n",
       "  <thead>\n",
       "    <tr style=\"text-align: right;\">\n",
       "      <th></th>\n",
       "      <th>academic_year_0</th>\n",
       "      <th>academic_year_1</th>\n",
       "      <th>correct</th>\n",
       "      <th>date</th>\n",
       "      <th>extension</th>\n",
       "      <th>ip</th>\n",
       "      <th>module</th>\n",
       "      <th>task</th>\n",
       "      <th>upload</th>\n",
       "      <th>user</th>\n",
       "    </tr>\n",
       "  </thead>\n",
       "  <tbody>\n",
       "    <tr>\n",
       "      <th>0</th>\n",
       "      <td>2016</td>\n",
       "      <td>2017</td>\n",
       "      <td>True</td>\n",
       "      <td>2016-09-19 14:11:41</td>\n",
       "      <td>py</td>\n",
       "      <td></td>\n",
       "      <td>ca277</td>\n",
       "      <td>add.py</td>\n",
       "      <td>#!/usr/bin/env python\\n\\na = int(raw_input())\\...</td>\n",
       "      <td>b9e7e608-6036-4d44-8770-a7036176b53c</td>\n",
       "    </tr>\n",
       "    <tr>\n",
       "      <th>1</th>\n",
       "      <td>2016</td>\n",
       "      <td>2017</td>\n",
       "      <td>True</td>\n",
       "      <td>2016-09-19 14:17:33</td>\n",
       "      <td>py</td>\n",
       "      <td></td>\n",
       "      <td>ca277</td>\n",
       "      <td>concat-lines.py</td>\n",
       "      <td>#!/usr/bin/env python\\n\\na = str(raw_input())\\...</td>\n",
       "      <td>b9e7e608-6036-4d44-8770-a7036176b53c</td>\n",
       "    </tr>\n",
       "  </tbody>\n",
       "</table>\n",
       "</div>"
      ],
      "text/plain": [
       "  academic_year_0 academic_year_1  correct                date extension ip  \\\n",
       "0            2016            2017     True 2016-09-19 14:11:41        py      \n",
       "1            2016            2017     True 2016-09-19 14:17:33        py      \n",
       "\n",
       "  module             task                                             upload  \\\n",
       "0  ca277           add.py  #!/usr/bin/env python\\n\\na = int(raw_input())\\...   \n",
       "1  ca277  concat-lines.py  #!/usr/bin/env python\\n\\na = str(raw_input())\\...   \n",
       "\n",
       "                                   user  \n",
       "0  b9e7e608-6036-4d44-8770-a7036176b53c  \n",
       "1  b9e7e608-6036-4d44-8770-a7036176b53c  "
      ]
     },
     "execution_count": 5,
     "metadata": {},
     "output_type": "execute_result"
    }
   ],
   "source": [
    "dataframe.head(2)"
   ]
  },
  {
   "cell_type": "code",
   "execution_count": 6,
   "metadata": {},
   "outputs": [
    {
     "data": {
      "text/plain": [
       "'591,707'"
      ]
     },
     "execution_count": 6,
     "metadata": {},
     "output_type": "execute_result"
    }
   ],
   "source": [
    "'{:,}'.format(len(dataframe))"
   ]
  },
  {
   "cell_type": "markdown",
   "metadata": {},
   "source": [
    "Grab only code submissions from Python modules:"
   ]
  },
  {
   "cell_type": "code",
   "execution_count": 7,
   "metadata": {
    "collapsed": true
   },
   "outputs": [],
   "source": [
    "PYTHON_MODULES = [\n",
    "    'ca116', \n",
    "    'ca117', \n",
    "    'ca177', \n",
    "    'ca277', \n",
    "    'ca278',\n",
    "]"
   ]
  },
  {
   "cell_type": "code",
   "execution_count": 8,
   "metadata": {
    "collapsed": true
   },
   "outputs": [],
   "source": [
    "dataframe = dataframe[dataframe['module'].isin(PYTHON_MODULES)]"
   ]
  },
  {
   "cell_type": "code",
   "execution_count": 9,
   "metadata": {},
   "outputs": [
    {
     "data": {
      "text/plain": [
       "'490,820'"
      ]
     },
     "execution_count": 9,
     "metadata": {},
     "output_type": "execute_result"
    }
   ],
   "source": [
    "'{:,}'.format(len(dataframe))"
   ]
  },
  {
   "cell_type": "markdown",
   "metadata": {},
   "source": [
    "Target value:"
   ]
  },
  {
   "cell_type": "code",
   "execution_count": 10,
   "metadata": {},
   "outputs": [
    {
     "data": {
      "text/plain": [
       "False    296369\n",
       "True     194451\n",
       "Name: correct, dtype: int64"
      ]
     },
     "execution_count": 10,
     "metadata": {},
     "output_type": "execute_result"
    }
   ],
   "source": [
    "dataframe.correct.value_counts()"
   ]
  },
  {
   "cell_type": "markdown",
   "metadata": {},
   "source": [
    "Remove comments:"
   ]
  },
  {
   "cell_type": "code",
   "execution_count": 11,
   "metadata": {
    "collapsed": true
   },
   "outputs": [],
   "source": [
    "import re\n",
    "def remove_comments(text):\n",
    "    return re.sub(re.compile('#.*?\\n'), '', text)"
   ]
  },
  {
   "cell_type": "markdown",
   "metadata": {},
   "source": [
    "Grab docs (code submissions) and labels (correct or not):"
   ]
  },
  {
   "cell_type": "code",
   "execution_count": 12,
   "metadata": {
    "collapsed": true
   },
   "outputs": [],
   "source": [
    "def get_docs_and_labels(df):\n",
    "    _docs = []\n",
    "    _labels = []\n",
    "    for index in df.index:\n",
    "        # Program\n",
    "        code = remove_comments(\n",
    "            df.at[index, 'upload']\n",
    "        )\n",
    "        _docs.append(code)\n",
    "        # Label\n",
    "        label = int(df.at[index, 'correct'])\n",
    "        _labels.append(label)\n",
    "    return _docs, _labels"
   ]
  },
  {
   "cell_type": "code",
   "execution_count": 13,
   "metadata": {
    "collapsed": true
   },
   "outputs": [],
   "source": [
    "docs, labels = get_docs_and_labels(dataframe)"
   ]
  },
  {
   "cell_type": "code",
   "execution_count": 14,
   "metadata": {},
   "outputs": [
    {
     "data": {
      "text/plain": [
       "'490,820'"
      ]
     },
     "execution_count": 14,
     "metadata": {},
     "output_type": "execute_result"
    }
   ],
   "source": [
    "'{:,}'.format(len(docs))"
   ]
  },
  {
   "cell_type": "code",
   "execution_count": 15,
   "metadata": {
    "scrolled": true
   },
   "outputs": [
    {
     "data": {
      "text/plain": [
       "u'\\na = int(raw_input())\\nb = int(raw_input())\\n\\nprint a + b\\n\\n\\n'"
      ]
     },
     "execution_count": 15,
     "metadata": {},
     "output_type": "execute_result"
    }
   ],
   "source": [
    "docs[0]"
   ]
  },
  {
   "cell_type": "code",
   "execution_count": 16,
   "metadata": {},
   "outputs": [
    {
     "data": {
      "text/plain": [
       "1"
      ]
     },
     "execution_count": 16,
     "metadata": {},
     "output_type": "execute_result"
    }
   ],
   "source": [
    "labels[0]"
   ]
  },
  {
   "cell_type": "markdown",
   "metadata": {},
   "source": [
    "## 1) Programs as word vectors\n",
    "\n",
    "https://faroit.github.io/keras-docs/1.2.2/preprocessing/text/"
   ]
  },
  {
   "cell_type": "code",
   "execution_count": 17,
   "metadata": {
    "scrolled": true
   },
   "outputs": [
    {
     "name": "stderr",
     "output_type": "stream",
     "text": [
      "Using TensorFlow backend.\n"
     ]
    }
   ],
   "source": [
    "from keras.preprocessing.text import Tokenizer"
   ]
  },
  {
   "cell_type": "code",
   "execution_count": 18,
   "metadata": {
    "collapsed": true
   },
   "outputs": [],
   "source": [
    "NUM_WORDS = 2000 # Originally 231,659 words"
   ]
  },
  {
   "cell_type": "code",
   "execution_count": 19,
   "metadata": {
    "collapsed": true
   },
   "outputs": [],
   "source": [
    "def get_tokenizer():\n",
    "\n",
    "    return Tokenizer(num_words=NUM_WORDS, \n",
    "                     filters='\\t\\n', \n",
    "                     lower=True, \n",
    "                     split=' ', \n",
    "                     char_level=False)"
   ]
  },
  {
   "cell_type": "code",
   "execution_count": 20,
   "metadata": {
    "collapsed": true
   },
   "outputs": [],
   "source": [
    "word_t = get_tokenizer()"
   ]
  },
  {
   "cell_type": "code",
   "execution_count": 21,
   "metadata": {
    "collapsed": true
   },
   "outputs": [],
   "source": [
    "word_t.fit_on_texts(docs)"
   ]
  },
  {
   "cell_type": "code",
   "execution_count": 22,
   "metadata": {},
   "outputs": [
    {
     "data": {
      "text/plain": [
       "552539"
      ]
     },
     "execution_count": 22,
     "metadata": {},
     "output_type": "execute_result"
    }
   ],
   "source": [
    "# word_counts: a dictionary of words and their counts.\n",
    "word_t.word_counts['if'] # word count"
   ]
  },
  {
   "cell_type": "code",
   "execution_count": 23,
   "metadata": {},
   "outputs": [
    {
     "data": {
      "text/plain": [
       "'Number docs: 490,820'"
      ]
     },
     "execution_count": 23,
     "metadata": {},
     "output_type": "execute_result"
    }
   ],
   "source": [
    "# document_count: an integer count of the total number of documents that were used to fit the Tokenizer.\n",
    "'Number docs: {:,}'.format(word_t.document_count)"
   ]
  },
  {
   "cell_type": "code",
   "execution_count": 24,
   "metadata": {},
   "outputs": [
    {
     "data": {
      "text/plain": [
       "4"
      ]
     },
     "execution_count": 24,
     "metadata": {},
     "output_type": "execute_result"
    }
   ],
   "source": [
    "# word_index: a dictionary of words and their uniquely assigned integers.\n",
    "word_t.word_index['if'] # index"
   ]
  },
  {
   "cell_type": "code",
   "execution_count": 25,
   "metadata": {},
   "outputs": [
    {
     "data": {
      "text/plain": [
       "298487"
      ]
     },
     "execution_count": 25,
     "metadata": {},
     "output_type": "execute_result"
    }
   ],
   "source": [
    "# word_docs: a dictionary of words and how many documents each appeared in.\n",
    "word_t.word_docs['if']"
   ]
  },
  {
   "cell_type": "code",
   "execution_count": 27,
   "metadata": {
    "collapsed": true
   },
   "outputs": [],
   "source": [
    "sequences = word_t.texts_to_sequences(docs)"
   ]
  },
  {
   "cell_type": "code",
   "execution_count": 28,
   "metadata": {},
   "outputs": [
    {
     "data": {
      "text/plain": [
       "[17, 1, 358, 50, 1, 358, 6, 17, 3, 50]"
      ]
     },
     "execution_count": 28,
     "metadata": {},
     "output_type": "execute_result"
    }
   ],
   "source": [
    "sequences[0]"
   ]
  },
  {
   "cell_type": "markdown",
   "metadata": {},
   "source": [
    "Look at the lenght of these sequences:"
   ]
  },
  {
   "cell_type": "code",
   "execution_count": 29,
   "metadata": {
    "collapsed": true
   },
   "outputs": [],
   "source": [
    "len_seqs = [len(s) for s in sequences]"
   ]
  },
  {
   "cell_type": "code",
   "execution_count": 30,
   "metadata": {},
   "outputs": [
    {
     "data": {
      "text/plain": [
       "(38.591420480013042, 38.577314137088699, 2358)"
      ]
     },
     "execution_count": 30,
     "metadata": {},
     "output_type": "execute_result"
    }
   ],
   "source": [
    "np.mean(len_seqs), np.std(len_seqs), np.max(len_seqs)"
   ]
  },
  {
   "cell_type": "code",
   "execution_count": 31,
   "metadata": {
    "collapsed": true
   },
   "outputs": [],
   "source": [
    "MAX_LENGTH = 50"
   ]
  },
  {
   "cell_type": "markdown",
   "metadata": {},
   "source": [
    "Dictionary to transform a vector back to the program:"
   ]
  },
  {
   "cell_type": "code",
   "execution_count": 32,
   "metadata": {
    "collapsed": true
   },
   "outputs": [],
   "source": [
    "id_to_word = { v: k for k, v in word_t.word_index.items() }"
   ]
  },
  {
   "cell_type": "code",
   "execution_count": 33,
   "metadata": {},
   "outputs": [
    {
     "data": {
      "text/plain": [
       "u'='"
      ]
     },
     "execution_count": 33,
     "metadata": {},
     "output_type": "execute_result"
    }
   ],
   "source": [
    "id_to_word[1]"
   ]
  },
  {
   "cell_type": "code",
   "execution_count": 34,
   "metadata": {},
   "outputs": [
    {
     "data": {
      "text/plain": [
       "[u'a',\n",
       " u'=',\n",
       " u'int(raw_input())',\n",
       " u'b',\n",
       " u'=',\n",
       " u'int(raw_input())',\n",
       " u'print',\n",
       " u'a',\n",
       " u'+',\n",
       " u'b']"
      ]
     },
     "execution_count": 34,
     "metadata": {},
     "output_type": "execute_result"
    }
   ],
   "source": [
    "[id_to_word[index] for index in sequences[0]]"
   ]
  },
  {
   "cell_type": "markdown",
   "metadata": {
    "collapsed": true
   },
   "source": [
    "Pad documents:"
   ]
  },
  {
   "cell_type": "code",
   "execution_count": 35,
   "metadata": {
    "collapsed": true
   },
   "outputs": [],
   "source": [
    "from keras.preprocessing.sequence import pad_sequences"
   ]
  },
  {
   "cell_type": "code",
   "execution_count": 36,
   "metadata": {
    "collapsed": true
   },
   "outputs": [],
   "source": [
    "# pad documents\n",
    "padded_docs = pad_sequences(sequences, maxlen=MAX_LENGTH, padding='post')"
   ]
  },
  {
   "cell_type": "code",
   "execution_count": 37,
   "metadata": {},
   "outputs": [
    {
     "data": {
      "text/plain": [
       "array([ 17,   1, 358,  50,   1, 358,   6,  17,   3,  50,   0,   0,   0,\n",
       "         0,   0,   0,   0,   0,   0,   0,   0,   0,   0,   0,   0,   0,\n",
       "         0,   0,   0,   0,   0,   0,   0,   0,   0,   0,   0,   0,   0,\n",
       "         0,   0,   0,   0,   0,   0,   0,   0,   0,   0,   0], dtype=int32)"
      ]
     },
     "execution_count": 37,
     "metadata": {},
     "output_type": "execute_result"
    }
   ],
   "source": [
    "padded_docs[0]"
   ]
  },
  {
   "cell_type": "markdown",
   "metadata": {},
   "source": [
    "Model:"
   ]
  },
  {
   "cell_type": "code",
   "execution_count": 38,
   "metadata": {
    "collapsed": true
   },
   "outputs": [],
   "source": [
    "from keras.models import Sequential\n",
    "from keras.layers import Dense\n",
    "from keras.layers import Flatten\n",
    "from keras.layers.embeddings import Embedding"
   ]
  },
  {
   "cell_type": "code",
   "execution_count": 47,
   "metadata": {
    "collapsed": true
   },
   "outputs": [],
   "source": [
    "from keras import backend as K\n",
    "\n",
    "def f1(y_true, y_pred):\n",
    "    \n",
    "    def recall(y_true, y_pred):\n",
    "        \"\"\"Recall metric.\n",
    "\n",
    "        Only computes a batch-wise average of recall.\n",
    "\n",
    "        Computes the recall, a metric for multi-label classification of\n",
    "        how many relevant items are selected.\n",
    "        \"\"\"\n",
    "        true_positives = K.sum(K.round(K.clip(y_true * y_pred, 0, 1)))\n",
    "        possible_positives = K.sum(K.round(K.clip(y_true, 0, 1)))\n",
    "        recall = true_positives / (possible_positives + K.epsilon())\n",
    "        return recall\n",
    "\n",
    "    def precision(y_true, y_pred):\n",
    "        \"\"\"Precision metric.\n",
    "\n",
    "        Only computes a batch-wise average of precision.\n",
    "\n",
    "        Computes the precision, a metric for multi-label classification of\n",
    "        how many selected items are relevant.\n",
    "        \"\"\"\n",
    "        true_positives = K.sum(K.round(K.clip(y_true * y_pred, 0, 1)))\n",
    "        predicted_positives = K.sum(K.round(K.clip(y_pred, 0, 1)))\n",
    "        precision = true_positives / (predicted_positives + K.epsilon())\n",
    "        return precision\n",
    "    \n",
    "    precision = precision(y_true, y_pred)\n",
    "    recall = recall(y_true, y_pred)\n",
    "    return 2*((precision*recall)/(precision+recall+K.epsilon()))"
   ]
  },
  {
   "cell_type": "code",
   "execution_count": 57,
   "metadata": {
    "collapsed": true
   },
   "outputs": [],
   "source": [
    "def get_model():\n",
    "\n",
    "    # define the model\n",
    "    model = Sequential()\n",
    "    model.add(Embedding(NUM_WORDS, 100, input_length=MAX_LENGTH))\n",
    "    model.add(Flatten())\n",
    "    model.add(Dense(1, activation='sigmoid'))\n",
    "    # compile the model\n",
    "    model.compile(optimizer='adam', \n",
    "                  loss='binary_crossentropy', \n",
    "                  metrics=['acc', f1])\n",
    "    # summarize the model\n",
    "    print(model.summary())\n",
    "    return model"
   ]
  },
  {
   "cell_type": "code",
   "execution_count": 58,
   "metadata": {},
   "outputs": [
    {
     "name": "stdout",
     "output_type": "stream",
     "text": [
      "_________________________________________________________________\n",
      "Layer (type)                 Output Shape              Param #   \n",
      "=================================================================\n",
      "embedding_4 (Embedding)      (None, 50, 100)           200000    \n",
      "_________________________________________________________________\n",
      "flatten_4 (Flatten)          (None, 5000)              0         \n",
      "_________________________________________________________________\n",
      "dense_4 (Dense)              (None, 1)                 5001      \n",
      "=================================================================\n",
      "Total params: 205,001\n",
      "Trainable params: 205,001\n",
      "Non-trainable params: 0\n",
      "_________________________________________________________________\n",
      "None\n"
     ]
    }
   ],
   "source": [
    "model = get_model()"
   ]
  },
  {
   "cell_type": "code",
   "execution_count": 59,
   "metadata": {
    "collapsed": true
   },
   "outputs": [],
   "source": [
    "from sklearn.model_selection import train_test_split"
   ]
  },
  {
   "cell_type": "code",
   "execution_count": 60,
   "metadata": {},
   "outputs": [],
   "source": [
    "X_train, X_test, y_train, y_test = train_test_split(padded_docs, labels, test_size=0.2, random_state=0)"
   ]
  },
  {
   "cell_type": "code",
   "execution_count": 61,
   "metadata": {
    "scrolled": false
   },
   "outputs": [
    {
     "name": "stdout",
     "output_type": "stream",
     "text": [
      "Train on 314124 samples, validate on 78532 samples\n",
      "Epoch 1/10\n",
      "314124/314124 [==============================] - 58s 186us/step - loss: 0.5925 - acc: 0.6797 - f1: 0.5009 - val_loss: 0.5660 - val_acc: 0.7038 - val_f1: 0.5799\n",
      "Epoch 2/10\n",
      "314124/314124 [==============================] - 58s 185us/step - loss: 0.5347 - acc: 0.7256 - f1: 0.6145 - val_loss: 0.5557 - val_acc: 0.7095 - val_f1: 0.5807\n",
      "Epoch 3/10\n",
      "314124/314124 [==============================] - 59s 187us/step - loss: 0.5113 - acc: 0.7420 - f1: 0.6438 - val_loss: 0.5573 - val_acc: 0.7150 - val_f1: 0.5757\n",
      "Epoch 4/10\n",
      "314124/314124 [==============================] - 589s 2ms/step - loss: 0.4970 - acc: 0.7509 - f1: 0.6596 - val_loss: 0.5526 - val_acc: 0.7190 - val_f1: 0.5928\n",
      "Epoch 5/10\n",
      "314124/314124 [==============================] - 58s 186us/step - loss: 0.4868 - acc: 0.7582 - f1: 0.6710 - val_loss: 0.5529 - val_acc: 0.7244 - val_f1: 0.6251\n",
      "Epoch 6/10\n",
      "314124/314124 [==============================] - 59s 189us/step - loss: 0.4793 - acc: 0.7630 - f1: 0.6787 - val_loss: 0.5543 - val_acc: 0.7291 - val_f1: 0.6294\n",
      "Epoch 7/10\n",
      "314124/314124 [==============================] - 60s 192us/step - loss: 0.4737 - acc: 0.7661 - f1: 0.6837 - val_loss: 0.5531 - val_acc: 0.7300 - val_f1: 0.6267\n",
      "Epoch 8/10\n",
      "314124/314124 [==============================] - 58s 184us/step - loss: 0.4686 - acc: 0.7698 - f1: 0.6894 - val_loss: 0.5546 - val_acc: 0.7302 - val_f1: 0.6306\n",
      "Epoch 9/10\n",
      "314124/314124 [==============================] - 57s 183us/step - loss: 0.4645 - acc: 0.7722 - f1: 0.6936 - val_loss: 0.5569 - val_acc: 0.7310 - val_f1: 0.6371\n",
      "Epoch 10/10\n",
      "314124/314124 [==============================] - 57s 182us/step - loss: 0.4616 - acc: 0.7733 - f1: 0.6958 - val_loss: 0.5575 - val_acc: 0.7345 - val_f1: 0.6425\n"
     ]
    },
    {
     "data": {
      "text/plain": [
       "<keras.callbacks.History at 0x188337790>"
      ]
     },
     "execution_count": 61,
     "metadata": {},
     "output_type": "execute_result"
    }
   ],
   "source": [
    "# fit the model\n",
    "# model.fit(padded_docs, labels, epochs=2, verbose=1)\n",
    "\n",
    "model.fit(X_train, \n",
    "          y_train,\n",
    "          epochs=10,\n",
    "          validation_split=0.2)"
   ]
  },
  {
   "cell_type": "code",
   "execution_count": 62,
   "metadata": {},
   "outputs": [
    {
     "name": "stdout",
     "output_type": "stream",
     "text": [
      "98164/98164 [==============================] - 4s 44us/step\n",
      "Accuracy: 73.248849, F1: 64.109335\n"
     ]
    }
   ],
   "source": [
    "# evaluate the model\n",
    "word_loss, word_accuracy, word_f1 = model.evaluate(X_test, y_test, verbose=1)\n",
    "print('Accuracy: %f, F1: %f' % (word_accuracy * 100, word_f1 * 100))"
   ]
  },
  {
   "cell_type": "code",
   "execution_count": 63,
   "metadata": {
    "collapsed": true
   },
   "outputs": [],
   "source": [
    "word_score = {\n",
    "    'accuracy': word_accuracy,\n",
    "    'F1': word_f1,\n",
    "}\n",
    "embeddings_scores = { 'Word': word_score }"
   ]
  },
  {
   "cell_type": "code",
   "execution_count": 64,
   "metadata": {
    "collapsed": true
   },
   "outputs": [],
   "source": [
    "def get_embeddings(model):\n",
    "\n",
    "    # Embedding Layer\n",
    "    embedding_layer = model.layers[0]\n",
    "    embeddings = embedding_layer.get_weights()[0]\n",
    "    print 'Embedding Layer shape:', embeddings.shape\n",
    "    \n",
    "    return embeddings"
   ]
  },
  {
   "cell_type": "code",
   "execution_count": 65,
   "metadata": {},
   "outputs": [
    {
     "name": "stdout",
     "output_type": "stream",
     "text": [
      "Embedding Layer shape: (2000, 100)\n"
     ]
    }
   ],
   "source": [
    "embeddings = get_embeddings(model)"
   ]
  },
  {
   "cell_type": "code",
   "execution_count": 66,
   "metadata": {},
   "outputs": [
    {
     "data": {
      "text/plain": [
       "array([-0.0002703 , -0.02028703, -0.02261768,  0.0228202 , -0.01892408,\n",
       "       -0.01533403,  0.03816184,  0.01083327,  0.01291173,  0.01390106,\n",
       "       -0.01929445,  0.01245635, -0.01950408, -0.00285929,  0.00441168,\n",
       "       -0.01203742, -0.00051851, -0.0007111 ,  0.00874287,  0.0050099 ,\n",
       "       -0.00264154,  0.00644676, -0.00749543,  0.01290755, -0.00162339,\n",
       "        0.00932319, -0.01874615, -0.00491848,  0.00082686, -0.00422437,\n",
       "        0.00016597,  0.01962766,  0.00880893,  0.05274449, -0.0158693 ,\n",
       "        0.01371357,  0.0353712 , -0.00428436, -0.03806661, -0.01819082,\n",
       "       -0.01822764, -0.00397752, -0.0105728 ,  0.01799194, -0.01581701,\n",
       "       -0.00648104, -0.01479556,  0.00472498,  0.00229366, -0.01438559,\n",
       "       -0.02122541, -0.010853  ,  0.00981577,  0.02842358,  0.01343832,\n",
       "        0.01597697,  0.00683736, -0.01073337,  0.01445546,  0.01008323,\n",
       "       -0.00385681, -0.01900307,  0.0065881 ,  0.00958926,  0.00908761,\n",
       "       -0.00433705, -0.02886911, -0.00589604,  0.02263533,  0.00304699,\n",
       "       -0.01841941,  0.00552244,  0.03722139, -0.00975823,  0.00058099,\n",
       "       -0.00015325, -0.00733795,  0.00192836,  0.0106781 , -0.02166763,\n",
       "       -0.01821299,  0.02636791,  0.00696944, -0.02396008, -0.03374613,\n",
       "        0.00560241,  0.0082827 , -0.00949343, -0.01416815,  0.00070531,\n",
       "       -0.00014335, -0.00547743,  0.02487339,  0.01905502, -0.01646334,\n",
       "        0.02664602, -0.00945205,  0.00464745,  0.01488154,  0.01436622], dtype=float32)"
      ]
     },
     "execution_count": 66,
     "metadata": {},
     "output_type": "execute_result"
    }
   ],
   "source": [
    "embeddings[0]"
   ]
  },
  {
   "cell_type": "code",
   "execution_count": 67,
   "metadata": {
    "collapsed": true
   },
   "outputs": [],
   "source": [
    "# np.save('data/processed/word_embeddings', embeddings)"
   ]
  },
  {
   "cell_type": "code",
   "execution_count": 68,
   "metadata": {
    "collapsed": true
   },
   "outputs": [],
   "source": [
    "from sklearn.decomposition import PCA\n",
    "\n",
    "def get_pca(embeddings):\n",
    "\n",
    "    # PCA\n",
    "    pca = PCA(n_components=2)\n",
    "    principal_components = pca.fit_transform(embeddings)\n",
    "    print 'PCA explained variance ratio:', pca.explained_variance_ratio_, 'Total:', sum(pca.explained_variance_ratio_)\n",
    "    return principal_components"
   ]
  },
  {
   "cell_type": "code",
   "execution_count": 69,
   "metadata": {},
   "outputs": [
    {
     "name": "stdout",
     "output_type": "stream",
     "text": [
      "PCA explained variance ratio: [ 0.11852997  0.04994293] Total: 0.168472900987\n"
     ]
    }
   ],
   "source": [
    "pca = get_pca(embeddings)"
   ]
  },
  {
   "cell_type": "code",
   "execution_count": 70,
   "metadata": {
    "collapsed": true
   },
   "outputs": [],
   "source": [
    "def get_top_words(tokenizer, N=50):\n",
    "    \n",
    "    return [word for word, occurrences in sorted(tokenizer.word_counts.items(), key=lambda t: t[1], reverse=True)[:N]]"
   ]
  },
  {
   "cell_type": "code",
   "execution_count": 71,
   "metadata": {
    "collapsed": true
   },
   "outputs": [],
   "source": [
    "top_words = get_top_words(word_t)"
   ]
  },
  {
   "cell_type": "code",
   "execution_count": 72,
   "metadata": {
    "collapsed": true
   },
   "outputs": [],
   "source": [
    "def plot_embeddings(low_dim_embs, id_to_word, top_words, figsize=(8, 8)):\n",
    "\n",
    "    plt.figure(figsize=figsize, dpi=100)\n",
    "    ax = plt.axes()\n",
    "    ax.yaxis.set_major_locator(plt.NullLocator())\n",
    "    ax.xaxis.set_major_locator(plt.NullLocator())\n",
    "    i = 0\n",
    "    while i < len(low_dim_embs):\n",
    "\n",
    "        if i in id_to_word:\n",
    "            \n",
    "            x, y = low_dim_embs[i, :]\n",
    "            word = id_to_word[i]\n",
    "\n",
    "            if word in top_words:\n",
    "                plt.scatter(x, y, color='b')\n",
    "                plt.annotate(word,\n",
    "                            xy=(x, y),\n",
    "                            xytext=(5, 2),\n",
    "                            textcoords='offset points',\n",
    "                            ha='right',\n",
    "                            va='bottom',\n",
    "                            fontsize=14)\n",
    "        \n",
    "        i += 1"
   ]
  },
  {
   "cell_type": "code",
   "execution_count": 73,
   "metadata": {
    "scrolled": false
   },
   "outputs": [
    {
     "data": {
      "image/png": "[encoded data removed]",
      "text/plain": [
       "<matplotlib.figure.Figure at 0x19b9a9950>"
      ]
     },
     "metadata": {},
     "output_type": "display_data"
    }
   ],
   "source": [
    "plot_embeddings(pca, id_to_word, top_words, figsize=(18, 18))"
   ]
  },
  {
   "cell_type": "code",
   "execution_count": 74,
   "metadata": {},
   "outputs": [
    {
     "data": {
      "image/png": "[encoded data removed]",
      "text/plain": [
       "<matplotlib.figure.Figure at 0x189005e90>"
      ]
     },
     "metadata": {},
     "output_type": "display_data"
    }
   ],
   "source": [
    "plot_embeddings(pca, id_to_word, get_top_words(word_t, 20))"
   ]
  },
  {
   "cell_type": "markdown",
   "metadata": {},
   "source": [
    "Measure the distance between vectors:"
   ]
  },
  {
   "cell_type": "code",
   "execution_count": 75,
   "metadata": {
    "collapsed": true
   },
   "outputs": [],
   "source": [
    "from scipy.spatial.distance import euclidean, cosine\n",
    "\n",
    "def get_vector_distance(embeddings, tok, word1, word2):\n",
    "    \n",
    "    return euclidean(embeddings[tok.word_index[word1]], \n",
    "                     embeddings[tok.word_index[word2]])\n",
    "    \n",
    "def get_vector_cosine_distance(embeddings, tok, word1, word2):\n",
    "    \n",
    "    return cosine(embeddings[tok.word_index[word1]], \n",
    "                  embeddings[tok.word_index[word2]])"
   ]
  },
  {
   "cell_type": "markdown",
   "metadata": {},
   "source": [
    "Cosine similarity:"
   ]
  },
  {
   "cell_type": "code",
   "execution_count": 76,
   "metadata": {},
   "outputs": [
    {
     "data": {
      "text/plain": [
       "0.92414571880089835"
      ]
     },
     "execution_count": 76,
     "metadata": {},
     "output_type": "execute_result"
    }
   ],
   "source": [
    "get_vector_cosine_distance(embeddings, word_t, '<', '>')"
   ]
  },
  {
   "cell_type": "code",
   "execution_count": 77,
   "metadata": {},
   "outputs": [
    {
     "data": {
      "text/plain": [
       "0.9435312406626376"
      ]
     },
     "execution_count": 77,
     "metadata": {},
     "output_type": "execute_result"
    }
   ],
   "source": [
    "get_vector_cosine_distance(embeddings, word_t, 'elif', 'else:')"
   ]
  },
  {
   "cell_type": "code",
   "execution_count": 78,
   "metadata": {},
   "outputs": [
    {
     "data": {
      "text/plain": [
       "0.88456141482856976"
      ]
     },
     "execution_count": 78,
     "metadata": {},
     "output_type": "execute_result"
    }
   ],
   "source": [
    "get_vector_cosine_distance(embeddings, word_t, '+', '-')"
   ]
  },
  {
   "cell_type": "code",
   "execution_count": 224,
   "metadata": {},
   "outputs": [
    {
     "data": {
      "text/plain": [
       "0.91360234699101939"
      ]
     },
     "execution_count": 224,
     "metadata": {},
     "output_type": "execute_result"
    }
   ],
   "source": [
    "get_vector_cosine_distance(embeddings, word_t, '(', ')')"
   ]
  },
  {
   "cell_type": "code",
   "execution_count": 225,
   "metadata": {},
   "outputs": [
    {
     "data": {
      "text/plain": [
       "0.979229788224945"
      ]
     },
     "execution_count": 225,
     "metadata": {},
     "output_type": "execute_result"
    }
   ],
   "source": [
    "get_vector_cosine_distance(embeddings, word_t, '[', ']')"
   ]
  },
  {
   "cell_type": "code",
   "execution_count": 226,
   "metadata": {},
   "outputs": [
    {
     "data": {
      "text/plain": [
       "0.68487485100614776"
      ]
     },
     "execution_count": 226,
     "metadata": {},
     "output_type": "execute_result"
    }
   ],
   "source": [
    "get_vector_cosine_distance(embeddings, word_t, 'if', 'else')"
   ]
  },
  {
   "cell_type": "code",
   "execution_count": 227,
   "metadata": {},
   "outputs": [
    {
     "data": {
      "text/plain": [
       "1.0735195755014035"
      ]
     },
     "execution_count": 227,
     "metadata": {},
     "output_type": "execute_result"
    }
   ],
   "source": [
    "get_vector_cosine_distance(embeddings, word_t, 'elif', 'else')"
   ]
  },
  {
   "cell_type": "code",
   "execution_count": 228,
   "metadata": {},
   "outputs": [
    {
     "data": {
      "text/plain": [
       "0.97326813616495045"
      ]
     },
     "execution_count": 228,
     "metadata": {},
     "output_type": "execute_result"
    }
   ],
   "source": [
    "get_vector_cosine_distance(embeddings, word_t, 'if', 'elif')"
   ]
  },
  {
   "cell_type": "code",
   "execution_count": 229,
   "metadata": {},
   "outputs": [
    {
     "data": {
      "text/plain": [
       "0.88568378597547437"
      ]
     },
     "execution_count": 229,
     "metadata": {},
     "output_type": "execute_result"
    }
   ],
   "source": [
    "get_vector_cosine_distance(embeddings, word_t, '}', ']')"
   ]
  },
  {
   "cell_type": "code",
   "execution_count": 230,
   "metadata": {},
   "outputs": [
    {
     "data": {
      "text/plain": [
       "1.1822210022121307"
      ]
     },
     "execution_count": 230,
     "metadata": {},
     "output_type": "execute_result"
    }
   ],
   "source": [
    "get_vector_cosine_distance(embeddings, word_t, '{', '[')"
   ]
  },
  {
   "cell_type": "markdown",
   "metadata": {},
   "source": [
    "Euclidean distance:"
   ]
  },
  {
   "cell_type": "code",
   "execution_count": 79,
   "metadata": {
    "scrolled": false
   },
   "outputs": [
    {
     "data": {
      "text/plain": [
       "1.3719608783721924"
      ]
     },
     "execution_count": 79,
     "metadata": {},
     "output_type": "execute_result"
    }
   ],
   "source": [
    "get_vector_distance(embeddings, word_t, '<', '>')"
   ]
  },
  {
   "cell_type": "code",
   "execution_count": 80,
   "metadata": {},
   "outputs": [
    {
     "data": {
      "text/plain": [
       "1.3409624099731445"
      ]
     },
     "execution_count": 80,
     "metadata": {},
     "output_type": "execute_result"
    }
   ],
   "source": [
    "get_vector_distance(embeddings, word_t, '==', '!=')"
   ]
  },
  {
   "cell_type": "code",
   "execution_count": 81,
   "metadata": {},
   "outputs": [
    {
     "data": {
      "text/plain": [
       "1.2262580394744873"
      ]
     },
     "execution_count": 81,
     "metadata": {},
     "output_type": "execute_result"
    }
   ],
   "source": [
    "get_vector_distance(embeddings, word_t, 'if', 'elif')"
   ]
  },
  {
   "cell_type": "code",
   "execution_count": 82,
   "metadata": {},
   "outputs": [
    {
     "data": {
      "text/plain": [
       "1.2601438760757446"
      ]
     },
     "execution_count": 82,
     "metadata": {},
     "output_type": "execute_result"
    }
   ],
   "source": [
    "get_vector_distance(embeddings, word_t, 'elif', 'else:')"
   ]
  },
  {
   "cell_type": "code",
   "execution_count": 83,
   "metadata": {},
   "outputs": [
    {
     "data": {
      "text/plain": [
       "1.295180082321167"
      ]
     },
     "execution_count": 83,
     "metadata": {},
     "output_type": "execute_result"
    }
   ],
   "source": [
    "get_vector_distance(embeddings, word_t, '+', '-')"
   ]
  },
  {
   "cell_type": "code",
   "execution_count": 84,
   "metadata": {
    "scrolled": true
   },
   "outputs": [
    {
     "data": {
      "text/plain": [
       "1.246814489364624"
      ]
     },
     "execution_count": 84,
     "metadata": {},
     "output_type": "execute_result"
    }
   ],
   "source": [
    "get_vector_distance(embeddings, word_t, 'for', 'while')"
   ]
  },
  {
   "cell_type": "code",
   "execution_count": 85,
   "metadata": {
    "scrolled": true
   },
   "outputs": [
    {
     "data": {
      "text/plain": [
       "1.0941377878189087"
      ]
     },
     "execution_count": 85,
     "metadata": {},
     "output_type": "execute_result"
    }
   ],
   "source": [
    "get_vector_distance(embeddings, word_t, 'def', 'import')"
   ]
  },
  {
   "cell_type": "code",
   "execution_count": 86,
   "metadata": {
    "collapsed": true
   },
   "outputs": [],
   "source": [
    "def get_neighbors(word, emb, tok, id_to_item, top_n=5):\n",
    "\n",
    "    dist = {}\n",
    "    i = 0\n",
    "    while i < len(emb):\n",
    "\n",
    "        if i in id_to_item:\n",
    "            w = id_to_item[i]\n",
    "            if w != word:\n",
    "                dist[w] = get_vector_cosine_distance(emb, tok, word, w)\n",
    "        \n",
    "        i += 1\n",
    "\n",
    "    for key, value in sorted(dist.iteritems(), key=lambda (k,v): (v,k), reverse=True)[:top_n]:\n",
    "        print \"%s: %s\" % (key, value)"
   ]
  },
  {
   "cell_type": "code",
   "execution_count": 87,
   "metadata": {},
   "outputs": [
    {
     "name": "stdout",
     "output_type": "stream",
     "text": [
      "print(\"insufficient: 1.52704280768\n",
      "world.\\n\"): 1.51390811269\n",
      "self.tid: 1.51367161469\n",
      "60: 1.50495967003\n",
      "product: 1.47443927989\n"
     ]
    }
   ],
   "source": [
    "get_neighbors('if', embeddings, word_t, id_to_word)"
   ]
  },
  {
   "cell_type": "code",
   "execution_count": 88,
   "metadata": {},
   "outputs": [
    {
     "name": "stdout",
     "output_type": "stream",
     "text": [
      "has_access(self,: 1.47624565182\n",
      "int(a[i]): 1.46347701144\n",
      "\"second: 1.44685963991\n",
      "neg,: 1.44645168633\n",
      "good: 1.44191358578\n"
     ]
    }
   ],
   "source": [
    "get_neighbors('+', embeddings, word_t, id_to_word)"
   ]
  },
  {
   "cell_type": "code",
   "execution_count": 89,
   "metadata": {},
   "outputs": [
    {
     "name": "stdout",
     "output_type": "stream",
     "text": [
      "len(sys.argv):: 1.45206182292\n",
      "'6',: 1.43055473479\n",
      "{\r",
      ": 1.42782318718\n",
      "(other.y-self.y)**2)**0.5: 1.40851274913\n",
      "nd: 1.3960969415\n"
     ]
    }
   ],
   "source": [
    "get_neighbors('for', embeddings, word_t, id_to_word)"
   ]
  },
  {
   "cell_type": "code",
   "execution_count": 90,
   "metadata": {},
   "outputs": [
    {
     "name": "stdout",
     "output_type": "stream",
     "text": [
      "f1: 1.51956247114\n",
      "print('insufficient: 1.51131176254\n",
      "radius):: 1.48729861409\n",
      "firstname: 1.46758685663\n",
      "\"5\":: 1.46254252608\n"
     ]
    }
   ],
   "source": [
    "get_neighbors('1', embeddings, word_t, id_to_word)"
   ]
  },
  {
   "cell_type": "code",
   "execution_count": 91,
   "metadata": {},
   "outputs": [
    {
     "name": "stdout",
     "output_type": "stream",
     "text": [
      "print(\"insufficient: 1.64250782936\n",
      "world.\\n\"): 1.5978234935\n",
      "goals=0,: 1.58450300778\n",
      "__len__(self):: 1.56995006831\n",
      "return: 1.56883916501\n"
     ]
    }
   ],
   "source": [
    "get_neighbors('def', embeddings, word_t, id_to_word)"
   ]
  },
  {
   "cell_type": "markdown",
   "metadata": {},
   "source": [
    "## 2) Programs as tokens"
   ]
  },
  {
   "cell_type": "code",
   "execution_count": 151,
   "metadata": {
    "collapsed": true
   },
   "outputs": [],
   "source": [
    "from tokenize import generate_tokens\n",
    "from StringIO import StringIO"
   ]
  },
  {
   "cell_type": "code",
   "execution_count": 152,
   "metadata": {
    "collapsed": true
   },
   "outputs": [],
   "source": [
    "token_ids = []\n",
    "token_words = []\n",
    "token_labels = []\n",
    "i = 0\n",
    "while i < len(docs):\n",
    "    doc = docs[i]\n",
    "    label = labels[i]\n",
    "    try:\n",
    "        tokens = [(t[0], t[1]) for t in list(generate_tokens(StringIO(doc).readline))]\n",
    "        # Token ID\n",
    "        token_ids.append(\n",
    "            [token[0] for token in tokens]\n",
    "        )\n",
    "        # Token\n",
    "        token_words.append(\n",
    "            [token[1] for token in tokens]\n",
    "        )\n",
    "        token_labels.append(\n",
    "            label\n",
    "        )\n",
    "    except:\n",
    "        pass\n",
    "    i += 1"
   ]
  },
  {
   "cell_type": "markdown",
   "metadata": {},
   "source": [
    "### 2.1) Token words"
   ]
  },
  {
   "cell_type": "code",
   "execution_count": 153,
   "metadata": {},
   "outputs": [
    {
     "data": {
      "text/plain": [
       "'Number encoded docs: 472,087'"
      ]
     },
     "execution_count": 153,
     "metadata": {},
     "output_type": "execute_result"
    }
   ],
   "source": [
    "'Number encoded docs: {:,}'.format(len(token_words))"
   ]
  },
  {
   "cell_type": "code",
   "execution_count": 154,
   "metadata": {
    "collapsed": true
   },
   "outputs": [],
   "source": [
    "token_docs = [\n",
    "    ' '.join(array) for array in token_words\n",
    "]"
   ]
  },
  {
   "cell_type": "code",
   "execution_count": 155,
   "metadata": {
    "collapsed": true
   },
   "outputs": [],
   "source": [
    "token_t = get_tokenizer()\n",
    "\n",
    "token_t.fit_on_texts(token_docs)"
   ]
  },
  {
   "cell_type": "code",
   "execution_count": 157,
   "metadata": {
    "collapsed": true
   },
   "outputs": [],
   "source": [
    "token_sequences = token_t.texts_to_sequences(token_docs)\n",
    "\n",
    "id_to_token = { v: k for k, v in token_t.word_index.items() }\n",
    "\n",
    "token_padded_docs = pad_sequences(token_sequences, maxlen=MAX_LENGTH, padding='post')"
   ]
  },
  {
   "cell_type": "code",
   "execution_count": 158,
   "metadata": {
    "collapsed": true
   },
   "outputs": [],
   "source": [
    "X_train, X_test, y_train, y_test = train_test_split(token_padded_docs, token_labels, test_size=0.2, random_state=0)"
   ]
  },
  {
   "cell_type": "code",
   "execution_count": 159,
   "metadata": {},
   "outputs": [
    {
     "name": "stdout",
     "output_type": "stream",
     "text": [
      "_________________________________________________________________\n",
      "Layer (type)                 Output Shape              Param #   \n",
      "=================================================================\n",
      "embedding_9 (Embedding)      (None, 50, 100)           200000    \n",
      "_________________________________________________________________\n",
      "flatten_9 (Flatten)          (None, 5000)              0         \n",
      "_________________________________________________________________\n",
      "dense_9 (Dense)              (None, 1)                 5001      \n",
      "=================================================================\n",
      "Total params: 205,001\n",
      "Trainable params: 205,001\n",
      "Non-trainable params: 0\n",
      "_________________________________________________________________\n",
      "None\n"
     ]
    }
   ],
   "source": [
    "token_model = get_model()"
   ]
  },
  {
   "cell_type": "code",
   "execution_count": 160,
   "metadata": {},
   "outputs": [
    {
     "name": "stdout",
     "output_type": "stream",
     "text": [
      "Train on 302135 samples, validate on 75534 samples\n",
      "Epoch 1/10\n",
      "302135/302135 [==============================] - 57s 187us/step - loss: 0.5791 - acc: 0.6928 - f1: 0.5494 - val_loss: 0.5473 - val_acc: 0.7180 - val_f1: 0.6024\n",
      "Epoch 2/10\n",
      "302135/302135 [==============================] - 60s 200us/step - loss: 0.5185 - acc: 0.7385 - f1: 0.6507 - val_loss: 0.5322 - val_acc: 0.7330 - val_f1: 0.6432\n",
      "Epoch 3/10\n",
      "302135/302135 [==============================] - 61s 201us/step - loss: 0.4954 - acc: 0.7545 - f1: 0.6769 - val_loss: 0.5316 - val_acc: 0.7369 - val_f1: 0.6802\n",
      "Epoch 4/10\n",
      "302135/302135 [==============================] - 61s 202us/step - loss: 0.4819 - acc: 0.7628 - f1: 0.6899 - val_loss: 0.5258 - val_acc: 0.7403 - val_f1: 0.6550\n",
      "Epoch 5/10\n",
      "302135/302135 [==============================] - 62s 206us/step - loss: 0.4721 - acc: 0.7694 - f1: 0.7003 - val_loss: 0.5261 - val_acc: 0.7437 - val_f1: 0.6584\n",
      "Epoch 6/10\n",
      "302135/302135 [==============================] - 62s 204us/step - loss: 0.4654 - acc: 0.7728 - f1: 0.7047 - val_loss: 0.5259 - val_acc: 0.7440 - val_f1: 0.6636\n",
      "Epoch 7/10\n",
      "302135/302135 [==============================] - 63s 209us/step - loss: 0.4598 - acc: 0.7759 - f1: 0.7096 - val_loss: 0.5338 - val_acc: 0.7436 - val_f1: 0.6818\n",
      "Epoch 8/10\n",
      "302135/302135 [==============================] - 62s 206us/step - loss: 0.4553 - acc: 0.7792 - f1: 0.7147 - val_loss: 0.5270 - val_acc: 0.7477 - val_f1: 0.6695\n",
      "Epoch 9/10\n",
      "302135/302135 [==============================] - 62s 205us/step - loss: 0.4521 - acc: 0.7808 - f1: 0.7167 - val_loss: 0.5295 - val_acc: 0.7488 - val_f1: 0.6698\n",
      "Epoch 10/10\n",
      "302135/302135 [==============================] - 61s 200us/step - loss: 0.4495 - acc: 0.7828 - f1: 0.7200 - val_loss: 0.5275 - val_acc: 0.7487 - val_f1: 0.6712\n"
     ]
    },
    {
     "data": {
      "text/plain": [
       "<keras.callbacks.History at 0x1a434bc10>"
      ]
     },
     "execution_count": 160,
     "metadata": {},
     "output_type": "execute_result"
    }
   ],
   "source": [
    "token_model.fit(X_train, \n",
    "                y_train,\n",
    "                epochs=10,\n",
    "                validation_split=0.2)"
   ]
  },
  {
   "cell_type": "code",
   "execution_count": 161,
   "metadata": {},
   "outputs": [
    {
     "name": "stdout",
     "output_type": "stream",
     "text": [
      "94418/94418 [==============================] - 5s 54us/step\n",
      "Accuracy: 74.930628, F1: 67.186247\n"
     ]
    }
   ],
   "source": [
    "token_loss, token_accuracy, token_f1 = token_model.evaluate(X_test, y_test, verbose=1)\n",
    "print('Accuracy: %f, F1: %f' % (token_accuracy * 100, token_f1 * 100))"
   ]
  },
  {
   "cell_type": "code",
   "execution_count": 162,
   "metadata": {
    "collapsed": true
   },
   "outputs": [],
   "source": [
    "token_score = {\n",
    "    'accuracy': token_accuracy,\n",
    "    'F1': token_f1,\n",
    "}\n",
    "embeddings_scores['Word Token'] = token_score"
   ]
  },
  {
   "cell_type": "code",
   "execution_count": 163,
   "metadata": {},
   "outputs": [
    {
     "name": "stdout",
     "output_type": "stream",
     "text": [
      "Embedding Layer shape: (2000, 100)\n"
     ]
    },
    {
     "data": {
      "text/plain": [
       "array([ 0.00072479, -0.02052157,  0.50440717, -0.00903519,  0.04234074,\n",
       "        0.12038743, -0.02207636, -0.00696837, -0.00130028, -0.01148118,\n",
       "       -0.0078795 ,  0.02692166,  0.00568148, -0.02150124, -0.03917861,\n",
       "       -0.02477813, -0.00632054,  0.03963936, -0.03346051,  0.0483523 ,\n",
       "        0.01883694, -0.01435367, -0.02609761,  0.03500605, -0.02925364,\n",
       "       -0.08767537,  0.02706289, -0.02316153,  0.2480056 , -0.04850652,\n",
       "       -0.08744363,  0.05964858, -0.03151005,  0.01287291, -0.02764473,\n",
       "        0.04258429,  0.01432234,  0.00060787, -0.05794092, -0.06143057,\n",
       "        0.01501871,  0.03372134,  0.02822773, -0.02163382, -0.09369714,\n",
       "       -0.052266  , -0.03405398,  0.06797212,  0.11147149,  0.00561103,\n",
       "       -0.01806187, -0.01705568, -0.06086912, -0.05157892,  0.0188651 ,\n",
       "       -0.02768829, -0.01973091,  0.06955002,  0.03145476,  0.12540318,\n",
       "       -0.02254543, -0.00692841,  0.07388515,  0.01790626,  0.05653234,\n",
       "        0.03024505, -0.00812463, -0.01331639, -0.01072805, -0.01418439,\n",
       "        0.00057747,  0.05005883,  0.00474004,  0.01445254,  0.11357141,\n",
       "        0.02460223,  0.00240895,  0.00108732, -0.02401818,  0.05524622,\n",
       "       -0.01939926, -0.02521099,  0.03483051, -0.00267182,  0.00361796,\n",
       "        0.07004543,  0.0308401 , -0.25656489,  0.04478014, -0.04932189,\n",
       "       -0.04723757,  0.03064149,  0.05049974, -0.0229608 ,  0.01652713,\n",
       "        0.01269171,  0.02327267, -0.01962497,  0.0016839 , -0.03157282], dtype=float32)"
      ]
     },
     "execution_count": 163,
     "metadata": {},
     "output_type": "execute_result"
    }
   ],
   "source": [
    "token_embeddings = get_embeddings(token_model)\n",
    "\n",
    "token_embeddings[0]"
   ]
  },
  {
   "cell_type": "code",
   "execution_count": 164,
   "metadata": {
    "collapsed": true
   },
   "outputs": [],
   "source": [
    "# np.save('data/processed/token_embeddings', token_embeddings)"
   ]
  },
  {
   "cell_type": "code",
   "execution_count": 165,
   "metadata": {},
   "outputs": [
    {
     "name": "stdout",
     "output_type": "stream",
     "text": [
      "PCA explained variance ratio: [ 0.12184481  0.05027986] Total: 0.172124672681\n"
     ]
    }
   ],
   "source": [
    "token_pca = get_pca(token_embeddings)\n",
    "\n",
    "token_top_words = get_top_words(token_t, N=100)"
   ]
  },
  {
   "cell_type": "code",
   "execution_count": 166,
   "metadata": {},
   "outputs": [
    {
     "data": {
      "image/png": "[encoded data removed]",
      "text/plain": [
       "<matplotlib.figure.Figure at 0x1ab85094d0>"
      ]
     },
     "metadata": {},
     "output_type": "display_data"
    }
   ],
   "source": [
    "plot_embeddings(token_pca, id_to_token, token_top_words, figsize=(18, 18))"
   ]
  },
  {
   "cell_type": "code",
   "execution_count": 167,
   "metadata": {},
   "outputs": [
    {
     "data": {
      "image/png": "[encoded data removed]",
      "text/plain": [
       "<matplotlib.figure.Figure at 0x163c1edd0>"
      ]
     },
     "metadata": {},
     "output_type": "display_data"
    }
   ],
   "source": [
    "plot_embeddings(token_pca, id_to_token, get_top_words(token_t, 20))"
   ]
  },
  {
   "cell_type": "markdown",
   "metadata": {},
   "source": [
    "Distances:"
   ]
  },
  {
   "cell_type": "code",
   "execution_count": 168,
   "metadata": {},
   "outputs": [
    {
     "data": {
      "text/plain": [
       "0.77854140839502273"
      ]
     },
     "execution_count": 168,
     "metadata": {},
     "output_type": "execute_result"
    }
   ],
   "source": [
    "get_vector_cosine_distance(token_embeddings, token_t, '<', '>')"
   ]
  },
  {
   "cell_type": "code",
   "execution_count": 169,
   "metadata": {},
   "outputs": [
    {
     "data": {
      "text/plain": [
       "0.85475090437678736"
      ]
     },
     "execution_count": 169,
     "metadata": {},
     "output_type": "execute_result"
    }
   ],
   "source": [
    "get_vector_cosine_distance(token_embeddings, token_t, '+', '-')"
   ]
  },
  {
   "cell_type": "code",
   "execution_count": 170,
   "metadata": {},
   "outputs": [
    {
     "data": {
      "text/plain": [
       "0.64291008215940637"
      ]
     },
     "execution_count": 170,
     "metadata": {},
     "output_type": "execute_result"
    }
   ],
   "source": [
    "get_vector_cosine_distance(token_embeddings, token_t, 'if', 'elif')"
   ]
  },
  {
   "cell_type": "code",
   "execution_count": 171,
   "metadata": {},
   "outputs": [
    {
     "data": {
      "text/plain": [
       "1.0823600911808395"
      ]
     },
     "execution_count": 171,
     "metadata": {},
     "output_type": "execute_result"
    }
   ],
   "source": [
    "get_vector_cosine_distance(token_embeddings, token_t, 'elif', 'else')"
   ]
  },
  {
   "cell_type": "code",
   "execution_count": 172,
   "metadata": {},
   "outputs": [
    {
     "data": {
      "text/plain": [
       "0.91936568065650559"
      ]
     },
     "execution_count": 172,
     "metadata": {},
     "output_type": "execute_result"
    }
   ],
   "source": [
    "get_vector_cosine_distance(token_embeddings, token_t, '}', ']')"
   ]
  },
  {
   "cell_type": "code",
   "execution_count": 173,
   "metadata": {},
   "outputs": [
    {
     "name": "stdout",
     "output_type": "stream",
     "text": [
      "3.666659832\n"
     ]
    }
   ],
   "source": [
    "# vector('Paris') - vector('France') + vector('Italy') results in a vector that is very close to vector('Rome')\n",
    "vector = np.add( \n",
    "    np.subtract(token_embeddings[token_t.word_index['elif']], token_embeddings[token_t.word_index['else']]),\n",
    "    token_embeddings[token_t.word_index['}']]\n",
    ")\n",
    "\n",
    "print euclidean(token_embeddings[token_t.word_index[']']], \n",
    "                vector)        "
   ]
  },
  {
   "cell_type": "code",
   "execution_count": 174,
   "metadata": {},
   "outputs": [
    {
     "data": {
      "text/plain": [
       "0.69620593862200586"
      ]
     },
     "execution_count": 174,
     "metadata": {},
     "output_type": "execute_result"
    }
   ],
   "source": [
    "get_vector_cosine_distance(token_embeddings, token_t, 'for', 'while')"
   ]
  },
  {
   "cell_type": "code",
   "execution_count": 175,
   "metadata": {},
   "outputs": [
    {
     "data": {
      "text/plain": [
       "0.50584006107518276"
      ]
     },
     "execution_count": 175,
     "metadata": {},
     "output_type": "execute_result"
    }
   ],
   "source": [
    "get_vector_cosine_distance(token_embeddings, token_t, '{', '}')"
   ]
  },
  {
   "cell_type": "code",
   "execution_count": 176,
   "metadata": {
    "scrolled": true
   },
   "outputs": [
    {
     "data": {
      "text/plain": [
       "1.2447620443116354"
      ]
     },
     "execution_count": 176,
     "metadata": {},
     "output_type": "execute_result"
    }
   ],
   "source": [
    "get_vector_cosine_distance(token_embeddings, token_t, '(', ')')"
   ]
  },
  {
   "cell_type": "code",
   "execution_count": 177,
   "metadata": {},
   "outputs": [
    {
     "data": {
      "text/plain": [
       "1.0849889949197886"
      ]
     },
     "execution_count": 177,
     "metadata": {},
     "output_type": "execute_result"
    }
   ],
   "source": [
    "get_vector_cosine_distance(token_embeddings, token_t, '[', ']')"
   ]
  },
  {
   "cell_type": "markdown",
   "metadata": {},
   "source": [
    "Euclidean:"
   ]
  },
  {
   "cell_type": "code",
   "execution_count": 178,
   "metadata": {},
   "outputs": [
    {
     "data": {
      "text/plain": [
       "1.534757137298584"
      ]
     },
     "execution_count": 178,
     "metadata": {},
     "output_type": "execute_result"
    }
   ],
   "source": [
    "get_vector_distance(token_embeddings, token_t, '<', '>')"
   ]
  },
  {
   "cell_type": "code",
   "execution_count": 179,
   "metadata": {},
   "outputs": [
    {
     "data": {
      "text/plain": [
       "1.3998416662216187"
      ]
     },
     "execution_count": 179,
     "metadata": {},
     "output_type": "execute_result"
    }
   ],
   "source": [
    "get_vector_distance(token_embeddings, token_t, '+', '-')"
   ]
  },
  {
   "cell_type": "code",
   "execution_count": 180,
   "metadata": {},
   "outputs": [
    {
     "data": {
      "text/plain": [
       "1.3488528728485107"
      ]
     },
     "execution_count": 180,
     "metadata": {},
     "output_type": "execute_result"
    }
   ],
   "source": [
    "get_vector_distance(token_embeddings, token_t, '==', '!=')"
   ]
  },
  {
   "cell_type": "code",
   "execution_count": 181,
   "metadata": {},
   "outputs": [
    {
     "data": {
      "text/plain": [
       "1.7410444021224976"
      ]
     },
     "execution_count": 181,
     "metadata": {},
     "output_type": "execute_result"
    }
   ],
   "source": [
    "get_vector_distance(token_embeddings, token_t, 'if', 'elif')"
   ]
  },
  {
   "cell_type": "code",
   "execution_count": 182,
   "metadata": {},
   "outputs": [
    {
     "data": {
      "text/plain": [
       "2.0594475269317627"
      ]
     },
     "execution_count": 182,
     "metadata": {},
     "output_type": "execute_result"
    }
   ],
   "source": [
    "get_vector_distance(token_embeddings, token_t, 'elif', 'else')"
   ]
  },
  {
   "cell_type": "code",
   "execution_count": 183,
   "metadata": {},
   "outputs": [
    {
     "data": {
      "text/plain": [
       "3.9768710136413574"
      ]
     },
     "execution_count": 183,
     "metadata": {},
     "output_type": "execute_result"
    }
   ],
   "source": [
    "get_vector_distance(token_embeddings, token_t, '*', '/')"
   ]
  },
  {
   "cell_type": "code",
   "execution_count": 184,
   "metadata": {},
   "outputs": [
    {
     "data": {
      "text/plain": [
       "1.9083082675933838"
      ]
     },
     "execution_count": 184,
     "metadata": {},
     "output_type": "execute_result"
    }
   ],
   "source": [
    "get_vector_distance(token_embeddings, token_t, 'for', 'while')"
   ]
  },
  {
   "cell_type": "code",
   "execution_count": 185,
   "metadata": {},
   "outputs": [
    {
     "data": {
      "text/plain": [
       "3.522411584854126"
      ]
     },
     "execution_count": 185,
     "metadata": {},
     "output_type": "execute_result"
    }
   ],
   "source": [
    "get_vector_distance(token_embeddings, token_t, '{', '[')"
   ]
  },
  {
   "cell_type": "code",
   "execution_count": 186,
   "metadata": {},
   "outputs": [
    {
     "data": {
      "text/plain": [
       "0.93368823999570705"
      ]
     },
     "execution_count": 186,
     "metadata": {},
     "output_type": "execute_result"
    }
   ],
   "source": [
    "get_vector_cosine_distance(token_embeddings, token_t, '{', '[')"
   ]
  },
  {
   "cell_type": "code",
   "execution_count": 187,
   "metadata": {},
   "outputs": [
    {
     "data": {
      "text/plain": [
       "2.618786334991455"
      ]
     },
     "execution_count": 187,
     "metadata": {},
     "output_type": "execute_result"
    }
   ],
   "source": [
    "get_vector_distance(token_embeddings, token_t, '}', ']')"
   ]
  },
  {
   "cell_type": "code",
   "execution_count": 188,
   "metadata": {},
   "outputs": [
    {
     "data": {
      "text/plain": [
       "0.9633668065071106"
      ]
     },
     "execution_count": 188,
     "metadata": {},
     "output_type": "execute_result"
    }
   ],
   "source": [
    "get_vector_distance(token_embeddings, token_t, '[', ']')"
   ]
  },
  {
   "cell_type": "code",
   "execution_count": 189,
   "metadata": {},
   "outputs": [
    {
     "data": {
      "text/plain": [
       "0.7993926405906677"
      ]
     },
     "execution_count": 189,
     "metadata": {},
     "output_type": "execute_result"
    }
   ],
   "source": [
    "get_vector_distance(token_embeddings, token_t, '(', ')')"
   ]
  },
  {
   "cell_type": "markdown",
   "metadata": {},
   "source": [
    "Neighbors:"
   ]
  },
  {
   "cell_type": "code",
   "execution_count": 190,
   "metadata": {
    "scrolled": true
   },
   "outputs": [
    {
     "name": "stdout",
     "output_type": "stream",
     "text": [
      "world.\\n\": 1.56499203156\n",
      "{:.2f}\": 1.5469577546\n",
      "living.\": 1.53960483388\n",
      "way.\": 1.53338241499\n",
      "'fred': 1.52711713821\n",
      "e1: 1.52470410092\n",
      "equal_to: 1.51783570186\n",
      "matrix: 1.51572986219\n",
      "\"fizz-buzz\": 1.51028921552\n",
      "disc: 1.50703065993\n"
     ]
    }
   ],
   "source": [
    "get_neighbors('if', token_embeddings, token_t, id_to_token, top_n=10)"
   ]
  },
  {
   "cell_type": "code",
   "execution_count": 191,
   "metadata": {
    "scrolled": true
   },
   "outputs": [
    {
     "name": "stdout",
     "output_type": "stream",
     "text": [
      "{:.2f}\": 1.42655297537\n",
      "\"celcius: 1.42483955764\n",
      "most_e: 1.41746076567\n",
      "disc: 1.41075571289\n",
      "\".bak\": 1.40596698617\n"
     ]
    }
   ],
   "source": [
    "get_neighbors('for', token_embeddings, token_t, id_to_token)"
   ]
  },
  {
   "cell_type": "code",
   "execution_count": 192,
   "metadata": {
    "scrolled": true
   },
   "outputs": [
    {
     "name": "stdout",
     "output_type": "stream",
     "text": [
      "contact': 1.43186671974\n",
      "ca1_modules: 1.38651571635\n",
      "aline: 1.37415751496\n",
      "map: 1.37395444884\n",
      ">=: 1.37322653048\n",
      "'fred': 1.36511730443\n",
      "f_b: 1.36273168013\n",
      "chars: 1.35878340129\n",
      "pos_seq: 1.35187227842\n",
      "t3: 1.34862348837\n"
     ]
    }
   ],
   "source": [
    "get_neighbors('i', token_embeddings, token_t, id_to_token, top_n=10)"
   ]
  },
  {
   "cell_type": "code",
   "execution_count": 193,
   "metadata": {
    "scrolled": false
   },
   "outputs": [
    {
     "name": "stdout",
     "output_type": "stream",
     "text": [
      "are.\": 1.51590473393\n",
      "{}\\nrace: 1.48507334253\n",
      "you: 1.46245387328\n",
      "{},: 1.46207257953\n",
      "tn: 1.4529310883\n",
      "total_time: 1.44865831578\n",
      "bytes': 1.44590228732\n",
      "'april': 1.4282521054\n",
      "{:>15.2f}: 1.42398471125\n",
      "ds: 1.41037797958\n"
     ]
    }
   ],
   "source": [
    "get_neighbors('print', token_embeddings, token_t, id_to_token, top_n=10)"
   ]
  },
  {
   "cell_type": "code",
   "execution_count": 194,
   "metadata": {},
   "outputs": [
    {
     "name": "stdout",
     "output_type": "stream",
     "text": [
      "house\": 1.54669370248\n",
      "honours: 1.51289972851\n",
      "grace.\": 1.49403032013\n",
      "'february': 1.44039426312\n",
      "gross: 1.42965362485\n",
      "'savings': 1.42935197003\n",
      "y1: 1.42877339945\n",
      "\"february\": 1.42477888284\n",
      "\"may\": 1.4211809877\n",
      "lamp: 1.42029953052\n",
      "negative: 1.41834624637\n",
      "represent: 1.40053857932\n",
      "ending: 1.39726568198\n",
      "\"four\": 1.39567882418\n",
      "runner: 1.39249450508\n",
      "integers: 1.3896231202\n",
      "9.25: 1.38075481928\n",
      "size: 1.3797197932\n",
      "stack_092: 1.37945685676\n",
      "search: 1.37873574721\n"
     ]
    }
   ],
   "source": [
    "get_neighbors('1', token_embeddings, token_t, id_to_token, top_n=20)"
   ]
  },
  {
   "cell_type": "markdown",
   "metadata": {},
   "source": [
    "### 2.2) Token categories"
   ]
  },
  {
   "cell_type": "code",
   "execution_count": 195,
   "metadata": {},
   "outputs": [
    {
     "data": {
      "text/plain": [
       "'Number encoded docs: 472,087'"
      ]
     },
     "execution_count": 195,
     "metadata": {},
     "output_type": "execute_result"
    }
   ],
   "source": [
    "'Number encoded docs: {:,}'.format(len(token_ids))"
   ]
  },
  {
   "cell_type": "code",
   "execution_count": 196,
   "metadata": {
    "collapsed": true
   },
   "outputs": [],
   "source": [
    "token_ids = [\n",
    "    ' '.join([str(a) for a in array]) for array in token_ids\n",
    "]"
   ]
  },
  {
   "cell_type": "code",
   "execution_count": 197,
   "metadata": {
    "collapsed": true
   },
   "outputs": [],
   "source": [
    "category_t = get_tokenizer()\n",
    "\n",
    "category_t.fit_on_texts(token_ids)"
   ]
  },
  {
   "cell_type": "code",
   "execution_count": 199,
   "metadata": {
    "collapsed": true
   },
   "outputs": [],
   "source": [
    "category_sequences = category_t.texts_to_sequences(token_ids)\n",
    "\n",
    "id_to_category = { v: k for k, v in category_t.word_index.items() } # GET THE NAMES here for each category number?\n",
    "\n",
    "category_padded_docs = pad_sequences(category_sequences, maxlen=MAX_LENGTH, padding='post')"
   ]
  },
  {
   "cell_type": "code",
   "execution_count": 200,
   "metadata": {
    "collapsed": true
   },
   "outputs": [],
   "source": [
    "X_train, X_test, y_train, y_test = train_test_split(category_padded_docs, token_labels, test_size=0.2, random_state=0)"
   ]
  },
  {
   "cell_type": "code",
   "execution_count": 201,
   "metadata": {},
   "outputs": [
    {
     "name": "stdout",
     "output_type": "stream",
     "text": [
      "_________________________________________________________________\n",
      "Layer (type)                 Output Shape              Param #   \n",
      "=================================================================\n",
      "embedding_10 (Embedding)     (None, 50, 100)           200000    \n",
      "_________________________________________________________________\n",
      "flatten_10 (Flatten)         (None, 5000)              0         \n",
      "_________________________________________________________________\n",
      "dense_10 (Dense)             (None, 1)                 5001      \n",
      "=================================================================\n",
      "Total params: 205,001\n",
      "Trainable params: 205,001\n",
      "Non-trainable params: 0\n",
      "_________________________________________________________________\n",
      "None\n"
     ]
    }
   ],
   "source": [
    "category_model = get_model()"
   ]
  },
  {
   "cell_type": "code",
   "execution_count": 202,
   "metadata": {},
   "outputs": [
    {
     "name": "stdout",
     "output_type": "stream",
     "text": [
      "Train on 302135 samples, validate on 75534 samples\n",
      "Epoch 1/10\n",
      "302135/302135 [==============================] - 60s 197us/step - loss: 0.6641 - acc: 0.6043 - f1: 0.2275 - val_loss: 0.6643 - val_acc: 0.6045 - val_f1: 0.3340\n",
      "Epoch 2/10\n",
      "302135/302135 [==============================] - 58s 193us/step - loss: 0.6616 - acc: 0.6065 - f1: 0.2586 - val_loss: 0.6633 - val_acc: 0.6056 - val_f1: 0.1425\n",
      "Epoch 3/10\n",
      "302135/302135 [==============================] - 60s 198us/step - loss: 0.6609 - acc: 0.6071 - f1: 0.2629 - val_loss: 0.6601 - val_acc: 0.6076 - val_f1: 0.2370\n",
      "Epoch 4/10\n",
      "302135/302135 [==============================] - 60s 197us/step - loss: 0.6603 - acc: 0.6083 - f1: 0.2665 - val_loss: 0.6597 - val_acc: 0.6055 - val_f1: 0.2572\n",
      "Epoch 5/10\n",
      "302135/302135 [==============================] - 62s 206us/step - loss: 0.6601 - acc: 0.6076 - f1: 0.2671 - val_loss: 0.6596 - val_acc: 0.6108 - val_f1: 0.2795\n",
      "Epoch 6/10\n",
      "302135/302135 [==============================] - 62s 206us/step - loss: 0.6597 - acc: 0.6090 - f1: 0.2715 - val_loss: 0.6612 - val_acc: 0.6092 - val_f1: 0.1885\n",
      "Epoch 7/10\n",
      "302135/302135 [==============================] - 60s 199us/step - loss: 0.6594 - acc: 0.6087 - f1: 0.2711 - val_loss: 0.6602 - val_acc: 0.6076 - val_f1: 0.3164\n",
      "Epoch 8/10\n",
      "302135/302135 [==============================] - 62s 205us/step - loss: 0.6593 - acc: 0.6089 - f1: 0.2759 - val_loss: 0.6604 - val_acc: 0.6067 - val_f1: 0.2967\n",
      "Epoch 9/10\n",
      "302135/302135 [==============================] - 61s 202us/step - loss: 0.6593 - acc: 0.6093 - f1: 0.2734 - val_loss: 0.6599 - val_acc: 0.6062 - val_f1: 0.3244\n",
      "Epoch 10/10\n",
      "302135/302135 [==============================] - 62s 206us/step - loss: 0.6593 - acc: 0.6087 - f1: 0.2729 - val_loss: 0.6613 - val_acc: 0.6066 - val_f1: 0.1830\n"
     ]
    },
    {
     "data": {
      "text/plain": [
       "<keras.callbacks.History at 0x1ab7855750>"
      ]
     },
     "execution_count": 202,
     "metadata": {},
     "output_type": "execute_result"
    }
   ],
   "source": [
    "category_model.fit(X_train, \n",
    "                   y_train,\n",
    "                   epochs=10,\n",
    "                   validation_split=0.2)"
   ]
  },
  {
   "cell_type": "code",
   "execution_count": 204,
   "metadata": {},
   "outputs": [
    {
     "name": "stdout",
     "output_type": "stream",
     "text": [
      "94418/94418 [==============================] - 5s 56us/step\n",
      "Accuracy: 74.930628, F1: 19.645448\n"
     ]
    }
   ],
   "source": [
    "cat_loss, cat_accuracy, cat_f1 = category_model.evaluate(X_test, y_test, verbose=1)\n",
    "print('Accuracy: %f, F1: %f' % (token_accuracy * 100, cat_f1 * 100))"
   ]
  },
  {
   "cell_type": "code",
   "execution_count": 205,
   "metadata": {
    "collapsed": true
   },
   "outputs": [],
   "source": [
    "category_score = {\n",
    "    'accuracy': cat_accuracy,\n",
    "    'F1': cat_f1,\n",
    "}\n",
    "embeddings_scores['Category Token'] = category_score"
   ]
  },
  {
   "cell_type": "code",
   "execution_count": 206,
   "metadata": {},
   "outputs": [
    {
     "name": "stdout",
     "output_type": "stream",
     "text": [
      "Embedding Layer shape: (2000, 100)\n"
     ]
    },
    {
     "data": {
      "text/plain": [
       "array([ -8.18085391e-03,   2.24015093e-03,  -8.37654900e-03,\n",
       "        -5.50646707e-03,   4.89879027e-03,   1.32837556e-02,\n",
       "         1.63092429e-03,  -9.28424206e-03,   3.57299601e-03,\n",
       "        -4.07622196e-03,   6.05876278e-03,   1.14216213e-03,\n",
       "         3.60442442e-03,  -1.95775833e-03,   1.69958384e-03,\n",
       "        -3.36261690e-02,  -1.14982650e-02,  -1.86065193e-02,\n",
       "        -3.97191988e-03,  -9.91913024e-03,   1.80185866e-03,\n",
       "         1.71504985e-03,   1.72294700e-03,  -9.31200106e-04,\n",
       "         1.13896746e-03,   7.04176165e-03,   3.12622404e-04,\n",
       "         7.15604750e-04,  -5.08969650e-03,  -2.02219225e-02,\n",
       "        -3.11495084e-03,  -2.02032737e-03,  -1.16897374e-02,\n",
       "        -8.18699412e-03,   1.29963672e-02,  -3.02376831e-03,\n",
       "         1.04455287e-02,   4.00674157e-03,  -1.61459725e-02,\n",
       "         1.82588818e-03,   6.60891458e-03,   2.77876854e-03,\n",
       "        -6.66894438e-03,  -6.77065982e-04,   7.21814530e-03,\n",
       "         3.32226686e-04,   2.33388692e-03,   7.63606234e-03,\n",
       "         1.76816841e-03,   9.11981240e-03,  -9.51153343e-04,\n",
       "        -9.04351380e-03,  -4.67970734e-03,   5.12357429e-03,\n",
       "        -1.32336011e-02,  -2.95512698e-04,   6.26896508e-05,\n",
       "        -1.02104209e-02,  -3.04071838e-03,  -1.48324678e-02,\n",
       "        -8.77073780e-03,   4.59569832e-03,  -1.49057815e-02,\n",
       "         1.33706145e-02,  -2.04363279e-03,  -4.88232961e-03,\n",
       "        -4.33912594e-03,   5.70646347e-03,   3.12444083e-02,\n",
       "         4.12648134e-02,  -2.97244010e-03,  -1.54680572e-03,\n",
       "        -4.69066843e-04,  -2.72960076e-03,   7.62491301e-03,\n",
       "         1.57046001e-02,   1.53894769e-03,  -7.55612785e-03,\n",
       "         4.14321286e-04,   3.43409157e-03,  -5.54517433e-02,\n",
       "        -3.59923556e-03,  -3.51409172e-03,   1.03975069e-02,\n",
       "         4.06738184e-03,   1.85839657e-03,   1.82161573e-03,\n",
       "         9.52146575e-03,   8.60365760e-03,   9.60692414e-04,\n",
       "         1.06564127e-02,   5.83870918e-04,   1.09937517e-02,\n",
       "         2.45467178e-03,   1.88312633e-03,  -7.57309189e-03,\n",
       "         4.31915233e-03,  -1.03312533e-03,  -7.35105947e-03,\n",
       "        -3.55457352e-03], dtype=float32)"
      ]
     },
     "execution_count": 206,
     "metadata": {},
     "output_type": "execute_result"
    }
   ],
   "source": [
    "category_embeddings = get_embeddings(category_model)\n",
    "\n",
    "category_embeddings[0]"
   ]
  },
  {
   "cell_type": "code",
   "execution_count": 207,
   "metadata": {
    "collapsed": true
   },
   "outputs": [],
   "source": [
    "# np.save('data/processed/token_category_embeddings', category_embeddings)"
   ]
  },
  {
   "cell_type": "code",
   "execution_count": 208,
   "metadata": {},
   "outputs": [
    {
     "name": "stdout",
     "output_type": "stream",
     "text": [
      "PCA explained variance ratio: [ 0.35952729  0.02282144] Total: 0.382348729298\n"
     ]
    }
   ],
   "source": [
    "category_pca = get_pca(category_embeddings)"
   ]
  },
  {
   "cell_type": "code",
   "execution_count": 209,
   "metadata": {
    "collapsed": true
   },
   "outputs": [],
   "source": [
    "category_top_words = get_top_words(category_t, N=100)"
   ]
  },
  {
   "cell_type": "code",
   "execution_count": 210,
   "metadata": {},
   "outputs": [
    {
     "data": {
      "image/png": "[encoded data removed]",
      "text/plain": [
       "<matplotlib.figure.Figure at 0x1a61aa450>"
      ]
     },
     "metadata": {},
     "output_type": "display_data"
    }
   ],
   "source": [
    "plot_embeddings(category_pca, id_to_category, category_top_words, figsize=(18, 18))"
   ]
  },
  {
   "cell_type": "code",
   "execution_count": 211,
   "metadata": {},
   "outputs": [
    {
     "data": {
      "image/png": "[encoded data removed]",
      "text/plain": [
       "<matplotlib.figure.Figure at 0x12f53b050>"
      ]
     },
     "metadata": {},
     "output_type": "display_data"
    }
   ],
   "source": [
    "plot_embeddings(category_pca, id_to_category, get_top_words(category_t, 20))"
   ]
  },
  {
   "cell_type": "code",
   "execution_count": 212,
   "metadata": {
    "collapsed": true
   },
   "outputs": [],
   "source": [
    "categories = [\n",
    "('ENDMARKER', 0),\n",
    "('NAME', 1),\n",
    "('NUMBER', 2),\n",
    "('STRING', 3),\n",
    "('NEWLINE', 4),\n",
    "('INDENT', 5),\n",
    "('DEDENT', 6),\n",
    "('LPAR', 7),\n",
    "('RPAR', 8),\n",
    "('LSQB', 9),\n",
    "('RSQB', 10),\n",
    "('COLON', 11),\n",
    "('COMMA', 12),\n",
    "('SEMI', 13),\n",
    "('PLUS', 14),\n",
    "('MINUS', 15),\n",
    "('STAR', 16),\n",
    "('SLASH', 17),\n",
    "('VBAR', 18),\n",
    "('AMPER', 19),\n",
    "('LESS', 20),\n",
    "('GREATER', 21),\n",
    "('EQUAL', 22),\n",
    "('DOT', 23),\n",
    "('PERCENT', 24),\n",
    "('LBRACE', 25),\n",
    "('RBRACE', 26),\n",
    "('EQEQUAL', 27),\n",
    "('NOTEQUAL', 28),\n",
    "('LESSEQUAL', 29),\n",
    "('GREATEREQUAL', 30),\n",
    "('TILDE', 31),\n",
    "('CIRCUMFLEX', 32),\n",
    "('LEFTSHIFT', 33),\n",
    "('RIGHTSHIFT', 34),\n",
    "('DOUBLESTAR', 35),\n",
    "('PLUSEQUAL', 36),\n",
    "('MINEQUAL', 37),\n",
    "('STAREQUAL', 38),\n",
    "('SLASHEQUAL', 39),\n",
    "('PERCENTEQUAL', 40),\n",
    "('AMPEREQUAL', 41),\n",
    "('VBAREQUAL', 42),\n",
    "('CIRCUMFLEXEQUAL', 43),\n",
    "('LEFTSHIFTEQUAL', 44),\n",
    "('RIGHTSHIFTEQUAL', 45),\n",
    "('DOUBLESTAREQUAL', 46),\n",
    "('DOUBLESLASH', 47),\n",
    "('DOUBLESLASHEQUAL', 48),\n",
    "('AT', 49),\n",
    "('ATEQUAL', 50),\n",
    "('RARROW', 51),\n",
    "('ELLIPSIS', 52),\n",
    "('OP', 53),\n",
    "('ERRORTOKEN', 54),\n",
    "('COMMENT', 55),\n",
    "('NL', 56),\n",
    "('ENCODING', 57),\n",
    "('N_TOKENS', 58),\n",
    "]"
   ]
  },
  {
   "cell_type": "code",
   "execution_count": 213,
   "metadata": {
    "collapsed": true
   },
   "outputs": [],
   "source": [
    "category_names = { c[1]: c[0] for c in categories }"
   ]
  },
  {
   "cell_type": "code",
   "execution_count": 220,
   "metadata": {},
   "outputs": [
    {
     "data": {
      "image/png": "[encoded data removed]",
      "text/plain": [
       "<matplotlib.figure.Figure at 0x1ab44c3350>"
      ]
     },
     "metadata": {},
     "output_type": "display_data"
    }
   ],
   "source": [
    "top_20_words = get_top_words(category_t, 20)\n",
    "\n",
    "plt.figure(figsize=(8, 8), dpi=100)\n",
    "ax = plt.axes()\n",
    "ax.yaxis.set_major_locator(plt.NullLocator())\n",
    "ax.xaxis.set_major_locator(plt.NullLocator())\n",
    "i = 0\n",
    "while i < len(category_pca):\n",
    "\n",
    "    if i in id_to_word and i in id_to_category:\n",
    "\n",
    "        x, y = category_pca[i, :]\n",
    "        word = id_to_category[i]\n",
    "\n",
    "        if word in top_20_words:\n",
    "            label = category_names[int(word)]\n",
    "            plt.scatter(x, y, color='b')\n",
    "            plt.annotate(label,\n",
    "                        xy=(x, y),\n",
    "                        xytext=(5, 2),\n",
    "                        textcoords='offset points',\n",
    "                        ha='right',\n",
    "                        va='bottom',\n",
    "                        fontsize=14)\n",
    "    i += 1"
   ]
  },
  {
   "cell_type": "markdown",
   "metadata": {},
   "source": [
    "## 3) Programs as Abstract Syntax Trees"
   ]
  },
  {
   "cell_type": "code",
   "execution_count": 124,
   "metadata": {
    "collapsed": true
   },
   "outputs": [],
   "source": [
    "# TODO"
   ]
  },
  {
   "cell_type": "markdown",
   "metadata": {},
   "source": [
    "Store scorings:"
   ]
  },
  {
   "cell_type": "code",
   "execution_count": 217,
   "metadata": {},
   "outputs": [
    {
     "data": {
      "text/plain": [
       "{'Category Token': {'F1': 0.19645448217258843,\n",
       "  'accuracy': 0.61006375903278642},\n",
       " 'Word': {'accuracy': 0.73248848865407301, 'f1': 0.6410933540918673},\n",
       " 'Word Token': {'F1': 0.67186247301242086, 'accuracy': 0.74930627634308689}}"
      ]
     },
     "execution_count": 217,
     "metadata": {},
     "output_type": "execute_result"
    }
   ],
   "source": [
    "embeddings_scores"
   ]
  },
  {
   "cell_type": "code",
   "execution_count": 218,
   "metadata": {
    "collapsed": true
   },
   "outputs": [],
   "source": [
    "import json\n",
    "with open('data/processed/embeddings_scores.json', 'w') as outfile:\n",
    "    json.dump(embeddings_scores, outfile)"
   ]
  },
  {
   "cell_type": "markdown",
   "metadata": {},
   "source": [
    "Store tokenizers:"
   ]
  },
  {
   "cell_type": "code",
   "execution_count": 221,
   "metadata": {
    "collapsed": true
   },
   "outputs": [],
   "source": [
    "import pickle\n",
    "with open('word_tokenizer.pickle', 'wb') as handle:\n",
    "    pickle.dump(word_t, handle, protocol=pickle.HIGHEST_PROTOCOL)"
   ]
  },
  {
   "cell_type": "code",
   "execution_count": 222,
   "metadata": {
    "collapsed": true
   },
   "outputs": [],
   "source": [
    "with open('token_tokenizer.pickle', 'wb') as handle:\n",
    "    pickle.dump(token_t, handle, protocol=pickle.HIGHEST_PROTOCOL)"
   ]
  },
  {
   "cell_type": "code",
   "execution_count": 223,
   "metadata": {
    "collapsed": true
   },
   "outputs": [],
   "source": [
    "with open('category_tokenizer.pickle', 'wb') as handle:\n",
    "    pickle.dump(category_t, handle, protocol=pickle.HIGHEST_PROTOCOL)"
   ]
  }
 ],
 "metadata": {
  "kernelspec": {
   "display_name": "Python 2",
   "language": "python",
   "name": "python2"
  },
  "language_info": {
   "codemirror_mode": {
    "name": "ipython",
    "version": 2
   },
   "file_extension": ".py",
   "mimetype": "text/x-python",
   "name": "python",
   "nbconvert_exporter": "python",
   "pygments_lexer": "ipython2",
   "version": "2.7.14"
  }
 },
 "nbformat": 4,
 "nbformat_minor": 1
}
