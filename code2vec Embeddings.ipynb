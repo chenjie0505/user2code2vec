{
 "cells": [
  {
   "cell_type": "markdown",
   "metadata": {},
   "source": [
    "# code2vec using Embeddings and NN\n",
    "\n",
    "We are going to represent programs as token vectors and learn their representations using embeddings\n",
    "\n",
    "We are going to create a prediction problem and try to predict whether the program submitted with be considered as correct, i.e. the program pass the testcases specified by the lecturer. Creating a prediction problem to learn representations of the data is a useful approach. There is no easy way to represent these programs so we are going to learn these representations. \n",
    " \n",
    "\n",
    "* https://code.google.com/archive/p/word2vec/\n",
    "\n",
    "* https://medium.com/@sabber/classifying-yelp-review-comments-using-cnn-lstm-and-pre-trained-glove-word-embeddings-part-3-53fcea9a17fa\n",
    "\n",
    "* https://www.cse.iitb.ac.in/~pb/papers/bionlp-acl17-medical-coding.pdf\n",
    "\n",
    "* https://github.com/sloomba/protein2vec\n",
    "\n",
    "* https://github.com/samiroid/usr2vec\n",
    "\n",
    "* https://github.com/keras-team/keras/blob/master/examples/pretrained_word_embeddings.py\n",
    "\n",
    "* http://ahogrammer.com/2017/01/20/the-list-of-pretrained-word-embeddings/\n",
    "\n",
    "* Topic Modelling for Humans: https://radimrehurek.com/gensim/\n",
    "\n",
    "* https://spacy.io/models/\n",
    "\n",
    "* https://www.shanelynn.ie/get-busy-with-word-embeddings-introduction/\n",
    "\n",
    "* Code2Vec https://ieeexplore.ieee.org/stamp/stamp.jsp?tp=&arnumber=8031179&tag=1, https://arxiv.org/pdf/1803.09473.pdf, https://code2vec.org/\n",
    "\n",
    "* From People2Vec to Emotional AI: http://people2vec.org/\n",
    "\n",
    "* Using Word2vec for Music Recommendations: https://towardsdatascience.com/using-word2vec-for-music-recommendations-bb9649ac2484\n",
    "\n",
    "* Source code identifier embeddings: https://blog.sourced.tech/post/id2vec/\n",
    "\n",
    "* Recommending Recommendation Systems: https://gab41.lab41.org/recommending-recommendation-systems-cc39ace3f5c1, https://github.com/Lab41/Misc/blob/master/blog/python2vec/Python2Vec%20Example.ipynb\n",
    "\n",
    "* Python2Vec: Word Embeddings for Source Code: https://gab41.lab41.org/python2vec-word-embeddings-for-source-code-3d14d030fe8f\n",
    "\n",
    "* Anything2Vec: https://gab41.lab41.org/anything2vec-e99ec0dc186\n",
    "\n",
    "* AutoKeras: https://towardsdatascience.com/autokeras-the-killer-of-googles-automl-9e84c552a319, https://autokeras.com/\n",
    "\n",
    "* Learning Program Embeddings to Propagate Feedback on Student Code: https://web.stanford.edu/~cpiech/bio/papers/programEncoding.pdf, https://github.com/chrispiech/refactoredEncoder\n",
    "\n",
    "* Research at Code.org: https://code.org/research\n",
    "\n",
    "* Cheatsheet: https://startupsventurecapital.com/essential-cheat-sheets-for-machine-learning-and-deep-learning-researchers-efb6a8ebd2e5\n",
    "\n",
    "* DCU Deep Learning Summer School: https://telecombcn-dl.github.io/2018-dlcv/, https://www.slideshare.net/xavigiro/d1l2-the-neural-network-zoo-upc-2018-deep-learning-for-computer-vision\n",
    "\n",
    "* Embeddings: https://developers.google.com/machine-learning/crash-course/embeddings/video-lecture"
   ]
  },
  {
   "cell_type": "code",
   "execution_count": 1,
   "metadata": {
    "collapsed": true
   },
   "outputs": [],
   "source": [
    "import pandas as pd\n",
    "import numpy as np\n",
    "import matplotlib.pyplot as plt\n",
    "%matplotlib inline"
   ]
  },
  {
   "cell_type": "code",
   "execution_count": 2,
   "metadata": {
    "collapsed": true
   },
   "outputs": [],
   "source": [
    "font = {'weight': 'bold', 'size': 20}\n",
    "plt.rc('font', **font)"
   ]
  },
  {
   "cell_type": "markdown",
   "metadata": {},
   "source": [
    "## VECTORIZE\n",
    "\n",
    "**Programming data**: Student develop programs locally for the laboratory sheets of computer programming courses at our university. These programs are submitted by them to an automatic grading platform that runs some test cases specified by the lecturer on each program. A JSON output for those testcases and whether the program passed them or not along with the actual code is stored."
   ]
  },
  {
   "cell_type": "code",
   "execution_count": 3,
   "metadata": {},
   "outputs": [
    {
     "name": "stdout",
     "output_type": "stream",
     "text": [
      "data/raw/programming_data.json\r\n"
     ]
    }
   ],
   "source": [
    "!ls data/raw/programming_data.json"
   ]
  },
  {
   "cell_type": "code",
   "execution_count": 4,
   "metadata": {
    "collapsed": true
   },
   "outputs": [],
   "source": [
    "dataframe = pd.read_json('data/raw/programming_data.json')"
   ]
  },
  {
   "cell_type": "code",
   "execution_count": 5,
   "metadata": {},
   "outputs": [
    {
     "data": {
      "text/html": [
       "<div>\n",
       "<style>\n",
       "    .dataframe thead tr:only-child th {\n",
       "        text-align: right;\n",
       "    }\n",
       "\n",
       "    .dataframe thead th {\n",
       "        text-align: left;\n",
       "    }\n",
       "\n",
       "    .dataframe tbody tr th {\n",
       "        vertical-align: top;\n",
       "    }\n",
       "</style>\n",
       "<table border=\"1\" class=\"dataframe\">\n",
       "  <thead>\n",
       "    <tr style=\"text-align: right;\">\n",
       "      <th></th>\n",
       "      <th>academic_year_0</th>\n",
       "      <th>academic_year_1</th>\n",
       "      <th>correct</th>\n",
       "      <th>date</th>\n",
       "      <th>extension</th>\n",
       "      <th>ip</th>\n",
       "      <th>module</th>\n",
       "      <th>task</th>\n",
       "      <th>upload</th>\n",
       "      <th>user</th>\n",
       "    </tr>\n",
       "  </thead>\n",
       "  <tbody>\n",
       "    <tr>\n",
       "      <th>0</th>\n",
       "      <td>2016</td>\n",
       "      <td>2017</td>\n",
       "      <td>True</td>\n",
       "      <td>2016-09-19 14:11:41</td>\n",
       "      <td>py</td>\n",
       "      <td></td>\n",
       "      <td>ca277</td>\n",
       "      <td>add.py</td>\n",
       "      <td>#!/usr/bin/env python\\n\\na = int(raw_input())\\...</td>\n",
       "      <td>b9e7e608-6036-4d44-8770-a7036176b53c</td>\n",
       "    </tr>\n",
       "    <tr>\n",
       "      <th>1</th>\n",
       "      <td>2016</td>\n",
       "      <td>2017</td>\n",
       "      <td>True</td>\n",
       "      <td>2016-09-19 14:17:33</td>\n",
       "      <td>py</td>\n",
       "      <td></td>\n",
       "      <td>ca277</td>\n",
       "      <td>concat-lines.py</td>\n",
       "      <td>#!/usr/bin/env python\\n\\na = str(raw_input())\\...</td>\n",
       "      <td>b9e7e608-6036-4d44-8770-a7036176b53c</td>\n",
       "    </tr>\n",
       "  </tbody>\n",
       "</table>\n",
       "</div>"
      ],
      "text/plain": [
       "  academic_year_0 academic_year_1  correct                date extension ip  \\\n",
       "0            2016            2017     True 2016-09-19 14:11:41        py      \n",
       "1            2016            2017     True 2016-09-19 14:17:33        py      \n",
       "\n",
       "  module             task                                             upload  \\\n",
       "0  ca277           add.py  #!/usr/bin/env python\\n\\na = int(raw_input())\\...   \n",
       "1  ca277  concat-lines.py  #!/usr/bin/env python\\n\\na = str(raw_input())\\...   \n",
       "\n",
       "                                   user  \n",
       "0  b9e7e608-6036-4d44-8770-a7036176b53c  \n",
       "1  b9e7e608-6036-4d44-8770-a7036176b53c  "
      ]
     },
     "execution_count": 5,
     "metadata": {},
     "output_type": "execute_result"
    }
   ],
   "source": [
    "dataframe.head(2)"
   ]
  },
  {
   "cell_type": "code",
   "execution_count": 6,
   "metadata": {},
   "outputs": [
    {
     "data": {
      "text/plain": [
       "'591,707'"
      ]
     },
     "execution_count": 6,
     "metadata": {},
     "output_type": "execute_result"
    }
   ],
   "source": [
    "'{:,}'.format(len(dataframe))"
   ]
  },
  {
   "cell_type": "markdown",
   "metadata": {},
   "source": [
    "Grab only code submissions from Python modules:"
   ]
  },
  {
   "cell_type": "code",
   "execution_count": 7,
   "metadata": {
    "collapsed": true
   },
   "outputs": [],
   "source": [
    "PYTHON_MODULES = [\n",
    "    'ca116', \n",
    "    'ca117', \n",
    "    'ca177', \n",
    "    'ca277', \n",
    "    'ca278',\n",
    "]"
   ]
  },
  {
   "cell_type": "code",
   "execution_count": 8,
   "metadata": {
    "collapsed": true
   },
   "outputs": [],
   "source": [
    "dataframe = dataframe[dataframe['module'].isin(PYTHON_MODULES)]"
   ]
  },
  {
   "cell_type": "code",
   "execution_count": 9,
   "metadata": {},
   "outputs": [
    {
     "data": {
      "text/plain": [
       "'490,820'"
      ]
     },
     "execution_count": 9,
     "metadata": {},
     "output_type": "execute_result"
    }
   ],
   "source": [
    "'{:,}'.format(len(dataframe))"
   ]
  },
  {
   "cell_type": "markdown",
   "metadata": {},
   "source": [
    "Target value:"
   ]
  },
  {
   "cell_type": "code",
   "execution_count": 10,
   "metadata": {},
   "outputs": [
    {
     "data": {
      "text/plain": [
       "False    296369\n",
       "True     194451\n",
       "Name: correct, dtype: int64"
      ]
     },
     "execution_count": 10,
     "metadata": {},
     "output_type": "execute_result"
    }
   ],
   "source": [
    "dataframe.correct.value_counts()"
   ]
  },
  {
   "cell_type": "markdown",
   "metadata": {},
   "source": [
    "Remove comments:"
   ]
  },
  {
   "cell_type": "code",
   "execution_count": 11,
   "metadata": {
    "collapsed": true
   },
   "outputs": [],
   "source": [
    "import re\n",
    "def remove_comments(text):\n",
    "    return re.sub(re.compile('#.*?\\n'), '', text)"
   ]
  },
  {
   "cell_type": "markdown",
   "metadata": {},
   "source": [
    "Grab docs (code submissions) and labels (correct or not):"
   ]
  },
  {
   "cell_type": "code",
   "execution_count": 12,
   "metadata": {
    "collapsed": true
   },
   "outputs": [],
   "source": [
    "def get_docs_and_labels(df):\n",
    "    _docs = []\n",
    "    _labels = []\n",
    "    for index in df.index:\n",
    "        # Program\n",
    "        code = remove_comments(\n",
    "            df.at[index, 'upload']\n",
    "        )\n",
    "        _docs.append(code)\n",
    "        # Label\n",
    "        label = int(df.at[index, 'correct'])\n",
    "        _labels.append(label)\n",
    "    return _docs, _labels"
   ]
  },
  {
   "cell_type": "code",
   "execution_count": 13,
   "metadata": {
    "collapsed": true
   },
   "outputs": [],
   "source": [
    "docs, labels = get_docs_and_labels(dataframe)"
   ]
  },
  {
   "cell_type": "code",
   "execution_count": 14,
   "metadata": {},
   "outputs": [
    {
     "data": {
      "text/plain": [
       "'490,820'"
      ]
     },
     "execution_count": 14,
     "metadata": {},
     "output_type": "execute_result"
    }
   ],
   "source": [
    "'{:,}'.format(len(docs))"
   ]
  },
  {
   "cell_type": "code",
   "execution_count": 15,
   "metadata": {
    "scrolled": true
   },
   "outputs": [
    {
     "data": {
      "text/plain": [
       "u'\\na = int(raw_input())\\nb = int(raw_input())\\n\\nprint a + b\\n\\n\\n'"
      ]
     },
     "execution_count": 15,
     "metadata": {},
     "output_type": "execute_result"
    }
   ],
   "source": [
    "docs[0]"
   ]
  },
  {
   "cell_type": "code",
   "execution_count": 16,
   "metadata": {},
   "outputs": [
    {
     "data": {
      "text/plain": [
       "1"
      ]
     },
     "execution_count": 16,
     "metadata": {},
     "output_type": "execute_result"
    }
   ],
   "source": [
    "labels[0]"
   ]
  },
  {
   "cell_type": "markdown",
   "metadata": {},
   "source": [
    "## 1) Programs as word vectors\n",
    "\n",
    "https://faroit.github.io/keras-docs/1.2.2/preprocessing/text/"
   ]
  },
  {
   "cell_type": "code",
   "execution_count": 17,
   "metadata": {
    "scrolled": true
   },
   "outputs": [
    {
     "name": "stderr",
     "output_type": "stream",
     "text": [
      "Using TensorFlow backend.\n"
     ]
    }
   ],
   "source": [
    "from keras.preprocessing.text import Tokenizer"
   ]
  },
  {
   "cell_type": "code",
   "execution_count": 18,
   "metadata": {
    "collapsed": true
   },
   "outputs": [],
   "source": [
    "NUM_WORDS = 2000 # Originally 231,659 words"
   ]
  },
  {
   "cell_type": "code",
   "execution_count": 19,
   "metadata": {
    "collapsed": true
   },
   "outputs": [],
   "source": [
    "def get_tokenizer():\n",
    "\n",
    "    return Tokenizer(num_words=NUM_WORDS, \n",
    "                     filters='\\t\\n', \n",
    "                     lower=True, \n",
    "                     split=' ', \n",
    "                     char_level=False)"
   ]
  },
  {
   "cell_type": "code",
   "execution_count": 20,
   "metadata": {
    "collapsed": true
   },
   "outputs": [],
   "source": [
    "word_t = get_tokenizer()"
   ]
  },
  {
   "cell_type": "code",
   "execution_count": 21,
   "metadata": {
    "collapsed": true
   },
   "outputs": [],
   "source": [
    "word_t.fit_on_texts(docs)"
   ]
  },
  {
   "cell_type": "code",
   "execution_count": 22,
   "metadata": {},
   "outputs": [
    {
     "data": {
      "text/plain": [
       "552539"
      ]
     },
     "execution_count": 22,
     "metadata": {},
     "output_type": "execute_result"
    }
   ],
   "source": [
    "# word_counts: a dictionary of words and their counts.\n",
    "word_t.word_counts['if'] # word count"
   ]
  },
  {
   "cell_type": "code",
   "execution_count": 23,
   "metadata": {},
   "outputs": [
    {
     "data": {
      "text/plain": [
       "'Number docs: 490,820'"
      ]
     },
     "execution_count": 23,
     "metadata": {},
     "output_type": "execute_result"
    }
   ],
   "source": [
    "# document_count: an integer count of the total number of documents that were used to fit the Tokenizer.\n",
    "'Number docs: {:,}'.format(word_t.document_count)"
   ]
  },
  {
   "cell_type": "code",
   "execution_count": 24,
   "metadata": {},
   "outputs": [
    {
     "data": {
      "text/plain": [
       "4"
      ]
     },
     "execution_count": 24,
     "metadata": {},
     "output_type": "execute_result"
    }
   ],
   "source": [
    "# word_index: a dictionary of words and their uniquely assigned integers.\n",
    "word_t.word_index['if'] # index"
   ]
  },
  {
   "cell_type": "code",
   "execution_count": 25,
   "metadata": {},
   "outputs": [
    {
     "data": {
      "text/plain": [
       "298487"
      ]
     },
     "execution_count": 25,
     "metadata": {},
     "output_type": "execute_result"
    }
   ],
   "source": [
    "# word_docs: a dictionary of words and how many documents each appeared in.\n",
    "word_t.word_docs['if']"
   ]
  },
  {
   "cell_type": "code",
   "execution_count": 27,
   "metadata": {},
   "outputs": [],
   "source": [
    "# Save\n",
    "import pickle\n",
    "with open('word_tokenizer.pickle', 'wb') as handle:\n",
    "    pickle.dump(word_t, handle, protocol=pickle.HIGHEST_PROTOCOL)"
   ]
  },
  {
   "cell_type": "code",
   "execution_count": 28,
   "metadata": {
    "collapsed": true
   },
   "outputs": [],
   "source": [
    "sequences = word_t.texts_to_sequences(docs)"
   ]
  },
  {
   "cell_type": "code",
   "execution_count": 29,
   "metadata": {},
   "outputs": [
    {
     "data": {
      "text/plain": [
       "[17, 1, 358, 50, 1, 358, 6, 17, 3, 50]"
      ]
     },
     "execution_count": 29,
     "metadata": {},
     "output_type": "execute_result"
    }
   ],
   "source": [
    "sequences[0]"
   ]
  },
  {
   "cell_type": "markdown",
   "metadata": {},
   "source": [
    "Look at the lenght of these sequences:"
   ]
  },
  {
   "cell_type": "code",
   "execution_count": 30,
   "metadata": {
    "collapsed": true
   },
   "outputs": [],
   "source": [
    "len_seqs = [len(s) for s in sequences]"
   ]
  },
  {
   "cell_type": "code",
   "execution_count": 31,
   "metadata": {},
   "outputs": [
    {
     "data": {
      "text/plain": [
       "(38.591420480013042, 38.577314137088699, 2358)"
      ]
     },
     "execution_count": 31,
     "metadata": {},
     "output_type": "execute_result"
    }
   ],
   "source": [
    "np.mean(len_seqs), np.std(len_seqs), np.max(len_seqs)"
   ]
  },
  {
   "cell_type": "code",
   "execution_count": 32,
   "metadata": {
    "collapsed": true
   },
   "outputs": [],
   "source": [
    "MAX_LENGTH = 50"
   ]
  },
  {
   "cell_type": "markdown",
   "metadata": {},
   "source": [
    "Dictionary to transform a vector back to the program:"
   ]
  },
  {
   "cell_type": "code",
   "execution_count": 33,
   "metadata": {
    "collapsed": true
   },
   "outputs": [],
   "source": [
    "id_to_word = { v: k for k, v in word_t.word_index.items() }"
   ]
  },
  {
   "cell_type": "code",
   "execution_count": 34,
   "metadata": {},
   "outputs": [
    {
     "data": {
      "text/plain": [
       "u'='"
      ]
     },
     "execution_count": 34,
     "metadata": {},
     "output_type": "execute_result"
    }
   ],
   "source": [
    "id_to_word[1]"
   ]
  },
  {
   "cell_type": "code",
   "execution_count": 35,
   "metadata": {},
   "outputs": [
    {
     "data": {
      "text/plain": [
       "[u'a',\n",
       " u'=',\n",
       " u'int(raw_input())',\n",
       " u'b',\n",
       " u'=',\n",
       " u'int(raw_input())',\n",
       " u'print',\n",
       " u'a',\n",
       " u'+',\n",
       " u'b']"
      ]
     },
     "execution_count": 35,
     "metadata": {},
     "output_type": "execute_result"
    }
   ],
   "source": [
    "[id_to_word[index] for index in sequences[0]]"
   ]
  },
  {
   "cell_type": "markdown",
   "metadata": {
    "collapsed": true
   },
   "source": [
    "Pad documents:"
   ]
  },
  {
   "cell_type": "code",
   "execution_count": 36,
   "metadata": {
    "collapsed": true
   },
   "outputs": [],
   "source": [
    "from keras.preprocessing.sequence import pad_sequences"
   ]
  },
  {
   "cell_type": "code",
   "execution_count": 37,
   "metadata": {
    "collapsed": true
   },
   "outputs": [],
   "source": [
    "# pad documents\n",
    "padded_docs = pad_sequences(sequences, maxlen=MAX_LENGTH, padding='post')"
   ]
  },
  {
   "cell_type": "code",
   "execution_count": 38,
   "metadata": {},
   "outputs": [
    {
     "data": {
      "text/plain": [
       "array([ 17,   1, 358,  50,   1, 358,   6,  17,   3,  50,   0,   0,   0,\n",
       "         0,   0,   0,   0,   0,   0,   0,   0,   0,   0,   0,   0,   0,\n",
       "         0,   0,   0,   0,   0,   0,   0,   0,   0,   0,   0,   0,   0,\n",
       "         0,   0,   0,   0,   0,   0,   0,   0,   0,   0,   0], dtype=int32)"
      ]
     },
     "execution_count": 38,
     "metadata": {},
     "output_type": "execute_result"
    }
   ],
   "source": [
    "padded_docs[0]"
   ]
  },
  {
   "cell_type": "markdown",
   "metadata": {},
   "source": [
    "Model:"
   ]
  },
  {
   "cell_type": "code",
   "execution_count": 39,
   "metadata": {
    "collapsed": true
   },
   "outputs": [],
   "source": [
    "from keras.models import Sequential\n",
    "from keras.layers import Dense\n",
    "from keras.layers import Flatten\n",
    "from keras.layers.embeddings import Embedding"
   ]
  },
  {
   "cell_type": "code",
   "execution_count": 40,
   "metadata": {
    "collapsed": true
   },
   "outputs": [],
   "source": [
    "def get_model():\n",
    "\n",
    "    # define the model\n",
    "    model = Sequential()\n",
    "    model.add(Embedding(NUM_WORDS, 100, input_length=MAX_LENGTH))\n",
    "    model.add(Flatten())\n",
    "    model.add(Dense(1, activation='sigmoid'))\n",
    "    # compile the model\n",
    "    model.compile(optimizer='adam', loss='binary_crossentropy', metrics=['acc'])\n",
    "    # summarize the model\n",
    "    print(model.summary())\n",
    "    return model"
   ]
  },
  {
   "cell_type": "code",
   "execution_count": 41,
   "metadata": {},
   "outputs": [
    {
     "name": "stdout",
     "output_type": "stream",
     "text": [
      "_________________________________________________________________\n",
      "Layer (type)                 Output Shape              Param #   \n",
      "=================================================================\n",
      "embedding_1 (Embedding)      (None, 50, 100)           200000    \n",
      "_________________________________________________________________\n",
      "flatten_1 (Flatten)          (None, 5000)              0         \n",
      "_________________________________________________________________\n",
      "dense_1 (Dense)              (None, 1)                 5001      \n",
      "=================================================================\n",
      "Total params: 205,001\n",
      "Trainable params: 205,001\n",
      "Non-trainable params: 0\n",
      "_________________________________________________________________\n",
      "None\n"
     ]
    }
   ],
   "source": [
    "model = get_model()"
   ]
  },
  {
   "cell_type": "code",
   "execution_count": 42,
   "metadata": {
    "scrolled": false
   },
   "outputs": [
    {
     "name": "stdout",
     "output_type": "stream",
     "text": [
      "Epoch 1/2\n",
      "490820/490820 [==============================] - 92s 187us/step - loss: 0.5811 - acc: 0.6886\n",
      "Epoch 2/2\n",
      "490820/490820 [==============================] - 88s 179us/step - loss: 0.5297 - acc: 0.7279\n"
     ]
    },
    {
     "data": {
      "text/plain": [
       "<keras.callbacks.History at 0x17d61ee10>"
      ]
     },
     "execution_count": 42,
     "metadata": {},
     "output_type": "execute_result"
    }
   ],
   "source": [
    "# fit the model\n",
    "model.fit(padded_docs, labels, epochs=2, verbose=1)"
   ]
  },
  {
   "cell_type": "code",
   "execution_count": 52,
   "metadata": {},
   "outputs": [
    {
     "name": "stdout",
     "output_type": "stream",
     "text": [
      "490820/490820 [==============================] - 21s 42us/step\n",
      "Accuracy: 74.631433, Loss: 49.893192\n"
     ]
    }
   ],
   "source": [
    "# evaluate the model\n",
    "word_loss, word_accuracy = model.evaluate(padded_docs, labels, verbose=1)\n",
    "print('Accuracy: %f, Loss: %f' % (word_accuracy * 100, word_loss * 100))"
   ]
  },
  {
   "cell_type": "code",
   "execution_count": 53,
   "metadata": {
    "collapsed": true
   },
   "outputs": [],
   "source": [
    "def get_embeddings(model):\n",
    "\n",
    "    # Embedding Layer\n",
    "    embedding_layer = model.layers[0]\n",
    "    embeddings = embedding_layer.get_weights()[0]\n",
    "    print 'Embedding Layer shape:', embeddings.shape\n",
    "    \n",
    "    return embeddings"
   ]
  },
  {
   "cell_type": "code",
   "execution_count": 54,
   "metadata": {},
   "outputs": [
    {
     "name": "stdout",
     "output_type": "stream",
     "text": [
      "Embedding Layer shape: (2000, 100)\n"
     ]
    }
   ],
   "source": [
    "embeddings = get_embeddings(model)"
   ]
  },
  {
   "cell_type": "code",
   "execution_count": 55,
   "metadata": {},
   "outputs": [
    {
     "data": {
      "text/plain": [
       "array([  9.35830292e-04,   1.05734700e-02,   1.12906406e-02,\n",
       "        -2.46870751e-03,   7.29252631e-03,  -1.73848867e-02,\n",
       "        -5.30137634e-03,  -1.49289714e-02,  -4.03441004e-02,\n",
       "         1.62757318e-02,   5.44768712e-03,   1.08581886e-03,\n",
       "        -1.81897841e-02,  -1.30264778e-02,   4.55245288e-04,\n",
       "        -1.02828350e-02,  -3.66861513e-03,   1.61655694e-02,\n",
       "         5.38229337e-03,   1.56796072e-02,   9.25059721e-04,\n",
       "        -4.84390976e-03,  -2.96407286e-03,  -2.69914195e-02,\n",
       "        -1.80406086e-02,  -7.12769339e-03,   4.55478812e-03,\n",
       "         5.06949751e-03,  -1.33434348e-02,   1.92649513e-02,\n",
       "         1.04621202e-02,  -7.83672929e-03,  -2.63190847e-02,\n",
       "        -1.05866985e-02,  -1.33209466e-03,  -9.24087944e-05,\n",
       "        -5.20693371e-03,   2.44121961e-02,  -1.40146008e-02,\n",
       "         1.25676701e-02,   6.72124559e-03,   1.07357651e-02,\n",
       "        -1.09996591e-02,   1.95500031e-02,   3.24678398e-03,\n",
       "         1.28017087e-02,  -2.44642962e-02,   5.49635524e-03,\n",
       "         3.37057817e-03,  -1.20633906e-02,  -1.78091216e-03,\n",
       "        -1.80293284e-02,  -2.59575027e-04,  -9.19591822e-03,\n",
       "         1.31879905e-02,  -5.30252146e-06,   1.85087267e-02,\n",
       "         1.27337901e-02,  -9.69173200e-03,   8.50657467e-04,\n",
       "         8.21769820e-04,   1.23887686e-02,   1.47176553e-02,\n",
       "         1.57452341e-05,   6.52176561e-04,   7.49755697e-03,\n",
       "        -2.87508196e-03,  -3.72818485e-03,  -3.91758792e-03,\n",
       "         6.93986611e-03,  -1.27950462e-03,  -6.77540060e-03,\n",
       "        -9.61255562e-03,   3.06077558e-03,  -5.62606659e-03,\n",
       "        -1.11329583e-02,   2.37008464e-02,  -1.52471266e-03,\n",
       "         2.40055714e-02,  -4.65533463e-03,   1.28169348e-02,\n",
       "         1.41933386e-03,   1.51900696e-02,  -1.53611694e-02,\n",
       "        -1.70239713e-02,  -6.94396533e-03,   3.31924930e-02,\n",
       "        -2.31784815e-03,   2.22053006e-03,   1.16139818e-02,\n",
       "        -4.22748562e-04,   2.43609864e-03,  -9.21348692e-06,\n",
       "        -1.69671047e-02,   4.93652420e-04,   3.42560373e-03,\n",
       "         4.13636211e-03,  -8.85046960e-04,   4.62503266e-03,\n",
       "         4.86514810e-03], dtype=float32)"
      ]
     },
     "execution_count": 55,
     "metadata": {},
     "output_type": "execute_result"
    }
   ],
   "source": [
    "embeddings[0]"
   ]
  },
  {
   "cell_type": "code",
   "execution_count": 56,
   "metadata": {
    "collapsed": true
   },
   "outputs": [],
   "source": [
    "np.save('data/processed/word_embeddings', embeddings)"
   ]
  },
  {
   "cell_type": "code",
   "execution_count": 57,
   "metadata": {
    "collapsed": true
   },
   "outputs": [],
   "source": [
    "from sklearn.decomposition import PCA\n",
    "\n",
    "def get_pca(embeddings):\n",
    "\n",
    "    # PCA\n",
    "    pca = PCA(n_components=2)\n",
    "    principal_components = pca.fit_transform(embeddings)\n",
    "    print 'PCA explained variance ratio:', pca.explained_variance_ratio_, 'Total:', sum(pca.explained_variance_ratio_)\n",
    "    return principal_components"
   ]
  },
  {
   "cell_type": "code",
   "execution_count": 58,
   "metadata": {},
   "outputs": [
    {
     "name": "stdout",
     "output_type": "stream",
     "text": [
      "PCA explained variance ratio: [ 0.16400802  0.06445771] Total: 0.228465728462\n"
     ]
    }
   ],
   "source": [
    "pca = get_pca(embeddings)"
   ]
  },
  {
   "cell_type": "code",
   "execution_count": 59,
   "metadata": {
    "collapsed": true
   },
   "outputs": [],
   "source": [
    "def get_top_words(tokenizer, N=50):\n",
    "    \n",
    "    return [word for word, occurrences in sorted(tokenizer.word_counts.items(), key=lambda t: t[1], reverse=True)[:N]]"
   ]
  },
  {
   "cell_type": "code",
   "execution_count": 60,
   "metadata": {},
   "outputs": [],
   "source": [
    "top_words = get_top_words(word_t)"
   ]
  },
  {
   "cell_type": "code",
   "execution_count": 61,
   "metadata": {
    "collapsed": true
   },
   "outputs": [],
   "source": [
    "def plot_embeddings(low_dim_embs, id_to_word, top_words, figsize=(8, 8)):\n",
    "\n",
    "    plt.figure(figsize=figsize, dpi=100)\n",
    "    ax = plt.axes()\n",
    "    ax.yaxis.set_major_locator(plt.NullLocator())\n",
    "    ax.xaxis.set_major_locator(plt.NullLocator())\n",
    "    i = 0\n",
    "    while i < len(low_dim_embs):\n",
    "\n",
    "        if i in id_to_word:\n",
    "            \n",
    "            x, y = low_dim_embs[i, :]\n",
    "            word = id_to_word[i]\n",
    "\n",
    "            if word in top_words:\n",
    "                plt.scatter(x, y, color='b')\n",
    "                plt.annotate(word,\n",
    "                            xy=(x, y),\n",
    "                            xytext=(5, 2),\n",
    "                            textcoords='offset points',\n",
    "                            ha='right',\n",
    "                            va='bottom',\n",
    "                            fontsize=14)\n",
    "        \n",
    "        i += 1"
   ]
  },
  {
   "cell_type": "code",
   "execution_count": 62,
   "metadata": {},
   "outputs": [
    {
     "data": {
      "image/png": "[encoded data removed]",
      "text/plain": [
       "<matplotlib.figure.Figure at 0x19de00090>"
      ]
     },
     "metadata": {},
     "output_type": "display_data"
    }
   ],
   "source": [
    "plot_embeddings(pca, id_to_word, top_words, figsize=(18, 18))"
   ]
  },
  {
   "cell_type": "markdown",
   "metadata": {},
   "source": [
    "## 2) Programs as tokens"
   ]
  },
  {
   "cell_type": "code",
   "execution_count": 63,
   "metadata": {
    "collapsed": true
   },
   "outputs": [],
   "source": [
    "from tokenize import generate_tokens\n",
    "from StringIO import StringIO"
   ]
  },
  {
   "cell_type": "code",
   "execution_count": 64,
   "metadata": {
    "collapsed": true
   },
   "outputs": [],
   "source": [
    "token_ids = []\n",
    "token_words = []\n",
    "token_labels = []\n",
    "i = 0\n",
    "while i < len(docs):\n",
    "    doc = docs[i]\n",
    "    label = labels[i]\n",
    "    try:\n",
    "        tokens = [(t[0], t[1]) for t in list(generate_tokens(StringIO(doc).readline))]\n",
    "        # Token ID\n",
    "        token_ids.append(\n",
    "            [token[0] for token in tokens]\n",
    "        )\n",
    "        # Token\n",
    "        token_words.append(\n",
    "            [token[1] for token in tokens]\n",
    "        )\n",
    "        token_labels.append(\n",
    "            label\n",
    "        )\n",
    "    except:\n",
    "        pass\n",
    "    i += 1"
   ]
  },
  {
   "cell_type": "code",
   "execution_count": 65,
   "metadata": {},
   "outputs": [
    {
     "data": {
      "text/plain": [
       "'Number encoded docs: 472,087'"
      ]
     },
     "execution_count": 65,
     "metadata": {},
     "output_type": "execute_result"
    }
   ],
   "source": [
    "'Number encoded docs: {:,}'.format(len(token_words))"
   ]
  },
  {
   "cell_type": "code",
   "execution_count": 66,
   "metadata": {
    "collapsed": true
   },
   "outputs": [],
   "source": [
    "token_docs = [\n",
    "    ' '.join(array) for array in token_words\n",
    "]"
   ]
  },
  {
   "cell_type": "code",
   "execution_count": 67,
   "metadata": {
    "collapsed": true
   },
   "outputs": [],
   "source": [
    "token_t = get_tokenizer()\n",
    "\n",
    "token_t.fit_on_texts(token_docs)"
   ]
  },
  {
   "cell_type": "code",
   "execution_count": 68,
   "metadata": {
    "collapsed": true
   },
   "outputs": [],
   "source": [
    "# saving\n",
    "with open('token_tokenizer.pickle', 'wb') as handle:\n",
    "    pickle.dump(token_t, handle, protocol=pickle.HIGHEST_PROTOCOL)"
   ]
  },
  {
   "cell_type": "code",
   "execution_count": null,
   "metadata": {
    "collapsed": true
   },
   "outputs": [],
   "source": [
    "token_sequences = token_t.texts_to_sequences(token_docs)\n",
    "\n",
    "id_to_token = { v: k for k, v in token_t.word_index.items() }\n",
    "\n",
    "token_padded_docs = pad_sequences(token_sequences, maxlen=MAX_LENGTH, padding='post')"
   ]
  },
  {
   "cell_type": "code",
   "execution_count": 57,
   "metadata": {},
   "outputs": [
    {
     "name": "stdout",
     "output_type": "stream",
     "text": [
      "_________________________________________________________________\n",
      "Layer (type)                 Output Shape              Param #   \n",
      "=================================================================\n",
      "embedding_2 (Embedding)      (None, 50, 100)           200000    \n",
      "_________________________________________________________________\n",
      "flatten_2 (Flatten)          (None, 5000)              0         \n",
      "_________________________________________________________________\n",
      "dense_2 (Dense)              (None, 1)                 5001      \n",
      "=================================================================\n",
      "Total params: 205,001\n",
      "Trainable params: 205,001\n",
      "Non-trainable params: 0\n",
      "_________________________________________________________________\n",
      "None\n",
      "Epoch 1/2\n",
      "472087/472087 [==============================] - 72s 152us/step - loss: 0.5653 - acc: 0.7042\n",
      "Epoch 2/2\n",
      "472087/472087 [==============================] - 64s 136us/step - loss: 0.5103 - acc: 0.7439\n",
      "472087/472087 [==============================] - ETA:  - 17s 37us/step\n",
      "Accuracy: 76.483572, Loss: 47.870813\n"
     ]
    }
   ],
   "source": [
    "token_model = get_model()\n",
    "\n",
    "token_model.fit(token_padded_docs, token_labels, epochs=2, verbose=1)\n",
    "\n",
    "token_loss, token_accuracy = token_model.evaluate(token_padded_docs, token_labels, verbose=1)\n",
    "print('Accuracy: %f, Loss: %f' % (token_accuracy * 100, token_loss * 100))"
   ]
  },
  {
   "cell_type": "code",
   "execution_count": 58,
   "metadata": {},
   "outputs": [
    {
     "name": "stdout",
     "output_type": "stream",
     "text": [
      "Embedding Layer shape: (2000, 100)\n"
     ]
    },
    {
     "data": {
      "text/plain": [
       "array([ 0.01460352, -0.03239648, -0.00952747, -0.04767586, -0.00056213,\n",
       "       -0.01250812, -0.02986935,  0.02739234,  0.05777664, -0.01667299,\n",
       "       -0.00367632, -0.0067643 , -0.00893395, -0.04015754,  0.05620264,\n",
       "       -0.00233626,  0.00531714, -0.04759621,  0.00420295, -0.01822634,\n",
       "        0.04951934, -0.00466349,  0.0016342 , -0.00396287, -0.02008804,\n",
       "        0.03872301, -0.0294856 , -0.00216598, -0.01532773, -0.00716725,\n",
       "       -0.01303595, -0.08101101,  0.01094339,  0.01036139,  0.01998942,\n",
       "        0.05003039,  0.01344838,  0.03293208, -0.04692577,  0.03910193,\n",
       "       -0.0702792 , -0.10156526, -0.00081641, -0.02767217,  0.10246237,\n",
       "       -0.21030578, -0.01900478, -0.0472949 , -0.02968714,  0.0244431 ,\n",
       "        0.04553653, -0.02478014, -0.00676316, -0.02407935,  0.0813391 ,\n",
       "        0.01661319, -0.00200479, -0.09400276, -0.03220959, -0.00685081,\n",
       "       -0.04375071,  0.02739184,  0.0074121 ,  0.04908051,  0.00070999,\n",
       "        0.01987942, -0.01847783,  0.0186893 , -0.01300028,  0.00652459,\n",
       "       -0.05854509, -0.00849147, -0.01318642,  0.02491122,  0.02655209,\n",
       "        0.03207494, -0.01870047,  0.04353538, -0.04073834,  0.01380107,\n",
       "       -0.02839346,  0.03562218, -0.00042467,  0.02523281, -0.02899464,\n",
       "       -0.03785245,  0.00481962,  0.02182778, -0.03148952,  0.03024995,\n",
       "        0.07327071,  0.01034656, -0.00380674,  0.0103815 , -0.05213293,\n",
       "        0.00516842,  0.02901446,  0.0380734 ,  0.00917329,  0.00782231], dtype=float32)"
      ]
     },
     "execution_count": 58,
     "metadata": {},
     "output_type": "execute_result"
    }
   ],
   "source": [
    "token_embeddings = get_embeddings(token_model)\n",
    "\n",
    "token_embeddings[0]"
   ]
  },
  {
   "cell_type": "code",
   "execution_count": 59,
   "metadata": {
    "collapsed": true
   },
   "outputs": [],
   "source": [
    "np.save('data/processed/token_embeddings', token_embeddings)"
   ]
  },
  {
   "cell_type": "code",
   "execution_count": 60,
   "metadata": {},
   "outputs": [
    {
     "name": "stdout",
     "output_type": "stream",
     "text": [
      "PCA explained variance ratio: [ 0.16990735  0.05500379] Total: 0.224911138415\n"
     ]
    }
   ],
   "source": [
    "token_pca = get_pca(token_embeddings)\n",
    "\n",
    "token_top_words = get_top_words(token_t, N=100)"
   ]
  },
  {
   "cell_type": "code",
   "execution_count": 61,
   "metadata": {},
   "outputs": [
    {
     "data": {
      "image/png": "[encoded data removed]",
      "text/plain": [
       "<matplotlib.figure.Figure at 0x1891043d0>"
      ]
     },
     "metadata": {},
     "output_type": "display_data"
    }
   ],
   "source": [
    "plot_embeddings(token_pca, id_to_token, token_top_words, figsize=(18, 18))"
   ]
  },
  {
   "cell_type": "markdown",
   "metadata": {},
   "source": [
    "## 3) Programs as Abstract Syntax Trees"
   ]
  },
  {
   "cell_type": "code",
   "execution_count": 62,
   "metadata": {
    "collapsed": true
   },
   "outputs": [],
   "source": [
    "# TODO"
   ]
  },
  {
   "cell_type": "markdown",
   "metadata": {},
   "source": [
    "## SCORE"
   ]
  },
  {
   "cell_type": "code",
   "execution_count": 63,
   "metadata": {
    "collapsed": true
   },
   "outputs": [],
   "source": [
    "d = {\n",
    "    'Word NN': (word_loss, word_accuracy),\n",
    "    'Token NN': (token_loss, token_accuracy),\n",
    "    #'AST NN': (ast_loss, ast_accuracy),\n",
    "}"
   ]
  },
  {
   "cell_type": "code",
   "execution_count": 64,
   "metadata": {},
   "outputs": [
    {
     "data": {
      "text/plain": [
       "<matplotlib.legend.Legend at 0x16d8cbf50>"
      ]
     },
     "execution_count": 64,
     "metadata": {},
     "output_type": "execute_result"
    },
    {
     "data": {
      "image/png": "[encoded data removed]",
      "text/plain": [
       "<matplotlib.figure.Figure at 0x16d8a6b10>"
      ]
     },
     "metadata": {},
     "output_type": "display_data"
    }
   ],
   "source": [
    "x = range(len(d))\n",
    "acc = [v[1] for k, v in d.items()]\n",
    "loss = [v[0] for k, v in d.items()]\n",
    "keys = [k.replace(' ', '\\n') for k, v in d.items()]\n",
    "\n",
    "plt.subplots(figsize=(18, 10))\n",
    "plt.grid()\n",
    "plt.plot(x, acc, 'o-', color='b', label='ACC', markersize=10)\n",
    "plt.plot(x, loss, 'o-', color='green', label='Loss', markersize=10)\n",
    "plt.ylabel('Score', fontsize=30)\n",
    "plt.xlabel('Vectorization', fontsize=30)\n",
    "plt.xlim([-1, len(d) + 1])\n",
    "plt.xticks(x, keys)\n",
    "plt.ylim([0, 1])\n",
    "plt.yticks(np.arange(0, 1.1, 0.1))\n",
    "plt.legend(loc=\"upper right\", fontsize=18)"
   ]
  },
  {
   "cell_type": "code",
   "execution_count": null,
   "metadata": {
    "collapsed": true
   },
   "outputs": [],
   "source": []
  }
 ],
 "metadata": {
  "kernelspec": {
   "display_name": "Python 2",
   "language": "python",
   "name": "python2"
  },
  "language_info": {
   "codemirror_mode": {
    "name": "ipython",
    "version": 2
   },
   "file_extension": ".py",
   "mimetype": "text/x-python",
   "name": "python",
   "nbconvert_exporter": "python",
   "pygments_lexer": "ipython2",
   "version": "2.7.14"
  }
 },
 "nbformat": 4,
 "nbformat_minor": 1
}
