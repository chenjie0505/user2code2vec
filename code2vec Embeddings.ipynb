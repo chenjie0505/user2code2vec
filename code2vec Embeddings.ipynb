{
 "cells": [
  {
   "cell_type": "markdown",
   "metadata": {},
   "source": [
    "# code2vec using Embeddings and NN\n",
    "\n",
    "We are going to represent programs as token vectors and learn their representations using embeddings\n",
    "\n",
    "We are going to create a prediction problem and try to predict whether the program submitted with be considered as correct, i.e. the program pass the testcases specified by the lecturer. Creating a prediction problem to learn representations of the data is a useful approach. There is no easy way to represent these programs so we are going to learn these representations. \n",
    " \n",
    "\n",
    "* https://code.google.com/archive/p/word2vec/\n",
    "\n",
    "* https://medium.com/@sabber/classifying-yelp-review-comments-using-cnn-lstm-and-pre-trained-glove-word-embeddings-part-3-53fcea9a17fa\n",
    "\n",
    "* https://www.cse.iitb.ac.in/~pb/papers/bionlp-acl17-medical-coding.pdf\n",
    "\n",
    "* https://github.com/sloomba/protein2vec\n",
    "\n",
    "* https://github.com/samiroid/usr2vec\n",
    "\n",
    "* https://github.com/keras-team/keras/blob/master/examples/pretrained_word_embeddings.py\n",
    "\n",
    "* http://ahogrammer.com/2017/01/20/the-list-of-pretrained-word-embeddings/\n",
    "\n",
    "* Topic Modelling for Humans: https://radimrehurek.com/gensim/\n",
    "\n",
    "* https://spacy.io/models/\n",
    "\n",
    "* https://www.shanelynn.ie/get-busy-with-word-embeddings-introduction/\n",
    "\n",
    "* Code2Vec https://ieeexplore.ieee.org/stamp/stamp.jsp?tp=&arnumber=8031179&tag=1, https://arxiv.org/pdf/1803.09473.pdf, https://code2vec.org/\n",
    "\n",
    "* From People2Vec to Emotional AI: http://people2vec.org/\n",
    "\n",
    "* Using Word2vec for Music Recommendations: https://towardsdatascience.com/using-word2vec-for-music-recommendations-bb9649ac2484\n",
    "\n",
    "* Source code identifier embeddings: https://blog.sourced.tech/post/id2vec/\n",
    "\n",
    "* Recommending Recommendation Systems: https://gab41.lab41.org/recommending-recommendation-systems-cc39ace3f5c1, https://github.com/Lab41/Misc/blob/master/blog/python2vec/Python2Vec%20Example.ipynb\n",
    "\n",
    "* Python2Vec: Word Embeddings for Source Code: https://gab41.lab41.org/python2vec-word-embeddings-for-source-code-3d14d030fe8f\n",
    "\n",
    "* Anything2Vec: https://gab41.lab41.org/anything2vec-e99ec0dc186\n",
    "\n",
    "* AutoKeras: https://towardsdatascience.com/autokeras-the-killer-of-googles-automl-9e84c552a319, https://autokeras.com/\n",
    "\n",
    "* Learning Program Embeddings to Propagate Feedback on Student Code: https://web.stanford.edu/~cpiech/bio/papers/programEncoding.pdf, https://github.com/chrispiech/refactoredEncoder\n",
    "\n",
    "* Research at Code.org: https://code.org/research\n",
    "\n",
    "* Cheatsheet: https://startupsventurecapital.com/essential-cheat-sheets-for-machine-learning-and-deep-learning-researchers-efb6a8ebd2e5\n",
    "\n",
    "* DCU Deep Learning Summer School: https://telecombcn-dl.github.io/2018-dlcv/, https://www.slideshare.net/xavigiro/d1l2-the-neural-network-zoo-upc-2018-deep-learning-for-computer-vision\n",
    "\n",
    "* Embeddings: https://developers.google.com/machine-learning/crash-course/embeddings/video-lecture"
   ]
  },
  {
   "cell_type": "code",
   "execution_count": 1,
   "metadata": {
    "collapsed": true
   },
   "outputs": [],
   "source": [
    "import pandas as pd\n",
    "import numpy as np\n",
    "import matplotlib.pyplot as plt\n",
    "%matplotlib inline"
   ]
  },
  {
   "cell_type": "code",
   "execution_count": 2,
   "metadata": {
    "collapsed": true
   },
   "outputs": [],
   "source": [
    "font = {'weight': 'bold', 'size': 20}\n",
    "plt.rc('font', **font)"
   ]
  },
  {
   "cell_type": "markdown",
   "metadata": {},
   "source": [
    "## VECTORIZE\n",
    "\n",
    "**Programming data**: Student develop programs locally for the laboratory sheets of computer programming courses at our university. These programs are submitted by them to an automatic grading platform that runs some test cases specified by the lecturer on each program. A JSON output for those testcases and whether the program passed them or not along with the actual code is stored."
   ]
  },
  {
   "cell_type": "code",
   "execution_count": 3,
   "metadata": {},
   "outputs": [
    {
     "name": "stdout",
     "output_type": "stream",
     "text": [
      "data/raw/programming_data.json\r\n"
     ]
    }
   ],
   "source": [
    "!ls data/raw/programming_data.json"
   ]
  },
  {
   "cell_type": "code",
   "execution_count": 4,
   "metadata": {
    "collapsed": true
   },
   "outputs": [],
   "source": [
    "dataframe = pd.read_json('data/raw/programming_data.json')"
   ]
  },
  {
   "cell_type": "code",
   "execution_count": 5,
   "metadata": {},
   "outputs": [
    {
     "data": {
      "text/html": [
       "<div>\n",
       "<style>\n",
       "    .dataframe thead tr:only-child th {\n",
       "        text-align: right;\n",
       "    }\n",
       "\n",
       "    .dataframe thead th {\n",
       "        text-align: left;\n",
       "    }\n",
       "\n",
       "    .dataframe tbody tr th {\n",
       "        vertical-align: top;\n",
       "    }\n",
       "</style>\n",
       "<table border=\"1\" class=\"dataframe\">\n",
       "  <thead>\n",
       "    <tr style=\"text-align: right;\">\n",
       "      <th></th>\n",
       "      <th>academic_year_0</th>\n",
       "      <th>academic_year_1</th>\n",
       "      <th>correct</th>\n",
       "      <th>date</th>\n",
       "      <th>extension</th>\n",
       "      <th>ip</th>\n",
       "      <th>module</th>\n",
       "      <th>task</th>\n",
       "      <th>upload</th>\n",
       "      <th>user</th>\n",
       "    </tr>\n",
       "  </thead>\n",
       "  <tbody>\n",
       "    <tr>\n",
       "      <th>0</th>\n",
       "      <td>2016</td>\n",
       "      <td>2017</td>\n",
       "      <td>True</td>\n",
       "      <td>2016-09-19 14:11:41</td>\n",
       "      <td>py</td>\n",
       "      <td></td>\n",
       "      <td>ca277</td>\n",
       "      <td>add.py</td>\n",
       "      <td>#!/usr/bin/env python\\n\\na = int(raw_input())\\...</td>\n",
       "      <td>b9e7e608-6036-4d44-8770-a7036176b53c</td>\n",
       "    </tr>\n",
       "    <tr>\n",
       "      <th>1</th>\n",
       "      <td>2016</td>\n",
       "      <td>2017</td>\n",
       "      <td>True</td>\n",
       "      <td>2016-09-19 14:17:33</td>\n",
       "      <td>py</td>\n",
       "      <td></td>\n",
       "      <td>ca277</td>\n",
       "      <td>concat-lines.py</td>\n",
       "      <td>#!/usr/bin/env python\\n\\na = str(raw_input())\\...</td>\n",
       "      <td>b9e7e608-6036-4d44-8770-a7036176b53c</td>\n",
       "    </tr>\n",
       "  </tbody>\n",
       "</table>\n",
       "</div>"
      ],
      "text/plain": [
       "  academic_year_0 academic_year_1  correct                date extension ip  \\\n",
       "0            2016            2017     True 2016-09-19 14:11:41        py      \n",
       "1            2016            2017     True 2016-09-19 14:17:33        py      \n",
       "\n",
       "  module             task                                             upload  \\\n",
       "0  ca277           add.py  #!/usr/bin/env python\\n\\na = int(raw_input())\\...   \n",
       "1  ca277  concat-lines.py  #!/usr/bin/env python\\n\\na = str(raw_input())\\...   \n",
       "\n",
       "                                   user  \n",
       "0  b9e7e608-6036-4d44-8770-a7036176b53c  \n",
       "1  b9e7e608-6036-4d44-8770-a7036176b53c  "
      ]
     },
     "execution_count": 5,
     "metadata": {},
     "output_type": "execute_result"
    }
   ],
   "source": [
    "dataframe.head(2)"
   ]
  },
  {
   "cell_type": "code",
   "execution_count": 6,
   "metadata": {},
   "outputs": [
    {
     "data": {
      "text/plain": [
       "'591,707'"
      ]
     },
     "execution_count": 6,
     "metadata": {},
     "output_type": "execute_result"
    }
   ],
   "source": [
    "'{:,}'.format(len(dataframe))"
   ]
  },
  {
   "cell_type": "markdown",
   "metadata": {},
   "source": [
    "Grab only code submissions from Python modules:"
   ]
  },
  {
   "cell_type": "code",
   "execution_count": 7,
   "metadata": {
    "collapsed": true
   },
   "outputs": [],
   "source": [
    "PYTHON_MODULES = [\n",
    "    'ca116', \n",
    "    'ca117', \n",
    "    'ca177', \n",
    "    'ca277', \n",
    "    'ca278',\n",
    "]"
   ]
  },
  {
   "cell_type": "code",
   "execution_count": 8,
   "metadata": {
    "collapsed": true
   },
   "outputs": [],
   "source": [
    "dataframe = dataframe[dataframe['module'].isin(PYTHON_MODULES)]"
   ]
  },
  {
   "cell_type": "code",
   "execution_count": 9,
   "metadata": {},
   "outputs": [
    {
     "data": {
      "text/plain": [
       "'490,820'"
      ]
     },
     "execution_count": 9,
     "metadata": {},
     "output_type": "execute_result"
    }
   ],
   "source": [
    "'{:,}'.format(len(dataframe))"
   ]
  },
  {
   "cell_type": "markdown",
   "metadata": {},
   "source": [
    "Target value:"
   ]
  },
  {
   "cell_type": "code",
   "execution_count": 10,
   "metadata": {},
   "outputs": [
    {
     "data": {
      "text/plain": [
       "False    296369\n",
       "True     194451\n",
       "Name: correct, dtype: int64"
      ]
     },
     "execution_count": 10,
     "metadata": {},
     "output_type": "execute_result"
    }
   ],
   "source": [
    "dataframe.correct.value_counts()"
   ]
  },
  {
   "cell_type": "markdown",
   "metadata": {},
   "source": [
    "Remove comments:"
   ]
  },
  {
   "cell_type": "code",
   "execution_count": 11,
   "metadata": {
    "collapsed": true
   },
   "outputs": [],
   "source": [
    "import re\n",
    "def remove_comments(text):\n",
    "    return re.sub(re.compile('#.*?\\n'), '', text)"
   ]
  },
  {
   "cell_type": "markdown",
   "metadata": {},
   "source": [
    "Grab docs (code submissions) and labels (correct or not):"
   ]
  },
  {
   "cell_type": "code",
   "execution_count": 12,
   "metadata": {
    "collapsed": true
   },
   "outputs": [],
   "source": [
    "def get_docs_and_labels(df):\n",
    "    _docs = []\n",
    "    _labels = []\n",
    "    for index in df.index:\n",
    "        # Program\n",
    "        code = remove_comments(\n",
    "            df.at[index, 'upload']\n",
    "        )\n",
    "        _docs.append(code)\n",
    "        # Label\n",
    "        label = int(df.at[index, 'correct'])\n",
    "        _labels.append(label)\n",
    "    return _docs, _labels"
   ]
  },
  {
   "cell_type": "code",
   "execution_count": 13,
   "metadata": {
    "collapsed": true
   },
   "outputs": [],
   "source": [
    "docs, labels = get_docs_and_labels(dataframe)"
   ]
  },
  {
   "cell_type": "code",
   "execution_count": 14,
   "metadata": {},
   "outputs": [
    {
     "data": {
      "text/plain": [
       "'490,820'"
      ]
     },
     "execution_count": 14,
     "metadata": {},
     "output_type": "execute_result"
    }
   ],
   "source": [
    "'{:,}'.format(len(docs))"
   ]
  },
  {
   "cell_type": "code",
   "execution_count": 15,
   "metadata": {
    "scrolled": true
   },
   "outputs": [
    {
     "data": {
      "text/plain": [
       "u'\\na = int(raw_input())\\nb = int(raw_input())\\n\\nprint a + b\\n\\n\\n'"
      ]
     },
     "execution_count": 15,
     "metadata": {},
     "output_type": "execute_result"
    }
   ],
   "source": [
    "docs[0]"
   ]
  },
  {
   "cell_type": "code",
   "execution_count": 16,
   "metadata": {},
   "outputs": [
    {
     "data": {
      "text/plain": [
       "1"
      ]
     },
     "execution_count": 16,
     "metadata": {},
     "output_type": "execute_result"
    }
   ],
   "source": [
    "labels[0]"
   ]
  },
  {
   "cell_type": "markdown",
   "metadata": {},
   "source": [
    "## 1) Programs as word vectors\n",
    "\n",
    "https://faroit.github.io/keras-docs/1.2.2/preprocessing/text/"
   ]
  },
  {
   "cell_type": "code",
   "execution_count": 17,
   "metadata": {
    "scrolled": true
   },
   "outputs": [
    {
     "name": "stderr",
     "output_type": "stream",
     "text": [
      "Using TensorFlow backend.\n"
     ]
    }
   ],
   "source": [
    "from keras.preprocessing.text import Tokenizer"
   ]
  },
  {
   "cell_type": "code",
   "execution_count": 18,
   "metadata": {
    "collapsed": true
   },
   "outputs": [],
   "source": [
    "NUM_WORDS = 2000 # Originally 231,659 words"
   ]
  },
  {
   "cell_type": "code",
   "execution_count": 19,
   "metadata": {
    "collapsed": true
   },
   "outputs": [],
   "source": [
    "def get_tokenizer():\n",
    "\n",
    "    return Tokenizer(num_words=NUM_WORDS, \n",
    "                     filters='\\t\\n', \n",
    "                     lower=True, \n",
    "                     split=' ', \n",
    "                     char_level=False)"
   ]
  },
  {
   "cell_type": "code",
   "execution_count": 20,
   "metadata": {
    "collapsed": true
   },
   "outputs": [],
   "source": [
    "word_t = get_tokenizer()"
   ]
  },
  {
   "cell_type": "code",
   "execution_count": 21,
   "metadata": {
    "collapsed": true
   },
   "outputs": [],
   "source": [
    "word_t.fit_on_texts(docs)"
   ]
  },
  {
   "cell_type": "code",
   "execution_count": 22,
   "metadata": {},
   "outputs": [
    {
     "data": {
      "text/plain": [
       "552539"
      ]
     },
     "execution_count": 22,
     "metadata": {},
     "output_type": "execute_result"
    }
   ],
   "source": [
    "# word_counts: a dictionary of words and their counts.\n",
    "word_t.word_counts['if'] # word count"
   ]
  },
  {
   "cell_type": "code",
   "execution_count": 23,
   "metadata": {},
   "outputs": [
    {
     "data": {
      "text/plain": [
       "'Number docs: 490,820'"
      ]
     },
     "execution_count": 23,
     "metadata": {},
     "output_type": "execute_result"
    }
   ],
   "source": [
    "# document_count: an integer count of the total number of documents that were used to fit the Tokenizer.\n",
    "'Number docs: {:,}'.format(word_t.document_count)"
   ]
  },
  {
   "cell_type": "code",
   "execution_count": 24,
   "metadata": {},
   "outputs": [
    {
     "data": {
      "text/plain": [
       "4"
      ]
     },
     "execution_count": 24,
     "metadata": {},
     "output_type": "execute_result"
    }
   ],
   "source": [
    "# word_index: a dictionary of words and their uniquely assigned integers.\n",
    "word_t.word_index['if'] # index"
   ]
  },
  {
   "cell_type": "code",
   "execution_count": 25,
   "metadata": {},
   "outputs": [
    {
     "data": {
      "text/plain": [
       "298487"
      ]
     },
     "execution_count": 25,
     "metadata": {},
     "output_type": "execute_result"
    }
   ],
   "source": [
    "# word_docs: a dictionary of words and how many documents each appeared in.\n",
    "word_t.word_docs['if']"
   ]
  },
  {
   "cell_type": "code",
   "execution_count": 26,
   "metadata": {
    "collapsed": true
   },
   "outputs": [],
   "source": [
    "import pickle\n",
    "\n",
    "with open('word_tokenizer.pickle', 'wb') as handle:\n",
    "    pickle.dump(word_t, handle, protocol=pickle.HIGHEST_PROTOCOL)"
   ]
  },
  {
   "cell_type": "code",
   "execution_count": 27,
   "metadata": {
    "collapsed": true
   },
   "outputs": [],
   "source": [
    "sequences = word_t.texts_to_sequences(docs)"
   ]
  },
  {
   "cell_type": "code",
   "execution_count": 28,
   "metadata": {},
   "outputs": [
    {
     "data": {
      "text/plain": [
       "[17, 1, 358, 50, 1, 358, 6, 17, 3, 50]"
      ]
     },
     "execution_count": 28,
     "metadata": {},
     "output_type": "execute_result"
    }
   ],
   "source": [
    "sequences[0]"
   ]
  },
  {
   "cell_type": "markdown",
   "metadata": {},
   "source": [
    "Look at the lenght of these sequences:"
   ]
  },
  {
   "cell_type": "code",
   "execution_count": 29,
   "metadata": {
    "collapsed": true
   },
   "outputs": [],
   "source": [
    "len_seqs = [len(s) for s in sequences]"
   ]
  },
  {
   "cell_type": "code",
   "execution_count": 30,
   "metadata": {},
   "outputs": [
    {
     "data": {
      "text/plain": [
       "(38.591420480013042, 38.577314137088699, 2358)"
      ]
     },
     "execution_count": 30,
     "metadata": {},
     "output_type": "execute_result"
    }
   ],
   "source": [
    "np.mean(len_seqs), np.std(len_seqs), np.max(len_seqs)"
   ]
  },
  {
   "cell_type": "code",
   "execution_count": 31,
   "metadata": {
    "collapsed": true
   },
   "outputs": [],
   "source": [
    "MAX_LENGTH = 50"
   ]
  },
  {
   "cell_type": "markdown",
   "metadata": {},
   "source": [
    "Dictionary to transform a vector back to the program:"
   ]
  },
  {
   "cell_type": "code",
   "execution_count": 32,
   "metadata": {
    "collapsed": true
   },
   "outputs": [],
   "source": [
    "id_to_word = { v: k for k, v in word_t.word_index.items() }"
   ]
  },
  {
   "cell_type": "code",
   "execution_count": 33,
   "metadata": {},
   "outputs": [
    {
     "data": {
      "text/plain": [
       "u'='"
      ]
     },
     "execution_count": 33,
     "metadata": {},
     "output_type": "execute_result"
    }
   ],
   "source": [
    "id_to_word[1]"
   ]
  },
  {
   "cell_type": "code",
   "execution_count": 34,
   "metadata": {},
   "outputs": [
    {
     "data": {
      "text/plain": [
       "[u'a',\n",
       " u'=',\n",
       " u'int(raw_input())',\n",
       " u'b',\n",
       " u'=',\n",
       " u'int(raw_input())',\n",
       " u'print',\n",
       " u'a',\n",
       " u'+',\n",
       " u'b']"
      ]
     },
     "execution_count": 34,
     "metadata": {},
     "output_type": "execute_result"
    }
   ],
   "source": [
    "[id_to_word[index] for index in sequences[0]]"
   ]
  },
  {
   "cell_type": "markdown",
   "metadata": {
    "collapsed": true
   },
   "source": [
    "Pad documents:"
   ]
  },
  {
   "cell_type": "code",
   "execution_count": 35,
   "metadata": {
    "collapsed": true
   },
   "outputs": [],
   "source": [
    "from keras.preprocessing.sequence import pad_sequences"
   ]
  },
  {
   "cell_type": "code",
   "execution_count": 36,
   "metadata": {
    "collapsed": true
   },
   "outputs": [],
   "source": [
    "# pad documents\n",
    "padded_docs = pad_sequences(sequences, maxlen=MAX_LENGTH, padding='post')"
   ]
  },
  {
   "cell_type": "code",
   "execution_count": 37,
   "metadata": {},
   "outputs": [
    {
     "data": {
      "text/plain": [
       "array([ 17,   1, 358,  50,   1, 358,   6,  17,   3,  50,   0,   0,   0,\n",
       "         0,   0,   0,   0,   0,   0,   0,   0,   0,   0,   0,   0,   0,\n",
       "         0,   0,   0,   0,   0,   0,   0,   0,   0,   0,   0,   0,   0,\n",
       "         0,   0,   0,   0,   0,   0,   0,   0,   0,   0,   0], dtype=int32)"
      ]
     },
     "execution_count": 37,
     "metadata": {},
     "output_type": "execute_result"
    }
   ],
   "source": [
    "padded_docs[0]"
   ]
  },
  {
   "cell_type": "markdown",
   "metadata": {},
   "source": [
    "Model:"
   ]
  },
  {
   "cell_type": "code",
   "execution_count": 38,
   "metadata": {
    "collapsed": true
   },
   "outputs": [],
   "source": [
    "from keras.models import Sequential\n",
    "from keras.layers import Dense\n",
    "from keras.layers import Flatten\n",
    "from keras.layers.embeddings import Embedding"
   ]
  },
  {
   "cell_type": "code",
   "execution_count": 39,
   "metadata": {
    "collapsed": true
   },
   "outputs": [],
   "source": [
    "def get_model():\n",
    "\n",
    "    # define the model\n",
    "    model = Sequential()\n",
    "    model.add(Embedding(NUM_WORDS, 100, input_length=MAX_LENGTH))\n",
    "    model.add(Flatten())\n",
    "    model.add(Dense(1, activation='sigmoid'))\n",
    "    # compile the model\n",
    "    model.compile(optimizer='adam', loss='binary_crossentropy', metrics=['acc'])\n",
    "    # summarize the model\n",
    "    print(model.summary())\n",
    "    return model"
   ]
  },
  {
   "cell_type": "code",
   "execution_count": 40,
   "metadata": {},
   "outputs": [
    {
     "name": "stdout",
     "output_type": "stream",
     "text": [
      "_________________________________________________________________\n",
      "Layer (type)                 Output Shape              Param #   \n",
      "=================================================================\n",
      "embedding_1 (Embedding)      (None, 50, 100)           200000    \n",
      "_________________________________________________________________\n",
      "flatten_1 (Flatten)          (None, 5000)              0         \n",
      "_________________________________________________________________\n",
      "dense_1 (Dense)              (None, 1)                 5001      \n",
      "=================================================================\n",
      "Total params: 205,001\n",
      "Trainable params: 205,001\n",
      "Non-trainable params: 0\n",
      "_________________________________________________________________\n",
      "None\n"
     ]
    }
   ],
   "source": [
    "model = get_model()"
   ]
  },
  {
   "cell_type": "code",
   "execution_count": 41,
   "metadata": {
    "scrolled": false
   },
   "outputs": [
    {
     "name": "stdout",
     "output_type": "stream",
     "text": [
      "Train on 392656 samples, validate on 98164 samples\n",
      "Epoch 1/2\n",
      "392656/392656 [==============================] - 25s 63us/step - loss: 0.5927 - acc: 0.6771 - val_loss: 0.6566 - val_acc: 0.6348\n",
      "Epoch 2/2\n",
      "392656/392656 [==============================] - 22s 57us/step - loss: 0.5325 - acc: 0.7258 - val_loss: 0.6993 - val_acc: 0.6367\n"
     ]
    },
    {
     "data": {
      "text/plain": [
       "<keras.callbacks.History at 0x1830f98d0>"
      ]
     },
     "execution_count": 41,
     "metadata": {},
     "output_type": "execute_result"
    }
   ],
   "source": [
    "# fit the model\n",
    "# model.fit(padded_docs, labels, epochs=2, verbose=1)\n",
    "\n",
    "model.fit(padded_docs, \n",
    "          labels,\n",
    "          batch_size=128,\n",
    "          epochs=2,\n",
    "          validation_split=0.2)"
   ]
  },
  {
   "cell_type": "code",
   "execution_count": 42,
   "metadata": {},
   "outputs": [
    {
     "name": "stdout",
     "output_type": "stream",
     "text": [
      "490820/490820 [==============================] - 19s 40us/step\n",
      "Accuracy: 72.730329, Loss: 53.976663\n"
     ]
    }
   ],
   "source": [
    "# evaluate the model\n",
    "word_loss, word_accuracy = model.evaluate(padded_docs, labels, verbose=1)\n",
    "print('Accuracy: %f, Loss: %f' % (word_accuracy * 100, word_loss * 100))"
   ]
  },
  {
   "cell_type": "code",
   "execution_count": 129,
   "metadata": {
    "collapsed": true
   },
   "outputs": [],
   "source": [
    "word_score = {\n",
    "    'accuracy': word_accuracy,\n",
    "    'loss': word_loss,\n",
    "}\n",
    "embeddings_scores = { 'Word': word_score }"
   ]
  },
  {
   "cell_type": "code",
   "execution_count": 43,
   "metadata": {
    "collapsed": true
   },
   "outputs": [],
   "source": [
    "def get_embeddings(model):\n",
    "\n",
    "    # Embedding Layer\n",
    "    embedding_layer = model.layers[0]\n",
    "    embeddings = embedding_layer.get_weights()[0]\n",
    "    print 'Embedding Layer shape:', embeddings.shape\n",
    "    \n",
    "    return embeddings"
   ]
  },
  {
   "cell_type": "code",
   "execution_count": 44,
   "metadata": {},
   "outputs": [
    {
     "name": "stdout",
     "output_type": "stream",
     "text": [
      "Embedding Layer shape: (2000, 100)\n"
     ]
    }
   ],
   "source": [
    "embeddings = get_embeddings(model)"
   ]
  },
  {
   "cell_type": "code",
   "execution_count": 45,
   "metadata": {},
   "outputs": [
    {
     "data": {
      "text/plain": [
       "array([  1.30102616e-02,  -3.31541849e-03,   9.20820236e-03,\n",
       "        -4.04026266e-03,   1.37938187e-02,  -2.96938233e-04,\n",
       "        -8.87724105e-03,   1.51044196e-02,  -6.70031877e-03,\n",
       "         2.02970095e-02,   1.15323570e-02,   1.76684689e-02,\n",
       "        -3.29914736e-03,  -1.51842125e-02,   3.41158593e-03,\n",
       "         7.59929046e-03,   1.22711547e-02,   2.44561639e-02,\n",
       "         9.63928085e-03,   9.22557339e-03,  -6.89324271e-03,\n",
       "         1.71551798e-02,  -2.49174032e-02,  -3.62910912e-03,\n",
       "        -1.65731963e-02,   1.01133706e-02,   8.19548685e-03,\n",
       "        -1.18395686e-02,   9.53381043e-03,  -1.19683081e-02,\n",
       "         2.01584361e-02,   8.54355749e-03,   3.25581233e-04,\n",
       "        -1.14840148e-02,  -1.41051784e-03,   1.49482733e-03,\n",
       "         1.63588189e-02,   1.82347242e-02,   2.05257945e-02,\n",
       "        -1.93947591e-02,   7.31566316e-03,   1.83650281e-03,\n",
       "        -1.49149857e-02,  -7.32003478e-03,  -2.60862410e-02,\n",
       "         6.50073634e-03,  -2.67010443e-02,   9.72012337e-03,\n",
       "         7.98153575e-04,  -2.32932288e-02,   1.28632132e-02,\n",
       "        -1.75627996e-03,  -7.20670819e-03,   1.72794554e-02,\n",
       "        -6.51282899e-04,  -1.89702753e-02,   4.88632359e-03,\n",
       "         1.13656484e-02,   1.76792387e-02,   2.54386966e-03,\n",
       "         1.43946288e-02,  -1.34352762e-02,   3.81852675e-04,\n",
       "         1.88867897e-02,  -1.64424609e-02,  -3.06347013e-03,\n",
       "         1.59579571e-02,  -1.56663712e-02,   2.21357937e-03,\n",
       "        -1.58345196e-02,   4.68084402e-03,  -5.18761110e-03,\n",
       "         7.64650945e-03,   4.54134168e-03,   7.08924234e-03,\n",
       "        -2.00480316e-02,   1.10507086e-02,   1.68845803e-02,\n",
       "        -1.06012412e-05,   1.39992777e-02,   1.88821256e-02,\n",
       "         1.87146701e-02,   1.43847821e-04,  -2.03947406e-02,\n",
       "        -6.69798115e-03,   1.40524060e-02,   3.71731445e-03,\n",
       "        -4.51696542e-04,  -1.22014238e-02,  -1.27323763e-03,\n",
       "         4.85555385e-04,   1.57202967e-02,   1.75439995e-02,\n",
       "        -3.02324863e-03,  -5.49033424e-03,   1.71942590e-03,\n",
       "         2.17803046e-02,  -1.14634586e-02,  -1.73378666e-03,\n",
       "        -3.37979719e-02], dtype=float32)"
      ]
     },
     "execution_count": 45,
     "metadata": {},
     "output_type": "execute_result"
    }
   ],
   "source": [
    "embeddings[0]"
   ]
  },
  {
   "cell_type": "code",
   "execution_count": 46,
   "metadata": {
    "collapsed": true
   },
   "outputs": [],
   "source": [
    "# np.save('data/processed/word_embeddings', embeddings)"
   ]
  },
  {
   "cell_type": "code",
   "execution_count": 47,
   "metadata": {
    "collapsed": true
   },
   "outputs": [],
   "source": [
    "from sklearn.decomposition import PCA\n",
    "\n",
    "def get_pca(embeddings):\n",
    "\n",
    "    # PCA\n",
    "    pca = PCA(n_components=2)\n",
    "    principal_components = pca.fit_transform(embeddings)\n",
    "    print 'PCA explained variance ratio:', pca.explained_variance_ratio_, 'Total:', sum(pca.explained_variance_ratio_)\n",
    "    return principal_components"
   ]
  },
  {
   "cell_type": "code",
   "execution_count": 48,
   "metadata": {},
   "outputs": [
    {
     "name": "stdout",
     "output_type": "stream",
     "text": [
      "PCA explained variance ratio: [ 0.17617509  0.06023274] Total: 0.236407823861\n"
     ]
    }
   ],
   "source": [
    "pca = get_pca(embeddings)"
   ]
  },
  {
   "cell_type": "code",
   "execution_count": 49,
   "metadata": {
    "collapsed": true
   },
   "outputs": [],
   "source": [
    "def get_top_words(tokenizer, N=50):\n",
    "    \n",
    "    return [word for word, occurrences in sorted(tokenizer.word_counts.items(), key=lambda t: t[1], reverse=True)[:N]]"
   ]
  },
  {
   "cell_type": "code",
   "execution_count": 50,
   "metadata": {
    "collapsed": true
   },
   "outputs": [],
   "source": [
    "top_words = get_top_words(word_t)"
   ]
  },
  {
   "cell_type": "code",
   "execution_count": 51,
   "metadata": {
    "collapsed": true
   },
   "outputs": [],
   "source": [
    "def plot_embeddings(low_dim_embs, id_to_word, top_words, figsize=(8, 8)):\n",
    "\n",
    "    plt.figure(figsize=figsize, dpi=100)\n",
    "    ax = plt.axes()\n",
    "    ax.yaxis.set_major_locator(plt.NullLocator())\n",
    "    ax.xaxis.set_major_locator(plt.NullLocator())\n",
    "    i = 0\n",
    "    while i < len(low_dim_embs):\n",
    "\n",
    "        if i in id_to_word:\n",
    "            \n",
    "            x, y = low_dim_embs[i, :]\n",
    "            word = id_to_word[i]\n",
    "\n",
    "            if word in top_words:\n",
    "                plt.scatter(x, y, color='b')\n",
    "                plt.annotate(word,\n",
    "                            xy=(x, y),\n",
    "                            xytext=(5, 2),\n",
    "                            textcoords='offset points',\n",
    "                            ha='right',\n",
    "                            va='bottom',\n",
    "                            fontsize=14)\n",
    "        \n",
    "        i += 1"
   ]
  },
  {
   "cell_type": "code",
   "execution_count": 52,
   "metadata": {
    "scrolled": false
   },
   "outputs": [
    {
     "data": {
      "image/png": "[encoded data removed]",
      "text/plain": [
       "<matplotlib.figure.Figure at 0x1a4b19390>"
      ]
     },
     "metadata": {},
     "output_type": "display_data"
    }
   ],
   "source": [
    "plot_embeddings(pca, id_to_word, top_words, figsize=(18, 18))"
   ]
  },
  {
   "cell_type": "code",
   "execution_count": 53,
   "metadata": {},
   "outputs": [
    {
     "data": {
      "image/png": "[encoded data removed]",
      "text/plain": [
       "<matplotlib.figure.Figure at 0x11830b190>"
      ]
     },
     "metadata": {},
     "output_type": "display_data"
    }
   ],
   "source": [
    "plot_embeddings(pca, id_to_word, get_top_words(word_t, 20))"
   ]
  },
  {
   "cell_type": "markdown",
   "metadata": {},
   "source": [
    "Measure the distance between vectors:"
   ]
  },
  {
   "cell_type": "code",
   "execution_count": 54,
   "metadata": {
    "collapsed": true
   },
   "outputs": [],
   "source": [
    "from scipy.spatial.distance import euclidean, cosine\n",
    "\n",
    "def get_vector_distance(embeddings, tok, word1, word2):\n",
    "    \n",
    "    return euclidean(embeddings[tok.word_index[word1]], \n",
    "                     embeddings[tok.word_index[word2]])\n",
    "    \n",
    "def get_vector_cosine_distance(embeddings, tok, word1, word2):\n",
    "    \n",
    "    return cosine(embeddings[tok.word_index[word1]], \n",
    "                  embeddings[tok.word_index[word2]])"
   ]
  },
  {
   "cell_type": "markdown",
   "metadata": {},
   "source": [
    "Cosine similarity:"
   ]
  },
  {
   "cell_type": "code",
   "execution_count": 55,
   "metadata": {},
   "outputs": [
    {
     "data": {
      "text/plain": [
       "1.0449721736428432"
      ]
     },
     "execution_count": 55,
     "metadata": {},
     "output_type": "execute_result"
    }
   ],
   "source": [
    "get_vector_cosine_distance(embeddings, word_t, '<', '>')"
   ]
  },
  {
   "cell_type": "code",
   "execution_count": 56,
   "metadata": {},
   "outputs": [
    {
     "data": {
      "text/plain": [
       "0.98390098108647339"
      ]
     },
     "execution_count": 56,
     "metadata": {},
     "output_type": "execute_result"
    }
   ],
   "source": [
    "get_vector_cosine_distance(embeddings, word_t, 'elif', 'else:')"
   ]
  },
  {
   "cell_type": "code",
   "execution_count": 57,
   "metadata": {},
   "outputs": [
    {
     "data": {
      "text/plain": [
       "0.85684510467589892"
      ]
     },
     "execution_count": 57,
     "metadata": {},
     "output_type": "execute_result"
    }
   ],
   "source": [
    "get_vector_cosine_distance(embeddings, word_t, '+', '-')"
   ]
  },
  {
   "cell_type": "markdown",
   "metadata": {},
   "source": [
    "Euclidean distance:"
   ]
  },
  {
   "cell_type": "code",
   "execution_count": 58,
   "metadata": {
    "scrolled": false
   },
   "outputs": [
    {
     "data": {
      "text/plain": [
       "0.8382436037063599"
      ]
     },
     "execution_count": 58,
     "metadata": {},
     "output_type": "execute_result"
    }
   ],
   "source": [
    "get_vector_distance(embeddings, word_t, '<', '>')"
   ]
  },
  {
   "cell_type": "code",
   "execution_count": 59,
   "metadata": {},
   "outputs": [
    {
     "data": {
      "text/plain": [
       "0.7284256815910339"
      ]
     },
     "execution_count": 59,
     "metadata": {},
     "output_type": "execute_result"
    }
   ],
   "source": [
    "get_vector_distance(embeddings, word_t, '==', '!=')"
   ]
  },
  {
   "cell_type": "code",
   "execution_count": 60,
   "metadata": {},
   "outputs": [
    {
     "data": {
      "text/plain": [
       "0.8253481984138489"
      ]
     },
     "execution_count": 60,
     "metadata": {},
     "output_type": "execute_result"
    }
   ],
   "source": [
    "get_vector_distance(embeddings, word_t, 'if', 'elif')"
   ]
  },
  {
   "cell_type": "code",
   "execution_count": 61,
   "metadata": {},
   "outputs": [
    {
     "data": {
      "text/plain": [
       "0.8891847133636475"
      ]
     },
     "execution_count": 61,
     "metadata": {},
     "output_type": "execute_result"
    }
   ],
   "source": [
    "get_vector_distance(embeddings, word_t, 'elif', 'else:')"
   ]
  },
  {
   "cell_type": "code",
   "execution_count": 62,
   "metadata": {},
   "outputs": [
    {
     "data": {
      "text/plain": [
       "0.8000079393386841"
      ]
     },
     "execution_count": 62,
     "metadata": {},
     "output_type": "execute_result"
    }
   ],
   "source": [
    "get_vector_distance(embeddings, word_t, '+', '-')"
   ]
  },
  {
   "cell_type": "code",
   "execution_count": 63,
   "metadata": {
    "scrolled": true
   },
   "outputs": [
    {
     "data": {
      "text/plain": [
       "0.6813578605651855"
      ]
     },
     "execution_count": 63,
     "metadata": {},
     "output_type": "execute_result"
    }
   ],
   "source": [
    "get_vector_distance(embeddings, word_t, 'for', 'while')"
   ]
  },
  {
   "cell_type": "code",
   "execution_count": 64,
   "metadata": {
    "scrolled": true
   },
   "outputs": [
    {
     "data": {
      "text/plain": [
       "0.6512326002120972"
      ]
     },
     "execution_count": 64,
     "metadata": {},
     "output_type": "execute_result"
    }
   ],
   "source": [
    "get_vector_distance(embeddings, word_t, 'def', 'import')"
   ]
  },
  {
   "cell_type": "code",
   "execution_count": 65,
   "metadata": {
    "collapsed": true
   },
   "outputs": [],
   "source": [
    "def get_neighbors(word, emb, tok, id_to_item, top_n=5):\n",
    "\n",
    "    dist = {}\n",
    "    i = 0\n",
    "    while i < len(emb):\n",
    "\n",
    "        if i in id_to_item:\n",
    "            w = id_to_item[i]\n",
    "            if w != word:\n",
    "                dist[w] = get_vector_cosine_distance(emb, tok, word, w)\n",
    "        \n",
    "        i += 1\n",
    "\n",
    "    for key, value in sorted(dist.iteritems(), key=lambda (k,v): (v,k), reverse=True)[:top_n]:\n",
    "        print \"%s: %s\" % (key, value)"
   ]
  },
  {
   "cell_type": "code",
   "execution_count": 66,
   "metadata": {},
   "outputs": [
    {
     "name": "stdout",
     "output_type": "stream",
     "text": [
      "world.\\n\"): 1.62704056389\n",
      "p,: 1.6179079049\n",
      "swap_unique_keys_values(d):: 1.59880462936\n",
      "sys.argv[1]: 1.58544437584\n",
      "l[0]: 1.5789156993\n"
     ]
    }
   ],
   "source": [
    "get_neighbors('if', embeddings, word_t, id_to_word)"
   ]
  },
  {
   "cell_type": "code",
   "execution_count": 67,
   "metadata": {},
   "outputs": [
    {
     "name": "stdout",
     "output_type": "stream",
     "text": [
      "[i: 1.48325386585\n",
      "print(\"you: 1.47351591906\n",
      "[w: 1.46080445422\n",
      "every: 1.45035726578\n",
      "wins: 1.44243310929\n"
     ]
    }
   ],
   "source": [
    "get_neighbors('+', embeddings, word_t, id_to_word)"
   ]
  },
  {
   "cell_type": "code",
   "execution_count": 68,
   "metadata": {},
   "outputs": [
    {
     "name": "stdout",
     "output_type": "stream",
     "text": [
      "s[0]: 1.47042120199\n",
      "s[:-1]: 1.45301138812\n",
      "100: 1.42042907078\n",
      "disqualified: 1.39984575832\n",
      "\"nine\",: 1.3685045652\n"
     ]
    }
   ],
   "source": [
    "get_neighbors('for', embeddings, word_t, id_to_word)"
   ]
  },
  {
   "cell_type": "code",
   "execution_count": 69,
   "metadata": {},
   "outputs": [
    {
     "name": "stdout",
     "output_type": "stream",
     "text": [
      "\"\\n\"): 1.55132502059\n",
      "filename: 1.54673524813\n",
      "__init__(self: 1.54336464257\n",
      "bankaccount.total_lodgements: 1.53875589508\n",
      "fruit:: 1.5233551874\n"
     ]
    }
   ],
   "source": [
    "get_neighbors('1', embeddings, word_t, id_to_word)"
   ]
  },
  {
   "cell_type": "code",
   "execution_count": 70,
   "metadata": {},
   "outputs": [
    {
     "name": "stdout",
     "output_type": "stream",
     "text": [
      "wages(self):: 1.64791392698\n",
      "p,: 1.64416701535\n",
      "{:.2f}\".format(self.name,: 1.63754282314\n",
      "a.append(int(line)): 1.602403659\n",
      "points=0):: 1.60234031477\n"
     ]
    }
   ],
   "source": [
    "get_neighbors('def', embeddings, word_t, id_to_word)"
   ]
  },
  {
   "cell_type": "markdown",
   "metadata": {},
   "source": [
    "## 2) Programs as tokens"
   ]
  },
  {
   "cell_type": "code",
   "execution_count": 71,
   "metadata": {
    "collapsed": true
   },
   "outputs": [],
   "source": [
    "from tokenize import generate_tokens\n",
    "from StringIO import StringIO"
   ]
  },
  {
   "cell_type": "code",
   "execution_count": 72,
   "metadata": {
    "collapsed": true
   },
   "outputs": [],
   "source": [
    "token_ids = []\n",
    "token_words = []\n",
    "token_labels = []\n",
    "i = 0\n",
    "while i < len(docs):\n",
    "    doc = docs[i]\n",
    "    label = labels[i]\n",
    "    try:\n",
    "        tokens = [(t[0], t[1]) for t in list(generate_tokens(StringIO(doc).readline))]\n",
    "        # Token ID\n",
    "        token_ids.append(\n",
    "            [token[0] for token in tokens]\n",
    "        )\n",
    "        # Token\n",
    "        token_words.append(\n",
    "            [token[1] for token in tokens]\n",
    "        )\n",
    "        token_labels.append(\n",
    "            label\n",
    "        )\n",
    "    except:\n",
    "        pass\n",
    "    i += 1"
   ]
  },
  {
   "cell_type": "markdown",
   "metadata": {},
   "source": [
    "### 2.1) Token words"
   ]
  },
  {
   "cell_type": "code",
   "execution_count": 73,
   "metadata": {},
   "outputs": [
    {
     "data": {
      "text/plain": [
       "'Number encoded docs: 472,087'"
      ]
     },
     "execution_count": 73,
     "metadata": {},
     "output_type": "execute_result"
    }
   ],
   "source": [
    "'Number encoded docs: {:,}'.format(len(token_words))"
   ]
  },
  {
   "cell_type": "code",
   "execution_count": 74,
   "metadata": {
    "collapsed": true
   },
   "outputs": [],
   "source": [
    "token_docs = [\n",
    "    ' '.join(array) for array in token_words\n",
    "]"
   ]
  },
  {
   "cell_type": "code",
   "execution_count": 75,
   "metadata": {
    "collapsed": true
   },
   "outputs": [],
   "source": [
    "token_t = get_tokenizer()\n",
    "\n",
    "token_t.fit_on_texts(token_docs)"
   ]
  },
  {
   "cell_type": "code",
   "execution_count": 76,
   "metadata": {
    "collapsed": true
   },
   "outputs": [],
   "source": [
    "# saving\n",
    "with open('token_tokenizer.pickle', 'wb') as handle:\n",
    "    pickle.dump(token_t, handle, protocol=pickle.HIGHEST_PROTOCOL)"
   ]
  },
  {
   "cell_type": "code",
   "execution_count": 77,
   "metadata": {
    "collapsed": true
   },
   "outputs": [],
   "source": [
    "token_sequences = token_t.texts_to_sequences(token_docs)\n",
    "\n",
    "id_to_token = { v: k for k, v in token_t.word_index.items() }\n",
    "\n",
    "token_padded_docs = pad_sequences(token_sequences, maxlen=MAX_LENGTH, padding='post')"
   ]
  },
  {
   "cell_type": "code",
   "execution_count": 78,
   "metadata": {},
   "outputs": [
    {
     "name": "stdout",
     "output_type": "stream",
     "text": [
      "_________________________________________________________________\n",
      "Layer (type)                 Output Shape              Param #   \n",
      "=================================================================\n",
      "embedding_2 (Embedding)      (None, 50, 100)           200000    \n",
      "_________________________________________________________________\n",
      "flatten_2 (Flatten)          (None, 5000)              0         \n",
      "_________________________________________________________________\n",
      "dense_2 (Dense)              (None, 1)                 5001      \n",
      "=================================================================\n",
      "Total params: 205,001\n",
      "Trainable params: 205,001\n",
      "Non-trainable params: 0\n",
      "_________________________________________________________________\n",
      "None\n",
      "Train on 377669 samples, validate on 94418 samples\n",
      "Epoch 1/2\n",
      "377669/377669 [==============================] - 22s 57us/step - loss: 0.5772 - acc: 0.6927 - val_loss: 0.6660 - val_acc: 0.6351\n",
      "Epoch 2/2\n",
      "377669/377669 [==============================] - 19s 50us/step - loss: 0.5103 - acc: 0.7443 - val_loss: 0.6756 - val_acc: 0.6653\n",
      "472087/472087 [==============================] - 17s 36us/step\n",
      "Accuracy: 74.195858, Loss: 51.984684\n"
     ]
    }
   ],
   "source": [
    "token_model = get_model()\n",
    "\n",
    "token_model.fit(token_padded_docs, \n",
    "                token_labels,\n",
    "                batch_size=128,\n",
    "                epochs=2,\n",
    "                validation_split=0.2)\n",
    "\n",
    "token_loss, token_accuracy = token_model.evaluate(token_padded_docs, token_labels, verbose=1)\n",
    "print('Accuracy: %f, Loss: %f' % (token_accuracy * 100, token_loss * 100))"
   ]
  },
  {
   "cell_type": "code",
   "execution_count": 130,
   "metadata": {
    "collapsed": true
   },
   "outputs": [],
   "source": [
    "token_score = {\n",
    "    'accuracy': token_accuracy,\n",
    "    'loss': token_loss,\n",
    "}\n",
    "embeddings_scores['Word Token'] = token_score"
   ]
  },
  {
   "cell_type": "code",
   "execution_count": 79,
   "metadata": {},
   "outputs": [
    {
     "name": "stdout",
     "output_type": "stream",
     "text": [
      "Embedding Layer shape: (2000, 100)\n"
     ]
    },
    {
     "data": {
      "text/plain": [
       "array([  3.50252725e-03,   1.37998462e-02,  -1.77380234e-01,\n",
       "         6.35293052e-02,   6.03527250e-03,  -6.78978115e-02,\n",
       "        -3.91467242e-03,  -5.26777208e-02,  -7.68449455e-02,\n",
       "         8.33068714e-02,   2.23422889e-02,   2.46576946e-02,\n",
       "         1.09764576e-01,  -7.63060851e-03,  -1.27133995e-01,\n",
       "         1.69861857e-02,  -2.79654600e-02,  -7.48254359e-03,\n",
       "        -8.39845836e-02,   3.22490768e-03,   1.78193171e-02,\n",
       "         5.37862489e-03,  -3.68050709e-02,   1.25979783e-03,\n",
       "        -1.19293589e-04,   2.37874892e-02,  -7.84554705e-03,\n",
       "        -2.83123180e-02,   3.64997238e-02,   7.29747675e-03,\n",
       "        -1.14062214e-02,   5.98050021e-02,  -4.00535092e-02,\n",
       "         6.34413026e-03,  -3.04493643e-02,  -1.40111344e-02,\n",
       "        -4.92205247e-02,   1.59549303e-02,   4.84804995e-02,\n",
       "        -2.39058025e-02,  -3.50580029e-02,   4.02900651e-02,\n",
       "        -2.82534882e-02,   2.89389715e-02,  -2.03504134e-02,\n",
       "         5.51030301e-02,   3.41624133e-02,   2.56372131e-02,\n",
       "         7.75925862e-03,   2.72955769e-03,  -5.85459918e-03,\n",
       "         6.21398501e-02,  -4.82663028e-02,  -1.26160281e-02,\n",
       "         4.36720960e-02,   3.41830775e-02,  -2.71656699e-02,\n",
       "         5.66748902e-03,  -2.44247485e-02,   5.14648072e-02,\n",
       "        -1.49860844e-01,   5.56332320e-02,  -3.49621736e-02,\n",
       "        -3.24042849e-02,   1.62539575e-02,  -3.38527001e-02,\n",
       "        -3.50825116e-02,   4.65380885e-02,  -4.32187840e-02,\n",
       "        -1.16529949e-02,  -6.62929267e-02,   3.04406490e-02,\n",
       "         4.77189693e-04,   4.15531769e-02,  -8.20190646e-03,\n",
       "         5.16217686e-02,   6.93259686e-02,  -1.31567001e-01,\n",
       "        -4.18091677e-02,  -2.66925227e-02,   2.33743377e-02,\n",
       "         4.34568617e-03,  -9.28463042e-03,  -2.18492784e-02,\n",
       "        -6.80718059e-03,   4.92692068e-02,  -2.30637100e-02,\n",
       "         8.42062309e-02,  -3.54089551e-02,  -5.63302636e-02,\n",
       "        -5.58056310e-02,   9.78451446e-02,  -2.23928560e-02,\n",
       "        -5.40745072e-02,   7.21315667e-02,   3.55057977e-02,\n",
       "        -1.38149008e-01,  -1.18164523e-02,   3.15160342e-02,\n",
       "         1.27784982e-02], dtype=float32)"
      ]
     },
     "execution_count": 79,
     "metadata": {},
     "output_type": "execute_result"
    }
   ],
   "source": [
    "token_embeddings = get_embeddings(token_model)\n",
    "\n",
    "token_embeddings[0]"
   ]
  },
  {
   "cell_type": "code",
   "execution_count": 80,
   "metadata": {
    "collapsed": true
   },
   "outputs": [],
   "source": [
    "# np.save('data/processed/token_embeddings', token_embeddings)"
   ]
  },
  {
   "cell_type": "code",
   "execution_count": 81,
   "metadata": {},
   "outputs": [
    {
     "name": "stdout",
     "output_type": "stream",
     "text": [
      "PCA explained variance ratio: [ 0.19701943  0.0628709 ] Total: 0.259890332818\n"
     ]
    }
   ],
   "source": [
    "token_pca = get_pca(token_embeddings)\n",
    "\n",
    "token_top_words = get_top_words(token_t, N=100)"
   ]
  },
  {
   "cell_type": "code",
   "execution_count": 82,
   "metadata": {},
   "outputs": [
    {
     "data": {
      "image/png": "[encoded data removed]",
      "text/plain": [
       "<matplotlib.figure.Figure at 0x1790f7b50>"
      ]
     },
     "metadata": {},
     "output_type": "display_data"
    }
   ],
   "source": [
    "plot_embeddings(token_pca, id_to_token, token_top_words, figsize=(18, 18))"
   ]
  },
  {
   "cell_type": "code",
   "execution_count": 83,
   "metadata": {},
   "outputs": [
    {
     "data": {
      "image/png": "[encoded data removed]",
      "text/plain": [
       "<matplotlib.figure.Figure at 0x18083ce90>"
      ]
     },
     "metadata": {},
     "output_type": "display_data"
    }
   ],
   "source": [
    "plot_embeddings(token_pca, id_to_token, get_top_words(token_t, 20))"
   ]
  },
  {
   "cell_type": "markdown",
   "metadata": {},
   "source": [
    "Distances:"
   ]
  },
  {
   "cell_type": "code",
   "execution_count": 84,
   "metadata": {},
   "outputs": [
    {
     "data": {
      "text/plain": [
       "0.99465388651841902"
      ]
     },
     "execution_count": 84,
     "metadata": {},
     "output_type": "execute_result"
    }
   ],
   "source": [
    "get_vector_cosine_distance(token_embeddings, token_t, '<', '>')"
   ]
  },
  {
   "cell_type": "code",
   "execution_count": 85,
   "metadata": {},
   "outputs": [
    {
     "data": {
      "text/plain": [
       "0.95332349164319363"
      ]
     },
     "execution_count": 85,
     "metadata": {},
     "output_type": "execute_result"
    }
   ],
   "source": [
    "get_vector_cosine_distance(token_embeddings, token_t, '+', '-')"
   ]
  },
  {
   "cell_type": "code",
   "execution_count": 86,
   "metadata": {},
   "outputs": [
    {
     "data": {
      "text/plain": [
       "0.77960699603989969"
      ]
     },
     "execution_count": 86,
     "metadata": {},
     "output_type": "execute_result"
    }
   ],
   "source": [
    "get_vector_cosine_distance(token_embeddings, token_t, 'if', 'elif')"
   ]
  },
  {
   "cell_type": "code",
   "execution_count": 87,
   "metadata": {},
   "outputs": [
    {
     "data": {
      "text/plain": [
       "0.95547929308587809"
      ]
     },
     "execution_count": 87,
     "metadata": {},
     "output_type": "execute_result"
    }
   ],
   "source": [
    "get_vector_cosine_distance(token_embeddings, token_t, 'elif', 'else')"
   ]
  },
  {
   "cell_type": "code",
   "execution_count": 88,
   "metadata": {},
   "outputs": [
    {
     "data": {
      "text/plain": [
       "1.0165046758931975"
      ]
     },
     "execution_count": 88,
     "metadata": {},
     "output_type": "execute_result"
    }
   ],
   "source": [
    "get_vector_cosine_distance(token_embeddings, token_t, '}', ']')"
   ]
  },
  {
   "cell_type": "code",
   "execution_count": 89,
   "metadata": {},
   "outputs": [
    {
     "name": "stdout",
     "output_type": "stream",
     "text": [
      "1.80965220928\n"
     ]
    }
   ],
   "source": [
    "# vector('Paris') - vector('France') + vector('Italy') results in a vector that is very close to vector('Rome')\n",
    "vector = np.add( \n",
    "    np.subtract(token_embeddings[token_t.word_index['elif']], token_embeddings[token_t.word_index['else']]),\n",
    "    token_embeddings[token_t.word_index['}']]\n",
    ")\n",
    "\n",
    "print euclidean(token_embeddings[token_t.word_index[']']], \n",
    "                vector)        "
   ]
  },
  {
   "cell_type": "code",
   "execution_count": 90,
   "metadata": {},
   "outputs": [
    {
     "data": {
      "text/plain": [
       "0.63660124350939573"
      ]
     },
     "execution_count": 90,
     "metadata": {},
     "output_type": "execute_result"
    }
   ],
   "source": [
    "get_vector_cosine_distance(token_embeddings, token_t, 'for', 'while')"
   ]
  },
  {
   "cell_type": "code",
   "execution_count": 91,
   "metadata": {},
   "outputs": [
    {
     "data": {
      "text/plain": [
       "0.52827423605107804"
      ]
     },
     "execution_count": 91,
     "metadata": {},
     "output_type": "execute_result"
    }
   ],
   "source": [
    "get_vector_cosine_distance(token_embeddings, token_t, '{', '}')"
   ]
  },
  {
   "cell_type": "code",
   "execution_count": 92,
   "metadata": {
    "scrolled": true
   },
   "outputs": [
    {
     "data": {
      "text/plain": [
       "1.0166489920702746"
      ]
     },
     "execution_count": 92,
     "metadata": {},
     "output_type": "execute_result"
    }
   ],
   "source": [
    "get_vector_cosine_distance(token_embeddings, token_t, '(', ')')"
   ]
  },
  {
   "cell_type": "code",
   "execution_count": 93,
   "metadata": {},
   "outputs": [
    {
     "data": {
      "text/plain": [
       "1.0954532838549504"
      ]
     },
     "execution_count": 93,
     "metadata": {},
     "output_type": "execute_result"
    }
   ],
   "source": [
    "get_vector_cosine_distance(token_embeddings, token_t, '[', ']')"
   ]
  },
  {
   "cell_type": "markdown",
   "metadata": {},
   "source": [
    "Euclidean:"
   ]
  },
  {
   "cell_type": "code",
   "execution_count": 94,
   "metadata": {},
   "outputs": [
    {
     "data": {
      "text/plain": [
       "1.1083074808120728"
      ]
     },
     "execution_count": 94,
     "metadata": {},
     "output_type": "execute_result"
    }
   ],
   "source": [
    "get_vector_distance(token_embeddings, token_t, '<', '>')"
   ]
  },
  {
   "cell_type": "code",
   "execution_count": 95,
   "metadata": {},
   "outputs": [
    {
     "data": {
      "text/plain": [
       "0.9957721829414368"
      ]
     },
     "execution_count": 95,
     "metadata": {},
     "output_type": "execute_result"
    }
   ],
   "source": [
    "get_vector_distance(token_embeddings, token_t, '+', '-')"
   ]
  },
  {
   "cell_type": "code",
   "execution_count": 96,
   "metadata": {},
   "outputs": [
    {
     "data": {
      "text/plain": [
       "0.8986144065856934"
      ]
     },
     "execution_count": 96,
     "metadata": {},
     "output_type": "execute_result"
    }
   ],
   "source": [
    "get_vector_distance(token_embeddings, token_t, '==', '!=')"
   ]
  },
  {
   "cell_type": "code",
   "execution_count": 97,
   "metadata": {},
   "outputs": [
    {
     "data": {
      "text/plain": [
       "1.1148247718811035"
      ]
     },
     "execution_count": 97,
     "metadata": {},
     "output_type": "execute_result"
    }
   ],
   "source": [
    "get_vector_distance(token_embeddings, token_t, 'if', 'elif')"
   ]
  },
  {
   "cell_type": "code",
   "execution_count": 98,
   "metadata": {},
   "outputs": [
    {
     "data": {
      "text/plain": [
       "1.1448495388031006"
      ]
     },
     "execution_count": 98,
     "metadata": {},
     "output_type": "execute_result"
    }
   ],
   "source": [
    "get_vector_distance(token_embeddings, token_t, 'elif', 'else')"
   ]
  },
  {
   "cell_type": "code",
   "execution_count": 99,
   "metadata": {},
   "outputs": [
    {
     "data": {
      "text/plain": [
       "2.555802345275879"
      ]
     },
     "execution_count": 99,
     "metadata": {},
     "output_type": "execute_result"
    }
   ],
   "source": [
    "get_vector_distance(token_embeddings, token_t, '*', '/')"
   ]
  },
  {
   "cell_type": "code",
   "execution_count": 100,
   "metadata": {},
   "outputs": [
    {
     "data": {
      "text/plain": [
       "0.9365643262863159"
      ]
     },
     "execution_count": 100,
     "metadata": {},
     "output_type": "execute_result"
    }
   ],
   "source": [
    "get_vector_distance(token_embeddings, token_t, 'for', 'while')"
   ]
  },
  {
   "cell_type": "code",
   "execution_count": 101,
   "metadata": {},
   "outputs": [
    {
     "data": {
      "text/plain": [
       "1.4555065631866455"
      ]
     },
     "execution_count": 101,
     "metadata": {},
     "output_type": "execute_result"
    }
   ],
   "source": [
    "get_vector_distance(token_embeddings, token_t, '{', '[')"
   ]
  },
  {
   "cell_type": "code",
   "execution_count": 102,
   "metadata": {},
   "outputs": [
    {
     "data": {
      "text/plain": [
       "0.78183354080901257"
      ]
     },
     "execution_count": 102,
     "metadata": {},
     "output_type": "execute_result"
    }
   ],
   "source": [
    "get_vector_cosine_distance(token_embeddings, token_t, '{', '[')"
   ]
  },
  {
   "cell_type": "code",
   "execution_count": 103,
   "metadata": {},
   "outputs": [
    {
     "data": {
      "text/plain": [
       "1.1523090600967407"
      ]
     },
     "execution_count": 103,
     "metadata": {},
     "output_type": "execute_result"
    }
   ],
   "source": [
    "get_vector_distance(token_embeddings, token_t, '}', ']')"
   ]
  },
  {
   "cell_type": "code",
   "execution_count": 104,
   "metadata": {},
   "outputs": [
    {
     "data": {
      "text/plain": [
       "0.7306205034255981"
      ]
     },
     "execution_count": 104,
     "metadata": {},
     "output_type": "execute_result"
    }
   ],
   "source": [
    "get_vector_distance(token_embeddings, token_t, '[', ']')"
   ]
  },
  {
   "cell_type": "code",
   "execution_count": 106,
   "metadata": {},
   "outputs": [
    {
     "data": {
      "text/plain": [
       "0.4645760953426361"
      ]
     },
     "execution_count": 106,
     "metadata": {},
     "output_type": "execute_result"
    }
   ],
   "source": [
    "get_vector_distance(token_embeddings, token_t, '(', ')')"
   ]
  },
  {
   "cell_type": "markdown",
   "metadata": {},
   "source": [
    "Neighbors:"
   ]
  },
  {
   "cell_type": "code",
   "execution_count": 107,
   "metadata": {
    "scrolled": true
   },
   "outputs": [
    {
     "name": "stdout",
     "output_type": "stream",
     "text": [
      "{:.2f}': 1.66944176847\n",
      "divide: 1.63787970304\n",
      "e1: 1.62408741029\n",
      "living.\": 1.62176179645\n",
      "{:>15.2f}: 1.58671578934\n",
      "equal_to: 1.58312606881\n",
      "{:.1f}\": 1.58232620154\n",
      "\".bak\": 1.57921285412\n",
      "show_student: 1.56850769681\n",
      "'fred': 1.56535221157\n"
     ]
    }
   ],
   "source": [
    "get_neighbors('if', token_embeddings, token_t, id_to_token, top_n=10)"
   ]
  },
  {
   "cell_type": "code",
   "execution_count": 108,
   "metadata": {
    "scrolled": true
   },
   "outputs": [
    {
     "name": "stdout",
     "output_type": "stream",
     "text": [
      "\"even\": 1.52608281357\n",
      "fibonacci: 1.50162810774\n",
      "\"fizzbuzz\": 1.49058781666\n",
      "fare: 1.48214210252\n",
      "tmp2: 1.40889150385\n"
     ]
    }
   ],
   "source": [
    "get_neighbors('for', token_embeddings, token_t, id_to_token)"
   ]
  },
  {
   "cell_type": "code",
   "execution_count": 109,
   "metadata": {
    "scrolled": true
   },
   "outputs": [
    {
     "name": "stdout",
     "output_type": "stream",
     "text": [
      "s1: 1.48437084377\n",
      "format: 1.47078789305\n",
      "surname: 1.41732428553\n",
      "'.': 1.4073449969\n",
      "f_b: 1.40674228364\n",
      "40000: 1.40470425773\n",
      "aline: 1.39713400153\n",
      "11: 1.39432940264\n",
      "{:.2f}\": 1.38857362084\n",
      "primes: 1.38657492375\n"
     ]
    }
   ],
   "source": [
    "get_neighbors('i', token_embeddings, token_t, id_to_token, top_n=10)"
   ]
  },
  {
   "cell_type": "code",
   "execution_count": 110,
   "metadata": {
    "scrolled": false
   },
   "outputs": [
    {
     "name": "stdout",
     "output_type": "stream",
     "text": [
      "dot: 1.60458909658\n",
      "bytes': 1.58003548737\n",
      "are.\": 1.53068326288\n",
      "ds: 1.52134057351\n",
      "point2: 1.51433419102\n",
      "honours: 1.50710230924\n",
      "{}\\nnumber:: 1.50530261317\n",
      "opened.\": 1.50490101344\n",
      "break: 1.49433085866\n",
      "'qu': 1.47985844695\n"
     ]
    }
   ],
   "source": [
    "get_neighbors('print', token_embeddings, token_t, id_to_token, top_n=10)"
   ]
  },
  {
   "cell_type": "code",
   "execution_count": 111,
   "metadata": {},
   "outputs": [
    {
     "name": "stdout",
     "output_type": "stream",
     "text": [
      "\"february\": 1.53346277083\n",
      "runner: 1.53137704581\n",
      "isdigit: 1.52681006527\n",
      "grace.\": 1.50569648718\n",
      "permis: 1.50281200959\n",
      "wordcount: 1.49707801488\n",
      "\"four\": 1.49176259432\n",
      "hundred\": 1.48777567213\n",
      "'id:: 1.46974089138\n",
      "'words: 1.46080187784\n",
      "letters:': 1.46052668086\n",
      "'february': 1.45738349612\n",
      "students: 1.45562939873\n",
      "'please: 1.45047444453\n",
      "free: 1.44880977862\n",
      "{:<3}: 1.44332354526\n",
      "\"translation.txt\": 1.43676603612\n",
      "\"ch\": 1.43522578026\n",
      "union: 1.43389839781\n",
      "mile: 1.43317417357\n"
     ]
    }
   ],
   "source": [
    "get_neighbors('1', token_embeddings, token_t, id_to_token, top_n=20)"
   ]
  },
  {
   "cell_type": "markdown",
   "metadata": {},
   "source": [
    "### 2.2) Token categories"
   ]
  },
  {
   "cell_type": "code",
   "execution_count": 112,
   "metadata": {},
   "outputs": [
    {
     "data": {
      "text/plain": [
       "'Number encoded docs: 472,087'"
      ]
     },
     "execution_count": 112,
     "metadata": {},
     "output_type": "execute_result"
    }
   ],
   "source": [
    "'Number encoded docs: {:,}'.format(len(token_ids))"
   ]
  },
  {
   "cell_type": "code",
   "execution_count": 113,
   "metadata": {
    "collapsed": true
   },
   "outputs": [],
   "source": [
    "token_ids = [\n",
    "    ' '.join([str(a) for a in array]) for array in token_ids\n",
    "]"
   ]
  },
  {
   "cell_type": "code",
   "execution_count": 114,
   "metadata": {
    "collapsed": true
   },
   "outputs": [],
   "source": [
    "category_t = get_tokenizer()\n",
    "\n",
    "category_t.fit_on_texts(token_ids)"
   ]
  },
  {
   "cell_type": "code",
   "execution_count": 115,
   "metadata": {
    "collapsed": true
   },
   "outputs": [],
   "source": [
    "# saving\n",
    "with open('category_tokenizer.pickle', 'wb') as handle:\n",
    "    pickle.dump(category_t, handle, protocol=pickle.HIGHEST_PROTOCOL)"
   ]
  },
  {
   "cell_type": "code",
   "execution_count": 116,
   "metadata": {
    "collapsed": true
   },
   "outputs": [],
   "source": [
    "category_sequences = category_t.texts_to_sequences(token_ids)\n",
    "\n",
    "id_to_category = { v: k for k, v in category_t.word_index.items() } # GET THE NAMES here for each category number?\n",
    "\n",
    "category_padded_docs = pad_sequences(category_sequences, maxlen=MAX_LENGTH, padding='post')"
   ]
  },
  {
   "cell_type": "code",
   "execution_count": 117,
   "metadata": {},
   "outputs": [
    {
     "name": "stdout",
     "output_type": "stream",
     "text": [
      "_________________________________________________________________\n",
      "Layer (type)                 Output Shape              Param #   \n",
      "=================================================================\n",
      "embedding_3 (Embedding)      (None, 50, 100)           200000    \n",
      "_________________________________________________________________\n",
      "flatten_3 (Flatten)          (None, 5000)              0         \n",
      "_________________________________________________________________\n",
      "dense_3 (Dense)              (None, 1)                 5001      \n",
      "=================================================================\n",
      "Total params: 205,001\n",
      "Trainable params: 205,001\n",
      "Non-trainable params: 0\n",
      "_________________________________________________________________\n",
      "None\n",
      "Train on 377669 samples, validate on 94418 samples\n",
      "Epoch 1/2\n",
      "377669/377669 [==============================] - 20s 53us/step - loss: 0.6665 - acc: 0.5988 - val_loss: 0.6510 - val_acc: 0.6296\n",
      "Epoch 2/2\n",
      "377669/377669 [==============================] - 19s 51us/step - loss: 0.6636 - acc: 0.6013 - val_loss: 0.6537 - val_acc: 0.6199\n",
      "472087/472087 [==============================] - 18s 38us/step\n",
      "Accuracy: 74.195858, Loss: 51.984684\n"
     ]
    }
   ],
   "source": [
    "category_model = get_model()\n",
    "\n",
    "category_model.fit(category_padded_docs, \n",
    "                   token_labels,\n",
    "                   batch_size=128,\n",
    "                   epochs=2,\n",
    "                   validation_split=0.2)\n",
    "\n",
    "cat_loss, cat_accuracy = token_model.evaluate(category_padded_docs, token_labels, verbose=1)\n",
    "print('Accuracy: %f, Loss: %f' % (token_accuracy * 100, token_loss * 100))"
   ]
  },
  {
   "cell_type": "code",
   "execution_count": 131,
   "metadata": {
    "collapsed": true
   },
   "outputs": [],
   "source": [
    "category_score = {\n",
    "    'accuracy': cat_accuracy,\n",
    "    'loss': cat_loss,\n",
    "}\n",
    "embeddings_scores['Category Token'] = category_score"
   ]
  },
  {
   "cell_type": "code",
   "execution_count": 118,
   "metadata": {},
   "outputs": [
    {
     "name": "stdout",
     "output_type": "stream",
     "text": [
      "Embedding Layer shape: (2000, 100)\n"
     ]
    },
    {
     "data": {
      "text/plain": [
       "array([ -4.66358196e-03,  -1.22231629e-03,  -1.19618662e-02,\n",
       "         2.32440680e-02,   2.83180736e-02,   3.02692037e-03,\n",
       "         9.83100478e-03,  -3.12851812e-03,  -1.03556989e-02,\n",
       "         2.78051989e-03,   2.11337842e-02,  -2.17873417e-02,\n",
       "        -3.26872338e-03,   1.31304264e-02,  -1.24341622e-02,\n",
       "        -5.47411910e-04,  -1.08766248e-02,  -4.51148860e-03,\n",
       "         4.29796707e-03,   5.31856567e-02,  -2.83434708e-03,\n",
       "        -1.15630049e-02,   5.51912049e-03,  -2.82078162e-02,\n",
       "         3.85357589e-02,  -1.37020666e-02,   4.32796730e-03,\n",
       "         2.18181610e-02,  -1.60530198e-03,  -5.80819033e-04,\n",
       "         3.06573743e-03,  -3.09281214e-03,  -2.61318162e-02,\n",
       "         1.41810458e-02,  -2.14086846e-02,   1.38713475e-02,\n",
       "         1.84655678e-03,  -2.02289093e-02,   2.40982138e-03,\n",
       "         1.57238487e-02,  -3.15116625e-03,  -8.74094665e-04,\n",
       "         1.67519487e-02,  -2.38787010e-03,  -2.18259147e-03,\n",
       "        -1.32768238e-02,   8.77151266e-03,   4.19459492e-02,\n",
       "        -2.04889569e-02,   7.42402207e-03,   1.08478013e-02,\n",
       "         9.95525159e-03,   4.13887165e-02,  -2.51660403e-03,\n",
       "         2.05585286e-02,   3.29189515e-03,   1.12749571e-02,\n",
       "         1.20765679e-02,  -4.20703739e-03,   5.11150360e-02,\n",
       "        -4.47476702e-03,   1.89959351e-02,  -2.26868503e-02,\n",
       "         8.64978600e-03,  -3.08151171e-03,   2.30695540e-03,\n",
       "        -4.42248583e-02,   1.07959900e-02,   3.50868935e-03,\n",
       "        -5.02257899e-06,  -1.44988927e-03,   1.30984299e-02,\n",
       "         5.80898207e-03,   7.19785923e-03,  -1.05074025e-03,\n",
       "        -3.50756058e-03,   9.41576622e-03,  -9.67608392e-02,\n",
       "        -4.06179903e-03,  -3.91505240e-03,   3.81928915e-03,\n",
       "         4.13490180e-03,  -6.70419307e-03,   3.14138015e-03,\n",
       "        -7.31072575e-03,  -3.66173089e-02,   4.17798292e-03,\n",
       "         2.20593647e-03,   5.35349660e-02,   5.33365272e-02,\n",
       "         5.91243524e-03,  -2.64549581e-03,  -4.53225709e-02,\n",
       "         2.21342547e-03,  -1.05424738e-02,  -3.28782350e-02,\n",
       "        -7.53922900e-03,   2.40871031e-02,  -1.26585690e-02,\n",
       "        -1.30187096e-02], dtype=float32)"
      ]
     },
     "execution_count": 118,
     "metadata": {},
     "output_type": "execute_result"
    }
   ],
   "source": [
    "category_embeddings = get_embeddings(category_model)\n",
    "\n",
    "category_embeddings[0]"
   ]
  },
  {
   "cell_type": "code",
   "execution_count": 119,
   "metadata": {
    "collapsed": true
   },
   "outputs": [],
   "source": [
    "# np.save('data/processed/token_category_embeddings', category_embeddings)"
   ]
  },
  {
   "cell_type": "code",
   "execution_count": 120,
   "metadata": {},
   "outputs": [
    {
     "name": "stdout",
     "output_type": "stream",
     "text": [
      "PCA explained variance ratio: [ 0.16513482  0.02271609] Total: 0.18785091117\n"
     ]
    }
   ],
   "source": [
    "category_pca = get_pca(category_embeddings)"
   ]
  },
  {
   "cell_type": "code",
   "execution_count": 121,
   "metadata": {
    "collapsed": true
   },
   "outputs": [],
   "source": [
    "category_top_words = get_top_words(category_t, N=100)"
   ]
  },
  {
   "cell_type": "code",
   "execution_count": 122,
   "metadata": {},
   "outputs": [
    {
     "data": {
      "image/png": "[encoded data removed]",
      "text/plain": [
       "<matplotlib.figure.Figure at 0x18086d210>"
      ]
     },
     "metadata": {},
     "output_type": "display_data"
    }
   ],
   "source": [
    "plot_embeddings(category_pca, id_to_category, category_top_words, figsize=(18, 18))"
   ]
  },
  {
   "cell_type": "code",
   "execution_count": 123,
   "metadata": {},
   "outputs": [
    {
     "data": {
      "image/png": "[encoded data removed]",
      "text/plain": [
       "<matplotlib.figure.Figure at 0x1ab9796b50>"
      ]
     },
     "metadata": {},
     "output_type": "display_data"
    }
   ],
   "source": [
    "plot_embeddings(category_pca, id_to_category, get_top_words(category_t, 20))"
   ]
  },
  {
   "cell_type": "markdown",
   "metadata": {},
   "source": [
    "## 3) Programs as Abstract Syntax Trees"
   ]
  },
  {
   "cell_type": "code",
   "execution_count": 124,
   "metadata": {
    "collapsed": true
   },
   "outputs": [],
   "source": [
    "# TODO"
   ]
  },
  {
   "cell_type": "code",
   "execution_count": 132,
   "metadata": {},
   "outputs": [
    {
     "data": {
      "text/plain": [
       "{'Category Token': {'accuracy': 0.53987294714753264,\n",
       "  'loss': 0.7111181435142423},\n",
       " 'Word': {'accuracy': 0.72730328837455682, 'loss': 0.53976663109980905},\n",
       " 'Word Token': {'accuracy': 0.74195857966782053, 'loss': 0.51984683732987469}}"
      ]
     },
     "execution_count": 132,
     "metadata": {},
     "output_type": "execute_result"
    }
   ],
   "source": [
    "embeddings_scores"
   ]
  },
  {
   "cell_type": "code",
   "execution_count": 134,
   "metadata": {},
   "outputs": [],
   "source": [
    "import json\n",
    "with open('data/processed/embeddings_scores.json', 'w') as outfile:\n",
    "    json.dump(embeddings_scores, outfile)"
   ]
  },
  {
   "cell_type": "markdown",
   "metadata": {},
   "source": [
    "## SCORE"
   ]
  },
  {
   "cell_type": "code",
   "execution_count": 135,
   "metadata": {
    "collapsed": true
   },
   "outputs": [],
   "source": [
    "scores = json.load(open('data/processed/embeddings_scores.json'))"
   ]
  },
  {
   "cell_type": "code",
   "execution_count": 136,
   "metadata": {},
   "outputs": [
    {
     "data": {
      "text/plain": [
       "{u'Category Token': {u'accuracy': 0.5398729471475326,\n",
       "  u'loss': 0.7111181435142423},\n",
       " u'Word': {u'accuracy': 0.7273032883745568, u'loss': 0.539766631099809},\n",
       " u'Word Token': {u'accuracy': 0.7419585796678205, u'loss': 0.5198468373298747}}"
      ]
     },
     "execution_count": 136,
     "metadata": {},
     "output_type": "execute_result"
    }
   ],
   "source": [
    "scores"
   ]
  },
  {
   "cell_type": "code",
   "execution_count": 138,
   "metadata": {},
   "outputs": [
    {
     "data": {
      "text/plain": [
       "<matplotlib.legend.Legend at 0x1ab9df7590>"
      ]
     },
     "execution_count": 138,
     "metadata": {},
     "output_type": "execute_result"
    },
    {
     "data": {
      "image/png": "[encoded data removed]",
      "text/plain": [
       "<matplotlib.figure.Figure at 0x1ab9c94b50>"
      ]
     },
     "metadata": {},
     "output_type": "display_data"
    }
   ],
   "source": [
    "x = range(len(scores))\n",
    "acc = [v['accuracy'] for k, v in scores.items()]\n",
    "loss = [v['loss'] for k, v in scores.items()]\n",
    "keys = [k.replace(' ', '\\n') for k, v in scores.items()]\n",
    "\n",
    "plt.subplots(figsize=(18, 10))\n",
    "plt.grid()\n",
    "plt.plot(x, acc, 'o-', color='b', label='ACC', markersize=10)\n",
    "plt.plot(x, loss, 'o-', color='red', label='Loss', markersize=10)\n",
    "plt.ylabel('Score', fontsize=30)\n",
    "plt.xlabel('Vectorization', fontsize=30)\n",
    "plt.xlim([-1, len(scores) + 1])\n",
    "plt.xticks(x, keys)\n",
    "plt.ylim([0, 1])\n",
    "plt.yticks(np.arange(0, 1.1, 0.1))\n",
    "plt.legend(loc=\"upper right\", fontsize=18)"
   ]
  },
  {
   "cell_type": "code",
   "execution_count": null,
   "metadata": {
    "collapsed": true
   },
   "outputs": [],
   "source": []
  },
  {
   "cell_type": "code",
   "execution_count": null,
   "metadata": {
    "collapsed": true
   },
   "outputs": [],
   "source": []
  }
 ],
 "metadata": {
  "kernelspec": {
   "display_name": "Python 2",
   "language": "python",
   "name": "python2"
  },
  "language_info": {
   "codemirror_mode": {
    "name": "ipython",
    "version": 2
   },
   "file_extension": ".py",
   "mimetype": "text/x-python",
   "name": "python",
   "nbconvert_exporter": "python",
   "pygments_lexer": "ipython2",
   "version": "2.7.14"
  }
 },
 "nbformat": 4,
 "nbformat_minor": 1
}
