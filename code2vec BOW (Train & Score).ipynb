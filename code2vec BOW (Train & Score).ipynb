{
 "cells": [
  {
   "cell_type": "markdown",
   "metadata": {},
   "source": [
    "# code2vec using bag-of-words (BOW) approaches\n",
    "\n",
    "###  As a baseline for learning representations\n",
    "\n",
    "VECTORIZE - Create code vectors using different strategies:\n",
    "\n",
    "1. Word Vectors\n",
    "    * Count\n",
    "    * TF-IDF\n",
    "    * Frequency (ratio)\n",
    "    * Binary (Presence / Absence)\n",
    "2. Token Vectors\n",
    "    * Count\n",
    "3. AST Vectors\n",
    "\n",
    "TRAIN - Learn representations using these combinations of code vectors for a machine to differentiate between:\n",
    "\n",
    "- correct code (code submission pass the testcases)\n",
    "- wrong code (code submission fail the testcases)"
   ]
  },
  {
   "cell_type": "code",
   "execution_count": 1,
   "metadata": {
    "collapsed": true
   },
   "outputs": [],
   "source": [
    "import numpy as np\n",
    "import json\n",
    "import matplotlib.pyplot as plt\n",
    "%matplotlib inline"
   ]
  },
  {
   "cell_type": "code",
   "execution_count": 2,
   "metadata": {
    "collapsed": true
   },
   "outputs": [],
   "source": [
    "font = {'weight': 'bold', 'size': 20}\n",
    "plt.rc('font', **font)"
   ]
  },
  {
   "cell_type": "code",
   "execution_count": 3,
   "metadata": {
    "collapsed": true
   },
   "outputs": [],
   "source": [
    "from sklearn.model_selection import train_test_split\n",
    "from sklearn.naive_bayes import MultinomialNB\n",
    "from sklearn.metrics import accuracy_score, f1_score, precision_score, recall_score, roc_auc_score, \\\n",
    "confusion_matrix, classification_report"
   ]
  },
  {
   "cell_type": "markdown",
   "metadata": {},
   "source": [
    "## TRAIN"
   ]
  },
  {
   "cell_type": "markdown",
   "metadata": {},
   "source": [
    "Load matrices:"
   ]
  },
  {
   "cell_type": "code",
   "execution_count": 3,
   "metadata": {},
   "outputs": [],
   "source": [
    "# encoded_docs_count = np.load('data/processed/word_count.npy')"
   ]
  },
  {
   "cell_type": "code",
   "execution_count": 4,
   "metadata": {
    "collapsed": true
   },
   "outputs": [],
   "source": [
    "word_labels = np.load('data/processed/word_labels.npy')"
   ]
  },
  {
   "cell_type": "code",
   "execution_count": 5,
   "metadata": {
    "collapsed": true
   },
   "outputs": [],
   "source": [
    "encoded_docs_tfidf = np.load('data/processed/word_tfidf.npy')"
   ]
  },
  {
   "cell_type": "code",
   "execution_count": 6,
   "metadata": {
    "collapsed": true
   },
   "outputs": [],
   "source": [
    "encoded_docs_freq = np.load('data/processed/word_freq.npy')"
   ]
  },
  {
   "cell_type": "code",
   "execution_count": 7,
   "metadata": {
    "collapsed": true
   },
   "outputs": [],
   "source": [
    "encoded_docs_binary = np.load('data/processed/word_binary.npy')"
   ]
  },
  {
   "cell_type": "code",
   "execution_count": 8,
   "metadata": {
    "collapsed": true
   },
   "outputs": [],
   "source": [
    "# encoded_category_tokens_count = np.load('data/processed/token_cat_count.npy')"
   ]
  },
  {
   "cell_type": "code",
   "execution_count": 9,
   "metadata": {
    "collapsed": true
   },
   "outputs": [],
   "source": [
    "# encoded_word_tokens_count = np.load('data/processed/token_word_count.npy')"
   ]
  },
  {
   "cell_type": "code",
   "execution_count": 10,
   "metadata": {
    "collapsed": true
   },
   "outputs": [],
   "source": [
    "# token_labels = np.load('data/processed/token_labels.npy')"
   ]
  },
  {
   "cell_type": "code",
   "execution_count": 11,
   "metadata": {
    "collapsed": true
   },
   "outputs": [],
   "source": [
    "# encoded_ast_count = np.load('data/processed/ast_count.npy')"
   ]
  },
  {
   "cell_type": "code",
   "execution_count": 12,
   "metadata": {
    "collapsed": true
   },
   "outputs": [],
   "source": [
    "# ast_labels = np.load('data/processed/ast_labels.npy')"
   ]
  },
  {
   "cell_type": "markdown",
   "metadata": {},
   "source": [
    "Combinations of BOW models to compare:"
   ]
  },
  {
   "cell_type": "code",
   "execution_count": 13,
   "metadata": {},
   "outputs": [],
   "source": [
    "d = {\n",
    "    #'Word Count': (encoded_docs_count, word_labels),\n",
    "    'Word TFIDF': (encoded_docs_tfidf, word_labels),\n",
    "    'Word Freq': (encoded_docs_freq, word_labels),\n",
    "    'Word Binary': (encoded_docs_binary, word_labels),\n",
    "    #'Token Category Count': (encoded_category_tokens_count, token_labels),\n",
    "    #'Token Word Count': (encoded_word_tokens_count, token_labels),\n",
    "    #'AST Word Count': (encoded_ast_count, ast_labels),\n",
    "}"
   ]
  },
  {
   "cell_type": "code",
   "execution_count": 14,
   "metadata": {},
   "outputs": [],
   "source": [
    "def score(dictionary, name):\n",
    "    \n",
    "    X, y = dictionary[name]\n",
    "        \n",
    "    print 'Features:', name\n",
    "    print 'Splitting between training and test data'\n",
    "\n",
    "    X_train, X_test, y_train, y_test = train_test_split(X, y, test_size=0.2, random_state=0)\n",
    "\n",
    "    print 'Declaring NB'\n",
    "    nb = MultinomialNB()\n",
    "\n",
    "    print 'Fitting'\n",
    "    nb.fit(X_train, y_train)\n",
    "\n",
    "    print 'Predicting values for test data'\n",
    "    y_pred = nb.predict(X_test)\n",
    "\n",
    "    print 'Scoring'\n",
    "    result = {\n",
    "        'accuracy': nb.score(X_test, y_test),\n",
    "        'f1': f1_score(y_test, y_pred),\n",
    "        'f1_weighted': f1_score(y_test, y_pred, average='weighted'),\n",
    "        'precision': precision_score(y_test, y_pred),\n",
    "        'precision_weighted': precision_score(y_test, y_pred, average='weighted'),\n",
    "        'recall': recall_score(y_test, y_pred),\n",
    "        'recall_weighted': recall_score(y_test, y_pred, average='weighted'),\n",
    "        'roc_auc_score': roc_auc_score(y_test, y_pred),\n",
    "        'roc_auc_score_weighted': roc_auc_score(y_test, y_pred, average='weighted'),\n",
    "    }\n",
    "\n",
    "    print 'Confusion Matrix:'\n",
    "    print(confusion_matrix(y_test, y_pred))\n",
    "    print 'Classification Report:'\n",
    "    print(classification_report(y_test, y_pred))\n",
    "\n",
    "    return result"
   ]
  },
  {
   "cell_type": "code",
   "execution_count": 20,
   "metadata": {},
   "outputs": [
    {
     "name": "stdout",
     "output_type": "stream",
     "text": [
      "Features: Word Count\n",
      "Splitting between training and test data\n",
      "Declaring NB\n",
      "Fitting\n",
      "Predicting values for test data\n",
      "Scoring\n",
      "Confusion Matrix:\n",
      "[[35762 23462]\n",
      " [16351 22589]]\n",
      "Classification Report:\n",
      "             precision    recall  f1-score   support\n",
      "\n",
      "          0       0.69      0.60      0.64     59224\n",
      "          1       0.49      0.58      0.53     38940\n",
      "\n",
      "avg / total       0.61      0.59      0.60     98164\n",
      "\n"
     ]
    }
   ],
   "source": [
    "word_count_score = score(d, 'Word Count')"
   ]
  },
  {
   "cell_type": "code",
   "execution_count": 21,
   "metadata": {},
   "outputs": [
    {
     "name": "stdout",
     "output_type": "stream",
     "text": [
      "Features: Token Category Count\n",
      "Splitting between training and test data\n",
      "Declaring NB\n",
      "Fitting\n",
      "Predicting values for test data\n",
      "Scoring\n",
      "Confusion Matrix:\n",
      "[[53192  3072]\n",
      " [36309  1845]]\n",
      "Classification Report:\n",
      "             precision    recall  f1-score   support\n",
      "\n",
      "          0       0.59      0.95      0.73     56264\n",
      "          1       0.38      0.05      0.09     38154\n",
      "\n",
      "avg / total       0.51      0.58      0.47     94418\n",
      "\n"
     ]
    }
   ],
   "source": [
    "category_count_score = score(d, 'Token Category Count')"
   ]
  },
  {
   "cell_type": "code",
   "execution_count": 22,
   "metadata": {},
   "outputs": [
    {
     "name": "stdout",
     "output_type": "stream",
     "text": [
      "Features: Token Word Count\n",
      "Splitting between training and test data\n",
      "Declaring NB\n",
      "Fitting\n",
      "Predicting values for test data\n",
      "Scoring\n",
      "Confusion Matrix:\n",
      "[[29528 26736]\n",
      " [13265 24889]]\n",
      "Classification Report:\n",
      "             precision    recall  f1-score   support\n",
      "\n",
      "          0       0.69      0.52      0.60     56264\n",
      "          1       0.48      0.65      0.55     38154\n",
      "\n",
      "avg / total       0.61      0.58      0.58     94418\n",
      "\n"
     ]
    }
   ],
   "source": [
    "token_count_score = score(d, 'Token Word Count')"
   ]
  },
  {
   "cell_type": "code",
   "execution_count": 66,
   "metadata": {},
   "outputs": [
    {
     "name": "stdout",
     "output_type": "stream",
     "text": [
      "Features: AST Word Count\n",
      "Splitting between training and test data\n",
      "Declaring NB\n",
      "Fitting\n",
      "Predicting values for test data\n",
      "Scoring\n",
      "Confusion Matrix:\n",
      "[[20382 26406]\n",
      " [ 9896 27570]]\n",
      "Classification Report:\n",
      "             precision    recall  f1-score   support\n",
      "\n",
      "          0       0.67      0.44      0.53     46788\n",
      "          1       0.51      0.74      0.60     37466\n",
      "\n",
      "avg / total       0.60      0.57      0.56     84254\n",
      "\n"
     ]
    }
   ],
   "source": [
    "ast_count_score = score(d, 'AST Word Count')"
   ]
  },
  {
   "cell_type": "code",
   "execution_count": 15,
   "metadata": {},
   "outputs": [
    {
     "name": "stdout",
     "output_type": "stream",
     "text": [
      "Features: Word TFIDF\n",
      "Splitting between training and test data\n",
      "Declaring NB\n",
      "Fitting\n",
      "Predicting values for test data\n",
      "Scoring\n",
      "Confusion Matrix:\n",
      "[[31772 27452]\n",
      " [13051 25889]]\n",
      "Classification Report:\n",
      "             precision    recall  f1-score   support\n",
      "\n",
      "          0       0.71      0.54      0.61     59224\n",
      "          1       0.49      0.66      0.56     38940\n",
      "\n",
      "avg / total       0.62      0.59      0.59     98164\n",
      "\n"
     ]
    }
   ],
   "source": [
    "word_tfidf_score = score(d, 'Word TFIDF')"
   ]
  },
  {
   "cell_type": "code",
   "execution_count": 16,
   "metadata": {},
   "outputs": [
    {
     "name": "stdout",
     "output_type": "stream",
     "text": [
      "Features: Word Freq\n",
      "Splitting between training and test data\n",
      "Declaring NB\n",
      "Fitting\n",
      "Predicting values for test data\n",
      "Scoring\n",
      "Confusion Matrix:\n",
      "[[59091   133]\n",
      " [38316   624]]\n",
      "Classification Report:\n",
      "             precision    recall  f1-score   support\n",
      "\n",
      "          0       0.61      1.00      0.75     59224\n",
      "          1       0.82      0.02      0.03     38940\n",
      "\n",
      "avg / total       0.69      0.61      0.47     98164\n",
      "\n"
     ]
    }
   ],
   "source": [
    "word_freq_score = score(d, 'Word Freq')"
   ]
  },
  {
   "cell_type": "code",
   "execution_count": 17,
   "metadata": {},
   "outputs": [
    {
     "name": "stdout",
     "output_type": "stream",
     "text": [
      "Features: Word Binary\n",
      "Splitting between training and test data\n",
      "Declaring NB\n",
      "Fitting\n",
      "Predicting values for test data\n",
      "Scoring\n",
      "Confusion Matrix:\n",
      "[[37050 22174]\n",
      " [16774 22166]]\n",
      "Classification Report:\n",
      "             precision    recall  f1-score   support\n",
      "\n",
      "          0       0.69      0.63      0.66     59224\n",
      "          1       0.50      0.57      0.53     38940\n",
      "\n",
      "avg / total       0.61      0.60      0.61     98164\n",
      "\n"
     ]
    }
   ],
   "source": [
    "word_binary_score = score(d, 'Word Binary')"
   ]
  },
  {
   "cell_type": "markdown",
   "metadata": {},
   "source": [
    "## SCORE"
   ]
  },
  {
   "cell_type": "code",
   "execution_count": 50,
   "metadata": {},
   "outputs": [],
   "source": [
    "# with open('data/processed/word_count_score.json', 'w') as outfile:\n",
    "#     json.dump(word_count_score, outfile)"
   ]
  },
  {
   "cell_type": "code",
   "execution_count": 24,
   "metadata": {
    "collapsed": true
   },
   "outputs": [],
   "source": [
    "word_count_score = json.load(open('data/processed/word_count_score.json'))"
   ]
  },
  {
   "cell_type": "code",
   "execution_count": 52,
   "metadata": {
    "collapsed": true
   },
   "outputs": [],
   "source": [
    "# with open('data/processed/category_count_score.json', 'w') as outfile:\n",
    "#     json.dump(category_count_score, outfile)"
   ]
  },
  {
   "cell_type": "code",
   "execution_count": 53,
   "metadata": {
    "collapsed": true
   },
   "outputs": [],
   "source": [
    "category_count_score = json.load(open('data/processed/category_count_score.json'))"
   ]
  },
  {
   "cell_type": "code",
   "execution_count": 54,
   "metadata": {
    "collapsed": true
   },
   "outputs": [],
   "source": [
    "# with open('data/processed/token_count_score.json', 'w') as outfile:\n",
    "#     json.dump(token_count_score, outfile)"
   ]
  },
  {
   "cell_type": "code",
   "execution_count": 55,
   "metadata": {
    "collapsed": true
   },
   "outputs": [],
   "source": [
    "token_count_score = json.load(open('data/processed/token_count_score.json'))"
   ]
  },
  {
   "cell_type": "code",
   "execution_count": 67,
   "metadata": {
    "collapsed": true
   },
   "outputs": [],
   "source": [
    "# with open('data/processed/ast_count_score.json', 'w') as outfile:\n",
    "#     json.dump(ast_count_score, outfile)"
   ]
  },
  {
   "cell_type": "code",
   "execution_count": 68,
   "metadata": {
    "collapsed": true
   },
   "outputs": [],
   "source": [
    "ast_count_score = json.load(open('data/processed/ast_count_score.json'))"
   ]
  },
  {
   "cell_type": "code",
   "execution_count": 18,
   "metadata": {
    "collapsed": true
   },
   "outputs": [],
   "source": [
    "# with open('data/processed/word_tfidf_score.json', 'w') as outfile:\n",
    "#     json.dump(word_tfidf_score, outfile)"
   ]
  },
  {
   "cell_type": "code",
   "execution_count": 19,
   "metadata": {
    "collapsed": true
   },
   "outputs": [],
   "source": [
    "word_tfidf_score = json.load(open('data/processed/word_tfidf_score.json'))"
   ]
  },
  {
   "cell_type": "code",
   "execution_count": 20,
   "metadata": {
    "collapsed": true
   },
   "outputs": [],
   "source": [
    "# with open('data/processed/word_freq_score.json', 'w') as outfile:\n",
    "#     json.dump(word_freq_score, outfile)"
   ]
  },
  {
   "cell_type": "code",
   "execution_count": 21,
   "metadata": {
    "collapsed": true
   },
   "outputs": [],
   "source": [
    "word_freq_score = json.load(open('data/processed/word_freq_score.json'))"
   ]
  },
  {
   "cell_type": "code",
   "execution_count": 22,
   "metadata": {
    "collapsed": true
   },
   "outputs": [],
   "source": [
    "# with open('data/processed/word_binary_score.json', 'w') as outfile:\n",
    "#     json.dump(word_binary_score, outfile)"
   ]
  },
  {
   "cell_type": "code",
   "execution_count": 23,
   "metadata": {
    "collapsed": true
   },
   "outputs": [],
   "source": [
    "word_binary_score = json.load(open('data/processed/word_binary_score.json'))"
   ]
  },
  {
   "cell_type": "markdown",
   "metadata": {},
   "source": [
    "Dictionary:"
   ]
  },
  {
   "cell_type": "code",
   "execution_count": 69,
   "metadata": {
    "collapsed": true
   },
   "outputs": [],
   "source": [
    "scores = {\n",
    "    'Word Count': word_count_score,\n",
    "    'Category Count': category_count_score,\n",
    "    'Token Count': token_count_score,\n",
    "    'AST Count': ast_count_score,\n",
    "}"
   ]
  },
  {
   "cell_type": "code",
   "execution_count": 70,
   "metadata": {},
   "outputs": [
    {
     "data": {
      "text/plain": [
       "{'AST Count': {u'accuracy': 0.5691361834452964,\n",
       "  u'f1': 0.6030051836136567,\n",
       "  u'f1_weighted': 0.5618803612567874,\n",
       "  u'precision': 0.5107825700311249,\n",
       "  u'precision_weighted': 0.6009552652032715,\n",
       "  u'recall': 0.7358671862488656,\n",
       "  u'recall_weighted': 0.5691361834452964,\n",
       "  u'roc_auc_score': 0.5857458526781645,\n",
       "  u'roc_auc_score_weighted': 0.5857458526781645},\n",
       " 'Category Count': {u'accuracy': 0.5829079200999809,\n",
       "  u'f1': 0.08567249425367418,\n",
       "  u'f1_weighted': 0.4695294420781397,\n",
       "  u'precision': 0.37522879804759,\n",
       "  u'precision_weighted': 0.5057844133273715,\n",
       "  u'recall': 0.04835665985217802,\n",
       "  u'recall_weighted': 0.5829079200999809,\n",
       "  u'roc_auc_score': 0.4968784578942392,\n",
       "  u'roc_auc_score_weighted': 0.4968784578942392},\n",
       " 'Token Count': {u'accuracy': 0.5763413755851639,\n",
       "  u'f1': 0.5544503725815614,\n",
       "  u'f1_weighted': 0.5793183858061632,\n",
       "  u'precision': 0.48211138014527843,\n",
       "  u'precision_weighted': 0.6060044575978925,\n",
       "  u'recall': 0.6523300309272947,\n",
       "  u'recall_weighted': 0.5763413755851639,\n",
       "  u'roc_auc_score': 0.5885708166864541,\n",
       "  u'roc_auc_score_weighted': 0.5885708166864541},\n",
       " 'Word Count': {u'accuracy': 0.5944236176194939,\n",
       "  u'f1': 0.5315621654057489,\n",
       "  u'f1_weighted': 0.5984385253922195,\n",
       "  u'precision': 0.4905213784716944,\n",
       "  u'precision_weighted': 0.608601439325786,\n",
       "  u'recall': 0.5800975860297894,\n",
       "  u'recall_weighted': 0.5944236176194939,\n",
       "  u'roc_auc_score': 0.5919703113182853,\n",
       "  u'roc_auc_score_weighted': 0.5919703113182853}}"
      ]
     },
     "execution_count": 70,
     "metadata": {},
     "output_type": "execute_result"
    }
   ],
   "source": [
    "scores"
   ]
  },
  {
   "cell_type": "code",
   "execution_count": 27,
   "metadata": {
    "collapsed": true
   },
   "outputs": [],
   "source": [
    "def plot(scores):\n",
    "    x = range(len(scores))\n",
    "    acc = [v['accuracy'] for k, v in scores.items()]\n",
    "    f1_weighted = [v['f1_weighted'] for k, v in scores.items()]\n",
    "    precision_weighted = [v['precision_weighted'] for k, v in scores.items()]\n",
    "    recall_weighted = [v['recall_weighted'] for k, v in scores.items()]\n",
    "    roc_auc_score_weighted = [v['roc_auc_score_weighted'] for k, v in scores.items()]\n",
    "    keys = [k.replace(' ', '\\n') for k, v in scores.items()]\n",
    "\n",
    "    plt.subplots(figsize=(18, 10))\n",
    "    plt.grid()\n",
    "    plt.plot(x, acc, 'o-', color='blue', label='ACC', markersize=10)\n",
    "    plt.plot(x, f1_weighted, 'o-', color='green', label='Weighted F1', markersize=10)\n",
    "    plt.plot(x, precision_weighted, 'o-', color='orange', label='Weighted Precision', markersize=10)\n",
    "    # plt.plot(x, recall_weighted, 'o-', color='purple', label='Weighted Recall', markersize=10)\n",
    "    plt.plot(x, roc_auc_score_weighted, 'o-', color='red', label='Weighted ROC AUC', markersize=10)\n",
    "    plt.ylabel('Score', fontsize=30)\n",
    "    plt.xlabel('Features', fontsize=30)\n",
    "    plt.xlim([-1, len(scores) + 1])\n",
    "    plt.xticks(x, keys)\n",
    "    plt.ylim([0.4, 0.7])\n",
    "    plt.yticks(np.arange(0.4, 0.71, 0.1))\n",
    "    plt.legend(loc=\"upper right\", fontsize=18)"
   ]
  },
  {
   "cell_type": "code",
   "execution_count": 88,
   "metadata": {
    "scrolled": false
   },
   "outputs": [
    {
     "data": {
      "image/png": "[encoded data removed]",
      "text/plain": [
       "<matplotlib.figure.Figure at 0x113171290>"
      ]
     },
     "metadata": {},
     "output_type": "display_data"
    }
   ],
   "source": [
    "plot(scores)"
   ]
  },
  {
   "cell_type": "code",
   "execution_count": 25,
   "metadata": {
    "collapsed": true
   },
   "outputs": [],
   "source": [
    "count_scores = {\n",
    "    'Word Count': word_count_score,\n",
    "    'Word TF-IDF': word_tfidf_score,\n",
    "    'Word Frequency': word_freq_score,\n",
    "    'Word Binary': word_binary_score,\n",
    "}"
   ]
  },
  {
   "cell_type": "code",
   "execution_count": 29,
   "metadata": {},
   "outputs": [
    {
     "data": {
      "text/plain": [
       "{'Word Binary': {u'accuracy': 0.6032354019803594,\n",
       "  u'f1': 0.5323246878001922,\n",
       "  u'f1_weighted': 0.6066226167614515,\n",
       "  u'precision': 0.49990978800180425,\n",
       "  u'precision_weighted': 0.613601749993963,\n",
       "  u'recall': 0.5692347200821777,\n",
       "  u'recall_weighted': 0.6032354019803594,\n",
       "  u'roc_auc_score': 0.5974128483566365,\n",
       "  u'roc_auc_score_weighted': 0.5974128483566365},\n",
       " 'Word Count': {u'accuracy': 0.5944236176194939,\n",
       "  u'f1': 0.5315621654057489,\n",
       "  u'f1_weighted': 0.5984385253922195,\n",
       "  u'precision': 0.4905213784716944,\n",
       "  u'precision_weighted': 0.608601439325786,\n",
       "  u'recall': 0.5800975860297894,\n",
       "  u'recall_weighted': 0.5944236176194939,\n",
       "  u'roc_auc_score': 0.5919703113182853,\n",
       "  u'roc_auc_score_weighted': 0.5919703113182853},\n",
       " 'Word Frequency': {u'accuracy': 0.6083187319180148,\n",
       "  u'f1': 0.031438143940348134,\n",
       "  u'f1_weighted': 0.46768864278654493,\n",
       "  u'precision': 0.8243064729194187,\n",
       "  u'precision_weighted': 0.692984720139155,\n",
       "  u'recall': 0.016024653312788906,\n",
       "  u'recall_weighted': 0.6083187319180148,\n",
       "  u'roc_auc_score': 0.5068894710573131,\n",
       "  u'roc_auc_score_weighted': 0.5068894710573131},\n",
       " 'Word TF-IDF': {u'accuracy': 0.587394564198688,\n",
       "  u'f1': 0.5610905820266361,\n",
       "  u'f1_weighted': 0.5910352616456083,\n",
       "  u'precision': 0.4853489810839692,\n",
       "  u'precision_weighted': 0.6201803760014468,\n",
       "  u'recall': 0.6648433487416539,\n",
       "  u'recall_weighted': 0.587394564198688,\n",
       "  u'roc_auc_score': 0.6006575247017738,\n",
       "  u'roc_auc_score_weighted': 0.6006575247017738}}"
      ]
     },
     "execution_count": 29,
     "metadata": {},
     "output_type": "execute_result"
    }
   ],
   "source": [
    "count_scores"
   ]
  },
  {
   "cell_type": "code",
   "execution_count": 28,
   "metadata": {},
   "outputs": [
    {
     "data": {
      "image/png": "[encoded data removed]",
      "text/plain": [
       "<matplotlib.figure.Figure at 0x10e5ff610>"
      ]
     },
     "metadata": {},
     "output_type": "display_data"
    }
   ],
   "source": [
    "plot(count_scores)"
   ]
  }
 ],
 "metadata": {
  "kernelspec": {
   "display_name": "Python 2",
   "language": "python",
   "name": "python2"
  },
  "language_info": {
   "codemirror_mode": {
    "name": "ipython",
    "version": 2
   },
   "file_extension": ".py",
   "mimetype": "text/x-python",
   "name": "python",
   "nbconvert_exporter": "python",
   "pygments_lexer": "ipython2",
   "version": "2.7.14"
  }
 },
 "nbformat": 4,
 "nbformat_minor": 2
}
