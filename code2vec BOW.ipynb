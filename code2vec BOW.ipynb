{
 "cells": [
  {
   "cell_type": "markdown",
   "metadata": {},
   "source": [
    "# code2vec using bag-of-words (BOW) approaches\n",
    "\n",
    "###  As a baseline for learning representations\n",
    "\n",
    "VECTORIZE - Create code vectors using different strategies:\n",
    "\n",
    "1. Word Vectors\n",
    "    * Count\n",
    "    * TF-IDF\n",
    "    * Frequency (ratio)\n",
    "    * Binary (Presence / Absence)\n",
    "2. Token Vectors\n",
    "    * Count\n",
    "3. AST Vectors\n",
    "\n",
    "TRAIN - Learn representations using these combinations of code vectors for a machine to differentiate between:\n",
    "\n",
    "- correct code (code submission pass the testcases)\n",
    "- wrong code (code submission fail the testcases)"
   ]
  },
  {
   "cell_type": "code",
   "execution_count": 1,
   "metadata": {
    "collapsed": true
   },
   "outputs": [],
   "source": [
    "import pandas as pd\n",
    "import numpy as np\n",
    "import matplotlib.pyplot as plt\n",
    "%matplotlib inline"
   ]
  },
  {
   "cell_type": "code",
   "execution_count": 2,
   "metadata": {
    "collapsed": true
   },
   "outputs": [],
   "source": [
    "font = {'weight': 'bold', 'size': 20}\n",
    "plt.rc('font', **font)"
   ]
  },
  {
   "cell_type": "markdown",
   "metadata": {},
   "source": [
    "## VECTORIZE\n",
    "\n",
    "**Programming data**: Student develop programs locally for the laboratory sheets of computer programming courses at our university. These programs are submitted by them to an automatic grading platform that runs some test cases specified by the lecturer on each program. A JSON output for those testcases and whether the program passed them or not along with the actual code is stored."
   ]
  },
  {
   "cell_type": "code",
   "execution_count": 3,
   "metadata": {},
   "outputs": [
    {
     "name": "stdout",
     "output_type": "stream",
     "text": [
      "data/raw/programming_data.json\r\n"
     ]
    }
   ],
   "source": [
    "!ls data/raw/programming_data.json"
   ]
  },
  {
   "cell_type": "code",
   "execution_count": 4,
   "metadata": {
    "collapsed": true
   },
   "outputs": [],
   "source": [
    "dataframe = pd.read_json('data/raw/programming_data.json')"
   ]
  },
  {
   "cell_type": "code",
   "execution_count": 5,
   "metadata": {},
   "outputs": [
    {
     "data": {
      "text/html": [
       "<div>\n",
       "<style>\n",
       "    .dataframe thead tr:only-child th {\n",
       "        text-align: right;\n",
       "    }\n",
       "\n",
       "    .dataframe thead th {\n",
       "        text-align: left;\n",
       "    }\n",
       "\n",
       "    .dataframe tbody tr th {\n",
       "        vertical-align: top;\n",
       "    }\n",
       "</style>\n",
       "<table border=\"1\" class=\"dataframe\">\n",
       "  <thead>\n",
       "    <tr style=\"text-align: right;\">\n",
       "      <th></th>\n",
       "      <th>academic_year_0</th>\n",
       "      <th>academic_year_1</th>\n",
       "      <th>correct</th>\n",
       "      <th>date</th>\n",
       "      <th>extension</th>\n",
       "      <th>ip</th>\n",
       "      <th>module</th>\n",
       "      <th>task</th>\n",
       "      <th>upload</th>\n",
       "      <th>user</th>\n",
       "    </tr>\n",
       "  </thead>\n",
       "  <tbody>\n",
       "    <tr>\n",
       "      <th>0</th>\n",
       "      <td>2016</td>\n",
       "      <td>2017</td>\n",
       "      <td>True</td>\n",
       "      <td>2016-09-19 14:11:41</td>\n",
       "      <td>py</td>\n",
       "      <td></td>\n",
       "      <td>ca277</td>\n",
       "      <td>add.py</td>\n",
       "      <td>#!/usr/bin/env python\\n\\na = int(raw_input())\\...</td>\n",
       "      <td>b9e7e608-6036-4d44-8770-a7036176b53c</td>\n",
       "    </tr>\n",
       "    <tr>\n",
       "      <th>1</th>\n",
       "      <td>2016</td>\n",
       "      <td>2017</td>\n",
       "      <td>True</td>\n",
       "      <td>2016-09-19 14:17:33</td>\n",
       "      <td>py</td>\n",
       "      <td></td>\n",
       "      <td>ca277</td>\n",
       "      <td>concat-lines.py</td>\n",
       "      <td>#!/usr/bin/env python\\n\\na = str(raw_input())\\...</td>\n",
       "      <td>b9e7e608-6036-4d44-8770-a7036176b53c</td>\n",
       "    </tr>\n",
       "  </tbody>\n",
       "</table>\n",
       "</div>"
      ],
      "text/plain": [
       "  academic_year_0 academic_year_1  correct                date extension ip  \\\n",
       "0            2016            2017     True 2016-09-19 14:11:41        py      \n",
       "1            2016            2017     True 2016-09-19 14:17:33        py      \n",
       "\n",
       "  module             task                                             upload  \\\n",
       "0  ca277           add.py  #!/usr/bin/env python\\n\\na = int(raw_input())\\...   \n",
       "1  ca277  concat-lines.py  #!/usr/bin/env python\\n\\na = str(raw_input())\\...   \n",
       "\n",
       "                                   user  \n",
       "0  b9e7e608-6036-4d44-8770-a7036176b53c  \n",
       "1  b9e7e608-6036-4d44-8770-a7036176b53c  "
      ]
     },
     "execution_count": 5,
     "metadata": {},
     "output_type": "execute_result"
    }
   ],
   "source": [
    "dataframe.head(2)"
   ]
  },
  {
   "cell_type": "code",
   "execution_count": 6,
   "metadata": {},
   "outputs": [
    {
     "data": {
      "text/plain": [
       "'591,707'"
      ]
     },
     "execution_count": 6,
     "metadata": {},
     "output_type": "execute_result"
    }
   ],
   "source": [
    "'{:,}'.format(len(dataframe))"
   ]
  },
  {
   "cell_type": "markdown",
   "metadata": {},
   "source": [
    "Grab only code submissions from Python modules:"
   ]
  },
  {
   "cell_type": "code",
   "execution_count": 7,
   "metadata": {
    "collapsed": true
   },
   "outputs": [],
   "source": [
    "PYTHON_MODULES = [\n",
    "    'ca116', \n",
    "    'ca117', \n",
    "    'ca177', \n",
    "    'ca277', \n",
    "    'ca278',\n",
    "]"
   ]
  },
  {
   "cell_type": "code",
   "execution_count": 8,
   "metadata": {
    "collapsed": true
   },
   "outputs": [],
   "source": [
    "dataframe = dataframe[dataframe['module'].isin(PYTHON_MODULES)]"
   ]
  },
  {
   "cell_type": "code",
   "execution_count": 9,
   "metadata": {},
   "outputs": [
    {
     "data": {
      "text/plain": [
       "'490,820'"
      ]
     },
     "execution_count": 9,
     "metadata": {},
     "output_type": "execute_result"
    }
   ],
   "source": [
    "'{:,}'.format(len(dataframe))"
   ]
  },
  {
   "cell_type": "markdown",
   "metadata": {},
   "source": [
    "Target value:"
   ]
  },
  {
   "cell_type": "code",
   "execution_count": 10,
   "metadata": {},
   "outputs": [
    {
     "data": {
      "text/plain": [
       "False    296369\n",
       "True     194451\n",
       "Name: correct, dtype: int64"
      ]
     },
     "execution_count": 10,
     "metadata": {},
     "output_type": "execute_result"
    }
   ],
   "source": [
    "dataframe.correct.value_counts()"
   ]
  },
  {
   "cell_type": "markdown",
   "metadata": {},
   "source": [
    "Remove comments:"
   ]
  },
  {
   "cell_type": "code",
   "execution_count": 11,
   "metadata": {
    "collapsed": true
   },
   "outputs": [],
   "source": [
    "import re\n",
    "def remove_comments(text):\n",
    "    return re.sub(re.compile('#.*?\\n'), '', text)"
   ]
  },
  {
   "cell_type": "markdown",
   "metadata": {},
   "source": [
    "Grab docs (code submissions) and labels (correct or not):"
   ]
  },
  {
   "cell_type": "code",
   "execution_count": 12,
   "metadata": {
    "collapsed": true
   },
   "outputs": [],
   "source": [
    "def get_docs_and_labels(df):\n",
    "    _docs = []\n",
    "    _labels = []\n",
    "    for index in df.index:\n",
    "        # Program\n",
    "        code = remove_comments(\n",
    "            df.at[index, 'upload']\n",
    "        )\n",
    "        _docs.append(code)\n",
    "        # Label\n",
    "        label = int(df.at[index, 'correct'])\n",
    "        _labels.append(label)\n",
    "    return _docs, _labels"
   ]
  },
  {
   "cell_type": "code",
   "execution_count": 13,
   "metadata": {
    "collapsed": true
   },
   "outputs": [],
   "source": [
    "docs, labels = get_docs_and_labels(dataframe)"
   ]
  },
  {
   "cell_type": "code",
   "execution_count": 14,
   "metadata": {},
   "outputs": [
    {
     "data": {
      "text/plain": [
       "'490,820'"
      ]
     },
     "execution_count": 14,
     "metadata": {},
     "output_type": "execute_result"
    }
   ],
   "source": [
    "'{:,}'.format(len(docs))"
   ]
  },
  {
   "cell_type": "code",
   "execution_count": 15,
   "metadata": {
    "scrolled": true
   },
   "outputs": [
    {
     "data": {
      "text/plain": [
       "u'\\na = int(raw_input())\\nb = int(raw_input())\\n\\nprint a + b\\n\\n\\n'"
      ]
     },
     "execution_count": 15,
     "metadata": {},
     "output_type": "execute_result"
    }
   ],
   "source": [
    "docs[0]"
   ]
  },
  {
   "cell_type": "code",
   "execution_count": 16,
   "metadata": {},
   "outputs": [
    {
     "data": {
      "text/plain": [
       "1"
      ]
     },
     "execution_count": 16,
     "metadata": {},
     "output_type": "execute_result"
    }
   ],
   "source": [
    "labels[0]"
   ]
  },
  {
   "cell_type": "markdown",
   "metadata": {},
   "source": [
    "## 1) Programs as word vectors"
   ]
  },
  {
   "cell_type": "code",
   "execution_count": 17,
   "metadata": {
    "scrolled": true
   },
   "outputs": [
    {
     "name": "stderr",
     "output_type": "stream",
     "text": [
      "Using TensorFlow backend.\n"
     ]
    }
   ],
   "source": [
    "from keras.preprocessing.text import Tokenizer"
   ]
  },
  {
   "cell_type": "code",
   "execution_count": 18,
   "metadata": {
    "collapsed": true
   },
   "outputs": [],
   "source": [
    "NUM_WORDS = 2000 # Originally 231,659 words"
   ]
  },
  {
   "cell_type": "code",
   "execution_count": 19,
   "metadata": {
    "collapsed": true
   },
   "outputs": [],
   "source": [
    "t = Tokenizer(num_words=NUM_WORDS, \n",
    "              filters='\\t\\n', \n",
    "              lower=True, \n",
    "              split=' ', \n",
    "              char_level=False)"
   ]
  },
  {
   "cell_type": "code",
   "execution_count": 20,
   "metadata": {},
   "outputs": [],
   "source": [
    "t.fit_on_texts(docs)"
   ]
  },
  {
   "cell_type": "code",
   "execution_count": 21,
   "metadata": {},
   "outputs": [
    {
     "data": {
      "text/plain": [
       "552539"
      ]
     },
     "execution_count": 21,
     "metadata": {},
     "output_type": "execute_result"
    }
   ],
   "source": [
    "# word_counts: a dictionary of words and their counts.\n",
    "t.word_counts['if'] # word count"
   ]
  },
  {
   "cell_type": "code",
   "execution_count": 22,
   "metadata": {},
   "outputs": [
    {
     "data": {
      "text/plain": [
       "'Number docs: 490,820'"
      ]
     },
     "execution_count": 22,
     "metadata": {},
     "output_type": "execute_result"
    }
   ],
   "source": [
    "# document_count: an integer count of the total number of documents that were used to fit the Tokenizer.\n",
    "'Number docs: {:,}'.format(t.document_count)"
   ]
  },
  {
   "cell_type": "code",
   "execution_count": 23,
   "metadata": {},
   "outputs": [
    {
     "data": {
      "text/plain": [
       "4"
      ]
     },
     "execution_count": 23,
     "metadata": {},
     "output_type": "execute_result"
    }
   ],
   "source": [
    "# word_index: a dictionary of words and their uniquely assigned integers.\n",
    "t.word_index['if'] # index"
   ]
  },
  {
   "cell_type": "code",
   "execution_count": 24,
   "metadata": {},
   "outputs": [
    {
     "data": {
      "text/plain": [
       "298487"
      ]
     },
     "execution_count": 24,
     "metadata": {},
     "output_type": "execute_result"
    }
   ],
   "source": [
    "# word_docs: a dictionary of words and how many documents each appeared in.\n",
    "t.word_docs['if']"
   ]
  },
  {
   "cell_type": "markdown",
   "metadata": {},
   "source": [
    "### a) Count: count of each word in the document"
   ]
  },
  {
   "cell_type": "code",
   "execution_count": 25,
   "metadata": {
    "collapsed": true
   },
   "outputs": [],
   "source": [
    "encoded_docs_count = t.texts_to_matrix(docs, mode='count')"
   ]
  },
  {
   "cell_type": "code",
   "execution_count": 26,
   "metadata": {},
   "outputs": [
    {
     "data": {
      "text/plain": [
       "array([ 0.,  2.,  0., ...,  0.,  0.,  0.])"
      ]
     },
     "execution_count": 26,
     "metadata": {},
     "output_type": "execute_result"
    }
   ],
   "source": [
    "encoded_docs_count[0]"
   ]
  },
  {
   "cell_type": "code",
   "execution_count": 27,
   "metadata": {},
   "outputs": [
    {
     "data": {
      "text/plain": [
       "(490820, 2000)"
      ]
     },
     "execution_count": 27,
     "metadata": {},
     "output_type": "execute_result"
    }
   ],
   "source": [
    "encoded_docs_count.shape"
   ]
  },
  {
   "cell_type": "code",
   "execution_count": 28,
   "metadata": {},
   "outputs": [],
   "source": [
    "# filename = 'data/processed/word_count'\n",
    "# np.save(filename, encoded_docs_count)"
   ]
  },
  {
   "cell_type": "markdown",
   "metadata": {},
   "source": [
    "### b) TF-IDF: Text Frequency-Inverse DocumentFrequency (TF-IDF) scoring for each word in the document"
   ]
  },
  {
   "cell_type": "code",
   "execution_count": 29,
   "metadata": {
    "collapsed": true
   },
   "outputs": [],
   "source": [
    "encoded_docs_tfidf = t.texts_to_matrix(docs, mode='tfidf')"
   ]
  },
  {
   "cell_type": "code",
   "execution_count": 30,
   "metadata": {},
   "outputs": [
    {
     "data": {
      "text/plain": [
       "array([ 0.        ,  1.25768178,  0.        , ...,  0.        ,\n",
       "        0.        ,  0.        ])"
      ]
     },
     "execution_count": 30,
     "metadata": {},
     "output_type": "execute_result"
    }
   ],
   "source": [
    "encoded_docs_tfidf[0]"
   ]
  },
  {
   "cell_type": "code",
   "execution_count": 31,
   "metadata": {
    "collapsed": true
   },
   "outputs": [],
   "source": [
    "# np.save('data/processed/word_tfidf', encoded_docs_tfidf)"
   ]
  },
  {
   "cell_type": "markdown",
   "metadata": {},
   "source": [
    "### c) Frequency: frequency of each word as a ratio of words within each document."
   ]
  },
  {
   "cell_type": "code",
   "execution_count": 32,
   "metadata": {
    "collapsed": true
   },
   "outputs": [],
   "source": [
    "encoded_docs_freq = t.texts_to_matrix(docs, mode='freq')"
   ]
  },
  {
   "cell_type": "code",
   "execution_count": 33,
   "metadata": {},
   "outputs": [
    {
     "data": {
      "text/plain": [
       "array([ 0. ,  0.2,  0. , ...,  0. ,  0. ,  0. ])"
      ]
     },
     "execution_count": 33,
     "metadata": {},
     "output_type": "execute_result"
    }
   ],
   "source": [
    "encoded_docs_freq[0]"
   ]
  },
  {
   "cell_type": "code",
   "execution_count": 34,
   "metadata": {
    "collapsed": true
   },
   "outputs": [],
   "source": [
    "# np.save('data/processed/word_freq', encoded_docs_freq)"
   ]
  },
  {
   "cell_type": "markdown",
   "metadata": {},
   "source": [
    "### d) Binary: Whether or not each word is present in the document"
   ]
  },
  {
   "cell_type": "code",
   "execution_count": 35,
   "metadata": {},
   "outputs": [],
   "source": [
    "encoded_docs_binary = t.texts_to_matrix(docs, mode='binary')"
   ]
  },
  {
   "cell_type": "code",
   "execution_count": 36,
   "metadata": {},
   "outputs": [
    {
     "data": {
      "text/plain": [
       "array([ 0.,  1.,  0., ...,  0.,  0.,  0.])"
      ]
     },
     "execution_count": 36,
     "metadata": {},
     "output_type": "execute_result"
    }
   ],
   "source": [
    "encoded_docs_binary[0]"
   ]
  },
  {
   "cell_type": "code",
   "execution_count": 37,
   "metadata": {},
   "outputs": [],
   "source": [
    "# np.save('data/processed/word_binary', encoded_docs_binary)"
   ]
  },
  {
   "cell_type": "markdown",
   "metadata": {},
   "source": [
    "## 2) Programs as tokens"
   ]
  },
  {
   "cell_type": "code",
   "execution_count": 38,
   "metadata": {
    "collapsed": true
   },
   "outputs": [],
   "source": [
    "from tokenize import generate_tokens\n",
    "from StringIO import StringIO"
   ]
  },
  {
   "cell_type": "markdown",
   "metadata": {},
   "source": [
    "Generate token IDs and token words. Token IDs are more general than token words (see the \"Program Vectors\" notebook)"
   ]
  },
  {
   "cell_type": "code",
   "execution_count": 40,
   "metadata": {
    "collapsed": true
   },
   "outputs": [],
   "source": [
    "sample_code = '''print(\"Hello World!\")'''"
   ]
  },
  {
   "cell_type": "code",
   "execution_count": 41,
   "metadata": {},
   "outputs": [
    {
     "data": {
      "text/plain": [
       "[(1, 'print'), (51, '('), (3, '\"Hello World!\"'), (51, ')'), (0, '')]"
      ]
     },
     "execution_count": 41,
     "metadata": {},
     "output_type": "execute_result"
    }
   ],
   "source": [
    "[(t[0], t[1]) for t in list(generate_tokens(StringIO(sample_code).readline))]"
   ]
  },
  {
   "cell_type": "code",
   "execution_count": 42,
   "metadata": {
    "scrolled": true
   },
   "outputs": [],
   "source": [
    "token_ids = []\n",
    "token_words = []\n",
    "token_labels = []\n",
    "i = 0\n",
    "while i < len(docs):\n",
    "    doc = docs[i]\n",
    "    label = labels[i]\n",
    "    try:\n",
    "        tokens = [(t[0], t[1]) for t in list(generate_tokens(StringIO(doc).readline))]\n",
    "        # Token ID\n",
    "        token_ids.append(\n",
    "            [token[0] for token in tokens]\n",
    "        )\n",
    "        # Token\n",
    "        token_words.append(\n",
    "            [token[1] for token in tokens]\n",
    "        )\n",
    "        token_labels.append(\n",
    "            label\n",
    "        )\n",
    "    except:\n",
    "        pass\n",
    "    i += 1"
   ]
  },
  {
   "cell_type": "markdown",
   "metadata": {},
   "source": [
    "### a) Tokens"
   ]
  },
  {
   "cell_type": "code",
   "execution_count": 43,
   "metadata": {},
   "outputs": [
    {
     "data": {
      "text/plain": [
       "[1, 51, 3, 51, 0]"
      ]
     },
     "execution_count": 43,
     "metadata": {},
     "output_type": "execute_result"
    }
   ],
   "source": [
    "[t[0] for t in list(generate_tokens(StringIO(sample_code).readline))]"
   ]
  },
  {
   "cell_type": "code",
   "execution_count": 44,
   "metadata": {},
   "outputs": [
    {
     "data": {
      "text/plain": [
       "[54,\n",
       " 1,\n",
       " 51,\n",
       " 1,\n",
       " 51,\n",
       " 1,\n",
       " 51,\n",
       " 51,\n",
       " 51,\n",
       " 4,\n",
       " 1,\n",
       " 51,\n",
       " 1,\n",
       " 51,\n",
       " 1,\n",
       " 51,\n",
       " 51,\n",
       " 51,\n",
       " 4,\n",
       " 54,\n",
       " 1,\n",
       " 1,\n",
       " 51,\n",
       " 1,\n",
       " 4,\n",
       " 54,\n",
       " 54,\n",
       " 0]"
      ]
     },
     "execution_count": 44,
     "metadata": {},
     "output_type": "execute_result"
    }
   ],
   "source": [
    "token_ids[0]"
   ]
  },
  {
   "cell_type": "code",
   "execution_count": 45,
   "metadata": {},
   "outputs": [
    {
     "data": {
      "text/plain": [
       "'Number encoded docs: 472,087'"
      ]
     },
     "execution_count": 45,
     "metadata": {},
     "output_type": "execute_result"
    }
   ],
   "source": [
    "'Number encoded docs: {:,}'.format(len(token_ids))"
   ]
  },
  {
   "cell_type": "code",
   "execution_count": 46,
   "metadata": {
    "collapsed": true
   },
   "outputs": [],
   "source": [
    "from keras.preprocessing.sequence import pad_sequences"
   ]
  },
  {
   "cell_type": "code",
   "execution_count": 47,
   "metadata": {
    "collapsed": true
   },
   "outputs": [],
   "source": [
    "MAX_LENGTH = 25"
   ]
  },
  {
   "cell_type": "code",
   "execution_count": 48,
   "metadata": {
    "collapsed": true
   },
   "outputs": [],
   "source": [
    "token_ids_padded = pad_sequences(token_ids, maxlen=MAX_LENGTH, padding='post')"
   ]
  },
  {
   "cell_type": "code",
   "execution_count": 52,
   "metadata": {},
   "outputs": [
    {
     "data": {
      "text/plain": [
       "array([1, 3, 4, 0, 0, 0, 0, 0, 0, 0, 0, 0, 0, 0, 0, 0, 0, 0, 0, 0, 0, 0, 0,\n",
       "       0, 0], dtype=int32)"
      ]
     },
     "execution_count": 52,
     "metadata": {},
     "output_type": "execute_result"
    }
   ],
   "source": [
    "token_ids_padded[9]"
   ]
  },
  {
   "cell_type": "markdown",
   "metadata": {},
   "source": [
    "### b) Token words"
   ]
  },
  {
   "cell_type": "code",
   "execution_count": 53,
   "metadata": {},
   "outputs": [
    {
     "data": {
      "text/plain": [
       "['print', '(', '\"Hello World!\"', ')', '']"
      ]
     },
     "execution_count": 53,
     "metadata": {},
     "output_type": "execute_result"
    }
   ],
   "source": [
    "[t[1] for t in list(generate_tokens(StringIO(sample_code).readline))]"
   ]
  },
  {
   "cell_type": "code",
   "execution_count": 54,
   "metadata": {},
   "outputs": [
    {
     "data": {
      "text/plain": [
       "[u'\\n',\n",
       " u'a',\n",
       " u'=',\n",
       " u'int',\n",
       " u'(',\n",
       " u'raw_input',\n",
       " u'(',\n",
       " u')',\n",
       " u')',\n",
       " u'\\n',\n",
       " u'b',\n",
       " u'=',\n",
       " u'int',\n",
       " u'(',\n",
       " u'raw_input',\n",
       " u'(',\n",
       " u')',\n",
       " u')',\n",
       " u'\\n',\n",
       " u'\\n',\n",
       " u'print',\n",
       " u'a',\n",
       " u'+',\n",
       " u'b',\n",
       " u'\\n',\n",
       " u'\\n',\n",
       " u'\\n',\n",
       " '']"
      ]
     },
     "execution_count": 54,
     "metadata": {},
     "output_type": "execute_result"
    }
   ],
   "source": [
    "token_words[0]"
   ]
  },
  {
   "cell_type": "code",
   "execution_count": 55,
   "metadata": {},
   "outputs": [
    {
     "data": {
      "text/plain": [
       "'Number encoded docs: 472,087'"
      ]
     },
     "execution_count": 55,
     "metadata": {},
     "output_type": "execute_result"
    }
   ],
   "source": [
    "'Number encoded docs: {:,}'.format(len(token_words))"
   ]
  },
  {
   "cell_type": "code",
   "execution_count": 56,
   "metadata": {
    "collapsed": true
   },
   "outputs": [],
   "source": [
    "token_docs = [\n",
    "    ' '.join(array) for array in token_words\n",
    "]"
   ]
  },
  {
   "cell_type": "code",
   "execution_count": 57,
   "metadata": {},
   "outputs": [
    {
     "data": {
      "text/plain": [
       "u'\\n a = int ( raw_input ( ) ) \\n b = int ( raw_input ( ) ) \\n \\n print a + b \\n \\n \\n '"
      ]
     },
     "execution_count": 57,
     "metadata": {},
     "output_type": "execute_result"
    }
   ],
   "source": [
    "token_docs[0]"
   ]
  },
  {
   "cell_type": "code",
   "execution_count": 58,
   "metadata": {},
   "outputs": [
    {
     "data": {
      "text/plain": [
       "'Number token docs: 472,087'"
      ]
     },
     "execution_count": 58,
     "metadata": {},
     "output_type": "execute_result"
    }
   ],
   "source": [
    "'Number token docs: {:,}'.format(len(token_docs))"
   ]
  },
  {
   "cell_type": "code",
   "execution_count": 59,
   "metadata": {
    "collapsed": true
   },
   "outputs": [],
   "source": [
    "token_t = Tokenizer(num_words=NUM_WORDS, \n",
    "                    filters='\\t\\n', \n",
    "                    lower=False, \n",
    "                    split=' ', \n",
    "                    char_level=False)"
   ]
  },
  {
   "cell_type": "code",
   "execution_count": 60,
   "metadata": {},
   "outputs": [],
   "source": [
    "token_t.fit_on_texts(token_docs)"
   ]
  },
  {
   "cell_type": "markdown",
   "metadata": {},
   "source": [
    "#### i) Count: count of each token word in the document"
   ]
  },
  {
   "cell_type": "code",
   "execution_count": 61,
   "metadata": {
    "collapsed": true
   },
   "outputs": [],
   "source": [
    "encoded_word_tokens_count = token_t.texts_to_matrix(token_docs, mode='count')"
   ]
  },
  {
   "cell_type": "code",
   "execution_count": 62,
   "metadata": {},
   "outputs": [
    {
     "data": {
      "text/plain": [
       "array([ 0.,  4.,  4., ...,  0.,  0.,  0.])"
      ]
     },
     "execution_count": 62,
     "metadata": {},
     "output_type": "execute_result"
    }
   ],
   "source": [
    "encoded_word_tokens_count[0]"
   ]
  },
  {
   "cell_type": "code",
   "execution_count": 63,
   "metadata": {
    "collapsed": true
   },
   "outputs": [],
   "source": [
    "# np.save('data/processed/token_word_count', encoded_word_tokens_count)"
   ]
  },
  {
   "cell_type": "markdown",
   "metadata": {},
   "source": [
    "## 3) Programs as Abstract Syntax Trees"
   ]
  },
  {
   "cell_type": "code",
   "execution_count": 65,
   "metadata": {
    "collapsed": true
   },
   "outputs": [],
   "source": [
    "# TODO"
   ]
  },
  {
   "cell_type": "markdown",
   "metadata": {},
   "source": [
    "## TRAIN"
   ]
  },
  {
   "cell_type": "code",
   "execution_count": 66,
   "metadata": {
    "collapsed": true
   },
   "outputs": [],
   "source": [
    "from sklearn.model_selection import train_test_split\n",
    "from sklearn.naive_bayes import MultinomialNB\n",
    "from sklearn.metrics import accuracy_score, f1_score, confusion_matrix, classification_report"
   ]
  },
  {
   "cell_type": "markdown",
   "metadata": {},
   "source": [
    "Load matrices:"
   ]
  },
  {
   "cell_type": "code",
   "execution_count": 67,
   "metadata": {
    "collapsed": true
   },
   "outputs": [],
   "source": [
    "# encoded_docs_count = np.load('data/processed/word_count')"
   ]
  },
  {
   "cell_type": "code",
   "execution_count": 68,
   "metadata": {
    "collapsed": true
   },
   "outputs": [],
   "source": [
    "# encoded_docs_tfidf = np.load('data/processed/word_tfidf')"
   ]
  },
  {
   "cell_type": "code",
   "execution_count": 69,
   "metadata": {
    "collapsed": true
   },
   "outputs": [],
   "source": [
    "# encoded_docs_freq = np.load('data/processed/word_freq')"
   ]
  },
  {
   "cell_type": "code",
   "execution_count": 70,
   "metadata": {
    "collapsed": true
   },
   "outputs": [],
   "source": [
    "# encoded_docs_binary = np.load('data/processed/word_binary')"
   ]
  },
  {
   "cell_type": "code",
   "execution_count": 71,
   "metadata": {
    "collapsed": true
   },
   "outputs": [],
   "source": [
    "# encoded_tokens_count = np.load('data/processed/token_id_count')"
   ]
  },
  {
   "cell_type": "code",
   "execution_count": 72,
   "metadata": {
    "collapsed": true
   },
   "outputs": [],
   "source": [
    "# encoded_word_tokens_count = np.load('data/processed/token_word_count')"
   ]
  },
  {
   "cell_type": "markdown",
   "metadata": {},
   "source": [
    "Combinations of BOW models to compare:"
   ]
  },
  {
   "cell_type": "code",
   "execution_count": 75,
   "metadata": {},
   "outputs": [],
   "source": [
    "d = {\n",
    "    'Word Count': (encoded_docs_count, labels),\n",
    "    'Word TFIDF': (encoded_docs_tfidf, labels),\n",
    "    'Word Freq': (encoded_docs_freq, labels),\n",
    "    'Word Binary': (encoded_docs_binary, labels),\n",
    "    'Token ID': (token_ids_padded, token_labels),\n",
    "    'Token Count': (encoded_word_tokens_count, token_labels),\n",
    "    #'AST': encoded_ast,\n",
    "}"
   ]
  },
  {
   "cell_type": "code",
   "execution_count": 76,
   "metadata": {
    "collapsed": true
   },
   "outputs": [],
   "source": [
    "def score():\n",
    "    \n",
    "    scores = {}\n",
    "    \n",
    "    for name, (X, y) in d.items():\n",
    "        \n",
    "        print 'Features:', name\n",
    "        print 'Splitting between training and test data'\n",
    "        \n",
    "        X_train, X_test, y_train, y_test = train_test_split(X, y, test_size=0.2, random_state=0)\n",
    "        \n",
    "        print 'Declaring NB'\n",
    "        nb = MultinomialNB()\n",
    "        \n",
    "        print 'Fitting'\n",
    "        nb.fit(X_train, y_train)\n",
    "        \n",
    "        print 'Predicting values for test data'\n",
    "        y_pred = nb.predict(X_test)\n",
    "        \n",
    "        print 'Scoring'\n",
    "        # ACCURACY\n",
    "        acc = nb.score(X_test, y_test)\n",
    "        # F1\n",
    "        f1 = f1_score(y_test, y_pred)\n",
    "        print acc, f1\n",
    "        print('Accuracy: %f, F1: %f' % (acc * 100, f1 * 100))\n",
    "        print(confusion_matrix(y_test, y_pred))\n",
    "        print(classification_report(y_test, y_pred))\n",
    "        \n",
    "        scores[name] = (acc, f1)\n",
    "        \n",
    "    return scores"
   ]
  },
  {
   "cell_type": "code",
   "execution_count": 77,
   "metadata": {},
   "outputs": [
    {
     "name": "stdout",
     "output_type": "stream",
     "text": [
      "Features: Token Count\n",
      "Splitting between training and test data\n",
      "Declaring NB\n",
      "Fitting\n",
      "Predicting values for test data\n",
      "Scoring\n",
      "0.576341375585 0.554450372582\n",
      "Accuracy: 57.634138, F1: 55.445037\n",
      "[[29528 26736]\n",
      " [13265 24889]]\n",
      "             precision    recall  f1-score   support\n",
      "\n",
      "          0       0.69      0.52      0.60     56264\n",
      "          1       0.48      0.65      0.55     38154\n",
      "\n",
      "avg / total       0.61      0.58      0.58     94418\n",
      "\n",
      "Features: Word Binary\n",
      "Splitting between training and test data\n",
      "Declaring NB\n",
      "Fitting\n",
      "Predicting values for test data\n",
      "Scoring\n",
      "0.60323540198 0.5323246878\n",
      "Accuracy: 60.323540, F1: 53.232469\n",
      "[[37050 22174]\n",
      " [16774 22166]]\n",
      "             precision    recall  f1-score   support\n",
      "\n",
      "          0       0.69      0.63      0.66     59224\n",
      "          1       0.50      0.57      0.53     38940\n",
      "\n",
      "avg / total       0.61      0.60      0.61     98164\n",
      "\n",
      "Features: Word Count\n",
      "Splitting between training and test data\n",
      "Declaring NB\n",
      "Fitting\n",
      "Predicting values for test data\n",
      "Scoring\n",
      "0.594423617619 0.531562165406\n",
      "Accuracy: 59.442362, F1: 53.156217\n",
      "[[35762 23462]\n",
      " [16351 22589]]\n",
      "             precision    recall  f1-score   support\n",
      "\n",
      "          0       0.69      0.60      0.64     59224\n",
      "          1       0.49      0.58      0.53     38940\n",
      "\n",
      "avg / total       0.61      0.59      0.60     98164\n",
      "\n",
      "Features: Word Freq\n",
      "Splitting between training and test data\n",
      "Declaring NB\n",
      "Fitting\n",
      "Predicting values for test data\n",
      "Scoring\n",
      "0.608318731918 0.0314381439403\n",
      "Accuracy: 60.831873, F1: 3.143814\n",
      "[[59091   133]\n",
      " [38316   624]]\n",
      "             precision    recall  f1-score   support\n",
      "\n",
      "          0       0.61      1.00      0.75     59224\n",
      "          1       0.82      0.02      0.03     38940\n",
      "\n",
      "avg / total       0.69      0.61      0.47     98164\n",
      "\n",
      "Features: Token ID\n",
      "Splitting between training and test data\n",
      "Declaring NB\n",
      "Fitting\n",
      "Predicting values for test data\n",
      "Scoring\n",
      "0.52653095808 0.471508961082\n",
      "Accuracy: 52.653096, F1: 47.150896\n",
      "[[29772 26492]\n",
      " [18212 19942]]\n",
      "             precision    recall  f1-score   support\n",
      "\n",
      "          0       0.62      0.53      0.57     56264\n",
      "          1       0.43      0.52      0.47     38154\n",
      "\n",
      "avg / total       0.54      0.53      0.53     94418\n",
      "\n",
      "Features: Word TFIDF\n",
      "Splitting between training and test data\n",
      "Declaring NB\n",
      "Fitting\n",
      "Predicting values for test data\n",
      "Scoring\n",
      "0.587394564199 0.561090582027\n",
      "Accuracy: 58.739456, F1: 56.109058\n",
      "[[31772 27452]\n",
      " [13051 25889]]\n",
      "             precision    recall  f1-score   support\n",
      "\n",
      "          0       0.71      0.54      0.61     59224\n",
      "          1       0.49      0.66      0.56     38940\n",
      "\n",
      "avg / total       0.62      0.59      0.59     98164\n",
      "\n"
     ]
    }
   ],
   "source": [
    "scores = score()"
   ]
  },
  {
   "cell_type": "code",
   "execution_count": 78,
   "metadata": {},
   "outputs": [
    {
     "data": {
      "text/plain": [
       "{'Token Count': (0.57634137558516385, 0.55445037258156138),\n",
       " 'Token ID': (0.52653095808002714, 0.47150896108195017),\n",
       " 'Word Binary': (0.60323540198035941, 0.53232468780019215),\n",
       " 'Word Count': (0.59442361761949392, 0.53156216540574885),\n",
       " 'Word Freq': (0.60831873191801478, 0.031438143940348134),\n",
       " 'Word TFIDF': (0.58739456419868796, 0.56109058202663609)}"
      ]
     },
     "execution_count": 78,
     "metadata": {},
     "output_type": "execute_result"
    }
   ],
   "source": [
    "scores"
   ]
  },
  {
   "cell_type": "code",
   "execution_count": 80,
   "metadata": {},
   "outputs": [
    {
     "data": {
      "text/plain": [
       "<matplotlib.legend.Legend at 0x11a2275d0>"
      ]
     },
     "execution_count": 80,
     "metadata": {},
     "output_type": "execute_result"
    },
    {
     "data": {
      "image/png": "[encoded data removed]",
      "text/plain": [
       "<matplotlib.figure.Figure at 0x11a217950>"
      ]
     },
     "metadata": {},
     "output_type": "display_data"
    }
   ],
   "source": [
    "x = range(len(scores))\n",
    "acc = [v[0] for k, v in scores.items()]\n",
    "f1 = [v[1] for k, v in scores.items()]\n",
    "keys = [k.replace(' ', '\\n') for k, v in scores.items()]\n",
    "\n",
    "plt.subplots(figsize=(18, 10))\n",
    "plt.grid()\n",
    "plt.plot(x, acc, 'o-', color='b', label='ACC', markersize=10)\n",
    "plt.plot(x, f1, 'o-', color='green', label='F1', markersize=10)\n",
    "plt.ylabel('Score', fontsize=30)\n",
    "plt.xlabel('Features', fontsize=30)\n",
    "plt.xlim([-1, len(scores) + 1])\n",
    "plt.xticks(x, keys)\n",
    "plt.ylim([0, 1])\n",
    "plt.yticks(np.arange(0, 1.1, 0.1))\n",
    "plt.legend(loc=\"upper right\", fontsize=18)"
   ]
  },
  {
   "cell_type": "code",
   "execution_count": null,
   "metadata": {
    "collapsed": true
   },
   "outputs": [],
   "source": []
  }
 ],
 "metadata": {
  "kernelspec": {
   "display_name": "Python 2",
   "language": "python",
   "name": "python2"
  },
  "language_info": {
   "codemirror_mode": {
    "name": "ipython",
    "version": 2
   },
   "file_extension": ".py",
   "mimetype": "text/x-python",
   "name": "python",
   "nbconvert_exporter": "python",
   "pygments_lexer": "ipython2",
   "version": "2.7.14"
  }
 },
 "nbformat": 4,
 "nbformat_minor": 2
}
