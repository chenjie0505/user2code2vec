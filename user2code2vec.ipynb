{
 "cells": [
  {
   "cell_type": "markdown",
   "metadata": {},
   "source": [
    "# user2code2vec\n",
    "\n",
    "Profiling users based on their code submissions"
   ]
  },
  {
   "cell_type": "code",
   "execution_count": 1,
   "metadata": {
    "collapsed": true
   },
   "outputs": [],
   "source": [
    "import pandas as pd\n",
    "import numpy as np\n",
    "import random\n",
    "import matplotlib.pyplot as plt\n",
    "%matplotlib inline"
   ]
  },
  {
   "cell_type": "code",
   "execution_count": 174,
   "metadata": {
    "collapsed": true
   },
   "outputs": [],
   "source": [
    "font = {'weight': 'bold', 'size': 10}\n",
    "plt.rc('font', **font)"
   ]
  },
  {
   "cell_type": "code",
   "execution_count": 3,
   "metadata": {
    "collapsed": true
   },
   "outputs": [],
   "source": [
    "MAX_LENGTH = 50"
   ]
  },
  {
   "cell_type": "markdown",
   "metadata": {},
   "source": [
    "## Data"
   ]
  },
  {
   "cell_type": "code",
   "execution_count": 4,
   "metadata": {
    "collapsed": true
   },
   "outputs": [],
   "source": [
    "df_programs = pd.read_json('data/raw/programming_data.json')"
   ]
  },
  {
   "cell_type": "code",
   "execution_count": 5,
   "metadata": {},
   "outputs": [
    {
     "data": {
      "text/html": [
       "<div>\n",
       "<style>\n",
       "    .dataframe thead tr:only-child th {\n",
       "        text-align: right;\n",
       "    }\n",
       "\n",
       "    .dataframe thead th {\n",
       "        text-align: left;\n",
       "    }\n",
       "\n",
       "    .dataframe tbody tr th {\n",
       "        vertical-align: top;\n",
       "    }\n",
       "</style>\n",
       "<table border=\"1\" class=\"dataframe\">\n",
       "  <thead>\n",
       "    <tr style=\"text-align: right;\">\n",
       "      <th></th>\n",
       "      <th>academic_year_0</th>\n",
       "      <th>academic_year_1</th>\n",
       "      <th>correct</th>\n",
       "      <th>date</th>\n",
       "      <th>extension</th>\n",
       "      <th>ip</th>\n",
       "      <th>module</th>\n",
       "      <th>task</th>\n",
       "      <th>upload</th>\n",
       "      <th>user</th>\n",
       "    </tr>\n",
       "  </thead>\n",
       "  <tbody>\n",
       "    <tr>\n",
       "      <th>0</th>\n",
       "      <td>2016</td>\n",
       "      <td>2017</td>\n",
       "      <td>True</td>\n",
       "      <td>2016-09-19 14:11:41</td>\n",
       "      <td>py</td>\n",
       "      <td></td>\n",
       "      <td>ca277</td>\n",
       "      <td>add.py</td>\n",
       "      <td>#!/usr/bin/env python\\n\\na = int(raw_input())\\...</td>\n",
       "      <td>b9e7e608-6036-4d44-8770-a7036176b53c</td>\n",
       "    </tr>\n",
       "    <tr>\n",
       "      <th>1</th>\n",
       "      <td>2016</td>\n",
       "      <td>2017</td>\n",
       "      <td>True</td>\n",
       "      <td>2016-09-19 14:17:33</td>\n",
       "      <td>py</td>\n",
       "      <td></td>\n",
       "      <td>ca277</td>\n",
       "      <td>concat-lines.py</td>\n",
       "      <td>#!/usr/bin/env python\\n\\na = str(raw_input())\\...</td>\n",
       "      <td>b9e7e608-6036-4d44-8770-a7036176b53c</td>\n",
       "    </tr>\n",
       "  </tbody>\n",
       "</table>\n",
       "</div>"
      ],
      "text/plain": [
       "  academic_year_0 academic_year_1  correct                date extension ip  \\\n",
       "0            2016            2017     True 2016-09-19 14:11:41        py      \n",
       "1            2016            2017     True 2016-09-19 14:17:33        py      \n",
       "\n",
       "  module             task                                             upload  \\\n",
       "0  ca277           add.py  #!/usr/bin/env python\\n\\na = int(raw_input())\\...   \n",
       "1  ca277  concat-lines.py  #!/usr/bin/env python\\n\\na = str(raw_input())\\...   \n",
       "\n",
       "                                   user  \n",
       "0  b9e7e608-6036-4d44-8770-a7036176b53c  \n",
       "1  b9e7e608-6036-4d44-8770-a7036176b53c  "
      ]
     },
     "execution_count": 5,
     "metadata": {},
     "output_type": "execute_result"
    }
   ],
   "source": [
    "df_programs.head(2)"
   ]
  },
  {
   "cell_type": "code",
   "execution_count": 6,
   "metadata": {},
   "outputs": [
    {
     "data": {
      "text/plain": [
       "'591,707'"
      ]
     },
     "execution_count": 6,
     "metadata": {},
     "output_type": "execute_result"
    }
   ],
   "source": [
    "'{:,}'.format(len(df_programs))"
   ]
  },
  {
   "cell_type": "code",
   "execution_count": 7,
   "metadata": {
    "collapsed": true
   },
   "outputs": [],
   "source": [
    "df_grades = pd.read_json('data/raw/grades_data.json')"
   ]
  },
  {
   "cell_type": "code",
   "execution_count": 8,
   "metadata": {},
   "outputs": [
    {
     "data": {
      "text/html": [
       "<div>\n",
       "<style>\n",
       "    .dataframe thead tr:only-child th {\n",
       "        text-align: right;\n",
       "    }\n",
       "\n",
       "    .dataframe thead th {\n",
       "        text-align: left;\n",
       "    }\n",
       "\n",
       "    .dataframe tbody tr th {\n",
       "        vertical-align: top;\n",
       "    }\n",
       "</style>\n",
       "<table border=\"1\" class=\"dataframe\">\n",
       "  <thead>\n",
       "    <tr style=\"text-align: right;\">\n",
       "      <th></th>\n",
       "      <th>academic_year_0</th>\n",
       "      <th>academic_year_1</th>\n",
       "      <th>exam_week</th>\n",
       "      <th>grade</th>\n",
       "      <th>module</th>\n",
       "      <th>user</th>\n",
       "    </tr>\n",
       "  </thead>\n",
       "  <tbody>\n",
       "    <tr>\n",
       "      <th>0</th>\n",
       "      <td>2015</td>\n",
       "      <td>2016</td>\n",
       "      <td>12</td>\n",
       "      <td>40</td>\n",
       "      <td>ca114</td>\n",
       "      <td>e45f938b-9d5c-4838-86ce-0755e3c97053</td>\n",
       "    </tr>\n",
       "    <tr>\n",
       "      <th>1</th>\n",
       "      <td>2015</td>\n",
       "      <td>2016</td>\n",
       "      <td>12</td>\n",
       "      <td>60</td>\n",
       "      <td>ca114</td>\n",
       "      <td>91b06877-f0e0-4af9-bbd4-b20ffa90e36b</td>\n",
       "    </tr>\n",
       "  </tbody>\n",
       "</table>\n",
       "</div>"
      ],
      "text/plain": [
       "   academic_year_0  academic_year_1  exam_week  grade module  \\\n",
       "0             2015             2016         12     40  ca114   \n",
       "1             2015             2016         12     60  ca114   \n",
       "\n",
       "                                   user  \n",
       "0  e45f938b-9d5c-4838-86ce-0755e3c97053  \n",
       "1  91b06877-f0e0-4af9-bbd4-b20ffa90e36b  "
      ]
     },
     "execution_count": 8,
     "metadata": {},
     "output_type": "execute_result"
    }
   ],
   "source": [
    "df_grades.head(2)"
   ]
  },
  {
   "cell_type": "code",
   "execution_count": 9,
   "metadata": {},
   "outputs": [
    {
     "data": {
      "text/plain": [
       "666"
      ]
     },
     "execution_count": 9,
     "metadata": {},
     "output_type": "execute_result"
    }
   ],
   "source": [
    "len(df_grades.user.unique())"
   ]
  },
  {
   "cell_type": "markdown",
   "metadata": {},
   "source": [
    "## Tokenizers\n",
    "\n",
    "**Words**"
   ]
  },
  {
   "cell_type": "code",
   "execution_count": 10,
   "metadata": {},
   "outputs": [
    {
     "name": "stderr",
     "output_type": "stream",
     "text": [
      "Using TensorFlow backend.\n"
     ]
    }
   ],
   "source": [
    "import pickle\n",
    "\n",
    "with open('data/processed/word_tokenizer.pickle', 'rb') as handle:\n",
    "    word_tokenizer = pickle.load(handle)"
   ]
  },
  {
   "cell_type": "code",
   "execution_count": 11,
   "metadata": {},
   "outputs": [
    {
     "data": {
      "text/plain": [
       "<keras.preprocessing.text.Tokenizer at 0x10c3522d0>"
      ]
     },
     "execution_count": 11,
     "metadata": {},
     "output_type": "execute_result"
    }
   ],
   "source": [
    "word_tokenizer"
   ]
  },
  {
   "cell_type": "code",
   "execution_count": 12,
   "metadata": {
    "collapsed": true
   },
   "outputs": [],
   "source": [
    "#word_embeddings = np.load('data/processed/word_embeddings.npy')"
   ]
  },
  {
   "cell_type": "code",
   "execution_count": 13,
   "metadata": {
    "collapsed": true
   },
   "outputs": [],
   "source": [
    "#word_embeddings[0]"
   ]
  },
  {
   "cell_type": "code",
   "execution_count": 14,
   "metadata": {
    "collapsed": true
   },
   "outputs": [],
   "source": [
    "#'{:,}'.format(len(word_embeddings))"
   ]
  },
  {
   "cell_type": "code",
   "execution_count": 15,
   "metadata": {
    "collapsed": true
   },
   "outputs": [],
   "source": [
    "# Dictionary of words\n",
    "id_to_word = { v: k for k, v in word_tokenizer.word_index.items() }"
   ]
  },
  {
   "cell_type": "code",
   "execution_count": 16,
   "metadata": {},
   "outputs": [
    {
     "data": {
      "text/plain": [
       "[u'=', u'i', u'+', u'if', u'def']"
      ]
     },
     "execution_count": 16,
     "metadata": {},
     "output_type": "execute_result"
    }
   ],
   "source": [
    "[id_to_word[i] for i in range(1, 6)]   "
   ]
  },
  {
   "cell_type": "code",
   "execution_count": 17,
   "metadata": {},
   "outputs": [
    {
     "data": {
      "text/plain": [
       "'231,658'"
      ]
     },
     "execution_count": 17,
     "metadata": {},
     "output_type": "execute_result"
    }
   ],
   "source": [
    "'{:,}'.format(len(id_to_word))"
   ]
  },
  {
   "cell_type": "code",
   "execution_count": 18,
   "metadata": {},
   "outputs": [
    {
     "data": {
      "text/plain": [
       "[u'=', u'i', u'+', u'if', u'def']"
      ]
     },
     "execution_count": 18,
     "metadata": {},
     "output_type": "execute_result"
    }
   ],
   "source": [
    "# Top words\n",
    "[word for word, occurrences in sorted(word_tokenizer.word_counts.items(), key=lambda t: t[1], reverse=True)[:5]]"
   ]
  },
  {
   "cell_type": "markdown",
   "metadata": {},
   "source": [
    "**Token**"
   ]
  },
  {
   "cell_type": "code",
   "execution_count": 19,
   "metadata": {
    "collapsed": true
   },
   "outputs": [],
   "source": [
    "with open('data/processed/token_tokenizer.pickle', 'rb') as handle:\n",
    "    token_tokenizer = pickle.load(handle)"
   ]
  },
  {
   "cell_type": "code",
   "execution_count": 20,
   "metadata": {},
   "outputs": [
    {
     "data": {
      "text/plain": [
       "<keras.preprocessing.text.Tokenizer at 0x1902b3610>"
      ]
     },
     "execution_count": 20,
     "metadata": {},
     "output_type": "execute_result"
    }
   ],
   "source": [
    "token_tokenizer"
   ]
  },
  {
   "cell_type": "code",
   "execution_count": 21,
   "metadata": {
    "collapsed": true
   },
   "outputs": [],
   "source": [
    "#token_embeddings = np.load('data/processed/token_embeddings.npy')"
   ]
  },
  {
   "cell_type": "code",
   "execution_count": 22,
   "metadata": {
    "collapsed": true
   },
   "outputs": [],
   "source": [
    "#token_embeddings[0]"
   ]
  },
  {
   "cell_type": "code",
   "execution_count": 23,
   "metadata": {
    "collapsed": true
   },
   "outputs": [],
   "source": [
    "#len(token_embeddings[0])"
   ]
  },
  {
   "cell_type": "code",
   "execution_count": 24,
   "metadata": {
    "collapsed": true
   },
   "outputs": [],
   "source": [
    "#'{:,}'.format(len(token_embeddings))"
   ]
  },
  {
   "cell_type": "code",
   "execution_count": 25,
   "metadata": {
    "collapsed": true
   },
   "outputs": [],
   "source": [
    "id_to_token = { v: k for k, v in token_tokenizer.word_index.items() }"
   ]
  },
  {
   "cell_type": "code",
   "execution_count": 26,
   "metadata": {},
   "outputs": [
    {
     "data": {
      "text/plain": [
       "u')'"
      ]
     },
     "execution_count": 26,
     "metadata": {},
     "output_type": "execute_result"
    }
   ],
   "source": [
    "id_to_token[1]"
   ]
  },
  {
   "cell_type": "code",
   "execution_count": 27,
   "metadata": {},
   "outputs": [
    {
     "data": {
      "text/plain": [
       "'37,912'"
      ]
     },
     "execution_count": 27,
     "metadata": {},
     "output_type": "execute_result"
    }
   ],
   "source": [
    "'{:,}'.format(len(id_to_token))"
   ]
  },
  {
   "cell_type": "code",
   "execution_count": 28,
   "metadata": {},
   "outputs": [
    {
     "data": {
      "text/plain": [
       "[u')', u'(', u'=', u':', u'.']"
      ]
     },
     "execution_count": 28,
     "metadata": {},
     "output_type": "execute_result"
    }
   ],
   "source": [
    "# Top token words\n",
    "[word for word, occurrences in sorted(token_tokenizer.word_counts.items(), key=lambda t: t[1], reverse=True)[:5]]"
   ]
  },
  {
   "cell_type": "markdown",
   "metadata": {},
   "source": [
    "**Categories**"
   ]
  },
  {
   "cell_type": "code",
   "execution_count": 29,
   "metadata": {
    "collapsed": true
   },
   "outputs": [],
   "source": [
    "with open('data/processed/category_tokenizer.pickle', 'rb') as handle:\n",
    "    category_tokenizer = pickle.load(handle)"
   ]
  },
  {
   "cell_type": "markdown",
   "metadata": {},
   "source": [
    "## CA116 on 2016/2017"
   ]
  },
  {
   "cell_type": "code",
   "execution_count": 143,
   "metadata": {
    "collapsed": true
   },
   "outputs": [],
   "source": [
    "course = 'ca116'\n",
    "academic_year = [2016, 2017]"
   ]
  },
  {
   "cell_type": "code",
   "execution_count": 144,
   "metadata": {
    "collapsed": true
   },
   "outputs": [],
   "source": [
    "def get_data(course, academic_year):\n",
    "\n",
    "    programs = df_programs[(df_programs['module'] == course) &\n",
    "                           (df_programs['academic_year_0'] == academic_year[0])]\n",
    "    \n",
    "    exercises = sorted(programs.task.unique())\n",
    "    \n",
    "    grades = df_grades[(df_grades['module'] == course) &\n",
    "                       (df_grades['academic_year_0'] == academic_year[0])]\n",
    "    \n",
    "    students = grades.user.unique()\n",
    "    \n",
    "    return programs, exercises, grades, students"
   ]
  },
  {
   "cell_type": "code",
   "execution_count": 145,
   "metadata": {
    "collapsed": true
   },
   "outputs": [],
   "source": [
    "programs_cs1, exercises_cs1, grades_cs1, students_cs1 = get_data(course, academic_year)"
   ]
  },
  {
   "cell_type": "code",
   "execution_count": 146,
   "metadata": {},
   "outputs": [
    {
     "data": {
      "text/plain": [
       "('# Programs: 68,313', '# Exercises', 276, '# Grades: 327', '# Students', 126)"
      ]
     },
     "execution_count": 146,
     "metadata": {},
     "output_type": "execute_result"
    }
   ],
   "source": [
    "'# Programs: {:,}'.format(len(programs_cs1)), '# Exercises', len(exercises_cs1), '# Grades: {:,}'.format(len(grades_cs1)), '# Students', len(students_cs1)"
   ]
  },
  {
   "cell_type": "code",
   "execution_count": 147,
   "metadata": {
    "collapsed": true
   },
   "outputs": [],
   "source": [
    "import re\n",
    "def remove_comments(text):\n",
    "    return re.sub(re.compile('#.*?\\n'), '', text)"
   ]
  },
  {
   "cell_type": "code",
   "execution_count": 148,
   "metadata": {
    "collapsed": true
   },
   "outputs": [],
   "source": [
    "from keras.preprocessing.sequence import pad_sequences"
   ]
  },
  {
   "cell_type": "code",
   "execution_count": 149,
   "metadata": {
    "collapsed": true
   },
   "outputs": [],
   "source": [
    "def get_vectors(tokenizer, programs, exercises, grades, students, program='latest'):\n",
    "    \n",
    "    usr_matrix = {}\n",
    "    avg_grade = {}\n",
    "\n",
    "    for student_name in students:\n",
    "        \n",
    "        # Grade\n",
    "        average = grades[grades['user'] == student_name]['grade'].mean()    \n",
    "        avg_grade[student_name] = average\n",
    "        \n",
    "        for task in exercises:\n",
    "    \n",
    "            # Code programs\n",
    "            submissions = programs[(programs['user'] == student_name) & \n",
    "                                   (programs['task'] == task)].sort_values(by='date', ascending=False).index\n",
    "            \n",
    "            if len(submissions) > 0: \n",
    "            \n",
    "                if program == 'latest': # latest submission\n",
    "                    latest_index = submissions[0]\n",
    "                    submission = df_programs.iloc[latest_index, :]['upload']\n",
    "                else: # random\n",
    "                    random_index = random.choice(submissions)\n",
    "                    submission = df_programs.iloc[random_index, :]['upload']\n",
    "\n",
    "                submission = remove_comments(submission)\n",
    "\n",
    "                # Sequences\n",
    "                sequences = tokenizer.texts_to_sequences([submission])\n",
    "                # Padded sequences\n",
    "                padded_sequences = pad_sequences(sequences, maxlen=MAX_LENGTH, padding='post')\n",
    "\n",
    "                sequence = padded_sequences[0]\n",
    "                \n",
    "            else:\n",
    "                \n",
    "                sequence = np.zeros(MAX_LENGTH)\n",
    "            \n",
    "            usr_matrix.setdefault(student_name, [])\n",
    "            usr_matrix[student_name].append(sequence)\n",
    "    \n",
    "    return usr_matrix, avg_grade"
   ]
  },
  {
   "cell_type": "markdown",
   "metadata": {},
   "source": [
    "**Words & Latest submission**"
   ]
  },
  {
   "cell_type": "code",
   "execution_count": 150,
   "metadata": {
    "collapsed": true,
    "scrolled": true
   },
   "outputs": [],
   "source": [
    "# latest\n",
    "word_usr_matrix, word_avg_grade = get_vectors(word_tokenizer, programs_cs1, exercises_cs1, grades_cs1, students_cs1)"
   ]
  },
  {
   "cell_type": "code",
   "execution_count": 38,
   "metadata": {},
   "outputs": [
    {
     "data": {
      "text/plain": [
       "(126, 126)"
      ]
     },
     "execution_count": 38,
     "metadata": {},
     "output_type": "execute_result"
    }
   ],
   "source": [
    "len(word_usr_matrix), len(word_avg_grade)"
   ]
  },
  {
   "cell_type": "code",
   "execution_count": 39,
   "metadata": {
    "collapsed": true
   },
   "outputs": [],
   "source": [
    "sample_user = '2157ade0-6890-435b-8669-a884e3233bc7'"
   ]
  },
  {
   "cell_type": "code",
   "execution_count": 40,
   "metadata": {},
   "outputs": [
    {
     "data": {
      "text/plain": [
       "('# Tasks:', 276, 276)"
      ]
     },
     "execution_count": 40,
     "metadata": {},
     "output_type": "execute_result"
    }
   ],
   "source": [
    "'# Tasks:', len(word_usr_matrix[sample_user]), len(exercises)"
   ]
  },
  {
   "cell_type": "code",
   "execution_count": 41,
   "metadata": {
    "scrolled": true
   },
   "outputs": [
    {
     "data": {
      "text/plain": [
       "('Len each vector:', (50,), 50)"
      ]
     },
     "execution_count": 41,
     "metadata": {},
     "output_type": "execute_result"
    }
   ],
   "source": [
    "'Len each vector:', word_usr_matrix[sample_user][0].shape, MAX_LENGTH"
   ]
  },
  {
   "cell_type": "code",
   "execution_count": 42,
   "metadata": {},
   "outputs": [
    {
     "data": {
      "text/plain": [
       "array([[ 21.,  27.,  64., ...,  26.,   3.,  11.],\n",
       "       [ 17.,   1.,  34., ...,   0.,   0.,   0.],\n",
       "       [  0.,   0.,   0., ...,   0.,   0.,   0.],\n",
       "       ..., \n",
       "       [ 16.,  19.,   1., ...,   0.,   0.,   0.],\n",
       "       [ 16.,  19.,  20., ...,   0.,   0.,   0.],\n",
       "       [ 16.,  19.,   1., ...,   0.,   0.,   0.]])"
      ]
     },
     "execution_count": 42,
     "metadata": {},
     "output_type": "execute_result"
    }
   ],
   "source": [
    "np.array(word_usr_matrix[sample_user])"
   ]
  },
  {
   "cell_type": "markdown",
   "metadata": {},
   "source": [
    "Flatten the matrix:"
   ]
  },
  {
   "cell_type": "code",
   "execution_count": 43,
   "metadata": {},
   "outputs": [
    {
     "data": {
      "text/plain": [
       "array([ 21.,  27.,  64., ...,   0.,   0.,   0.])"
      ]
     },
     "execution_count": 43,
     "metadata": {},
     "output_type": "execute_result"
    }
   ],
   "source": [
    "np.array(word_usr_matrix[sample_user]).flatten()"
   ]
  },
  {
   "cell_type": "code",
   "execution_count": 45,
   "metadata": {},
   "outputs": [
    {
     "data": {
      "text/plain": [
       "(13800,)"
      ]
     },
     "execution_count": 45,
     "metadata": {},
     "output_type": "execute_result"
    }
   ],
   "source": [
    "np.array(word_usr_matrix[sample_user]).flatten().shape"
   ]
  },
  {
   "cell_type": "code",
   "execution_count": 46,
   "metadata": {},
   "outputs": [
    {
     "data": {
      "text/plain": [
       "58.0"
      ]
     },
     "execution_count": 46,
     "metadata": {},
     "output_type": "execute_result"
    }
   ],
   "source": [
    "word_avg_grade[sample_user]"
   ]
  },
  {
   "cell_type": "code",
   "execution_count": 47,
   "metadata": {
    "collapsed": true
   },
   "outputs": [],
   "source": [
    "def get_long_vectors(list_students, usr_matrix, usr_grades):\n",
    "    \n",
    "    long_vectors = []\n",
    "    ord_grades = []\n",
    "    \n",
    "    for student_identifier in sorted(list_students):\n",
    "        \n",
    "        long_vector = np.array(usr_matrix[student_identifier]).flatten()\n",
    "        long_vectors.append(long_vector)\n",
    "        \n",
    "        ord_grades.append(usr_grades[student_identifier])\n",
    "    \n",
    "    return np.array(long_vectors), np.array(ord_grades)"
   ]
  },
  {
   "cell_type": "markdown",
   "metadata": {},
   "source": [
    "Get long flat vectors with all the submissions:"
   ]
  },
  {
   "cell_type": "code",
   "execution_count": 48,
   "metadata": {
    "collapsed": true
   },
   "outputs": [],
   "source": [
    "word_long_vectors_cs1, word_grades_cs1 = get_long_vectors(students_cs1, word_usr_matrix, word_avg_grade)"
   ]
  },
  {
   "cell_type": "code",
   "execution_count": 49,
   "metadata": {
    "collapsed": true
   },
   "outputs": [],
   "source": [
    "from keras.models import Sequential\n",
    "from keras.layers import Dense\n",
    "from keras.layers import Flatten\n",
    "from keras.layers.embeddings import Embedding"
   ]
  },
  {
   "cell_type": "code",
   "execution_count": 50,
   "metadata": {
    "collapsed": true
   },
   "outputs": [],
   "source": [
    "NUM_STUDENTS = len(students_cs1)"
   ]
  },
  {
   "cell_type": "code",
   "execution_count": 51,
   "metadata": {},
   "outputs": [
    {
     "data": {
      "text/plain": [
       "126"
      ]
     },
     "execution_count": 51,
     "metadata": {},
     "output_type": "execute_result"
    }
   ],
   "source": [
    "NUM_STUDENTS"
   ]
  },
  {
   "cell_type": "code",
   "execution_count": 52,
   "metadata": {
    "collapsed": true
   },
   "outputs": [],
   "source": [
    "INPUT_LENGTH = len(exercises_cs1) * MAX_LENGTH"
   ]
  },
  {
   "cell_type": "code",
   "execution_count": 53,
   "metadata": {},
   "outputs": [
    {
     "data": {
      "text/plain": [
       "13800"
      ]
     },
     "execution_count": 53,
     "metadata": {},
     "output_type": "execute_result"
    }
   ],
   "source": [
    "INPUT_LENGTH"
   ]
  },
  {
   "cell_type": "code",
   "execution_count": 54,
   "metadata": {
    "collapsed": true
   },
   "outputs": [],
   "source": [
    "# Classification: Pass vs Fail\n",
    "THRESHOLD = 40\n",
    "word_grades_PF_cs1 = word_grades_cs1 < THRESHOLD"
   ]
  },
  {
   "cell_type": "code",
   "execution_count": 55,
   "metadata": {},
   "outputs": [
    {
     "data": {
      "text/plain": [
       "array([False, False, False,  True, False, False,  True, False,  True,\n",
       "       False,  True, False, False, False, False, False, False,  True,\n",
       "       False,  True, False, False, False, False, False, False, False,\n",
       "       False, False, False, False, False, False, False,  True,  True,\n",
       "       False,  True, False,  True, False,  True, False, False, False,\n",
       "       False, False,  True, False,  True,  True, False, False, False,\n",
       "        True, False, False, False, False,  True, False,  True, False,\n",
       "        True, False, False,  True, False, False, False, False, False,\n",
       "       False, False, False, False, False, False, False,  True,  True,\n",
       "       False, False,  True,  True, False, False, False, False, False,\n",
       "       False, False, False, False, False, False, False,  True, False,\n",
       "       False, False, False, False,  True,  True, False, False, False,\n",
       "       False, False, False, False,  True, False,  True,  True,  True,\n",
       "        True, False,  True,  True, False, False,  True,  True,  True], dtype=bool)"
      ]
     },
     "execution_count": 55,
     "metadata": {},
     "output_type": "execute_result"
    }
   ],
   "source": [
    "word_grades_PF_cs1"
   ]
  },
  {
   "cell_type": "code",
   "execution_count": 59,
   "metadata": {},
   "outputs": [
    {
     "data": {
      "text/plain": [
       "126"
      ]
     },
     "execution_count": 59,
     "metadata": {},
     "output_type": "execute_result"
    }
   ],
   "source": [
    "len(word_grades_PF_cs1)"
   ]
  },
  {
   "cell_type": "code",
   "execution_count": 60,
   "metadata": {},
   "outputs": [
    {
     "data": {
      "text/plain": [
       "126"
      ]
     },
     "execution_count": 60,
     "metadata": {},
     "output_type": "execute_result"
    }
   ],
   "source": [
    "len(word_long_vectors_cs1)"
   ]
  },
  {
   "cell_type": "code",
   "execution_count": 64,
   "metadata": {
    "collapsed": true
   },
   "outputs": [],
   "source": [
    "NUM_WORDS = 2000"
   ]
  },
  {
   "cell_type": "code",
   "execution_count": 65,
   "metadata": {
    "collapsed": true
   },
   "outputs": [],
   "source": [
    "word_long_vectors_normalized_cs1 = word_long_vectors_cs1 / NUM_WORDS "
   ]
  },
  {
   "cell_type": "code",
   "execution_count": 66,
   "metadata": {},
   "outputs": [
    {
     "data": {
      "text/plain": [
       "(126, 13800)"
      ]
     },
     "execution_count": 66,
     "metadata": {},
     "output_type": "execute_result"
    }
   ],
   "source": [
    "word_long_vectors_normalized_cs1.shape"
   ]
  },
  {
   "cell_type": "code",
   "execution_count": 112,
   "metadata": {
    "collapsed": true
   },
   "outputs": [],
   "source": [
    "def get_model(NUM_STUDENTS, INPUT_LENGTH):\n",
    "\n",
    "    # define the model\n",
    "    model = Sequential()\n",
    "    model.add(Embedding(NUM_STUDENTS, 100, input_length=INPUT_LENGTH))\n",
    "    model.add(Flatten())\n",
    "    model.add(Dense(1, activation='sigmoid'))\n",
    "    # compile the model\n",
    "    model.compile(optimizer='adam', loss='binary_crossentropy', metrics=['acc'])\n",
    "    # summarize the model\n",
    "    print(model.summary())\n",
    "    return model"
   ]
  },
  {
   "cell_type": "code",
   "execution_count": 82,
   "metadata": {},
   "outputs": [
    {
     "name": "stdout",
     "output_type": "stream",
     "text": [
      "_________________________________________________________________\n",
      "Layer (type)                 Output Shape              Param #   \n",
      "=================================================================\n",
      "embedding_3 (Embedding)      (None, 13800, 100)        12600     \n",
      "_________________________________________________________________\n",
      "flatten_3 (Flatten)          (None, 1380000)           0         \n",
      "_________________________________________________________________\n",
      "dense_3 (Dense)              (None, 1)                 1380001   \n",
      "=================================================================\n",
      "Total params: 1,392,601\n",
      "Trainable params: 1,392,601\n",
      "Non-trainable params: 0\n",
      "_________________________________________________________________\n",
      "None\n"
     ]
    }
   ],
   "source": [
    "model_cs1 = get_model()"
   ]
  },
  {
   "cell_type": "code",
   "execution_count": 83,
   "metadata": {},
   "outputs": [
    {
     "name": "stdout",
     "output_type": "stream",
     "text": [
      "Train on 113 samples, validate on 13 samples\n",
      "Epoch 1/10\n",
      "113/113 [==============================] - 2s 14ms/step - loss: 3.6277 - acc: 0.7080 - val_loss: 11.1587 - val_acc: 0.3077\n",
      "Epoch 2/10\n",
      "113/113 [==============================] - 1s 9ms/step - loss: 3.8512 - acc: 0.7611 - val_loss: 11.1587 - val_acc: 0.3077\n",
      "Epoch 3/10\n",
      "113/113 [==============================] - 1s 9ms/step - loss: 3.8512 - acc: 0.7611 - val_loss: 11.1587 - val_acc: 0.3077\n",
      "Epoch 4/10\n",
      "113/113 [==============================] - 1s 8ms/step - loss: 3.8512 - acc: 0.7611 - val_loss: 11.1587 - val_acc: 0.3077\n",
      "Epoch 5/10\n",
      "113/113 [==============================] - 1s 9ms/step - loss: 3.8512 - acc: 0.7611 - val_loss: 11.1587 - val_acc: 0.3077\n",
      "Epoch 6/10\n",
      "113/113 [==============================] - 1s 9ms/step - loss: 3.8512 - acc: 0.7611 - val_loss: 11.1587 - val_acc: 0.3077\n",
      "Epoch 7/10\n",
      "113/113 [==============================] - 1s 9ms/step - loss: 3.8512 - acc: 0.7611 - val_loss: 11.1587 - val_acc: 0.3077\n",
      "Epoch 8/10\n",
      "113/113 [==============================] - 1s 9ms/step - loss: 3.8512 - acc: 0.7611 - val_loss: 11.1587 - val_acc: 0.3077\n",
      "Epoch 9/10\n",
      "113/113 [==============================] - 1s 8ms/step - loss: 3.8512 - acc: 0.7611 - val_loss: 11.1587 - val_acc: 0.3077\n",
      "Epoch 10/10\n",
      "113/113 [==============================] - 1s 8ms/step - loss: 3.8512 - acc: 0.7611 - val_loss: 11.1587 - val_acc: 0.3077\n"
     ]
    },
    {
     "data": {
      "text/plain": [
       "<keras.callbacks.History at 0x1109f20d0>"
      ]
     },
     "execution_count": 83,
     "metadata": {},
     "output_type": "execute_result"
    }
   ],
   "source": [
    "# fit\n",
    "model_cs1.fit(word_long_vectors_normalized_cs1, \n",
    "              word_grades_PF_cs1,\n",
    "              batch_size=10,\n",
    "              epochs=10,\n",
    "              validation_split=0.1)"
   ]
  },
  {
   "cell_type": "code",
   "execution_count": 84,
   "metadata": {
    "collapsed": true
   },
   "outputs": [],
   "source": [
    "def get_embeddings(model):\n",
    "\n",
    "    # Embedding Layer\n",
    "    embedding_layer = model.layers[0]\n",
    "    embeddings = embedding_layer.get_weights()[0]\n",
    "    print 'Embedding Layer shape:', embeddings.shape\n",
    "    \n",
    "    return embeddings"
   ]
  },
  {
   "cell_type": "code",
   "execution_count": 85,
   "metadata": {},
   "outputs": [
    {
     "name": "stdout",
     "output_type": "stream",
     "text": [
      "Embedding Layer shape: (126, 100)\n"
     ]
    }
   ],
   "source": [
    "word_embeddings_cs1 = get_embeddings(model_cs1)"
   ]
  },
  {
   "cell_type": "code",
   "execution_count": 86,
   "metadata": {},
   "outputs": [
    {
     "data": {
      "text/plain": [
       "array([-0.01625017, -0.05315671,  0.023313  , -0.03459588,  0.03326927,\n",
       "        0.04000146,  0.04902682,  0.00899275,  0.03961425, -0.05524522,\n",
       "        0.04369005, -0.05444517, -0.03817959, -0.02768388,  0.01397563,\n",
       "        0.04324307,  0.05206598, -0.01513672,  0.04229155,  0.05132439,\n",
       "        0.05025043,  0.00829243,  0.0468758 , -0.01221561,  0.01230095,\n",
       "        0.01533404,  0.02805373,  0.04991719,  0.02804281, -0.0161137 ,\n",
       "       -0.02582516, -0.01441804, -0.04421   ,  0.05010355,  0.00983164,\n",
       "        0.04159693, -0.02698925,  0.02391216, -0.01038359, -0.00990992,\n",
       "        0.03479475, -0.02873434, -0.03761004, -0.01167469, -0.01358406,\n",
       "        0.05334106, -0.02443621,  0.04959005,  0.02640499,  0.04182405,\n",
       "       -0.02270862, -0.02598502,  0.04899558, -0.02579589,  0.05423144,\n",
       "        0.03163172, -0.05116317, -0.0309667 , -0.05451898, -0.02581248,\n",
       "       -0.03078377, -0.02183701, -0.05116829, -0.01076464, -0.03128011,\n",
       "       -0.01019508, -0.00759506, -0.03255185, -0.03212566,  0.02667948,\n",
       "        0.017411  , -0.04755211,  0.04259386,  0.02834072, -0.00680055,\n",
       "       -0.02177377,  0.03508589, -0.04929388,  0.02851872, -0.02088158,\n",
       "        0.01452074,  0.05352035, -0.00751816,  0.03186442, -0.01664414,\n",
       "        0.00850289,  0.01438628,  0.02422253, -0.02895082, -0.00820978,\n",
       "       -0.01950376, -0.04317734,  0.04498137,  0.02424646, -0.02436709,\n",
       "       -0.01670631, -0.03696704,  0.02767404, -0.05351042,  0.01652454], dtype=float32)"
      ]
     },
     "execution_count": 86,
     "metadata": {},
     "output_type": "execute_result"
    }
   ],
   "source": [
    "word_embeddings_cs1[0]"
   ]
  },
  {
   "cell_type": "code",
   "execution_count": 87,
   "metadata": {
    "collapsed": true
   },
   "outputs": [],
   "source": [
    "from sklearn.decomposition import PCA\n",
    "\n",
    "def get_pca(vectors):\n",
    "\n",
    "    # PCA\n",
    "    pca = PCA(n_components=2)\n",
    "    principal_components = pca.fit_transform(vectors)\n",
    "    print 'PCA explained variance ratio:', pca.explained_variance_ratio_, 'Total:', sum(pca.explained_variance_ratio_)\n",
    "    return principal_components"
   ]
  },
  {
   "cell_type": "code",
   "execution_count": 88,
   "metadata": {},
   "outputs": [
    {
     "name": "stdout",
     "output_type": "stream",
     "text": [
      "PCA explained variance ratio: [ 0.03403775  0.03286329] Total: 0.0669010430574\n"
     ]
    }
   ],
   "source": [
    "embeddings_pca_cs1 = get_pca(word_embeddings_cs1)"
   ]
  },
  {
   "cell_type": "code",
   "execution_count": 140,
   "metadata": {
    "collapsed": true
   },
   "outputs": [],
   "source": [
    "def get_5_colors(grade):\n",
    "    \n",
    "    if grade < 20:\n",
    "        return 'black'\n",
    "    elif grade < 40:\n",
    "        return 'brown'\n",
    "    elif grade < 60:\n",
    "        return 'lightblue'\n",
    "    elif grade < 80:\n",
    "        return 'cyan'\n",
    "    else:\n",
    "        return 'blue'"
   ]
  },
  {
   "cell_type": "code",
   "execution_count": 90,
   "metadata": {
    "collapsed": true
   },
   "outputs": [],
   "source": [
    "def get_2_colors(grade):\n",
    "    \n",
    "    if grade < 40:\n",
    "        return 'red'\n",
    "    else:\n",
    "        return 'green'"
   ]
  },
  {
   "cell_type": "code",
   "execution_count": 179,
   "metadata": {},
   "outputs": [],
   "source": [
    "from matplotlib.lines import Line2D\n",
    "\n",
    "def plot_vectors(low_dim_vectors, grades, c='two', figsize=(8, 8)):\n",
    "\n",
    "    if c == 'two':\n",
    "        function = get_2_colors\n",
    "    else:\n",
    "        function = get_5_colors\n",
    "    \n",
    "    plt.figure(figsize=figsize, dpi=100)\n",
    "    ax = plt.axes()\n",
    "    ax.yaxis.set_major_locator(plt.NullLocator())\n",
    "    ax.xaxis.set_major_locator(plt.NullLocator())\n",
    "    \n",
    "    i = 0\n",
    "    while i < len(low_dim_vectors):\n",
    "            \n",
    "        x, y = low_dim_vectors[i, :]\n",
    "        g = grades[i]\n",
    "        color = function(g)\n",
    "        plt.scatter(x, y, color=color)\n",
    "        \n",
    "        i += 1\n",
    "        \n",
    "    legend_colors = [\n",
    "        ('[0, 20)', 'black'),\n",
    "        ('[20, 40)', 'brown'),\n",
    "        ('[40, 60)', 'lightblue'),\n",
    "        ('[60, 80)', 'cyan'),\n",
    "        ('[80, 100]', 'blue'),\n",
    "    ]\n",
    "    legend_elements = []\n",
    "    for l in legend_colors:\n",
    "        label, color = l\n",
    "        legend_elements.append(\n",
    "            Line2D([0], [0], marker='o', color='w', label=label, markerfacecolor=color, markersize=10)\n",
    "        )\n",
    "    ax.legend(handles=legend_elements, loc='upper right')"
   ]
  },
  {
   "cell_type": "code",
   "execution_count": 166,
   "metadata": {},
   "outputs": [
    {
     "ename": "NameError",
     "evalue": "name 'embeddings_pca_cs1' is not defined",
     "output_type": "error",
     "traceback": [
      "\u001b[0;31m---------------------------------------------------------------------------\u001b[0m",
      "\u001b[0;31mNameError\u001b[0m                                 Traceback (most recent call last)",
      "\u001b[0;32m<ipython-input-166-20ec322ba6c4>\u001b[0m in \u001b[0;36m<module>\u001b[0;34m()\u001b[0m\n\u001b[0;32m----> 1\u001b[0;31m \u001b[0mplot_vectors\u001b[0m\u001b[0;34m(\u001b[0m\u001b[0membeddings_pca_cs1\u001b[0m\u001b[0;34m,\u001b[0m \u001b[0mword_grades_cs1\u001b[0m\u001b[0;34m,\u001b[0m \u001b[0mc\u001b[0m\u001b[0;34m=\u001b[0m\u001b[0;34m'five'\u001b[0m\u001b[0;34m)\u001b[0m\u001b[0;34m\u001b[0m\u001b[0m\n\u001b[0m",
      "\u001b[0;31mNameError\u001b[0m: name 'embeddings_pca_cs1' is not defined"
     ]
    }
   ],
   "source": [
    "plot_vectors(embeddings_pca_cs1, word_grades_cs1, c='five')"
   ]
  },
  {
   "cell_type": "code",
   "execution_count": 93,
   "metadata": {},
   "outputs": [
    {
     "name": "stdout",
     "output_type": "stream",
     "text": [
      "PCA explained variance ratio: [ 0.08898022  0.03134991] Total: 0.120330126708\n"
     ]
    }
   ],
   "source": [
    "word_pca_cs1 = get_pca(word_long_vectors_cs1)"
   ]
  },
  {
   "cell_type": "code",
   "execution_count": 151,
   "metadata": {},
   "outputs": [
    {
     "ename": "NameError",
     "evalue": "name 'word_pca_cs1' is not defined",
     "output_type": "error",
     "traceback": [
      "\u001b[0;31m---------------------------------------------------------------------------\u001b[0m",
      "\u001b[0;31mNameError\u001b[0m                                 Traceback (most recent call last)",
      "\u001b[0;32m<ipython-input-151-488168cf7bb7>\u001b[0m in \u001b[0;36m<module>\u001b[0;34m()\u001b[0m\n\u001b[0;32m----> 1\u001b[0;31m \u001b[0mplot_vectors\u001b[0m\u001b[0;34m(\u001b[0m\u001b[0mword_pca_cs1\u001b[0m\u001b[0;34m,\u001b[0m \u001b[0mword_grades\u001b[0m\u001b[0;34m,\u001b[0m \u001b[0mc\u001b[0m\u001b[0;34m=\u001b[0m\u001b[0;34m'five'\u001b[0m\u001b[0;34m)\u001b[0m\u001b[0;34m\u001b[0m\u001b[0m\n\u001b[0m",
      "\u001b[0;31mNameError\u001b[0m: name 'word_pca_cs1' is not defined"
     ]
    }
   ],
   "source": [
    "plot_vectors(word_pca_cs1, word_grades, c='five')"
   ]
  },
  {
   "cell_type": "code",
   "execution_count": 95,
   "metadata": {},
   "outputs": [
    {
     "data": {
      "image/png": "[encoded data removed]",
      "text/plain": [
       "<matplotlib.figure.Figure at 0x1a044bed0>"
      ]
     },
     "metadata": {},
     "output_type": "display_data"
    }
   ],
   "source": [
    "plot_vectors(word_pca, word_grades)"
   ]
  },
  {
   "cell_type": "markdown",
   "metadata": {},
   "source": [
    "**Words & Random submission**"
   ]
  },
  {
   "cell_type": "code",
   "execution_count": 67,
   "metadata": {
    "collapsed": true
   },
   "outputs": [],
   "source": [
    "word_random_usr_matrix, word_random_avg_grade = get_vectors(word_tokenizer, \n",
    "                                                            word_embeddings, \n",
    "                                                            programs,\n",
    "                                                            exercises, \n",
    "                                                            grades, \n",
    "                                                            students,\n",
    "                                                            program='random')"
   ]
  },
  {
   "cell_type": "code",
   "execution_count": 76,
   "metadata": {
    "collapsed": true
   },
   "outputs": [],
   "source": [
    "word_random_long_vectors, word_random_grades = get_long_vectors(students, word_usr_matrix, word_avg_grade)"
   ]
  },
  {
   "cell_type": "code",
   "execution_count": 77,
   "metadata": {},
   "outputs": [
    {
     "name": "stdout",
     "output_type": "stream",
     "text": [
      "PCA explained variance ratio: [ 0.08898022  0.03135038] Total: 0.120330595932\n"
     ]
    }
   ],
   "source": [
    "word_random_pca = get_pca(word_random_long_vectors)"
   ]
  },
  {
   "cell_type": "code",
   "execution_count": 78,
   "metadata": {},
   "outputs": [
    {
     "data": {
      "image/png": "[encoded data removed]",
      "text/plain": [
       "<matplotlib.figure.Figure at 0x19466be90>"
      ]
     },
     "metadata": {},
     "output_type": "display_data"
    }
   ],
   "source": [
    "plot_vectors(word_random_pca, word_random_grades)"
   ]
  },
  {
   "cell_type": "markdown",
   "metadata": {},
   "source": [
    "**Tokens & Latest Submission**"
   ]
  },
  {
   "cell_type": "code",
   "execution_count": 152,
   "metadata": {},
   "outputs": [],
   "source": [
    "token_usr_matrix, token_avg_grade = get_vectors(token_tokenizer, programs, exercises, grades, students)"
   ]
  },
  {
   "cell_type": "code",
   "execution_count": 153,
   "metadata": {
    "collapsed": true
   },
   "outputs": [],
   "source": [
    "token_long_vectors, token_grades = get_long_vectors(students, token_usr_matrix, token_avg_grade)"
   ]
  },
  {
   "cell_type": "code",
   "execution_count": 154,
   "metadata": {},
   "outputs": [
    {
     "name": "stdout",
     "output_type": "stream",
     "text": [
      "PCA explained variance ratio: [ 0.06285195  0.03280906] Total: 0.0956610085063\n"
     ]
    }
   ],
   "source": [
    "token_pca = get_pca(token_long_vectors)"
   ]
  },
  {
   "cell_type": "code",
   "execution_count": 155,
   "metadata": {
    "scrolled": false
   },
   "outputs": [
    {
     "data": {
      "image/png": "[encoded data removed]",
      "text/plain": [
       "<matplotlib.figure.Figure at 0x113cb5590>"
      ]
     },
     "metadata": {},
     "output_type": "display_data"
    }
   ],
   "source": [
    "plot_vectors(token_pca, token_grades)"
   ]
  },
  {
   "cell_type": "code",
   "execution_count": 180,
   "metadata": {},
   "outputs": [
    {
     "data": {
      "image/png": "[encoded data removed]",
      "text/plain": [
       "<matplotlib.figure.Figure at 0x1aac6fd10>"
      ]
     },
     "metadata": {},
     "output_type": "display_data"
    }
   ],
   "source": [
    "plot_vectors(token_pca, token_grades, c='five')"
   ]
  },
  {
   "cell_type": "code",
   "execution_count": 157,
   "metadata": {
    "collapsed": true
   },
   "outputs": [],
   "source": [
    "token_long_vectors_normalized = token_long_vectors / NUM_WORDS"
   ]
  },
  {
   "cell_type": "code",
   "execution_count": 158,
   "metadata": {
    "collapsed": true
   },
   "outputs": [],
   "source": [
    "token_grades_PF = token_grades < THRESHOLD"
   ]
  },
  {
   "cell_type": "code",
   "execution_count": 159,
   "metadata": {},
   "outputs": [
    {
     "data": {
      "text/plain": [
       "(140, 6600)"
      ]
     },
     "execution_count": 159,
     "metadata": {},
     "output_type": "execute_result"
    }
   ],
   "source": [
    "NUM_STUDENTS = len(students)\n",
    "\n",
    "INPUT_LENGTH = len(exercises) * MAX_LENGTH\n",
    "\n",
    "NUM_STUDENTS, INPUT_LENGTH"
   ]
  },
  {
   "cell_type": "code",
   "execution_count": 160,
   "metadata": {},
   "outputs": [
    {
     "name": "stdout",
     "output_type": "stream",
     "text": [
      "_________________________________________________________________\n",
      "Layer (type)                 Output Shape              Param #   \n",
      "=================================================================\n",
      "embedding_7 (Embedding)      (None, 6600, 100)         14000     \n",
      "_________________________________________________________________\n",
      "flatten_7 (Flatten)          (None, 660000)            0         \n",
      "_________________________________________________________________\n",
      "dense_7 (Dense)              (None, 1)                 660001    \n",
      "=================================================================\n",
      "Total params: 674,001\n",
      "Trainable params: 674,001\n",
      "Non-trainable params: 0\n",
      "_________________________________________________________________\n",
      "None\n"
     ]
    }
   ],
   "source": [
    "token_model = get_model(NUM_STUDENTS, INPUT_LENGTH)"
   ]
  },
  {
   "cell_type": "code",
   "execution_count": 161,
   "metadata": {},
   "outputs": [
    {
     "name": "stdout",
     "output_type": "stream",
     "text": [
      "Train on 126 samples, validate on 14 samples\n",
      "Epoch 1/10\n",
      "126/126 [==============================] - 1s 9ms/step - loss: 7.6467 - acc: 0.4841 - val_loss: 3.4162 - val_acc: 0.7857\n",
      "Epoch 2/10\n",
      "126/126 [==============================] - 1s 5ms/step - loss: 8.2242 - acc: 0.4841 - val_loss: 3.4162 - val_acc: 0.7857\n",
      "Epoch 3/10\n",
      "126/126 [==============================] - 1s 4ms/step - loss: 8.2242 - acc: 0.4841 - val_loss: 3.4162 - val_acc: 0.7857\n",
      "Epoch 4/10\n",
      "126/126 [==============================] - 1s 4ms/step - loss: 8.2242 - acc: 0.4841 - val_loss: 3.4162 - val_acc: 0.7857\n",
      "Epoch 5/10\n",
      "126/126 [==============================] - 1s 4ms/step - loss: 8.2242 - acc: 0.4841 - val_loss: 3.4162 - val_acc: 0.7857\n",
      "Epoch 6/10\n",
      "126/126 [==============================] - 1s 4ms/step - loss: 8.2242 - acc: 0.4841 - val_loss: 3.4162 - val_acc: 0.7857\n",
      "Epoch 7/10\n",
      "126/126 [==============================] - 1s 4ms/step - loss: 8.2242 - acc: 0.4841 - val_loss: 3.4162 - val_acc: 0.7857\n",
      "Epoch 8/10\n",
      "126/126 [==============================] - 1s 4ms/step - loss: 8.2242 - acc: 0.4841 - val_loss: 3.4162 - val_acc: 0.7857\n",
      "Epoch 9/10\n",
      "126/126 [==============================] - 1s 4ms/step - loss: 8.2242 - acc: 0.4841 - val_loss: 3.4162 - val_acc: 0.7857\n",
      "Epoch 10/10\n",
      "126/126 [==============================] - 1s 4ms/step - loss: 8.2242 - acc: 0.4841 - val_loss: 3.4162 - val_acc: 0.7857\n"
     ]
    },
    {
     "data": {
      "text/plain": [
       "<keras.callbacks.History at 0x1a16e2a10>"
      ]
     },
     "execution_count": 161,
     "metadata": {},
     "output_type": "execute_result"
    }
   ],
   "source": [
    "# fit\n",
    "token_model.fit(token_long_vectors_normalized, \n",
    "                token_grades_PF,\n",
    "                batch_size=10,\n",
    "                epochs=10,\n",
    "                validation_split=0.1)"
   ]
  },
  {
   "cell_type": "code",
   "execution_count": 162,
   "metadata": {},
   "outputs": [
    {
     "name": "stdout",
     "output_type": "stream",
     "text": [
      "Embedding Layer shape: (140, 100)\n"
     ]
    }
   ],
   "source": [
    "token_embeddings = get_embeddings(token_model)"
   ]
  },
  {
   "cell_type": "code",
   "execution_count": 163,
   "metadata": {},
   "outputs": [
    {
     "name": "stdout",
     "output_type": "stream",
     "text": [
      "PCA explained variance ratio: [ 0.03165596  0.02978322] Total: 0.0614391751587\n"
     ]
    }
   ],
   "source": [
    "token_embeddings_pca = get_pca(token_embeddings)"
   ]
  },
  {
   "cell_type": "code",
   "execution_count": 181,
   "metadata": {},
   "outputs": [
    {
     "data": {
      "image/png": "[encoded data removed]",
      "text/plain": [
       "<matplotlib.figure.Figure at 0x114bfded0>"
      ]
     },
     "metadata": {},
     "output_type": "display_data"
    }
   ],
   "source": [
    "plot_vectors(token_embeddings_pca, token_grades, c='five')"
   ]
  },
  {
   "cell_type": "code",
   "execution_count": null,
   "metadata": {
    "collapsed": true
   },
   "outputs": [],
   "source": []
  },
  {
   "cell_type": "code",
   "execution_count": null,
   "metadata": {
    "collapsed": true
   },
   "outputs": [],
   "source": []
  },
  {
   "cell_type": "markdown",
   "metadata": {},
   "source": [
    "## CA117 on 2016/2017"
   ]
  },
  {
   "cell_type": "code",
   "execution_count": 142,
   "metadata": {
    "collapsed": true
   },
   "outputs": [],
   "source": [
    "course = 'ca117'\n",
    "academic_year = [2016, 2017]"
   ]
  },
  {
   "cell_type": "code",
   "execution_count": 97,
   "metadata": {
    "collapsed": true
   },
   "outputs": [],
   "source": [
    "programs, exercises, grades, students = get_data(course, academic_year)"
   ]
  },
  {
   "cell_type": "code",
   "execution_count": 98,
   "metadata": {},
   "outputs": [
    {
     "data": {
      "text/plain": [
       "('# Programs: 74,065', '# Exercises', 132, '# Grades: 280', '# Students', 140)"
      ]
     },
     "execution_count": 98,
     "metadata": {},
     "output_type": "execute_result"
    }
   ],
   "source": [
    "'# Programs: {:,}'.format(len(programs)), '# Exercises', len(exercises), '# Grades: {:,}'.format(len(grades)), '# Students', len(students)"
   ]
  },
  {
   "cell_type": "markdown",
   "metadata": {},
   "source": [
    "**Words**"
   ]
  },
  {
   "cell_type": "code",
   "execution_count": 100,
   "metadata": {},
   "outputs": [],
   "source": [
    "word_usr_matrix, word_avg_grade = get_vectors(word_tokenizer, programs, exercises, grades, students)"
   ]
  },
  {
   "cell_type": "code",
   "execution_count": 101,
   "metadata": {
    "collapsed": true
   },
   "outputs": [],
   "source": [
    "word_long_vectors, word_grades = get_long_vectors(students, word_usr_matrix, word_avg_grade)"
   ]
  },
  {
   "cell_type": "code",
   "execution_count": 102,
   "metadata": {},
   "outputs": [
    {
     "name": "stdout",
     "output_type": "stream",
     "text": [
      "PCA explained variance ratio: [ 0.10731454  0.03777044] Total: 0.145084981326\n"
     ]
    }
   ],
   "source": [
    "word_pca = get_pca(word_long_vectors)"
   ]
  },
  {
   "cell_type": "code",
   "execution_count": 103,
   "metadata": {},
   "outputs": [
    {
     "data": {
      "image/png": "[encoded data removed]",
      "text/plain": [
       "<matplotlib.figure.Figure at 0x10f77fc90>"
      ]
     },
     "metadata": {},
     "output_type": "display_data"
    }
   ],
   "source": [
    "plot_vectors(word_pca, word_grades)"
   ]
  },
  {
   "cell_type": "code",
   "execution_count": 104,
   "metadata": {
    "scrolled": false
   },
   "outputs": [
    {
     "data": {
      "image/png": "[encoded data removed]",
      "text/plain": [
       "<matplotlib.figure.Figure at 0x18eaf74d0>"
      ]
     },
     "metadata": {},
     "output_type": "display_data"
    }
   ],
   "source": [
    "plot_vectors(word_pca, word_grades, c='five')"
   ]
  },
  {
   "cell_type": "code",
   "execution_count": 105,
   "metadata": {
    "collapsed": true
   },
   "outputs": [],
   "source": [
    "word_long_vectors_normalized = word_long_vectors / NUM_WORDS "
   ]
  },
  {
   "cell_type": "code",
   "execution_count": 106,
   "metadata": {
    "collapsed": true
   },
   "outputs": [],
   "source": [
    "word_grades_PF = word_grades < THRESHOLD"
   ]
  },
  {
   "cell_type": "code",
   "execution_count": 109,
   "metadata": {
    "collapsed": true
   },
   "outputs": [],
   "source": [
    "NUM_STUDENTS = len(students)"
   ]
  },
  {
   "cell_type": "code",
   "execution_count": 110,
   "metadata": {
    "collapsed": true
   },
   "outputs": [],
   "source": [
    "INPUT_LENGTH = len(exercises) * MAX_LENGTH"
   ]
  },
  {
   "cell_type": "code",
   "execution_count": 111,
   "metadata": {},
   "outputs": [
    {
     "data": {
      "text/plain": [
       "(140, 6600)"
      ]
     },
     "execution_count": 111,
     "metadata": {},
     "output_type": "execute_result"
    }
   ],
   "source": [
    "NUM_STUDENTS, INPUT_LENGTH"
   ]
  },
  {
   "cell_type": "code",
   "execution_count": 113,
   "metadata": {},
   "outputs": [
    {
     "name": "stdout",
     "output_type": "stream",
     "text": [
      "_________________________________________________________________\n",
      "Layer (type)                 Output Shape              Param #   \n",
      "=================================================================\n",
      "embedding_5 (Embedding)      (None, 6600, 100)         14000     \n",
      "_________________________________________________________________\n",
      "flatten_5 (Flatten)          (None, 660000)            0         \n",
      "_________________________________________________________________\n",
      "dense_5 (Dense)              (None, 1)                 660001    \n",
      "=================================================================\n",
      "Total params: 674,001\n",
      "Trainable params: 674,001\n",
      "Non-trainable params: 0\n",
      "_________________________________________________________________\n",
      "None\n"
     ]
    }
   ],
   "source": [
    "model = get_model(NUM_STUDENTS, INPUT_LENGTH)"
   ]
  },
  {
   "cell_type": "code",
   "execution_count": 114,
   "metadata": {},
   "outputs": [
    {
     "name": "stdout",
     "output_type": "stream",
     "text": [
      "Train on 126 samples, validate on 14 samples\n",
      "Epoch 1/10\n",
      "126/126 [==============================] - 1s 12ms/step - loss: 7.4743 - acc: 0.5159 - val_loss: 12.6642 - val_acc: 0.2143\n",
      "Epoch 2/10\n",
      "126/126 [==============================] - 1s 4ms/step - loss: 7.8032 - acc: 0.5159 - val_loss: 12.6642 - val_acc: 0.2143\n",
      "Epoch 3/10\n",
      "126/126 [==============================] - 0s 4ms/step - loss: 7.8032 - acc: 0.5159 - val_loss: 12.6642 - val_acc: 0.2143\n",
      "Epoch 4/10\n",
      "126/126 [==============================] - 0s 4ms/step - loss: 7.8032 - acc: 0.5159 - val_loss: 12.6642 - val_acc: 0.2143\n",
      "Epoch 5/10\n",
      "126/126 [==============================] - 0s 4ms/step - loss: 7.8032 - acc: 0.5159 - val_loss: 12.6642 - val_acc: 0.2143\n",
      "Epoch 6/10\n",
      "126/126 [==============================] - 0s 4ms/step - loss: 7.8032 - acc: 0.5159 - val_loss: 12.6642 - val_acc: 0.2143\n",
      "Epoch 7/10\n",
      "126/126 [==============================] - 0s 4ms/step - loss: 7.8032 - acc: 0.5159 - val_loss: 12.6642 - val_acc: 0.2143\n",
      "Epoch 8/10\n",
      "126/126 [==============================] - 0s 4ms/step - loss: 7.8032 - acc: 0.5159 - val_loss: 12.6642 - val_acc: 0.2143\n",
      "Epoch 9/10\n",
      "126/126 [==============================] - 1s 4ms/step - loss: 7.8032 - acc: 0.5159 - val_loss: 12.6642 - val_acc: 0.2143\n",
      "Epoch 10/10\n",
      "126/126 [==============================] - 1s 5ms/step - loss: 7.8032 - acc: 0.5159 - val_loss: 12.6642 - val_acc: 0.2143\n"
     ]
    },
    {
     "data": {
      "text/plain": [
       "<keras.callbacks.History at 0x19ce32bd0>"
      ]
     },
     "execution_count": 114,
     "metadata": {},
     "output_type": "execute_result"
    }
   ],
   "source": [
    "model.fit(word_long_vectors_normalized, \n",
    "          word_grades_PF,\n",
    "          batch_size=10,\n",
    "          epochs=10,\n",
    "          validation_split=0.1)"
   ]
  },
  {
   "cell_type": "code",
   "execution_count": 115,
   "metadata": {},
   "outputs": [
    {
     "name": "stdout",
     "output_type": "stream",
     "text": [
      "Embedding Layer shape: (140, 100)\n"
     ]
    }
   ],
   "source": [
    "embeddings = get_embeddings(model)"
   ]
  },
  {
   "cell_type": "code",
   "execution_count": 116,
   "metadata": {},
   "outputs": [
    {
     "name": "stdout",
     "output_type": "stream",
     "text": [
      "PCA explained variance ratio: [ 0.0326962   0.03091972] Total: 0.0636159181595\n"
     ]
    }
   ],
   "source": [
    "embeddings_pca = get_pca(embeddings)"
   ]
  },
  {
   "cell_type": "code",
   "execution_count": 117,
   "metadata": {},
   "outputs": [
    {
     "data": {
      "image/png": "[encoded data removed]",
      "text/plain": [
       "<matplotlib.figure.Figure at 0x197bb7f50>"
      ]
     },
     "metadata": {},
     "output_type": "display_data"
    }
   ],
   "source": [
    "plot_vectors(embeddings_pca, word_grades)"
   ]
  },
  {
   "cell_type": "code",
   "execution_count": 118,
   "metadata": {},
   "outputs": [
    {
     "data": {
      "image/png": "[encoded data removed]",
      "text/plain": [
       "<matplotlib.figure.Figure at 0x1b098f390>"
      ]
     },
     "metadata": {},
     "output_type": "display_data"
    }
   ],
   "source": [
    "plot_vectors(embeddings_pca, word_grades, c='five')"
   ]
  },
  {
   "cell_type": "markdown",
   "metadata": {},
   "source": [
    "**Tokens**"
   ]
  },
  {
   "cell_type": "code",
   "execution_count": 121,
   "metadata": {
    "collapsed": true
   },
   "outputs": [],
   "source": [
    "token_usr_matrix, token_avg_grade = get_vectors(token_tokenizer, programs, exercises, grades, students)"
   ]
  },
  {
   "cell_type": "code",
   "execution_count": 122,
   "metadata": {
    "collapsed": true
   },
   "outputs": [],
   "source": [
    "token_long_vectors, token_grades = get_long_vectors(students, token_usr_matrix, token_avg_grade)"
   ]
  },
  {
   "cell_type": "code",
   "execution_count": 123,
   "metadata": {},
   "outputs": [
    {
     "name": "stdout",
     "output_type": "stream",
     "text": [
      "PCA explained variance ratio: [ 0.06285195  0.03280912] Total: 0.0956610704348\n"
     ]
    }
   ],
   "source": [
    "token_pca = get_pca(token_long_vectors)"
   ]
  },
  {
   "cell_type": "code",
   "execution_count": 124,
   "metadata": {},
   "outputs": [
    {
     "data": {
      "image/png": "[encoded data removed]",
      "text/plain": [
       "<matplotlib.figure.Figure at 0x1a6559d50>"
      ]
     },
     "metadata": {},
     "output_type": "display_data"
    }
   ],
   "source": [
    "plot_vectors(token_pca, token_grades)"
   ]
  },
  {
   "cell_type": "code",
   "execution_count": 125,
   "metadata": {},
   "outputs": [
    {
     "data": {
      "image/png": "[encoded data removed]",
      "text/plain": [
       "<matplotlib.figure.Figure at 0x1a29665d0>"
      ]
     },
     "metadata": {},
     "output_type": "display_data"
    }
   ],
   "source": [
    "plot_vectors(token_pca, token_grades, c='five')"
   ]
  },
  {
   "cell_type": "code",
   "execution_count": 126,
   "metadata": {
    "collapsed": true
   },
   "outputs": [],
   "source": [
    "token_long_vectors_normalized = token_long_vectors / NUM_WORDS "
   ]
  },
  {
   "cell_type": "code",
   "execution_count": 132,
   "metadata": {
    "collapsed": true
   },
   "outputs": [],
   "source": [
    "token_grades_PF = token_grades < THRESHOLD"
   ]
  },
  {
   "cell_type": "code",
   "execution_count": 128,
   "metadata": {
    "collapsed": true
   },
   "outputs": [],
   "source": [
    "NUM_STUDENTS = len(students)"
   ]
  },
  {
   "cell_type": "code",
   "execution_count": 129,
   "metadata": {
    "collapsed": true
   },
   "outputs": [],
   "source": [
    "INPUT_LENGTH = len(exercises) * MAX_LENGTH"
   ]
  },
  {
   "cell_type": "code",
   "execution_count": 130,
   "metadata": {},
   "outputs": [
    {
     "name": "stdout",
     "output_type": "stream",
     "text": [
      "_________________________________________________________________\n",
      "Layer (type)                 Output Shape              Param #   \n",
      "=================================================================\n",
      "embedding_6 (Embedding)      (None, 6600, 100)         14000     \n",
      "_________________________________________________________________\n",
      "flatten_6 (Flatten)          (None, 660000)            0         \n",
      "_________________________________________________________________\n",
      "dense_6 (Dense)              (None, 1)                 660001    \n",
      "=================================================================\n",
      "Total params: 674,001\n",
      "Trainable params: 674,001\n",
      "Non-trainable params: 0\n",
      "_________________________________________________________________\n",
      "None\n"
     ]
    }
   ],
   "source": [
    "token_model = get_model(NUM_STUDENTS, INPUT_LENGTH)"
   ]
  },
  {
   "cell_type": "code",
   "execution_count": 133,
   "metadata": {},
   "outputs": [
    {
     "name": "stdout",
     "output_type": "stream",
     "text": [
      "Train on 126 samples, validate on 14 samples\n",
      "Epoch 1/10\n",
      "126/126 [==============================] - 1s 9ms/step - loss: 3.2275 - acc: 0.4841 - val_loss: 1.5679 - val_acc: 0.2143\n",
      "Epoch 2/10\n",
      "126/126 [==============================] - 1s 4ms/step - loss: 0.9623 - acc: 0.5000 - val_loss: 0.7904 - val_acc: 0.2143\n",
      "Epoch 3/10\n",
      "126/126 [==============================] - 1s 4ms/step - loss: 0.7626 - acc: 0.5000 - val_loss: 0.5694 - val_acc: 0.7857\n",
      "Epoch 4/10\n",
      "126/126 [==============================] - 1s 4ms/step - loss: 0.7707 - acc: 0.4524 - val_loss: 1.0265 - val_acc: 0.2143\n",
      "Epoch 5/10\n",
      "126/126 [==============================] - 1s 4ms/step - loss: 0.7600 - acc: 0.5317 - val_loss: 0.6261 - val_acc: 0.7857\n",
      "Epoch 6/10\n",
      "126/126 [==============================] - 1s 4ms/step - loss: 0.7568 - acc: 0.5317 - val_loss: 0.5816 - val_acc: 0.7857\n",
      "Epoch 7/10\n",
      "126/126 [==============================] - 1s 4ms/step - loss: 0.7205 - acc: 0.5000 - val_loss: 0.6680 - val_acc: 0.7857\n",
      "Epoch 8/10\n",
      "126/126 [==============================] - 1s 5ms/step - loss: 0.7401 - acc: 0.4048 - val_loss: 0.8730 - val_acc: 0.2143\n",
      "Epoch 9/10\n",
      "126/126 [==============================] - 1s 4ms/step - loss: 0.7106 - acc: 0.5159 - val_loss: 0.6988 - val_acc: 0.2143\n",
      "Epoch 10/10\n",
      "126/126 [==============================] - 1s 5ms/step - loss: 0.7114 - acc: 0.4683 - val_loss: 0.7461 - val_acc: 0.2143\n"
     ]
    },
    {
     "data": {
      "text/plain": [
       "<keras.callbacks.History at 0x18b1d4e90>"
      ]
     },
     "execution_count": 133,
     "metadata": {},
     "output_type": "execute_result"
    }
   ],
   "source": [
    "token_model.fit(token_long_vectors_normalized, \n",
    "                token_grades_PF,\n",
    "                batch_size=10,\n",
    "                epochs=10,\n",
    "                validation_split=0.1)"
   ]
  },
  {
   "cell_type": "code",
   "execution_count": 134,
   "metadata": {},
   "outputs": [
    {
     "name": "stdout",
     "output_type": "stream",
     "text": [
      "Embedding Layer shape: (140, 100)\n"
     ]
    }
   ],
   "source": [
    "token_embeddings = get_embeddings(token_model)"
   ]
  },
  {
   "cell_type": "code",
   "execution_count": 135,
   "metadata": {},
   "outputs": [
    {
     "name": "stdout",
     "output_type": "stream",
     "text": [
      "PCA explained variance ratio: [ 0.03165487  0.03084413] Total: 0.0624989997596\n"
     ]
    }
   ],
   "source": [
    "token_embeddings_pca = get_pca(token_embeddings)"
   ]
  },
  {
   "cell_type": "code",
   "execution_count": 136,
   "metadata": {},
   "outputs": [
    {
     "data": {
      "image/png": "[encoded data removed]",
      "text/plain": [
       "<matplotlib.figure.Figure at 0x18b1d4a90>"
      ]
     },
     "metadata": {},
     "output_type": "display_data"
    }
   ],
   "source": [
    "plot_vectors(token_embeddings_pca, token_grades)"
   ]
  },
  {
   "cell_type": "code",
   "execution_count": 141,
   "metadata": {},
   "outputs": [
    {
     "data": {
      "image/png": "[encoded data removed]",
      "text/plain": [
       "<matplotlib.figure.Figure at 0x1aac6f210>"
      ]
     },
     "metadata": {},
     "output_type": "display_data"
    }
   ],
   "source": [
    "plot_vectors(token_embeddings_pca, token_grades, c='five')"
   ]
  },
  {
   "cell_type": "code",
   "execution_count": null,
   "metadata": {
    "collapsed": true
   },
   "outputs": [],
   "source": []
  }
 ],
 "metadata": {
  "kernelspec": {
   "display_name": "Python 2",
   "language": "python",
   "name": "python2"
  },
  "language_info": {
   "codemirror_mode": {
    "name": "ipython",
    "version": 2
   },
   "file_extension": ".py",
   "mimetype": "text/x-python",
   "name": "python",
   "nbconvert_exporter": "python",
   "pygments_lexer": "ipython2",
   "version": "2.7.14"
  }
 },
 "nbformat": 4,
 "nbformat_minor": 2
}
