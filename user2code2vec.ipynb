{
 "cells": [
  {
   "cell_type": "markdown",
   "metadata": {},
   "source": [
    "# user2code2vec\n",
    "\n",
    "Profiling users based on their code submissions"
   ]
  },
  {
   "cell_type": "code",
   "execution_count": 1,
   "metadata": {
    "collapsed": true
   },
   "outputs": [],
   "source": [
    "import pandas as pd\n",
    "import numpy as np\n",
    "import random\n",
    "import matplotlib.pyplot as plt\n",
    "%matplotlib inline"
   ]
  },
  {
   "cell_type": "code",
   "execution_count": 2,
   "metadata": {
    "collapsed": true
   },
   "outputs": [],
   "source": [
    "font = {'weight': 'bold', 'size': 20}\n",
    "plt.rc('font', **font)"
   ]
  },
  {
   "cell_type": "code",
   "execution_count": 3,
   "metadata": {
    "collapsed": true
   },
   "outputs": [],
   "source": [
    "MAX_LENGTH = 50"
   ]
  },
  {
   "cell_type": "markdown",
   "metadata": {},
   "source": [
    "## Data"
   ]
  },
  {
   "cell_type": "code",
   "execution_count": 4,
   "metadata": {
    "collapsed": true
   },
   "outputs": [],
   "source": [
    "df_programs = pd.read_json('data/raw/programming_data.json')"
   ]
  },
  {
   "cell_type": "code",
   "execution_count": 5,
   "metadata": {},
   "outputs": [
    {
     "data": {
      "text/html": [
       "<div>\n",
       "<style>\n",
       "    .dataframe thead tr:only-child th {\n",
       "        text-align: right;\n",
       "    }\n",
       "\n",
       "    .dataframe thead th {\n",
       "        text-align: left;\n",
       "    }\n",
       "\n",
       "    .dataframe tbody tr th {\n",
       "        vertical-align: top;\n",
       "    }\n",
       "</style>\n",
       "<table border=\"1\" class=\"dataframe\">\n",
       "  <thead>\n",
       "    <tr style=\"text-align: right;\">\n",
       "      <th></th>\n",
       "      <th>academic_year_0</th>\n",
       "      <th>academic_year_1</th>\n",
       "      <th>correct</th>\n",
       "      <th>date</th>\n",
       "      <th>extension</th>\n",
       "      <th>ip</th>\n",
       "      <th>module</th>\n",
       "      <th>task</th>\n",
       "      <th>upload</th>\n",
       "      <th>user</th>\n",
       "    </tr>\n",
       "  </thead>\n",
       "  <tbody>\n",
       "    <tr>\n",
       "      <th>0</th>\n",
       "      <td>2016</td>\n",
       "      <td>2017</td>\n",
       "      <td>True</td>\n",
       "      <td>2016-09-19 14:11:41</td>\n",
       "      <td>py</td>\n",
       "      <td></td>\n",
       "      <td>ca277</td>\n",
       "      <td>add.py</td>\n",
       "      <td>#!/usr/bin/env python\\n\\na = int(raw_input())\\...</td>\n",
       "      <td>b9e7e608-6036-4d44-8770-a7036176b53c</td>\n",
       "    </tr>\n",
       "    <tr>\n",
       "      <th>1</th>\n",
       "      <td>2016</td>\n",
       "      <td>2017</td>\n",
       "      <td>True</td>\n",
       "      <td>2016-09-19 14:17:33</td>\n",
       "      <td>py</td>\n",
       "      <td></td>\n",
       "      <td>ca277</td>\n",
       "      <td>concat-lines.py</td>\n",
       "      <td>#!/usr/bin/env python\\n\\na = str(raw_input())\\...</td>\n",
       "      <td>b9e7e608-6036-4d44-8770-a7036176b53c</td>\n",
       "    </tr>\n",
       "  </tbody>\n",
       "</table>\n",
       "</div>"
      ],
      "text/plain": [
       "  academic_year_0 academic_year_1  correct                date extension ip  \\\n",
       "0            2016            2017     True 2016-09-19 14:11:41        py      \n",
       "1            2016            2017     True 2016-09-19 14:17:33        py      \n",
       "\n",
       "  module             task                                             upload  \\\n",
       "0  ca277           add.py  #!/usr/bin/env python\\n\\na = int(raw_input())\\...   \n",
       "1  ca277  concat-lines.py  #!/usr/bin/env python\\n\\na = str(raw_input())\\...   \n",
       "\n",
       "                                   user  \n",
       "0  b9e7e608-6036-4d44-8770-a7036176b53c  \n",
       "1  b9e7e608-6036-4d44-8770-a7036176b53c  "
      ]
     },
     "execution_count": 5,
     "metadata": {},
     "output_type": "execute_result"
    }
   ],
   "source": [
    "df_programs.head(2)"
   ]
  },
  {
   "cell_type": "code",
   "execution_count": 6,
   "metadata": {},
   "outputs": [
    {
     "data": {
      "text/plain": [
       "'591,707'"
      ]
     },
     "execution_count": 6,
     "metadata": {},
     "output_type": "execute_result"
    }
   ],
   "source": [
    "'{:,}'.format(len(df_programs))"
   ]
  },
  {
   "cell_type": "code",
   "execution_count": 7,
   "metadata": {
    "collapsed": true
   },
   "outputs": [],
   "source": [
    "df_grades = pd.read_json('data/raw/grades_data.json')"
   ]
  },
  {
   "cell_type": "code",
   "execution_count": 8,
   "metadata": {},
   "outputs": [
    {
     "data": {
      "text/html": [
       "<div>\n",
       "<style>\n",
       "    .dataframe thead tr:only-child th {\n",
       "        text-align: right;\n",
       "    }\n",
       "\n",
       "    .dataframe thead th {\n",
       "        text-align: left;\n",
       "    }\n",
       "\n",
       "    .dataframe tbody tr th {\n",
       "        vertical-align: top;\n",
       "    }\n",
       "</style>\n",
       "<table border=\"1\" class=\"dataframe\">\n",
       "  <thead>\n",
       "    <tr style=\"text-align: right;\">\n",
       "      <th></th>\n",
       "      <th>academic_year_0</th>\n",
       "      <th>academic_year_1</th>\n",
       "      <th>exam_week</th>\n",
       "      <th>grade</th>\n",
       "      <th>module</th>\n",
       "      <th>user</th>\n",
       "    </tr>\n",
       "  </thead>\n",
       "  <tbody>\n",
       "    <tr>\n",
       "      <th>0</th>\n",
       "      <td>2015</td>\n",
       "      <td>2016</td>\n",
       "      <td>12</td>\n",
       "      <td>40</td>\n",
       "      <td>ca114</td>\n",
       "      <td>e45f938b-9d5c-4838-86ce-0755e3c97053</td>\n",
       "    </tr>\n",
       "    <tr>\n",
       "      <th>1</th>\n",
       "      <td>2015</td>\n",
       "      <td>2016</td>\n",
       "      <td>12</td>\n",
       "      <td>60</td>\n",
       "      <td>ca114</td>\n",
       "      <td>91b06877-f0e0-4af9-bbd4-b20ffa90e36b</td>\n",
       "    </tr>\n",
       "  </tbody>\n",
       "</table>\n",
       "</div>"
      ],
      "text/plain": [
       "   academic_year_0  academic_year_1  exam_week  grade module  \\\n",
       "0             2015             2016         12     40  ca114   \n",
       "1             2015             2016         12     60  ca114   \n",
       "\n",
       "                                   user  \n",
       "0  e45f938b-9d5c-4838-86ce-0755e3c97053  \n",
       "1  91b06877-f0e0-4af9-bbd4-b20ffa90e36b  "
      ]
     },
     "execution_count": 8,
     "metadata": {},
     "output_type": "execute_result"
    }
   ],
   "source": [
    "df_grades.head(2)"
   ]
  },
  {
   "cell_type": "code",
   "execution_count": 9,
   "metadata": {},
   "outputs": [
    {
     "data": {
      "text/plain": [
       "666"
      ]
     },
     "execution_count": 9,
     "metadata": {},
     "output_type": "execute_result"
    }
   ],
   "source": [
    "len(df_grades.user.unique())"
   ]
  },
  {
   "cell_type": "markdown",
   "metadata": {},
   "source": [
    "## Embeddings\n",
    "\n",
    "**Word Embeddings**"
   ]
  },
  {
   "cell_type": "code",
   "execution_count": 10,
   "metadata": {},
   "outputs": [
    {
     "name": "stderr",
     "output_type": "stream",
     "text": [
      "Using TensorFlow backend.\n"
     ]
    }
   ],
   "source": [
    "import pickle\n",
    "\n",
    "with open('word_tokenizer.pickle', 'rb') as handle:\n",
    "    word_tokenizer = pickle.load(handle)"
   ]
  },
  {
   "cell_type": "code",
   "execution_count": 11,
   "metadata": {},
   "outputs": [
    {
     "data": {
      "text/plain": [
       "<keras.preprocessing.text.Tokenizer at 0x190d53410>"
      ]
     },
     "execution_count": 11,
     "metadata": {},
     "output_type": "execute_result"
    }
   ],
   "source": [
    "word_tokenizer"
   ]
  },
  {
   "cell_type": "code",
   "execution_count": 12,
   "metadata": {
    "collapsed": true
   },
   "outputs": [],
   "source": [
    "word_embeddings = np.load('data/processed/word_embeddings.npy')"
   ]
  },
  {
   "cell_type": "code",
   "execution_count": 13,
   "metadata": {},
   "outputs": [
    {
     "data": {
      "text/plain": [
       "array([-0.02203413, -0.01529268, -0.02565529, -0.00801324, -0.00740946,\n",
       "       -0.00578129, -0.01036594,  0.02272291, -0.00785533,  0.01926424,\n",
       "       -0.02190672, -0.01381911,  0.00392994, -0.02182329, -0.02788393,\n",
       "        0.01241377, -0.02383615, -0.00310456, -0.00593447,  0.00413314,\n",
       "        0.01149739, -0.04358502,  0.01435154,  0.02563613, -0.0199894 ,\n",
       "       -0.00437846,  0.00045212, -0.00436472, -0.00602299, -0.00166141,\n",
       "       -0.02528737, -0.02122898, -0.02935417,  0.0066408 ,  0.00888307,\n",
       "       -0.00863094,  0.0069241 , -0.00159825,  0.01989678,  0.00635895,\n",
       "       -0.04941091, -0.00887081,  0.01075355, -0.0522531 ,  0.00480823,\n",
       "       -0.03382792, -0.00216423,  0.0109196 , -0.02307574, -0.01181831,\n",
       "       -0.02237249,  0.01434316, -0.00106236, -0.01872406, -0.01877291,\n",
       "        0.01963211, -0.0184087 ,  0.00832215,  0.01073106, -0.00660849,\n",
       "       -0.00199583,  0.00727906, -0.00944424, -0.02557546,  0.00160541,\n",
       "        0.01259331,  0.02146018,  0.01392499, -0.01143898,  0.00320153,\n",
       "       -0.016585  , -0.02464288, -0.00618256, -0.01937126,  0.02237406,\n",
       "       -0.02120043,  0.02422057,  0.01834122, -0.01167061,  0.00660329,\n",
       "        0.0057179 ,  0.01234615, -0.01227245, -0.01053944, -0.02924382,\n",
       "        0.02681539, -0.01645669, -0.02700834, -0.01044792, -0.0160662 ,\n",
       "        0.00604627, -0.00990105, -0.00950548, -0.00808121, -0.0099708 ,\n",
       "        0.0093238 ,  0.0098137 ,  0.0013882 , -0.01098497, -0.00850954], dtype=float32)"
      ]
     },
     "execution_count": 13,
     "metadata": {},
     "output_type": "execute_result"
    }
   ],
   "source": [
    "word_embeddings[0]"
   ]
  },
  {
   "cell_type": "code",
   "execution_count": 14,
   "metadata": {},
   "outputs": [
    {
     "data": {
      "text/plain": [
       "'2,000'"
      ]
     },
     "execution_count": 14,
     "metadata": {},
     "output_type": "execute_result"
    }
   ],
   "source": [
    "'{:,}'.format(len(word_embeddings))"
   ]
  },
  {
   "cell_type": "code",
   "execution_count": 15,
   "metadata": {
    "collapsed": true
   },
   "outputs": [],
   "source": [
    "# Dictionary of words\n",
    "id_to_word = { v: k for k, v in word_tokenizer.word_index.items() }"
   ]
  },
  {
   "cell_type": "code",
   "execution_count": 16,
   "metadata": {},
   "outputs": [
    {
     "data": {
      "text/plain": [
       "[u'=', u'i', u'+', u'if', u'def']"
      ]
     },
     "execution_count": 16,
     "metadata": {},
     "output_type": "execute_result"
    }
   ],
   "source": [
    "[id_to_word[i] for i in range(1, 6)]   "
   ]
  },
  {
   "cell_type": "code",
   "execution_count": 17,
   "metadata": {},
   "outputs": [
    {
     "data": {
      "text/plain": [
       "'231,658'"
      ]
     },
     "execution_count": 17,
     "metadata": {},
     "output_type": "execute_result"
    }
   ],
   "source": [
    "'{:,}'.format(len(id_to_word))"
   ]
  },
  {
   "cell_type": "code",
   "execution_count": 18,
   "metadata": {},
   "outputs": [
    {
     "data": {
      "text/plain": [
       "[u'=', u'i', u'+', u'if', u'def']"
      ]
     },
     "execution_count": 18,
     "metadata": {},
     "output_type": "execute_result"
    }
   ],
   "source": [
    "# Top words\n",
    "[word for word, occurrences in sorted(word_tokenizer.word_counts.items(), key=lambda t: t[1], reverse=True)[:5]]"
   ]
  },
  {
   "cell_type": "markdown",
   "metadata": {},
   "source": [
    "**Token Embeddings**"
   ]
  },
  {
   "cell_type": "code",
   "execution_count": 19,
   "metadata": {
    "collapsed": true
   },
   "outputs": [],
   "source": [
    "with open('token_tokenizer.pickle', 'rb') as handle:\n",
    "    token_tokenizer = pickle.load(handle)"
   ]
  },
  {
   "cell_type": "code",
   "execution_count": 20,
   "metadata": {},
   "outputs": [
    {
     "data": {
      "text/plain": [
       "<keras.preprocessing.text.Tokenizer at 0x110420d50>"
      ]
     },
     "execution_count": 20,
     "metadata": {},
     "output_type": "execute_result"
    }
   ],
   "source": [
    "token_tokenizer"
   ]
  },
  {
   "cell_type": "code",
   "execution_count": 21,
   "metadata": {
    "collapsed": true
   },
   "outputs": [],
   "source": [
    "token_embeddings = np.load('data/processed/token_embeddings.npy')"
   ]
  },
  {
   "cell_type": "code",
   "execution_count": 22,
   "metadata": {},
   "outputs": [
    {
     "data": {
      "text/plain": [
       "array([ 0.01326405, -0.14546883, -0.00718427, -0.06530395, -0.08768795,\n",
       "        0.01425982,  0.06898375, -0.0432428 ,  0.00691789, -0.08683618,\n",
       "        0.10490499,  0.0992539 , -0.06702129,  0.00573551, -0.03190521,\n",
       "       -0.02581788, -0.01055632,  0.03919426,  0.01630926, -0.03461638,\n",
       "       -0.03396446,  0.03859634,  0.07574449,  0.09016226,  0.01230849,\n",
       "        0.0677849 ,  0.04931409, -0.03122005,  0.02017783, -0.02129621,\n",
       "       -0.05429222,  0.06664877, -0.00320758, -0.00282814, -0.001249  ,\n",
       "        0.0055601 ,  0.02817786, -0.09271065, -0.07051965, -0.02846602,\n",
       "        0.03032786, -0.0376917 , -0.05482089, -0.01443046, -0.02678871,\n",
       "        0.07321884,  0.01319098,  0.02599973, -0.01507078,  0.0324414 ,\n",
       "        0.10149288, -0.0422102 ,  0.04120086, -0.05260077, -0.02906849,\n",
       "       -0.00151245,  0.05711035,  0.0459603 ,  0.04312751,  0.08340231,\n",
       "        0.00053178,  0.02550833, -0.00642674,  0.0392342 , -0.08399729,\n",
       "       -0.03443463,  0.03259555,  0.01422901,  0.0219094 , -0.00494727,\n",
       "       -0.06323347, -0.02336751,  0.02583621,  0.06967239, -0.03615776,\n",
       "        0.01868671, -0.01374617, -0.02992416,  0.005936  ,  0.03034741,\n",
       "        0.19635436, -0.01888816,  0.00242989,  0.02966164,  0.00226295,\n",
       "        0.02150714, -0.03324773, -0.04806356, -0.02460077, -0.00674666,\n",
       "       -0.02757816,  0.0295719 , -0.10441122, -0.01181412,  0.02607613,\n",
       "       -0.00949594,  0.05619074, -0.018896  , -0.00528579,  0.0561768 ], dtype=float32)"
      ]
     },
     "execution_count": 22,
     "metadata": {},
     "output_type": "execute_result"
    }
   ],
   "source": [
    "token_embeddings[0]"
   ]
  },
  {
   "cell_type": "code",
   "execution_count": 23,
   "metadata": {},
   "outputs": [
    {
     "data": {
      "text/plain": [
       "100"
      ]
     },
     "execution_count": 23,
     "metadata": {},
     "output_type": "execute_result"
    }
   ],
   "source": [
    "len(token_embeddings[0])"
   ]
  },
  {
   "cell_type": "code",
   "execution_count": 24,
   "metadata": {},
   "outputs": [
    {
     "data": {
      "text/plain": [
       "'2,000'"
      ]
     },
     "execution_count": 24,
     "metadata": {},
     "output_type": "execute_result"
    }
   ],
   "source": [
    "'{:,}'.format(len(token_embeddings))"
   ]
  },
  {
   "cell_type": "code",
   "execution_count": 25,
   "metadata": {
    "collapsed": true
   },
   "outputs": [],
   "source": [
    "id_to_token = { v: k for k, v in token_tokenizer.word_index.items() }"
   ]
  },
  {
   "cell_type": "code",
   "execution_count": 26,
   "metadata": {},
   "outputs": [
    {
     "data": {
      "text/plain": [
       "u')'"
      ]
     },
     "execution_count": 26,
     "metadata": {},
     "output_type": "execute_result"
    }
   ],
   "source": [
    "id_to_token[1]"
   ]
  },
  {
   "cell_type": "code",
   "execution_count": 27,
   "metadata": {},
   "outputs": [
    {
     "data": {
      "text/plain": [
       "'37,912'"
      ]
     },
     "execution_count": 27,
     "metadata": {},
     "output_type": "execute_result"
    }
   ],
   "source": [
    "'{:,}'.format(len(id_to_token))"
   ]
  },
  {
   "cell_type": "code",
   "execution_count": 28,
   "metadata": {},
   "outputs": [
    {
     "data": {
      "text/plain": [
       "[u')', u'(', u'=', u':', u'.']"
      ]
     },
     "execution_count": 28,
     "metadata": {},
     "output_type": "execute_result"
    }
   ],
   "source": [
    "# Top token words\n",
    "[word for word, occurrences in sorted(token_tokenizer.word_counts.items(), key=lambda t: t[1], reverse=True)[:5]]"
   ]
  },
  {
   "cell_type": "markdown",
   "metadata": {},
   "source": [
    "## CA116 on 2016/2017"
   ]
  },
  {
   "cell_type": "code",
   "execution_count": 29,
   "metadata": {
    "collapsed": true
   },
   "outputs": [],
   "source": [
    "course = 'ca116'\n",
    "academic_year = [2016, 2017]"
   ]
  },
  {
   "cell_type": "code",
   "execution_count": 30,
   "metadata": {
    "collapsed": true
   },
   "outputs": [],
   "source": [
    "def get_data(course, academic_year):\n",
    "\n",
    "    programs = df_programs[(df_programs['module'] == course) &\n",
    "                           (df_programs['academic_year_0'] == academic_year[0])]\n",
    "    \n",
    "    exercises = sorted(programs.task.unique())\n",
    "    \n",
    "    grades = df_grades[(df_grades['module'] == course) &\n",
    "                       (df_grades['academic_year_0'] == academic_year[0])]\n",
    "    \n",
    "    students = grades.user.unique()\n",
    "    \n",
    "    return programs, exercises, grades, students"
   ]
  },
  {
   "cell_type": "code",
   "execution_count": 31,
   "metadata": {
    "collapsed": true
   },
   "outputs": [],
   "source": [
    "programs, exercises, grades, students = get_data(course, academic_year)"
   ]
  },
  {
   "cell_type": "code",
   "execution_count": 32,
   "metadata": {},
   "outputs": [
    {
     "data": {
      "text/plain": [
       "('# Programs: 68,313', '# Exercises', 276, '# Grades 327', '# Students', 126)"
      ]
     },
     "execution_count": 32,
     "metadata": {},
     "output_type": "execute_result"
    }
   ],
   "source": [
    "'# Programs: {:,}'.format(len(programs)), '# Exercises', len(exercises), '# Grades: {:,}'.format(len(grades)), '# Students', len(students)"
   ]
  },
  {
   "cell_type": "code",
   "execution_count": 33,
   "metadata": {
    "collapsed": true
   },
   "outputs": [],
   "source": [
    "import re\n",
    "def remove_comments(text):\n",
    "    return re.sub(re.compile('#.*?\\n'), '', text)"
   ]
  },
  {
   "cell_type": "code",
   "execution_count": 36,
   "metadata": {
    "collapsed": true
   },
   "outputs": [],
   "source": [
    "from keras.preprocessing.sequence import pad_sequences"
   ]
  },
  {
   "cell_type": "code",
   "execution_count": 37,
   "metadata": {
    "collapsed": true
   },
   "outputs": [],
   "source": [
    "def get_vectors(tokenizer, embeddings, programs, exercises, grades, students, program='latest'):\n",
    "    \n",
    "    usr_matrix = {}\n",
    "    avg_grade = {}\n",
    "\n",
    "    for student_name in students:\n",
    "        \n",
    "        # Grade\n",
    "        average = grades[grades['user'] == student_name]['grade'].mean()    \n",
    "        avg_grade[student_name] = average\n",
    "        \n",
    "        for task in exercises:\n",
    "    \n",
    "            # Code programs\n",
    "            submissions = programs[(programs['user'] == student_name) & \n",
    "                                   (programs['task'] == task)].sort_values(by='date', ascending=False).index\n",
    "            \n",
    "            if len(submissions) > 0: \n",
    "            \n",
    "                if program == 'latest': # latest submission\n",
    "                    latest_index = submissions[0]\n",
    "                    submission = df_programs.iloc[latest_index, :]['upload']\n",
    "                else: # random\n",
    "                    random_index = random.choice(submissions)\n",
    "                    submission = df_programs.iloc[random_index, :]['upload']\n",
    "\n",
    "                submission = remove_comments(submission)\n",
    "\n",
    "                # Sequences\n",
    "                sequences = tokenizer.texts_to_sequences([submission])\n",
    "                # Padded sequences\n",
    "                padded_sequences = pad_sequences(sequences, maxlen=MAX_LENGTH, padding='post')\n",
    "\n",
    "                sequence = padded_sequences[0]\n",
    "                \n",
    "            else:\n",
    "                \n",
    "                sequence = np.zeros(MAX_LENGTH)\n",
    "            \n",
    "            usr_matrix.setdefault(student_name, [])\n",
    "            usr_matrix[student_name].append(sequence)\n",
    "    \n",
    "    return usr_matrix, avg_grade"
   ]
  },
  {
   "cell_type": "markdown",
   "metadata": {},
   "source": [
    "**Words & Latest submission**"
   ]
  },
  {
   "cell_type": "code",
   "execution_count": 38,
   "metadata": {
    "scrolled": true
   },
   "outputs": [],
   "source": [
    "# latest\n",
    "word_usr_matrix, word_avg_grade = get_vectors(word_tokenizer, word_embeddings, programs, exercises, grades, students)"
   ]
  },
  {
   "cell_type": "code",
   "execution_count": 39,
   "metadata": {},
   "outputs": [
    {
     "data": {
      "text/plain": [
       "(126, 126)"
      ]
     },
     "execution_count": 39,
     "metadata": {},
     "output_type": "execute_result"
    }
   ],
   "source": [
    "len(word_usr_matrix), len(word_avg_grade)"
   ]
  },
  {
   "cell_type": "code",
   "execution_count": 40,
   "metadata": {
    "collapsed": true
   },
   "outputs": [],
   "source": [
    "sample_user = '2157ade0-6890-435b-8669-a884e3233bc7'"
   ]
  },
  {
   "cell_type": "code",
   "execution_count": 41,
   "metadata": {},
   "outputs": [
    {
     "data": {
      "text/plain": [
       "('# Tasks:', 276, 276)"
      ]
     },
     "execution_count": 41,
     "metadata": {},
     "output_type": "execute_result"
    }
   ],
   "source": [
    "'# Tasks:', len(word_usr_matrix[sample_user]), len(exercises)"
   ]
  },
  {
   "cell_type": "code",
   "execution_count": 43,
   "metadata": {
    "scrolled": true
   },
   "outputs": [
    {
     "data": {
      "text/plain": [
       "('Len each vector:', (50,), 50)"
      ]
     },
     "execution_count": 43,
     "metadata": {},
     "output_type": "execute_result"
    }
   ],
   "source": [
    "'Len each vector:', word_usr_matrix[sample_user][0].shape, MAX_LENGTH"
   ]
  },
  {
   "cell_type": "code",
   "execution_count": 45,
   "metadata": {},
   "outputs": [
    {
     "data": {
      "text/plain": [
       "array([[ 21.,  27.,  64., ...,  26.,   3.,  11.],\n",
       "       [ 17.,   1.,  34., ...,   0.,   0.,   0.],\n",
       "       [  0.,   0.,   0., ...,   0.,   0.,   0.],\n",
       "       ..., \n",
       "       [ 16.,  19.,   1., ...,   0.,   0.,   0.],\n",
       "       [ 16.,  19.,  20., ...,   0.,   0.,   0.],\n",
       "       [ 16.,  19.,   1., ...,   0.,   0.,   0.]])"
      ]
     },
     "execution_count": 45,
     "metadata": {},
     "output_type": "execute_result"
    }
   ],
   "source": [
    "np.array(word_usr_matrix[sample_user])"
   ]
  },
  {
   "cell_type": "markdown",
   "metadata": {},
   "source": [
    "Flatten the matrix:"
   ]
  },
  {
   "cell_type": "code",
   "execution_count": 46,
   "metadata": {},
   "outputs": [
    {
     "data": {
      "text/plain": [
       "array([ 21.,  27.,  64., ...,   0.,   0.,   0.])"
      ]
     },
     "execution_count": 46,
     "metadata": {},
     "output_type": "execute_result"
    }
   ],
   "source": [
    "np.array(word_usr_matrix[sample_user]).flatten()"
   ]
  },
  {
   "cell_type": "code",
   "execution_count": 48,
   "metadata": {},
   "outputs": [
    {
     "data": {
      "text/plain": [
       "(13800,)"
      ]
     },
     "execution_count": 48,
     "metadata": {},
     "output_type": "execute_result"
    }
   ],
   "source": [
    "np.array(word_usr_matrix[sample_user]).flatten().shape"
   ]
  },
  {
   "cell_type": "code",
   "execution_count": 49,
   "metadata": {},
   "outputs": [
    {
     "data": {
      "text/plain": [
       "58.0"
      ]
     },
     "execution_count": 49,
     "metadata": {},
     "output_type": "execute_result"
    }
   ],
   "source": [
    "word_avg_grade[sample_user]"
   ]
  },
  {
   "cell_type": "code",
   "execution_count": 53,
   "metadata": {
    "collapsed": true
   },
   "outputs": [],
   "source": [
    "def get_long_vectors(list_students, usr_matrix, usr_grades):\n",
    "    \n",
    "    long_vectors = []\n",
    "    ord_grades = []\n",
    "    \n",
    "    for student_identifier in sorted(list_students):\n",
    "        \n",
    "        long_vector = np.array(usr_matrix[student_identifier]).flatten()\n",
    "        long_vectors.append(long_vector)\n",
    "        \n",
    "        ord_grades.append(usr_grades[student_identifier])\n",
    "    \n",
    "    return long_vectors, ord_grades"
   ]
  },
  {
   "cell_type": "markdown",
   "metadata": {},
   "source": [
    "Get long flat vectors with all the submissions:"
   ]
  },
  {
   "cell_type": "code",
   "execution_count": 54,
   "metadata": {},
   "outputs": [],
   "source": [
    "word_long_vectors, word_grades = get_long_vectors(students, word_usr_matrix, word_avg_grade)"
   ]
  },
  {
   "cell_type": "code",
   "execution_count": 58,
   "metadata": {
    "collapsed": true
   },
   "outputs": [],
   "source": [
    "from sklearn.decomposition import PCA\n",
    "\n",
    "def get_pca(vectors):\n",
    "\n",
    "    # PCA\n",
    "    pca = PCA(n_components=2)\n",
    "    principal_components = pca.fit_transform(vectors)\n",
    "    print 'PCA explained variance ratio:', pca.explained_variance_ratio_, 'Total:', sum(pca.explained_variance_ratio_)\n",
    "    return principal_components"
   ]
  },
  {
   "cell_type": "code",
   "execution_count": 59,
   "metadata": {},
   "outputs": [
    {
     "name": "stdout",
     "output_type": "stream",
     "text": [
      "PCA explained variance ratio: [ 0.08898022  0.03134982] Total: 0.120330035372\n"
     ]
    }
   ],
   "source": [
    "word_pca = get_pca(word_long_vectors)"
   ]
  },
  {
   "cell_type": "code",
   "execution_count": 73,
   "metadata": {
    "collapsed": true
   },
   "outputs": [],
   "source": [
    "def get_5_colors(grade):\n",
    "    \n",
    "    if grade < 20:\n",
    "        return 'black'\n",
    "    elif grade < 40:\n",
    "        return 'red'\n",
    "    elif grade < 60:\n",
    "        return 'orange'\n",
    "    elif grade < 80:\n",
    "        return 'yellow'\n",
    "    else:\n",
    "        return 'green'"
   ]
  },
  {
   "cell_type": "code",
   "execution_count": 74,
   "metadata": {
    "collapsed": true
   },
   "outputs": [],
   "source": [
    "def get_2_colors(grade):\n",
    "    \n",
    "    if grade < 40:\n",
    "        return 'red'\n",
    "    else:\n",
    "        return 'green'"
   ]
  },
  {
   "cell_type": "code",
   "execution_count": 70,
   "metadata": {
    "collapsed": true
   },
   "outputs": [],
   "source": [
    "def plot_vectors(low_dim_vectors, grades, c='two', figsize=(8, 8)):\n",
    "\n",
    "    if c == 'two':\n",
    "        function = get_2_colors\n",
    "    else:\n",
    "        function = get_5_colors\n",
    "    \n",
    "    plt.figure(figsize=figsize, dpi=100)\n",
    "    ax = plt.axes()\n",
    "    ax.yaxis.set_major_locator(plt.NullLocator())\n",
    "    ax.xaxis.set_major_locator(plt.NullLocator())\n",
    "    \n",
    "    i = 0\n",
    "    while i < len(low_dim_vectors):\n",
    "            \n",
    "        x, y = low_dim_vectors[i, :]\n",
    "        g = grades[i]\n",
    "        color = function(g)\n",
    "        plt.scatter(x, y, color=color)\n",
    "        \n",
    "        i += 1"
   ]
  },
  {
   "cell_type": "code",
   "execution_count": 71,
   "metadata": {},
   "outputs": [
    {
     "data": {
      "image/png": "[encoded data removed]",
      "text/plain": [
       "<matplotlib.figure.Figure at 0x10cf2ed90>"
      ]
     },
     "metadata": {},
     "output_type": "display_data"
    }
   ],
   "source": [
    "plot_vectors(word_pca, word_grades)"
   ]
  },
  {
   "cell_type": "code",
   "execution_count": 75,
   "metadata": {},
   "outputs": [
    {
     "data": {
      "image/png": "[encoded data removed]",
      "text/plain": [
       "<matplotlib.figure.Figure at 0x18cf95550>"
      ]
     },
     "metadata": {},
     "output_type": "display_data"
    }
   ],
   "source": [
    "plot_vectors(word_pca, word_grades, c='five')"
   ]
  },
  {
   "cell_type": "markdown",
   "metadata": {},
   "source": [
    "**Words & Random submission**"
   ]
  },
  {
   "cell_type": "code",
   "execution_count": 67,
   "metadata": {
    "collapsed": true
   },
   "outputs": [],
   "source": [
    "word_random_usr_matrix, word_random_avg_grade = get_vectors(word_tokenizer, \n",
    "                                                            word_embeddings, \n",
    "                                                            programs,\n",
    "                                                            exercises, \n",
    "                                                            grades, \n",
    "                                                            students,\n",
    "                                                            program='random')"
   ]
  },
  {
   "cell_type": "code",
   "execution_count": 76,
   "metadata": {
    "collapsed": true
   },
   "outputs": [],
   "source": [
    "word_random_long_vectors, word_random_grades = get_long_vectors(students, word_usr_matrix, word_avg_grade)"
   ]
  },
  {
   "cell_type": "code",
   "execution_count": 77,
   "metadata": {},
   "outputs": [
    {
     "name": "stdout",
     "output_type": "stream",
     "text": [
      "PCA explained variance ratio: [ 0.08898022  0.03135038] Total: 0.120330595932\n"
     ]
    }
   ],
   "source": [
    "word_random_pca = get_pca(word_random_long_vectors)"
   ]
  },
  {
   "cell_type": "code",
   "execution_count": 78,
   "metadata": {},
   "outputs": [
    {
     "data": {
      "image/png": "[encoded data removed]",
      "text/plain": [
       "<matplotlib.figure.Figure at 0x19466be90>"
      ]
     },
     "metadata": {},
     "output_type": "display_data"
    }
   ],
   "source": [
    "plot_vectors(word_random_pca, word_random_grades)"
   ]
  },
  {
   "cell_type": "markdown",
   "metadata": {},
   "source": [
    "**Tokens & Latest Submission**"
   ]
  },
  {
   "cell_type": "code",
   "execution_count": 80,
   "metadata": {},
   "outputs": [],
   "source": [
    "token_usr_matrix, token_avg_grade = get_vectors(token_tokenizer, token_embeddings, programs, exercises, grades, students)"
   ]
  },
  {
   "cell_type": "code",
   "execution_count": 81,
   "metadata": {
    "collapsed": true
   },
   "outputs": [],
   "source": [
    "token_long_vectors, token_grades = get_long_vectors(students, token_usr_matrix, token_avg_grade)"
   ]
  },
  {
   "cell_type": "code",
   "execution_count": 82,
   "metadata": {},
   "outputs": [
    {
     "name": "stdout",
     "output_type": "stream",
     "text": [
      "PCA explained variance ratio: [ 0.06041677  0.03690366] Total: 0.0973204294338\n"
     ]
    }
   ],
   "source": [
    "token_pca = get_pca(token_long_vectors)"
   ]
  },
  {
   "cell_type": "code",
   "execution_count": 83,
   "metadata": {
    "scrolled": false
   },
   "outputs": [
    {
     "data": {
      "image/png": "[encoded data removed]",
      "text/plain": [
       "<matplotlib.figure.Figure at 0x18c501cd0>"
      ]
     },
     "metadata": {},
     "output_type": "display_data"
    }
   ],
   "source": [
    "plot_vectors(token_pca, token_grades)"
   ]
  },
  {
   "cell_type": "markdown",
   "metadata": {},
   "source": [
    "## CA117 on 2016/2017"
   ]
  },
  {
   "cell_type": "code",
   "execution_count": 84,
   "metadata": {
    "collapsed": true
   },
   "outputs": [],
   "source": [
    "course = 'ca117'\n",
    "academic_year = [2016, 2017]"
   ]
  },
  {
   "cell_type": "code",
   "execution_count": 85,
   "metadata": {
    "collapsed": true
   },
   "outputs": [],
   "source": [
    "programs, exercises, grades, students = get_data(course, academic_year)"
   ]
  },
  {
   "cell_type": "code",
   "execution_count": 86,
   "metadata": {},
   "outputs": [
    {
     "data": {
      "text/plain": [
       "('# Programs: 74,065', '# Exercises', 132, '# Grades: 280', '# Students', 140)"
      ]
     },
     "execution_count": 86,
     "metadata": {},
     "output_type": "execute_result"
    }
   ],
   "source": [
    "'# Programs: {:,}'.format(len(programs)), '# Exercises', len(exercises), '# Grades: {:,}'.format(len(grades)), '# Students', len(students)"
   ]
  },
  {
   "cell_type": "markdown",
   "metadata": {},
   "source": [
    "**Words**"
   ]
  },
  {
   "cell_type": "code",
   "execution_count": 87,
   "metadata": {
    "collapsed": true
   },
   "outputs": [],
   "source": [
    "word_usr_matrix, word_avg_grade = get_vectors(word_tokenizer, word_embeddings, programs, exercises, grades, students)"
   ]
  },
  {
   "cell_type": "code",
   "execution_count": 88,
   "metadata": {
    "collapsed": true
   },
   "outputs": [],
   "source": [
    "word_long_vectors, word_grades = get_long_vectors(students, word_usr_matrix, word_avg_grade)"
   ]
  },
  {
   "cell_type": "code",
   "execution_count": 89,
   "metadata": {},
   "outputs": [
    {
     "name": "stdout",
     "output_type": "stream",
     "text": [
      "PCA explained variance ratio: [ 0.10731454  0.03777042] Total: 0.145084960527\n"
     ]
    }
   ],
   "source": [
    "word_pca = get_pca(word_long_vectors)"
   ]
  },
  {
   "cell_type": "code",
   "execution_count": 90,
   "metadata": {},
   "outputs": [
    {
     "data": {
      "image/png": "[encoded data removed]",
      "text/plain": [
       "<matplotlib.figure.Figure at 0x183d30210>"
      ]
     },
     "metadata": {},
     "output_type": "display_data"
    }
   ],
   "source": [
    "plot_vectors(word_pca, word_grades)"
   ]
  },
  {
   "cell_type": "code",
   "execution_count": 95,
   "metadata": {},
   "outputs": [
    {
     "data": {
      "image/png": "[encoded data removed]",
      "text/plain": [
       "<matplotlib.figure.Figure at 0x17d9e1790>"
      ]
     },
     "metadata": {},
     "output_type": "display_data"
    }
   ],
   "source": [
    "plot_vectors(word_pca, word_grades, c='five')"
   ]
  },
  {
   "cell_type": "markdown",
   "metadata": {},
   "source": [
    "**Tokens**"
   ]
  },
  {
   "cell_type": "code",
   "execution_count": 91,
   "metadata": {
    "collapsed": true
   },
   "outputs": [],
   "source": [
    "token_usr_matrix, token_avg_grade = get_vectors(token_tokenizer, token_embeddings, programs, exercises, grades, students)"
   ]
  },
  {
   "cell_type": "code",
   "execution_count": 92,
   "metadata": {
    "collapsed": true
   },
   "outputs": [],
   "source": [
    "token_long_vectors, token_grades = get_long_vectors(students, token_usr_matrix, token_avg_grade)"
   ]
  },
  {
   "cell_type": "code",
   "execution_count": 93,
   "metadata": {},
   "outputs": [
    {
     "name": "stdout",
     "output_type": "stream",
     "text": [
      "PCA explained variance ratio: [ 0.06285195  0.03280914] Total: 0.0956610884975\n"
     ]
    }
   ],
   "source": [
    "token_pca = get_pca(token_long_vectors)"
   ]
  },
  {
   "cell_type": "code",
   "execution_count": 94,
   "metadata": {},
   "outputs": [
    {
     "data": {
      "image/png": "[encoded data removed]",
      "text/plain": [
       "<matplotlib.figure.Figure at 0x17d9e1ed0>"
      ]
     },
     "metadata": {},
     "output_type": "display_data"
    }
   ],
   "source": [
    "plot_vectors(token_pca, token_grades)"
   ]
  },
  {
   "cell_type": "code",
   "execution_count": null,
   "metadata": {
    "collapsed": true
   },
   "outputs": [],
   "source": [
    "plot_vectors(token_pca, token_grades, c='five')"
   ]
  }
 ],
 "metadata": {
  "kernelspec": {
   "display_name": "Python 2",
   "language": "python",
   "name": "python2"
  },
  "language_info": {
   "codemirror_mode": {
    "name": "ipython",
    "version": 2
   },
   "file_extension": ".py",
   "mimetype": "text/x-python",
   "name": "python",
   "nbconvert_exporter": "python",
   "pygments_lexer": "ipython2",
   "version": "2.7.14"
  }
 },
 "nbformat": 4,
 "nbformat_minor": 2
}
