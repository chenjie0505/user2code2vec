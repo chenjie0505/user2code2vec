{
 "cells": [
  {
   "cell_type": "markdown",
   "metadata": {},
   "source": [
    "# Program Vectors \n",
    "\n",
    "## 1) Programs as word vectors\n",
    "\n",
    "First, we are going to treat the programs students write and submit to our platform as word vectors:"
   ]
  },
  {
   "cell_type": "code",
   "execution_count": 1,
   "metadata": {
    "collapsed": true
   },
   "outputs": [],
   "source": [
    "import re\n",
    "def remove_comments(text):\n",
    "    return re.sub(re.compile('#.*?\\n'), '', text)"
   ]
  },
  {
   "cell_type": "code",
   "execution_count": 2,
   "metadata": {},
   "outputs": [
    {
     "data": {
      "text/plain": [
       "'\\na = int(raw_input())\\nb = int(raw_input())\\n\\nprint a + b\\n\\n\\n'"
      ]
     },
     "execution_count": 2,
     "metadata": {},
     "output_type": "execute_result"
    }
   ],
   "source": [
    "program = '#!/usr/bin/env python\\n\\na = int(raw_input())\\nb = int(raw_input())\\n\\nprint a + b\\n\\n\\n'\n",
    "remove_comments(program)"
   ]
  },
  {
   "cell_type": "code",
   "execution_count": 3,
   "metadata": {},
   "outputs": [
    {
     "data": {
      "text/plain": [
       "'\\na = int(raw_input()) b = int(raw_input()) print a + b\\n'"
      ]
     },
     "execution_count": 3,
     "metadata": {},
     "output_type": "execute_result"
    }
   ],
   "source": [
    "program = '''\n",
    "#!/usr/bin/env python\n",
    "# read from input\n",
    "a = int(raw_input()) # first\n",
    "b = int(raw_input()) # second\n",
    "print a + b\n",
    "'''\n",
    "remove_comments(program)"
   ]
  },
  {
   "cell_type": "markdown",
   "metadata": {},
   "source": [
    "**Keras**\n",
    "\n",
    "Keras provides a more sophisticated API for preparing text that can be fit and reused to prepare multiple text documents. This may be the preferred approach for large projects.\n",
    "\n",
    "Keras provides the Tokenizer class for preparing text documents for deep learning. The Tokenizer must be constructed and then fit on either raw text documents or integer encoded text documents.\n",
    "\n",
    "https://machinelearningmastery.com/prepare-text-data-deep-learning-keras/"
   ]
  },
  {
   "cell_type": "code",
   "execution_count": 4,
   "metadata": {},
   "outputs": [
    {
     "name": "stderr",
     "output_type": "stream",
     "text": [
      "Using TensorFlow backend.\n"
     ]
    }
   ],
   "source": [
    "from keras.preprocessing.text import text_to_word_sequence\n",
    "\n",
    "# text_to_word_sequence?"
   ]
  },
  {
   "cell_type": "code",
   "execution_count": 5,
   "metadata": {},
   "outputs": [
    {
     "data": {
      "text/plain": [
       "['a', 'int', 'raw', 'input', 'b', 'int', 'raw', 'input', 'print', 'a', 'b']"
      ]
     },
     "execution_count": 5,
     "metadata": {},
     "output_type": "execute_result"
    }
   ],
   "source": [
    "text_to_word_sequence(remove_comments(program), lower=True, split=' ')"
   ]
  },
  {
   "cell_type": "markdown",
   "metadata": {},
   "source": [
    "By default in text_to_word_sequence the filters are:\n",
    "\n",
    "> filters='!\"#$%&()*+,-./:;<=>?@[\\\\]^_`{|}~\\t\\n'\n",
    "\n",
    "See the function signature"
   ]
  },
  {
   "cell_type": "code",
   "execution_count": 6,
   "metadata": {},
   "outputs": [
    {
     "data": {
      "text/plain": [
       "['a',\n",
       " '=',\n",
       " 'int(raw_input())',\n",
       " 'b',\n",
       " '=',\n",
       " 'int(raw_input())',\n",
       " 'print',\n",
       " 'a',\n",
       " '+',\n",
       " 'b']"
      ]
     },
     "execution_count": 6,
     "metadata": {},
     "output_type": "execute_result"
    }
   ],
   "source": [
    "text_to_word_sequence(remove_comments(program), \n",
    "                      filters='\\t\\n',\n",
    "                      lower=True, \n",
    "                      split=' ')"
   ]
  },
  {
   "cell_type": "code",
   "execution_count": 7,
   "metadata": {
    "collapsed": true
   },
   "outputs": [],
   "source": [
    "# https://keras.io/preprocessing/text/#tokenizer\n",
    "from keras.preprocessing.text import Tokenizer\n",
    "\n",
    "# Tokenizer?"
   ]
  },
  {
   "cell_type": "code",
   "execution_count": 8,
   "metadata": {
    "collapsed": true
   },
   "outputs": [],
   "source": [
    "t = Tokenizer(num_words=None, \n",
    "              filters='\\t\\n', \n",
    "              lower=True, \n",
    "              split=' ', \n",
    "              char_level=False)"
   ]
  },
  {
   "cell_type": "code",
   "execution_count": 9,
   "metadata": {
    "collapsed": true
   },
   "outputs": [],
   "source": [
    "docs = [\n",
    "    remove_comments(program),\n",
    "]"
   ]
  },
  {
   "cell_type": "code",
   "execution_count": 10,
   "metadata": {},
   "outputs": [],
   "source": [
    "t.fit_on_texts(docs)"
   ]
  },
  {
   "cell_type": "markdown",
   "metadata": {},
   "source": [
    "Once fit, the Tokenizer provides 4 attributes that you can use to query what has been learned about your documents:\n",
    "\n",
    "- word_counts: A dictionary of words and their counts.\n",
    "- word_docs: A dictionary of words and how many documents each appeared in.\n",
    "- word_index: A dictionary of words and their uniquely assigned integers.\n",
    "- document_count: An integer count of the total number of documents that were used to fit the Tokenizer."
   ]
  },
  {
   "cell_type": "code",
   "execution_count": 11,
   "metadata": {},
   "outputs": [
    {
     "data": {
      "text/plain": [
       "OrderedDict([('a', 2),\n",
       "             ('=', 2),\n",
       "             ('int(raw_input())', 2),\n",
       "             ('b', 2),\n",
       "             ('print', 1),\n",
       "             ('+', 1)])"
      ]
     },
     "execution_count": 11,
     "metadata": {},
     "output_type": "execute_result"
    }
   ],
   "source": [
    "t.word_counts"
   ]
  },
  {
   "cell_type": "code",
   "execution_count": 12,
   "metadata": {},
   "outputs": [
    {
     "name": "stdout",
     "output_type": "stream",
     "text": [
      "('Number docs', 1)\n"
     ]
    }
   ],
   "source": [
    "print ('Number docs', t.document_count)"
   ]
  },
  {
   "cell_type": "code",
   "execution_count": 13,
   "metadata": {},
   "outputs": [
    {
     "data": {
      "text/plain": [
       "{'+': 6, '=': 2, 'a': 1, 'b': 4, 'int(raw_input())': 3, 'print': 5}"
      ]
     },
     "execution_count": 13,
     "metadata": {},
     "output_type": "execute_result"
    }
   ],
   "source": [
    "t.word_index"
   ]
  },
  {
   "cell_type": "code",
   "execution_count": 14,
   "metadata": {},
   "outputs": [
    {
     "data": {
      "text/plain": [
       "{'+': 1, '=': 1, 'a': 1, 'b': 1, 'int(raw_input())': 1, 'print': 1}"
      ]
     },
     "execution_count": 14,
     "metadata": {},
     "output_type": "execute_result"
    }
   ],
   "source": [
    "t.word_docs"
   ]
  },
  {
   "cell_type": "code",
   "execution_count": 15,
   "metadata": {},
   "outputs": [],
   "source": [
    "# integer encode documents\n",
    "encoded_docs = t.texts_to_matrix(docs, mode='count')"
   ]
  },
  {
   "cell_type": "code",
   "execution_count": 16,
   "metadata": {
    "collapsed": true
   },
   "outputs": [],
   "source": [
    "t.texts_to_matrix?"
   ]
  },
  {
   "cell_type": "code",
   "execution_count": 17,
   "metadata": {
    "scrolled": true
   },
   "outputs": [
    {
     "data": {
      "text/plain": [
       "array([[ 0.,  2.,  2.,  2.,  2.,  1.,  1.]])"
      ]
     },
     "execution_count": 17,
     "metadata": {},
     "output_type": "execute_result"
    }
   ],
   "source": [
    "encoded_docs"
   ]
  },
  {
   "cell_type": "markdown",
   "metadata": {},
   "source": [
    "It still does not represent a programming submission in a very comparable way to other submissions that have different variable names and so on"
   ]
  },
  {
   "cell_type": "markdown",
   "metadata": {},
   "source": [
    "## 2) Programs as Python tokens\n",
    "\n",
    "* https://docs.python.org/3/library/tokenize.html\n",
    "* https://docs.python.org/3/library/token.html\n",
    "* Code: https://github.com/python/cpython/blob/3.7/Lib/tokenize.py\n",
    "* Code: https://github.com/python/cpython/blob/3.7/Lib/token.py\n",
    "* C code: https://github.com/python/cpython/blob/master/Parser/tokenizer.c\n",
    "* C library: https://github.com/python/cpython/blob/master/Include/token.h\n",
    "\n",
    "Intead of words, we are going to convert code to tokens:"
   ]
  },
  {
   "cell_type": "code",
   "execution_count": 18,
   "metadata": {
    "collapsed": true
   },
   "outputs": [],
   "source": [
    "import sys\n",
    "from tokenize import generate_tokens\n",
    "from StringIO import StringIO"
   ]
  },
  {
   "cell_type": "code",
   "execution_count": 19,
   "metadata": {},
   "outputs": [
    {
     "name": "stdout",
     "output_type": "stream",
     "text": [
      "7\n",
      "51\n",
      "50\n",
      "((\\*\\*=?|>>=?|<<=?|<>|!=|//=?|[+\\-*/%&|^=<>]=?|~)|[][(){}]|(\\r?\\n|[:;.,`@]))\n",
      "53\n",
      "#[^\\r\\n]*\n"
     ]
    }
   ],
   "source": [
    "from tokenize import LPAR, OP, Funny, AMPER, AMPEREQUAL, any, AT, Comment, COMMENT\n",
    "\n",
    "print LPAR \n",
    "print OP\n",
    "print AT\n",
    "print Funny\n",
    "print COMMENT\n",
    "print Comment"
   ]
  },
  {
   "cell_type": "markdown",
   "metadata": {},
   "source": [
    "**Command line**"
   ]
  },
  {
   "cell_type": "code",
   "execution_count": 20,
   "metadata": {},
   "outputs": [
    {
     "name": "stdout",
     "output_type": "stream",
     "text": [
      "def say_hello():\r\n",
      "    print(\"Hello, World!\")\r\n",
      "\r\n",
      "say_hello()\r\n"
     ]
    }
   ],
   "source": [
    "!cat data/examples/hello.py"
   ]
  },
  {
   "cell_type": "code",
   "execution_count": 21,
   "metadata": {
    "scrolled": false
   },
   "outputs": [
    {
     "name": "stdout",
     "output_type": "stream",
     "text": [
      "1,0-1,3:\tNAME\t'def'\r\n",
      "1,4-1,13:\tNAME\t'say_hello'\r\n",
      "1,13-1,14:\tOP\t'('\r\n",
      "1,14-1,15:\tOP\t')'\r\n",
      "1,15-1,16:\tOP\t':'\r\n",
      "1,16-1,17:\tNEWLINE\t'\\n'\r\n",
      "2,0-2,4:\tINDENT\t'    '\r\n",
      "2,4-2,9:\tNAME\t'print'\r\n",
      "2,9-2,10:\tOP\t'('\r\n",
      "2,10-2,25:\tSTRING\t'\"Hello, World!\"'\r\n",
      "2,25-2,26:\tOP\t')'\r\n",
      "2,26-2,27:\tNEWLINE\t'\\n'\r\n",
      "3,0-3,1:\tNL\t'\\n'\r\n",
      "4,0-4,0:\tDEDENT\t''\r\n",
      "4,0-4,9:\tNAME\t'say_hello'\r\n",
      "4,9-4,10:\tOP\t'('\r\n",
      "4,10-4,11:\tOP\t')'\r\n",
      "4,11-4,12:\tNEWLINE\t'\\n'\r\n",
      "5,0-5,0:\tENDMARKER\t''\r\n"
     ]
    }
   ],
   "source": [
    "!python -m tokenize data/examples/hello.py"
   ]
  },
  {
   "cell_type": "markdown",
   "metadata": {},
   "source": [
    "**Programatically**"
   ]
  },
  {
   "cell_type": "code",
   "execution_count": 22,
   "metadata": {
    "collapsed": true
   },
   "outputs": [],
   "source": [
    "# generate_tokens?"
   ]
  },
  {
   "cell_type": "code",
   "execution_count": 23,
   "metadata": {
    "collapsed": true
   },
   "outputs": [],
   "source": [
    "program_code = '''def say_hello():\n",
    "    print(\"Hello, World!\")\n",
    "\n",
    "say_hello()'''"
   ]
  },
  {
   "cell_type": "code",
   "execution_count": 24,
   "metadata": {
    "collapsed": true
   },
   "outputs": [],
   "source": [
    "tokens = list(generate_tokens(StringIO(program_code).readline))"
   ]
  },
  {
   "cell_type": "code",
   "execution_count": 25,
   "metadata": {
    "collapsed": true
   },
   "outputs": [],
   "source": [
    "def print_tokens(tokens):\n",
    "    for t in tokens:\n",
    "        print (str(t[0]) + \",\" + str(t[2][1]) + \"-\" + str(t[2][0]) + ',' + str(t[3][1]) + ':\\t' + \n",
    "               str(t[0]) + '\\t' + # id_to_token[t[0]]\n",
    "               repr(str(t[1])))"
   ]
  },
  {
   "cell_type": "code",
   "execution_count": 26,
   "metadata": {},
   "outputs": [
    {
     "name": "stdout",
     "output_type": "stream",
     "text": [
      "1,0-1,3:\t1\t'def'\n",
      "1,4-1,13:\t1\t'say_hello'\n",
      "51,13-1,14:\t51\t'('\n",
      "51,14-1,15:\t51\t')'\n",
      "51,15-1,16:\t51\t':'\n",
      "4,16-1,17:\t4\t'\\n'\n",
      "5,0-2,4:\t5\t'    '\n",
      "1,4-2,9:\t1\t'print'\n",
      "51,9-2,10:\t51\t'('\n",
      "3,10-2,25:\t3\t'\"Hello, World!\"'\n",
      "51,25-2,26:\t51\t')'\n",
      "4,26-2,27:\t4\t'\\n'\n",
      "54,0-3,1:\t54\t'\\n'\n",
      "6,0-4,0:\t6\t''\n",
      "1,0-4,9:\t1\t'say_hello'\n",
      "51,9-4,10:\t51\t'('\n",
      "51,10-4,11:\t51\t')'\n",
      "0,0-5,0:\t0\t''\n"
     ]
    }
   ],
   "source": [
    "print_tokens(tokens)"
   ]
  },
  {
   "cell_type": "code",
   "execution_count": 27,
   "metadata": {},
   "outputs": [
    {
     "data": {
      "text/plain": [
       "[(1, 'def', (1, 0), (1, 3), 'def say_hello():\\n'),\n",
       " (1, 'say_hello', (1, 4), (1, 13), 'def say_hello():\\n'),\n",
       " (51, '(', (1, 13), (1, 14), 'def say_hello():\\n'),\n",
       " (51, ')', (1, 14), (1, 15), 'def say_hello():\\n'),\n",
       " (51, ':', (1, 15), (1, 16), 'def say_hello():\\n'),\n",
       " (4, '\\n', (1, 16), (1, 17), 'def say_hello():\\n'),\n",
       " (5, '    ', (2, 0), (2, 4), '    print(\"Hello, World!\")\\n'),\n",
       " (1, 'print', (2, 4), (2, 9), '    print(\"Hello, World!\")\\n'),\n",
       " (51, '(', (2, 9), (2, 10), '    print(\"Hello, World!\")\\n'),\n",
       " (3, '\"Hello, World!\"', (2, 10), (2, 25), '    print(\"Hello, World!\")\\n'),\n",
       " (51, ')', (2, 25), (2, 26), '    print(\"Hello, World!\")\\n'),\n",
       " (4, '\\n', (2, 26), (2, 27), '    print(\"Hello, World!\")\\n'),\n",
       " (54, '\\n', (3, 0), (3, 1), '\\n'),\n",
       " (6, '', (4, 0), (4, 0), 'say_hello()'),\n",
       " (1, 'say_hello', (4, 0), (4, 9), 'say_hello()'),\n",
       " (51, '(', (4, 9), (4, 10), 'say_hello()'),\n",
       " (51, ')', (4, 10), (4, 11), 'say_hello()'),\n",
       " (0, '', (5, 0), (5, 0), '')]"
      ]
     },
     "execution_count": 27,
     "metadata": {},
     "output_type": "execute_result"
    }
   ],
   "source": [
    "# List of:\n",
    "# Token code, Part of the line being analysed, FROM (line, character), TO (line, character), Complete line of code\n",
    "tokens"
   ]
  },
  {
   "cell_type": "markdown",
   "metadata": {},
   "source": [
    "This is a more interesting representation that abstracts away the variables names, types of operators, etc but it may be too general to see the differences in between the students' submissions"
   ]
  },
  {
   "cell_type": "markdown",
   "metadata": {},
   "source": [
    "## 3) Programs as Abstract Syntax Trees\n",
    "\n",
    "https://docs.python.org/3/library/ast.html"
   ]
  },
  {
   "cell_type": "code",
   "execution_count": 28,
   "metadata": {
    "collapsed": true
   },
   "outputs": [],
   "source": [
    "import ast"
   ]
  },
  {
   "cell_type": "code",
   "execution_count": 29,
   "metadata": {},
   "outputs": [
    {
     "data": {
      "text/plain": [
       "'def say_hello():\\n    print(\"Hello, World!\")\\n\\nsay_hello()'"
      ]
     },
     "execution_count": 29,
     "metadata": {},
     "output_type": "execute_result"
    }
   ],
   "source": [
    "program_code"
   ]
  },
  {
   "cell_type": "code",
   "execution_count": 30,
   "metadata": {
    "collapsed": true
   },
   "outputs": [],
   "source": [
    "program_ast = ast.parse(program_code)"
   ]
  },
  {
   "cell_type": "code",
   "execution_count": 31,
   "metadata": {},
   "outputs": [
    {
     "data": {
      "text/plain": [
       "<_ast.Module at 0x18196e1690>"
      ]
     },
     "execution_count": 31,
     "metadata": {},
     "output_type": "execute_result"
    }
   ],
   "source": [
    "program_ast"
   ]
  },
  {
   "cell_type": "code",
   "execution_count": 32,
   "metadata": {},
   "outputs": [
    {
     "data": {
      "text/plain": [
       "\"Module(body=[FunctionDef(name='say_hello', args=arguments(args=[], vararg=None, kwarg=None, defaults=[]), body=[Print(dest=None, values=[Str(s='Hello, World!')], nl=True)], decorator_list=[]), Expr(value=Call(func=Name(id='say_hello', ctx=Load()), args=[], keywords=[], starargs=None, kwargs=None))])\""
      ]
     },
     "execution_count": 32,
     "metadata": {},
     "output_type": "execute_result"
    }
   ],
   "source": [
    "ast.dump(program_ast)"
   ]
  },
  {
   "cell_type": "code",
   "execution_count": 33,
   "metadata": {},
   "outputs": [
    {
     "data": {
      "text/plain": [
       "[<_ast.FunctionDef at 0x18196e1a10>, <_ast.Expr at 0x18196e1d90>]"
      ]
     },
     "execution_count": 33,
     "metadata": {},
     "output_type": "execute_result"
    }
   ],
   "source": [
    "program_ast.body"
   ]
  },
  {
   "cell_type": "code",
   "execution_count": 34,
   "metadata": {
    "scrolled": true
   },
   "outputs": [
    {
     "name": "stdout",
     "output_type": "stream",
     "text": [
      "FunctionDef(name='say_hello', args=arguments(args=[], vararg=None, kwarg=None, defaults=[]), body=[Print(dest=None, values=[Str(s='Hello, World!')], nl=True)], decorator_list=[]) \n",
      "\n",
      "Expr(value=Call(func=Name(id='say_hello', ctx=Load()), args=[], keywords=[], starargs=None, kwargs=None)) \n",
      "\n"
     ]
    }
   ],
   "source": [
    "for statement in program_ast.body:\n",
    "    print ast.dump(statement), '\\n'"
   ]
  },
  {
   "cell_type": "code",
   "execution_count": 35,
   "metadata": {
    "scrolled": true
   },
   "outputs": [
    {
     "name": "stdout",
     "output_type": "stream",
     "text": [
      "Call(func=Name(id='say_hello', ctx=Load()), args=[], keywords=[], starargs=None, kwargs=None)\n"
     ]
    }
   ],
   "source": [
    "class FunctionCallVisitor(ast.NodeVisitor):\n",
    "    def visit_Call(self, node):\n",
    "        print ast.dump(node)\n",
    "\n",
    "FunctionCallVisitor().visit(program_ast)"
   ]
  },
  {
   "cell_type": "code",
   "execution_count": 36,
   "metadata": {
    "collapsed": true
   },
   "outputs": [],
   "source": [
    "divisors_code = '''def divisors(n):\n",
    "    for d in range(1, n + 1):\n",
    "        if n % d == 0:\n",
    "            print d'''"
   ]
  },
  {
   "cell_type": "code",
   "execution_count": 37,
   "metadata": {
    "scrolled": true
   },
   "outputs": [
    {
     "data": {
      "text/plain": [
       "\"Module(body=[FunctionDef(name='divisors', args=arguments(args=[Name(id='n', ctx=Param())], vararg=None, kwarg=None, defaults=[]), body=[For(target=Name(id='d', ctx=Store()), iter=Call(func=Name(id='range', ctx=Load()), args=[Num(n=1), BinOp(left=Name(id='n', ctx=Load()), op=Add(), right=Num(n=1))], keywords=[], starargs=None, kwargs=None), body=[If(test=Compare(left=BinOp(left=Name(id='n', ctx=Load()), op=Mod(), right=Name(id='d', ctx=Load())), ops=[Eq()], comparators=[Num(n=0)]), body=[Print(dest=None, values=[Name(id='d', ctx=Load())], nl=True)], orelse=[])], orelse=[])], decorator_list=[])])\""
      ]
     },
     "execution_count": 37,
     "metadata": {},
     "output_type": "execute_result"
    }
   ],
   "source": [
    "ast.dump(ast.parse(divisors_code))"
   ]
  },
  {
   "cell_type": "markdown",
   "metadata": {},
   "source": [
    "### Visualize the tree\n",
    "\n",
    "https://github.com/hchasestevens/show_ast"
   ]
  },
  {
   "cell_type": "code",
   "execution_count": 38,
   "metadata": {
    "collapsed": true
   },
   "outputs": [],
   "source": [
    "import graphviz\n",
    "import itertools\n",
    "from functools import partial\n",
    "from IPython.display import SVG\n",
    "\n",
    "_basestring = basestring"
   ]
  },
  {
   "cell_type": "code",
   "execution_count": 39,
   "metadata": {
    "collapsed": true
   },
   "outputs": [],
   "source": [
    "def recurse_through_ast(node, handle_ast, handle_terminal, handle_fields, handle_no_fields, omit_docstrings):\n",
    "    possible_docstring = isinstance(node, (ast.FunctionDef, ast.ClassDef, ast.Module))\n",
    "    \n",
    "    node_fields = zip(\n",
    "        node._fields,\n",
    "        (getattr(node, attr) for attr in node._fields)\n",
    "    )\n",
    "    field_results = []\n",
    "    for field_name, field_value in node_fields:\n",
    "        if isinstance(field_value, ast.AST):\n",
    "            field_results.append(handle_ast(field_value))\n",
    "        \n",
    "        elif isinstance(field_value, list):\n",
    "            if possible_docstring and omit_docstrings and field_name == 'body':\n",
    "                field_value = _strip_docstring(field_value)\n",
    "            field_results.extend(\n",
    "                handle_ast(item)\n",
    "                if isinstance(item, ast.AST) else\n",
    "                handle_terminal(item)\n",
    "                for item in field_value\n",
    "            )\n",
    "        \n",
    "        elif isinstance(field_value, _basestring):\n",
    "            field_results.append(handle_terminal('\"{}\"'.format(field_value)))\n",
    "            \n",
    "        elif field_value is not None:\n",
    "            field_results.append(handle_terminal(field_value))\n",
    "\n",
    "    if not field_results:\n",
    "        return handle_no_fields(node)\n",
    "\n",
    "    return handle_fields(node, field_results)"
   ]
  },
  {
   "cell_type": "code",
   "execution_count": 40,
   "metadata": {},
   "outputs": [],
   "source": [
    "my_settings = dict(\n",
    "    # Styling options:\n",
    "    scale=2,\n",
    "    font='courier',\n",
    "    shape='none',\n",
    "    terminal_color='#008040',\n",
    "    nonterminal_color='#004080',\n",
    "    # AST display options:\n",
    "    omit_module=True,\n",
    "    omit_docstrings=True,\n",
    ")"
   ]
  },
  {
   "cell_type": "code",
   "execution_count": 41,
   "metadata": {
    "collapsed": true
   },
   "outputs": [],
   "source": [
    "def _strip_docstring(body):\n",
    "    first = body[0]\n",
    "    if isinstance(first, ast.Expr) and isinstance(first.value, ast.Str):\n",
    "        return body[1:]\n",
    "    return body"
   ]
  },
  {
   "cell_type": "code",
   "execution_count": 42,
   "metadata": {},
   "outputs": [
    {
     "data": {
      "text/plain": [
       "\"Module(body=[FunctionDef(name='hello', args=arguments(args=[], vararg=None, kwarg=None, defaults=[]), body=[Expr(value=Str(s='Return Hi.')), Return(value=Str(s='Hi!'))], decorator_list=[])])\""
      ]
     },
     "execution_count": 42,
     "metadata": {},
     "output_type": "execute_result"
    }
   ],
   "source": [
    "code = '''\n",
    "def hello():\n",
    "    \"\"\"Return Hi.\"\"\"\n",
    "    return 'Hi!'\n",
    "'''\n",
    "\n",
    "_strip_docstring(ast.dump(ast.parse(code)))"
   ]
  },
  {
   "cell_type": "code",
   "execution_count": 43,
   "metadata": {
    "collapsed": true
   },
   "outputs": [],
   "source": [
    "def _bold(label):\n",
    "    return '<<B>{}</B>>'.format(label)\n",
    "\n",
    "\n",
    "def _attach_to_parent(parent, graph, names, label, name=None, **style):\n",
    "    node_name = next(names) if name is None else name\n",
    "    node = graph.node(node_name, label=label, **style)\n",
    "    if parent is not None:\n",
    "        graph.edge(parent, node_name, sametail='t{}'.format(parent))\n",
    "\n",
    "\n",
    "def handle_ast(node, parent_node, graph, names, omit_docstrings, terminal_color, nonterminal_color):\n",
    "    attach_to_parent = partial(\n",
    "        _attach_to_parent,\n",
    "        graph=graph,\n",
    "        names=names,\n",
    "    )\n",
    "    node_name = next(names)\n",
    "    attach_to_parent(\n",
    "        parent=parent_node,\n",
    "        label=_bold(node.__class__.__name__),\n",
    "        name=node_name,\n",
    "        fontcolor=nonterminal_color,\n",
    "    )\n",
    "    recurse_through_ast(\n",
    "        node, \n",
    "        partial(\n",
    "            handle_ast, \n",
    "            parent_node=node_name,\n",
    "            graph=graph,\n",
    "            names=names,\n",
    "            omit_docstrings=omit_docstrings, \n",
    "            terminal_color=terminal_color, \n",
    "            nonterminal_color=nonterminal_color,\n",
    "        ), \n",
    "        partial(\n",
    "            handle_terminal, \n",
    "            attach_to_parent=partial(\n",
    "                attach_to_parent, \n",
    "                parent=node_name, \n",
    "                fontcolor=terminal_color,\n",
    "            ),\n",
    "        ), \n",
    "        handle_fields, \n",
    "        partial(\n",
    "            handle_no_fields,\n",
    "            parent_node=node_name,\n",
    "            graph=graph,\n",
    "            terminal_color=terminal_color,\n",
    "            nonterminal_color=nonterminal_color,\n",
    "        ),\n",
    "        omit_docstrings,\n",
    "    )\n",
    "\n",
    "\n",
    "def handle_terminal(terminal, attach_to_parent):\n",
    "    attach_to_parent(label=str(terminal))\n",
    "\n",
    "\n",
    "def handle_fields(*__):\n",
    "    pass\n",
    "\n",
    "\n",
    "def handle_no_fields(__, parent_node, graph, terminal_color, nonterminal_color):\n",
    "    parent_node_beginning = '{} '.format(parent_node)\n",
    "    parent_node_num = int(parent_node)\n",
    "    for i, node in enumerate(graph.body[parent_node_num:]):\n",
    "        if node.strip().startswith(parent_node_beginning):\n",
    "            break\n",
    "    else:\n",
    "        raise KeyError(\"Could not find parent in graph.\")\n",
    "    replacements = {\n",
    "        nonterminal_color: terminal_color,\n",
    "        '<<B>': '',\n",
    "        '</B>>': '',\n",
    "    }\n",
    "    graph.body[i + parent_node_num] = reduce(\n",
    "        lambda s, replacement: s.replace(*replacement),\n",
    "        replacements.items(),\n",
    "        node,\n",
    "    )"
   ]
  },
  {
   "cell_type": "code",
   "execution_count": 384,
   "metadata": {
    "collapsed": true
   },
   "outputs": [],
   "source": [
    "def render(node, settings):\n",
    "    \"\"\"\n",
    "    Given an AST node and settings, return a displayable object.\n",
    "    \"\"\"\n",
    "    graph = graphviz.Graph(format='svg')\n",
    "    names = (str(x) for x in itertools.count())\n",
    "\n",
    "    handle_ast(\n",
    "        node,\n",
    "        parent_node=None,\n",
    "        graph=graph,\n",
    "        names=names,\n",
    "        omit_docstrings=settings['omit_docstrings'],\n",
    "        terminal_color=settings['terminal_color'],\n",
    "        nonterminal_color=settings['nonterminal_color'],\n",
    "    )\n",
    "\n",
    "    graph.node_attr.update(dict(\n",
    "        fontname=settings['font'],\n",
    "        shape=settings['shape'],\n",
    "    ))\n",
    "\n",
    "    return SVG(graph.pipe(format='svg'))"
   ]
  },
  {
   "cell_type": "code",
   "execution_count": 385,
   "metadata": {},
   "outputs": [],
   "source": [
    "def viz_code(code):\n",
    "    return render(ast.parse(code), my_settings)"
   ]
  },
  {
   "cell_type": "code",
   "execution_count": 386,
   "metadata": {},
   "outputs": [
    {
     "data": {
      "image/svg+xml": [
       "<svg height=\"332pt\" viewBox=\"0.00 0.00 472.21 332.00\" width=\"472pt\" xmlns=\"http://www.w3.org/2000/svg\" xmlns:xlink=\"http://www.w3.org/1999/xlink\">\n",
       "<g class=\"graph\" id=\"graph0\" transform=\"scale(1 1) rotate(0) translate(4 328)\">\n",
       "<title>%3</title>\n",
       "<polygon fill=\"white\" points=\"-4,4 -4,-328 468.208,-328 468.208,4 -4,4\" stroke=\"none\"/>\n",
       "<!-- 0 -->\n",
       "<g class=\"node\" id=\"node1\"><title>0</title>\n",
       "<text fill=\"#004080\" font-family=\"Courier,monospace\" font-size=\"14.00\" font-weight=\"bold\" text-anchor=\"start\" x=\"230.003\" y=\"-302.8\">Module</text>\n",
       "</g>\n",
       "<!-- 1 -->\n",
       "<g class=\"node\" id=\"node2\"><title>1</title>\n",
       "<text fill=\"#004080\" font-family=\"Courier,monospace\" font-size=\"14.00\" font-weight=\"bold\" text-anchor=\"start\" x=\"143\" y=\"-230.8\">FunctionDef</text>\n",
       "</g>\n",
       "<!-- 0&#45;&#45;1 -->\n",
       "<g class=\"edge\" id=\"edge1\"><title>0--1</title>\n",
       "<path d=\"M255.208,-287C255.208,-287 230.067,-267.192 210.818,-252.027\" fill=\"none\" stroke=\"black\"/>\n",
       "</g>\n",
       "<!-- 8 -->\n",
       "<g class=\"node\" id=\"node9\"><title>8</title>\n",
       "<text fill=\"#004080\" font-family=\"Courier,monospace\" font-size=\"14.00\" font-weight=\"bold\" text-anchor=\"start\" x=\"305.405\" y=\"-230.8\">Expr</text>\n",
       "</g>\n",
       "<!-- 0&#45;&#45;8 -->\n",
       "<g class=\"edge\" id=\"edge8\"><title>0--8</title>\n",
       "<path d=\"M255.208,-287C255.208,-287 280.729,-267.192 300.269,-252.027\" fill=\"none\" stroke=\"black\"/>\n",
       "</g>\n",
       "<!-- 2 -->\n",
       "<g class=\"node\" id=\"node3\"><title>2</title>\n",
       "<text fill=\"#008040\" font-family=\"Courier,monospace\" font-size=\"14.00\" text-anchor=\"middle\" x=\"54.2075\" y=\"-157.8\">&quot;say_hello&quot;</text>\n",
       "</g>\n",
       "<!-- 1&#45;&#45;2 -->\n",
       "<g class=\"edge\" id=\"edge2\"><title>1--2</title>\n",
       "<path d=\"M186.208,-215C186.208,-215 135.926,-195.192 97.4293,-180.027\" fill=\"none\" stroke=\"black\"/>\n",
       "</g>\n",
       "<!-- 3 -->\n",
       "<g class=\"node\" id=\"node4\"><title>3</title>\n",
       "<text fill=\"#008040\" font-family=\"Courier,monospace\" font-size=\"14.00\" text-anchor=\"middle\" x=\"172.208\" y=\"-157.8\">arguments</text>\n",
       "</g>\n",
       "<!-- 1&#45;&#45;3 -->\n",
       "<g class=\"edge\" id=\"edge3\"><title>1--3</title>\n",
       "<path d=\"M186.208,-215C186.208,-215 180.875,-195.192 176.792,-180.027\" fill=\"none\" stroke=\"black\"/>\n",
       "</g>\n",
       "<!-- 4 -->\n",
       "<g class=\"node\" id=\"node5\"><title>4</title>\n",
       "<text fill=\"#004080\" font-family=\"Courier,monospace\" font-size=\"14.00\" font-weight=\"bold\" text-anchor=\"start\" x=\"244.204\" y=\"-158.8\">Print</text>\n",
       "</g>\n",
       "<!-- 1&#45;&#45;4 -->\n",
       "<g class=\"edge\" id=\"edge4\"><title>1--4</title>\n",
       "<path d=\"M186.208,-215C186.208,-215 216.3,-195.192 239.34,-180.027\" fill=\"none\" stroke=\"black\"/>\n",
       "</g>\n",
       "<!-- 5 -->\n",
       "<g class=\"node\" id=\"node6\"><title>5</title>\n",
       "<text fill=\"#004080\" font-family=\"Courier,monospace\" font-size=\"14.00\" font-weight=\"bold\" text-anchor=\"start\" x=\"181.605\" y=\"-86.8\">Str</text>\n",
       "</g>\n",
       "<!-- 4&#45;&#45;5 -->\n",
       "<g class=\"edge\" id=\"edge5\"><title>4--5</title>\n",
       "<path d=\"M258.208,-143C258.208,-143 233.829,-123.192 215.164,-108.027\" fill=\"none\" stroke=\"black\"/>\n",
       "</g>\n",
       "<!-- 7 -->\n",
       "<g class=\"node\" id=\"node8\"><title>7</title>\n",
       "<text fill=\"#008040\" font-family=\"Courier,monospace\" font-size=\"14.00\" text-anchor=\"middle\" x=\"266.208\" y=\"-85.8\">True</text>\n",
       "</g>\n",
       "<!-- 4&#45;&#45;7 -->\n",
       "<g class=\"edge\" id=\"edge7\"><title>4--7</title>\n",
       "<path d=\"M258.208,-143C258.208,-143 261.255,-123.192 263.588,-108.027\" fill=\"none\" stroke=\"black\"/>\n",
       "</g>\n",
       "<!-- 6 -->\n",
       "<g class=\"node\" id=\"node7\"><title>6</title>\n",
       "<text fill=\"#008040\" font-family=\"Courier,monospace\" font-size=\"14.00\" text-anchor=\"middle\" x=\"194.208\" y=\"-13.8\">&quot;Hello, World!&quot;</text>\n",
       "</g>\n",
       "<!-- 5&#45;&#45;6 -->\n",
       "<g class=\"edge\" id=\"edge6\"><title>5--6</title>\n",
       "<path d=\"M194.208,-71.6966C194.208,-60.8463 194.208,-46.9167 194.208,-36.1043\" fill=\"none\" stroke=\"black\"/>\n",
       "</g>\n",
       "<!-- 9 -->\n",
       "<g class=\"node\" id=\"node10\"><title>9</title>\n",
       "<text fill=\"#004080\" font-family=\"Courier,monospace\" font-size=\"14.00\" font-weight=\"bold\" text-anchor=\"start\" x=\"322.405\" y=\"-158.8\">Call</text>\n",
       "</g>\n",
       "<!-- 8&#45;&#45;9 -->\n",
       "<g class=\"edge\" id=\"edge9\"><title>8--9</title>\n",
       "<path d=\"M326.41,-215.697C329.045,-204.846 332.428,-190.917 335.054,-180.104\" fill=\"none\" stroke=\"black\"/>\n",
       "</g>\n",
       "<!-- 10 -->\n",
       "<g class=\"node\" id=\"node11\"><title>10</title>\n",
       "<text fill=\"#004080\" font-family=\"Courier,monospace\" font-size=\"14.00\" font-weight=\"bold\" text-anchor=\"start\" x=\"322.405\" y=\"-86.8\">Name</text>\n",
       "</g>\n",
       "<!-- 9&#45;&#45;10 -->\n",
       "<g class=\"edge\" id=\"edge10\"><title>9--10</title>\n",
       "<path d=\"M339.208,-143.697C339.208,-132.846 339.208,-118.917 339.208,-108.104\" fill=\"none\" stroke=\"black\"/>\n",
       "</g>\n",
       "<!-- 11 -->\n",
       "<g class=\"node\" id=\"node12\"><title>11</title>\n",
       "<text fill=\"#008040\" font-family=\"Courier,monospace\" font-size=\"14.00\" text-anchor=\"middle\" x=\"338.208\" y=\"-13.8\">&quot;say_hello&quot;</text>\n",
       "</g>\n",
       "<!-- 10&#45;&#45;11 -->\n",
       "<g class=\"edge\" id=\"edge11\"><title>10--11</title>\n",
       "<path d=\"M348.208,-71C348.208,-71 344.398,-51.1921 341.482,-36.0267\" fill=\"none\" stroke=\"black\"/>\n",
       "</g>\n",
       "<!-- 12 -->\n",
       "<g class=\"node\" id=\"node13\"><title>12</title>\n",
       "<text fill=\"#008040\" font-family=\"Courier,monospace\" font-size=\"14.00\" text-anchor=\"middle\" x=\"437.208\" y=\"-13.8\">Load</text>\n",
       "</g>\n",
       "<!-- 10&#45;&#45;12 -->\n",
       "<g class=\"edge\" id=\"edge12\"><title>10--12</title>\n",
       "<path d=\"M348.208,-71C348.208,-71 383.848,-50.1765 410.021,-34.8843\" fill=\"none\" stroke=\"black\"/>\n",
       "</g>\n",
       "</g>\n",
       "</svg>"
      ],
      "text/plain": [
       "<IPython.core.display.SVG object>"
      ]
     },
     "execution_count": 386,
     "metadata": {},
     "output_type": "execute_result"
    }
   ],
   "source": [
    "viz_code(program_code)"
   ]
  },
  {
   "cell_type": "code",
   "execution_count": 64,
   "metadata": {},
   "outputs": [
    {
     "data": {
      "image/svg+xml": [
       "<svg height=\"404pt\" viewBox=\"0.00 0.00 862.00 404.00\" width=\"862pt\" xmlns=\"http://www.w3.org/2000/svg\" xmlns:xlink=\"http://www.w3.org/1999/xlink\">\n",
       "<g class=\"graph\" id=\"graph0\" transform=\"scale(1 1) rotate(0) translate(4 400)\">\n",
       "<title>%3</title>\n",
       "<polygon fill=\"white\" points=\"-4,4 -4,-400 858,-400 858,4 -4,4\" stroke=\"none\"/>\n",
       "<!-- 0 -->\n",
       "<g class=\"node\" id=\"node1\"><title>0</title>\n",
       "<text fill=\"#004080\" font-family=\"Courier,monospace\" font-size=\"14.00\" font-weight=\"bold\" text-anchor=\"start\" x=\"404.796\" y=\"-374.8\">Module</text>\n",
       "</g>\n",
       "<!-- 1 -->\n",
       "<g class=\"node\" id=\"node2\"><title>1</title>\n",
       "<text fill=\"#004080\" font-family=\"Courier,monospace\" font-size=\"14.00\" font-weight=\"bold\" text-anchor=\"start\" x=\"185.796\" y=\"-302.8\">Assign</text>\n",
       "</g>\n",
       "<!-- 0&#45;&#45;1 -->\n",
       "<g class=\"edge\" id=\"edge1\"><title>0--1</title>\n",
       "<path d=\"M430,-359C430,-359 305.526,-329.445 244.261,-314.898\" fill=\"none\" stroke=\"black\"/>\n",
       "</g>\n",
       "<!-- 13 -->\n",
       "<g class=\"node\" id=\"node14\"><title>13</title>\n",
       "<text fill=\"#004080\" font-family=\"Courier,monospace\" font-size=\"14.00\" font-weight=\"bold\" text-anchor=\"start\" x=\"404.796\" y=\"-302.8\">Assign</text>\n",
       "</g>\n",
       "<!-- 0&#45;&#45;13 -->\n",
       "<g class=\"edge\" id=\"edge13\"><title>0--13</title>\n",
       "<path d=\"M430,-359C430,-359 430,-339.192 430,-324.027\" fill=\"none\" stroke=\"black\"/>\n",
       "</g>\n",
       "<!-- 25 -->\n",
       "<g class=\"node\" id=\"node26\"><title>25</title>\n",
       "<text fill=\"#004080\" font-family=\"Courier,monospace\" font-size=\"14.00\" font-weight=\"bold\" text-anchor=\"start\" x=\"625.997\" y=\"-302.8\">Print</text>\n",
       "</g>\n",
       "<!-- 0&#45;&#45;25 -->\n",
       "<g class=\"edge\" id=\"edge25\"><title>0--25</title>\n",
       "<path d=\"M430,-359C430,-359 558.503,-328.207 617.734,-314.013\" fill=\"none\" stroke=\"black\"/>\n",
       "</g>\n",
       "<!-- 2 -->\n",
       "<g class=\"node\" id=\"node3\"><title>2</title>\n",
       "<text fill=\"#004080\" font-family=\"Courier,monospace\" font-size=\"14.00\" font-weight=\"bold\" text-anchor=\"start\" x=\"84.1973\" y=\"-230.8\">Name</text>\n",
       "</g>\n",
       "<!-- 1&#45;&#45;2 -->\n",
       "<g class=\"edge\" id=\"edge2\"><title>1--2</title>\n",
       "<path d=\"M201,-287C201,-287 157.677,-264.472 128.061,-249.072\" fill=\"none\" stroke=\"black\"/>\n",
       "</g>\n",
       "<!-- 5 -->\n",
       "<g class=\"node\" id=\"node6\"><title>5</title>\n",
       "<text fill=\"#004080\" font-family=\"Courier,monospace\" font-size=\"14.00\" font-weight=\"bold\" text-anchor=\"start\" x=\"194.197\" y=\"-230.8\">Call</text>\n",
       "</g>\n",
       "<!-- 1&#45;&#45;5 -->\n",
       "<g class=\"edge\" id=\"edge5\"><title>1--5</title>\n",
       "<path d=\"M201,-287C201,-287 204.809,-267.192 207.726,-252.027\" fill=\"none\" stroke=\"black\"/>\n",
       "</g>\n",
       "<!-- 3 -->\n",
       "<g class=\"node\" id=\"node4\"><title>3</title>\n",
       "<text fill=\"#008040\" font-family=\"Courier,monospace\" font-size=\"14.00\" text-anchor=\"middle\" x=\"27\" y=\"-157.8\">&quot;a&quot;</text>\n",
       "</g>\n",
       "<!-- 2&#45;&#45;3 -->\n",
       "<g class=\"edge\" id=\"edge3\"><title>2--3</title>\n",
       "<path d=\"M93,-215C93,-215 67.8593,-195.192 48.6109,-180.027\" fill=\"none\" stroke=\"black\"/>\n",
       "</g>\n",
       "<!-- 4 -->\n",
       "<g class=\"node\" id=\"node5\"><title>4</title>\n",
       "<text fill=\"#008040\" font-family=\"Courier,monospace\" font-size=\"14.00\" text-anchor=\"middle\" x=\"101\" y=\"-157.8\">Store</text>\n",
       "</g>\n",
       "<!-- 2&#45;&#45;4 -->\n",
       "<g class=\"edge\" id=\"edge4\"><title>2--4</title>\n",
       "<path d=\"M93,-215C93,-215 96.0474,-195.192 98.3805,-180.027\" fill=\"none\" stroke=\"black\"/>\n",
       "</g>\n",
       "<!-- 6 -->\n",
       "<g class=\"node\" id=\"node7\"><title>6</title>\n",
       "<text fill=\"#004080\" font-family=\"Courier,monospace\" font-size=\"14.00\" font-weight=\"bold\" text-anchor=\"start\" x=\"158.197\" y=\"-158.8\">Name</text>\n",
       "</g>\n",
       "<!-- 5&#45;&#45;6 -->\n",
       "<g class=\"edge\" id=\"edge6\"><title>5--6</title>\n",
       "<path d=\"M211,-215C211,-215 197.287,-195.192 186.788,-180.027\" fill=\"none\" stroke=\"black\"/>\n",
       "</g>\n",
       "<!-- 9 -->\n",
       "<g class=\"node\" id=\"node10\"><title>9</title>\n",
       "<text fill=\"#004080\" font-family=\"Courier,monospace\" font-size=\"14.00\" font-weight=\"bold\" text-anchor=\"start\" x=\"230.197\" y=\"-158.8\">Call</text>\n",
       "</g>\n",
       "<!-- 5&#45;&#45;9 -->\n",
       "<g class=\"edge\" id=\"edge9\"><title>5--9</title>\n",
       "<path d=\"M211,-215C211,-215 224.713,-195.192 235.212,-180.027\" fill=\"none\" stroke=\"black\"/>\n",
       "</g>\n",
       "<!-- 7 -->\n",
       "<g class=\"node\" id=\"node8\"><title>7</title>\n",
       "<text fill=\"#008040\" font-family=\"Courier,monospace\" font-size=\"14.00\" text-anchor=\"middle\" x=\"101\" y=\"-85.8\">&quot;int&quot;</text>\n",
       "</g>\n",
       "<!-- 6&#45;&#45;7 -->\n",
       "<g class=\"edge\" id=\"edge7\"><title>6--7</title>\n",
       "<path d=\"M167,-143C167,-143 141.859,-123.192 122.611,-108.027\" fill=\"none\" stroke=\"black\"/>\n",
       "</g>\n",
       "<!-- 8 -->\n",
       "<g class=\"node\" id=\"node9\"><title>8</title>\n",
       "<text fill=\"#008040\" font-family=\"Courier,monospace\" font-size=\"14.00\" text-anchor=\"middle\" x=\"175\" y=\"-85.8\">Load</text>\n",
       "</g>\n",
       "<!-- 6&#45;&#45;8 -->\n",
       "<g class=\"edge\" id=\"edge8\"><title>6--8</title>\n",
       "<path d=\"M167,-143C167,-143 170.047,-123.192 172.381,-108.027\" fill=\"none\" stroke=\"black\"/>\n",
       "</g>\n",
       "<!-- 10 -->\n",
       "<g class=\"node\" id=\"node11\"><title>10</title>\n",
       "<text fill=\"#004080\" font-family=\"Courier,monospace\" font-size=\"14.00\" font-weight=\"bold\" text-anchor=\"start\" x=\"230.197\" y=\"-86.8\">Name</text>\n",
       "</g>\n",
       "<!-- 9&#45;&#45;10 -->\n",
       "<g class=\"edge\" id=\"edge10\"><title>9--10</title>\n",
       "<path d=\"M247,-143.697C247,-132.846 247,-118.917 247,-108.104\" fill=\"none\" stroke=\"black\"/>\n",
       "</g>\n",
       "<!-- 11 -->\n",
       "<g class=\"node\" id=\"node12\"><title>11</title>\n",
       "<text fill=\"#008040\" font-family=\"Courier,monospace\" font-size=\"14.00\" text-anchor=\"middle\" x=\"221\" y=\"-13.8\">&quot;raw_input&quot;</text>\n",
       "</g>\n",
       "<!-- 10&#45;&#45;11 -->\n",
       "<g class=\"edge\" id=\"edge11\"><title>10--11</title>\n",
       "<path d=\"M251,-71C251,-71 239.572,-51.1921 230.823,-36.0267\" fill=\"none\" stroke=\"black\"/>\n",
       "</g>\n",
       "<!-- 12 -->\n",
       "<g class=\"node\" id=\"node13\"><title>12</title>\n",
       "<text fill=\"#008040\" font-family=\"Courier,monospace\" font-size=\"14.00\" text-anchor=\"middle\" x=\"320\" y=\"-13.8\">Load</text>\n",
       "</g>\n",
       "<!-- 10&#45;&#45;12 -->\n",
       "<g class=\"edge\" id=\"edge12\"><title>10--12</title>\n",
       "<path d=\"M251,-71C251,-71 277.284,-51.1921 297.407,-36.0267\" fill=\"none\" stroke=\"black\"/>\n",
       "</g>\n",
       "<!-- 14 -->\n",
       "<g class=\"node\" id=\"node15\"><title>14</title>\n",
       "<text fill=\"#004080\" font-family=\"Courier,monospace\" font-size=\"14.00\" font-weight=\"bold\" text-anchor=\"start\" x=\"376.197\" y=\"-230.8\">Name</text>\n",
       "</g>\n",
       "<!-- 13&#45;&#45;14 -->\n",
       "<g class=\"edge\" id=\"edge14\"><title>13--14</title>\n",
       "<path d=\"M430,-287C430,-287 415.906,-267.192 405.115,-252.027\" fill=\"none\" stroke=\"black\"/>\n",
       "</g>\n",
       "<!-- 17 -->\n",
       "<g class=\"node\" id=\"node18\"><title>17</title>\n",
       "<text fill=\"#004080\" font-family=\"Courier,monospace\" font-size=\"14.00\" font-weight=\"bold\" text-anchor=\"start\" x=\"450.197\" y=\"-230.8\">Call</text>\n",
       "</g>\n",
       "<!-- 13&#45;&#45;17 -->\n",
       "<g class=\"edge\" id=\"edge17\"><title>13--17</title>\n",
       "<path d=\"M430,-287C430,-287 444.094,-267.192 454.885,-252.027\" fill=\"none\" stroke=\"black\"/>\n",
       "</g>\n",
       "<!-- 15 -->\n",
       "<g class=\"node\" id=\"node16\"><title>15</title>\n",
       "<text fill=\"#008040\" font-family=\"Courier,monospace\" font-size=\"14.00\" text-anchor=\"middle\" x=\"319\" y=\"-157.8\">&quot;b&quot;</text>\n",
       "</g>\n",
       "<!-- 14&#45;&#45;15 -->\n",
       "<g class=\"edge\" id=\"edge15\"><title>14--15</title>\n",
       "<path d=\"M385,-215C385,-215 359.859,-195.192 340.611,-180.027\" fill=\"none\" stroke=\"black\"/>\n",
       "</g>\n",
       "<!-- 16 -->\n",
       "<g class=\"node\" id=\"node17\"><title>16</title>\n",
       "<text fill=\"#008040\" font-family=\"Courier,monospace\" font-size=\"14.00\" text-anchor=\"middle\" x=\"393\" y=\"-157.8\">Store</text>\n",
       "</g>\n",
       "<!-- 14&#45;&#45;16 -->\n",
       "<g class=\"edge\" id=\"edge16\"><title>14--16</title>\n",
       "<path d=\"M385,-215C385,-215 388.047,-195.192 390.381,-180.027\" fill=\"none\" stroke=\"black\"/>\n",
       "</g>\n",
       "<!-- 18 -->\n",
       "<g class=\"node\" id=\"node19\"><title>18</title>\n",
       "<text fill=\"#004080\" font-family=\"Courier,monospace\" font-size=\"14.00\" font-weight=\"bold\" text-anchor=\"start\" x=\"450.197\" y=\"-158.8\">Name</text>\n",
       "</g>\n",
       "<!-- 17&#45;&#45;18 -->\n",
       "<g class=\"edge\" id=\"edge18\"><title>17--18</title>\n",
       "<path d=\"M475,-215C475,-215 471.953,-195.192 469.619,-180.027\" fill=\"none\" stroke=\"black\"/>\n",
       "</g>\n",
       "<!-- 21 -->\n",
       "<g class=\"node\" id=\"node22\"><title>21</title>\n",
       "<text fill=\"#004080\" font-family=\"Courier,monospace\" font-size=\"14.00\" font-weight=\"bold\" text-anchor=\"start\" x=\"522.197\" y=\"-158.8\">Call</text>\n",
       "</g>\n",
       "<!-- 17&#45;&#45;21 -->\n",
       "<g class=\"edge\" id=\"edge21\"><title>17--21</title>\n",
       "<path d=\"M475,-215C475,-215 499.379,-195.192 518.044,-180.027\" fill=\"none\" stroke=\"black\"/>\n",
       "</g>\n",
       "<!-- 19 -->\n",
       "<g class=\"node\" id=\"node20\"><title>19</title>\n",
       "<text fill=\"#008040\" font-family=\"Courier,monospace\" font-size=\"14.00\" text-anchor=\"middle\" x=\"393\" y=\"-85.8\">&quot;int&quot;</text>\n",
       "</g>\n",
       "<!-- 18&#45;&#45;19 -->\n",
       "<g class=\"edge\" id=\"edge19\"><title>18--19</title>\n",
       "<path d=\"M459,-143C459,-143 433.859,-123.192 414.611,-108.027\" fill=\"none\" stroke=\"black\"/>\n",
       "</g>\n",
       "<!-- 20 -->\n",
       "<g class=\"node\" id=\"node21\"><title>20</title>\n",
       "<text fill=\"#008040\" font-family=\"Courier,monospace\" font-size=\"14.00\" text-anchor=\"middle\" x=\"467\" y=\"-85.8\">Load</text>\n",
       "</g>\n",
       "<!-- 18&#45;&#45;20 -->\n",
       "<g class=\"edge\" id=\"edge20\"><title>18--20</title>\n",
       "<path d=\"M459,-143C459,-143 462.047,-123.192 464.381,-108.027\" fill=\"none\" stroke=\"black\"/>\n",
       "</g>\n",
       "<!-- 22 -->\n",
       "<g class=\"node\" id=\"node23\"><title>22</title>\n",
       "<text fill=\"#004080\" font-family=\"Courier,monospace\" font-size=\"14.00\" font-weight=\"bold\" text-anchor=\"start\" x=\"522.197\" y=\"-86.8\">Name</text>\n",
       "</g>\n",
       "<!-- 21&#45;&#45;22 -->\n",
       "<g class=\"edge\" id=\"edge22\"><title>21--22</title>\n",
       "<path d=\"M539,-143.697C539,-132.846 539,-118.917 539,-108.104\" fill=\"none\" stroke=\"black\"/>\n",
       "</g>\n",
       "<!-- 23 -->\n",
       "<g class=\"node\" id=\"node24\"><title>23</title>\n",
       "<text fill=\"#008040\" font-family=\"Courier,monospace\" font-size=\"14.00\" text-anchor=\"middle\" x=\"466\" y=\"-13.8\">&quot;raw_input&quot;</text>\n",
       "</g>\n",
       "<!-- 22&#45;&#45;23 -->\n",
       "<g class=\"edge\" id=\"edge23\"><title>22--23</title>\n",
       "<path d=\"M535,-71C535,-71 508.716,-51.1921 488.593,-36.0267\" fill=\"none\" stroke=\"black\"/>\n",
       "</g>\n",
       "<!-- 24 -->\n",
       "<g class=\"node\" id=\"node25\"><title>24</title>\n",
       "<text fill=\"#008040\" font-family=\"Courier,monospace\" font-size=\"14.00\" text-anchor=\"middle\" x=\"565\" y=\"-13.8\">Load</text>\n",
       "</g>\n",
       "<!-- 22&#45;&#45;24 -->\n",
       "<g class=\"edge\" id=\"edge24\"><title>22--24</title>\n",
       "<path d=\"M535,-71C535,-71 546.428,-51.1921 555.177,-36.0267\" fill=\"none\" stroke=\"black\"/>\n",
       "</g>\n",
       "<!-- 26 -->\n",
       "<g class=\"node\" id=\"node27\"><title>26</title>\n",
       "<text fill=\"#004080\" font-family=\"Courier,monospace\" font-size=\"14.00\" font-weight=\"bold\" text-anchor=\"start\" x=\"625.997\" y=\"-230.8\">BinOp</text>\n",
       "</g>\n",
       "<!-- 25&#45;&#45;26 -->\n",
       "<g class=\"edge\" id=\"edge26\"><title>25--26</title>\n",
       "<path d=\"M655,-287C655,-287 651.953,-267.192 649.619,-252.027\" fill=\"none\" stroke=\"black\"/>\n",
       "</g>\n",
       "<!-- 34 -->\n",
       "<g class=\"node\" id=\"node35\"><title>34</title>\n",
       "<text fill=\"#008040\" font-family=\"Courier,monospace\" font-size=\"14.00\" text-anchor=\"middle\" x=\"721\" y=\"-229.8\">True</text>\n",
       "</g>\n",
       "<!-- 25&#45;&#45;34 -->\n",
       "<g class=\"edge\" id=\"edge34\"><title>25--34</title>\n",
       "<path d=\"M655,-287C655,-287 680.141,-267.192 699.389,-252.027\" fill=\"none\" stroke=\"black\"/>\n",
       "</g>\n",
       "<!-- 27 -->\n",
       "<g class=\"node\" id=\"node28\"><title>27</title>\n",
       "<text fill=\"#004080\" font-family=\"Courier,monospace\" font-size=\"14.00\" font-weight=\"bold\" text-anchor=\"start\" x=\"594.197\" y=\"-158.8\">Name</text>\n",
       "</g>\n",
       "<!-- 26&#45;&#45;27 -->\n",
       "<g class=\"edge\" id=\"edge27\"><title>26--27</title>\n",
       "<path d=\"M653,-215C653,-215 637.001,-195.192 624.752,-180.027\" fill=\"none\" stroke=\"black\"/>\n",
       "</g>\n",
       "<!-- 30 -->\n",
       "<g class=\"node\" id=\"node31\"><title>30</title>\n",
       "<text fill=\"#008040\" font-family=\"Courier,monospace\" font-size=\"14.00\" text-anchor=\"middle\" x=\"683\" y=\"-157.8\">Add</text>\n",
       "</g>\n",
       "<!-- 26&#45;&#45;30 -->\n",
       "<g class=\"edge\" id=\"edge30\"><title>26--30</title>\n",
       "<path d=\"M653,-215C653,-215 664.428,-195.192 673.177,-180.027\" fill=\"none\" stroke=\"black\"/>\n",
       "</g>\n",
       "<!-- 31 -->\n",
       "<g class=\"node\" id=\"node32\"><title>31</title>\n",
       "<text fill=\"#004080\" font-family=\"Courier,monospace\" font-size=\"14.00\" font-weight=\"bold\" text-anchor=\"start\" x=\"738.197\" y=\"-158.8\">Name</text>\n",
       "</g>\n",
       "<!-- 26&#45;&#45;31 -->\n",
       "<g class=\"edge\" id=\"edge31\"><title>26--31</title>\n",
       "<path d=\"M653,-215C653,-215 697.716,-192.204 727.934,-176.799\" fill=\"none\" stroke=\"black\"/>\n",
       "</g>\n",
       "<!-- 28 -->\n",
       "<g class=\"node\" id=\"node29\"><title>28</title>\n",
       "<text fill=\"#008040\" font-family=\"Courier,monospace\" font-size=\"14.00\" text-anchor=\"middle\" x=\"611\" y=\"-85.8\">&quot;a&quot;</text>\n",
       "</g>\n",
       "<!-- 27&#45;&#45;28 -->\n",
       "<g class=\"edge\" id=\"edge28\"><title>27--28</title>\n",
       "<path d=\"M619,-143C619,-143 615.953,-123.192 613.619,-108.027\" fill=\"none\" stroke=\"black\"/>\n",
       "</g>\n",
       "<!-- 29 -->\n",
       "<g class=\"node\" id=\"node30\"><title>29</title>\n",
       "<text fill=\"#008040\" font-family=\"Courier,monospace\" font-size=\"14.00\" text-anchor=\"middle\" x=\"683\" y=\"-85.8\">Load</text>\n",
       "</g>\n",
       "<!-- 27&#45;&#45;29 -->\n",
       "<g class=\"edge\" id=\"edge29\"><title>27--29</title>\n",
       "<path d=\"M619,-143C619,-143 643.379,-123.192 662.044,-108.027\" fill=\"none\" stroke=\"black\"/>\n",
       "</g>\n",
       "<!-- 32 -->\n",
       "<g class=\"node\" id=\"node33\"><title>32</title>\n",
       "<text fill=\"#008040\" font-family=\"Courier,monospace\" font-size=\"14.00\" text-anchor=\"middle\" x=\"755\" y=\"-85.8\">&quot;b&quot;</text>\n",
       "</g>\n",
       "<!-- 31&#45;&#45;32 -->\n",
       "<g class=\"edge\" id=\"edge32\"><title>31--32</title>\n",
       "<path d=\"M763,-143C763,-143 759.953,-123.192 757.619,-108.027\" fill=\"none\" stroke=\"black\"/>\n",
       "</g>\n",
       "<!-- 33 -->\n",
       "<g class=\"node\" id=\"node34\"><title>33</title>\n",
       "<text fill=\"#008040\" font-family=\"Courier,monospace\" font-size=\"14.00\" text-anchor=\"middle\" x=\"827\" y=\"-85.8\">Load</text>\n",
       "</g>\n",
       "<!-- 31&#45;&#45;33 -->\n",
       "<g class=\"edge\" id=\"edge33\"><title>31--33</title>\n",
       "<path d=\"M763,-143C763,-143 787.379,-123.192 806.044,-108.027\" fill=\"none\" stroke=\"black\"/>\n",
       "</g>\n",
       "</g>\n",
       "</svg>"
      ],
      "text/plain": [
       "<IPython.core.display.SVG object>"
      ]
     },
     "execution_count": 64,
     "metadata": {},
     "output_type": "execute_result"
    }
   ],
   "source": [
    "viz_code(program)"
   ]
  },
  {
   "cell_type": "code",
   "execution_count": 65,
   "metadata": {},
   "outputs": [
    {
     "data": {
      "image/svg+xml": [
       "<svg height=\"548pt\" viewBox=\"0.00 0.00 1044.00 548.00\" width=\"1044pt\" xmlns=\"http://www.w3.org/2000/svg\" xmlns:xlink=\"http://www.w3.org/1999/xlink\">\n",
       "<g class=\"graph\" id=\"graph0\" transform=\"scale(1 1) rotate(0) translate(4 544)\">\n",
       "<title>%3</title>\n",
       "<polygon fill=\"white\" points=\"-4,4 -4,-544 1040,-544 1040,4 -4,4\" stroke=\"none\"/>\n",
       "<!-- 0 -->\n",
       "<g class=\"node\" id=\"node1\"><title>0</title>\n",
       "<text fill=\"#004080\" font-family=\"Courier,monospace\" font-size=\"14.00\" font-weight=\"bold\" text-anchor=\"start\" x=\"144.796\" y=\"-518.8\">Module</text>\n",
       "</g>\n",
       "<!-- 1 -->\n",
       "<g class=\"node\" id=\"node2\"><title>1</title>\n",
       "<text fill=\"#004080\" font-family=\"Courier,monospace\" font-size=\"14.00\" font-weight=\"bold\" text-anchor=\"start\" x=\"123.792\" y=\"-446.8\">FunctionDef</text>\n",
       "</g>\n",
       "<!-- 0&#45;&#45;1 -->\n",
       "<g class=\"edge\" id=\"edge1\"><title>0--1</title>\n",
       "<path d=\"M170,-503.697C170,-492.846 170,-478.917 170,-468.104\" fill=\"none\" stroke=\"black\"/>\n",
       "</g>\n",
       "<!-- 2 -->\n",
       "<g class=\"node\" id=\"node3\"><title>2</title>\n",
       "<text fill=\"#008040\" font-family=\"Courier,monospace\" font-size=\"14.00\" text-anchor=\"middle\" x=\"56\" y=\"-373.8\">&quot;divisors&quot;</text>\n",
       "</g>\n",
       "<!-- 1&#45;&#45;2 -->\n",
       "<g class=\"edge\" id=\"edge2\"><title>1--2</title>\n",
       "<path d=\"M171,-431C171,-431 127.194,-411.192 93.6553,-396.027\" fill=\"none\" stroke=\"black\"/>\n",
       "</g>\n",
       "<!-- 3 -->\n",
       "<g class=\"node\" id=\"node4\"><title>3</title>\n",
       "<text fill=\"#004080\" font-family=\"Courier,monospace\" font-size=\"14.00\" font-weight=\"bold\" text-anchor=\"start\" x=\"132.194\" y=\"-374.8\">arguments</text>\n",
       "</g>\n",
       "<!-- 1&#45;&#45;3 -->\n",
       "<g class=\"edge\" id=\"edge3\"><title>1--3</title>\n",
       "<path d=\"M171,-431C171,-431 170.619,-411.192 170.327,-396.027\" fill=\"none\" stroke=\"black\"/>\n",
       "</g>\n",
       "<!-- 7 -->\n",
       "<g class=\"node\" id=\"node8\"><title>7</title>\n",
       "<text fill=\"#004080\" font-family=\"Courier,monospace\" font-size=\"14.00\" font-weight=\"bold\" text-anchor=\"start\" x=\"313.398\" y=\"-374.8\">For</text>\n",
       "</g>\n",
       "<!-- 1&#45;&#45;7 -->\n",
       "<g class=\"edge\" id=\"edge7\"><title>1--7</title>\n",
       "<path d=\"M171,-431C171,-431 254.148,-403.105 298.646,-388.177\" fill=\"none\" stroke=\"black\"/>\n",
       "</g>\n",
       "<!-- 4 -->\n",
       "<g class=\"node\" id=\"node5\"><title>4</title>\n",
       "<text fill=\"#004080\" font-family=\"Courier,monospace\" font-size=\"14.00\" font-weight=\"bold\" text-anchor=\"start\" x=\"84.1973\" y=\"-302.8\">Name</text>\n",
       "</g>\n",
       "<!-- 3&#45;&#45;4 -->\n",
       "<g class=\"edge\" id=\"edge4\"><title>3--4</title>\n",
       "<path d=\"M152.944,-359.697C142.248,-348.846 128.518,-334.917 117.86,-324.104\" fill=\"none\" stroke=\"black\"/>\n",
       "</g>\n",
       "<!-- 5 -->\n",
       "<g class=\"node\" id=\"node6\"><title>5</title>\n",
       "<text fill=\"#008040\" font-family=\"Courier,monospace\" font-size=\"14.00\" text-anchor=\"middle\" x=\"27\" y=\"-229.8\">&quot;n&quot;</text>\n",
       "</g>\n",
       "<!-- 4&#45;&#45;5 -->\n",
       "<g class=\"edge\" id=\"edge5\"><title>4--5</title>\n",
       "<path d=\"M93,-287C93,-287 67.8593,-267.192 48.6109,-252.027\" fill=\"none\" stroke=\"black\"/>\n",
       "</g>\n",
       "<!-- 6 -->\n",
       "<g class=\"node\" id=\"node7\"><title>6</title>\n",
       "<text fill=\"#008040\" font-family=\"Courier,monospace\" font-size=\"14.00\" text-anchor=\"middle\" x=\"101\" y=\"-229.8\">Param</text>\n",
       "</g>\n",
       "<!-- 4&#45;&#45;6 -->\n",
       "<g class=\"edge\" id=\"edge6\"><title>4--6</title>\n",
       "<path d=\"M93,-287C93,-287 96.0474,-267.192 98.3805,-252.027\" fill=\"none\" stroke=\"black\"/>\n",
       "</g>\n",
       "<!-- 8 -->\n",
       "<g class=\"node\" id=\"node9\"><title>8</title>\n",
       "<text fill=\"#004080\" font-family=\"Courier,monospace\" font-size=\"14.00\" font-weight=\"bold\" text-anchor=\"start\" x=\"232.197\" y=\"-302.8\">Name</text>\n",
       "</g>\n",
       "<!-- 7&#45;&#45;8 -->\n",
       "<g class=\"edge\" id=\"edge8\"><title>7--8</title>\n",
       "<path d=\"M333,-359C333,-359 300.596,-338.941 276.041,-323.739\" fill=\"none\" stroke=\"black\"/>\n",
       "</g>\n",
       "<!-- 11 -->\n",
       "<g class=\"node\" id=\"node12\"><title>11</title>\n",
       "<text fill=\"#004080\" font-family=\"Courier,monospace\" font-size=\"14.00\" font-weight=\"bold\" text-anchor=\"start\" x=\"342.197\" y=\"-302.8\">Call</text>\n",
       "</g>\n",
       "<!-- 7&#45;&#45;11 -->\n",
       "<g class=\"edge\" id=\"edge11\"><title>7--11</title>\n",
       "<path d=\"M333,-359C333,-359 342.904,-339.192 350.487,-324.027\" fill=\"none\" stroke=\"black\"/>\n",
       "</g>\n",
       "<!-- 24 -->\n",
       "<g class=\"node\" id=\"node25\"><title>24</title>\n",
       "<text fill=\"#004080\" font-family=\"Courier,monospace\" font-size=\"14.00\" font-weight=\"bold\" text-anchor=\"start\" x=\"784.599\" y=\"-302.8\">If</text>\n",
       "</g>\n",
       "<!-- 7&#45;&#45;24 -->\n",
       "<g class=\"edge\" id=\"edge24\"><title>7--24</title>\n",
       "<path d=\"M333,-359C333,-359 667.339,-321.205 765.942,-310.059\" fill=\"none\" stroke=\"black\"/>\n",
       "</g>\n",
       "<!-- 9 -->\n",
       "<g class=\"node\" id=\"node10\"><title>9</title>\n",
       "<text fill=\"#008040\" font-family=\"Courier,monospace\" font-size=\"14.00\" text-anchor=\"middle\" x=\"175\" y=\"-229.8\">&quot;d&quot;</text>\n",
       "</g>\n",
       "<!-- 8&#45;&#45;9 -->\n",
       "<g class=\"edge\" id=\"edge9\"><title>8--9</title>\n",
       "<path d=\"M241,-287C241,-287 215.859,-267.192 196.611,-252.027\" fill=\"none\" stroke=\"black\"/>\n",
       "</g>\n",
       "<!-- 10 -->\n",
       "<g class=\"node\" id=\"node11\"><title>10</title>\n",
       "<text fill=\"#008040\" font-family=\"Courier,monospace\" font-size=\"14.00\" text-anchor=\"middle\" x=\"249\" y=\"-229.8\">Store</text>\n",
       "</g>\n",
       "<!-- 8&#45;&#45;10 -->\n",
       "<g class=\"edge\" id=\"edge10\"><title>8--10</title>\n",
       "<path d=\"M241,-287C241,-287 244.047,-267.192 246.381,-252.027\" fill=\"none\" stroke=\"black\"/>\n",
       "</g>\n",
       "<!-- 12 -->\n",
       "<g class=\"node\" id=\"node13\"><title>12</title>\n",
       "<text fill=\"#004080\" font-family=\"Courier,monospace\" font-size=\"14.00\" font-weight=\"bold\" text-anchor=\"start\" x=\"306.197\" y=\"-230.8\">Name</text>\n",
       "</g>\n",
       "<!-- 11&#45;&#45;12 -->\n",
       "<g class=\"edge\" id=\"edge12\"><title>11--12</title>\n",
       "<path d=\"M366,-287C366,-287 349.62,-267.192 337.08,-252.027\" fill=\"none\" stroke=\"black\"/>\n",
       "</g>\n",
       "<!-- 15 -->\n",
       "<g class=\"node\" id=\"node16\"><title>15</title>\n",
       "<text fill=\"#004080\" font-family=\"Courier,monospace\" font-size=\"14.00\" font-weight=\"bold\" text-anchor=\"start\" x=\"382.398\" y=\"-230.8\">Num</text>\n",
       "</g>\n",
       "<!-- 11&#45;&#45;15 -->\n",
       "<g class=\"edge\" id=\"edge15\"><title>11--15</title>\n",
       "<path d=\"M366,-287C366,-287 377.047,-267.192 385.504,-252.027\" fill=\"none\" stroke=\"black\"/>\n",
       "</g>\n",
       "<!-- 17 -->\n",
       "<g class=\"node\" id=\"node18\"><title>17</title>\n",
       "<text fill=\"#004080\" font-family=\"Courier,monospace\" font-size=\"14.00\" font-weight=\"bold\" text-anchor=\"start\" x=\"482.997\" y=\"-230.8\">BinOp</text>\n",
       "</g>\n",
       "<!-- 11&#45;&#45;17 -->\n",
       "<g class=\"edge\" id=\"edge17\"><title>11--17</title>\n",
       "<path d=\"M366,-287C366,-287 434.225,-261.292 474.734,-246.028\" fill=\"none\" stroke=\"black\"/>\n",
       "</g>\n",
       "<!-- 13 -->\n",
       "<g class=\"node\" id=\"node14\"><title>13</title>\n",
       "<text fill=\"#008040\" font-family=\"Courier,monospace\" font-size=\"14.00\" text-anchor=\"middle\" x=\"241\" y=\"-157.8\">&quot;range&quot;</text>\n",
       "</g>\n",
       "<!-- 12&#45;&#45;13 -->\n",
       "<g class=\"edge\" id=\"edge13\"><title>12--13</title>\n",
       "<path d=\"M315,-215C315,-215 286.812,-195.192 265.23,-180.027\" fill=\"none\" stroke=\"black\"/>\n",
       "</g>\n",
       "<!-- 14 -->\n",
       "<g class=\"node\" id=\"node15\"><title>14</title>\n",
       "<text fill=\"#008040\" font-family=\"Courier,monospace\" font-size=\"14.00\" text-anchor=\"middle\" x=\"323\" y=\"-157.8\">Load</text>\n",
       "</g>\n",
       "<!-- 12&#45;&#45;14 -->\n",
       "<g class=\"edge\" id=\"edge14\"><title>12--14</title>\n",
       "<path d=\"M315,-215C315,-215 318.047,-195.192 320.381,-180.027\" fill=\"none\" stroke=\"black\"/>\n",
       "</g>\n",
       "<!-- 16 -->\n",
       "<g class=\"node\" id=\"node17\"><title>16</title>\n",
       "<text fill=\"#008040\" font-family=\"Courier,monospace\" font-size=\"14.00\" text-anchor=\"middle\" x=\"395\" y=\"-157.8\">1</text>\n",
       "</g>\n",
       "<!-- 15&#45;&#45;16 -->\n",
       "<g class=\"edge\" id=\"edge16\"><title>15--16</title>\n",
       "<path d=\"M395,-215.697C395,-204.846 395,-190.917 395,-180.104\" fill=\"none\" stroke=\"black\"/>\n",
       "</g>\n",
       "<!-- 18 -->\n",
       "<g class=\"node\" id=\"node19\"><title>18</title>\n",
       "<text fill=\"#004080\" font-family=\"Courier,monospace\" font-size=\"14.00\" font-weight=\"bold\" text-anchor=\"start\" x=\"450.197\" y=\"-158.8\">Name</text>\n",
       "</g>\n",
       "<!-- 17&#45;&#45;18 -->\n",
       "<g class=\"edge\" id=\"edge18\"><title>17--18</title>\n",
       "<path d=\"M510,-215C510,-215 493.62,-195.192 481.08,-180.027\" fill=\"none\" stroke=\"black\"/>\n",
       "</g>\n",
       "<!-- 21 -->\n",
       "<g class=\"node\" id=\"node22\"><title>21</title>\n",
       "<text fill=\"#008040\" font-family=\"Courier,monospace\" font-size=\"14.00\" text-anchor=\"middle\" x=\"539\" y=\"-157.8\">Add</text>\n",
       "</g>\n",
       "<!-- 17&#45;&#45;21 -->\n",
       "<g class=\"edge\" id=\"edge21\"><title>17--21</title>\n",
       "<path d=\"M510,-215C510,-215 521.047,-195.192 529.504,-180.027\" fill=\"none\" stroke=\"black\"/>\n",
       "</g>\n",
       "<!-- 22 -->\n",
       "<g class=\"node\" id=\"node23\"><title>22</title>\n",
       "<text fill=\"#004080\" font-family=\"Courier,monospace\" font-size=\"14.00\" font-weight=\"bold\" text-anchor=\"start\" x=\"598.398\" y=\"-158.8\">Num</text>\n",
       "</g>\n",
       "<!-- 17&#45;&#45;22 -->\n",
       "<g class=\"edge\" id=\"edge22\"><title>17--22</title>\n",
       "<path d=\"M510,-215C510,-215 554.016,-192.338 583.934,-176.935\" fill=\"none\" stroke=\"black\"/>\n",
       "</g>\n",
       "<!-- 19 -->\n",
       "<g class=\"node\" id=\"node20\"><title>19</title>\n",
       "<text fill=\"#008040\" font-family=\"Courier,monospace\" font-size=\"14.00\" text-anchor=\"middle\" x=\"396\" y=\"-85.8\">&quot;n&quot;</text>\n",
       "</g>\n",
       "<!-- 18&#45;&#45;19 -->\n",
       "<g class=\"edge\" id=\"edge19\"><title>18--19</title>\n",
       "<path d=\"M460,-143C460,-143 435.621,-123.192 416.956,-108.027\" fill=\"none\" stroke=\"black\"/>\n",
       "</g>\n",
       "<!-- 20 -->\n",
       "<g class=\"node\" id=\"node21\"><title>20</title>\n",
       "<text fill=\"#008040\" font-family=\"Courier,monospace\" font-size=\"14.00\" text-anchor=\"middle\" x=\"468\" y=\"-85.8\">Load</text>\n",
       "</g>\n",
       "<!-- 18&#45;&#45;20 -->\n",
       "<g class=\"edge\" id=\"edge20\"><title>18--20</title>\n",
       "<path d=\"M460,-143C460,-143 463.047,-123.192 465.381,-108.027\" fill=\"none\" stroke=\"black\"/>\n",
       "</g>\n",
       "<!-- 23 -->\n",
       "<g class=\"node\" id=\"node24\"><title>23</title>\n",
       "<text fill=\"#008040\" font-family=\"Courier,monospace\" font-size=\"14.00\" text-anchor=\"middle\" x=\"576\" y=\"-85.8\">1</text>\n",
       "</g>\n",
       "<!-- 22&#45;&#45;23 -->\n",
       "<g class=\"edge\" id=\"edge23\"><title>22--23</title>\n",
       "<path d=\"M602.348,-143.697C596.923,-132.846 589.958,-118.917 584.552,-108.104\" fill=\"none\" stroke=\"black\"/>\n",
       "</g>\n",
       "<!-- 25 -->\n",
       "<g class=\"node\" id=\"node26\"><title>25</title>\n",
       "<text fill=\"#004080\" font-family=\"Courier,monospace\" font-size=\"14.00\" font-weight=\"bold\" text-anchor=\"start\" x=\"763.595\" y=\"-230.8\">Compare</text>\n",
       "</g>\n",
       "<!-- 24&#45;&#45;25 -->\n",
       "<g class=\"edge\" id=\"edge25\"><title>24--25</title>\n",
       "<path d=\"M804,-287C804,-287 799.81,-267.192 796.602,-252.027\" fill=\"none\" stroke=\"black\"/>\n",
       "</g>\n",
       "<!-- 37 -->\n",
       "<g class=\"node\" id=\"node38\"><title>37</title>\n",
       "<text fill=\"#004080\" font-family=\"Courier,monospace\" font-size=\"14.00\" font-weight=\"bold\" text-anchor=\"start\" x=\"915.997\" y=\"-230.8\">Print</text>\n",
       "</g>\n",
       "<!-- 24&#45;&#45;37 -->\n",
       "<g class=\"edge\" id=\"edge37\"><title>24--37</title>\n",
       "<path d=\"M804,-287C804,-287 868.662,-261.719 907.813,-246.412\" fill=\"none\" stroke=\"black\"/>\n",
       "</g>\n",
       "<!-- 26 -->\n",
       "<g class=\"node\" id=\"node27\"><title>26</title>\n",
       "<text fill=\"#004080\" font-family=\"Courier,monospace\" font-size=\"14.00\" font-weight=\"bold\" text-anchor=\"start\" x=\"697.997\" y=\"-158.8\">BinOp</text>\n",
       "</g>\n",
       "<!-- 25&#45;&#45;26 -->\n",
       "<g class=\"edge\" id=\"edge26\"><title>25--26</title>\n",
       "<path d=\"M793,-215C793,-215 764.812,-195.192 743.23,-180.027\" fill=\"none\" stroke=\"black\"/>\n",
       "</g>\n",
       "<!-- 34 -->\n",
       "<g class=\"node\" id=\"node35\"><title>34</title>\n",
       "<text fill=\"#008040\" font-family=\"Courier,monospace\" font-size=\"14.00\" text-anchor=\"middle\" x=\"793\" y=\"-157.8\">Eq</text>\n",
       "</g>\n",
       "<!-- 25&#45;&#45;34 -->\n",
       "<g class=\"edge\" id=\"edge34\"><title>25--34</title>\n",
       "<path d=\"M793,-215C793,-215 793,-195.192 793,-180.027\" fill=\"none\" stroke=\"black\"/>\n",
       "</g>\n",
       "<!-- 35 -->\n",
       "<g class=\"node\" id=\"node36\"><title>35</title>\n",
       "<text fill=\"#004080\" font-family=\"Courier,monospace\" font-size=\"14.00\" font-weight=\"bold\" text-anchor=\"start\" x=\"852.398\" y=\"-158.8\">Num</text>\n",
       "</g>\n",
       "<!-- 25&#45;&#45;35 -->\n",
       "<g class=\"edge\" id=\"edge35\"><title>25--35</title>\n",
       "<path d=\"M793,-215C793,-215 820.426,-195.192 841.425,-180.027\" fill=\"none\" stroke=\"black\"/>\n",
       "</g>\n",
       "<!-- 27 -->\n",
       "<g class=\"node\" id=\"node28\"><title>27</title>\n",
       "<text fill=\"#004080\" font-family=\"Courier,monospace\" font-size=\"14.00\" font-weight=\"bold\" text-anchor=\"start\" x=\"631.197\" y=\"-86.8\">Name</text>\n",
       "</g>\n",
       "<!-- 26&#45;&#45;27 -->\n",
       "<g class=\"edge\" id=\"edge27\"><title>26--27</title>\n",
       "<path d=\"M719,-143C719,-143 691.955,-123.192 671.248,-108.027\" fill=\"none\" stroke=\"black\"/>\n",
       "</g>\n",
       "<!-- 30 -->\n",
       "<g class=\"node\" id=\"node31\"><title>30</title>\n",
       "<text fill=\"#008040\" font-family=\"Courier,monospace\" font-size=\"14.00\" text-anchor=\"middle\" x=\"720\" y=\"-85.8\">Mod</text>\n",
       "</g>\n",
       "<!-- 26&#45;&#45;30 -->\n",
       "<g class=\"edge\" id=\"edge30\"><title>26--30</title>\n",
       "<path d=\"M719,-143C719,-143 719.381,-123.192 719.673,-108.027\" fill=\"none\" stroke=\"black\"/>\n",
       "</g>\n",
       "<!-- 31 -->\n",
       "<g class=\"node\" id=\"node32\"><title>31</title>\n",
       "<text fill=\"#004080\" font-family=\"Courier,monospace\" font-size=\"14.00\" font-weight=\"bold\" text-anchor=\"start\" x=\"775.197\" y=\"-86.8\">Name</text>\n",
       "</g>\n",
       "<!-- 26&#45;&#45;31 -->\n",
       "<g class=\"edge\" id=\"edge31\"><title>26--31</title>\n",
       "<path d=\"M719,-143C719,-143 746.807,-123.192 768.097,-108.027\" fill=\"none\" stroke=\"black\"/>\n",
       "</g>\n",
       "<!-- 28 -->\n",
       "<g class=\"node\" id=\"node29\"><title>28</title>\n",
       "<text fill=\"#008040\" font-family=\"Courier,monospace\" font-size=\"14.00\" text-anchor=\"middle\" x=\"612\" y=\"-13.8\">&quot;n&quot;</text>\n",
       "</g>\n",
       "<!-- 27&#45;&#45;28 -->\n",
       "<g class=\"edge\" id=\"edge28\"><title>27--28</title>\n",
       "<path d=\"M648,-71C648,-71 634.287,-51.1921 623.788,-36.0267\" fill=\"none\" stroke=\"black\"/>\n",
       "</g>\n",
       "<!-- 29 -->\n",
       "<g class=\"node\" id=\"node30\"><title>29</title>\n",
       "<text fill=\"#008040\" font-family=\"Courier,monospace\" font-size=\"14.00\" text-anchor=\"middle\" x=\"684\" y=\"-13.8\">Load</text>\n",
       "</g>\n",
       "<!-- 27&#45;&#45;29 -->\n",
       "<g class=\"edge\" id=\"edge29\"><title>27--29</title>\n",
       "<path d=\"M648,-71C648,-71 661.713,-51.1921 672.212,-36.0267\" fill=\"none\" stroke=\"black\"/>\n",
       "</g>\n",
       "<!-- 32 -->\n",
       "<g class=\"node\" id=\"node33\"><title>32</title>\n",
       "<text fill=\"#008040\" font-family=\"Courier,monospace\" font-size=\"14.00\" text-anchor=\"middle\" x=\"756\" y=\"-13.8\">&quot;d&quot;</text>\n",
       "</g>\n",
       "<!-- 31&#45;&#45;32 -->\n",
       "<g class=\"edge\" id=\"edge32\"><title>31--32</title>\n",
       "<path d=\"M792,-71C792,-71 778.287,-51.1921 767.788,-36.0267\" fill=\"none\" stroke=\"black\"/>\n",
       "</g>\n",
       "<!-- 33 -->\n",
       "<g class=\"node\" id=\"node34\"><title>33</title>\n",
       "<text fill=\"#008040\" font-family=\"Courier,monospace\" font-size=\"14.00\" text-anchor=\"middle\" x=\"828\" y=\"-13.8\">Load</text>\n",
       "</g>\n",
       "<!-- 31&#45;&#45;33 -->\n",
       "<g class=\"edge\" id=\"edge33\"><title>31--33</title>\n",
       "<path d=\"M792,-71C792,-71 805.713,-51.1921 816.212,-36.0267\" fill=\"none\" stroke=\"black\"/>\n",
       "</g>\n",
       "<!-- 36 -->\n",
       "<g class=\"node\" id=\"node37\"><title>36</title>\n",
       "<text fill=\"#008040\" font-family=\"Courier,monospace\" font-size=\"14.00\" text-anchor=\"middle\" x=\"865\" y=\"-85.8\">0</text>\n",
       "</g>\n",
       "<!-- 35&#45;&#45;36 -->\n",
       "<g class=\"edge\" id=\"edge36\"><title>35--36</title>\n",
       "<path d=\"M865,-143.697C865,-132.846 865,-118.917 865,-108.104\" fill=\"none\" stroke=\"black\"/>\n",
       "</g>\n",
       "<!-- 38 -->\n",
       "<g class=\"node\" id=\"node39\"><title>38</title>\n",
       "<text fill=\"#004080\" font-family=\"Courier,monospace\" font-size=\"14.00\" font-weight=\"bold\" text-anchor=\"start\" x=\"920.197\" y=\"-158.8\">Name</text>\n",
       "</g>\n",
       "<!-- 37&#45;&#45;38 -->\n",
       "<g class=\"edge\" id=\"edge38\"><title>37--38</title>\n",
       "<path d=\"M945,-215C945,-215 941.953,-195.192 939.619,-180.027\" fill=\"none\" stroke=\"black\"/>\n",
       "</g>\n",
       "<!-- 41 -->\n",
       "<g class=\"node\" id=\"node42\"><title>41</title>\n",
       "<text fill=\"#008040\" font-family=\"Courier,monospace\" font-size=\"14.00\" text-anchor=\"middle\" x=\"1009\" y=\"-157.8\">True</text>\n",
       "</g>\n",
       "<!-- 37&#45;&#45;41 -->\n",
       "<g class=\"edge\" id=\"edge41\"><title>37--41</title>\n",
       "<path d=\"M945,-215C945,-215 969.379,-195.192 988.044,-180.027\" fill=\"none\" stroke=\"black\"/>\n",
       "</g>\n",
       "<!-- 39 -->\n",
       "<g class=\"node\" id=\"node40\"><title>39</title>\n",
       "<text fill=\"#008040\" font-family=\"Courier,monospace\" font-size=\"14.00\" text-anchor=\"middle\" x=\"937\" y=\"-85.8\">&quot;d&quot;</text>\n",
       "</g>\n",
       "<!-- 38&#45;&#45;39 -->\n",
       "<g class=\"edge\" id=\"edge39\"><title>38--39</title>\n",
       "<path d=\"M945,-143C945,-143 941.953,-123.192 939.619,-108.027\" fill=\"none\" stroke=\"black\"/>\n",
       "</g>\n",
       "<!-- 40 -->\n",
       "<g class=\"node\" id=\"node41\"><title>40</title>\n",
       "<text fill=\"#008040\" font-family=\"Courier,monospace\" font-size=\"14.00\" text-anchor=\"middle\" x=\"1009\" y=\"-85.8\">Load</text>\n",
       "</g>\n",
       "<!-- 38&#45;&#45;40 -->\n",
       "<g class=\"edge\" id=\"edge40\"><title>38--40</title>\n",
       "<path d=\"M945,-143C945,-143 969.379,-123.192 988.044,-108.027\" fill=\"none\" stroke=\"black\"/>\n",
       "</g>\n",
       "</g>\n",
       "</svg>"
      ],
      "text/plain": [
       "<IPython.core.display.SVG object>"
      ]
     },
     "execution_count": 65,
     "metadata": {},
     "output_type": "execute_result"
    }
   ],
   "source": [
    "viz_code(divisors_code)"
   ]
  },
  {
   "cell_type": "markdown",
   "metadata": {},
   "source": [
    "Extract a representation of the AST:"
   ]
  },
  {
   "cell_type": "code",
   "execution_count": 377,
   "metadata": {},
   "outputs": [],
   "source": [
    "def get_ast_rep(node, name, parent_name, parent_type, parents=[]):\n",
    "    \n",
    "    try:\n",
    "    \n",
    "        node_name = node.__class__.__name__\n",
    "        parents.append(node_name)\n",
    "    \n",
    "        for field_name, field_value in zip(node._fields, (getattr(node, attr) for attr in node._fields)):\n",
    "            \n",
    "            if isinstance(field_value, ast.AST):\n",
    "                # print node_name, \n",
    "                get_ast_rep(field_value, field_name, node_name, 'AST', parents)\n",
    "\n",
    "            elif isinstance(field_value, list):\n",
    "                if field_name == 'body':\n",
    "                    field_name = _strip_docstring(field_value)\n",
    "                for item in field_value:\n",
    "                    # print node_name, \n",
    "                    get_ast_rep(item, field_name, node_name, 'LIST', parents),\n",
    "\n",
    "            elif isinstance(field_value, _basestring):\n",
    "                # parents.append(field_value)\n",
    "                # get_ast_rep(field_value, field_name, node_name, 'STRING', parents)\n",
    "                print [ field_value, node_name, parent_name, parent_type, parents ]\n",
    "            \n",
    "            else:\n",
    "                print [ node_name, parent_name, parent_type, parents ]\n",
    "            \n",
    "    except:\n",
    "        \n",
    "        pass"
   ]
  },
  {
   "cell_type": "code",
   "execution_count": 378,
   "metadata": {},
   "outputs": [
    {
     "data": {
      "text/plain": [
       "'def say_hello():\\n    print(\"Hello, World!\")\\n\\nsay_hello()'"
      ]
     },
     "execution_count": 378,
     "metadata": {},
     "output_type": "execute_result"
    }
   ],
   "source": [
    "program_code"
   ]
  },
  {
   "cell_type": "code",
   "execution_count": 379,
   "metadata": {},
   "outputs": [
    {
     "name": "stdout",
     "output_type": "stream",
     "text": [
      "['say_hello', 'FunctionDef', 'Module', 'LIST', ['Module', 'FunctionDef']]\n",
      "['arguments', 'FunctionDef', 'AST', ['Module', 'FunctionDef', 'arguments']]\n",
      "['arguments', 'FunctionDef', 'AST', ['Module', 'FunctionDef', 'arguments']]\n",
      "['Print', 'FunctionDef', 'LIST', ['Module', 'FunctionDef', 'arguments', 'Print']]\n",
      "['Hello, World!', 'Str', 'Print', 'LIST', ['Module', 'FunctionDef', 'arguments', 'Print', 'Str']]\n",
      "['Print', 'FunctionDef', 'LIST', ['Module', 'FunctionDef', 'arguments', 'Print', 'Str']]\n",
      "['say_hello', 'Name', 'Call', 'AST', ['Module', 'FunctionDef', 'arguments', 'Print', 'Str', 'Expr', 'Call', 'Name']]\n",
      "['Call', 'Expr', 'AST', ['Module', 'FunctionDef', 'arguments', 'Print', 'Str', 'Expr', 'Call', 'Name', 'Load']]\n",
      "['Call', 'Expr', 'AST', ['Module', 'FunctionDef', 'arguments', 'Print', 'Str', 'Expr', 'Call', 'Name', 'Load']]\n"
     ]
    }
   ],
   "source": [
    "get_ast_rep(ast.parse(program_code), '', 'TREE', '')"
   ]
  },
  {
   "cell_type": "code",
   "execution_count": 403,
   "metadata": {},
   "outputs": [
    {
     "data": {
      "image/svg+xml": [
       "<svg height=\"332pt\" viewBox=\"0.00 0.00 472.21 332.00\" width=\"472pt\" xmlns=\"http://www.w3.org/2000/svg\" xmlns:xlink=\"http://www.w3.org/1999/xlink\">\n",
       "<g class=\"graph\" id=\"graph0\" transform=\"scale(1 1) rotate(0) translate(4 328)\">\n",
       "<title>%3</title>\n",
       "<polygon fill=\"white\" points=\"-4,4 -4,-328 468.208,-328 468.208,4 -4,4\" stroke=\"none\"/>\n",
       "<!-- 0 -->\n",
       "<g class=\"node\" id=\"node1\"><title>0</title>\n",
       "<text fill=\"#004080\" font-family=\"Courier,monospace\" font-size=\"14.00\" font-weight=\"bold\" text-anchor=\"start\" x=\"230.003\" y=\"-302.8\">Module</text>\n",
       "</g>\n",
       "<!-- 1 -->\n",
       "<g class=\"node\" id=\"node2\"><title>1</title>\n",
       "<text fill=\"#004080\" font-family=\"Courier,monospace\" font-size=\"14.00\" font-weight=\"bold\" text-anchor=\"start\" x=\"143\" y=\"-230.8\">FunctionDef</text>\n",
       "</g>\n",
       "<!-- 0&#45;&#45;1 -->\n",
       "<g class=\"edge\" id=\"edge1\"><title>0--1</title>\n",
       "<path d=\"M255.208,-287C255.208,-287 230.067,-267.192 210.818,-252.027\" fill=\"none\" stroke=\"black\"/>\n",
       "</g>\n",
       "<!-- 8 -->\n",
       "<g class=\"node\" id=\"node9\"><title>8</title>\n",
       "<text fill=\"#004080\" font-family=\"Courier,monospace\" font-size=\"14.00\" font-weight=\"bold\" text-anchor=\"start\" x=\"305.405\" y=\"-230.8\">Expr</text>\n",
       "</g>\n",
       "<!-- 0&#45;&#45;8 -->\n",
       "<g class=\"edge\" id=\"edge8\"><title>0--8</title>\n",
       "<path d=\"M255.208,-287C255.208,-287 280.729,-267.192 300.269,-252.027\" fill=\"none\" stroke=\"black\"/>\n",
       "</g>\n",
       "<!-- 2 -->\n",
       "<g class=\"node\" id=\"node3\"><title>2</title>\n",
       "<text fill=\"#008040\" font-family=\"Courier,monospace\" font-size=\"14.00\" text-anchor=\"middle\" x=\"54.2075\" y=\"-157.8\">&quot;say_hello&quot;</text>\n",
       "</g>\n",
       "<!-- 1&#45;&#45;2 -->\n",
       "<g class=\"edge\" id=\"edge2\"><title>1--2</title>\n",
       "<path d=\"M186.208,-215C186.208,-215 135.926,-195.192 97.4293,-180.027\" fill=\"none\" stroke=\"black\"/>\n",
       "</g>\n",
       "<!-- 3 -->\n",
       "<g class=\"node\" id=\"node4\"><title>3</title>\n",
       "<text fill=\"#008040\" font-family=\"Courier,monospace\" font-size=\"14.00\" text-anchor=\"middle\" x=\"172.208\" y=\"-157.8\">arguments</text>\n",
       "</g>\n",
       "<!-- 1&#45;&#45;3 -->\n",
       "<g class=\"edge\" id=\"edge3\"><title>1--3</title>\n",
       "<path d=\"M186.208,-215C186.208,-215 180.875,-195.192 176.792,-180.027\" fill=\"none\" stroke=\"black\"/>\n",
       "</g>\n",
       "<!-- 4 -->\n",
       "<g class=\"node\" id=\"node5\"><title>4</title>\n",
       "<text fill=\"#004080\" font-family=\"Courier,monospace\" font-size=\"14.00\" font-weight=\"bold\" text-anchor=\"start\" x=\"244.204\" y=\"-158.8\">Print</text>\n",
       "</g>\n",
       "<!-- 1&#45;&#45;4 -->\n",
       "<g class=\"edge\" id=\"edge4\"><title>1--4</title>\n",
       "<path d=\"M186.208,-215C186.208,-215 216.3,-195.192 239.34,-180.027\" fill=\"none\" stroke=\"black\"/>\n",
       "</g>\n",
       "<!-- 5 -->\n",
       "<g class=\"node\" id=\"node6\"><title>5</title>\n",
       "<text fill=\"#004080\" font-family=\"Courier,monospace\" font-size=\"14.00\" font-weight=\"bold\" text-anchor=\"start\" x=\"181.605\" y=\"-86.8\">Str</text>\n",
       "</g>\n",
       "<!-- 4&#45;&#45;5 -->\n",
       "<g class=\"edge\" id=\"edge5\"><title>4--5</title>\n",
       "<path d=\"M258.208,-143C258.208,-143 233.829,-123.192 215.164,-108.027\" fill=\"none\" stroke=\"black\"/>\n",
       "</g>\n",
       "<!-- 7 -->\n",
       "<g class=\"node\" id=\"node8\"><title>7</title>\n",
       "<text fill=\"#008040\" font-family=\"Courier,monospace\" font-size=\"14.00\" text-anchor=\"middle\" x=\"266.208\" y=\"-85.8\">True</text>\n",
       "</g>\n",
       "<!-- 4&#45;&#45;7 -->\n",
       "<g class=\"edge\" id=\"edge7\"><title>4--7</title>\n",
       "<path d=\"M258.208,-143C258.208,-143 261.255,-123.192 263.588,-108.027\" fill=\"none\" stroke=\"black\"/>\n",
       "</g>\n",
       "<!-- 6 -->\n",
       "<g class=\"node\" id=\"node7\"><title>6</title>\n",
       "<text fill=\"#008040\" font-family=\"Courier,monospace\" font-size=\"14.00\" text-anchor=\"middle\" x=\"194.208\" y=\"-13.8\">&quot;Hello, World!&quot;</text>\n",
       "</g>\n",
       "<!-- 5&#45;&#45;6 -->\n",
       "<g class=\"edge\" id=\"edge6\"><title>5--6</title>\n",
       "<path d=\"M194.208,-71.6966C194.208,-60.8463 194.208,-46.9167 194.208,-36.1043\" fill=\"none\" stroke=\"black\"/>\n",
       "</g>\n",
       "<!-- 9 -->\n",
       "<g class=\"node\" id=\"node10\"><title>9</title>\n",
       "<text fill=\"#004080\" font-family=\"Courier,monospace\" font-size=\"14.00\" font-weight=\"bold\" text-anchor=\"start\" x=\"322.405\" y=\"-158.8\">Call</text>\n",
       "</g>\n",
       "<!-- 8&#45;&#45;9 -->\n",
       "<g class=\"edge\" id=\"edge9\"><title>8--9</title>\n",
       "<path d=\"M326.41,-215.697C329.045,-204.846 332.428,-190.917 335.054,-180.104\" fill=\"none\" stroke=\"black\"/>\n",
       "</g>\n",
       "<!-- 10 -->\n",
       "<g class=\"node\" id=\"node11\"><title>10</title>\n",
       "<text fill=\"#004080\" font-family=\"Courier,monospace\" font-size=\"14.00\" font-weight=\"bold\" text-anchor=\"start\" x=\"322.405\" y=\"-86.8\">Name</text>\n",
       "</g>\n",
       "<!-- 9&#45;&#45;10 -->\n",
       "<g class=\"edge\" id=\"edge10\"><title>9--10</title>\n",
       "<path d=\"M339.208,-143.697C339.208,-132.846 339.208,-118.917 339.208,-108.104\" fill=\"none\" stroke=\"black\"/>\n",
       "</g>\n",
       "<!-- 11 -->\n",
       "<g class=\"node\" id=\"node12\"><title>11</title>\n",
       "<text fill=\"#008040\" font-family=\"Courier,monospace\" font-size=\"14.00\" text-anchor=\"middle\" x=\"338.208\" y=\"-13.8\">&quot;say_hello&quot;</text>\n",
       "</g>\n",
       "<!-- 10&#45;&#45;11 -->\n",
       "<g class=\"edge\" id=\"edge11\"><title>10--11</title>\n",
       "<path d=\"M348.208,-71C348.208,-71 344.398,-51.1921 341.482,-36.0267\" fill=\"none\" stroke=\"black\"/>\n",
       "</g>\n",
       "<!-- 12 -->\n",
       "<g class=\"node\" id=\"node13\"><title>12</title>\n",
       "<text fill=\"#008040\" font-family=\"Courier,monospace\" font-size=\"14.00\" text-anchor=\"middle\" x=\"437.208\" y=\"-13.8\">Load</text>\n",
       "</g>\n",
       "<!-- 10&#45;&#45;12 -->\n",
       "<g class=\"edge\" id=\"edge12\"><title>10--12</title>\n",
       "<path d=\"M348.208,-71C348.208,-71 383.848,-50.1765 410.021,-34.8843\" fill=\"none\" stroke=\"black\"/>\n",
       "</g>\n",
       "</g>\n",
       "</svg>"
      ],
      "text/plain": [
       "<IPython.core.display.SVG object>"
      ]
     },
     "execution_count": 403,
     "metadata": {},
     "output_type": "execute_result"
    }
   ],
   "source": [
    "viz_code(program_code)"
   ]
  },
  {
   "cell_type": "code",
   "execution_count": 380,
   "metadata": {},
   "outputs": [
    {
     "name": "stdout",
     "output_type": "stream",
     "text": [
      "['a', 'Name', 'Assign', 'LIST', ['Module', 'FunctionDef', 'arguments', 'Print', 'Str', 'Expr', 'Call', 'Name', 'Load', 'Module', 'Assign', 'Name']]\n",
      "['int', 'Name', 'Call', 'AST', ['Module', 'FunctionDef', 'arguments', 'Print', 'Str', 'Expr', 'Call', 'Name', 'Load', 'Module', 'Assign', 'Name', 'Store', 'Call', 'Name']]\n",
      "['raw_input', 'Name', 'Call', 'AST', ['Module', 'FunctionDef', 'arguments', 'Print', 'Str', 'Expr', 'Call', 'Name', 'Load', 'Module', 'Assign', 'Name', 'Store', 'Call', 'Name', 'Load', 'Call', 'Name']]\n",
      "['Call', 'Call', 'LIST', ['Module', 'FunctionDef', 'arguments', 'Print', 'Str', 'Expr', 'Call', 'Name', 'Load', 'Module', 'Assign', 'Name', 'Store', 'Call', 'Name', 'Load', 'Call', 'Name', 'Load']]\n",
      "['Call', 'Call', 'LIST', ['Module', 'FunctionDef', 'arguments', 'Print', 'Str', 'Expr', 'Call', 'Name', 'Load', 'Module', 'Assign', 'Name', 'Store', 'Call', 'Name', 'Load', 'Call', 'Name', 'Load']]\n",
      "['Call', 'Assign', 'AST', ['Module', 'FunctionDef', 'arguments', 'Print', 'Str', 'Expr', 'Call', 'Name', 'Load', 'Module', 'Assign', 'Name', 'Store', 'Call', 'Name', 'Load', 'Call', 'Name', 'Load']]\n",
      "['Call', 'Assign', 'AST', ['Module', 'FunctionDef', 'arguments', 'Print', 'Str', 'Expr', 'Call', 'Name', 'Load', 'Module', 'Assign', 'Name', 'Store', 'Call', 'Name', 'Load', 'Call', 'Name', 'Load']]\n",
      "['b', 'Name', 'Assign', 'LIST', ['Module', 'FunctionDef', 'arguments', 'Print', 'Str', 'Expr', 'Call', 'Name', 'Load', 'Module', 'Assign', 'Name', 'Store', 'Call', 'Name', 'Load', 'Call', 'Name', 'Load', 'Assign', 'Name']]\n",
      "['int', 'Name', 'Call', 'AST', ['Module', 'FunctionDef', 'arguments', 'Print', 'Str', 'Expr', 'Call', 'Name', 'Load', 'Module', 'Assign', 'Name', 'Store', 'Call', 'Name', 'Load', 'Call', 'Name', 'Load', 'Assign', 'Name', 'Store', 'Call', 'Name']]\n",
      "['raw_input', 'Name', 'Call', 'AST', ['Module', 'FunctionDef', 'arguments', 'Print', 'Str', 'Expr', 'Call', 'Name', 'Load', 'Module', 'Assign', 'Name', 'Store', 'Call', 'Name', 'Load', 'Call', 'Name', 'Load', 'Assign', 'Name', 'Store', 'Call', 'Name', 'Load', 'Call', 'Name']]\n",
      "['Call', 'Call', 'LIST', ['Module', 'FunctionDef', 'arguments', 'Print', 'Str', 'Expr', 'Call', 'Name', 'Load', 'Module', 'Assign', 'Name', 'Store', 'Call', 'Name', 'Load', 'Call', 'Name', 'Load', 'Assign', 'Name', 'Store', 'Call', 'Name', 'Load', 'Call', 'Name', 'Load']]\n",
      "['Call', 'Call', 'LIST', ['Module', 'FunctionDef', 'arguments', 'Print', 'Str', 'Expr', 'Call', 'Name', 'Load', 'Module', 'Assign', 'Name', 'Store', 'Call', 'Name', 'Load', 'Call', 'Name', 'Load', 'Assign', 'Name', 'Store', 'Call', 'Name', 'Load', 'Call', 'Name', 'Load']]\n",
      "['Call', 'Assign', 'AST', ['Module', 'FunctionDef', 'arguments', 'Print', 'Str', 'Expr', 'Call', 'Name', 'Load', 'Module', 'Assign', 'Name', 'Store', 'Call', 'Name', 'Load', 'Call', 'Name', 'Load', 'Assign', 'Name', 'Store', 'Call', 'Name', 'Load', 'Call', 'Name', 'Load']]\n",
      "['Call', 'Assign', 'AST', ['Module', 'FunctionDef', 'arguments', 'Print', 'Str', 'Expr', 'Call', 'Name', 'Load', 'Module', 'Assign', 'Name', 'Store', 'Call', 'Name', 'Load', 'Call', 'Name', 'Load', 'Assign', 'Name', 'Store', 'Call', 'Name', 'Load', 'Call', 'Name', 'Load']]\n",
      "['Print', 'Module', 'LIST', ['Module', 'FunctionDef', 'arguments', 'Print', 'Str', 'Expr', 'Call', 'Name', 'Load', 'Module', 'Assign', 'Name', 'Store', 'Call', 'Name', 'Load', 'Call', 'Name', 'Load', 'Assign', 'Name', 'Store', 'Call', 'Name', 'Load', 'Call', 'Name', 'Load', 'Print']]\n",
      "['a', 'Name', 'BinOp', 'AST', ['Module', 'FunctionDef', 'arguments', 'Print', 'Str', 'Expr', 'Call', 'Name', 'Load', 'Module', 'Assign', 'Name', 'Store', 'Call', 'Name', 'Load', 'Call', 'Name', 'Load', 'Assign', 'Name', 'Store', 'Call', 'Name', 'Load', 'Call', 'Name', 'Load', 'Print', 'BinOp', 'Name']]\n",
      "['b', 'Name', 'BinOp', 'AST', ['Module', 'FunctionDef', 'arguments', 'Print', 'Str', 'Expr', 'Call', 'Name', 'Load', 'Module', 'Assign', 'Name', 'Store', 'Call', 'Name', 'Load', 'Call', 'Name', 'Load', 'Assign', 'Name', 'Store', 'Call', 'Name', 'Load', 'Call', 'Name', 'Load', 'Print', 'BinOp', 'Name', 'Load', 'Add', 'Name']]\n",
      "['Print', 'Module', 'LIST', ['Module', 'FunctionDef', 'arguments', 'Print', 'Str', 'Expr', 'Call', 'Name', 'Load', 'Module', 'Assign', 'Name', 'Store', 'Call', 'Name', 'Load', 'Call', 'Name', 'Load', 'Assign', 'Name', 'Store', 'Call', 'Name', 'Load', 'Call', 'Name', 'Load', 'Print', 'BinOp', 'Name', 'Load', 'Add', 'Name', 'Load']]\n"
     ]
    }
   ],
   "source": [
    "get_ast_rep(ast.parse(program), '', 'TREE', '')"
   ]
  },
  {
   "cell_type": "code",
   "execution_count": 351,
   "metadata": {},
   "outputs": [
    {
     "data": {
      "image/svg+xml": [
       "<svg height=\"404pt\" viewBox=\"0.00 0.00 862.00 404.00\" width=\"862pt\" xmlns=\"http://www.w3.org/2000/svg\" xmlns:xlink=\"http://www.w3.org/1999/xlink\">\n",
       "<g class=\"graph\" id=\"graph0\" transform=\"scale(1 1) rotate(0) translate(4 400)\">\n",
       "<title>%3</title>\n",
       "<polygon fill=\"white\" points=\"-4,4 -4,-400 858,-400 858,4 -4,4\" stroke=\"none\"/>\n",
       "<!-- 0 -->\n",
       "<g class=\"node\" id=\"node1\"><title>0</title>\n",
       "<text fill=\"#004080\" font-family=\"Courier,monospace\" font-size=\"14.00\" font-weight=\"bold\" text-anchor=\"start\" x=\"404.796\" y=\"-374.8\">Module</text>\n",
       "</g>\n",
       "<!-- 1 -->\n",
       "<g class=\"node\" id=\"node2\"><title>1</title>\n",
       "<text fill=\"#004080\" font-family=\"Courier,monospace\" font-size=\"14.00\" font-weight=\"bold\" text-anchor=\"start\" x=\"185.796\" y=\"-302.8\">Assign</text>\n",
       "</g>\n",
       "<!-- 0&#45;&#45;1 -->\n",
       "<g class=\"edge\" id=\"edge1\"><title>0--1</title>\n",
       "<path d=\"M430,-359C430,-359 305.526,-329.445 244.261,-314.898\" fill=\"none\" stroke=\"black\"/>\n",
       "</g>\n",
       "<!-- 13 -->\n",
       "<g class=\"node\" id=\"node14\"><title>13</title>\n",
       "<text fill=\"#004080\" font-family=\"Courier,monospace\" font-size=\"14.00\" font-weight=\"bold\" text-anchor=\"start\" x=\"404.796\" y=\"-302.8\">Assign</text>\n",
       "</g>\n",
       "<!-- 0&#45;&#45;13 -->\n",
       "<g class=\"edge\" id=\"edge13\"><title>0--13</title>\n",
       "<path d=\"M430,-359C430,-359 430,-339.192 430,-324.027\" fill=\"none\" stroke=\"black\"/>\n",
       "</g>\n",
       "<!-- 25 -->\n",
       "<g class=\"node\" id=\"node26\"><title>25</title>\n",
       "<text fill=\"#004080\" font-family=\"Courier,monospace\" font-size=\"14.00\" font-weight=\"bold\" text-anchor=\"start\" x=\"625.997\" y=\"-302.8\">Print</text>\n",
       "</g>\n",
       "<!-- 0&#45;&#45;25 -->\n",
       "<g class=\"edge\" id=\"edge25\"><title>0--25</title>\n",
       "<path d=\"M430,-359C430,-359 558.503,-328.207 617.734,-314.013\" fill=\"none\" stroke=\"black\"/>\n",
       "</g>\n",
       "<!-- 2 -->\n",
       "<g class=\"node\" id=\"node3\"><title>2</title>\n",
       "<text fill=\"#004080\" font-family=\"Courier,monospace\" font-size=\"14.00\" font-weight=\"bold\" text-anchor=\"start\" x=\"84.1973\" y=\"-230.8\">Name</text>\n",
       "</g>\n",
       "<!-- 1&#45;&#45;2 -->\n",
       "<g class=\"edge\" id=\"edge2\"><title>1--2</title>\n",
       "<path d=\"M201,-287C201,-287 157.677,-264.472 128.061,-249.072\" fill=\"none\" stroke=\"black\"/>\n",
       "</g>\n",
       "<!-- 5 -->\n",
       "<g class=\"node\" id=\"node6\"><title>5</title>\n",
       "<text fill=\"#004080\" font-family=\"Courier,monospace\" font-size=\"14.00\" font-weight=\"bold\" text-anchor=\"start\" x=\"194.197\" y=\"-230.8\">Call</text>\n",
       "</g>\n",
       "<!-- 1&#45;&#45;5 -->\n",
       "<g class=\"edge\" id=\"edge5\"><title>1--5</title>\n",
       "<path d=\"M201,-287C201,-287 204.809,-267.192 207.726,-252.027\" fill=\"none\" stroke=\"black\"/>\n",
       "</g>\n",
       "<!-- 3 -->\n",
       "<g class=\"node\" id=\"node4\"><title>3</title>\n",
       "<text fill=\"#008040\" font-family=\"Courier,monospace\" font-size=\"14.00\" text-anchor=\"middle\" x=\"27\" y=\"-157.8\">&quot;a&quot;</text>\n",
       "</g>\n",
       "<!-- 2&#45;&#45;3 -->\n",
       "<g class=\"edge\" id=\"edge3\"><title>2--3</title>\n",
       "<path d=\"M93,-215C93,-215 67.8593,-195.192 48.6109,-180.027\" fill=\"none\" stroke=\"black\"/>\n",
       "</g>\n",
       "<!-- 4 -->\n",
       "<g class=\"node\" id=\"node5\"><title>4</title>\n",
       "<text fill=\"#008040\" font-family=\"Courier,monospace\" font-size=\"14.00\" text-anchor=\"middle\" x=\"101\" y=\"-157.8\">Store</text>\n",
       "</g>\n",
       "<!-- 2&#45;&#45;4 -->\n",
       "<g class=\"edge\" id=\"edge4\"><title>2--4</title>\n",
       "<path d=\"M93,-215C93,-215 96.0474,-195.192 98.3805,-180.027\" fill=\"none\" stroke=\"black\"/>\n",
       "</g>\n",
       "<!-- 6 -->\n",
       "<g class=\"node\" id=\"node7\"><title>6</title>\n",
       "<text fill=\"#004080\" font-family=\"Courier,monospace\" font-size=\"14.00\" font-weight=\"bold\" text-anchor=\"start\" x=\"158.197\" y=\"-158.8\">Name</text>\n",
       "</g>\n",
       "<!-- 5&#45;&#45;6 -->\n",
       "<g class=\"edge\" id=\"edge6\"><title>5--6</title>\n",
       "<path d=\"M211,-215C211,-215 197.287,-195.192 186.788,-180.027\" fill=\"none\" stroke=\"black\"/>\n",
       "</g>\n",
       "<!-- 9 -->\n",
       "<g class=\"node\" id=\"node10\"><title>9</title>\n",
       "<text fill=\"#004080\" font-family=\"Courier,monospace\" font-size=\"14.00\" font-weight=\"bold\" text-anchor=\"start\" x=\"230.197\" y=\"-158.8\">Call</text>\n",
       "</g>\n",
       "<!-- 5&#45;&#45;9 -->\n",
       "<g class=\"edge\" id=\"edge9\"><title>5--9</title>\n",
       "<path d=\"M211,-215C211,-215 224.713,-195.192 235.212,-180.027\" fill=\"none\" stroke=\"black\"/>\n",
       "</g>\n",
       "<!-- 7 -->\n",
       "<g class=\"node\" id=\"node8\"><title>7</title>\n",
       "<text fill=\"#008040\" font-family=\"Courier,monospace\" font-size=\"14.00\" text-anchor=\"middle\" x=\"101\" y=\"-85.8\">&quot;int&quot;</text>\n",
       "</g>\n",
       "<!-- 6&#45;&#45;7 -->\n",
       "<g class=\"edge\" id=\"edge7\"><title>6--7</title>\n",
       "<path d=\"M167,-143C167,-143 141.859,-123.192 122.611,-108.027\" fill=\"none\" stroke=\"black\"/>\n",
       "</g>\n",
       "<!-- 8 -->\n",
       "<g class=\"node\" id=\"node9\"><title>8</title>\n",
       "<text fill=\"#008040\" font-family=\"Courier,monospace\" font-size=\"14.00\" text-anchor=\"middle\" x=\"175\" y=\"-85.8\">Load</text>\n",
       "</g>\n",
       "<!-- 6&#45;&#45;8 -->\n",
       "<g class=\"edge\" id=\"edge8\"><title>6--8</title>\n",
       "<path d=\"M167,-143C167,-143 170.047,-123.192 172.381,-108.027\" fill=\"none\" stroke=\"black\"/>\n",
       "</g>\n",
       "<!-- 10 -->\n",
       "<g class=\"node\" id=\"node11\"><title>10</title>\n",
       "<text fill=\"#004080\" font-family=\"Courier,monospace\" font-size=\"14.00\" font-weight=\"bold\" text-anchor=\"start\" x=\"230.197\" y=\"-86.8\">Name</text>\n",
       "</g>\n",
       "<!-- 9&#45;&#45;10 -->\n",
       "<g class=\"edge\" id=\"edge10\"><title>9--10</title>\n",
       "<path d=\"M247,-143.697C247,-132.846 247,-118.917 247,-108.104\" fill=\"none\" stroke=\"black\"/>\n",
       "</g>\n",
       "<!-- 11 -->\n",
       "<g class=\"node\" id=\"node12\"><title>11</title>\n",
       "<text fill=\"#008040\" font-family=\"Courier,monospace\" font-size=\"14.00\" text-anchor=\"middle\" x=\"221\" y=\"-13.8\">&quot;raw_input&quot;</text>\n",
       "</g>\n",
       "<!-- 10&#45;&#45;11 -->\n",
       "<g class=\"edge\" id=\"edge11\"><title>10--11</title>\n",
       "<path d=\"M251,-71C251,-71 239.572,-51.1921 230.823,-36.0267\" fill=\"none\" stroke=\"black\"/>\n",
       "</g>\n",
       "<!-- 12 -->\n",
       "<g class=\"node\" id=\"node13\"><title>12</title>\n",
       "<text fill=\"#008040\" font-family=\"Courier,monospace\" font-size=\"14.00\" text-anchor=\"middle\" x=\"320\" y=\"-13.8\">Load</text>\n",
       "</g>\n",
       "<!-- 10&#45;&#45;12 -->\n",
       "<g class=\"edge\" id=\"edge12\"><title>10--12</title>\n",
       "<path d=\"M251,-71C251,-71 277.284,-51.1921 297.407,-36.0267\" fill=\"none\" stroke=\"black\"/>\n",
       "</g>\n",
       "<!-- 14 -->\n",
       "<g class=\"node\" id=\"node15\"><title>14</title>\n",
       "<text fill=\"#004080\" font-family=\"Courier,monospace\" font-size=\"14.00\" font-weight=\"bold\" text-anchor=\"start\" x=\"376.197\" y=\"-230.8\">Name</text>\n",
       "</g>\n",
       "<!-- 13&#45;&#45;14 -->\n",
       "<g class=\"edge\" id=\"edge14\"><title>13--14</title>\n",
       "<path d=\"M430,-287C430,-287 415.906,-267.192 405.115,-252.027\" fill=\"none\" stroke=\"black\"/>\n",
       "</g>\n",
       "<!-- 17 -->\n",
       "<g class=\"node\" id=\"node18\"><title>17</title>\n",
       "<text fill=\"#004080\" font-family=\"Courier,monospace\" font-size=\"14.00\" font-weight=\"bold\" text-anchor=\"start\" x=\"450.197\" y=\"-230.8\">Call</text>\n",
       "</g>\n",
       "<!-- 13&#45;&#45;17 -->\n",
       "<g class=\"edge\" id=\"edge17\"><title>13--17</title>\n",
       "<path d=\"M430,-287C430,-287 444.094,-267.192 454.885,-252.027\" fill=\"none\" stroke=\"black\"/>\n",
       "</g>\n",
       "<!-- 15 -->\n",
       "<g class=\"node\" id=\"node16\"><title>15</title>\n",
       "<text fill=\"#008040\" font-family=\"Courier,monospace\" font-size=\"14.00\" text-anchor=\"middle\" x=\"319\" y=\"-157.8\">&quot;b&quot;</text>\n",
       "</g>\n",
       "<!-- 14&#45;&#45;15 -->\n",
       "<g class=\"edge\" id=\"edge15\"><title>14--15</title>\n",
       "<path d=\"M385,-215C385,-215 359.859,-195.192 340.611,-180.027\" fill=\"none\" stroke=\"black\"/>\n",
       "</g>\n",
       "<!-- 16 -->\n",
       "<g class=\"node\" id=\"node17\"><title>16</title>\n",
       "<text fill=\"#008040\" font-family=\"Courier,monospace\" font-size=\"14.00\" text-anchor=\"middle\" x=\"393\" y=\"-157.8\">Store</text>\n",
       "</g>\n",
       "<!-- 14&#45;&#45;16 -->\n",
       "<g class=\"edge\" id=\"edge16\"><title>14--16</title>\n",
       "<path d=\"M385,-215C385,-215 388.047,-195.192 390.381,-180.027\" fill=\"none\" stroke=\"black\"/>\n",
       "</g>\n",
       "<!-- 18 -->\n",
       "<g class=\"node\" id=\"node19\"><title>18</title>\n",
       "<text fill=\"#004080\" font-family=\"Courier,monospace\" font-size=\"14.00\" font-weight=\"bold\" text-anchor=\"start\" x=\"450.197\" y=\"-158.8\">Name</text>\n",
       "</g>\n",
       "<!-- 17&#45;&#45;18 -->\n",
       "<g class=\"edge\" id=\"edge18\"><title>17--18</title>\n",
       "<path d=\"M475,-215C475,-215 471.953,-195.192 469.619,-180.027\" fill=\"none\" stroke=\"black\"/>\n",
       "</g>\n",
       "<!-- 21 -->\n",
       "<g class=\"node\" id=\"node22\"><title>21</title>\n",
       "<text fill=\"#004080\" font-family=\"Courier,monospace\" font-size=\"14.00\" font-weight=\"bold\" text-anchor=\"start\" x=\"522.197\" y=\"-158.8\">Call</text>\n",
       "</g>\n",
       "<!-- 17&#45;&#45;21 -->\n",
       "<g class=\"edge\" id=\"edge21\"><title>17--21</title>\n",
       "<path d=\"M475,-215C475,-215 499.379,-195.192 518.044,-180.027\" fill=\"none\" stroke=\"black\"/>\n",
       "</g>\n",
       "<!-- 19 -->\n",
       "<g class=\"node\" id=\"node20\"><title>19</title>\n",
       "<text fill=\"#008040\" font-family=\"Courier,monospace\" font-size=\"14.00\" text-anchor=\"middle\" x=\"393\" y=\"-85.8\">&quot;int&quot;</text>\n",
       "</g>\n",
       "<!-- 18&#45;&#45;19 -->\n",
       "<g class=\"edge\" id=\"edge19\"><title>18--19</title>\n",
       "<path d=\"M459,-143C459,-143 433.859,-123.192 414.611,-108.027\" fill=\"none\" stroke=\"black\"/>\n",
       "</g>\n",
       "<!-- 20 -->\n",
       "<g class=\"node\" id=\"node21\"><title>20</title>\n",
       "<text fill=\"#008040\" font-family=\"Courier,monospace\" font-size=\"14.00\" text-anchor=\"middle\" x=\"467\" y=\"-85.8\">Load</text>\n",
       "</g>\n",
       "<!-- 18&#45;&#45;20 -->\n",
       "<g class=\"edge\" id=\"edge20\"><title>18--20</title>\n",
       "<path d=\"M459,-143C459,-143 462.047,-123.192 464.381,-108.027\" fill=\"none\" stroke=\"black\"/>\n",
       "</g>\n",
       "<!-- 22 -->\n",
       "<g class=\"node\" id=\"node23\"><title>22</title>\n",
       "<text fill=\"#004080\" font-family=\"Courier,monospace\" font-size=\"14.00\" font-weight=\"bold\" text-anchor=\"start\" x=\"522.197\" y=\"-86.8\">Name</text>\n",
       "</g>\n",
       "<!-- 21&#45;&#45;22 -->\n",
       "<g class=\"edge\" id=\"edge22\"><title>21--22</title>\n",
       "<path d=\"M539,-143.697C539,-132.846 539,-118.917 539,-108.104\" fill=\"none\" stroke=\"black\"/>\n",
       "</g>\n",
       "<!-- 23 -->\n",
       "<g class=\"node\" id=\"node24\"><title>23</title>\n",
       "<text fill=\"#008040\" font-family=\"Courier,monospace\" font-size=\"14.00\" text-anchor=\"middle\" x=\"466\" y=\"-13.8\">&quot;raw_input&quot;</text>\n",
       "</g>\n",
       "<!-- 22&#45;&#45;23 -->\n",
       "<g class=\"edge\" id=\"edge23\"><title>22--23</title>\n",
       "<path d=\"M535,-71C535,-71 508.716,-51.1921 488.593,-36.0267\" fill=\"none\" stroke=\"black\"/>\n",
       "</g>\n",
       "<!-- 24 -->\n",
       "<g class=\"node\" id=\"node25\"><title>24</title>\n",
       "<text fill=\"#008040\" font-family=\"Courier,monospace\" font-size=\"14.00\" text-anchor=\"middle\" x=\"565\" y=\"-13.8\">Load</text>\n",
       "</g>\n",
       "<!-- 22&#45;&#45;24 -->\n",
       "<g class=\"edge\" id=\"edge24\"><title>22--24</title>\n",
       "<path d=\"M535,-71C535,-71 546.428,-51.1921 555.177,-36.0267\" fill=\"none\" stroke=\"black\"/>\n",
       "</g>\n",
       "<!-- 26 -->\n",
       "<g class=\"node\" id=\"node27\"><title>26</title>\n",
       "<text fill=\"#004080\" font-family=\"Courier,monospace\" font-size=\"14.00\" font-weight=\"bold\" text-anchor=\"start\" x=\"625.997\" y=\"-230.8\">BinOp</text>\n",
       "</g>\n",
       "<!-- 25&#45;&#45;26 -->\n",
       "<g class=\"edge\" id=\"edge26\"><title>25--26</title>\n",
       "<path d=\"M655,-287C655,-287 651.953,-267.192 649.619,-252.027\" fill=\"none\" stroke=\"black\"/>\n",
       "</g>\n",
       "<!-- 34 -->\n",
       "<g class=\"node\" id=\"node35\"><title>34</title>\n",
       "<text fill=\"#008040\" font-family=\"Courier,monospace\" font-size=\"14.00\" text-anchor=\"middle\" x=\"721\" y=\"-229.8\">True</text>\n",
       "</g>\n",
       "<!-- 25&#45;&#45;34 -->\n",
       "<g class=\"edge\" id=\"edge34\"><title>25--34</title>\n",
       "<path d=\"M655,-287C655,-287 680.141,-267.192 699.389,-252.027\" fill=\"none\" stroke=\"black\"/>\n",
       "</g>\n",
       "<!-- 27 -->\n",
       "<g class=\"node\" id=\"node28\"><title>27</title>\n",
       "<text fill=\"#004080\" font-family=\"Courier,monospace\" font-size=\"14.00\" font-weight=\"bold\" text-anchor=\"start\" x=\"594.197\" y=\"-158.8\">Name</text>\n",
       "</g>\n",
       "<!-- 26&#45;&#45;27 -->\n",
       "<g class=\"edge\" id=\"edge27\"><title>26--27</title>\n",
       "<path d=\"M653,-215C653,-215 637.001,-195.192 624.752,-180.027\" fill=\"none\" stroke=\"black\"/>\n",
       "</g>\n",
       "<!-- 30 -->\n",
       "<g class=\"node\" id=\"node31\"><title>30</title>\n",
       "<text fill=\"#008040\" font-family=\"Courier,monospace\" font-size=\"14.00\" text-anchor=\"middle\" x=\"683\" y=\"-157.8\">Add</text>\n",
       "</g>\n",
       "<!-- 26&#45;&#45;30 -->\n",
       "<g class=\"edge\" id=\"edge30\"><title>26--30</title>\n",
       "<path d=\"M653,-215C653,-215 664.428,-195.192 673.177,-180.027\" fill=\"none\" stroke=\"black\"/>\n",
       "</g>\n",
       "<!-- 31 -->\n",
       "<g class=\"node\" id=\"node32\"><title>31</title>\n",
       "<text fill=\"#004080\" font-family=\"Courier,monospace\" font-size=\"14.00\" font-weight=\"bold\" text-anchor=\"start\" x=\"738.197\" y=\"-158.8\">Name</text>\n",
       "</g>\n",
       "<!-- 26&#45;&#45;31 -->\n",
       "<g class=\"edge\" id=\"edge31\"><title>26--31</title>\n",
       "<path d=\"M653,-215C653,-215 697.716,-192.204 727.934,-176.799\" fill=\"none\" stroke=\"black\"/>\n",
       "</g>\n",
       "<!-- 28 -->\n",
       "<g class=\"node\" id=\"node29\"><title>28</title>\n",
       "<text fill=\"#008040\" font-family=\"Courier,monospace\" font-size=\"14.00\" text-anchor=\"middle\" x=\"611\" y=\"-85.8\">&quot;a&quot;</text>\n",
       "</g>\n",
       "<!-- 27&#45;&#45;28 -->\n",
       "<g class=\"edge\" id=\"edge28\"><title>27--28</title>\n",
       "<path d=\"M619,-143C619,-143 615.953,-123.192 613.619,-108.027\" fill=\"none\" stroke=\"black\"/>\n",
       "</g>\n",
       "<!-- 29 -->\n",
       "<g class=\"node\" id=\"node30\"><title>29</title>\n",
       "<text fill=\"#008040\" font-family=\"Courier,monospace\" font-size=\"14.00\" text-anchor=\"middle\" x=\"683\" y=\"-85.8\">Load</text>\n",
       "</g>\n",
       "<!-- 27&#45;&#45;29 -->\n",
       "<g class=\"edge\" id=\"edge29\"><title>27--29</title>\n",
       "<path d=\"M619,-143C619,-143 643.379,-123.192 662.044,-108.027\" fill=\"none\" stroke=\"black\"/>\n",
       "</g>\n",
       "<!-- 32 -->\n",
       "<g class=\"node\" id=\"node33\"><title>32</title>\n",
       "<text fill=\"#008040\" font-family=\"Courier,monospace\" font-size=\"14.00\" text-anchor=\"middle\" x=\"755\" y=\"-85.8\">&quot;b&quot;</text>\n",
       "</g>\n",
       "<!-- 31&#45;&#45;32 -->\n",
       "<g class=\"edge\" id=\"edge32\"><title>31--32</title>\n",
       "<path d=\"M763,-143C763,-143 759.953,-123.192 757.619,-108.027\" fill=\"none\" stroke=\"black\"/>\n",
       "</g>\n",
       "<!-- 33 -->\n",
       "<g class=\"node\" id=\"node34\"><title>33</title>\n",
       "<text fill=\"#008040\" font-family=\"Courier,monospace\" font-size=\"14.00\" text-anchor=\"middle\" x=\"827\" y=\"-85.8\">Load</text>\n",
       "</g>\n",
       "<!-- 31&#45;&#45;33 -->\n",
       "<g class=\"edge\" id=\"edge33\"><title>31--33</title>\n",
       "<path d=\"M763,-143C763,-143 787.379,-123.192 806.044,-108.027\" fill=\"none\" stroke=\"black\"/>\n",
       "</g>\n",
       "</g>\n",
       "</svg>"
      ],
      "text/plain": [
       "<IPython.core.display.SVG object>"
      ]
     },
     "execution_count": 351,
     "metadata": {},
     "output_type": "execute_result"
    }
   ],
   "source": [
    "viz_code(program)"
   ]
  },
  {
   "cell_type": "markdown",
   "metadata": {
    "collapsed": true
   },
   "source": [
    "## Examples"
   ]
  },
  {
   "cell_type": "code",
   "execution_count": 47,
   "metadata": {
    "collapsed": true
   },
   "outputs": [],
   "source": [
    "program_a = '''\n",
    "def get_name(name):\n",
    "    print 'Hi %s' % (name)\n",
    "    \n",
    "get_name('David')\n",
    "'''"
   ]
  },
  {
   "cell_type": "code",
   "execution_count": 48,
   "metadata": {
    "collapsed": true
   },
   "outputs": [],
   "source": [
    "program_sum = '''\n",
    "#!/usr/bin/env python\n",
    "\n",
    "# read from input\n",
    "a = int(raw_input()) # first\n",
    "b = int(raw_input()) # second\n",
    "\n",
    "print a + b'''"
   ]
  },
  {
   "cell_type": "code",
   "execution_count": 49,
   "metadata": {
    "collapsed": true
   },
   "outputs": [],
   "source": [
    "program_score = '''\n",
    "n = input()\n",
    "i = 0\n",
    "away_score = (away_goals * 3) + away_points\n",
    "home_score = (home_goals * 3) + home_points \n",
    "while n < 4:\n",
    "    n = input()\n",
    "    if home_score > away_score :\n",
    "        print \"home win\"\n",
    "    elif home_score < away_score :\n",
    "        print \"away win\"\n",
    "    else:\n",
    "        print \"draw\"\n",
    "    i = i + 1\n",
    "'''"
   ]
  },
  {
   "cell_type": "code",
   "execution_count": 50,
   "metadata": {},
   "outputs": [],
   "source": [
    "program_codes = [\n",
    "    program_a,\n",
    "    program_sum,\n",
    "    program_score\n",
    "]"
   ]
  },
  {
   "cell_type": "code",
   "execution_count": 51,
   "metadata": {},
   "outputs": [],
   "source": [
    "docs = [ remove_comments(p) for p in program_codes ]"
   ]
  },
  {
   "cell_type": "code",
   "execution_count": 52,
   "metadata": {
    "collapsed": true
   },
   "outputs": [],
   "source": [
    "t = Tokenizer(num_words=None, \n",
    "              filters='\\t\\n', \n",
    "              lower=True, \n",
    "              split=' ', \n",
    "              char_level=False)"
   ]
  },
  {
   "cell_type": "code",
   "execution_count": 53,
   "metadata": {
    "collapsed": true
   },
   "outputs": [],
   "source": [
    "t.fit_on_texts(docs)"
   ]
  },
  {
   "cell_type": "code",
   "execution_count": 54,
   "metadata": {},
   "outputs": [
    {
     "data": {
      "text/plain": [
       "OrderedDict([('def', 1),\n",
       "             ('get_name(name):', 1),\n",
       "             ('print', 5),\n",
       "             (\"'hi\", 1),\n",
       "             (\"%s'\", 1),\n",
       "             ('%', 1),\n",
       "             ('(name)', 1),\n",
       "             (\"get_name('david')\", 1),\n",
       "             ('a', 2),\n",
       "             ('=', 8),\n",
       "             ('int(raw_input())', 2),\n",
       "             ('b', 2),\n",
       "             ('+', 4),\n",
       "             ('n', 3),\n",
       "             ('input()', 2),\n",
       "             ('i', 3),\n",
       "             ('0', 1),\n",
       "             ('away_score', 3),\n",
       "             ('(away_goals', 1),\n",
       "             ('*', 2),\n",
       "             ('3)', 2),\n",
       "             ('away_points', 1),\n",
       "             ('home_score', 3),\n",
       "             ('(home_goals', 1),\n",
       "             ('home_points', 1),\n",
       "             ('while', 1),\n",
       "             ('<', 2),\n",
       "             ('4:', 1),\n",
       "             ('if', 1),\n",
       "             ('>', 1),\n",
       "             (':', 2),\n",
       "             ('\"home', 1),\n",
       "             ('win\"', 2),\n",
       "             ('elif', 1),\n",
       "             ('\"away', 1),\n",
       "             ('else:', 1),\n",
       "             ('\"draw\"', 1),\n",
       "             ('1', 1)])"
      ]
     },
     "execution_count": 54,
     "metadata": {},
     "output_type": "execute_result"
    }
   ],
   "source": [
    "t.word_counts"
   ]
  },
  {
   "cell_type": "code",
   "execution_count": 55,
   "metadata": {},
   "outputs": [
    {
     "data": {
      "text/plain": [
       "array([[ 0.,  0.,  1.,  0.,  0.,  0.,  0.,  0.,  0.,  0.,  0.,  0.,  0.,\n",
       "         0.,  0.,  0.,  0.,  1.,  1.,  1.,  1.,  1.,  1.,  1.,  0.,  0.,\n",
       "         0.,  0.,  0.,  0.,  0.,  0.,  0.,  0.,  0.,  0.,  0.,  0.,  0.],\n",
       "       [ 0.,  2.,  1.,  1.,  0.,  0.,  0.,  0.,  2.,  2.,  2.,  0.,  0.,\n",
       "         0.,  0.,  0.,  0.,  0.,  0.,  0.,  0.,  0.,  0.,  0.,  0.,  0.,\n",
       "         0.,  0.,  0.,  0.,  0.,  0.,  0.,  0.,  0.,  0.,  0.,  0.,  0.],\n",
       "       [ 0.,  6.,  3.,  3.,  3.,  3.,  3.,  3.,  0.,  0.,  0.,  2.,  2.,\n",
       "         2.,  2.,  2.,  2.,  0.,  0.,  0.,  0.,  0.,  0.,  0.,  1.,  1.,\n",
       "         1.,  1.,  1.,  1.,  1.,  1.,  1.,  1.,  1.,  1.,  1.,  1.,  1.]])"
      ]
     },
     "execution_count": 55,
     "metadata": {},
     "output_type": "execute_result"
    }
   ],
   "source": [
    "t.texts_to_matrix(docs, mode='count')"
   ]
  },
  {
   "cell_type": "code",
   "execution_count": 56,
   "metadata": {},
   "outputs": [
    {
     "data": {
      "text/plain": [
       "array([[ 0.        ,  0.        ,  0.55961579,  0.        ,  0.        ,\n",
       "         0.        ,  0.        ,  0.        ,  0.        ,  0.        ,\n",
       "         0.        ,  0.        ,  0.        ,  0.        ,  0.        ,\n",
       "         0.        ,  0.        ,  0.91629073,  0.91629073,  0.91629073,\n",
       "         0.91629073,  0.91629073,  0.91629073,  0.91629073,  0.        ,\n",
       "         0.        ,  0.        ,  0.        ,  0.        ,  0.        ,\n",
       "         0.        ,  0.        ,  0.        ,  0.        ,  0.        ,\n",
       "         0.        ,  0.        ,  0.        ,  0.        ],\n",
       "       [ 0.        ,  1.17360019,  0.55961579,  0.69314718,  0.        ,\n",
       "         0.        ,  0.        ,  0.        ,  1.55141507,  1.55141507,\n",
       "         1.55141507,  0.        ,  0.        ,  0.        ,  0.        ,\n",
       "         0.        ,  0.        ,  0.        ,  0.        ,  0.        ,\n",
       "         0.        ,  0.        ,  0.        ,  0.        ,  0.        ,\n",
       "         0.        ,  0.        ,  0.        ,  0.        ,  0.        ,\n",
       "         0.        ,  0.        ,  0.        ,  0.        ,  0.        ,\n",
       "         0.        ,  0.        ,  0.        ,  0.        ],\n",
       "       [ 0.        ,  1.9351002 ,  1.17441657,  1.45464719,  1.92293899,\n",
       "         1.92293899,  1.92293899,  1.92293899,  0.        ,  0.        ,\n",
       "         0.        ,  1.55141507,  1.55141507,  1.55141507,  1.55141507,\n",
       "         1.55141507,  1.55141507,  0.        ,  0.        ,  0.        ,\n",
       "         0.        ,  0.        ,  0.        ,  0.        ,  0.91629073,\n",
       "         0.91629073,  0.91629073,  0.91629073,  0.91629073,  0.91629073,\n",
       "         0.91629073,  0.91629073,  0.91629073,  0.91629073,  0.91629073,\n",
       "         0.91629073,  0.91629073,  0.91629073,  0.91629073]])"
      ]
     },
     "execution_count": 56,
     "metadata": {},
     "output_type": "execute_result"
    }
   ],
   "source": [
    "t.texts_to_matrix(docs, mode='tfidf')"
   ]
  },
  {
   "cell_type": "code",
   "execution_count": 57,
   "metadata": {
    "scrolled": false
   },
   "outputs": [
    {
     "name": "stdout",
     "output_type": "stream",
     "text": [
      "1,0-1,21:\tCOMMENT\t'#!/usr/bin/env python'\n",
      "1,21-1,22:\tNL\t'\\n'\n",
      "2,0-2,1:\tNL\t'\\n'\n",
      "3,0-3,17:\tCOMMENT\t'# read from input'\n",
      "3,17-3,18:\tNL\t'\\n'\n",
      "4,0-4,1:\tNAME\t'a'\n",
      "4,2-4,3:\tOP\t'='\n",
      "4,4-4,7:\tNAME\t'int'\n",
      "4,7-4,8:\tOP\t'('\n",
      "4,8-4,17:\tNAME\t'raw_input'\n",
      "4,17-4,18:\tOP\t'('\n",
      "4,18-4,19:\tOP\t')'\n",
      "4,19-4,20:\tOP\t')'\n",
      "4,21-4,28:\tCOMMENT\t'# first'\n",
      "4,28-4,29:\tNEWLINE\t'\\n'\n",
      "5,0-5,1:\tNAME\t'b'\n",
      "5,2-5,3:\tOP\t'='\n",
      "5,4-5,7:\tNAME\t'int'\n",
      "5,7-5,8:\tOP\t'('\n",
      "5,8-5,17:\tNAME\t'raw_input'\n",
      "5,17-5,18:\tOP\t'('\n",
      "5,18-5,19:\tOP\t')'\n",
      "5,19-5,20:\tOP\t')'\n",
      "5,21-5,29:\tCOMMENT\t'# second'\n",
      "5,29-5,30:\tNEWLINE\t'\\n'\n",
      "6,0-6,1:\tNL\t'\\n'\n",
      "7,0-7,5:\tNAME\t'print'\n",
      "7,6-7,7:\tNAME\t'a'\n",
      "7,8-7,9:\tOP\t'+'\n",
      "7,10-7,11:\tNAME\t'b'\n",
      "7,11-7,12:\tNEWLINE\t'\\n'\n",
      "8,0-8,0:\tENDMARKER\t''\n"
     ]
    }
   ],
   "source": [
    "!python -m tokenize data/examples/sum.py"
   ]
  },
  {
   "cell_type": "code",
   "execution_count": 58,
   "metadata": {},
   "outputs": [
    {
     "name": "stdout",
     "output_type": "stream",
     "text": [
      "n = input()\r\n",
      "i = 0\r\n",
      "away_score = (away_goals * 3) + away_points\r\n",
      "home_score = (home_goals * 3) + home_points \r\n",
      "while n < 4:\r\n",
      "    n = input()\r\n",
      "    if home_score > away_score :\r\n",
      "        print \"home win\"\r\n",
      "    elif home_score < away_score :\r\n",
      "        print \"away win\"\r\n",
      "    else:\r\n",
      "        print \"draw\"\r\n",
      "    i = i + 1\r\n"
     ]
    }
   ],
   "source": [
    "!cat data/examples/score.py"
   ]
  },
  {
   "cell_type": "code",
   "execution_count": 59,
   "metadata": {},
   "outputs": [
    {
     "name": "stdout",
     "output_type": "stream",
     "text": [
      "1,0-1,1:\tNAME\t'n'\r\n",
      "1,2-1,3:\tOP\t'='\r\n",
      "1,4-1,9:\tNAME\t'input'\r\n",
      "1,9-1,10:\tOP\t'('\r\n",
      "1,10-1,11:\tOP\t')'\r\n",
      "1,11-1,12:\tNEWLINE\t'\\n'\r\n",
      "2,0-2,1:\tNAME\t'i'\r\n",
      "2,2-2,3:\tOP\t'='\r\n",
      "2,4-2,5:\tNUMBER\t'0'\r\n",
      "2,5-2,6:\tNEWLINE\t'\\n'\r\n",
      "3,0-3,10:\tNAME\t'away_score'\r\n",
      "3,11-3,12:\tOP\t'='\r\n",
      "3,13-3,14:\tOP\t'('\r\n",
      "3,14-3,24:\tNAME\t'away_goals'\r\n",
      "3,25-3,26:\tOP\t'*'\r\n",
      "3,27-3,28:\tNUMBER\t'3'\r\n",
      "3,28-3,29:\tOP\t')'\r\n",
      "3,30-3,31:\tOP\t'+'\r\n",
      "3,32-3,43:\tNAME\t'away_points'\r\n",
      "3,43-3,44:\tNEWLINE\t'\\n'\r\n",
      "4,0-4,10:\tNAME\t'home_score'\r\n",
      "4,11-4,12:\tOP\t'='\r\n",
      "4,13-4,14:\tOP\t'('\r\n",
      "4,14-4,24:\tNAME\t'home_goals'\r\n",
      "4,25-4,26:\tOP\t'*'\r\n",
      "4,27-4,28:\tNUMBER\t'3'\r\n",
      "4,28-4,29:\tOP\t')'\r\n",
      "4,30-4,31:\tOP\t'+'\r\n",
      "4,32-4,43:\tNAME\t'home_points'\r\n",
      "4,44-4,45:\tNEWLINE\t'\\n'\r\n",
      "5,0-5,5:\tNAME\t'while'\r\n",
      "5,6-5,7:\tNAME\t'n'\r\n",
      "5,8-5,9:\tOP\t'<'\r\n",
      "5,10-5,11:\tNUMBER\t'4'\r\n",
      "5,11-5,12:\tOP\t':'\r\n",
      "5,12-5,13:\tNEWLINE\t'\\n'\r\n",
      "6,0-6,4:\tINDENT\t'    '\r\n",
      "6,4-6,5:\tNAME\t'n'\r\n",
      "6,6-6,7:\tOP\t'='\r\n",
      "6,8-6,13:\tNAME\t'input'\r\n",
      "6,13-6,14:\tOP\t'('\r\n",
      "6,14-6,15:\tOP\t')'\r\n",
      "6,15-6,16:\tNEWLINE\t'\\n'\r\n",
      "7,4-7,6:\tNAME\t'if'\r\n",
      "7,7-7,17:\tNAME\t'home_score'\r\n",
      "7,18-7,19:\tOP\t'>'\r\n",
      "7,20-7,30:\tNAME\t'away_score'\r\n",
      "7,31-7,32:\tOP\t':'\r\n",
      "7,32-7,33:\tNEWLINE\t'\\n'\r\n",
      "8,0-8,8:\tINDENT\t'        '\r\n",
      "8,8-8,13:\tNAME\t'print'\r\n",
      "8,14-8,24:\tSTRING\t'\"home win\"'\r\n",
      "8,24-8,25:\tNEWLINE\t'\\n'\r\n",
      "9,4-9,4:\tDEDENT\t''\r\n",
      "9,4-9,8:\tNAME\t'elif'\r\n",
      "9,9-9,19:\tNAME\t'home_score'\r\n",
      "9,20-9,21:\tOP\t'<'\r\n",
      "9,22-9,32:\tNAME\t'away_score'\r\n",
      "9,33-9,34:\tOP\t':'\r\n",
      "9,34-9,35:\tNEWLINE\t'\\n'\r\n",
      "10,0-10,8:\tINDENT\t'        '\r\n",
      "10,8-10,13:\tNAME\t'print'\r\n",
      "10,14-10,24:\tSTRING\t'\"away win\"'\r\n",
      "10,24-10,25:\tNEWLINE\t'\\n'\r\n",
      "11,4-11,4:\tDEDENT\t''\r\n",
      "11,4-11,8:\tNAME\t'else'\r\n",
      "11,8-11,9:\tOP\t':'\r\n",
      "11,9-11,10:\tNEWLINE\t'\\n'\r\n",
      "12,0-12,8:\tINDENT\t'        '\r\n",
      "12,8-12,13:\tNAME\t'print'\r\n",
      "12,14-12,20:\tSTRING\t'\"draw\"'\r\n",
      "12,20-12,21:\tNEWLINE\t'\\n'\r\n",
      "13,4-13,4:\tDEDENT\t''\r\n",
      "13,4-13,5:\tNAME\t'i'\r\n",
      "13,6-13,7:\tOP\t'='\r\n",
      "13,8-13,9:\tNAME\t'i'\r\n",
      "13,10-13,11:\tOP\t'+'\r\n",
      "13,12-13,13:\tNUMBER\t'1'\r\n",
      "13,13-13,14:\tNEWLINE\t'\\n'\r\n",
      "14,0-14,0:\tDEDENT\t''\r\n",
      "14,0-14,0:\tENDMARKER\t''\r\n"
     ]
    }
   ],
   "source": [
    "!python -m tokenize data/examples/score.py"
   ]
  },
  {
   "cell_type": "code",
   "execution_count": 66,
   "metadata": {},
   "outputs": [
    {
     "data": {
      "image/svg+xml": [
       "<svg height=\"404pt\" viewBox=\"0.00 0.00 648.61 404.00\" width=\"649pt\" xmlns=\"http://www.w3.org/2000/svg\" xmlns:xlink=\"http://www.w3.org/1999/xlink\">\n",
       "<g class=\"graph\" id=\"graph0\" transform=\"scale(1 1) rotate(0) translate(4 400)\">\n",
       "<title>%3</title>\n",
       "<polygon fill=\"white\" points=\"-4,4 -4,-400 644.609,-400 644.609,4 -4,4\" stroke=\"none\"/>\n",
       "<!-- 0 -->\n",
       "<g class=\"node\" id=\"node1\"><title>0</title>\n",
       "<text fill=\"#004080\" font-family=\"Courier,monospace\" font-size=\"14.00\" font-weight=\"bold\" text-anchor=\"start\" x=\"302\" y=\"-374.8\">Module</text>\n",
       "</g>\n",
       "<!-- 1 -->\n",
       "<g class=\"node\" id=\"node2\"><title>1</title>\n",
       "<text fill=\"#004080\" font-family=\"Courier,monospace\" font-size=\"14.00\" font-weight=\"bold\" text-anchor=\"start\" x=\"193.997\" y=\"-302.8\">FunctionDef</text>\n",
       "</g>\n",
       "<!-- 0&#45;&#45;1 -->\n",
       "<g class=\"edge\" id=\"edge1\"><title>0--1</title>\n",
       "<path d=\"M327.204,-359C327.204,-359 294.064,-339.192 268.691,-324.027\" fill=\"none\" stroke=\"black\"/>\n",
       "</g>\n",
       "<!-- 16 -->\n",
       "<g class=\"node\" id=\"node17\"><title>16</title>\n",
       "<text fill=\"#004080\" font-family=\"Courier,monospace\" font-size=\"14.00\" font-weight=\"bold\" text-anchor=\"start\" x=\"397.401\" y=\"-302.8\">Expr</text>\n",
       "</g>\n",
       "<!-- 0&#45;&#45;16 -->\n",
       "<g class=\"edge\" id=\"edge16\"><title>0--16</title>\n",
       "<path d=\"M327.204,-359C327.204,-359 361.615,-338.433 387.154,-323.168\" fill=\"none\" stroke=\"black\"/>\n",
       "</g>\n",
       "<!-- 2 -->\n",
       "<g class=\"node\" id=\"node3\"><title>2</title>\n",
       "<text fill=\"#008040\" font-family=\"Courier,monospace\" font-size=\"14.00\" text-anchor=\"middle\" x=\"89.2041\" y=\"-229.8\">&quot;get_name&quot;</text>\n",
       "</g>\n",
       "<!-- 1&#45;&#45;2 -->\n",
       "<g class=\"edge\" id=\"edge2\"><title>1--2</title>\n",
       "<path d=\"M234.204,-287C234.204,-287 178.971,-267.192 136.683,-252.027\" fill=\"none\" stroke=\"black\"/>\n",
       "</g>\n",
       "<!-- 3 -->\n",
       "<g class=\"node\" id=\"node4\"><title>3</title>\n",
       "<text fill=\"#004080\" font-family=\"Courier,monospace\" font-size=\"14.00\" font-weight=\"bold\" text-anchor=\"start\" x=\"165.398\" y=\"-230.8\">arguments</text>\n",
       "</g>\n",
       "<!-- 1&#45;&#45;3 -->\n",
       "<g class=\"edge\" id=\"edge3\"><title>1--3</title>\n",
       "<path d=\"M234.204,-287C234.204,-287 222.396,-267.192 213.355,-252.027\" fill=\"none\" stroke=\"black\"/>\n",
       "</g>\n",
       "<!-- 7 -->\n",
       "<g class=\"node\" id=\"node8\"><title>7</title>\n",
       "<text fill=\"#004080\" font-family=\"Courier,monospace\" font-size=\"14.00\" font-weight=\"bold\" text-anchor=\"start\" x=\"275.201\" y=\"-230.8\">Print</text>\n",
       "</g>\n",
       "<!-- 1&#45;&#45;7 -->\n",
       "<g class=\"edge\" id=\"edge7\"><title>1--7</title>\n",
       "<path d=\"M234.204,-287C234.204,-287 257.821,-267.192 275.903,-252.027\" fill=\"none\" stroke=\"black\"/>\n",
       "</g>\n",
       "<!-- 4 -->\n",
       "<g class=\"node\" id=\"node5\"><title>4</title>\n",
       "<text fill=\"#004080\" font-family=\"Courier,monospace\" font-size=\"14.00\" font-weight=\"bold\" text-anchor=\"start\" x=\"96.4014\" y=\"-158.8\">Name</text>\n",
       "</g>\n",
       "<!-- 3&#45;&#45;4 -->\n",
       "<g class=\"edge\" id=\"edge4\"><title>3--4</title>\n",
       "<path d=\"M180.957,-215.697C167.006,-204.846 149.097,-190.917 135.195,-180.104\" fill=\"none\" stroke=\"black\"/>\n",
       "</g>\n",
       "<!-- 5 -->\n",
       "<g class=\"node\" id=\"node6\"><title>5</title>\n",
       "<text fill=\"#008040\" font-family=\"Courier,monospace\" font-size=\"14.00\" text-anchor=\"middle\" x=\"33.2041\" y=\"-85.8\">&quot;name&quot;</text>\n",
       "</g>\n",
       "<!-- 4&#45;&#45;5 -->\n",
       "<g class=\"edge\" id=\"edge5\"><title>4--5</title>\n",
       "<path d=\"M105.204,-143C105.204,-143 77.7778,-123.192 56.7796,-108.027\" fill=\"none\" stroke=\"black\"/>\n",
       "</g>\n",
       "<!-- 6 -->\n",
       "<g class=\"node\" id=\"node7\"><title>6</title>\n",
       "<text fill=\"#008040\" font-family=\"Courier,monospace\" font-size=\"14.00\" text-anchor=\"middle\" x=\"113.204\" y=\"-85.8\">Param</text>\n",
       "</g>\n",
       "<!-- 4&#45;&#45;6 -->\n",
       "<g class=\"edge\" id=\"edge6\"><title>4--6</title>\n",
       "<path d=\"M105.204,-143C105.204,-143 108.251,-123.192 110.585,-108.027\" fill=\"none\" stroke=\"black\"/>\n",
       "</g>\n",
       "<!-- 8 -->\n",
       "<g class=\"node\" id=\"node9\"><title>8</title>\n",
       "<text fill=\"#004080\" font-family=\"Courier,monospace\" font-size=\"14.00\" font-weight=\"bold\" text-anchor=\"start\" x=\"238.201\" y=\"-158.8\">BinOp</text>\n",
       "</g>\n",
       "<!-- 7&#45;&#45;8 -->\n",
       "<g class=\"edge\" id=\"edge8\"><title>7--8</title>\n",
       "<path d=\"M296.204,-215C296.204,-215 282.11,-195.192 271.319,-180.027\" fill=\"none\" stroke=\"black\"/>\n",
       "</g>\n",
       "<!-- 15 -->\n",
       "<g class=\"node\" id=\"node16\"><title>15</title>\n",
       "<text fill=\"#008040\" font-family=\"Courier,monospace\" font-size=\"14.00\" text-anchor=\"middle\" x=\"333.204\" y=\"-157.8\">True</text>\n",
       "</g>\n",
       "<!-- 7&#45;&#45;15 -->\n",
       "<g class=\"edge\" id=\"edge15\"><title>7--15</title>\n",
       "<path d=\"M296.204,-215C296.204,-215 310.298,-195.192 321.089,-180.027\" fill=\"none\" stroke=\"black\"/>\n",
       "</g>\n",
       "<!-- 9 -->\n",
       "<g class=\"node\" id=\"node10\"><title>9</title>\n",
       "<text fill=\"#004080\" font-family=\"Courier,monospace\" font-size=\"14.00\" font-weight=\"bold\" text-anchor=\"start\" x=\"174.602\" y=\"-86.8\">Str</text>\n",
       "</g>\n",
       "<!-- 8&#45;&#45;9 -->\n",
       "<g class=\"edge\" id=\"edge9\"><title>8--9</title>\n",
       "<path d=\"M259.204,-143C259.204,-143 231.778,-123.192 210.78,-108.027\" fill=\"none\" stroke=\"black\"/>\n",
       "</g>\n",
       "<!-- 11 -->\n",
       "<g class=\"node\" id=\"node12\"><title>11</title>\n",
       "<text fill=\"#008040\" font-family=\"Courier,monospace\" font-size=\"14.00\" text-anchor=\"middle\" x=\"259.204\" y=\"-85.8\">Mod</text>\n",
       "</g>\n",
       "<!-- 8&#45;&#45;11 -->\n",
       "<g class=\"edge\" id=\"edge11\"><title>8--11</title>\n",
       "<path d=\"M259.204,-143C259.204,-143 259.204,-123.192 259.204,-108.027\" fill=\"none\" stroke=\"black\"/>\n",
       "</g>\n",
       "<!-- 12 -->\n",
       "<g class=\"node\" id=\"node13\"><title>12</title>\n",
       "<text fill=\"#004080\" font-family=\"Courier,monospace\" font-size=\"14.00\" font-weight=\"bold\" text-anchor=\"start\" x=\"314.401\" y=\"-86.8\">Name</text>\n",
       "</g>\n",
       "<!-- 8&#45;&#45;12 -->\n",
       "<g class=\"edge\" id=\"edge12\"><title>8--12</title>\n",
       "<path d=\"M259.204,-143C259.204,-143 286.63,-123.192 307.629,-108.027\" fill=\"none\" stroke=\"black\"/>\n",
       "</g>\n",
       "<!-- 10 -->\n",
       "<g class=\"node\" id=\"node11\"><title>10</title>\n",
       "<text fill=\"#008040\" font-family=\"Courier,monospace\" font-size=\"14.00\" text-anchor=\"middle\" x=\"187.204\" y=\"-13.8\">&quot;Hi %s&quot;</text>\n",
       "</g>\n",
       "<!-- 9&#45;&#45;10 -->\n",
       "<g class=\"edge\" id=\"edge10\"><title>9--10</title>\n",
       "<path d=\"M187.204,-71.6966C187.204,-60.8463 187.204,-46.9167 187.204,-36.1043\" fill=\"none\" stroke=\"black\"/>\n",
       "</g>\n",
       "<!-- 13 -->\n",
       "<g class=\"node\" id=\"node14\"><title>13</title>\n",
       "<text fill=\"#008040\" font-family=\"Courier,monospace\" font-size=\"14.00\" text-anchor=\"middle\" x=\"303.204\" y=\"-13.8\">&quot;name&quot;</text>\n",
       "</g>\n",
       "<!-- 12&#45;&#45;13 -->\n",
       "<g class=\"edge\" id=\"edge13\"><title>12--13</title>\n",
       "<path d=\"M333.204,-71C333.204,-71 321.776,-51.1921 313.027,-36.0267\" fill=\"none\" stroke=\"black\"/>\n",
       "</g>\n",
       "<!-- 14 -->\n",
       "<g class=\"node\" id=\"node15\"><title>14</title>\n",
       "<text fill=\"#008040\" font-family=\"Courier,monospace\" font-size=\"14.00\" text-anchor=\"middle\" x=\"381.204\" y=\"-13.8\">Load</text>\n",
       "</g>\n",
       "<!-- 12&#45;&#45;14 -->\n",
       "<g class=\"edge\" id=\"edge14\"><title>12--14</title>\n",
       "<path d=\"M333.204,-71C333.204,-71 351.488,-51.1921 365.487,-36.0267\" fill=\"none\" stroke=\"black\"/>\n",
       "</g>\n",
       "<!-- 17 -->\n",
       "<g class=\"node\" id=\"node18\"><title>17</title>\n",
       "<text fill=\"#004080\" font-family=\"Courier,monospace\" font-size=\"14.00\" font-weight=\"bold\" text-anchor=\"start\" x=\"435.401\" y=\"-230.8\">Call</text>\n",
       "</g>\n",
       "<!-- 16&#45;&#45;17 -->\n",
       "<g class=\"edge\" id=\"edge17\"><title>16--17</title>\n",
       "<path d=\"M423.597,-287.697C429.488,-276.846 437.049,-262.917 442.919,-252.104\" fill=\"none\" stroke=\"black\"/>\n",
       "</g>\n",
       "<!-- 18 -->\n",
       "<g class=\"node\" id=\"node19\"><title>18</title>\n",
       "<text fill=\"#004080\" font-family=\"Courier,monospace\" font-size=\"14.00\" font-weight=\"bold\" text-anchor=\"start\" x=\"435.401\" y=\"-158.8\">Name</text>\n",
       "</g>\n",
       "<!-- 17&#45;&#45;18 -->\n",
       "<g class=\"edge\" id=\"edge18\"><title>17--18</title>\n",
       "<path d=\"M462.204,-215C462.204,-215 458.395,-195.192 455.478,-180.027\" fill=\"none\" stroke=\"black\"/>\n",
       "</g>\n",
       "<!-- 21 -->\n",
       "<g class=\"node\" id=\"node22\"><title>21</title>\n",
       "<text fill=\"#004080\" font-family=\"Courier,monospace\" font-size=\"14.00\" font-weight=\"bold\" text-anchor=\"start\" x=\"563.602\" y=\"-158.8\">Str</text>\n",
       "</g>\n",
       "<!-- 17&#45;&#45;21 -->\n",
       "<g class=\"edge\" id=\"edge21\"><title>17--21</title>\n",
       "<path d=\"M462.204,-215C462.204,-215 515.476,-190.7 549.188,-175.323\" fill=\"none\" stroke=\"black\"/>\n",
       "</g>\n",
       "<!-- 19 -->\n",
       "<g class=\"node\" id=\"node20\"><title>19</title>\n",
       "<text fill=\"#008040\" font-family=\"Courier,monospace\" font-size=\"14.00\" text-anchor=\"middle\" x=\"426.204\" y=\"-85.8\">&quot;get_name&quot;</text>\n",
       "</g>\n",
       "<!-- 18&#45;&#45;19 -->\n",
       "<g class=\"edge\" id=\"edge19\"><title>18--19</title>\n",
       "<path d=\"M456.204,-143C456.204,-143 444.776,-123.192 436.027,-108.027\" fill=\"none\" stroke=\"black\"/>\n",
       "</g>\n",
       "<!-- 20 -->\n",
       "<g class=\"node\" id=\"node21\"><title>20</title>\n",
       "<text fill=\"#008040\" font-family=\"Courier,monospace\" font-size=\"14.00\" text-anchor=\"middle\" x=\"521.204\" y=\"-85.8\">Load</text>\n",
       "</g>\n",
       "<!-- 18&#45;&#45;20 -->\n",
       "<g class=\"edge\" id=\"edge20\"><title>18--20</title>\n",
       "<path d=\"M456.204,-143C456.204,-143 480.964,-123.192 499.921,-108.027\" fill=\"none\" stroke=\"black\"/>\n",
       "</g>\n",
       "<!-- 22 -->\n",
       "<g class=\"node\" id=\"node23\"><title>22</title>\n",
       "<text fill=\"#008040\" font-family=\"Courier,monospace\" font-size=\"14.00\" text-anchor=\"middle\" x=\"603.204\" y=\"-85.8\">&quot;David&quot;</text>\n",
       "</g>\n",
       "<!-- 21&#45;&#45;22 -->\n",
       "<g class=\"edge\" id=\"edge22\"><title>21--22</title>\n",
       "<path d=\"M582.878,-143.697C587.063,-132.846 592.436,-118.917 596.607,-108.104\" fill=\"none\" stroke=\"black\"/>\n",
       "</g>\n",
       "</g>\n",
       "</svg>"
      ],
      "text/plain": [
       "<IPython.core.display.SVG object>"
      ]
     },
     "execution_count": 66,
     "metadata": {},
     "output_type": "execute_result"
    }
   ],
   "source": [
    "viz_code(program_a)"
   ]
  },
  {
   "cell_type": "markdown",
   "metadata": {},
   "source": [
    "### Utils"
   ]
  },
  {
   "cell_type": "code",
   "execution_count": 60,
   "metadata": {
    "collapsed": true
   },
   "outputs": [],
   "source": [
    "# Run another notebook\n",
    "\n",
    "# http://nbviewer.jupyter.org/gist/minrk/5491090/analysis.ipynb\n",
    "\n",
    "#import io\n",
    "#from IPython.nbformat import current\n",
    "\n",
    "#def execute_notebook(nbfile):\n",
    "#    with io.open(nbfile) as f:\n",
    "#        nb = current.read(f, 'json')\n",
    "#    ip = get_ipython()\n",
    "#    for cell in nb.worksheets[0].cells:\n",
    "#        if cell.cell_type != 'code':\n",
    "#            continue\n",
    "#        ip.run_cell(cell.input)\n",
    "\n",
    "# execute_notebook(\"Tokenize Python programs.ipynb\")\n",
    "\n",
    "# Call the function defined on that notebook:\n",
    "# get_tokens(program)"
   ]
  }
 ],
 "metadata": {
  "kernelspec": {
   "display_name": "Python 2",
   "language": "python",
   "name": "python2"
  },
  "language_info": {
   "codemirror_mode": {
    "name": "ipython",
    "version": 2
   },
   "file_extension": ".py",
   "mimetype": "text/x-python",
   "name": "python",
   "nbconvert_exporter": "python",
   "pygments_lexer": "ipython2",
   "version": "2.7.14"
  }
 },
 "nbformat": 4,
 "nbformat_minor": 2
}
