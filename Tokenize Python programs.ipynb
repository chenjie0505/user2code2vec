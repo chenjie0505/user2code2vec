{
 "cells": [
  {
   "cell_type": "markdown",
   "metadata": {},
   "source": [
    "## Programs as word vectors\n",
    "\n",
    "We are going to treat the programs students write and submit to our platform as word vectors. We are going to learn a representation of these programs. We are going to create a prediction problem and try to predict whether the program submitted with be considered as correct, i.e. the program pass the testcases specified by the lecturer. Creating a prediction problem to learn representations of the data is a useful approach. There is no easy way to represent these programs so we are going to learn these representations. "
   ]
  },
  {
   "cell_type": "code",
   "execution_count": 1,
   "metadata": {
    "collapsed": true
   },
   "outputs": [],
   "source": [
    "import re\n",
    "def remove_comments(text):\n",
    "    return re.sub(re.compile('#.*?\\n'), '', text)"
   ]
  },
  {
   "cell_type": "code",
   "execution_count": 2,
   "metadata": {},
   "outputs": [
    {
     "data": {
      "text/plain": [
       "'\\na = int(raw_input())\\nb = int(raw_input())\\n\\nprint a + b\\n\\n\\n'"
      ]
     },
     "execution_count": 2,
     "metadata": {},
     "output_type": "execute_result"
    }
   ],
   "source": [
    "program = '#!/usr/bin/env python\\n\\na = int(raw_input())\\nb = int(raw_input())\\n\\nprint a + b\\n\\n\\n'\n",
    "remove_comments(program)"
   ]
  },
  {
   "cell_type": "code",
   "execution_count": 3,
   "metadata": {},
   "outputs": [
    {
     "data": {
      "text/plain": [
       "'\\na = int(raw_input()) b = int(raw_input()) print a + b\\n'"
      ]
     },
     "execution_count": 3,
     "metadata": {},
     "output_type": "execute_result"
    }
   ],
   "source": [
    "program = '''\n",
    "#!/usr/bin/env python\n",
    "# read from input\n",
    "a = int(raw_input()) # first\n",
    "b = int(raw_input()) # second\n",
    "print a + b\n",
    "'''\n",
    "remove_comments(program)"
   ]
  },
  {
   "cell_type": "markdown",
   "metadata": {},
   "source": [
    "**Keras**"
   ]
  },
  {
   "cell_type": "code",
   "execution_count": 4,
   "metadata": {},
   "outputs": [
    {
     "name": "stderr",
     "output_type": "stream",
     "text": [
      "Using TensorFlow backend.\n"
     ]
    }
   ],
   "source": [
    "from keras.preprocessing.text import text_to_word_sequence\n",
    "\n",
    "# text_to_word_sequence?"
   ]
  },
  {
   "cell_type": "code",
   "execution_count": 5,
   "metadata": {},
   "outputs": [
    {
     "data": {
      "text/plain": [
       "['a', 'int', 'raw', 'input', 'b', 'int', 'raw', 'input', 'print', 'a', 'b']"
      ]
     },
     "execution_count": 5,
     "metadata": {},
     "output_type": "execute_result"
    }
   ],
   "source": [
    "text_to_word_sequence(remove_comments(program), lower=True, split=' ')"
   ]
  },
  {
   "cell_type": "markdown",
   "metadata": {},
   "source": [
    "By default in text_to_word_sequence the filters are:\n",
    "\n",
    "> filters='!\"#$%&()*+,-./:;<=>?@[\\\\]^_`{|}~\\t\\n'\n",
    "\n",
    "See the function signature"
   ]
  },
  {
   "cell_type": "code",
   "execution_count": 6,
   "metadata": {},
   "outputs": [
    {
     "data": {
      "text/plain": [
       "['a',\n",
       " '=',\n",
       " 'int(raw_input())',\n",
       " 'b',\n",
       " '=',\n",
       " 'int(raw_input())',\n",
       " 'print',\n",
       " 'a',\n",
       " '+',\n",
       " 'b']"
      ]
     },
     "execution_count": 6,
     "metadata": {},
     "output_type": "execute_result"
    }
   ],
   "source": [
    "text_to_word_sequence(remove_comments(program), \n",
    "                      filters='\\t\\n',\n",
    "                      lower=True, \n",
    "                      split=' ')"
   ]
  },
  {
   "cell_type": "markdown",
   "metadata": {},
   "source": [
    "It still does not represent a programming submission in a very comparable way to other submissions."
   ]
  },
  {
   "cell_type": "code",
   "execution_count": 11,
   "metadata": {},
   "outputs": [],
   "source": [
    "# https://keras.io/preprocessing/text/#tokenizer\n",
    "from keras.preprocessing.text import Tokenizer\n",
    "\n",
    "# Tokenizer?\n",
    "\n",
    "# t = Tokenizer(num_words=None, filters='!\"#$%&()*+,-./:;<=>?@[\\]^_`{|}~ ', \n",
    "#              lower=True, split=' ', char_level=False)"
   ]
  },
  {
   "cell_type": "code",
   "execution_count": 13,
   "metadata": {},
   "outputs": [],
   "source": []
  },
  {
   "cell_type": "code",
   "execution_count": 14,
   "metadata": {
    "collapsed": true
   },
   "outputs": [],
   "source": []
  },
  {
   "cell_type": "code",
   "execution_count": null,
   "metadata": {
    "collapsed": true
   },
   "outputs": [],
   "source": []
  },
  {
   "cell_type": "code",
   "execution_count": 7,
   "metadata": {
    "collapsed": true
   },
   "outputs": [],
   "source": [
    "# Run another notebook\n",
    "\n",
    "# http://nbviewer.jupyter.org/gist/minrk/5491090/analysis.ipynb\n",
    "\n",
    "#import io\n",
    "#from IPython.nbformat import current\n",
    "\n",
    "#def execute_notebook(nbfile):\n",
    "#    with io.open(nbfile) as f:\n",
    "#        nb = current.read(f, 'json')\n",
    "#    ip = get_ipython()\n",
    "#    for cell in nb.worksheets[0].cells:\n",
    "#        if cell.cell_type != 'code':\n",
    "#            continue\n",
    "#        ip.run_cell(cell.input)\n",
    "\n",
    "# execute_notebook(\"Tokenize Python programs.ipynb\")\n",
    "\n",
    "# get_tokens(program)"
   ]
  },
  {
   "cell_type": "markdown",
   "metadata": {},
   "source": [
    "## Tokenize Python programs\n",
    "\n",
    "Tokenize Python programs:\n",
    "* https://docs.python.org/3/library/tokenize.html\n",
    "* https://docs.python.org/3/library/token.html\n",
    "* Code: https://github.com/python/cpython/blob/3.7/Lib/tokenize.py\n",
    "* Code: https://github.com/python/cpython/blob/3.7/Lib/token.py\n",
    "* C code: https://github.com/python/cpython/blob/master/Parser/tokenizer.c\n",
    "* C library: https://github.com/python/cpython/blob/master/Include/token.h"
   ]
  },
  {
   "cell_type": "code",
   "execution_count": 1,
   "metadata": {
    "collapsed": true
   },
   "outputs": [],
   "source": [
    "import sys\n",
    "from tokenize import generate_tokens\n",
    "from StringIO import StringIO"
   ]
  },
  {
   "cell_type": "code",
   "execution_count": 2,
   "metadata": {},
   "outputs": [
    {
     "name": "stdout",
     "output_type": "stream",
     "text": [
      "7\n",
      "51\n",
      "50\n",
      "((\\*\\*=?|>>=?|<<=?|<>|!=|//=?|[+\\-*/%&|^=<>]=?|~)|[][(){}]|(\\r?\\n|[:;.,`@]))\n",
      "53\n",
      "#[^\\r\\n]*\n"
     ]
    }
   ],
   "source": [
    "from tokenize import LPAR, OP, Funny, AMPER, AMPEREQUAL, any, AT, Comment, COMMENT\n",
    "\n",
    "print LPAR \n",
    "print OP\n",
    "print AT\n",
    "print Funny\n",
    "print COMMENT\n",
    "print Comment"
   ]
  },
  {
   "cell_type": "markdown",
   "metadata": {},
   "source": [
    "**Command line**"
   ]
  },
  {
   "cell_type": "code",
   "execution_count": 3,
   "metadata": {},
   "outputs": [
    {
     "name": "stdout",
     "output_type": "stream",
     "text": [
      "def say_hello():\r\n",
      "    print(\"Hello, World!\")\r\n",
      "\r\n",
      "say_hello()\r\n"
     ]
    }
   ],
   "source": [
    "!cat data/hello.py"
   ]
  },
  {
   "cell_type": "code",
   "execution_count": 4,
   "metadata": {
    "scrolled": false
   },
   "outputs": [
    {
     "name": "stdout",
     "output_type": "stream",
     "text": [
      "1,0-1,3:\tNAME\t'def'\r\n",
      "1,4-1,13:\tNAME\t'say_hello'\r\n",
      "1,13-1,14:\tOP\t'('\r\n",
      "1,14-1,15:\tOP\t')'\r\n",
      "1,15-1,16:\tOP\t':'\r\n",
      "1,16-1,17:\tNEWLINE\t'\\n'\r\n",
      "2,0-2,4:\tINDENT\t'    '\r\n",
      "2,4-2,9:\tNAME\t'print'\r\n",
      "2,9-2,10:\tOP\t'('\r\n",
      "2,10-2,25:\tSTRING\t'\"Hello, World!\"'\r\n",
      "2,25-2,26:\tOP\t')'\r\n",
      "2,26-2,27:\tNEWLINE\t'\\n'\r\n",
      "3,0-3,1:\tNL\t'\\n'\r\n",
      "4,0-4,0:\tDEDENT\t''\r\n",
      "4,0-4,9:\tNAME\t'say_hello'\r\n",
      "4,9-4,10:\tOP\t'('\r\n",
      "4,10-4,11:\tOP\t')'\r\n",
      "4,11-4,12:\tNEWLINE\t'\\n'\r\n",
      "5,0-5,0:\tENDMARKER\t''\r\n"
     ]
    }
   ],
   "source": [
    "!python -m tokenize data/hello.py"
   ]
  },
  {
   "cell_type": "markdown",
   "metadata": {},
   "source": [
    "**Programatically**"
   ]
  },
  {
   "cell_type": "code",
   "execution_count": 5,
   "metadata": {
    "collapsed": true
   },
   "outputs": [],
   "source": [
    "generate_tokens?"
   ]
  },
  {
   "cell_type": "code",
   "execution_count": 6,
   "metadata": {
    "collapsed": true
   },
   "outputs": [],
   "source": [
    "program_code = '''def say_hello():\n",
    "    print(\"Hello, World!\")\n",
    "\n",
    "say_hello()'''"
   ]
  },
  {
   "cell_type": "code",
   "execution_count": 7,
   "metadata": {
    "collapsed": true
   },
   "outputs": [],
   "source": [
    "tokens = list(generate_tokens(StringIO(program_code).readline))"
   ]
  },
  {
   "cell_type": "code",
   "execution_count": 8,
   "metadata": {
    "collapsed": true
   },
   "outputs": [],
   "source": [
    "def print_tokens(tokens):\n",
    "    for t in tokens:\n",
    "        print (str(t[0]) + \",\" + str(t[2][1]) + \"-\" + str(t[2][0]) + ',' + str(t[3][1]) + ':\\t' + \n",
    "               str(t[0]) + '\\t' + # id_to_token[t[0]]\n",
    "               repr(str(t[1])))"
   ]
  },
  {
   "cell_type": "code",
   "execution_count": 9,
   "metadata": {},
   "outputs": [
    {
     "name": "stdout",
     "output_type": "stream",
     "text": [
      "1,0-1,3:\t1\t'def'\n",
      "1,4-1,13:\t1\t'say_hello'\n",
      "51,13-1,14:\t51\t'('\n",
      "51,14-1,15:\t51\t')'\n",
      "51,15-1,16:\t51\t':'\n",
      "4,16-1,17:\t4\t'\\n'\n",
      "5,0-2,4:\t5\t'    '\n",
      "1,4-2,9:\t1\t'print'\n",
      "51,9-2,10:\t51\t'('\n",
      "3,10-2,25:\t3\t'\"Hello, World!\"'\n",
      "51,25-2,26:\t51\t')'\n",
      "4,26-2,27:\t4\t'\\n'\n",
      "54,0-3,1:\t54\t'\\n'\n",
      "6,0-4,0:\t6\t''\n",
      "1,0-4,9:\t1\t'say_hello'\n",
      "51,9-4,10:\t51\t'('\n",
      "51,10-4,11:\t51\t')'\n",
      "0,0-5,0:\t0\t''\n"
     ]
    }
   ],
   "source": [
    "print_tokens(tokens)"
   ]
  },
  {
   "cell_type": "code",
   "execution_count": 10,
   "metadata": {},
   "outputs": [
    {
     "data": {
      "text/plain": [
       "[(1, 'def', (1, 0), (1, 3), 'def say_hello():\\n'),\n",
       " (1, 'say_hello', (1, 4), (1, 13), 'def say_hello():\\n'),\n",
       " (51, '(', (1, 13), (1, 14), 'def say_hello():\\n'),\n",
       " (51, ')', (1, 14), (1, 15), 'def say_hello():\\n'),\n",
       " (51, ':', (1, 15), (1, 16), 'def say_hello():\\n'),\n",
       " (4, '\\n', (1, 16), (1, 17), 'def say_hello():\\n'),\n",
       " (5, '    ', (2, 0), (2, 4), '    print(\"Hello, World!\")\\n'),\n",
       " (1, 'print', (2, 4), (2, 9), '    print(\"Hello, World!\")\\n'),\n",
       " (51, '(', (2, 9), (2, 10), '    print(\"Hello, World!\")\\n'),\n",
       " (3, '\"Hello, World!\"', (2, 10), (2, 25), '    print(\"Hello, World!\")\\n'),\n",
       " (51, ')', (2, 25), (2, 26), '    print(\"Hello, World!\")\\n'),\n",
       " (4, '\\n', (2, 26), (2, 27), '    print(\"Hello, World!\")\\n'),\n",
       " (54, '\\n', (3, 0), (3, 1), '\\n'),\n",
       " (6, '', (4, 0), (4, 0), 'say_hello()'),\n",
       " (1, 'say_hello', (4, 0), (4, 9), 'say_hello()'),\n",
       " (51, '(', (4, 9), (4, 10), 'say_hello()'),\n",
       " (51, ')', (4, 10), (4, 11), 'say_hello()'),\n",
       " (0, '', (5, 0), (5, 0), '')]"
      ]
     },
     "execution_count": 10,
     "metadata": {},
     "output_type": "execute_result"
    }
   ],
   "source": [
    "# List of:\n",
    "# Token code, Part of the line being analysed, FROM (line, character), TO (line, character), Complete line of code\n",
    "tokens"
   ]
  },
  {
   "cell_type": "markdown",
   "metadata": {},
   "source": [
    "## Abstract Syntax Trees\n",
    "\n",
    "https://docs.python.org/3/library/ast.html"
   ]
  },
  {
   "cell_type": "code",
   "execution_count": 11,
   "metadata": {
    "collapsed": true
   },
   "outputs": [],
   "source": [
    "import ast"
   ]
  },
  {
   "cell_type": "code",
   "execution_count": 25,
   "metadata": {},
   "outputs": [
    {
     "data": {
      "text/plain": [
       "'def say_hello():\\n    print(\"Hello, World!\")\\n\\nsay_hello()'"
      ]
     },
     "execution_count": 25,
     "metadata": {},
     "output_type": "execute_result"
    }
   ],
   "source": [
    "program_code"
   ]
  },
  {
   "cell_type": "code",
   "execution_count": 12,
   "metadata": {
    "collapsed": true
   },
   "outputs": [],
   "source": [
    "program_ast = ast.parse(program_code)"
   ]
  },
  {
   "cell_type": "code",
   "execution_count": 13,
   "metadata": {},
   "outputs": [
    {
     "data": {
      "text/plain": [
       "<_ast.Module at 0x108a1a910>"
      ]
     },
     "execution_count": 13,
     "metadata": {},
     "output_type": "execute_result"
    }
   ],
   "source": [
    "program_ast"
   ]
  },
  {
   "cell_type": "code",
   "execution_count": 14,
   "metadata": {},
   "outputs": [
    {
     "data": {
      "text/plain": [
       "\"Module(body=[FunctionDef(name='say_hello', args=arguments(args=[], vararg=None, kwarg=None, defaults=[]), body=[Print(dest=None, values=[Str(s='Hello, World!')], nl=True)], decorator_list=[]), Expr(value=Call(func=Name(id='say_hello', ctx=Load()), args=[], keywords=[], starargs=None, kwargs=None))])\""
      ]
     },
     "execution_count": 14,
     "metadata": {},
     "output_type": "execute_result"
    }
   ],
   "source": [
    "ast.dump(program_ast)"
   ]
  },
  {
   "cell_type": "code",
   "execution_count": 15,
   "metadata": {},
   "outputs": [
    {
     "data": {
      "text/plain": [
       "[<_ast.FunctionDef at 0x108a1a790>, <_ast.Expr at 0x108a1ac50>]"
      ]
     },
     "execution_count": 15,
     "metadata": {},
     "output_type": "execute_result"
    }
   ],
   "source": [
    "program_ast.body"
   ]
  },
  {
   "cell_type": "code",
   "execution_count": 16,
   "metadata": {
    "scrolled": true
   },
   "outputs": [
    {
     "name": "stdout",
     "output_type": "stream",
     "text": [
      "FunctionDef(name='say_hello', args=arguments(args=[], vararg=None, kwarg=None, defaults=[]), body=[Print(dest=None, values=[Str(s='Hello, World!')], nl=True)], decorator_list=[]) \n",
      "\n",
      "Expr(value=Call(func=Name(id='say_hello', ctx=Load()), args=[], keywords=[], starargs=None, kwargs=None)) \n",
      "\n"
     ]
    }
   ],
   "source": [
    "for statement in program_ast.body:\n",
    "    print ast.dump(statement), '\\n'"
   ]
  },
  {
   "cell_type": "code",
   "execution_count": 17,
   "metadata": {
    "scrolled": true
   },
   "outputs": [
    {
     "name": "stdout",
     "output_type": "stream",
     "text": [
      "Call(func=Name(id='say_hello', ctx=Load()), args=[], keywords=[], starargs=None, kwargs=None)\n"
     ]
    }
   ],
   "source": [
    "class FunctionCallVisitor(ast.NodeVisitor):\n",
    "    def visit_Call(self, node):\n",
    "        print ast.dump(node)\n",
    "\n",
    "FunctionCallVisitor().visit(program_ast)"
   ]
  },
  {
   "cell_type": "code",
   "execution_count": 18,
   "metadata": {
    "collapsed": true
   },
   "outputs": [],
   "source": [
    "divisors_code = '''def divisors(n):\n",
    "    for d in range(1, n + 1):\n",
    "        if n % d == 0:\n",
    "            print d'''"
   ]
  },
  {
   "cell_type": "code",
   "execution_count": 19,
   "metadata": {
    "scrolled": true
   },
   "outputs": [
    {
     "data": {
      "text/plain": [
       "\"Module(body=[FunctionDef(name='divisors', args=arguments(args=[Name(id='n', ctx=Param())], vararg=None, kwarg=None, defaults=[]), body=[For(target=Name(id='d', ctx=Store()), iter=Call(func=Name(id='range', ctx=Load()), args=[Num(n=1), BinOp(left=Name(id='n', ctx=Load()), op=Add(), right=Num(n=1))], keywords=[], starargs=None, kwargs=None), body=[If(test=Compare(left=BinOp(left=Name(id='n', ctx=Load()), op=Mod(), right=Name(id='d', ctx=Load())), ops=[Eq()], comparators=[Num(n=0)]), body=[Print(dest=None, values=[Name(id='d', ctx=Load())], nl=True)], orelse=[])], orelse=[])], decorator_list=[])])\""
      ]
     },
     "execution_count": 19,
     "metadata": {},
     "output_type": "execute_result"
    }
   ],
   "source": [
    "ast.dump(ast.parse(divisors_code))"
   ]
  },
  {
   "cell_type": "markdown",
   "metadata": {},
   "source": [
    "Visualize the tree:\n",
    "\n",
    "* https://github.com/hchasestevens/show_ast\n",
    "* http://www.pycs.net/users/0000445/stories/3.html\n"
   ]
  },
  {
   "cell_type": "code",
   "execution_count": null,
   "metadata": {
    "collapsed": true
   },
   "outputs": [],
   "source": []
  },
  {
   "cell_type": "code",
   "execution_count": null,
   "metadata": {
    "collapsed": true
   },
   "outputs": [],
   "source": []
  },
  {
   "cell_type": "markdown",
   "metadata": {
    "collapsed": true
   },
   "source": [
    "**Vocabulary**"
   ]
  },
  {
   "cell_type": "code",
   "execution_count": 29,
   "metadata": {
    "collapsed": true
   },
   "outputs": [],
   "source": [
    "token_to_id = {\n",
    "    'ENDMARKER': 0,\n",
    "    'NAME': 1,\n",
    "    'NUMBER': 2,\n",
    "    'STRING': 3,\n",
    "    'NEWLINE': 4,\n",
    "    'INDENT': 5,\n",
    "    'DEDENT': 6,\n",
    "    'LPAR': 7,\n",
    "    'RPAR': 8,\n",
    "    'LSQB': 9,\n",
    "    'RSQB': 10,\n",
    "    'COLON': 11,\n",
    "    'COMMA': 12,\n",
    "    'SEMI': 13,\n",
    "    'PLUS': 14,\n",
    "    'MINUS': 15,\n",
    "    'STAR': 16,\n",
    "    'SLASH': 17,\n",
    "    'VBAR': 18,\n",
    "    'AMPER': 19,\n",
    "    'LESS': 20,\n",
    "    'GREATER': 21,\n",
    "    'EQUAL': 22,\n",
    "    'DOT': 23,\n",
    "    'PERCENT': 24,\n",
    "    'BACKQUOTE': 25,\n",
    "    'LBRACE': 26,\n",
    "    'RBRACE': 27,\n",
    "    'EQEQUAL': 28,\n",
    "    'NOTEQUAL': 29,\n",
    "    'LESSEQUAL': 30,\n",
    "    'GREATEREQUAL': 31,\n",
    "    'TILDE': 32,\n",
    "    'CIRCUMFLEX': 33,\n",
    "    'LEFTSHIFT': 34,\n",
    "    'RIGHTSHIFT': 35,\n",
    "    'DOUBLESTAR': 36,\n",
    "    'PLUSEQUAL': 37,\n",
    "    'MINEQUAL': 38,\n",
    "    'STAREQUAL': 39,\n",
    "    'SLASHEQUAL': 40,\n",
    "    'PERCENTEQUAL': 41,\n",
    "    'AMPEREQUAL': 42,\n",
    "    'VBAREQUAL': 43,\n",
    "    'CIRCUMFLEXEQUAL': 44,\n",
    "    'LEFTSHIFTEQUAL': 45,\n",
    "    'RIGHTSHIFTEQUAL': 46,\n",
    "    'DOUBLESTAREQUAL': 47,\n",
    "    'DOUBLESLASH': 48,\n",
    "    'DOUBLESLASHEQUAL': 49,\n",
    "    'AT': 50,\n",
    "    'ATEQUAL': 51,\n",
    "    'OP': 52,\n",
    "    'COMMENT': 53,\n",
    "    'NL': 54,\n",
    "    'RARROW': 55,\n",
    "    'ERRORTOKEN': 56,\n",
    "    'N_TOKENS': 57,\n",
    "    'NT_OFFSET': 256,\n",
    "}"
   ]
  },
  {
   "cell_type": "code",
   "execution_count": 32,
   "metadata": {
    "collapsed": true
   },
   "outputs": [],
   "source": [
    "id_to_token = { v:k for k, v in token_to_id.iteritems() }"
   ]
  },
  {
   "cell_type": "code",
   "execution_count": 33,
   "metadata": {
    "scrolled": true
   },
   "outputs": [
    {
     "data": {
      "text/plain": [
       "'LESS'"
      ]
     },
     "execution_count": 33,
     "metadata": {},
     "output_type": "execute_result"
    }
   ],
   "source": [
    "id_to_token[20]"
   ]
  },
  {
   "cell_type": "code",
   "execution_count": 96,
   "metadata": {
    "collapsed": true
   },
   "outputs": [],
   "source": [
    "vocabulary = token_to_id.keys()"
   ]
  },
  {
   "cell_type": "code",
   "execution_count": 97,
   "metadata": {
    "collapsed": true
   },
   "outputs": [],
   "source": [
    "keywords = [ 'and', 'del', 'from', 'not', 'while', 'as', 'elif', 'global', 'or', 'with', \n",
    "            'assert', 'else', 'if', 'pass', 'yield', 'break', 'except', 'import', 'print', \n",
    "            'class', 'exec', 'in', 'raise', 'continue', 'finally', 'is', 'return', 'def', \n",
    "            'for', 'lambda', 'try']\n",
    "\n",
    "built_functions = ['abs', 'divmod', 'input', 'open', 'staticmethod', 'all', 'enumerate', 'int', \n",
    "                   'ord', 'str', 'any', 'eval', 'isinstance', 'pow', 'sum', 'basestring', 'execfile', \n",
    "                   'issubclass', 'print', 'super', 'bin', 'file', 'iter', 'property', 'tuple', 'bool', \n",
    "                   'filter', 'len', 'range', 'type', 'bytearray', 'float', 'list', 'raw_input', 'unichr', \n",
    "                   'callable', 'format', 'locals', 'reduce', 'unicode', 'chr', 'frozenset', 'long', 'reload', \n",
    "                   'vars', 'classmethod', 'getattr', 'map', 'repr', 'xrange', 'cmp', 'globals', 'max', \n",
    "                   'reversed', 'zip', 'compile', 'hasattr', 'memoryview', 'round', '__import__', 'complex', \n",
    "                   'hash', 'min', 'set', 'delattr', 'help', 'next', 'setattr', 'dict', 'hex', 'object', \n",
    "                   'slice', 'dir', 'id', 'oct', 'sorted']\n",
    "\n",
    "operators = ['+', '-', '*', '**', '/', '//', '%', '<<', '>>', '&', '|', '^', '~', '<', '>', \n",
    "             '<=', '>=', '==', '!=', '<>']\n",
    "\n",
    "delimiters = ['(', ')', '[', ']', '{', '}', '@', ',', ':', '.', '`', '=', ';', '+=', '-=', '*=', \n",
    "              '/=', '//=', '%=', '&=', '|=', '^=', '>>=', '<<=', '**=',\n",
    "              '\\'', '\"', '#', '\\\\', '$', '?']"
   ]
  },
  {
   "cell_type": "code",
   "execution_count": 98,
   "metadata": {
    "collapsed": true
   },
   "outputs": [],
   "source": [
    "vocabulary.extend(keywords)\n",
    "vocabulary.extend(built_functions)\n",
    "vocabulary.extend(operators)\n",
    "vocabulary.extend(delimiters)\n",
    "# vocabulary"
   ]
  },
  {
   "cell_type": "code",
   "execution_count": 99,
   "metadata": {
    "collapsed": true
   },
   "outputs": [],
   "source": [
    "# len(vocabulary)"
   ]
  },
  {
   "cell_type": "code",
   "execution_count": 100,
   "metadata": {
    "collapsed": true
   },
   "outputs": [],
   "source": [
    "# vocabulary[0]"
   ]
  },
  {
   "cell_type": "code",
   "execution_count": 101,
   "metadata": {
    "collapsed": true
   },
   "outputs": [],
   "source": [
    "# vocabulary[100]"
   ]
  },
  {
   "cell_type": "code",
   "execution_count": 102,
   "metadata": {
    "collapsed": true
   },
   "outputs": [],
   "source": [
    "vocab_to_id = { k:v for k, v in set(enumerate(vocabulary)) }"
   ]
  },
  {
   "cell_type": "code",
   "execution_count": 103,
   "metadata": {
    "collapsed": true
   },
   "outputs": [],
   "source": [
    "# vocab_to_id[0], vocab_to_id[216]"
   ]
  },
  {
   "cell_type": "code",
   "execution_count": 104,
   "metadata": {
    "collapsed": true
   },
   "outputs": [],
   "source": [
    "id_to_vocab = { v:k + 2 for k,v in vocab_to_id.iteritems() }\n",
    "id_to_vocab['<PAD>'] = 0\n",
    "id_to_vocab['<UNK>'] = 1"
   ]
  },
  {
   "cell_type": "code",
   "execution_count": 105,
   "metadata": {
    "collapsed": true
   },
   "outputs": [],
   "source": [
    "# id_to_vocab['<PAD>']"
   ]
  },
  {
   "cell_type": "code",
   "execution_count": 106,
   "metadata": {
    "collapsed": true
   },
   "outputs": [],
   "source": [
    "# id_to_vocab['>']"
   ]
  },
  {
   "cell_type": "code",
   "execution_count": 107,
   "metadata": {
    "collapsed": true
   },
   "outputs": [],
   "source": [
    "# id_to_vocab['while']"
   ]
  },
  {
   "cell_type": "code",
   "execution_count": 108,
   "metadata": {
    "collapsed": true
   },
   "outputs": [],
   "source": [
    "# for key, value in sorted(id_to_vocab.iteritems(), key=lambda (k,v): (v,k)):\n",
    "#     print \"%s: %s\" % (key, value)"
   ]
  },
  {
   "cell_type": "code",
   "execution_count": 112,
   "metadata": {
    "collapsed": true
   },
   "outputs": [],
   "source": [
    "def get_tokens(code):\n",
    "\n",
    "    try:\n",
    "        tokens = generate_tokens(StringIO(code).readline)\n",
    "        # return [row[0] for row in list(tokens)]\n",
    "        \n",
    "        _ids = []\n",
    "        \n",
    "        for row in list(tokens):\n",
    "            \n",
    "            print row\n",
    "            \n",
    "            token_num, token_value, line_pos_from, line_pos_to, line = row\n",
    "            \n",
    "            if token_num in id_to_token:\n",
    "                \n",
    "                print token_num\n",
    "                \n",
    "                if token_num == 1 and token_value in id_to_vocab: # id_to_token[token_num] == 'NAME'\n",
    "                    _id = id_to_vocab[token_value]\n",
    "                else:\n",
    "                    _id = id_to_vocab[id_to_token[token_num]]\n",
    "            else:\n",
    "                _id = id_to_vocab['<UNK>']\n",
    "                \n",
    "            _ids.append(_id)\n",
    "            \n",
    "        return _ids\n",
    "\n",
    "    except:\n",
    "        print \"Unexpected error:\", sys.exc_info()[0]\n",
    "        return None"
   ]
  },
  {
   "cell_type": "code",
   "execution_count": 113,
   "metadata": {},
   "outputs": [
    {
     "data": {
      "text/plain": [
       "'\\ndef get_name(name):\\n    print \"Hi %s\" % (name)\\nget_name(\\'David\\')\\n'"
      ]
     },
     "execution_count": 113,
     "metadata": {},
     "output_type": "execute_result"
    }
   ],
   "source": [
    "program_a"
   ]
  },
  {
   "cell_type": "code",
   "execution_count": 114,
   "metadata": {},
   "outputs": [
    {
     "name": "stdout",
     "output_type": "stream",
     "text": [
      "(54, '\\n', (1, 0), (1, 1), '\\n')\n",
      "54\n",
      "(1, 'def', (2, 0), (2, 3), 'def get_name(name):\\n')\n",
      "1\n",
      "(1, 'get_name', (2, 4), (2, 12), 'def get_name(name):\\n')\n",
      "1\n",
      "(51, '(', (2, 12), (2, 13), 'def get_name(name):\\n')\n",
      "51\n",
      "(1, 'name', (2, 13), (2, 17), 'def get_name(name):\\n')\n",
      "1\n",
      "(51, ')', (2, 17), (2, 18), 'def get_name(name):\\n')\n",
      "51\n",
      "(51, ':', (2, 18), (2, 19), 'def get_name(name):\\n')\n",
      "51\n",
      "(4, '\\n', (2, 19), (2, 20), 'def get_name(name):\\n')\n",
      "4\n",
      "(5, '    ', (3, 0), (3, 4), '    print \"Hi %s\" % (name)\\n')\n",
      "5\n",
      "(1, 'print', (3, 4), (3, 9), '    print \"Hi %s\" % (name)\\n')\n",
      "1\n",
      "(3, '\"Hi %s\"', (3, 10), (3, 17), '    print \"Hi %s\" % (name)\\n')\n",
      "3\n",
      "(51, '%', (3, 18), (3, 19), '    print \"Hi %s\" % (name)\\n')\n",
      "51\n",
      "(51, '(', (3, 20), (3, 21), '    print \"Hi %s\" % (name)\\n')\n",
      "51\n",
      "(1, 'name', (3, 21), (3, 25), '    print \"Hi %s\" % (name)\\n')\n",
      "1\n",
      "(51, ')', (3, 25), (3, 26), '    print \"Hi %s\" % (name)\\n')\n",
      "51\n",
      "(4, '\\n', (3, 26), (3, 27), '    print \"Hi %s\" % (name)\\n')\n",
      "4\n",
      "(6, '', (4, 0), (4, 0), \"get_name('David')\\n\")\n",
      "6\n",
      "(1, 'get_name', (4, 0), (4, 8), \"get_name('David')\\n\")\n",
      "1\n",
      "(51, '(', (4, 8), (4, 9), \"get_name('David')\\n\")\n",
      "51\n",
      "(3, \"'David'\", (4, 9), (4, 16), \"get_name('David')\\n\")\n",
      "3\n",
      "(51, ')', (4, 16), (4, 17), \"get_name('David')\\n\")\n",
      "51\n",
      "(4, '\\n', (4, 17), (4, 18), \"get_name('David')\\n\")\n",
      "4\n",
      "(0, '', (5, 0), (5, 0), '')\n",
      "0\n"
     ]
    },
    {
     "data": {
      "text/plain": [
       "[13,\n",
       " 88,\n",
       " 30,\n",
       " 55,\n",
       " 30,\n",
       " 55,\n",
       " 55,\n",
       " 15,\n",
       " 31,\n",
       " 110,\n",
       " 53,\n",
       " 55,\n",
       " 55,\n",
       " 30,\n",
       " 55,\n",
       " 15,\n",
       " 35,\n",
       " 30,\n",
       " 55,\n",
       " 53,\n",
       " 55,\n",
       " 15,\n",
       " 3]"
      ]
     },
     "execution_count": 114,
     "metadata": {},
     "output_type": "execute_result"
    }
   ],
   "source": [
    "get_tokens(program_a)"
   ]
  },
  {
   "cell_type": "code",
   "execution_count": 6,
   "metadata": {
    "collapsed": true
   },
   "outputs": [],
   "source": [
    "program_sum = '''\n",
    "#!/usr/bin/env python\n",
    "\n",
    "# read from input\n",
    "a = int(raw_input()) # first\n",
    "b = int(raw_input()) # second\n",
    "\n",
    "print a + b'''"
   ]
  },
  {
   "cell_type": "code",
   "execution_count": 7,
   "metadata": {},
   "outputs": [
    {
     "name": "stdout",
     "output_type": "stream",
     "text": [
      "#!/usr/bin/env python\r\n",
      "\r\n",
      "# read from input\r\n",
      "a = int(raw_input()) # first\r\n",
      "b = int(raw_input()) # second\r\n",
      "\r\n",
      "print a + b\r\n"
     ]
    }
   ],
   "source": [
    "!cat data/sum.py"
   ]
  },
  {
   "cell_type": "code",
   "execution_count": 8,
   "metadata": {
    "scrolled": false
   },
   "outputs": [
    {
     "name": "stdout",
     "output_type": "stream",
     "text": [
      "1,0-1,21:\tCOMMENT\t'#!/usr/bin/env python'\r\n",
      "1,21-1,22:\tNL\t'\\n'\r\n",
      "2,0-2,1:\tNL\t'\\n'\r\n",
      "3,0-3,17:\tCOMMENT\t'# read from input'\r\n",
      "3,17-3,18:\tNL\t'\\n'\r\n",
      "4,0-4,1:\tNAME\t'a'\r\n",
      "4,2-4,3:\tOP\t'='\r\n",
      "4,4-4,7:\tNAME\t'int'\r\n",
      "4,7-4,8:\tOP\t'('\r\n",
      "4,8-4,17:\tNAME\t'raw_input'\r\n",
      "4,17-4,18:\tOP\t'('\r\n",
      "4,18-4,19:\tOP\t')'\r\n",
      "4,19-4,20:\tOP\t')'\r\n",
      "4,21-4,28:\tCOMMENT\t'# first'\r\n",
      "4,28-4,29:\tNEWLINE\t'\\n'\r\n",
      "5,0-5,1:\tNAME\t'b'\r\n",
      "5,2-5,3:\tOP\t'='\r\n",
      "5,4-5,7:\tNAME\t'int'\r\n",
      "5,7-5,8:\tOP\t'('\r\n",
      "5,8-5,17:\tNAME\t'raw_input'\r\n",
      "5,17-5,18:\tOP\t'('\r\n",
      "5,18-5,19:\tOP\t')'\r\n",
      "5,19-5,20:\tOP\t')'\r\n",
      "5,21-5,29:\tCOMMENT\t'# second'\r\n",
      "5,29-5,30:\tNEWLINE\t'\\n'\r\n",
      "6,0-6,1:\tNL\t'\\n'\r\n",
      "7,0-7,5:\tNAME\t'print'\r\n",
      "7,6-7,7:\tNAME\t'a'\r\n",
      "7,8-7,9:\tOP\t'+'\r\n",
      "7,10-7,11:\tNAME\t'b'\r\n",
      "7,11-7,12:\tNEWLINE\t'\\n'\r\n",
      "8,0-8,0:\tENDMARKER\t''\r\n"
     ]
    }
   ],
   "source": [
    "!python -m tokenize data/sum.py"
   ]
  },
  {
   "cell_type": "code",
   "execution_count": 20,
   "metadata": {
    "collapsed": true
   },
   "outputs": [],
   "source": [
    "program_score = '''\n",
    "n = input()\n",
    "i = 0\n",
    "away_score = (away_goals * 3) + away_points\n",
    "home_score = (home_goals * 3) + home_points \n",
    "while n < 4:\n",
    "    n = input()\n",
    "    if home_score > away_score :\n",
    "        print \"home win\"\n",
    "    elif home_score < away_score :\n",
    "        print \"away win\"\n",
    "    else:\n",
    "        print \"draw\"\n",
    "    i = i + 1\n",
    "'''"
   ]
  },
  {
   "cell_type": "code",
   "execution_count": 24,
   "metadata": {},
   "outputs": [
    {
     "name": "stdout",
     "output_type": "stream",
     "text": [
      "n = input()\r\n",
      "i = 0\r\n",
      "away_score = (away_goals * 3) + away_points\r\n",
      "home_score = (home_goals * 3) + home_points \r\n",
      "while n < 4:\r\n",
      "    n = input()\r\n",
      "    if home_score > away_score :\r\n",
      "        print \"home win\"\r\n",
      "    elif home_score < away_score :\r\n",
      "        print \"away win\"\r\n",
      "    else:\r\n",
      "        print \"draw\"\r\n",
      "    i = i + 1\r\n"
     ]
    }
   ],
   "source": [
    "!cat data/score.py"
   ]
  },
  {
   "cell_type": "code",
   "execution_count": 22,
   "metadata": {},
   "outputs": [
    {
     "name": "stdout",
     "output_type": "stream",
     "text": [
      "1,0-1,1:\tNAME\t'n'\r\n",
      "1,2-1,3:\tOP\t'='\r\n",
      "1,4-1,9:\tNAME\t'input'\r\n",
      "1,9-1,10:\tOP\t'('\r\n",
      "1,10-1,11:\tOP\t')'\r\n",
      "1,11-1,12:\tNEWLINE\t'\\n'\r\n",
      "2,0-2,1:\tNAME\t'i'\r\n",
      "2,2-2,3:\tOP\t'='\r\n",
      "2,4-2,5:\tNUMBER\t'0'\r\n",
      "2,5-2,6:\tNEWLINE\t'\\n'\r\n",
      "3,0-3,10:\tNAME\t'away_score'\r\n",
      "3,11-3,12:\tOP\t'='\r\n",
      "3,13-3,14:\tOP\t'('\r\n",
      "3,14-3,24:\tNAME\t'away_goals'\r\n",
      "3,25-3,26:\tOP\t'*'\r\n",
      "3,27-3,28:\tNUMBER\t'3'\r\n",
      "3,28-3,29:\tOP\t')'\r\n",
      "3,30-3,31:\tOP\t'+'\r\n",
      "3,32-3,43:\tNAME\t'away_points'\r\n",
      "3,43-3,44:\tNEWLINE\t'\\n'\r\n",
      "4,0-4,10:\tNAME\t'home_score'\r\n",
      "4,11-4,12:\tOP\t'='\r\n",
      "4,13-4,14:\tOP\t'('\r\n",
      "4,14-4,24:\tNAME\t'home_goals'\r\n",
      "4,25-4,26:\tOP\t'*'\r\n",
      "4,27-4,28:\tNUMBER\t'3'\r\n",
      "4,28-4,29:\tOP\t')'\r\n",
      "4,30-4,31:\tOP\t'+'\r\n",
      "4,32-4,43:\tNAME\t'home_points'\r\n",
      "4,44-4,45:\tNEWLINE\t'\\n'\r\n",
      "5,0-5,5:\tNAME\t'while'\r\n",
      "5,6-5,7:\tNAME\t'n'\r\n",
      "5,8-5,9:\tOP\t'<'\r\n",
      "5,10-5,11:\tNUMBER\t'4'\r\n",
      "5,11-5,12:\tOP\t':'\r\n",
      "5,12-5,13:\tNEWLINE\t'\\n'\r\n",
      "6,0-6,4:\tINDENT\t'    '\r\n",
      "6,4-6,5:\tNAME\t'n'\r\n",
      "6,6-6,7:\tOP\t'='\r\n",
      "6,8-6,13:\tNAME\t'input'\r\n",
      "6,13-6,14:\tOP\t'('\r\n",
      "6,14-6,15:\tOP\t')'\r\n",
      "6,15-6,16:\tNEWLINE\t'\\n'\r\n",
      "7,4-7,6:\tNAME\t'if'\r\n",
      "7,7-7,17:\tNAME\t'home_score'\r\n",
      "7,18-7,19:\tOP\t'>'\r\n",
      "7,20-7,30:\tNAME\t'away_score'\r\n",
      "7,31-7,32:\tOP\t':'\r\n",
      "7,32-7,33:\tNEWLINE\t'\\n'\r\n",
      "8,0-8,8:\tINDENT\t'        '\r\n",
      "8,8-8,13:\tNAME\t'print'\r\n",
      "8,14-8,24:\tSTRING\t'\"home win\"'\r\n",
      "8,24-8,25:\tNEWLINE\t'\\n'\r\n",
      "9,4-9,4:\tDEDENT\t''\r\n",
      "9,4-9,8:\tNAME\t'elif'\r\n",
      "9,9-9,19:\tNAME\t'home_score'\r\n",
      "9,20-9,21:\tOP\t'<'\r\n",
      "9,22-9,32:\tNAME\t'away_score'\r\n",
      "9,33-9,34:\tOP\t':'\r\n",
      "9,34-9,35:\tNEWLINE\t'\\n'\r\n",
      "10,0-10,8:\tINDENT\t'        '\r\n",
      "10,8-10,13:\tNAME\t'print'\r\n",
      "10,14-10,24:\tSTRING\t'\"away win\"'\r\n",
      "10,24-10,25:\tNEWLINE\t'\\n'\r\n",
      "11,4-11,4:\tDEDENT\t''\r\n",
      "11,4-11,8:\tNAME\t'else'\r\n",
      "11,8-11,9:\tOP\t':'\r\n",
      "11,9-11,10:\tNEWLINE\t'\\n'\r\n",
      "12,0-12,8:\tINDENT\t'        '\r\n",
      "12,8-12,13:\tNAME\t'print'\r\n",
      "12,14-12,20:\tSTRING\t'\"draw\"'\r\n",
      "12,20-12,21:\tNEWLINE\t'\\n'\r\n",
      "13,4-13,4:\tDEDENT\t''\r\n",
      "13,4-13,5:\tNAME\t'i'\r\n",
      "13,6-13,7:\tOP\t'='\r\n",
      "13,8-13,9:\tNAME\t'i'\r\n",
      "13,10-13,11:\tOP\t'+'\r\n",
      "13,12-13,13:\tNUMBER\t'1'\r\n",
      "13,13-13,14:\tNEWLINE\t'\\n'\r\n",
      "14,0-14,0:\tDEDENT\t''\r\n",
      "14,0-14,0:\tENDMARKER\t''\r\n"
     ]
    }
   ],
   "source": [
    "!python -m tokenize data/score.py"
   ]
  }
 ],
 "metadata": {
  "kernelspec": {
   "display_name": "Python 2",
   "language": "python",
   "name": "python2"
  },
  "language_info": {
   "codemirror_mode": {
    "name": "ipython",
    "version": 2
   },
   "file_extension": ".py",
   "mimetype": "text/x-python",
   "name": "python",
   "nbconvert_exporter": "python",
   "pygments_lexer": "ipython2",
   "version": "2.7.14"
  }
 },
 "nbformat": 4,
 "nbformat_minor": 2
}
