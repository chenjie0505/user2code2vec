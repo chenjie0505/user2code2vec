{
 "cells": [
  {
   "cell_type": "markdown",
   "metadata": {},
   "source": [
    "# Learning programming representations\n",
    "\n",
    "We are going to represent programs as token vectors and learn their representations.\n",
    "\n",
    " We are going to learn a representation of these programs. We are going to create a prediction problem and try to predict whether the program submitted with be considered as correct, i.e. the program pass the testcases specified by the lecturer. Creating a prediction problem to learn representations of the data is a useful approach. There is no easy way to represent these programs so we are going to learn these representations. \n",
    " \n",
    "\n",
    "* https://code.google.com/archive/p/word2vec/\n",
    "\n",
    "* https://medium.com/@sabber/classifying-yelp-review-comments-using-cnn-lstm-and-pre-trained-glove-word-embeddings-part-3-53fcea9a17fa\n",
    "\n",
    "* https://www.cse.iitb.ac.in/~pb/papers/bionlp-acl17-medical-coding.pdf\n",
    "\n",
    "* https://github.com/sloomba/protein2vec\n",
    "\n",
    "* https://github.com/samiroid/usr2vec\n",
    "\n",
    "* https://github.com/keras-team/keras/blob/master/examples/pretrained_word_embeddings.py\n",
    "\n",
    "* http://ahogrammer.com/2017/01/20/the-list-of-pretrained-word-embeddings/\n",
    "\n",
    "* Topic Modelling for Humans: https://radimrehurek.com/gensim/\n",
    "\n",
    "* https://spacy.io/models/\n",
    "\n",
    "* https://www.shanelynn.ie/get-busy-with-word-embeddings-introduction/\n",
    "\n",
    "* Code2Vec https://ieeexplore.ieee.org/stamp/stamp.jsp?tp=&arnumber=8031179&tag=1, https://arxiv.org/pdf/1803.09473.pdf, https://code2vec.org/\n",
    "\n",
    "* From People2Vec to Emotional AI: http://people2vec.org/\n",
    "\n",
    "* Using Word2vec for Music Recommendations: https://towardsdatascience.com/using-word2vec-for-music-recommendations-bb9649ac2484\n",
    "\n",
    "* Source code identifier embeddings: https://blog.sourced.tech/post/id2vec/\n",
    "\n",
    "* Recommending Recommendation Systems: https://gab41.lab41.org/recommending-recommendation-systems-cc39ace3f5c1, https://github.com/Lab41/Misc/blob/master/blog/python2vec/Python2Vec%20Example.ipynb\n",
    "\n",
    "* Python2Vec: Word Embeddings for Source Code: https://gab41.lab41.org/python2vec-word-embeddings-for-source-code-3d14d030fe8f\n",
    "\n",
    "* Anything2Vec: https://gab41.lab41.org/anything2vec-e99ec0dc186\n",
    "\n",
    "* AutoKeras: https://towardsdatascience.com/autokeras-the-killer-of-googles-automl-9e84c552a319, https://autokeras.com/\n",
    "\n",
    "* Learning Program Embeddings to Propagate Feedback on Student Code: https://web.stanford.edu/~cpiech/bio/papers/programEncoding.pdf, https://github.com/chrispiech/refactoredEncoder\n",
    "\n",
    "* Research at Code.org: https://code.org/research\n",
    "\n",
    "* Cheatsheet: https://startupsventurecapital.com/essential-cheat-sheets-for-machine-learning-and-deep-learning-researchers-efb6a8ebd2e5\n",
    "\n",
    "* DCU Deep Learning Summer School: https://telecombcn-dl.github.io/2018-dlcv/, https://www.slideshare.net/xavigiro/d1l2-the-neural-network-zoo-upc-2018-deep-learning-for-computer-vision\n",
    "\n",
    "* Embeddings: https://developers.google.com/machine-learning/crash-course/embeddings/video-lecture"
   ]
  },
  {
   "cell_type": "code",
   "execution_count": 80,
   "metadata": {
    "collapsed": true
   },
   "outputs": [],
   "source": [
    "import os\n",
    "import json\n",
    "import tensorflow as tf\n",
    "import keras\n",
    "import sys\n",
    "import numpy as np\n",
    "import pandas as pd\n",
    "import itertools\n",
    "import collections\n",
    "import matplotlib.pyplot as plt\n",
    "%matplotlib inline\n",
    "from numpy import array\n",
    "from keras.preprocessing.text import one_hot\n",
    "from keras.preprocessing.sequence import pad_sequences\n",
    "from keras.models import Sequential\n",
    "from keras.layers import Dense\n",
    "from keras.layers import Flatten\n",
    "from keras.layers.embeddings import Embedding"
   ]
  },
  {
   "cell_type": "markdown",
   "metadata": {},
   "source": [
    "## Programming data\n",
    "\n",
    "Student develop programs locally for the laboratory sheets of computer programming courses at our university. These programs are submitted by them to an automatic grading platform that runs some test cases specified by the lecturer on each program. A JSON output for those testcases and whether the program passed them or not along with the actual code is stored."
   ]
  },
  {
   "cell_type": "code",
   "execution_count": 2,
   "metadata": {
    "collapsed": true
   },
   "outputs": [],
   "source": [
    "pg = pd.read_json('data/programming_data.json')"
   ]
  },
  {
   "cell_type": "code",
   "execution_count": 3,
   "metadata": {},
   "outputs": [
    {
     "data": {
      "text/plain": [
       "'641,153'"
      ]
     },
     "execution_count": 3,
     "metadata": {},
     "output_type": "execute_result"
    }
   ],
   "source": [
    "'{:,}'.format(len(pg))"
   ]
  },
  {
   "cell_type": "code",
   "execution_count": 4,
   "metadata": {
    "scrolled": true
   },
   "outputs": [
    {
     "data": {
      "text/html": [
       "<div>\n",
       "<style>\n",
       "    .dataframe thead tr:only-child th {\n",
       "        text-align: right;\n",
       "    }\n",
       "\n",
       "    .dataframe thead th {\n",
       "        text-align: left;\n",
       "    }\n",
       "\n",
       "    .dataframe tbody tr th {\n",
       "        vertical-align: top;\n",
       "    }\n",
       "</style>\n",
       "<table border=\"1\" class=\"dataframe\">\n",
       "  <thead>\n",
       "    <tr style=\"text-align: right;\">\n",
       "      <th></th>\n",
       "      <th>academic_year</th>\n",
       "      <th>correct</th>\n",
       "      <th>date</th>\n",
       "      <th>error</th>\n",
       "      <th>extension</th>\n",
       "      <th>failed</th>\n",
       "      <th>ip</th>\n",
       "      <th>module</th>\n",
       "      <th>passed</th>\n",
       "      <th>task</th>\n",
       "      <th>timeout</th>\n",
       "      <th>upload</th>\n",
       "      <th>user</th>\n",
       "    </tr>\n",
       "  </thead>\n",
       "  <tbody>\n",
       "    <tr>\n",
       "      <th>0</th>\n",
       "      <td>[2016, 2017]</td>\n",
       "      <td>True</td>\n",
       "      <td>2016-09-19 14:11:41</td>\n",
       "      <td></td>\n",
       "      <td>py</td>\n",
       "      <td>0</td>\n",
       "      <td></td>\n",
       "      <td>ca277</td>\n",
       "      <td>2</td>\n",
       "      <td>add.py</td>\n",
       "      <td>3</td>\n",
       "      <td>#!/usr/bin/env python\\n\\na = int(raw_input())\\...</td>\n",
       "      <td>95a41753-9092-4aa1-9f54-d4793345e8cf</td>\n",
       "    </tr>\n",
       "    <tr>\n",
       "      <th>1</th>\n",
       "      <td>[2016, 2017]</td>\n",
       "      <td>True</td>\n",
       "      <td>2016-09-19 14:17:33</td>\n",
       "      <td></td>\n",
       "      <td>py</td>\n",
       "      <td>0</td>\n",
       "      <td></td>\n",
       "      <td>ca277</td>\n",
       "      <td>2</td>\n",
       "      <td>concat-lines.py</td>\n",
       "      <td>3</td>\n",
       "      <td>#!/usr/bin/env python\\n\\na = str(raw_input())\\...</td>\n",
       "      <td>95a41753-9092-4aa1-9f54-d4793345e8cf</td>\n",
       "    </tr>\n",
       "  </tbody>\n",
       "</table>\n",
       "</div>"
      ],
      "text/plain": [
       "  academic_year correct                date error extension failed ip module  \\\n",
       "0  [2016, 2017]    True 2016-09-19 14:11:41              py      0     ca277   \n",
       "1  [2016, 2017]    True 2016-09-19 14:17:33              py      0     ca277   \n",
       "\n",
       "  passed             task timeout  \\\n",
       "0      2           add.py       3   \n",
       "1      2  concat-lines.py       3   \n",
       "\n",
       "                                              upload  \\\n",
       "0  #!/usr/bin/env python\\n\\na = int(raw_input())\\...   \n",
       "1  #!/usr/bin/env python\\n\\na = str(raw_input())\\...   \n",
       "\n",
       "                                   user  \n",
       "0  95a41753-9092-4aa1-9f54-d4793345e8cf  \n",
       "1  95a41753-9092-4aa1-9f54-d4793345e8cf  "
      ]
     },
     "execution_count": 4,
     "metadata": {},
     "output_type": "execute_result"
    }
   ],
   "source": [
    "pg.head(2)"
   ]
  },
  {
   "cell_type": "markdown",
   "metadata": {},
   "source": [
    "## Grades data\n",
    "\n",
    "In these programming courses, students are assesed by taking two or three laboratory exams throughout the semester. "
   ]
  },
  {
   "cell_type": "code",
   "execution_count": 13,
   "metadata": {
    "collapsed": true
   },
   "outputs": [],
   "source": [
    "grades_data = json.load(open('data/grades_data.json'))"
   ]
  },
  {
   "cell_type": "code",
   "execution_count": 14,
   "metadata": {},
   "outputs": [
    {
     "data": {
      "text/plain": [
       "'2,042'"
      ]
     },
     "execution_count": 14,
     "metadata": {},
     "output_type": "execute_result"
    }
   ],
   "source": [
    "'{:,}'.format(len(grades_data))"
   ]
  },
  {
   "cell_type": "markdown",
   "metadata": {},
   "source": [
    "## Programs as word vectors\n",
    "\n",
    "We are going to treat the programs students write and submit to our platform as word vectors. We are going to learn a representation of these programs. We are going to create a prediction problem and try to predict whether the program submitted with be considered as correct, i.e. the program pass the testcases specified by the lecturer. Creating a prediction problem to learn representations of the data is a useful approach. There is no easy way to represent these programs so we are going to learn these representations. "
   ]
  },
  {
   "cell_type": "code",
   "execution_count": 5,
   "metadata": {
    "collapsed": true
   },
   "outputs": [],
   "source": [
    "import re\n",
    "def remove_comments(text):\n",
    "    return re.sub(re.compile('#.*?\\n'), '', text)"
   ]
  },
  {
   "cell_type": "code",
   "execution_count": 6,
   "metadata": {},
   "outputs": [
    {
     "data": {
      "text/plain": [
       "'\\na = int(raw_input())\\nb = int(raw_input())\\n\\nprint a + b\\n\\n\\n'"
      ]
     },
     "execution_count": 6,
     "metadata": {},
     "output_type": "execute_result"
    }
   ],
   "source": [
    "program = '#!/usr/bin/env python\\n\\na = int(raw_input())\\nb = int(raw_input())\\n\\nprint a + b\\n\\n\\n'\n",
    "remove_comments(program)"
   ]
  },
  {
   "cell_type": "code",
   "execution_count": 7,
   "metadata": {},
   "outputs": [
    {
     "data": {
      "text/plain": [
       "'\\na = int(raw_input()) b = int(raw_input()) print a + b\\n'"
      ]
     },
     "execution_count": 7,
     "metadata": {},
     "output_type": "execute_result"
    }
   ],
   "source": [
    "program = '''\n",
    "#!/usr/bin/env python\n",
    "# read from input\n",
    "a = int(raw_input()) # first\n",
    "b = int(raw_input()) # second\n",
    "print a + b\n",
    "'''\n",
    "remove_comments(program)"
   ]
  },
  {
   "cell_type": "code",
   "execution_count": 8,
   "metadata": {
    "collapsed": true
   },
   "outputs": [],
   "source": [
    "from keras.preprocessing.text import text_to_word_sequence\n",
    "text_to_word_sequence?"
   ]
  },
  {
   "cell_type": "code",
   "execution_count": 9,
   "metadata": {},
   "outputs": [
    {
     "data": {
      "text/plain": [
       "['a', 'int', 'raw', 'input', 'b', 'int', 'raw', 'input', 'print', 'a', 'b']"
      ]
     },
     "execution_count": 9,
     "metadata": {},
     "output_type": "execute_result"
    }
   ],
   "source": [
    "text_to_word_sequence(remove_comments(program), lower=True, split=' ')"
   ]
  },
  {
   "cell_type": "markdown",
   "metadata": {},
   "source": [
    "By default in text_to_word_sequence the filters are:\n",
    "\n",
    "> filters='!\"#$%&()*+,-./:;<=>?@[\\\\]^_`{|}~\\t\\n'\n",
    "\n",
    "See the function signature"
   ]
  },
  {
   "cell_type": "code",
   "execution_count": 10,
   "metadata": {
    "scrolled": false
   },
   "outputs": [
    {
     "data": {
      "text/plain": [
       "['a',\n",
       " '=',\n",
       " 'int(raw_input())',\n",
       " 'b',\n",
       " '=',\n",
       " 'int(raw_input())',\n",
       " 'print',\n",
       " 'a',\n",
       " '+',\n",
       " 'b']"
      ]
     },
     "execution_count": 10,
     "metadata": {},
     "output_type": "execute_result"
    }
   ],
   "source": [
    "text_to_word_sequence(remove_comments(program), \n",
    "                      filters='\\t\\n',\n",
    "                      lower=True, \n",
    "                      split=' ')"
   ]
  },
  {
   "cell_type": "markdown",
   "metadata": {
    "collapsed": true
   },
   "source": [
    "It still does not represent a programming submission in a very comparable way to other submissions. We are going to run the following notebook where we tokenize the program given a vocabulary:"
   ]
  },
  {
   "cell_type": "code",
   "execution_count": 11,
   "metadata": {
    "collapsed": true
   },
   "outputs": [],
   "source": [
    "# http://nbviewer.jupyter.org/gist/minrk/5491090/analysis.ipynb\n",
    "\n",
    "#import io\n",
    "#from IPython.nbformat import current\n",
    "\n",
    "#def execute_notebook(nbfile):\n",
    "#    with io.open(nbfile) as f:\n",
    "#        nb = current.read(f, 'json')\n",
    "#    ip = get_ipython()\n",
    "#    for cell in nb.worksheets[0].cells:\n",
    "#        if cell.cell_type != 'code':\n",
    "#            continue\n",
    "#        ip.run_cell(cell.input)"
   ]
  },
  {
   "cell_type": "code",
   "execution_count": 12,
   "metadata": {
    "collapsed": true,
    "scrolled": true
   },
   "outputs": [],
   "source": [
    "# execute_notebook(\"Tokenize Python programs.ipynb\")"
   ]
  },
  {
   "cell_type": "code",
   "execution_count": 13,
   "metadata": {
    "collapsed": true,
    "scrolled": true
   },
   "outputs": [],
   "source": [
    "# get_tokens(program)"
   ]
  },
  {
   "cell_type": "code",
   "execution_count": 14,
   "metadata": {
    "collapsed": true
   },
   "outputs": [],
   "source": [
    "from tokenize import generate_tokens\n",
    "from StringIO import StringIO"
   ]
  },
  {
   "cell_type": "code",
   "execution_count": 15,
   "metadata": {
    "collapsed": true
   },
   "outputs": [],
   "source": [
    "tokens = [t[0] for t in list(generate_tokens(StringIO(program).readline))]"
   ]
  },
  {
   "cell_type": "code",
   "execution_count": 16,
   "metadata": {},
   "outputs": [
    {
     "name": "stdout",
     "output_type": "stream",
     "text": [
      "[54, 53, 54, 53, 54, 1, 51, 1, 51, 1, 51, 51, 51, 53, 4, 1, 51, 1, 51, 1, 51, 51, 51, 53, 4, 1, 1, 51, 1, 4, 0]\n"
     ]
    }
   ],
   "source": [
    "print tokens"
   ]
  },
  {
   "cell_type": "code",
   "execution_count": 17,
   "metadata": {},
   "outputs": [
    {
     "data": {
      "text/plain": [
       "['\\n',\n",
       " '#!/usr/bin/env python',\n",
       " '\\n',\n",
       " '# read from input',\n",
       " '\\n',\n",
       " 'a',\n",
       " '=',\n",
       " 'int',\n",
       " '(',\n",
       " 'raw_input',\n",
       " '(',\n",
       " ')',\n",
       " ')',\n",
       " '# first',\n",
       " '\\n',\n",
       " 'b',\n",
       " '=',\n",
       " 'int',\n",
       " '(',\n",
       " 'raw_input',\n",
       " '(',\n",
       " ')',\n",
       " ')',\n",
       " '# second',\n",
       " '\\n',\n",
       " 'print',\n",
       " 'a',\n",
       " '+',\n",
       " 'b',\n",
       " '\\n',\n",
       " '']"
      ]
     },
     "execution_count": 17,
     "metadata": {},
     "output_type": "execute_result"
    }
   ],
   "source": [
    "[t[1] for t in list(generate_tokens(StringIO(program).readline))]"
   ]
  },
  {
   "cell_type": "code",
   "execution_count": 18,
   "metadata": {
    "collapsed": true
   },
   "outputs": [],
   "source": [
    "def get_tokens(code, pos=0):\n",
    "    '''\n",
    "    Get tokens\n",
    "    Arguments: \n",
    "    - code\n",
    "    - pos: 0: token IDs, 1: tokens\n",
    "    '''\n",
    "    try:\n",
    "        return [t[pos] for t in list(generate_tokens(StringIO(remove_comments(code)).readline))]\n",
    "    except:\n",
    "        return None"
   ]
  },
  {
   "cell_type": "code",
   "execution_count": 19,
   "metadata": {},
   "outputs": [
    {
     "data": {
      "text/plain": [
       "['\\n',\n",
       " 'a',\n",
       " '=',\n",
       " 'int',\n",
       " '(',\n",
       " 'raw_input',\n",
       " '(',\n",
       " ')',\n",
       " ')',\n",
       " 'b',\n",
       " '=',\n",
       " 'int',\n",
       " '(',\n",
       " 'raw_input',\n",
       " '(',\n",
       " ')',\n",
       " ')',\n",
       " 'print',\n",
       " 'a',\n",
       " '+',\n",
       " 'b',\n",
       " '\\n',\n",
       " '']"
      ]
     },
     "execution_count": 19,
     "metadata": {},
     "output_type": "execute_result"
    }
   ],
   "source": [
    "get_tokens(program, pos=1)"
   ]
  },
  {
   "cell_type": "code",
   "execution_count": 20,
   "metadata": {},
   "outputs": [
    {
     "data": {
      "text/plain": [
       "[54,\n",
       " 1,\n",
       " 51,\n",
       " 1,\n",
       " 51,\n",
       " 1,\n",
       " 51,\n",
       " 51,\n",
       " 51,\n",
       " 1,\n",
       " 51,\n",
       " 1,\n",
       " 51,\n",
       " 1,\n",
       " 51,\n",
       " 51,\n",
       " 51,\n",
       " 1,\n",
       " 1,\n",
       " 51,\n",
       " 1,\n",
       " 4,\n",
       " 0]"
      ]
     },
     "execution_count": 20,
     "metadata": {},
     "output_type": "execute_result"
    }
   ],
   "source": [
    "get_tokens(program, pos=0)"
   ]
  },
  {
   "cell_type": "markdown",
   "metadata": {},
   "source": [
    "That looks better! We are only applying those two filters in order to have a more accurate representation of the programs. "
   ]
  },
  {
   "cell_type": "markdown",
   "metadata": {
    "collapsed": true
   },
   "source": [
    "## Word embeddings example\n",
    "\n",
    "https://machinelearningmastery.com/use-word-embedding-layers-deep-learning-keras/"
   ]
  },
  {
   "cell_type": "code",
   "execution_count": 51,
   "metadata": {
    "collapsed": true
   },
   "outputs": [],
   "source": [
    "# define documents\n",
    "docs = ['Well done!',\n",
    "\t\t'Good work',\n",
    "\t\t'Great effort',\n",
    "\t\t'nice work',\n",
    "\t\t'Excellent!',\n",
    "\t\t'Weak',\n",
    "\t\t'Poor effort!',\n",
    "\t\t'not good',\n",
    "\t\t'poor work',\n",
    "\t\t'Could have done better.']\n",
    "# define class labels\n",
    "labels = array([1,1,1,1,1,0,0,0,0,0])"
   ]
  },
  {
   "cell_type": "code",
   "execution_count": 54,
   "metadata": {},
   "outputs": [
    {
     "name": "stdout",
     "output_type": "stream",
     "text": [
      "[[25, 48], [18, 22], [39, 3], [17, 22], [28], [37], [3, 3], [40, 18], [3, 22], [40, 19, 48, 4]]\n"
     ]
    }
   ],
   "source": [
    "# integer encode the documents\n",
    "vocab_size = 50\n",
    "encoded_docs = [one_hot(d, vocab_size) for d in docs]\n",
    "print(encoded_docs)"
   ]
  },
  {
   "cell_type": "code",
   "execution_count": 55,
   "metadata": {
    "scrolled": true
   },
   "outputs": [
    {
     "name": "stdout",
     "output_type": "stream",
     "text": [
      "[[25 48  0  0]\n",
      " [18 22  0  0]\n",
      " [39  3  0  0]\n",
      " [17 22  0  0]\n",
      " [28  0  0  0]\n",
      " [37  0  0  0]\n",
      " [ 3  3  0  0]\n",
      " [40 18  0  0]\n",
      " [ 3 22  0  0]\n",
      " [40 19 48  4]]\n"
     ]
    }
   ],
   "source": [
    "# pad documents to a max length of 4 words\n",
    "max_length = 4\n",
    "padded_docs = pad_sequences(encoded_docs, maxlen=max_length, padding='post')\n",
    "print(padded_docs)"
   ]
  },
  {
   "cell_type": "code",
   "execution_count": 56,
   "metadata": {},
   "outputs": [
    {
     "name": "stdout",
     "output_type": "stream",
     "text": [
      "_________________________________________________________________\n",
      "Layer (type)                 Output Shape              Param #   \n",
      "=================================================================\n",
      "embedding_1 (Embedding)      (None, 4, 8)              400       \n",
      "_________________________________________________________________\n",
      "flatten_1 (Flatten)          (None, 32)                0         \n",
      "_________________________________________________________________\n",
      "dense_1 (Dense)              (None, 1)                 33        \n",
      "=================================================================\n",
      "Total params: 433\n",
      "Trainable params: 433\n",
      "Non-trainable params: 0\n",
      "_________________________________________________________________\n",
      "None\n"
     ]
    }
   ],
   "source": [
    "# define the model\n",
    "model = Sequential()\n",
    "model.add(Embedding(vocab_size, 8, input_length=max_length))\n",
    "model.add(Flatten())\n",
    "model.add(Dense(1, activation='sigmoid'))\n",
    "# compile the model\n",
    "model.compile(optimizer='adam', loss='binary_crossentropy', metrics=['acc'])\n",
    "# summarize the model\n",
    "print(model.summary())"
   ]
  },
  {
   "cell_type": "code",
   "execution_count": 57,
   "metadata": {},
   "outputs": [
    {
     "name": "stdout",
     "output_type": "stream",
     "text": [
      "Accuracy: 89.999998\n"
     ]
    }
   ],
   "source": [
    "# fit the model\n",
    "model.fit(padded_docs, labels, epochs=50, verbose=0)\n",
    "# evaluate the model\n",
    "loss, accuracy = model.evaluate(padded_docs, labels, verbose=0)\n",
    "print('Accuracy: %f, Loss: %f' % (accuracy * 100, loss * 100))"
   ]
  },
  {
   "cell_type": "markdown",
   "metadata": {},
   "source": [
    "## Program2vec for a particular task"
   ]
  },
  {
   "cell_type": "code",
   "execution_count": 24,
   "metadata": {
    "collapsed": true
   },
   "outputs": [],
   "source": [
    "codes = pg[(pg['task'] == 'all-suffixes.py') & \n",
    "           (pg['module'] == 'ca116')]"
   ]
  },
  {
   "cell_type": "code",
   "execution_count": 25,
   "metadata": {},
   "outputs": [
    {
     "data": {
      "text/plain": [
       "'588'"
      ]
     },
     "execution_count": 25,
     "metadata": {},
     "output_type": "execute_result"
    }
   ],
   "source": [
    "'{:,}'.format(codes.shape[0])"
   ]
  },
  {
   "cell_type": "code",
   "execution_count": 26,
   "metadata": {},
   "outputs": [
    {
     "data": {
      "text/html": [
       "<div>\n",
       "<style>\n",
       "    .dataframe thead tr:only-child th {\n",
       "        text-align: right;\n",
       "    }\n",
       "\n",
       "    .dataframe thead th {\n",
       "        text-align: left;\n",
       "    }\n",
       "\n",
       "    .dataframe tbody tr th {\n",
       "        vertical-align: top;\n",
       "    }\n",
       "</style>\n",
       "<table border=\"1\" class=\"dataframe\">\n",
       "  <thead>\n",
       "    <tr style=\"text-align: right;\">\n",
       "      <th></th>\n",
       "      <th>academic_year</th>\n",
       "      <th>correct</th>\n",
       "      <th>date</th>\n",
       "      <th>error</th>\n",
       "      <th>extension</th>\n",
       "      <th>failed</th>\n",
       "      <th>ip</th>\n",
       "      <th>module</th>\n",
       "      <th>passed</th>\n",
       "      <th>task</th>\n",
       "      <th>timeout</th>\n",
       "      <th>upload</th>\n",
       "      <th>user</th>\n",
       "    </tr>\n",
       "  </thead>\n",
       "  <tbody>\n",
       "    <tr>\n",
       "      <th>3338</th>\n",
       "      <td>[2015, 2016]</td>\n",
       "      <td>True</td>\n",
       "      <td>2016-10-11 14:37:34</td>\n",
       "      <td></td>\n",
       "      <td>py</td>\n",
       "      <td>0</td>\n",
       "      <td></td>\n",
       "      <td>ca116</td>\n",
       "      <td>2</td>\n",
       "      <td>all-suffixes.py</td>\n",
       "      <td>3</td>\n",
       "      <td>s=raw_input()\\ni=0\\n\\nwhile i&lt;len(s):\\n  print...</td>\n",
       "      <td>28dec824-d35a-4d11-8ca4-35cf55325e25</td>\n",
       "    </tr>\n",
       "  </tbody>\n",
       "</table>\n",
       "</div>"
      ],
      "text/plain": [
       "     academic_year correct                date error extension failed ip  \\\n",
       "3338  [2015, 2016]    True 2016-10-11 14:37:34              py      0      \n",
       "\n",
       "     module passed             task timeout  \\\n",
       "3338  ca116      2  all-suffixes.py       3   \n",
       "\n",
       "                                                 upload  \\\n",
       "3338  s=raw_input()\\ni=0\\n\\nwhile i<len(s):\\n  print...   \n",
       "\n",
       "                                      user  \n",
       "3338  28dec824-d35a-4d11-8ca4-35cf55325e25  "
      ]
     },
     "execution_count": 26,
     "metadata": {},
     "output_type": "execute_result"
    }
   ],
   "source": [
    "codes.head(1)"
   ]
  },
  {
   "cell_type": "code",
   "execution_count": 27,
   "metadata": {},
   "outputs": [
    {
     "data": {
      "text/plain": [
       "249"
      ]
     },
     "execution_count": 27,
     "metadata": {},
     "output_type": "execute_result"
    }
   ],
   "source": [
    "len(codes['user'].unique())"
   ]
  },
  {
   "cell_type": "code",
   "execution_count": 28,
   "metadata": {},
   "outputs": [
    {
     "data": {
      "text/plain": [
       "True     461\n",
       "False    127\n",
       "Name: correct, dtype: int64"
      ]
     },
     "execution_count": 28,
     "metadata": {},
     "output_type": "execute_result"
    }
   ],
   "source": [
    "codes['correct'].value_counts(dropna=False)"
   ]
  },
  {
   "cell_type": "code",
   "execution_count": 22,
   "metadata": {
    "collapsed": true
   },
   "outputs": [],
   "source": [
    "def get_docs_and_labels(dataframe):\n",
    "    docs = []\n",
    "    labels = []\n",
    "    for index in dataframe.index:\n",
    "        # Program\n",
    "        program = get_tokens(dataframe.get_value(index, 'upload'), pos=1)\n",
    "        if program is not None:\n",
    "            docs.append(program)\n",
    "            # Label\n",
    "            label = int(dataframe.get_value(index, 'correct'))\n",
    "            labels.append(label)\n",
    "    return docs, labels"
   ]
  },
  {
   "cell_type": "code",
   "execution_count": 29,
   "metadata": {
    "collapsed": true
   },
   "outputs": [],
   "source": [
    "docs, labels = get_docs_and_labels(codes)"
   ]
  },
  {
   "cell_type": "code",
   "execution_count": 30,
   "metadata": {},
   "outputs": [
    {
     "data": {
      "text/plain": [
       "(582, 582)"
      ]
     },
     "execution_count": 30,
     "metadata": {},
     "output_type": "execute_result"
    }
   ],
   "source": [
    "len(docs), len(labels)"
   ]
  },
  {
   "cell_type": "code",
   "execution_count": 31,
   "metadata": {},
   "outputs": [
    {
     "data": {
      "text/plain": [
       "Counter({0: 121, 1: 461})"
      ]
     },
     "execution_count": 31,
     "metadata": {},
     "output_type": "execute_result"
    }
   ],
   "source": [
    "collections.Counter(labels)"
   ]
  },
  {
   "cell_type": "code",
   "execution_count": 32,
   "metadata": {},
   "outputs": [
    {
     "data": {
      "text/plain": [
       "[u's',\n",
       " u'=',\n",
       " u'raw_input',\n",
       " u'(',\n",
       " u')',\n",
       " u'\\n',\n",
       " u'i',\n",
       " u'=',\n",
       " u'0',\n",
       " u'\\n',\n",
       " u'\\n',\n",
       " u'while',\n",
       " u'i',\n",
       " u'<',\n",
       " u'len',\n",
       " u'(',\n",
       " u's',\n",
       " u')',\n",
       " u':',\n",
       " u'\\n',\n",
       " u'  ',\n",
       " u'print',\n",
       " u's',\n",
       " u'[',\n",
       " u'i',\n",
       " u':',\n",
       " u'len',\n",
       " u'(',\n",
       " u's',\n",
       " u')',\n",
       " u']',\n",
       " u'\\n',\n",
       " u'i',\n",
       " u'=',\n",
       " u'i',\n",
       " u'+',\n",
       " u'1',\n",
       " u'\\n',\n",
       " '',\n",
       " '']"
      ]
     },
     "execution_count": 32,
     "metadata": {},
     "output_type": "execute_result"
    }
   ],
   "source": [
    "docs[0]"
   ]
  },
  {
   "cell_type": "code",
   "execution_count": 33,
   "metadata": {
    "collapsed": true
   },
   "outputs": [],
   "source": [
    "words  = set(list(itertools.chain(*docs)))"
   ]
  },
  {
   "cell_type": "code",
   "execution_count": 35,
   "metadata": {},
   "outputs": [
    {
     "data": {
      "text/plain": [
       "74"
      ]
     },
     "execution_count": 35,
     "metadata": {},
     "output_type": "execute_result"
    }
   ],
   "source": [
    "len(words)"
   ]
  },
  {
   "cell_type": "code",
   "execution_count": 36,
   "metadata": {
    "collapsed": true
   },
   "outputs": [],
   "source": [
    "words = list(words)"
   ]
  },
  {
   "cell_type": "code",
   "execution_count": 61,
   "metadata": {},
   "outputs": [
    {
     "data": {
      "text/plain": [
       "74"
      ]
     },
     "execution_count": 61,
     "metadata": {},
     "output_type": "execute_result"
    }
   ],
   "source": [
    "vocab_size = len(words)\n",
    "vocab_size"
   ]
  },
  {
   "cell_type": "code",
   "execution_count": 37,
   "metadata": {
    "collapsed": true
   },
   "outputs": [],
   "source": [
    "word_to_id = {v: k for k, v in enumerate(words)}"
   ]
  },
  {
   "cell_type": "code",
   "execution_count": 77,
   "metadata": {},
   "outputs": [
    {
     "data": {
      "text/plain": [
       "36"
      ]
     },
     "execution_count": 77,
     "metadata": {},
     "output_type": "execute_result"
    }
   ],
   "source": [
    "word_to_id['import']"
   ]
  },
  {
   "cell_type": "code",
   "execution_count": 41,
   "metadata": {
    "collapsed": true
   },
   "outputs": [],
   "source": [
    "id_to_word = { v: k for k, v in word_to_id.iteritems() }"
   ]
  },
  {
   "cell_type": "code",
   "execution_count": 78,
   "metadata": {},
   "outputs": [
    {
     "data": {
      "text/plain": [
       "u'if'"
      ]
     },
     "execution_count": 78,
     "metadata": {},
     "output_type": "execute_result"
    }
   ],
   "source": [
    "id_to_word[15]"
   ]
  },
  {
   "cell_type": "code",
   "execution_count": 43,
   "metadata": {
    "collapsed": true
   },
   "outputs": [],
   "source": [
    "# encoded_docs = [one_hot(str(d), vocab_size) for d in docs]"
   ]
  },
  {
   "cell_type": "code",
   "execution_count": 44,
   "metadata": {
    "collapsed": true
   },
   "outputs": [],
   "source": [
    "encoded_docs = [[word_to_id[w] for w in doc] for doc in docs]"
   ]
  },
  {
   "cell_type": "code",
   "execution_count": 45,
   "metadata": {},
   "outputs": [
    {
     "data": {
      "text/plain": [
       "40"
      ]
     },
     "execution_count": 45,
     "metadata": {},
     "output_type": "execute_result"
    }
   ],
   "source": [
    "len(encoded_docs[0])"
   ]
  },
  {
   "cell_type": "code",
   "execution_count": 46,
   "metadata": {},
   "outputs": [
    {
     "data": {
      "text/plain": [
       "[38, 63]"
      ]
     },
     "execution_count": 46,
     "metadata": {},
     "output_type": "execute_result"
    }
   ],
   "source": [
    "encoded_docs[0][1:3]"
   ]
  },
  {
   "cell_type": "code",
   "execution_count": 49,
   "metadata": {},
   "outputs": [
    {
     "name": "stdout",
     "output_type": "stream",
     "text": [
      "[[28 38 63 ...,  5  0  0]\n",
      " [28 38 63 ...,  0  0  0]\n",
      " [28 38 63 ...,  0  0  0]\n",
      " ..., \n",
      " [28 38 63 ...,  0  0  0]\n",
      " [ 5 28 38 ...,  0  0  0]\n",
      " [ 5 28 38 ...,  0  0  0]]\n"
     ]
    }
   ],
   "source": [
    "# pad documents to a max length of 40 words\n",
    "max_length = 40\n",
    "padded_docs = pad_sequences(encoded_docs, maxlen=max_length, padding='post')\n",
    "print(padded_docs)"
   ]
  },
  {
   "cell_type": "code",
   "execution_count": 81,
   "metadata": {
    "collapsed": true
   },
   "outputs": [],
   "source": [
    "# top words\n",
    "def get_top_words(encoded_docs, N=10):\n",
    "    \n",
    "    # count occurrences\n",
    "    count_w = {}\n",
    "    for d in encoded_docs:\n",
    "        for w in d:\n",
    "            count_w.setdefault(w, 0)\n",
    "            count_w[w] += 1\n",
    "\n",
    "    # top words\n",
    "    top_words = []\n",
    "    for key, value in sorted(count_w.iteritems(), key=lambda (k,v): (v,k), reverse=True)[:N]:\n",
    "        print \"Word: %s, occurrences: %s\" % (key, value)\n",
    "        top_words.append(key)\n",
    "    \n",
    "    return top_words"
   ]
  },
  {
   "cell_type": "code",
   "execution_count": null,
   "metadata": {
    "collapsed": true
   },
   "outputs": [],
   "source": [
    "top_words = get_top_words(encoded_docs)"
   ]
  },
  {
   "cell_type": "code",
   "execution_count": 58,
   "metadata": {},
   "outputs": [
    {
     "data": {
      "text/plain": [
       "[5, 62, 28, 38, 24, 23, 0, 37, 50, 29]"
      ]
     },
     "execution_count": 58,
     "metadata": {},
     "output_type": "execute_result"
    }
   ],
   "source": [
    "top_words"
   ]
  },
  {
   "cell_type": "code",
   "execution_count": 62,
   "metadata": {},
   "outputs": [
    {
     "name": "stdout",
     "output_type": "stream",
     "text": [
      "_________________________________________________________________\n",
      "Layer (type)                 Output Shape              Param #   \n",
      "=================================================================\n",
      "embedding_1 (Embedding)      (None, 40, 8)             592       \n",
      "_________________________________________________________________\n",
      "flatten_1 (Flatten)          (None, 320)               0         \n",
      "_________________________________________________________________\n",
      "dense_1 (Dense)              (None, 1)                 321       \n",
      "=================================================================\n",
      "Total params: 913\n",
      "Trainable params: 913\n",
      "Non-trainable params: 0\n",
      "_________________________________________________________________\n",
      "None\n"
     ]
    }
   ],
   "source": [
    "# define the model\n",
    "model = Sequential()\n",
    "model.add(Embedding(vocab_size, 8, input_length=max_length))\n",
    "model.add(Flatten())\n",
    "model.add(Dense(1, activation='sigmoid'))\n",
    "# compile the model\n",
    "model.compile(optimizer='adam', loss='binary_crossentropy', metrics=['acc'])\n",
    "# summarize the model\n",
    "print(model.summary())"
   ]
  },
  {
   "cell_type": "code",
   "execution_count": 63,
   "metadata": {},
   "outputs": [
    {
     "name": "stdout",
     "output_type": "stream",
     "text": [
      "Accuracy: 94.158076\n"
     ]
    }
   ],
   "source": [
    "# fit the model\n",
    "model.fit(padded_docs, labels, epochs=50, verbose=0)\n",
    "# evaluate the model\n",
    "loss, accuracy = model.evaluate(padded_docs, labels, verbose=0)\n",
    "print('Accuracy: %f, Loss: %f' % (accuracy * 100, loss * 100))"
   ]
  },
  {
   "cell_type": "code",
   "execution_count": 65,
   "metadata": {
    "collapsed": true
   },
   "outputs": [],
   "source": [
    "from sklearn.decomposition import PCA\n",
    "from sklearn.manifold import TSNE\n",
    "\n",
    "def get_pca(embeddings):\n",
    "\n",
    "    # PCA\n",
    "    pca = PCA(n_components=2)\n",
    "    principal_components = pca.fit_transform(embeddings)\n",
    "    print 'PCA explained variance ratio:', pca.explained_variance_ratio_, 'Total:', sum(pca.explained_variance_ratio_)\n",
    "    return principal_components\n",
    "    \n",
    "def get_tsne(embeddings):\n",
    "    \n",
    "    # tSNE\n",
    "    tsne = TSNE(perplexity=30, n_components=2, init='pca', n_iter=5000)\n",
    "    low_dim_embs = tsne.fit_transform(embeddings)\n",
    "    return low_dim_embs"
   ]
  },
  {
   "cell_type": "code",
   "execution_count": 66,
   "metadata": {
    "collapsed": true
   },
   "outputs": [],
   "source": [
    "# Colors\n",
    "# https://matplotlib.org/examples/color/named_colors.html\n",
    "colors = ['r', 'b', 'b', 'g', 'c', 'm', 'y', 'orange', \n",
    "          'chocolate', 'salmon', 'k', 'violet', 'lightblue', 'lightgreen']\n",
    "assert len(colors) >= len(set(labels)), \"More colors than labels\""
   ]
  },
  {
   "cell_type": "code",
   "execution_count": 67,
   "metadata": {},
   "outputs": [
    {
     "data": {
      "text/plain": [
       "{0: 'r', 1: 'b'}"
      ]
     },
     "execution_count": 67,
     "metadata": {},
     "output_type": "execute_result"
    }
   ],
   "source": [
    "# Assign colors to parties for visualizations\n",
    "label_to_color = {}\n",
    "# label_to_color[''] = 'w' # white for padding\n",
    "i = 0\n",
    "for p in set(labels):\n",
    "    label_to_color[p] = colors[i]\n",
    "    i += 1\n",
    "label_to_color"
   ]
  },
  {
   "cell_type": "code",
   "execution_count": 68,
   "metadata": {
    "collapsed": true
   },
   "outputs": [],
   "source": [
    "def get_embeddings(model):\n",
    "\n",
    "    # Embedding Layer\n",
    "    embedding_layer = model.layers[0]\n",
    "    embeddings = embedding_layer.get_weights()[0]\n",
    "    print 'Embedding Layer shape:', embeddings.shape\n",
    "    \n",
    "    return embeddings"
   ]
  },
  {
   "cell_type": "code",
   "execution_count": 69,
   "metadata": {},
   "outputs": [
    {
     "name": "stdout",
     "output_type": "stream",
     "text": [
      "Embedding Layer shape: (74, 8)\n"
     ]
    }
   ],
   "source": [
    "embeddings = get_embeddings(model)"
   ]
  },
  {
   "cell_type": "code",
   "execution_count": 70,
   "metadata": {},
   "outputs": [
    {
     "data": {
      "text/plain": [
       "array([-0.1765551 ,  0.00865538, -0.07850773,  0.08228953, -0.0046515 ,\n",
       "        0.01147778,  0.12283555,  0.15915871], dtype=float32)"
      ]
     },
     "execution_count": 70,
     "metadata": {},
     "output_type": "execute_result"
    }
   ],
   "source": [
    "embeddings[0]"
   ]
  },
  {
   "cell_type": "code",
   "execution_count": 71,
   "metadata": {},
   "outputs": [
    {
     "data": {
      "text/plain": [
       "('', u'in')"
      ]
     },
     "execution_count": 71,
     "metadata": {},
     "output_type": "execute_result"
    }
   ],
   "source": [
    "id_to_word[0], id_to_word[10]"
   ]
  },
  {
   "cell_type": "code",
   "execution_count": 72,
   "metadata": {},
   "outputs": [
    {
     "name": "stdout",
     "output_type": "stream",
     "text": [
      "PCA explained variance ratio: [ 0.34933829  0.21837717] Total: 0.567715466022\n"
     ]
    }
   ],
   "source": [
    "pg_pca = get_pca(embeddings)"
   ]
  },
  {
   "cell_type": "code",
   "execution_count": 73,
   "metadata": {},
   "outputs": [
    {
     "data": {
      "text/plain": [
       "array([-0.17395057,  0.20991313], dtype=float32)"
      ]
     },
     "execution_count": 73,
     "metadata": {},
     "output_type": "execute_result"
    }
   ],
   "source": [
    "pg_pca[0]"
   ]
  },
  {
   "cell_type": "code",
   "execution_count": 82,
   "metadata": {
    "collapsed": true
   },
   "outputs": [],
   "source": [
    "def plot_dimensionality_reduction(low_dim_embs, d, top_words=[], figsize=(18, 18)):\n",
    "    assert low_dim_embs.shape[0] >= len(id_to_word), \"More labels than embeddings\"\n",
    "    plt.figure(figsize=figsize, dpi=100)\n",
    "    i = 0\n",
    "    while i < len(low_dim_embs):\n",
    "        \n",
    "        if len(top_words) == 0 or i in top_words:\n",
    "\n",
    "            # Plot\n",
    "            x, y = low_dim_embs[i, :]\n",
    "            word = id_to_word[i]\n",
    "\n",
    "            plt.scatter(x, y, color='b')\n",
    "            plt.annotate(word,\n",
    "                        xy=(x, y),\n",
    "                        xytext=(5, 2),\n",
    "                        textcoords='offset points',\n",
    "                        ha='right',\n",
    "                        va='bottom',\n",
    "                        fontsize=14)\n",
    "        \n",
    "        i += 1"
   ]
  },
  {
   "cell_type": "code",
   "execution_count": 75,
   "metadata": {},
   "outputs": [
    {
     "data": {
      "image/png": "[encoded data removed]",
      "text/plain": [
       "<matplotlib.figure.Figure at 0x18ac601350>"
      ]
     },
     "metadata": {},
     "output_type": "display_data"
    }
   ],
   "source": [
    "plot_dimensionality_reduction(pg_pca, id_to_word)"
   ]
  },
  {
   "cell_type": "code",
   "execution_count": 84,
   "metadata": {
    "scrolled": false
   },
   "outputs": [
    {
     "data": {
      "image/png": "[encoded data removed]",
      "text/plain": [
       "<matplotlib.figure.Figure at 0x18ac819510>"
      ]
     },
     "metadata": {},
     "output_type": "display_data"
    }
   ],
   "source": [
    "plot_dimensionality_reduction(pg_pca, id_to_word, top_words=top_words, figsize=(8, 8))"
   ]
  },
  {
   "cell_type": "markdown",
   "metadata": {},
   "source": [
    "## Program2vec for all student python programs available to us\n",
    "\n",
    "Grab all programs with PY extension, token and train a network, plot the embeddings, see the result, see if with those vectors you can classify students between good and bad based on the use of the vectors???"
   ]
  },
  {
   "cell_type": "code",
   "execution_count": 85,
   "metadata": {},
   "outputs": [
    {
     "data": {
      "text/plain": [
       "array([u'ca277', u'ca116', u'ca117', u'ca278', u'ca000', u'ca114',\n",
       "       u'ca177', u'ca247', u'ca320'], dtype=object)"
      ]
     },
     "execution_count": 85,
     "metadata": {},
     "output_type": "execute_result"
    }
   ],
   "source": [
    "pg['module'].unique()"
   ]
  },
  {
   "cell_type": "code",
   "execution_count": 86,
   "metadata": {
    "collapsed": true
   },
   "outputs": [],
   "source": [
    "pyprog = pg[(pg['extension'] == 'py') & \n",
    "            (pg['module'].isin(['ca116', 'ca117', 'ca177', 'ca277', 'ca278']))]"
   ]
  },
  {
   "cell_type": "code",
   "execution_count": 87,
   "metadata": {},
   "outputs": [
    {
     "data": {
      "text/html": [
       "<div>\n",
       "<style>\n",
       "    .dataframe thead tr:only-child th {\n",
       "        text-align: right;\n",
       "    }\n",
       "\n",
       "    .dataframe thead th {\n",
       "        text-align: left;\n",
       "    }\n",
       "\n",
       "    .dataframe tbody tr th {\n",
       "        vertical-align: top;\n",
       "    }\n",
       "</style>\n",
       "<table border=\"1\" class=\"dataframe\">\n",
       "  <thead>\n",
       "    <tr style=\"text-align: right;\">\n",
       "      <th></th>\n",
       "      <th>academic_year</th>\n",
       "      <th>correct</th>\n",
       "      <th>date</th>\n",
       "      <th>error</th>\n",
       "      <th>extension</th>\n",
       "      <th>failed</th>\n",
       "      <th>ip</th>\n",
       "      <th>module</th>\n",
       "      <th>passed</th>\n",
       "      <th>task</th>\n",
       "      <th>timeout</th>\n",
       "      <th>upload</th>\n",
       "      <th>user</th>\n",
       "    </tr>\n",
       "  </thead>\n",
       "  <tbody>\n",
       "    <tr>\n",
       "      <th>0</th>\n",
       "      <td>[2016, 2017]</td>\n",
       "      <td>True</td>\n",
       "      <td>2016-09-19 14:11:41</td>\n",
       "      <td></td>\n",
       "      <td>py</td>\n",
       "      <td>0</td>\n",
       "      <td></td>\n",
       "      <td>ca277</td>\n",
       "      <td>2</td>\n",
       "      <td>add.py</td>\n",
       "      <td>3</td>\n",
       "      <td>#!/usr/bin/env python\\n\\na = int(raw_input())\\...</td>\n",
       "      <td>95a41753-9092-4aa1-9f54-d4793345e8cf</td>\n",
       "    </tr>\n",
       "    <tr>\n",
       "      <th>1</th>\n",
       "      <td>[2016, 2017]</td>\n",
       "      <td>True</td>\n",
       "      <td>2016-09-19 14:17:33</td>\n",
       "      <td></td>\n",
       "      <td>py</td>\n",
       "      <td>0</td>\n",
       "      <td></td>\n",
       "      <td>ca277</td>\n",
       "      <td>2</td>\n",
       "      <td>concat-lines.py</td>\n",
       "      <td>3</td>\n",
       "      <td>#!/usr/bin/env python\\n\\na = str(raw_input())\\...</td>\n",
       "      <td>95a41753-9092-4aa1-9f54-d4793345e8cf</td>\n",
       "    </tr>\n",
       "  </tbody>\n",
       "</table>\n",
       "</div>"
      ],
      "text/plain": [
       "  academic_year correct                date error extension failed ip module  \\\n",
       "0  [2016, 2017]    True 2016-09-19 14:11:41              py      0     ca277   \n",
       "1  [2016, 2017]    True 2016-09-19 14:17:33              py      0     ca277   \n",
       "\n",
       "  passed             task timeout  \\\n",
       "0      2           add.py       3   \n",
       "1      2  concat-lines.py       3   \n",
       "\n",
       "                                              upload  \\\n",
       "0  #!/usr/bin/env python\\n\\na = int(raw_input())\\...   \n",
       "1  #!/usr/bin/env python\\n\\na = str(raw_input())\\...   \n",
       "\n",
       "                                   user  \n",
       "0  95a41753-9092-4aa1-9f54-d4793345e8cf  \n",
       "1  95a41753-9092-4aa1-9f54-d4793345e8cf  "
      ]
     },
     "execution_count": 87,
     "metadata": {},
     "output_type": "execute_result"
    }
   ],
   "source": [
    "pyprog.head(2)"
   ]
  },
  {
   "cell_type": "code",
   "execution_count": 88,
   "metadata": {},
   "outputs": [
    {
     "data": {
      "text/plain": [
       "'527,241'"
      ]
     },
     "execution_count": 88,
     "metadata": {},
     "output_type": "execute_result"
    }
   ],
   "source": [
    "'{:,}'.format(pyprog.shape[0])"
   ]
  },
  {
   "cell_type": "code",
   "execution_count": 89,
   "metadata": {},
   "outputs": [
    {
     "data": {
      "text/plain": [
       "532"
      ]
     },
     "execution_count": 89,
     "metadata": {},
     "output_type": "execute_result"
    }
   ],
   "source": [
    "len(pyprog['user'].unique())"
   ]
  },
  {
   "cell_type": "code",
   "execution_count": 90,
   "metadata": {
    "collapsed": true
   },
   "outputs": [],
   "source": [
    "docs, labels = get_docs_and_labels(pyprog)"
   ]
  },
  {
   "cell_type": "code",
   "execution_count": 91,
   "metadata": {},
   "outputs": [
    {
     "data": {
      "text/plain": [
       "507141"
      ]
     },
     "execution_count": 91,
     "metadata": {},
     "output_type": "execute_result"
    }
   ],
   "source": [
    "len(docs)"
   ]
  },
  {
   "cell_type": "code",
   "execution_count": 92,
   "metadata": {
    "collapsed": true
   },
   "outputs": [],
   "source": [
    "words  = set(list(itertools.chain(*docs)))"
   ]
  },
  {
   "cell_type": "code",
   "execution_count": 93,
   "metadata": {},
   "outputs": [
    {
     "data": {
      "text/plain": [
       "'Number of words: 41,989'"
      ]
     },
     "execution_count": 93,
     "metadata": {},
     "output_type": "execute_result"
    }
   ],
   "source": [
    "'Number of words: {:,}'.format(len(words))"
   ]
  },
  {
   "cell_type": "code",
   "execution_count": 94,
   "metadata": {
    "collapsed": true
   },
   "outputs": [],
   "source": [
    "vocab_size = len(words)"
   ]
  },
  {
   "cell_type": "code",
   "execution_count": 95,
   "metadata": {
    "collapsed": true
   },
   "outputs": [],
   "source": [
    "words = list(words)"
   ]
  },
  {
   "cell_type": "code",
   "execution_count": 96,
   "metadata": {
    "collapsed": true
   },
   "outputs": [],
   "source": [
    "word_to_id = {v: k for k, v in enumerate(words)}"
   ]
  },
  {
   "cell_type": "code",
   "execution_count": 98,
   "metadata": {
    "collapsed": true
   },
   "outputs": [],
   "source": [
    "id_to_word = { v: k for k, v in word_to_id.iteritems() }"
   ]
  },
  {
   "cell_type": "code",
   "execution_count": 100,
   "metadata": {
    "collapsed": true
   },
   "outputs": [],
   "source": [
    "encoded_docs = [[word_to_id[w] for w in doc] for doc in docs]"
   ]
  },
  {
   "cell_type": "code",
   "execution_count": 101,
   "metadata": {},
   "outputs": [
    {
     "name": "stdout",
     "output_type": "stream",
     "text": [
      "[[27567  3512 20634 ...,     0     0     0]\n",
      " [27567  3512 20634 ...,     0     0     0]\n",
      " [27567 27873   273 ...,     0     0     0]\n",
      " ..., \n",
      " [33518 40652 36950 ...,     0     0     0]\n",
      " [33518 40652 36950 ...,     0     0     0]\n",
      " [33518 40652 36950 ...,     0     0     0]]\n"
     ]
    }
   ],
   "source": [
    "# pad documents to a max length of 100 words\n",
    "max_length = 100\n",
    "padded_docs = pad_sequences(encoded_docs, maxlen=max_length, padding='post')\n",
    "print(padded_docs)"
   ]
  },
  {
   "cell_type": "code",
   "execution_count": 102,
   "metadata": {},
   "outputs": [
    {
     "name": "stdout",
     "output_type": "stream",
     "text": [
      "_________________________________________________________________\n",
      "Layer (type)                 Output Shape              Param #   \n",
      "=================================================================\n",
      "embedding_2 (Embedding)      (None, 100, 100)          4198900   \n",
      "_________________________________________________________________\n",
      "flatten_2 (Flatten)          (None, 10000)             0         \n",
      "_________________________________________________________________\n",
      "dense_2 (Dense)              (None, 1)                 10001     \n",
      "=================================================================\n",
      "Total params: 4,208,901\n",
      "Trainable params: 4,208,901\n",
      "Non-trainable params: 0\n",
      "_________________________________________________________________\n",
      "None\n"
     ]
    }
   ],
   "source": [
    "# define the model\n",
    "model = Sequential()\n",
    "model.add(Embedding(vocab_size, 100, input_length=max_length))\n",
    "model.add(Flatten())\n",
    "model.add(Dense(1, activation='sigmoid'))\n",
    "# compile the model\n",
    "model.compile(optimizer='adam', loss='binary_crossentropy', metrics=['acc'])\n",
    "# summarize the model\n",
    "print(model.summary())"
   ]
  },
  {
   "cell_type": "code",
   "execution_count": 103,
   "metadata": {},
   "outputs": [
    {
     "name": "stdout",
     "output_type": "stream",
     "text": [
      "Epoch 1/2\n",
      "507141/507141 [==============================] - 1099s 2ms/step - loss: 0.5462 - acc: 0.7152\n",
      "Epoch 2/2\n",
      "507141/507141 [==============================] - 1369s 3ms/step - loss: 0.4508 - acc: 0.7804\n"
     ]
    },
    {
     "data": {
      "text/plain": [
       "<keras.callbacks.History at 0x18ac819e90>"
      ]
     },
     "execution_count": 103,
     "metadata": {},
     "output_type": "execute_result"
    }
   ],
   "source": [
    "# fit the model\n",
    "model.fit(padded_docs, labels, epochs=2)"
   ]
  },
  {
   "cell_type": "code",
   "execution_count": 104,
   "metadata": {},
   "outputs": [
    {
     "name": "stdout",
     "output_type": "stream",
     "text": [
      "507141/507141 [==============================] - 64s 126us/step\n"
     ]
    }
   ],
   "source": [
    "# evaluate the model\n",
    "loss, accuracy = model.evaluate(padded_docs, labels)"
   ]
  },
  {
   "cell_type": "code",
   "execution_count": 105,
   "metadata": {},
   "outputs": [
    {
     "name": "stdout",
     "output_type": "stream",
     "text": [
      "Accuracy: 80.633591\n",
      "Loss: 40.231797\n"
     ]
    }
   ],
   "source": [
    "print('Accuracy: %f' % (accuracy * 100))\n",
    "print('Loss: %f' % (loss * 100))"
   ]
  },
  {
   "cell_type": "code",
   "execution_count": 106,
   "metadata": {},
   "outputs": [
    {
     "name": "stdout",
     "output_type": "stream",
     "text": [
      "Embedding Layer shape: (41989, 100)\n"
     ]
    }
   ],
   "source": [
    "embeddings = get_embeddings(model)"
   ]
  },
  {
   "cell_type": "code",
   "execution_count": 109,
   "metadata": {},
   "outputs": [
    {
     "data": {
      "text/plain": [
       "array([ 0.03030861, -0.03934757,  0.00102791, -0.02574248, -0.01695869,\n",
       "       -0.02318399,  0.00299696,  0.01092644,  0.01323475, -0.01920119,\n",
       "       -0.01421608, -0.00867848,  0.01606243, -0.00953969,  0.03561374,\n",
       "        0.00400496,  0.00915089,  0.00226779,  0.00835475,  0.03740052,\n",
       "       -0.00865663, -0.00624962,  0.00799046, -0.00578366, -0.00970622,\n",
       "        0.035974  ,  0.00217296,  0.01829106, -0.02981361, -0.01008521,\n",
       "        0.0072174 ,  0.00177373, -0.009357  ,  0.00438108, -0.00927577,\n",
       "        0.00037745,  0.01594697, -0.04548944, -0.02580115,  0.0177561 ,\n",
       "        0.00054393,  0.03890758,  0.02627285,  0.01265732,  0.00203123,\n",
       "       -0.01502195, -0.02704064, -0.03959084,  0.02803383,  0.01692226,\n",
       "       -0.0325416 , -0.02439744,  0.03541235,  0.00170114, -0.02530819,\n",
       "        0.02636713, -0.00061573,  0.03184976,  0.04700562, -0.00889805,\n",
       "        0.00208392,  0.0156718 ,  0.01163814,  0.01014984, -0.02018589,\n",
       "       -0.00871896,  0.01812937,  0.00431373,  0.00267787,  0.00724944,\n",
       "       -0.00960967,  0.00241775,  0.01874935, -0.00415951,  0.0228129 ,\n",
       "        0.00034382, -0.00797809, -0.00138543, -0.02407881, -0.00729294,\n",
       "        0.00596377, -0.01422509,  0.00197169, -0.00893862, -0.02331892,\n",
       "       -0.00096448, -0.03581328,  0.01288789, -0.00325144,  0.02303848,\n",
       "        0.02951804,  0.00759484,  0.01434818, -0.00871268, -0.00103482,\n",
       "        0.00578637,  0.00798146,  0.00114018, -0.00842804,  0.01139149], dtype=float32)"
      ]
     },
     "execution_count": 109,
     "metadata": {},
     "output_type": "execute_result"
    }
   ],
   "source": [
    "embeddings[0]"
   ]
  },
  {
   "cell_type": "code",
   "execution_count": 112,
   "metadata": {
    "collapsed": true
   },
   "outputs": [],
   "source": [
    "import pickle\n",
    "\n",
    "with open('data/my_embeddings.pickle', 'w') as f:\n",
    "    pickle.dump(embeddings, f)"
   ]
  },
  {
   "cell_type": "code",
   "execution_count": 113,
   "metadata": {},
   "outputs": [
    {
     "name": "stdout",
     "output_type": "stream",
     "text": [
      "Word: 27567, occurrences: 7491776\n",
      "Word: 7537, occurrences: 3847096\n",
      "Word: 25992, occurrences: 3847074\n",
      "Word: 20634, occurrences: 2739931\n",
      "Word: 0, occurrences: 2492065\n",
      "Word: 33518, occurrences: 2403906\n",
      "Word: 425, occurrences: 2147621\n",
      "Word: 15415, occurrences: 1404646\n",
      "Word: 36950, occurrences: 1382183\n",
      "Word: 19077, occurrences: 1368432\n",
      "Word: 24656, occurrences: 1368386\n",
      "Word: 7100, occurrences: 946120\n",
      "Word: 1606, occurrences: 862655\n",
      "Word: 29749, occurrences: 815433\n",
      "Word: 5844, occurrences: 765417\n",
      "Word: 27873, occurrences: 760057\n",
      "Word: 13012, occurrences: 679835\n",
      "Word: 8186, occurrences: 569173\n",
      "Word: 16107, occurrences: 566096\n",
      "Word: 3512, occurrences: 559343\n",
      "Word: 17105, occurrences: 484269\n",
      "Word: 1071, occurrences: 478655\n",
      "Word: 232, occurrences: 453525\n",
      "Word: 16103, occurrences: 449371\n",
      "Word: 12362, occurrences: 432276\n",
      "Word: 12229, occurrences: 422820\n",
      "Word: 33932, occurrences: 394309\n",
      "Word: 35934, occurrences: 357974\n",
      "Word: 38896, occurrences: 355590\n",
      "Word: 40836, occurrences: 341051\n",
      "Word: 10842, occurrences: 319438\n",
      "Word: 4935, occurrences: 312856\n",
      "Word: 18609, occurrences: 312644\n",
      "Word: 23006, occurrences: 307622\n",
      "Word: 3679, occurrences: 293054\n",
      "Word: 11215, occurrences: 270055\n",
      "Word: 3626, occurrences: 244894\n",
      "Word: 4761, occurrences: 241540\n",
      "Word: 32900, occurrences: 219460\n",
      "Word: 26023, occurrences: 213135\n",
      "Word: 33436, occurrences: 205407\n",
      "Word: 10811, occurrences: 203672\n",
      "Word: 31601, occurrences: 189159\n",
      "Word: 16198, occurrences: 188990\n",
      "Word: 17395, occurrences: 185124\n",
      "Word: 10754, occurrences: 182796\n",
      "Word: 23577, occurrences: 178931\n",
      "Word: 34322, occurrences: 173932\n",
      "Word: 4574, occurrences: 167549\n",
      "Word: 9785, occurrences: 162409\n",
      "Word: 7142, occurrences: 154144\n",
      "Word: 29799, occurrences: 151555\n",
      "Word: 14688, occurrences: 149080\n",
      "Word: 470, occurrences: 145063\n",
      "Word: 38866, occurrences: 144812\n",
      "Word: 11109, occurrences: 143885\n",
      "Word: 37594, occurrences: 139553\n",
      "Word: 18220, occurrences: 137977\n",
      "Word: 41065, occurrences: 134139\n",
      "Word: 19293, occurrences: 132646\n",
      "Word: 17253, occurrences: 130377\n",
      "Word: 1232, occurrences: 129007\n",
      "Word: 23879, occurrences: 126661\n",
      "Word: 27573, occurrences: 119956\n",
      "Word: 41471, occurrences: 117322\n",
      "Word: 35228, occurrences: 116321\n",
      "Word: 1231, occurrences: 113211\n",
      "Word: 2803, occurrences: 111258\n",
      "Word: 38652, occurrences: 108207\n",
      "Word: 21032, occurrences: 107161\n",
      "Word: 17660, occurrences: 105032\n",
      "Word: 13627, occurrences: 102778\n",
      "Word: 2392, occurrences: 101292\n",
      "Word: 17490, occurrences: 98749\n",
      "Word: 28634, occurrences: 94608\n",
      "Word: 23013, occurrences: 94584\n",
      "Word: 28434, occurrences: 91450\n",
      "Word: 41659, occurrences: 85519\n",
      "Word: 12905, occurrences: 80922\n",
      "Word: 24206, occurrences: 78659\n",
      "Word: 41945, occurrences: 77190\n",
      "Word: 11482, occurrences: 72929\n",
      "Word: 21037, occurrences: 71117\n",
      "Word: 40652, occurrences: 67247\n",
      "Word: 24865, occurrences: 67122\n",
      "Word: 11835, occurrences: 67002\n",
      "Word: 20179, occurrences: 66271\n",
      "Word: 31308, occurrences: 65603\n",
      "Word: 30516, occurrences: 62909\n",
      "Word: 35754, occurrences: 62104\n",
      "Word: 11385, occurrences: 61419\n",
      "Word: 30421, occurrences: 61014\n",
      "Word: 15951, occurrences: 60640\n",
      "Word: 17434, occurrences: 59959\n",
      "Word: 4495, occurrences: 58889\n",
      "Word: 19581, occurrences: 57314\n",
      "Word: 3428, occurrences: 54610\n",
      "Word: 11021, occurrences: 54502\n",
      "Word: 4936, occurrences: 54450\n",
      "Word: 24905, occurrences: 53099\n"
     ]
    }
   ],
   "source": [
    "top_words = get_top_words(encoded_docs, N=100)"
   ]
  },
  {
   "cell_type": "code",
   "execution_count": 114,
   "metadata": {},
   "outputs": [
    {
     "data": {
      "text/plain": [
       "27567"
      ]
     },
     "execution_count": 114,
     "metadata": {},
     "output_type": "execute_result"
    }
   ],
   "source": [
    "top_words[0]"
   ]
  },
  {
   "cell_type": "code",
   "execution_count": 115,
   "metadata": {},
   "outputs": [
    {
     "name": "stdout",
     "output_type": "stream",
     "text": [
      "PCA explained variance ratio: [ 0.12611233  0.05719948] Total: 0.183311808854\n"
     ]
    }
   ],
   "source": [
    "pg_pca = get_pca(embeddings)"
   ]
  },
  {
   "cell_type": "code",
   "execution_count": 116,
   "metadata": {},
   "outputs": [
    {
     "data": {
      "image/png": "[encoded data removed]",
      "text/plain": [
       "<matplotlib.figure.Figure at 0x18b4d65b50>"
      ]
     },
     "metadata": {},
     "output_type": "display_data"
    }
   ],
   "source": [
    "plot_dimensionality_reduction(pg_pca, id_to_word, top_words=top_words)"
   ]
  },
  {
   "cell_type": "code",
   "execution_count": null,
   "metadata": {
    "collapsed": true
   },
   "outputs": [],
   "source": []
  }
 ],
 "metadata": {
  "kernelspec": {
   "display_name": "Python 2",
   "language": "python",
   "name": "python2"
  },
  "language_info": {
   "codemirror_mode": {
    "name": "ipython",
    "version": 2
   },
   "file_extension": ".py",
   "mimetype": "text/x-python",
   "name": "python",
   "nbconvert_exporter": "python",
   "pygments_lexer": "ipython2",
   "version": "2.7.14"
  }
 },
 "nbformat": 4,
 "nbformat_minor": 1
}
