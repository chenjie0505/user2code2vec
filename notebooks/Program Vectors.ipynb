{
 "cells": [
  {
   "cell_type": "markdown",
   "metadata": {},
   "source": [
    "# Program Vectors: Code Vectorization\n",
    "\n",
    "In order for a learning algorithm, like a Logistic Regression Model or a Support Vector Machine, to understand text, it needs to be converted into vectors of numbers. In short, text has to be encoded as numbers to be used as input or output for Machine Learning and Deep Learning models. For that, a suite of NLP techniques are employed. In our case, code submissions or programs cannot be considered as natural language and need to be parsed and analysed in a different way. We explored  the following  representations of  programming submissions by tokenizing the code:\n",
    "\n",
    "## 1) Programs as word vectors\n",
    "\n",
    "First, we are going to treat the programs students write and submit to our platform as word vectors:"
   ]
  },
  {
   "cell_type": "code",
   "execution_count": 1,
   "metadata": {
    "collapsed": true
   },
   "outputs": [],
   "source": [
    "import re\n",
    "def remove_comments(text):\n",
    "    return re.sub(re.compile('#.*?\\n'), '', text)"
   ]
  },
  {
   "cell_type": "code",
   "execution_count": 2,
   "metadata": {},
   "outputs": [
    {
     "data": {
      "text/plain": [
       "'\\na = int(raw_input())\\nb = int(raw_input())\\n\\nprint a + b\\n\\n\\n'"
      ]
     },
     "execution_count": 2,
     "metadata": {},
     "output_type": "execute_result"
    }
   ],
   "source": [
    "sum_code = '#!/usr/bin/env python\\n\\na = int(raw_input())\\nb = int(raw_input())\\n\\nprint a + b\\n\\n\\n'\n",
    "remove_comments(sum_code)"
   ]
  },
  {
   "cell_type": "code",
   "execution_count": 3,
   "metadata": {},
   "outputs": [
    {
     "data": {
      "text/plain": [
       "'\\na = int(raw_input()) b = int(raw_input()) print a + b\\n'"
      ]
     },
     "execution_count": 3,
     "metadata": {},
     "output_type": "execute_result"
    }
   ],
   "source": [
    "sum_code = '''\n",
    "#!/usr/bin/env python\n",
    "# read from input\n",
    "a = int(raw_input()) # first\n",
    "b = int(raw_input()) # second\n",
    "print a + b\n",
    "'''\n",
    "remove_comments(sum_code)"
   ]
  },
  {
   "cell_type": "markdown",
   "metadata": {},
   "source": [
    "**Keras**\n",
    "\n",
    "Keras provides a more sophisticated API for preparing text that can be fit and reused to prepare multiple text documents. This may be the preferred approach for large projects.\n",
    "\n",
    "Keras provides the Tokenizer class for preparing text documents for deep learning. The Tokenizer must be constructed and then fit on either raw text documents or integer encoded text documents.\n",
    "\n",
    "https://machinelearningmastery.com/prepare-text-data-deep-learning-keras/"
   ]
  },
  {
   "cell_type": "code",
   "execution_count": 4,
   "metadata": {},
   "outputs": [
    {
     "name": "stderr",
     "output_type": "stream",
     "text": [
      "Using TensorFlow backend.\n"
     ]
    }
   ],
   "source": [
    "from keras.preprocessing.text import text_to_word_sequence\n",
    "\n",
    "# text_to_word_sequence?"
   ]
  },
  {
   "cell_type": "code",
   "execution_count": 5,
   "metadata": {},
   "outputs": [
    {
     "data": {
      "text/plain": [
       "['a', 'int', 'raw', 'input', 'b', 'int', 'raw', 'input', 'print', 'a', 'b']"
      ]
     },
     "execution_count": 5,
     "metadata": {},
     "output_type": "execute_result"
    }
   ],
   "source": [
    "text_to_word_sequence(remove_comments(sum_code), lower=True, split=' ')"
   ]
  },
  {
   "cell_type": "markdown",
   "metadata": {},
   "source": [
    "By default in text_to_word_sequence the filters are:\n",
    "\n",
    "> filters='!\"#$%&()*+,-./:;<=>?@[\\\\]^_`{|}~\\t\\n'\n",
    "\n",
    "See the function signature"
   ]
  },
  {
   "cell_type": "code",
   "execution_count": 6,
   "metadata": {},
   "outputs": [
    {
     "data": {
      "text/plain": [
       "['print', '\"hello,', 'world\"']"
      ]
     },
     "execution_count": 6,
     "metadata": {},
     "output_type": "execute_result"
    }
   ],
   "source": [
    "text_to_word_sequence('''print \"Hello, World\"''', \n",
    "                      filters='\\t\\n',\n",
    "                      lower=True, \n",
    "                      split=' ')"
   ]
  },
  {
   "cell_type": "code",
   "execution_count": 7,
   "metadata": {},
   "outputs": [
    {
     "data": {
      "text/plain": [
       "['a',\n",
       " '=',\n",
       " 'int(raw_input())',\n",
       " 'b',\n",
       " '=',\n",
       " 'int(raw_input())',\n",
       " 'print',\n",
       " 'a',\n",
       " '+',\n",
       " 'b']"
      ]
     },
     "execution_count": 7,
     "metadata": {},
     "output_type": "execute_result"
    }
   ],
   "source": [
    "text_to_word_sequence(remove_comments(sum_code), \n",
    "                      filters='\\t\\n',\n",
    "                      lower=True, \n",
    "                      split=' ')"
   ]
  },
  {
   "cell_type": "code",
   "execution_count": 8,
   "metadata": {
    "collapsed": true
   },
   "outputs": [],
   "source": [
    "function_code = '''#!/usr/bin/env python\n",
    "def say_hello():\n",
    "    print(\"Hello, World!\")\n",
    "say_hello()'''"
   ]
  },
  {
   "cell_type": "code",
   "execution_count": 9,
   "metadata": {},
   "outputs": [
    {
     "data": {
      "text/plain": [
       "['def', 'say_hello():', 'print(\"hello,', 'world!\")', 'say_hello()']"
      ]
     },
     "execution_count": 9,
     "metadata": {},
     "output_type": "execute_result"
    }
   ],
   "source": [
    "text_to_word_sequence(remove_comments(function_code), \n",
    "                      filters='\\t\\n',\n",
    "                      lower=True, \n",
    "                      split=' ')"
   ]
  },
  {
   "cell_type": "code",
   "execution_count": 10,
   "metadata": {
    "collapsed": true
   },
   "outputs": [],
   "source": [
    "# https://keras.io/preprocessing/text/#tokenizer\n",
    "from keras.preprocessing.text import Tokenizer\n",
    "\n",
    "# Tokenizer?"
   ]
  },
  {
   "cell_type": "code",
   "execution_count": 11,
   "metadata": {
    "collapsed": true
   },
   "outputs": [],
   "source": [
    "t = Tokenizer(num_words=None, \n",
    "              filters='\\t\\n', \n",
    "              lower=True, \n",
    "              split=' ', \n",
    "              char_level=False)"
   ]
  },
  {
   "cell_type": "code",
   "execution_count": 12,
   "metadata": {
    "collapsed": true
   },
   "outputs": [],
   "source": [
    "docs = [\n",
    "    remove_comments(sum_code),\n",
    "]"
   ]
  },
  {
   "cell_type": "code",
   "execution_count": 13,
   "metadata": {
    "collapsed": true
   },
   "outputs": [],
   "source": [
    "t.fit_on_texts(docs)"
   ]
  },
  {
   "cell_type": "markdown",
   "metadata": {},
   "source": [
    "Once fit, the Tokenizer provides 4 attributes that you can use to query what has been learned about your documents:\n",
    "\n",
    "- word_counts: A dictionary of words and their counts.\n",
    "- word_docs: A dictionary of words and how many documents each appeared in.\n",
    "- word_index: A dictionary of words and their uniquely assigned integers.\n",
    "- document_count: An integer count of the total number of documents that were used to fit the Tokenizer."
   ]
  },
  {
   "cell_type": "code",
   "execution_count": 14,
   "metadata": {},
   "outputs": [
    {
     "data": {
      "text/plain": [
       "OrderedDict([('a', 2),\n",
       "             ('=', 2),\n",
       "             ('int(raw_input())', 2),\n",
       "             ('b', 2),\n",
       "             ('print', 1),\n",
       "             ('+', 1)])"
      ]
     },
     "execution_count": 14,
     "metadata": {},
     "output_type": "execute_result"
    }
   ],
   "source": [
    "t.word_counts"
   ]
  },
  {
   "cell_type": "code",
   "execution_count": 15,
   "metadata": {},
   "outputs": [
    {
     "name": "stdout",
     "output_type": "stream",
     "text": [
      "('Number docs', 1)\n"
     ]
    }
   ],
   "source": [
    "print ('Number docs', t.document_count)"
   ]
  },
  {
   "cell_type": "code",
   "execution_count": 16,
   "metadata": {},
   "outputs": [
    {
     "data": {
      "text/plain": [
       "{'+': 6, '=': 2, 'a': 1, 'b': 4, 'int(raw_input())': 3, 'print': 5}"
      ]
     },
     "execution_count": 16,
     "metadata": {},
     "output_type": "execute_result"
    }
   ],
   "source": [
    "t.word_index"
   ]
  },
  {
   "cell_type": "code",
   "execution_count": 17,
   "metadata": {},
   "outputs": [
    {
     "data": {
      "text/plain": [
       "{'+': 1, '=': 1, 'a': 1, 'b': 1, 'int(raw_input())': 1, 'print': 1}"
      ]
     },
     "execution_count": 17,
     "metadata": {},
     "output_type": "execute_result"
    }
   ],
   "source": [
    "t.word_docs"
   ]
  },
  {
   "cell_type": "code",
   "execution_count": 18,
   "metadata": {
    "collapsed": true
   },
   "outputs": [],
   "source": [
    "# integer encode documents\n",
    "encoded_docs = t.texts_to_matrix(docs, mode='count')"
   ]
  },
  {
   "cell_type": "code",
   "execution_count": 19,
   "metadata": {
    "collapsed": true
   },
   "outputs": [],
   "source": [
    "# t.texts_to_matrix?"
   ]
  },
  {
   "cell_type": "code",
   "execution_count": 20,
   "metadata": {
    "scrolled": true
   },
   "outputs": [
    {
     "data": {
      "text/plain": [
       "array([[ 0.,  2.,  2.,  2.,  2.,  1.,  1.]])"
      ]
     },
     "execution_count": 20,
     "metadata": {},
     "output_type": "execute_result"
    }
   ],
   "source": [
    "encoded_docs"
   ]
  },
  {
   "cell_type": "markdown",
   "metadata": {},
   "source": [
    "It still does not represent a programming submission in a very comparable way to other submissions that have different variable names and so on"
   ]
  },
  {
   "cell_type": "markdown",
   "metadata": {},
   "source": [
    "## 2) Programs as Python tokens\n",
    "\n",
    "* https://docs.python.org/3/library/tokenize.html\n",
    "* https://docs.python.org/3/library/token.html\n",
    "* Code: https://github.com/python/cpython/blob/3.7/Lib/tokenize.py\n",
    "* Code: https://github.com/python/cpython/blob/3.7/Lib/token.py\n",
    "* C code: https://github.com/python/cpython/blob/master/Parser/tokenizer.c\n",
    "* C library: https://github.com/python/cpython/blob/master/Include/token.h\n",
    "\n",
    "Intead of words, we are going to convert code to tokens:"
   ]
  },
  {
   "cell_type": "code",
   "execution_count": 21,
   "metadata": {
    "collapsed": true
   },
   "outputs": [],
   "source": [
    "import sys\n",
    "from tokenize import generate_tokens\n",
    "from StringIO import StringIO"
   ]
  },
  {
   "cell_type": "code",
   "execution_count": 22,
   "metadata": {},
   "outputs": [
    {
     "name": "stdout",
     "output_type": "stream",
     "text": [
      "7\n",
      "51\n",
      "50\n",
      "((\\*\\*=?|>>=?|<<=?|<>|!=|//=?|[+\\-*/%&|^=<>]=?|~)|[][(){}]|(\\r?\\n|[:;.,`@]))\n",
      "53\n",
      "#[^\\r\\n]*\n"
     ]
    }
   ],
   "source": [
    "from tokenize import LPAR, OP, Funny, AMPER, AMPEREQUAL, any, AT, Comment, COMMENT\n",
    "\n",
    "print LPAR \n",
    "print OP\n",
    "print AT\n",
    "print Funny\n",
    "print COMMENT\n",
    "print Comment"
   ]
  },
  {
   "cell_type": "markdown",
   "metadata": {},
   "source": [
    "**Command line**"
   ]
  },
  {
   "cell_type": "code",
   "execution_count": 23,
   "metadata": {},
   "outputs": [
    {
     "name": "stdout",
     "output_type": "stream",
     "text": [
      "def say_hello():\r\n",
      "    print(\"Hello, World!\")\r\n",
      "\r\n",
      "say_hello()\r\n"
     ]
    }
   ],
   "source": [
    "!cat data/examples/hello.py"
   ]
  },
  {
   "cell_type": "code",
   "execution_count": 24,
   "metadata": {
    "scrolled": true
   },
   "outputs": [
    {
     "name": "stdout",
     "output_type": "stream",
     "text": [
      "1,0-1,3:\tNAME\t'def'\r\n",
      "1,4-1,13:\tNAME\t'say_hello'\r\n",
      "1,13-1,14:\tOP\t'('\r\n",
      "1,14-1,15:\tOP\t')'\r\n",
      "1,15-1,16:\tOP\t':'\r\n",
      "1,16-1,17:\tNEWLINE\t'\\n'\r\n",
      "2,0-2,4:\tINDENT\t'    '\r\n",
      "2,4-2,9:\tNAME\t'print'\r\n",
      "2,9-2,10:\tOP\t'('\r\n",
      "2,10-2,25:\tSTRING\t'\"Hello, World!\"'\r\n",
      "2,25-2,26:\tOP\t')'\r\n",
      "2,26-2,27:\tNEWLINE\t'\\n'\r\n",
      "3,0-3,1:\tNL\t'\\n'\r\n",
      "4,0-4,0:\tDEDENT\t''\r\n",
      "4,0-4,9:\tNAME\t'say_hello'\r\n",
      "4,9-4,10:\tOP\t'('\r\n",
      "4,10-4,11:\tOP\t')'\r\n",
      "4,11-4,12:\tNEWLINE\t'\\n'\r\n",
      "5,0-5,0:\tENDMARKER\t''\r\n"
     ]
    }
   ],
   "source": [
    "!python -m tokenize data/examples/hello.py"
   ]
  },
  {
   "cell_type": "code",
   "execution_count": 25,
   "metadata": {},
   "outputs": [
    {
     "name": "stdout",
     "output_type": "stream",
     "text": [
      "1,0-1,5:\tNAME\t'print'\r\n",
      "1,6-1,20:\tSTRING\t'\"Hello, World\"'\r\n",
      "2,0-2,0:\tENDMARKER\t''\r\n"
     ]
    }
   ],
   "source": [
    "!python -m tokenize data/examples/hello_world.py"
   ]
  },
  {
   "cell_type": "code",
   "execution_count": 26,
   "metadata": {},
   "outputs": [
    {
     "name": "stdout",
     "output_type": "stream",
     "text": [
      "1,0-1,21:\tCOMMENT\t'#!/usr/bin/env python'\r\n",
      "1,21-1,22:\tNL\t'\\n'\r\n",
      "2,0-2,1:\tNL\t'\\n'\r\n",
      "3,0-3,17:\tCOMMENT\t'# read from input'\r\n",
      "3,17-3,18:\tNL\t'\\n'\r\n",
      "4,0-4,1:\tNAME\t'a'\r\n",
      "4,2-4,3:\tOP\t'='\r\n",
      "4,4-4,7:\tNAME\t'int'\r\n",
      "4,7-4,8:\tOP\t'('\r\n",
      "4,8-4,17:\tNAME\t'raw_input'\r\n",
      "4,17-4,18:\tOP\t'('\r\n",
      "4,18-4,19:\tOP\t')'\r\n",
      "4,19-4,20:\tOP\t')'\r\n",
      "4,21-4,28:\tCOMMENT\t'# first'\r\n",
      "4,28-4,29:\tNEWLINE\t'\\n'\r\n",
      "5,0-5,1:\tNAME\t'b'\r\n",
      "5,2-5,3:\tOP\t'='\r\n",
      "5,4-5,7:\tNAME\t'int'\r\n",
      "5,7-5,8:\tOP\t'('\r\n",
      "5,8-5,17:\tNAME\t'raw_input'\r\n",
      "5,17-5,18:\tOP\t'('\r\n",
      "5,18-5,19:\tOP\t')'\r\n",
      "5,19-5,20:\tOP\t')'\r\n",
      "5,21-5,29:\tCOMMENT\t'# second'\r\n",
      "5,29-5,30:\tNEWLINE\t'\\n'\r\n",
      "6,0-6,1:\tNL\t'\\n'\r\n",
      "7,0-7,5:\tNAME\t'print'\r\n",
      "7,6-7,7:\tNAME\t'a'\r\n",
      "7,8-7,9:\tOP\t'+'\r\n",
      "7,10-7,11:\tNAME\t'b'\r\n",
      "7,11-7,12:\tNEWLINE\t'\\n'\r\n",
      "8,0-8,0:\tENDMARKER\t''\r\n"
     ]
    }
   ],
   "source": [
    "!python -m tokenize data/examples/sum.py"
   ]
  },
  {
   "cell_type": "markdown",
   "metadata": {},
   "source": [
    "**Programatically**"
   ]
  },
  {
   "cell_type": "code",
   "execution_count": 27,
   "metadata": {
    "collapsed": true
   },
   "outputs": [],
   "source": [
    "# generate_tokens?"
   ]
  },
  {
   "cell_type": "code",
   "execution_count": 28,
   "metadata": {
    "collapsed": true
   },
   "outputs": [],
   "source": [
    "hello_code = '''def say_hello():\n",
    "    print(\"Hello, World!\")\n",
    "\n",
    "say_hello()'''"
   ]
  },
  {
   "cell_type": "code",
   "execution_count": 29,
   "metadata": {
    "collapsed": true
   },
   "outputs": [],
   "source": [
    "tokens = list(generate_tokens(StringIO(hello_code).readline))"
   ]
  },
  {
   "cell_type": "code",
   "execution_count": 30,
   "metadata": {
    "collapsed": true
   },
   "outputs": [],
   "source": [
    "def print_tokens(tokens):\n",
    "    for t in tokens:\n",
    "        print (str(t[0]) + \",\" + str(t[2][1]) + \"-\" + str(t[2][0]) + ',' + str(t[3][1]) + ':\\t' + \n",
    "               str(t[0]) + '\\t' + # id_to_token[t[0]]\n",
    "               repr(str(t[1])))"
   ]
  },
  {
   "cell_type": "code",
   "execution_count": 31,
   "metadata": {
    "scrolled": false
   },
   "outputs": [
    {
     "name": "stdout",
     "output_type": "stream",
     "text": [
      "1,0-1,3:\t1\t'def'\n",
      "1,4-1,13:\t1\t'say_hello'\n",
      "51,13-1,14:\t51\t'('\n",
      "51,14-1,15:\t51\t')'\n",
      "51,15-1,16:\t51\t':'\n",
      "4,16-1,17:\t4\t'\\n'\n",
      "5,0-2,4:\t5\t'    '\n",
      "1,4-2,9:\t1\t'print'\n",
      "51,9-2,10:\t51\t'('\n",
      "3,10-2,25:\t3\t'\"Hello, World!\"'\n",
      "51,25-2,26:\t51\t')'\n",
      "4,26-2,27:\t4\t'\\n'\n",
      "54,0-3,1:\t54\t'\\n'\n",
      "6,0-4,0:\t6\t''\n",
      "1,0-4,9:\t1\t'say_hello'\n",
      "51,9-4,10:\t51\t'('\n",
      "51,10-4,11:\t51\t')'\n",
      "0,0-5,0:\t0\t''\n"
     ]
    }
   ],
   "source": [
    "print_tokens(tokens)"
   ]
  },
  {
   "cell_type": "code",
   "execution_count": 32,
   "metadata": {
    "scrolled": true
   },
   "outputs": [
    {
     "data": {
      "text/plain": [
       "[(1, 'def', (1, 0), (1, 3), 'def say_hello():\\n'),\n",
       " (1, 'say_hello', (1, 4), (1, 13), 'def say_hello():\\n'),\n",
       " (51, '(', (1, 13), (1, 14), 'def say_hello():\\n'),\n",
       " (51, ')', (1, 14), (1, 15), 'def say_hello():\\n'),\n",
       " (51, ':', (1, 15), (1, 16), 'def say_hello():\\n'),\n",
       " (4, '\\n', (1, 16), (1, 17), 'def say_hello():\\n'),\n",
       " (5, '    ', (2, 0), (2, 4), '    print(\"Hello, World!\")\\n'),\n",
       " (1, 'print', (2, 4), (2, 9), '    print(\"Hello, World!\")\\n'),\n",
       " (51, '(', (2, 9), (2, 10), '    print(\"Hello, World!\")\\n'),\n",
       " (3, '\"Hello, World!\"', (2, 10), (2, 25), '    print(\"Hello, World!\")\\n'),\n",
       " (51, ')', (2, 25), (2, 26), '    print(\"Hello, World!\")\\n'),\n",
       " (4, '\\n', (2, 26), (2, 27), '    print(\"Hello, World!\")\\n'),\n",
       " (54, '\\n', (3, 0), (3, 1), '\\n'),\n",
       " (6, '', (4, 0), (4, 0), 'say_hello()'),\n",
       " (1, 'say_hello', (4, 0), (4, 9), 'say_hello()'),\n",
       " (51, '(', (4, 9), (4, 10), 'say_hello()'),\n",
       " (51, ')', (4, 10), (4, 11), 'say_hello()'),\n",
       " (0, '', (5, 0), (5, 0), '')]"
      ]
     },
     "execution_count": 32,
     "metadata": {},
     "output_type": "execute_result"
    }
   ],
   "source": [
    "# List of:\n",
    "# Token code, Part of the line being analysed, FROM (line, character), TO (line, character), Complete line of code\n",
    "tokens"
   ]
  },
  {
   "cell_type": "markdown",
   "metadata": {},
   "source": [
    "This is a more interesting representation that abstracts away the variables names, types of operators, etc but it may be too general to see the differences in between the students' submissions"
   ]
  },
  {
   "cell_type": "markdown",
   "metadata": {},
   "source": [
    "## 3) Programs as Abstract Syntax Trees\n",
    "\n",
    "https://docs.python.org/3/library/ast.html"
   ]
  },
  {
   "cell_type": "code",
   "execution_count": 33,
   "metadata": {
    "collapsed": true
   },
   "outputs": [],
   "source": [
    "import ast"
   ]
  },
  {
   "cell_type": "code",
   "execution_count": 34,
   "metadata": {},
   "outputs": [
    {
     "data": {
      "text/plain": [
       "'def say_hello():\\n    print(\"Hello, World!\")\\n\\nsay_hello()'"
      ]
     },
     "execution_count": 34,
     "metadata": {},
     "output_type": "execute_result"
    }
   ],
   "source": [
    "hello_code"
   ]
  },
  {
   "cell_type": "code",
   "execution_count": 35,
   "metadata": {
    "collapsed": true
   },
   "outputs": [],
   "source": [
    "program_ast = ast.parse(hello_code)"
   ]
  },
  {
   "cell_type": "code",
   "execution_count": 36,
   "metadata": {},
   "outputs": [
    {
     "data": {
      "text/plain": [
       "<_ast.Module at 0x1815e5e610>"
      ]
     },
     "execution_count": 36,
     "metadata": {},
     "output_type": "execute_result"
    }
   ],
   "source": [
    "program_ast"
   ]
  },
  {
   "cell_type": "code",
   "execution_count": 37,
   "metadata": {},
   "outputs": [
    {
     "data": {
      "text/plain": [
       "\"Module(body=[FunctionDef(name='say_hello', args=arguments(args=[], vararg=None, kwarg=None, defaults=[]), body=[Print(dest=None, values=[Str(s='Hello, World!')], nl=True)], decorator_list=[]), Expr(value=Call(func=Name(id='say_hello', ctx=Load()), args=[], keywords=[], starargs=None, kwargs=None))])\""
      ]
     },
     "execution_count": 37,
     "metadata": {},
     "output_type": "execute_result"
    }
   ],
   "source": [
    "ast.dump(program_ast)"
   ]
  },
  {
   "cell_type": "code",
   "execution_count": 38,
   "metadata": {},
   "outputs": [
    {
     "data": {
      "text/plain": [
       "[<_ast.FunctionDef at 0x1815e5e6d0>, <_ast.Expr at 0x1815e5e890>]"
      ]
     },
     "execution_count": 38,
     "metadata": {},
     "output_type": "execute_result"
    }
   ],
   "source": [
    "program_ast.body"
   ]
  },
  {
   "cell_type": "code",
   "execution_count": 39,
   "metadata": {
    "scrolled": true
   },
   "outputs": [
    {
     "name": "stdout",
     "output_type": "stream",
     "text": [
      "FunctionDef(name='say_hello', args=arguments(args=[], vararg=None, kwarg=None, defaults=[]), body=[Print(dest=None, values=[Str(s='Hello, World!')], nl=True)], decorator_list=[]) \n",
      "\n",
      "Expr(value=Call(func=Name(id='say_hello', ctx=Load()), args=[], keywords=[], starargs=None, kwargs=None)) \n",
      "\n"
     ]
    }
   ],
   "source": [
    "for statement in program_ast.body:\n",
    "    print ast.dump(statement), '\\n'"
   ]
  },
  {
   "cell_type": "code",
   "execution_count": 40,
   "metadata": {
    "scrolled": true
   },
   "outputs": [
    {
     "name": "stdout",
     "output_type": "stream",
     "text": [
      "Call(func=Name(id='say_hello', ctx=Load()), args=[], keywords=[], starargs=None, kwargs=None)\n"
     ]
    }
   ],
   "source": [
    "class FunctionCallVisitor(ast.NodeVisitor):\n",
    "    def visit_Call(self, node):\n",
    "        print ast.dump(node)\n",
    "\n",
    "FunctionCallVisitor().visit(program_ast)"
   ]
  },
  {
   "cell_type": "code",
   "execution_count": 41,
   "metadata": {
    "collapsed": true
   },
   "outputs": [],
   "source": [
    "divisors_code = '''def divisors(n):\n",
    "    for d in range(1, n + 1):\n",
    "        if n % d == 0:\n",
    "            print d'''"
   ]
  },
  {
   "cell_type": "code",
   "execution_count": 42,
   "metadata": {
    "scrolled": true
   },
   "outputs": [
    {
     "data": {
      "text/plain": [
       "\"Module(body=[FunctionDef(name='divisors', args=arguments(args=[Name(id='n', ctx=Param())], vararg=None, kwarg=None, defaults=[]), body=[For(target=Name(id='d', ctx=Store()), iter=Call(func=Name(id='range', ctx=Load()), args=[Num(n=1), BinOp(left=Name(id='n', ctx=Load()), op=Add(), right=Num(n=1))], keywords=[], starargs=None, kwargs=None), body=[If(test=Compare(left=BinOp(left=Name(id='n', ctx=Load()), op=Mod(), right=Name(id='d', ctx=Load())), ops=[Eq()], comparators=[Num(n=0)]), body=[Print(dest=None, values=[Name(id='d', ctx=Load())], nl=True)], orelse=[])], orelse=[])], decorator_list=[])])\""
      ]
     },
     "execution_count": 42,
     "metadata": {},
     "output_type": "execute_result"
    }
   ],
   "source": [
    "ast.dump(ast.parse(divisors_code))"
   ]
  },
  {
   "cell_type": "markdown",
   "metadata": {},
   "source": [
    "### Extracting a representation of the tree"
   ]
  },
  {
   "cell_type": "code",
   "execution_count": 43,
   "metadata": {
    "collapsed": true
   },
   "outputs": [],
   "source": [
    "import graphviz\n",
    "from IPython.display import SVG\n",
    "\n",
    "def _strip_docstring(body):\n",
    "    first = body[0]\n",
    "    if isinstance(first, ast.Expr) and isinstance(first.value, ast.Str):\n",
    "        return body[1:]\n",
    "    return body\n",
    "\n",
    "def _bold(label):\n",
    "    return '<<B>{}</B>>'.format(label)"
   ]
  },
  {
   "cell_type": "markdown",
   "metadata": {},
   "source": [
    "Extract a representation of the AST by using a BFS approach:"
   ]
  },
  {
   "cell_type": "code",
   "execution_count": 44,
   "metadata": {
    "collapsed": true
   },
   "outputs": [],
   "source": [
    "def get_ast_repr(node):\n",
    "    \n",
    "    visited = set()\n",
    "    queue = [ [node, None, None, False] ]\n",
    "    output = []\n",
    "    \n",
    "    while queue:\n",
    "        \n",
    "        vertex, value, name, end = queue.pop(0)\n",
    "        \n",
    "        # OUTPUT\n",
    "        output.append(get_leaf(vertex, value, name, end))\n",
    "        \n",
    "        if vertex not in visited:\n",
    "            \n",
    "            visited.add(vertex)\n",
    "            \n",
    "            if hasattr(vertex, '_fields'):\n",
    "                \n",
    "                for field_name, field_value in zip(vertex._fields, \n",
    "                                               (getattr(vertex, attr) for attr in vertex._fields)):\n",
    "\n",
    "                    if isinstance(field_value, ast.AST):\n",
    "                        queue.append([field_value, field_name, vertex, False])\n",
    "                    \n",
    "                    elif isinstance(field_value, list):\n",
    "\n",
    "                        if field_name == 'body':\n",
    "                            field_name = _strip_docstring(field_value)\n",
    "                        for item in field_value:\n",
    "                            if isinstance(item, ast.AST):\n",
    "                                queue.append([item, field_name, vertex, False])\n",
    "                            else:\n",
    "                                queue.append([item, field_name, vertex, True])\n",
    "\n",
    "                    else:\n",
    "                        queue.append((field_value, field_name, vertex, True))\n",
    "                   \n",
    "    return output\n",
    "\n",
    "def get_leaf(node, value, parent, end):\n",
    "    \n",
    "    node_name = node.__class__.__name__\n",
    "    node_name = next(node_name) if node_name is None else node_name\n",
    "    if node_name == 'str': node_name = str(node)\n",
    "\n",
    "    return {\n",
    "        'Node': node, \n",
    "        'Parent': parent, \n",
    "        'Name': node_name,\n",
    "        'Value': value,\n",
    "        'End': end,\n",
    "    }"
   ]
  },
  {
   "cell_type": "code",
   "execution_count": 45,
   "metadata": {},
   "outputs": [
    {
     "data": {
      "text/plain": [
       "'def say_hello():\\n    print(\"Hello, World!\")\\n\\nsay_hello()'"
      ]
     },
     "execution_count": 45,
     "metadata": {},
     "output_type": "execute_result"
    }
   ],
   "source": [
    "hello_code"
   ]
  },
  {
   "cell_type": "code",
   "execution_count": 46,
   "metadata": {
    "collapsed": true
   },
   "outputs": [],
   "source": [
    "tree = get_ast_repr(ast.parse(hello_code))"
   ]
  },
  {
   "cell_type": "code",
   "execution_count": 47,
   "metadata": {},
   "outputs": [
    {
     "data": {
      "text/plain": [
       "[{'End': False,\n",
       "  'Name': 'Module',\n",
       "  'Node': <_ast.Module at 0x1815e5e750>,\n",
       "  'Parent': None,\n",
       "  'Value': None},\n",
       " {'End': False,\n",
       "  'Name': 'FunctionDef',\n",
       "  'Node': <_ast.FunctionDef at 0x1815e5e590>,\n",
       "  'Parent': <_ast.Module at 0x1815e5e750>,\n",
       "  'Value': [<_ast.FunctionDef at 0x1815e5e590>, <_ast.Expr at 0x1815e5ea10>]},\n",
       " {'End': False,\n",
       "  'Name': 'Expr',\n",
       "  'Node': <_ast.Expr at 0x1815e5ea10>,\n",
       "  'Parent': <_ast.Module at 0x1815e5e750>,\n",
       "  'Value': [<_ast.FunctionDef at 0x1815e5e590>, <_ast.Expr at 0x1815e5ea10>]},\n",
       " {'End': True,\n",
       "  'Name': 'say_hello',\n",
       "  'Node': 'say_hello',\n",
       "  'Parent': <_ast.FunctionDef at 0x1815e5e590>,\n",
       "  'Value': 'name'},\n",
       " {'End': False,\n",
       "  'Name': 'arguments',\n",
       "  'Node': <_ast.arguments at 0x1815e5ebd0>,\n",
       "  'Parent': <_ast.FunctionDef at 0x1815e5e590>,\n",
       "  'Value': 'args'},\n",
       " {'End': False,\n",
       "  'Name': 'Print',\n",
       "  'Node': <_ast.Print at 0x1815e5ef90>,\n",
       "  'Parent': <_ast.FunctionDef at 0x1815e5e590>,\n",
       "  'Value': [<_ast.Print at 0x1815e5ef90>]},\n",
       " {'End': False,\n",
       "  'Name': 'Call',\n",
       "  'Node': <_ast.Call at 0x1815e5e8d0>,\n",
       "  'Parent': <_ast.Expr at 0x1815e5ea10>,\n",
       "  'Value': 'value'},\n",
       " {'End': True,\n",
       "  'Name': 'NoneType',\n",
       "  'Node': None,\n",
       "  'Parent': <_ast.arguments at 0x1815e5ebd0>,\n",
       "  'Value': 'vararg'},\n",
       " {'End': True,\n",
       "  'Name': 'NoneType',\n",
       "  'Node': None,\n",
       "  'Parent': <_ast.arguments at 0x1815e5ebd0>,\n",
       "  'Value': 'kwarg'},\n",
       " {'End': True,\n",
       "  'Name': 'NoneType',\n",
       "  'Node': None,\n",
       "  'Parent': <_ast.Print at 0x1815e5ef90>,\n",
       "  'Value': 'dest'},\n",
       " {'End': False,\n",
       "  'Name': 'Str',\n",
       "  'Node': <_ast.Str at 0x1815e5eb90>,\n",
       "  'Parent': <_ast.Print at 0x1815e5ef90>,\n",
       "  'Value': 'values'},\n",
       " {'End': True,\n",
       "  'Name': 'bool',\n",
       "  'Node': True,\n",
       "  'Parent': <_ast.Print at 0x1815e5ef90>,\n",
       "  'Value': 'nl'},\n",
       " {'End': False,\n",
       "  'Name': 'Name',\n",
       "  'Node': <_ast.Name at 0x1815e5e910>,\n",
       "  'Parent': <_ast.Call at 0x1815e5e8d0>,\n",
       "  'Value': 'func'},\n",
       " {'End': True,\n",
       "  'Name': 'NoneType',\n",
       "  'Node': None,\n",
       "  'Parent': <_ast.Call at 0x1815e5e8d0>,\n",
       "  'Value': 'starargs'},\n",
       " {'End': True,\n",
       "  'Name': 'NoneType',\n",
       "  'Node': None,\n",
       "  'Parent': <_ast.Call at 0x1815e5e8d0>,\n",
       "  'Value': 'kwargs'},\n",
       " {'End': True,\n",
       "  'Name': 'Hello, World!',\n",
       "  'Node': 'Hello, World!',\n",
       "  'Parent': <_ast.Str at 0x1815e5eb90>,\n",
       "  'Value': 's'},\n",
       " {'End': True,\n",
       "  'Name': 'say_hello',\n",
       "  'Node': 'say_hello',\n",
       "  'Parent': <_ast.Name at 0x1815e5e910>,\n",
       "  'Value': 'id'},\n",
       " {'End': False,\n",
       "  'Name': 'Load',\n",
       "  'Node': <_ast.Load at 0x1053bb650>,\n",
       "  'Parent': <_ast.Name at 0x1815e5e910>,\n",
       "  'Value': 'ctx'}]"
      ]
     },
     "execution_count": 47,
     "metadata": {},
     "output_type": "execute_result"
    }
   ],
   "source": [
    "tree"
   ]
  },
  {
   "cell_type": "code",
   "execution_count": 48,
   "metadata": {
    "collapsed": true
   },
   "outputs": [],
   "source": [
    "def get_ast_pairs(tree):\n",
    "    names = {}\n",
    "    tuples = []\n",
    "    for leaf in tree:\n",
    "        # Values\n",
    "        node = leaf['Node']\n",
    "        node_name = leaf['Name']\n",
    "        parent = leaf['Parent']\n",
    "        value = leaf['Value']\n",
    "        # Save name\n",
    "        names[node] = node_name\n",
    "        if node is None or parent is None:\n",
    "            continue\n",
    "        # Parent name\n",
    "        parent_name = names[parent]\n",
    "        # Add tuple\n",
    "        tuples.append((parent_name, node_name))\n",
    "    return tuples"
   ]
  },
  {
   "cell_type": "code",
   "execution_count": 49,
   "metadata": {
    "collapsed": true
   },
   "outputs": [],
   "source": [
    "pairs = get_ast_pairs(tree)"
   ]
  },
  {
   "cell_type": "code",
   "execution_count": 50,
   "metadata": {},
   "outputs": [
    {
     "data": {
      "text/plain": [
       "[('Module', 'FunctionDef'),\n",
       " ('Module', 'Expr'),\n",
       " ('FunctionDef', 'say_hello'),\n",
       " ('FunctionDef', 'arguments'),\n",
       " ('FunctionDef', 'Print'),\n",
       " ('Expr', 'Call'),\n",
       " ('Print', 'Str'),\n",
       " ('Print', 'bool'),\n",
       " ('Call', 'Name'),\n",
       " ('Str', 'Hello, World!'),\n",
       " ('Name', 'say_hello'),\n",
       " ('Name', 'Load')]"
      ]
     },
     "execution_count": 50,
     "metadata": {},
     "output_type": "execute_result"
    }
   ],
   "source": [
    "pairs"
   ]
  },
  {
   "cell_type": "code",
   "execution_count": 51,
   "metadata": {
    "collapsed": true
   },
   "outputs": [],
   "source": [
    "def graph(tree):\n",
    "    \n",
    "    graph = graphviz.Graph(format='svg')\n",
    "\n",
    "    for d in tree:\n",
    "        node = d['Node']\n",
    "        if node is None:\n",
    "            continue\n",
    "        name = d['Name']\n",
    "        end = d['End']\n",
    "        if end:\n",
    "            color = '#008040'\n",
    "        else:\n",
    "            color = '#004080'\n",
    "        # Add Node\n",
    "        graph.node(str(node), label=_bold(name), fontcolor=color)\n",
    "        parent = d['Parent']\n",
    "        if parent is not None:\n",
    "            graph.edge(str(parent), str(node), sametail='t{}'.format(parent))\n",
    "\n",
    "    graph.node_attr.update(dict(\n",
    "        fontname='courier',\n",
    "        shape='none',\n",
    "    ))\n",
    "\n",
    "    return SVG(graph.pipe(format='svg'))"
   ]
  },
  {
   "cell_type": "code",
   "execution_count": 52,
   "metadata": {},
   "outputs": [
    {
     "data": {
      "image/svg+xml": [
       "<svg height=\"332pt\" viewBox=\"0.00 0.00 349.81 332.00\" width=\"350pt\" xmlns=\"http://www.w3.org/2000/svg\" xmlns:xlink=\"http://www.w3.org/1999/xlink\">\n",
       "<g class=\"graph\" id=\"graph0\" transform=\"scale(1 1) rotate(0) translate(4 328)\">\n",
       "<title>%3</title>\n",
       "<polygon fill=\"white\" points=\"-4,4 -4,-328 345.806,-328 345.806,4 -4,4\" stroke=\"none\"/>\n",
       "<!-- _ast.Module object at 0x1815e5e750 -->\n",
       "<g class=\"node\" id=\"node1\"><title>_ast.Module object at 0x1815e5e750</title>\n",
       "<text fill=\"#004080\" font-family=\"Courier,monospace\" font-size=\"14.00\" font-weight=\"bold\" text-anchor=\"start\" x=\"168.602\" y=\"-302.8\">Module</text>\n",
       "</g>\n",
       "<!-- _ast.FunctionDef object at 0x1815e5e590 -->\n",
       "<g class=\"node\" id=\"node2\"><title>_ast.FunctionDef object at 0x1815e5e590</title>\n",
       "<text fill=\"#004080\" font-family=\"Courier,monospace\" font-size=\"14.00\" font-weight=\"bold\" text-anchor=\"start\" x=\"95.5986\" y=\"-230.8\">FunctionDef</text>\n",
       "</g>\n",
       "<!-- _ast.Module object at 0x1815e5e750&#45;&#45;_ast.FunctionDef object at 0x1815e5e590 -->\n",
       "<g class=\"edge\" id=\"edge1\"><title>_ast.Module object at 0x1815e5e750--_ast.FunctionDef object at 0x1815e5e590</title>\n",
       "<path d=\"M193.806,-287C193.806,-287 173.998,-267.192 158.833,-252.027\" fill=\"none\" stroke=\"black\"/>\n",
       "</g>\n",
       "<!-- _ast.Expr object at 0x1815e5ea10 -->\n",
       "<g class=\"node\" id=\"node3\"><title>_ast.Expr object at 0x1815e5ea10</title>\n",
       "<text fill=\"#004080\" font-family=\"Courier,monospace\" font-size=\"14.00\" font-weight=\"bold\" text-anchor=\"start\" x=\"230.003\" y=\"-230.8\">Expr</text>\n",
       "</g>\n",
       "<!-- _ast.Module object at 0x1815e5e750&#45;&#45;_ast.Expr object at 0x1815e5ea10 -->\n",
       "<g class=\"edge\" id=\"edge2\"><title>_ast.Module object at 0x1815e5e750--_ast.Expr object at 0x1815e5ea10</title>\n",
       "<path d=\"M193.806,-287C193.806,-287 213.995,-267.192 229.452,-252.027\" fill=\"none\" stroke=\"black\"/>\n",
       "</g>\n",
       "<!-- say_hello -->\n",
       "<g class=\"node\" id=\"node4\"><title>say_hello</title>\n",
       "<text fill=\"#008040\" font-family=\"Courier,monospace\" font-size=\"14.00\" font-weight=\"bold\" text-anchor=\"start\" x=\"186\" y=\"-14.8\">say_hello</text>\n",
       "</g>\n",
       "<!-- _ast.FunctionDef object at 0x1815e5e590&#45;&#45;say_hello -->\n",
       "<g class=\"edge\" id=\"edge3\"><title>_ast.FunctionDef object at 0x1815e5e590--say_hello</title>\n",
       "<path d=\"M137.806,-215C137.806,-215 164.401,-199.711 176.806,-180 192.199,-155.541 211.979,-72.2144 220.088,-36.0165\" fill=\"none\" stroke=\"black\"/>\n",
       "</g>\n",
       "<!-- _ast.arguments object at 0x1815e5ebd0 -->\n",
       "<g class=\"node\" id=\"node5\"><title>_ast.arguments object at 0x1815e5ebd0</title>\n",
       "<text fill=\"#004080\" font-family=\"Courier,monospace\" font-size=\"14.00\" font-weight=\"bold\" text-anchor=\"start\" x=\"8\" y=\"-158.8\">arguments</text>\n",
       "</g>\n",
       "<!-- _ast.FunctionDef object at 0x1815e5e590&#45;&#45;_ast.arguments object at 0x1815e5ebd0 -->\n",
       "<g class=\"edge\" id=\"edge4\"><title>_ast.FunctionDef object at 0x1815e5e590--_ast.arguments object at 0x1815e5ebd0</title>\n",
       "<path d=\"M137.806,-215C137.806,-215 102.761,-195.192 75.9304,-180.027\" fill=\"none\" stroke=\"black\"/>\n",
       "</g>\n",
       "<!-- _ast.Print object at 0x1815e5ef90 -->\n",
       "<g class=\"node\" id=\"node6\"><title>_ast.Print object at 0x1815e5ef90</title>\n",
       "<text fill=\"#004080\" font-family=\"Courier,monospace\" font-size=\"14.00\" font-weight=\"bold\" text-anchor=\"start\" x=\"117.803\" y=\"-158.8\">Print</text>\n",
       "</g>\n",
       "<!-- _ast.FunctionDef object at 0x1815e5e590&#45;&#45;_ast.Print object at 0x1815e5ef90 -->\n",
       "<g class=\"edge\" id=\"edge5\"><title>_ast.FunctionDef object at 0x1815e5e590--_ast.Print object at 0x1815e5ef90</title>\n",
       "<path d=\"M137.806,-215C137.806,-215 138.187,-195.192 138.479,-180.027\" fill=\"none\" stroke=\"black\"/>\n",
       "</g>\n",
       "<!-- _ast.Call object at 0x1815e5e8d0 -->\n",
       "<g class=\"node\" id=\"node7\"><title>_ast.Call object at 0x1815e5e8d0</title>\n",
       "<text fill=\"#004080\" font-family=\"Courier,monospace\" font-size=\"14.00\" font-weight=\"bold\" text-anchor=\"start\" x=\"234.003\" y=\"-158.8\">Call</text>\n",
       "</g>\n",
       "<!-- _ast.Expr object at 0x1815e5ea10&#45;&#45;_ast.Call object at 0x1815e5e8d0 -->\n",
       "<g class=\"edge\" id=\"edge6\"><title>_ast.Expr object at 0x1815e5ea10--_ast.Call object at 0x1815e5e8d0</title>\n",
       "<path d=\"M247.795,-215.697C248.415,-204.846 249.211,-190.917 249.829,-180.104\" fill=\"none\" stroke=\"black\"/>\n",
       "</g>\n",
       "<!-- _ast.Str object at 0x1815e5eb90 -->\n",
       "<g class=\"node\" id=\"node8\"><title>_ast.Str object at 0x1815e5eb90</title>\n",
       "<text fill=\"#004080\" font-family=\"Courier,monospace\" font-size=\"14.00\" font-weight=\"bold\" text-anchor=\"start\" x=\"126.204\" y=\"-86.8\">Str</text>\n",
       "</g>\n",
       "<!-- _ast.Print object at 0x1815e5ef90&#45;&#45;_ast.Str object at 0x1815e5eb90 -->\n",
       "<g class=\"edge\" id=\"edge7\"><title>_ast.Print object at 0x1815e5ef90--_ast.Str object at 0x1815e5eb90</title>\n",
       "<path d=\"M130.806,-143C130.806,-143 133.854,-123.192 136.187,-108.027\" fill=\"none\" stroke=\"black\"/>\n",
       "</g>\n",
       "<!-- True -->\n",
       "<g class=\"node\" id=\"node9\"><title>True</title>\n",
       "<text fill=\"#008040\" font-family=\"Courier,monospace\" font-size=\"14.00\" font-weight=\"bold\" text-anchor=\"start\" x=\"50.0034\" y=\"-86.8\">bool</text>\n",
       "</g>\n",
       "<!-- _ast.Print object at 0x1815e5ef90&#45;&#45;True -->\n",
       "<g class=\"edge\" id=\"edge8\"><title>_ast.Print object at 0x1815e5ef90--True</title>\n",
       "<path d=\"M130.806,-143C130.806,-143 106.427,-123.192 87.7621,-108.027\" fill=\"none\" stroke=\"black\"/>\n",
       "</g>\n",
       "<!-- _ast.Name object at 0x1815e5e910 -->\n",
       "<g class=\"node\" id=\"node10\"><title>_ast.Name object at 0x1815e5e910</title>\n",
       "<text fill=\"#004080\" font-family=\"Courier,monospace\" font-size=\"14.00\" font-weight=\"bold\" text-anchor=\"start\" x=\"234.003\" y=\"-86.8\">Name</text>\n",
       "</g>\n",
       "<!-- _ast.Call object at 0x1815e5e8d0&#45;&#45;_ast.Name object at 0x1815e5e910 -->\n",
       "<g class=\"edge\" id=\"edge9\"><title>_ast.Call object at 0x1815e5e8d0--_ast.Name object at 0x1815e5e910</title>\n",
       "<path d=\"M250.806,-143.697C250.806,-132.846 250.806,-118.917 250.806,-108.104\" fill=\"none\" stroke=\"black\"/>\n",
       "</g>\n",
       "<!-- Hello, World! -->\n",
       "<g class=\"node\" id=\"node11\"><title>Hello, World!</title>\n",
       "<text fill=\"#008040\" font-family=\"Courier,monospace\" font-size=\"14.00\" font-weight=\"bold\" text-anchor=\"start\" x=\"43.1973\" y=\"-14.8\">Hello, World!</text>\n",
       "</g>\n",
       "<!-- _ast.Str object at 0x1815e5eb90&#45;&#45;Hello, World! -->\n",
       "<g class=\"edge\" id=\"edge10\"><title>_ast.Str object at 0x1815e5eb90--Hello, World!</title>\n",
       "<path d=\"M128.671,-71.6966C122.316,-60.8463 114.157,-46.9167 107.824,-36.1043\" fill=\"none\" stroke=\"black\"/>\n",
       "</g>\n",
       "<!-- _ast.Name object at 0x1815e5e910&#45;&#45;say_hello -->\n",
       "<g class=\"edge\" id=\"edge11\"><title>_ast.Name object at 0x1815e5e910--say_hello</title>\n",
       "<path d=\"M253.806,-71C253.806,-71 242.379,-51.1921 233.629,-36.0267\" fill=\"none\" stroke=\"black\"/>\n",
       "</g>\n",
       "<!-- _ast.Load object at 0x1053bb650 -->\n",
       "<g class=\"node\" id=\"node12\"><title>_ast.Load object at 0x1053bb650</title>\n",
       "<text fill=\"#004080\" font-family=\"Courier,monospace\" font-size=\"14.00\" font-weight=\"bold\" text-anchor=\"start\" x=\"298.003\" y=\"-14.8\">Load</text>\n",
       "</g>\n",
       "<!-- _ast.Name object at 0x1815e5e910&#45;&#45;_ast.Load object at 0x1053bb650 -->\n",
       "<g class=\"edge\" id=\"edge12\"><title>_ast.Name object at 0x1815e5e910--_ast.Load object at 0x1053bb650</title>\n",
       "<path d=\"M253.806,-71C253.806,-71 277.042,-51.1921 294.832,-36.0267\" fill=\"none\" stroke=\"black\"/>\n",
       "</g>\n",
       "</g>\n",
       "</svg>"
      ],
      "text/plain": [
       "<IPython.core.display.SVG object>"
      ]
     },
     "execution_count": 52,
     "metadata": {},
     "output_type": "execute_result"
    }
   ],
   "source": [
    "graph(tree)"
   ]
  },
  {
   "cell_type": "code",
   "execution_count": 53,
   "metadata": {},
   "outputs": [
    {
     "data": {
      "image/svg+xml": [
       "<svg height=\"404pt\" viewBox=\"0.00 0.00 646.00 404.00\" width=\"646pt\" xmlns=\"http://www.w3.org/2000/svg\" xmlns:xlink=\"http://www.w3.org/1999/xlink\">\n",
       "<g class=\"graph\" id=\"graph0\" transform=\"scale(1 1) rotate(0) translate(4 400)\">\n",
       "<title>%3</title>\n",
       "<polygon fill=\"white\" points=\"-4,4 -4,-400 642,-400 642,4 -4,4\" stroke=\"none\"/>\n",
       "<!-- _ast.Module object at 0x1815f46390 -->\n",
       "<g class=\"node\" id=\"node1\"><title>_ast.Module object at 0x1815f46390</title>\n",
       "<text fill=\"#004080\" font-family=\"Courier,monospace\" font-size=\"14.00\" font-weight=\"bold\" text-anchor=\"start\" x=\"226.796\" y=\"-374.8\">Module</text>\n",
       "</g>\n",
       "<!-- _ast.Assign object at 0x1815f46410 -->\n",
       "<g class=\"node\" id=\"node2\"><title>_ast.Assign object at 0x1815f46410</title>\n",
       "<text fill=\"#004080\" font-family=\"Courier,monospace\" font-size=\"14.00\" font-weight=\"bold\" text-anchor=\"start\" x=\"226.796\" y=\"-302.8\">Assign</text>\n",
       "</g>\n",
       "<!-- _ast.Module object at 0x1815f46390&#45;&#45;_ast.Assign object at 0x1815f46410 -->\n",
       "<g class=\"edge\" id=\"edge1\"><title>_ast.Module object at 0x1815f46390--_ast.Assign object at 0x1815f46410</title>\n",
       "<path d=\"M252,-359C252,-359 252,-339.192 252,-324.027\" fill=\"none\" stroke=\"black\"/>\n",
       "</g>\n",
       "<!-- _ast.Assign object at 0x1815f46590 -->\n",
       "<g class=\"node\" id=\"node3\"><title>_ast.Assign object at 0x1815f46590</title>\n",
       "<text fill=\"#004080\" font-family=\"Courier,monospace\" font-size=\"14.00\" font-weight=\"bold\" text-anchor=\"start\" x=\"310.796\" y=\"-302.8\">Assign</text>\n",
       "</g>\n",
       "<!-- _ast.Module object at 0x1815f46390&#45;&#45;_ast.Assign object at 0x1815f46590 -->\n",
       "<g class=\"edge\" id=\"edge2\"><title>_ast.Module object at 0x1815f46390--_ast.Assign object at 0x1815f46590</title>\n",
       "<path d=\"M252,-359C252,-359 283.997,-339.192 308.495,-324.027\" fill=\"none\" stroke=\"black\"/>\n",
       "</g>\n",
       "<!-- _ast.Print object at 0x1815f46710 -->\n",
       "<g class=\"node\" id=\"node4\"><title>_ast.Print object at 0x1815f46710</title>\n",
       "<text fill=\"#004080\" font-family=\"Courier,monospace\" font-size=\"14.00\" font-weight=\"bold\" text-anchor=\"start\" x=\"150.997\" y=\"-302.8\">Print</text>\n",
       "</g>\n",
       "<!-- _ast.Module object at 0x1815f46390&#45;&#45;_ast.Print object at 0x1815f46710 -->\n",
       "<g class=\"edge\" id=\"edge3\"><title>_ast.Module object at 0x1815f46390--_ast.Print object at 0x1815f46710</title>\n",
       "<path d=\"M252,-359C252,-359 221.526,-339.192 198.195,-324.027\" fill=\"none\" stroke=\"black\"/>\n",
       "</g>\n",
       "<!-- _ast.Name object at 0x1815f46450 -->\n",
       "<g class=\"node\" id=\"node5\"><title>_ast.Name object at 0x1815f46450</title>\n",
       "<text fill=\"#004080\" font-family=\"Courier,monospace\" font-size=\"14.00\" font-weight=\"bold\" text-anchor=\"start\" x=\"234.197\" y=\"-230.8\">Name</text>\n",
       "</g>\n",
       "<!-- _ast.Assign object at 0x1815f46410&#45;&#45;_ast.Name object at 0x1815f46450 -->\n",
       "<g class=\"edge\" id=\"edge4\"><title>_ast.Assign object at 0x1815f46410--_ast.Name object at 0x1815f46450</title>\n",
       "<path d=\"M263,-287C263,-287 258.429,-267.192 254.929,-252.027\" fill=\"none\" stroke=\"black\"/>\n",
       "</g>\n",
       "<!-- _ast.Call object at 0x1815f46490 -->\n",
       "<g class=\"node\" id=\"node6\"><title>_ast.Call object at 0x1815f46490</title>\n",
       "<text fill=\"#004080\" font-family=\"Courier,monospace\" font-size=\"14.00\" font-weight=\"bold\" text-anchor=\"start\" x=\"378.197\" y=\"-230.8\">Call</text>\n",
       "</g>\n",
       "<!-- _ast.Assign object at 0x1815f46410&#45;&#45;_ast.Call object at 0x1815f46490 -->\n",
       "<g class=\"edge\" id=\"edge5\"><title>_ast.Assign object at 0x1815f46410--_ast.Call object at 0x1815f46490</title>\n",
       "<path d=\"M263,-287C263,-287 317.09,-269.492 359,-252 361.934,-250.775 364.976,-249.442 367.993,-248.078\" fill=\"none\" stroke=\"black\"/>\n",
       "</g>\n",
       "<!-- _ast.Name object at 0x1815f465d0 -->\n",
       "<g class=\"node\" id=\"node7\"><title>_ast.Name object at 0x1815f465d0</title>\n",
       "<text fill=\"#004080\" font-family=\"Courier,monospace\" font-size=\"14.00\" font-weight=\"bold\" text-anchor=\"start\" x=\"306.197\" y=\"-230.8\">Name</text>\n",
       "</g>\n",
       "<!-- _ast.Assign object at 0x1815f46590&#45;&#45;_ast.Name object at 0x1815f465d0 -->\n",
       "<g class=\"edge\" id=\"edge6\"><title>_ast.Assign object at 0x1815f46590--_ast.Name object at 0x1815f465d0</title>\n",
       "<path d=\"M345,-287C345,-287 336.62,-267.192 330.204,-252.027\" fill=\"none\" stroke=\"black\"/>\n",
       "</g>\n",
       "<!-- _ast.Call object at 0x1815f46610 -->\n",
       "<g class=\"node\" id=\"node8\"><title>_ast.Call object at 0x1815f46610</title>\n",
       "<text fill=\"#004080\" font-family=\"Courier,monospace\" font-size=\"14.00\" font-weight=\"bold\" text-anchor=\"start\" x=\"450.197\" y=\"-230.8\">Call</text>\n",
       "</g>\n",
       "<!-- _ast.Assign object at 0x1815f46590&#45;&#45;_ast.Call object at 0x1815f46610 -->\n",
       "<g class=\"edge\" id=\"edge7\"><title>_ast.Assign object at 0x1815f46590--_ast.Call object at 0x1815f46610</title>\n",
       "<path d=\"M345,-287C345,-287 393.217,-268.594 431,-252 433.911,-250.721 436.938,-249.353 439.946,-247.97\" fill=\"none\" stroke=\"black\"/>\n",
       "</g>\n",
       "<!-- _ast.BinOp object at 0x1815f46750 -->\n",
       "<g class=\"node\" id=\"node9\"><title>_ast.BinOp object at 0x1815f46750</title>\n",
       "<text fill=\"#004080\" font-family=\"Courier,monospace\" font-size=\"14.00\" font-weight=\"bold\" text-anchor=\"start\" x=\"77.9966\" y=\"-230.8\">BinOp</text>\n",
       "</g>\n",
       "<!-- _ast.Print object at 0x1815f46710&#45;&#45;_ast.BinOp object at 0x1815f46750 -->\n",
       "<g class=\"edge\" id=\"edge8\"><title>_ast.Print object at 0x1815f46710--_ast.BinOp object at 0x1815f46750</title>\n",
       "<path d=\"M165,-287C165,-287 139.859,-267.192 120.611,-252.027\" fill=\"none\" stroke=\"black\"/>\n",
       "</g>\n",
       "<!-- True -->\n",
       "<g class=\"node\" id=\"node10\"><title>True</title>\n",
       "<text fill=\"#008040\" font-family=\"Courier,monospace\" font-size=\"14.00\" font-weight=\"bold\" text-anchor=\"start\" x=\"156.197\" y=\"-230.8\">bool</text>\n",
       "</g>\n",
       "<!-- _ast.Print object at 0x1815f46710&#45;&#45;True -->\n",
       "<g class=\"edge\" id=\"edge9\"><title>_ast.Print object at 0x1815f46710--True</title>\n",
       "<path d=\"M165,-287C165,-287 168.047,-267.192 170.381,-252.027\" fill=\"none\" stroke=\"black\"/>\n",
       "</g>\n",
       "<!-- a -->\n",
       "<g class=\"node\" id=\"node11\"><title>a</title>\n",
       "<text fill=\"#008040\" font-family=\"Courier,monospace\" font-size=\"14.00\" font-weight=\"bold\" text-anchor=\"start\" x=\"149.799\" y=\"-86.8\">a</text>\n",
       "</g>\n",
       "<!-- _ast.Name object at 0x1815f46450&#45;&#45;a -->\n",
       "<g class=\"edge\" id=\"edge10\"><title>_ast.Name object at 0x1815f46450--a</title>\n",
       "<path d=\"M249,-215C249,-215 196.232,-209.038 173,-180 156.517,-159.397 153.453,-127.8 153.316,-108.321\" fill=\"none\" stroke=\"black\"/>\n",
       "</g>\n",
       "<!-- _ast.Store object at 0x1053bb6d0 -->\n",
       "<g class=\"node\" id=\"node12\"><title>_ast.Store object at 0x1053bb6d0</title>\n",
       "<text fill=\"#004080\" font-family=\"Courier,monospace\" font-size=\"14.00\" font-weight=\"bold\" text-anchor=\"start\" x=\"261.997\" y=\"-158.8\">Store</text>\n",
       "</g>\n",
       "<!-- _ast.Name object at 0x1815f46450&#45;&#45;_ast.Store object at 0x1053bb6d0 -->\n",
       "<g class=\"edge\" id=\"edge11\"><title>_ast.Name object at 0x1815f46450--_ast.Store object at 0x1053bb6d0</title>\n",
       "<path d=\"M249,-215C249,-215 261.951,-195.192 271.867,-180.027\" fill=\"none\" stroke=\"black\"/>\n",
       "</g>\n",
       "<!-- _ast.Name object at 0x1815f464d0 -->\n",
       "<g class=\"node\" id=\"node13\"><title>_ast.Name object at 0x1815f464d0</title>\n",
       "<text fill=\"#004080\" font-family=\"Courier,monospace\" font-size=\"14.00\" font-weight=\"bold\" text-anchor=\"start\" x=\"378.197\" y=\"-158.8\">Name</text>\n",
       "</g>\n",
       "<!-- _ast.Call object at 0x1815f46490&#45;&#45;_ast.Name object at 0x1815f464d0 -->\n",
       "<g class=\"edge\" id=\"edge12\"><title>_ast.Call object at 0x1815f46490--_ast.Name object at 0x1815f464d0</title>\n",
       "<path d=\"M406,-215C406,-215 401.81,-195.192 398.602,-180.027\" fill=\"none\" stroke=\"black\"/>\n",
       "</g>\n",
       "<!-- _ast.Call object at 0x1815f46510 -->\n",
       "<g class=\"node\" id=\"node14\"><title>_ast.Call object at 0x1815f46510</title>\n",
       "<text fill=\"#004080\" font-family=\"Courier,monospace\" font-size=\"14.00\" font-weight=\"bold\" text-anchor=\"start\" x=\"522.197\" y=\"-158.8\">Call</text>\n",
       "</g>\n",
       "<!-- _ast.Call object at 0x1815f46490&#45;&#45;_ast.Call object at 0x1815f46510 -->\n",
       "<g class=\"edge\" id=\"edge13\"><title>_ast.Call object at 0x1815f46490--_ast.Call object at 0x1815f46510</title>\n",
       "<path d=\"M406,-215C406,-215 460.675,-197.583 503,-180 505.936,-178.78 508.979,-177.45 511.997,-176.088\" fill=\"none\" stroke=\"black\"/>\n",
       "</g>\n",
       "<!-- _ast.Name object at 0x1815f465d0&#45;&#45;_ast.Store object at 0x1053bb6d0 -->\n",
       "<g class=\"edge\" id=\"edge15\"><title>_ast.Name object at 0x1815f465d0--_ast.Store object at 0x1053bb6d0</title>\n",
       "<path d=\"M317,-215C317,-215 304.049,-195.192 294.133,-180.027\" fill=\"none\" stroke=\"black\"/>\n",
       "</g>\n",
       "<!-- b -->\n",
       "<g class=\"node\" id=\"node15\"><title>b</title>\n",
       "<text fill=\"#008040\" font-family=\"Courier,monospace\" font-size=\"14.00\" font-weight=\"bold\" text-anchor=\"start\" x=\"292.799\" y=\"-86.8\">b</text>\n",
       "</g>\n",
       "<!-- _ast.Name object at 0x1815f465d0&#45;&#45;b -->\n",
       "<g class=\"edge\" id=\"edge14\"><title>_ast.Name object at 0x1815f465d0--b</title>\n",
       "<path d=\"M317,-215C317,-215 327.669,-174.894 321,-144 318.272,-131.362 312.272,-118.112 306.954,-108.022\" fill=\"none\" stroke=\"black\"/>\n",
       "</g>\n",
       "<!-- _ast.Name object at 0x1815f46650 -->\n",
       "<g class=\"node\" id=\"node16\"><title>_ast.Name object at 0x1815f46650</title>\n",
       "<text fill=\"#004080\" font-family=\"Courier,monospace\" font-size=\"14.00\" font-weight=\"bold\" text-anchor=\"start\" x=\"450.197\" y=\"-158.8\">Name</text>\n",
       "</g>\n",
       "<!-- _ast.Call object at 0x1815f46610&#45;&#45;_ast.Name object at 0x1815f46650 -->\n",
       "<g class=\"edge\" id=\"edge16\"><title>_ast.Call object at 0x1815f46610--_ast.Name object at 0x1815f46650</title>\n",
       "<path d=\"M478,-215C478,-215 473.81,-195.192 470.602,-180.027\" fill=\"none\" stroke=\"black\"/>\n",
       "</g>\n",
       "<!-- _ast.Call object at 0x1815f46690 -->\n",
       "<g class=\"node\" id=\"node17\"><title>_ast.Call object at 0x1815f46690</title>\n",
       "<text fill=\"#004080\" font-family=\"Courier,monospace\" font-size=\"14.00\" font-weight=\"bold\" text-anchor=\"start\" x=\"594.197\" y=\"-158.8\">Call</text>\n",
       "</g>\n",
       "<!-- _ast.Call object at 0x1815f46610&#45;&#45;_ast.Call object at 0x1815f46690 -->\n",
       "<g class=\"edge\" id=\"edge17\"><title>_ast.Call object at 0x1815f46610--_ast.Call object at 0x1815f46690</title>\n",
       "<path d=\"M478,-215C478,-215 532.675,-197.583 575,-180 577.936,-178.78 580.979,-177.45 583.997,-176.088\" fill=\"none\" stroke=\"black\"/>\n",
       "</g>\n",
       "<!-- _ast.Name object at 0x1815f46790 -->\n",
       "<g class=\"node\" id=\"node18\"><title>_ast.Name object at 0x1815f46790</title>\n",
       "<text fill=\"#004080\" font-family=\"Courier,monospace\" font-size=\"14.00\" font-weight=\"bold\" text-anchor=\"start\" x=\"82.1973\" y=\"-158.8\">Name</text>\n",
       "</g>\n",
       "<!-- _ast.BinOp object at 0x1815f46750&#45;&#45;_ast.Name object at 0x1815f46790 -->\n",
       "<g class=\"edge\" id=\"edge18\"><title>_ast.BinOp object at 0x1815f46750--_ast.Name object at 0x1815f46790</title>\n",
       "<path d=\"M100,-215C100,-215 99.6191,-195.192 99.3274,-180.027\" fill=\"none\" stroke=\"black\"/>\n",
       "</g>\n",
       "<!-- _ast.Add object at 0x1053bbc90 -->\n",
       "<g class=\"node\" id=\"node19\"><title>_ast.Add object at 0x1053bbc90</title>\n",
       "<text fill=\"#004080\" font-family=\"Courier,monospace\" font-size=\"14.00\" font-weight=\"bold\" text-anchor=\"start\" x=\"14.3979\" y=\"-158.8\">Add</text>\n",
       "</g>\n",
       "<!-- _ast.BinOp object at 0x1815f46750&#45;&#45;_ast.Add object at 0x1053bbc90 -->\n",
       "<g class=\"edge\" id=\"edge19\"><title>_ast.BinOp object at 0x1815f46750--_ast.Add object at 0x1053bbc90</title>\n",
       "<path d=\"M100,-215C100,-215 72.1928,-195.192 50.9029,-180.027\" fill=\"none\" stroke=\"black\"/>\n",
       "</g>\n",
       "<!-- _ast.Name object at 0x1815f467d0 -->\n",
       "<g class=\"node\" id=\"node20\"><title>_ast.Name object at 0x1815f467d0</title>\n",
       "<text fill=\"#004080\" font-family=\"Courier,monospace\" font-size=\"14.00\" font-weight=\"bold\" text-anchor=\"start\" x=\"192.197\" y=\"-158.8\">Name</text>\n",
       "</g>\n",
       "<!-- _ast.BinOp object at 0x1815f46750&#45;&#45;_ast.Name object at 0x1815f467d0 -->\n",
       "<g class=\"edge\" id=\"edge20\"><title>_ast.BinOp object at 0x1815f46750--_ast.Name object at 0x1815f467d0</title>\n",
       "<path d=\"M100,-215C100,-215 149.491,-191.39 181.776,-175.988\" fill=\"none\" stroke=\"black\"/>\n",
       "</g>\n",
       "<!-- int -->\n",
       "<g class=\"node\" id=\"node21\"><title>int</title>\n",
       "<text fill=\"#008040\" font-family=\"Courier,monospace\" font-size=\"14.00\" font-weight=\"bold\" text-anchor=\"start\" x=\"403.398\" y=\"-86.8\">int</text>\n",
       "</g>\n",
       "<!-- _ast.Name object at 0x1815f464d0&#45;&#45;int -->\n",
       "<g class=\"edge\" id=\"edge21\"><title>_ast.Name object at 0x1815f464d0--int</title>\n",
       "<path d=\"M399,-143C399,-143 405.476,-123.192 410.434,-108.027\" fill=\"none\" stroke=\"black\"/>\n",
       "</g>\n",
       "<!-- _ast.Load object at 0x1053bb650 -->\n",
       "<g class=\"node\" id=\"node22\"><title>_ast.Load object at 0x1053bb650</title>\n",
       "<text fill=\"#004080\" font-family=\"Courier,monospace\" font-size=\"14.00\" font-weight=\"bold\" text-anchor=\"start\" x=\"399.197\" y=\"-14.8\">Load</text>\n",
       "</g>\n",
       "<!-- _ast.Name object at 0x1815f464d0&#45;&#45;_ast.Load object at 0x1053bb650 -->\n",
       "<g class=\"edge\" id=\"edge22\"><title>_ast.Name object at 0x1815f464d0--_ast.Load object at 0x1053bb650</title>\n",
       "<path d=\"M399,-143C399,-143 384.356,-125.155 380,-108 376.062,-92.4922 375.297,-87.2933 380,-72 384.054,-58.8163 392.627,-45.9695 400.39,-36.2264\" fill=\"none\" stroke=\"black\"/>\n",
       "</g>\n",
       "<!-- _ast.Name object at 0x1815f46550 -->\n",
       "<g class=\"node\" id=\"node23\"><title>_ast.Name object at 0x1815f46550</title>\n",
       "<text fill=\"#004080\" font-family=\"Courier,monospace\" font-size=\"14.00\" font-weight=\"bold\" text-anchor=\"start\" x=\"517.197\" y=\"-86.8\">Name</text>\n",
       "</g>\n",
       "<!-- _ast.Call object at 0x1815f46510&#45;&#45;_ast.Name object at 0x1815f46550 -->\n",
       "<g class=\"edge\" id=\"edge23\"><title>_ast.Call object at 0x1815f46510--_ast.Name object at 0x1815f46550</title>\n",
       "<path d=\"M537.764,-143.697C536.989,-132.846 535.994,-118.917 535.222,-108.104\" fill=\"none\" stroke=\"black\"/>\n",
       "</g>\n",
       "<!-- _ast.Name object at 0x1815f46650&#45;&#45;int -->\n",
       "<g class=\"edge\" id=\"edge24\"><title>_ast.Name object at 0x1815f46650--int</title>\n",
       "<path d=\"M457,-143C457,-143 441.382,-123.192 429.425,-108.027\" fill=\"none\" stroke=\"black\"/>\n",
       "</g>\n",
       "<!-- _ast.Name object at 0x1815f46650&#45;&#45;_ast.Load object at 0x1053bb650 -->\n",
       "<g class=\"edge\" id=\"edge25\"><title>_ast.Name object at 0x1815f46650--_ast.Load object at 0x1053bb650</title>\n",
       "<path d=\"M457,-143C457,-143 462.355,-101.891 452,-72 447.485,-58.967 438.898,-46.1249 431.242,-36.3465\" fill=\"none\" stroke=\"black\"/>\n",
       "</g>\n",
       "<!-- _ast.Name object at 0x1815f466d0 -->\n",
       "<g class=\"node\" id=\"node24\"><title>_ast.Name object at 0x1815f466d0</title>\n",
       "<text fill=\"#004080\" font-family=\"Courier,monospace\" font-size=\"14.00\" font-weight=\"bold\" text-anchor=\"start\" x=\"589.197\" y=\"-86.8\">Name</text>\n",
       "</g>\n",
       "<!-- _ast.Call object at 0x1815f46690&#45;&#45;_ast.Name object at 0x1815f466d0 -->\n",
       "<g class=\"edge\" id=\"edge26\"><title>_ast.Call object at 0x1815f46690--_ast.Name object at 0x1815f466d0</title>\n",
       "<path d=\"M609.764,-143.697C608.989,-132.846 607.994,-118.917 607.222,-108.104\" fill=\"none\" stroke=\"black\"/>\n",
       "</g>\n",
       "<!-- _ast.Name object at 0x1815f46790&#45;&#45;a -->\n",
       "<g class=\"edge\" id=\"edge27\"><title>_ast.Name object at 0x1815f46790--a</title>\n",
       "<path d=\"M122,-143C122,-143 134.189,-123.192 143.522,-108.027\" fill=\"none\" stroke=\"black\"/>\n",
       "</g>\n",
       "<!-- _ast.Name object at 0x1815f46790&#45;&#45;_ast.Load object at 0x1053bb650 -->\n",
       "<g class=\"edge\" id=\"edge28\"><title>_ast.Name object at 0x1815f46790--_ast.Load object at 0x1053bb650</title>\n",
       "<path d=\"M122,-143C122,-143 97.7022,-96.2263 118,-72 152.507,-30.8147 322.045,-21.6086 388.861,-19.5714\" fill=\"none\" stroke=\"black\"/>\n",
       "</g>\n",
       "<!-- _ast.Name object at 0x1815f467d0&#45;&#45;b -->\n",
       "<g class=\"edge\" id=\"edge29\"><title>_ast.Name object at 0x1815f467d0--b</title>\n",
       "<path d=\"M233,-143C233,-143 257.379,-123.192 276.044,-108.027\" fill=\"none\" stroke=\"black\"/>\n",
       "</g>\n",
       "<!-- _ast.Name object at 0x1815f467d0&#45;&#45;_ast.Load object at 0x1053bb650 -->\n",
       "<g class=\"edge\" id=\"edge30\"><title>_ast.Name object at 0x1815f467d0--_ast.Load object at 0x1053bb650</title>\n",
       "<path d=\"M233,-143C233,-143 236.467,-95.4256 261,-72 296.583,-38.0225 354.859,-25.7637 388.907,-21.3862\" fill=\"none\" stroke=\"black\"/>\n",
       "</g>\n",
       "<!-- _ast.Name object at 0x1815f46550&#45;&#45;_ast.Load object at 0x1053bb650 -->\n",
       "<g class=\"edge\" id=\"edge32\"><title>_ast.Name object at 0x1815f46550--_ast.Load object at 0x1053bb650</title>\n",
       "<path d=\"M529,-71C529,-71 476.496,-46.839 443.066,-31.4553\" fill=\"none\" stroke=\"black\"/>\n",
       "</g>\n",
       "<!-- raw_input -->\n",
       "<g class=\"node\" id=\"node25\"><title>raw_input</title>\n",
       "<text fill=\"#008040\" font-family=\"Courier,monospace\" font-size=\"14.00\" font-weight=\"bold\" text-anchor=\"start\" x=\"532.194\" y=\"-14.8\">raw_input</text>\n",
       "</g>\n",
       "<!-- _ast.Name object at 0x1815f46550&#45;&#45;raw_input -->\n",
       "<g class=\"edge\" id=\"edge31\"><title>_ast.Name object at 0x1815f46550--raw_input</title>\n",
       "<path d=\"M529,-71C529,-71 544.618,-51.1921 556.575,-36.0267\" fill=\"none\" stroke=\"black\"/>\n",
       "</g>\n",
       "<!-- _ast.Name object at 0x1815f466d0&#45;&#45;_ast.Load object at 0x1053bb650 -->\n",
       "<g class=\"edge\" id=\"edge34\"><title>_ast.Name object at 0x1815f466d0--_ast.Load object at 0x1053bb650</title>\n",
       "<path d=\"M586,-71C586,-71 491.368,-42.0539 443.313,-27.3547\" fill=\"none\" stroke=\"black\"/>\n",
       "</g>\n",
       "<!-- _ast.Name object at 0x1815f466d0&#45;&#45;raw_input -->\n",
       "<g class=\"edge\" id=\"edge33\"><title>_ast.Name object at 0x1815f466d0--raw_input</title>\n",
       "<path d=\"M586,-71C586,-71 579.905,-51.1921 575.239,-36.0267\" fill=\"none\" stroke=\"black\"/>\n",
       "</g>\n",
       "</g>\n",
       "</svg>"
      ],
      "text/plain": [
       "<IPython.core.display.SVG object>"
      ]
     },
     "execution_count": 53,
     "metadata": {},
     "output_type": "execute_result"
    }
   ],
   "source": [
    "tree = get_ast_repr(ast.parse(sum_code))\n",
    "graph(tree)"
   ]
  },
  {
   "cell_type": "code",
   "execution_count": 54,
   "metadata": {},
   "outputs": [
    {
     "data": {
      "text/plain": [
       "[('Module', 'Assign'),\n",
       " ('Module', 'Assign'),\n",
       " ('Module', 'Print'),\n",
       " ('Assign', 'Name'),\n",
       " ('Assign', 'Call'),\n",
       " ('Assign', 'Name'),\n",
       " ('Assign', 'Call'),\n",
       " ('Print', 'BinOp'),\n",
       " ('Print', 'bool'),\n",
       " ('Name', 'a'),\n",
       " ('Name', 'Store'),\n",
       " ('Call', 'Name'),\n",
       " ('Call', 'Call'),\n",
       " ('Name', 'b'),\n",
       " ('Name', 'Store'),\n",
       " ('Call', 'Name'),\n",
       " ('Call', 'Call'),\n",
       " ('BinOp', 'Name'),\n",
       " ('BinOp', 'Add'),\n",
       " ('BinOp', 'Name'),\n",
       " ('Name', 'int'),\n",
       " ('Name', 'Load'),\n",
       " ('Call', 'Name'),\n",
       " ('Name', 'int'),\n",
       " ('Name', 'Load'),\n",
       " ('Call', 'Name'),\n",
       " ('Name', 'a'),\n",
       " ('Name', 'Load'),\n",
       " ('Name', 'b'),\n",
       " ('Name', 'Load'),\n",
       " ('Name', 'raw_input'),\n",
       " ('Name', 'Load'),\n",
       " ('Name', 'raw_input'),\n",
       " ('Name', 'Load')]"
      ]
     },
     "execution_count": 54,
     "metadata": {},
     "output_type": "execute_result"
    }
   ],
   "source": [
    "get_ast_pairs(tree)"
   ]
  },
  {
   "cell_type": "code",
   "execution_count": 55,
   "metadata": {
    "collapsed": true
   },
   "outputs": [],
   "source": [
    "hi_code = '''\n",
    "def hello():\n",
    "    \"\"\"Return Hi.\"\"\"\n",
    "    return 'Hi!'\n",
    "'''"
   ]
  },
  {
   "cell_type": "code",
   "execution_count": 56,
   "metadata": {},
   "outputs": [
    {
     "data": {
      "image/svg+xml": [
       "<svg height=\"332pt\" viewBox=\"0.00 0.00 336.21 332.00\" width=\"336pt\" xmlns=\"http://www.w3.org/2000/svg\" xmlns:xlink=\"http://www.w3.org/1999/xlink\">\n",
       "<g class=\"graph\" id=\"graph0\" transform=\"scale(1 1) rotate(0) translate(4 328)\">\n",
       "<title>%3</title>\n",
       "<polygon fill=\"white\" points=\"-4,4 -4,-328 332.208,-328 332.208,4 -4,4\" stroke=\"none\"/>\n",
       "<!-- _ast.Module object at 0x1815f46c90 -->\n",
       "<g class=\"node\" id=\"node1\"><title>_ast.Module object at 0x1815f46c90</title>\n",
       "<text fill=\"#004080\" font-family=\"Courier,monospace\" font-size=\"14.00\" font-weight=\"bold\" text-anchor=\"start\" x=\"141.799\" y=\"-302.8\">Module</text>\n",
       "</g>\n",
       "<!-- _ast.FunctionDef object at 0x1815f46e90 -->\n",
       "<g class=\"node\" id=\"node2\"><title>_ast.FunctionDef object at 0x1815f46e90</title>\n",
       "<text fill=\"#004080\" font-family=\"Courier,monospace\" font-size=\"14.00\" font-weight=\"bold\" text-anchor=\"start\" x=\"120.796\" y=\"-230.8\">FunctionDef</text>\n",
       "</g>\n",
       "<!-- _ast.Module object at 0x1815f46c90&#45;&#45;_ast.FunctionDef object at 0x1815f46e90 -->\n",
       "<g class=\"edge\" id=\"edge1\"><title>_ast.Module object at 0x1815f46c90--_ast.FunctionDef object at 0x1815f46e90</title>\n",
       "<path d=\"M167.003,-287.697C167.003,-276.846 167.003,-262.917 167.003,-252.104\" fill=\"none\" stroke=\"black\"/>\n",
       "</g>\n",
       "<!-- hello -->\n",
       "<g class=\"node\" id=\"node3\"><title>hello</title>\n",
       "<text fill=\"#008040\" font-family=\"Courier,monospace\" font-size=\"14.00\" font-weight=\"bold\" text-anchor=\"start\" x=\"8\" y=\"-158.8\">hello</text>\n",
       "</g>\n",
       "<!-- _ast.FunctionDef object at 0x1815f46e90&#45;&#45;hello -->\n",
       "<g class=\"edge\" id=\"edge2\"><title>_ast.FunctionDef object at 0x1815f46e90--hello</title>\n",
       "<path d=\"M167.003,-215C167.003,-215 110.756,-197.408 67.0034,-180 64.183,-178.878 61.2652,-177.666 58.3579,-176.425\" fill=\"none\" stroke=\"black\"/>\n",
       "</g>\n",
       "<!-- _ast.arguments object at 0x1815f46ed0 -->\n",
       "<g class=\"node\" id=\"node4\"><title>_ast.arguments object at 0x1815f46ed0</title>\n",
       "<text fill=\"#004080\" font-family=\"Courier,monospace\" font-size=\"14.00\" font-weight=\"bold\" text-anchor=\"start\" x=\"84.1973\" y=\"-158.8\">arguments</text>\n",
       "</g>\n",
       "<!-- _ast.FunctionDef object at 0x1815f46e90&#45;&#45;_ast.arguments object at 0x1815f46ed0 -->\n",
       "<g class=\"edge\" id=\"edge3\"><title>_ast.FunctionDef object at 0x1815f46e90--_ast.arguments object at 0x1815f46ed0</title>\n",
       "<path d=\"M167.003,-215C167.003,-215 149.862,-195.192 136.738,-180.027\" fill=\"none\" stroke=\"black\"/>\n",
       "</g>\n",
       "<!-- _ast.Expr object at 0x1815f46f10 -->\n",
       "<g class=\"node\" id=\"node5\"><title>_ast.Expr object at 0x1815f46f10</title>\n",
       "<text fill=\"#004080\" font-family=\"Courier,monospace\" font-size=\"14.00\" font-weight=\"bold\" text-anchor=\"start\" x=\"196.201\" y=\"-158.8\">Expr</text>\n",
       "</g>\n",
       "<!-- _ast.FunctionDef object at 0x1815f46e90&#45;&#45;_ast.Expr object at 0x1815f46f10 -->\n",
       "<g class=\"edge\" id=\"edge4\"><title>_ast.FunctionDef object at 0x1815f46e90--_ast.Expr object at 0x1815f46f10</title>\n",
       "<path d=\"M167.003,-215C167.003,-215 184.526,-195.192 197.941,-180.027\" fill=\"none\" stroke=\"black\"/>\n",
       "</g>\n",
       "<!-- _ast.Return object at 0x1815f46910 -->\n",
       "<g class=\"node\" id=\"node6\"><title>_ast.Return object at 0x1815f46910</title>\n",
       "<text fill=\"#004080\" font-family=\"Courier,monospace\" font-size=\"14.00\" font-weight=\"bold\" text-anchor=\"start\" x=\"269.799\" y=\"-158.8\">Return</text>\n",
       "</g>\n",
       "<!-- _ast.FunctionDef object at 0x1815f46e90&#45;&#45;_ast.Return object at 0x1815f46910 -->\n",
       "<g class=\"edge\" id=\"edge5\"><title>_ast.FunctionDef object at 0x1815f46e90--_ast.Return object at 0x1815f46910</title>\n",
       "<path d=\"M167.003,-215C167.003,-215 223.781,-191.934 261.707,-176.527\" fill=\"none\" stroke=\"black\"/>\n",
       "</g>\n",
       "<!-- _ast.Str object at 0x1815f46d50 -->\n",
       "<g class=\"node\" id=\"node7\"><title>_ast.Str object at 0x1815f46d50</title>\n",
       "<text fill=\"#004080\" font-family=\"Courier,monospace\" font-size=\"14.00\" font-weight=\"bold\" text-anchor=\"start\" x=\"192.401\" y=\"-86.8\">Str</text>\n",
       "</g>\n",
       "<!-- _ast.Expr object at 0x1815f46f10&#45;&#45;_ast.Str object at 0x1815f46d50 -->\n",
       "<g class=\"edge\" id=\"edge6\"><title>_ast.Expr object at 0x1815f46f10--_ast.Str object at 0x1815f46d50</title>\n",
       "<path d=\"M211.026,-143.697C209.786,-132.846 208.194,-118.917 206.958,-108.104\" fill=\"none\" stroke=\"black\"/>\n",
       "</g>\n",
       "<!-- _ast.Str object at 0x1815f46e10 -->\n",
       "<g class=\"node\" id=\"node8\"><title>_ast.Str object at 0x1815f46e10</title>\n",
       "<text fill=\"#004080\" font-family=\"Courier,monospace\" font-size=\"14.00\" font-weight=\"bold\" text-anchor=\"start\" x=\"283.401\" y=\"-86.8\">Str</text>\n",
       "</g>\n",
       "<!-- _ast.Return object at 0x1815f46910&#45;&#45;_ast.Str object at 0x1815f46e10 -->\n",
       "<g class=\"edge\" id=\"edge7\"><title>_ast.Return object at 0x1815f46910--_ast.Str object at 0x1815f46e10</title>\n",
       "<path d=\"M295.251,-143.697C295.406,-132.846 295.605,-118.917 295.759,-108.104\" fill=\"none\" stroke=\"black\"/>\n",
       "</g>\n",
       "<!-- Return Hi. -->\n",
       "<g class=\"node\" id=\"node9\"><title>Return Hi.</title>\n",
       "<text fill=\"#008040\" font-family=\"Courier,monospace\" font-size=\"14.00\" font-weight=\"bold\" text-anchor=\"start\" x=\"160.997\" y=\"-14.8\">Return Hi.</text>\n",
       "</g>\n",
       "<!-- _ast.Str object at 0x1815f46d50&#45;&#45;Return Hi. -->\n",
       "<g class=\"edge\" id=\"edge8\"><title>_ast.Str object at 0x1815f46d50--Return Hi.</title>\n",
       "<path d=\"M204.509,-71.6966C204.199,-60.8463 203.801,-46.9167 203.492,-36.1043\" fill=\"none\" stroke=\"black\"/>\n",
       "</g>\n",
       "<!-- Hi! -->\n",
       "<g class=\"node\" id=\"node10\"><title>Hi!</title>\n",
       "<text fill=\"#008040\" font-family=\"Courier,monospace\" font-size=\"14.00\" font-weight=\"bold\" text-anchor=\"start\" x=\"285.401\" y=\"-14.8\">Hi!</text>\n",
       "</g>\n",
       "<!-- _ast.Str object at 0x1815f46e10&#45;&#45;Hi! -->\n",
       "<g class=\"edge\" id=\"edge9\"><title>_ast.Str object at 0x1815f46e10--Hi!</title>\n",
       "<path d=\"M296.498,-71.6966C296.808,-60.8463 297.206,-46.9167 297.515,-36.1043\" fill=\"none\" stroke=\"black\"/>\n",
       "</g>\n",
       "</g>\n",
       "</svg>"
      ],
      "text/plain": [
       "<IPython.core.display.SVG object>"
      ]
     },
     "execution_count": 56,
     "metadata": {},
     "output_type": "execute_result"
    }
   ],
   "source": [
    "tree = get_ast_repr(ast.parse(hi_code))\n",
    "graph(tree)"
   ]
  },
  {
   "cell_type": "code",
   "execution_count": 57,
   "metadata": {},
   "outputs": [
    {
     "data": {
      "text/plain": [
       "[('Module', 'FunctionDef'),\n",
       " ('FunctionDef', 'hello'),\n",
       " ('FunctionDef', 'arguments'),\n",
       " ('FunctionDef', 'Expr'),\n",
       " ('FunctionDef', 'Return'),\n",
       " ('Expr', 'Str'),\n",
       " ('Return', 'Str'),\n",
       " ('Str', 'Return Hi.'),\n",
       " ('Str', 'Hi!')]"
      ]
     },
     "execution_count": 57,
     "metadata": {},
     "output_type": "execute_result"
    }
   ],
   "source": [
    "get_ast_pairs(tree)"
   ]
  },
  {
   "cell_type": "markdown",
   "metadata": {
    "collapsed": true
   },
   "source": [
    "## Examples"
   ]
  },
  {
   "cell_type": "code",
   "execution_count": 58,
   "metadata": {
    "collapsed": true
   },
   "outputs": [],
   "source": [
    "program_a = '''\n",
    "def get_name(name):\n",
    "    print 'Hi %s' % (name)\n",
    "    \n",
    "get_name('David')\n",
    "'''"
   ]
  },
  {
   "cell_type": "code",
   "execution_count": 59,
   "metadata": {
    "collapsed": true
   },
   "outputs": [],
   "source": [
    "program_sum = '''\n",
    "#!/usr/bin/env python\n",
    "\n",
    "# read from input\n",
    "a = int(raw_input()) # first\n",
    "b = int(raw_input()) # second\n",
    "\n",
    "print a + b'''"
   ]
  },
  {
   "cell_type": "code",
   "execution_count": 60,
   "metadata": {
    "collapsed": true
   },
   "outputs": [],
   "source": [
    "program_score = '''\n",
    "n = input()\n",
    "i = 0\n",
    "away_score = (away_goals * 3) + away_points\n",
    "home_score = (home_goals * 3) + home_points \n",
    "while n < 4:\n",
    "    n = input()\n",
    "    if home_score > away_score :\n",
    "        print \"home win\"\n",
    "    elif home_score < away_score :\n",
    "        print \"away win\"\n",
    "    else:\n",
    "        print \"draw\"\n",
    "    i = i + 1\n",
    "'''"
   ]
  },
  {
   "cell_type": "code",
   "execution_count": 61,
   "metadata": {
    "collapsed": true
   },
   "outputs": [],
   "source": [
    "program_codes = [\n",
    "    program_a,\n",
    "    program_sum,\n",
    "    program_score\n",
    "]"
   ]
  },
  {
   "cell_type": "code",
   "execution_count": 62,
   "metadata": {
    "collapsed": true
   },
   "outputs": [],
   "source": [
    "docs = [ remove_comments(p) for p in program_codes ]"
   ]
  },
  {
   "cell_type": "code",
   "execution_count": 63,
   "metadata": {
    "collapsed": true
   },
   "outputs": [],
   "source": [
    "t = Tokenizer(num_words=None, \n",
    "              filters='\\t\\n', \n",
    "              lower=True, \n",
    "              split=' ', \n",
    "              char_level=False)"
   ]
  },
  {
   "cell_type": "code",
   "execution_count": 64,
   "metadata": {
    "collapsed": true
   },
   "outputs": [],
   "source": [
    "t.fit_on_texts(docs)"
   ]
  },
  {
   "cell_type": "code",
   "execution_count": 65,
   "metadata": {},
   "outputs": [
    {
     "data": {
      "text/plain": [
       "OrderedDict([('def', 1),\n",
       "             ('get_name(name):', 1),\n",
       "             ('print', 5),\n",
       "             (\"'hi\", 1),\n",
       "             (\"%s'\", 1),\n",
       "             ('%', 1),\n",
       "             ('(name)', 1),\n",
       "             (\"get_name('david')\", 1),\n",
       "             ('a', 2),\n",
       "             ('=', 8),\n",
       "             ('int(raw_input())', 2),\n",
       "             ('b', 2),\n",
       "             ('+', 4),\n",
       "             ('n', 3),\n",
       "             ('input()', 2),\n",
       "             ('i', 3),\n",
       "             ('0', 1),\n",
       "             ('away_score', 3),\n",
       "             ('(away_goals', 1),\n",
       "             ('*', 2),\n",
       "             ('3)', 2),\n",
       "             ('away_points', 1),\n",
       "             ('home_score', 3),\n",
       "             ('(home_goals', 1),\n",
       "             ('home_points', 1),\n",
       "             ('while', 1),\n",
       "             ('<', 2),\n",
       "             ('4:', 1),\n",
       "             ('if', 1),\n",
       "             ('>', 1),\n",
       "             (':', 2),\n",
       "             ('\"home', 1),\n",
       "             ('win\"', 2),\n",
       "             ('elif', 1),\n",
       "             ('\"away', 1),\n",
       "             ('else:', 1),\n",
       "             ('\"draw\"', 1),\n",
       "             ('1', 1)])"
      ]
     },
     "execution_count": 65,
     "metadata": {},
     "output_type": "execute_result"
    }
   ],
   "source": [
    "t.word_counts"
   ]
  },
  {
   "cell_type": "code",
   "execution_count": 66,
   "metadata": {},
   "outputs": [
    {
     "data": {
      "text/plain": [
       "array([[ 0.,  0.,  1.,  0.,  0.,  0.,  0.,  0.,  0.,  0.,  0.,  0.,  0.,\n",
       "         0.,  0.,  0.,  0.,  1.,  1.,  1.,  1.,  1.,  1.,  1.,  0.,  0.,\n",
       "         0.,  0.,  0.,  0.,  0.,  0.,  0.,  0.,  0.,  0.,  0.,  0.,  0.],\n",
       "       [ 0.,  2.,  1.,  1.,  0.,  0.,  0.,  0.,  2.,  2.,  2.,  0.,  0.,\n",
       "         0.,  0.,  0.,  0.,  0.,  0.,  0.,  0.,  0.,  0.,  0.,  0.,  0.,\n",
       "         0.,  0.,  0.,  0.,  0.,  0.,  0.,  0.,  0.,  0.,  0.,  0.,  0.],\n",
       "       [ 0.,  6.,  3.,  3.,  3.,  3.,  3.,  3.,  0.,  0.,  0.,  2.,  2.,\n",
       "         2.,  2.,  2.,  2.,  0.,  0.,  0.,  0.,  0.,  0.,  0.,  1.,  1.,\n",
       "         1.,  1.,  1.,  1.,  1.,  1.,  1.,  1.,  1.,  1.,  1.,  1.,  1.]])"
      ]
     },
     "execution_count": 66,
     "metadata": {},
     "output_type": "execute_result"
    }
   ],
   "source": [
    "t.texts_to_matrix(docs, mode='count')"
   ]
  },
  {
   "cell_type": "code",
   "execution_count": 67,
   "metadata": {},
   "outputs": [
    {
     "data": {
      "text/plain": [
       "array([[ 0.        ,  0.        ,  0.55961579,  0.        ,  0.        ,\n",
       "         0.        ,  0.        ,  0.        ,  0.        ,  0.        ,\n",
       "         0.        ,  0.        ,  0.        ,  0.        ,  0.        ,\n",
       "         0.        ,  0.        ,  0.91629073,  0.91629073,  0.91629073,\n",
       "         0.91629073,  0.91629073,  0.91629073,  0.91629073,  0.        ,\n",
       "         0.        ,  0.        ,  0.        ,  0.        ,  0.        ,\n",
       "         0.        ,  0.        ,  0.        ,  0.        ,  0.        ,\n",
       "         0.        ,  0.        ,  0.        ,  0.        ],\n",
       "       [ 0.        ,  1.17360019,  0.55961579,  0.69314718,  0.        ,\n",
       "         0.        ,  0.        ,  0.        ,  1.55141507,  1.55141507,\n",
       "         1.55141507,  0.        ,  0.        ,  0.        ,  0.        ,\n",
       "         0.        ,  0.        ,  0.        ,  0.        ,  0.        ,\n",
       "         0.        ,  0.        ,  0.        ,  0.        ,  0.        ,\n",
       "         0.        ,  0.        ,  0.        ,  0.        ,  0.        ,\n",
       "         0.        ,  0.        ,  0.        ,  0.        ,  0.        ,\n",
       "         0.        ,  0.        ,  0.        ,  0.        ],\n",
       "       [ 0.        ,  1.9351002 ,  1.17441657,  1.45464719,  1.92293899,\n",
       "         1.92293899,  1.92293899,  1.92293899,  0.        ,  0.        ,\n",
       "         0.        ,  1.55141507,  1.55141507,  1.55141507,  1.55141507,\n",
       "         1.55141507,  1.55141507,  0.        ,  0.        ,  0.        ,\n",
       "         0.        ,  0.        ,  0.        ,  0.        ,  0.91629073,\n",
       "         0.91629073,  0.91629073,  0.91629073,  0.91629073,  0.91629073,\n",
       "         0.91629073,  0.91629073,  0.91629073,  0.91629073,  0.91629073,\n",
       "         0.91629073,  0.91629073,  0.91629073,  0.91629073]])"
      ]
     },
     "execution_count": 67,
     "metadata": {},
     "output_type": "execute_result"
    }
   ],
   "source": [
    "t.texts_to_matrix(docs, mode='tfidf')"
   ]
  },
  {
   "cell_type": "code",
   "execution_count": 68,
   "metadata": {
    "scrolled": false
   },
   "outputs": [
    {
     "name": "stdout",
     "output_type": "stream",
     "text": [
      "1,0-1,21:\tCOMMENT\t'#!/usr/bin/env python'\n",
      "1,21-1,22:\tNL\t'\\n'\n",
      "2,0-2,1:\tNL\t'\\n'\n",
      "3,0-3,17:\tCOMMENT\t'# read from input'\n",
      "3,17-3,18:\tNL\t'\\n'\n",
      "4,0-4,1:\tNAME\t'a'\n",
      "4,2-4,3:\tOP\t'='\n",
      "4,4-4,7:\tNAME\t'int'\n",
      "4,7-4,8:\tOP\t'('\n",
      "4,8-4,17:\tNAME\t'raw_input'\n",
      "4,17-4,18:\tOP\t'('\n",
      "4,18-4,19:\tOP\t')'\n",
      "4,19-4,20:\tOP\t')'\n",
      "4,21-4,28:\tCOMMENT\t'# first'\n",
      "4,28-4,29:\tNEWLINE\t'\\n'\n",
      "5,0-5,1:\tNAME\t'b'\n",
      "5,2-5,3:\tOP\t'='\n",
      "5,4-5,7:\tNAME\t'int'\n",
      "5,7-5,8:\tOP\t'('\n",
      "5,8-5,17:\tNAME\t'raw_input'\n",
      "5,17-5,18:\tOP\t'('\n",
      "5,18-5,19:\tOP\t')'\n",
      "5,19-5,20:\tOP\t')'\n",
      "5,21-5,29:\tCOMMENT\t'# second'\n",
      "5,29-5,30:\tNEWLINE\t'\\n'\n",
      "6,0-6,1:\tNL\t'\\n'\n",
      "7,0-7,5:\tNAME\t'print'\n",
      "7,6-7,7:\tNAME\t'a'\n",
      "7,8-7,9:\tOP\t'+'\n",
      "7,10-7,11:\tNAME\t'b'\n",
      "7,11-7,12:\tNEWLINE\t'\\n'\n",
      "8,0-8,0:\tENDMARKER\t''\n"
     ]
    }
   ],
   "source": [
    "!python -m tokenize data/examples/sum.py"
   ]
  },
  {
   "cell_type": "code",
   "execution_count": 69,
   "metadata": {},
   "outputs": [
    {
     "name": "stdout",
     "output_type": "stream",
     "text": [
      "n = input()\r\n",
      "i = 0\r\n",
      "away_score = (away_goals * 3) + away_points\r\n",
      "home_score = (home_goals * 3) + home_points \r\n",
      "while n < 4:\r\n",
      "    n = input()\r\n",
      "    if home_score > away_score :\r\n",
      "        print \"home win\"\r\n",
      "    elif home_score < away_score :\r\n",
      "        print \"away win\"\r\n",
      "    else:\r\n",
      "        print \"draw\"\r\n",
      "    i = i + 1\r\n"
     ]
    }
   ],
   "source": [
    "!cat data/examples/score.py"
   ]
  },
  {
   "cell_type": "code",
   "execution_count": 70,
   "metadata": {},
   "outputs": [
    {
     "name": "stdout",
     "output_type": "stream",
     "text": [
      "1,0-1,1:\tNAME\t'n'\r\n",
      "1,2-1,3:\tOP\t'='\r\n",
      "1,4-1,9:\tNAME\t'input'\r\n",
      "1,9-1,10:\tOP\t'('\r\n",
      "1,10-1,11:\tOP\t')'\r\n",
      "1,11-1,12:\tNEWLINE\t'\\n'\r\n",
      "2,0-2,1:\tNAME\t'i'\r\n",
      "2,2-2,3:\tOP\t'='\r\n",
      "2,4-2,5:\tNUMBER\t'0'\r\n",
      "2,5-2,6:\tNEWLINE\t'\\n'\r\n",
      "3,0-3,10:\tNAME\t'away_score'\r\n",
      "3,11-3,12:\tOP\t'='\r\n",
      "3,13-3,14:\tOP\t'('\r\n",
      "3,14-3,24:\tNAME\t'away_goals'\r\n",
      "3,25-3,26:\tOP\t'*'\r\n",
      "3,27-3,28:\tNUMBER\t'3'\r\n",
      "3,28-3,29:\tOP\t')'\r\n",
      "3,30-3,31:\tOP\t'+'\r\n",
      "3,32-3,43:\tNAME\t'away_points'\r\n",
      "3,43-3,44:\tNEWLINE\t'\\n'\r\n",
      "4,0-4,10:\tNAME\t'home_score'\r\n",
      "4,11-4,12:\tOP\t'='\r\n",
      "4,13-4,14:\tOP\t'('\r\n",
      "4,14-4,24:\tNAME\t'home_goals'\r\n",
      "4,25-4,26:\tOP\t'*'\r\n",
      "4,27-4,28:\tNUMBER\t'3'\r\n",
      "4,28-4,29:\tOP\t')'\r\n",
      "4,30-4,31:\tOP\t'+'\r\n",
      "4,32-4,43:\tNAME\t'home_points'\r\n",
      "4,44-4,45:\tNEWLINE\t'\\n'\r\n",
      "5,0-5,5:\tNAME\t'while'\r\n",
      "5,6-5,7:\tNAME\t'n'\r\n",
      "5,8-5,9:\tOP\t'<'\r\n",
      "5,10-5,11:\tNUMBER\t'4'\r\n",
      "5,11-5,12:\tOP\t':'\r\n",
      "5,12-5,13:\tNEWLINE\t'\\n'\r\n",
      "6,0-6,4:\tINDENT\t'    '\r\n",
      "6,4-6,5:\tNAME\t'n'\r\n",
      "6,6-6,7:\tOP\t'='\r\n",
      "6,8-6,13:\tNAME\t'input'\r\n",
      "6,13-6,14:\tOP\t'('\r\n",
      "6,14-6,15:\tOP\t')'\r\n",
      "6,15-6,16:\tNEWLINE\t'\\n'\r\n",
      "7,4-7,6:\tNAME\t'if'\r\n",
      "7,7-7,17:\tNAME\t'home_score'\r\n",
      "7,18-7,19:\tOP\t'>'\r\n",
      "7,20-7,30:\tNAME\t'away_score'\r\n",
      "7,31-7,32:\tOP\t':'\r\n",
      "7,32-7,33:\tNEWLINE\t'\\n'\r\n",
      "8,0-8,8:\tINDENT\t'        '\r\n",
      "8,8-8,13:\tNAME\t'print'\r\n",
      "8,14-8,24:\tSTRING\t'\"home win\"'\r\n",
      "8,24-8,25:\tNEWLINE\t'\\n'\r\n",
      "9,4-9,4:\tDEDENT\t''\r\n",
      "9,4-9,8:\tNAME\t'elif'\r\n",
      "9,9-9,19:\tNAME\t'home_score'\r\n",
      "9,20-9,21:\tOP\t'<'\r\n",
      "9,22-9,32:\tNAME\t'away_score'\r\n",
      "9,33-9,34:\tOP\t':'\r\n",
      "9,34-9,35:\tNEWLINE\t'\\n'\r\n",
      "10,0-10,8:\tINDENT\t'        '\r\n",
      "10,8-10,13:\tNAME\t'print'\r\n",
      "10,14-10,24:\tSTRING\t'\"away win\"'\r\n",
      "10,24-10,25:\tNEWLINE\t'\\n'\r\n",
      "11,4-11,4:\tDEDENT\t''\r\n",
      "11,4-11,8:\tNAME\t'else'\r\n",
      "11,8-11,9:\tOP\t':'\r\n",
      "11,9-11,10:\tNEWLINE\t'\\n'\r\n",
      "12,0-12,8:\tINDENT\t'        '\r\n",
      "12,8-12,13:\tNAME\t'print'\r\n",
      "12,14-12,20:\tSTRING\t'\"draw\"'\r\n",
      "12,20-12,21:\tNEWLINE\t'\\n'\r\n",
      "13,4-13,4:\tDEDENT\t''\r\n",
      "13,4-13,5:\tNAME\t'i'\r\n",
      "13,6-13,7:\tOP\t'='\r\n",
      "13,8-13,9:\tNAME\t'i'\r\n",
      "13,10-13,11:\tOP\t'+'\r\n",
      "13,12-13,13:\tNUMBER\t'1'\r\n",
      "13,13-13,14:\tNEWLINE\t'\\n'\r\n",
      "14,0-14,0:\tDEDENT\t''\r\n",
      "14,0-14,0:\tENDMARKER\t''\r\n"
     ]
    }
   ],
   "source": [
    "!python -m tokenize data/examples/score.py"
   ]
  },
  {
   "cell_type": "code",
   "execution_count": 71,
   "metadata": {},
   "outputs": [
    {
     "data": {
      "image/svg+xml": [
       "<svg height=\"404pt\" viewBox=\"0.00 0.00 538.01 404.00\" width=\"538pt\" xmlns=\"http://www.w3.org/2000/svg\" xmlns:xlink=\"http://www.w3.org/1999/xlink\">\n",
       "<g class=\"graph\" id=\"graph0\" transform=\"scale(1 1) rotate(0) translate(4 400)\">\n",
       "<title>%3</title>\n",
       "<polygon fill=\"white\" points=\"-4,4 -4,-400 534.007,-400 534.007,4 -4,4\" stroke=\"none\"/>\n",
       "<!-- _ast.Module object at 0x1815f46c50 -->\n",
       "<g class=\"node\" id=\"node1\"><title>_ast.Module object at 0x1815f46c50</title>\n",
       "<text fill=\"#004080\" font-family=\"Courier,monospace\" font-size=\"14.00\" font-weight=\"bold\" text-anchor=\"start\" x=\"148.799\" y=\"-374.8\">Module</text>\n",
       "</g>\n",
       "<!-- _ast.FunctionDef object at 0x1815f46b50 -->\n",
       "<g class=\"node\" id=\"node2\"><title>_ast.FunctionDef object at 0x1815f46b50</title>\n",
       "<text fill=\"#004080\" font-family=\"Courier,monospace\" font-size=\"14.00\" font-weight=\"bold\" text-anchor=\"start\" x=\"180.796\" y=\"-302.8\">FunctionDef</text>\n",
       "</g>\n",
       "<!-- _ast.Module object at 0x1815f46c50&#45;&#45;_ast.FunctionDef object at 0x1815f46b50 -->\n",
       "<g class=\"edge\" id=\"edge1\"><title>_ast.Module object at 0x1815f46c50--_ast.FunctionDef object at 0x1815f46b50</title>\n",
       "<path d=\"M174.003,-359C174.003,-359 194.192,-339.192 209.649,-324.027\" fill=\"none\" stroke=\"black\"/>\n",
       "</g>\n",
       "<!-- _ast.Expr object at 0x1815f46950 -->\n",
       "<g class=\"node\" id=\"node3\"><title>_ast.Expr object at 0x1815f46950</title>\n",
       "<text fill=\"#004080\" font-family=\"Courier,monospace\" font-size=\"14.00\" font-weight=\"bold\" text-anchor=\"start\" x=\"104.201\" y=\"-302.8\">Expr</text>\n",
       "</g>\n",
       "<!-- _ast.Module object at 0x1815f46c50&#45;&#45;_ast.Expr object at 0x1815f46950 -->\n",
       "<g class=\"edge\" id=\"edge2\"><title>_ast.Module object at 0x1815f46c50--_ast.Expr object at 0x1815f46950</title>\n",
       "<path d=\"M174.003,-359C174.003,-359 153.815,-339.192 138.358,-324.027\" fill=\"none\" stroke=\"black\"/>\n",
       "</g>\n",
       "<!-- get_name -->\n",
       "<g class=\"node\" id=\"node4\"><title>get_name</title>\n",
       "<text fill=\"#008040\" font-family=\"Courier,monospace\" font-size=\"14.00\" font-weight=\"bold\" text-anchor=\"start\" x=\"122.398\" y=\"-86.8\">get_name</text>\n",
       "</g>\n",
       "<!-- _ast.FunctionDef object at 0x1815f46b50&#45;&#45;get_name -->\n",
       "<g class=\"edge\" id=\"edge3\"><title>_ast.FunctionDef object at 0x1815f46b50--get_name</title>\n",
       "<path d=\"M233.003,-287C233.003,-287 202.075,-273.296 189.003,-252 160.644,-205.797 156.203,-139.491 155.798,-108.373\" fill=\"none\" stroke=\"black\"/>\n",
       "</g>\n",
       "<!-- _ast.arguments object at 0x1815f46cd0 -->\n",
       "<g class=\"node\" id=\"node5\"><title>_ast.arguments object at 0x1815f46cd0</title>\n",
       "<text fill=\"#004080\" font-family=\"Courier,monospace\" font-size=\"14.00\" font-weight=\"bold\" text-anchor=\"start\" x=\"206.197\" y=\"-230.8\">arguments</text>\n",
       "</g>\n",
       "<!-- _ast.FunctionDef object at 0x1815f46b50&#45;&#45;_ast.arguments object at 0x1815f46cd0 -->\n",
       "<g class=\"edge\" id=\"edge4\"><title>_ast.FunctionDef object at 0x1815f46b50--_ast.arguments object at 0x1815f46cd0</title>\n",
       "<path d=\"M233.003,-287C233.003,-287 237.194,-267.192 240.402,-252.027\" fill=\"none\" stroke=\"black\"/>\n",
       "</g>\n",
       "<!-- _ast.Print object at 0x1815f46650 -->\n",
       "<g class=\"node\" id=\"node6\"><title>_ast.Print object at 0x1815f46650</title>\n",
       "<text fill=\"#004080\" font-family=\"Courier,monospace\" font-size=\"14.00\" font-weight=\"bold\" text-anchor=\"start\" x=\"328\" y=\"-230.8\">Print</text>\n",
       "</g>\n",
       "<!-- _ast.FunctionDef object at 0x1815f46b50&#45;&#45;_ast.Print object at 0x1815f46650 -->\n",
       "<g class=\"edge\" id=\"edge5\"><title>_ast.FunctionDef object at 0x1815f46b50--_ast.Print object at 0x1815f46650</title>\n",
       "<path d=\"M233.003,-287C233.003,-287 285.368,-263.526 319.732,-248.122\" fill=\"none\" stroke=\"black\"/>\n",
       "</g>\n",
       "<!-- _ast.Call object at 0x1815f46410 -->\n",
       "<g class=\"node\" id=\"node7\"><title>_ast.Call object at 0x1815f46410</title>\n",
       "<text fill=\"#004080\" font-family=\"Courier,monospace\" font-size=\"14.00\" font-weight=\"bold\" text-anchor=\"start\" x=\"89.2007\" y=\"-230.8\">Call</text>\n",
       "</g>\n",
       "<!-- _ast.Expr object at 0x1815f46950&#45;&#45;_ast.Call object at 0x1815f46410 -->\n",
       "<g class=\"edge\" id=\"edge6\"><title>_ast.Expr object at 0x1815f46950--_ast.Call object at 0x1815f46410</title>\n",
       "<path d=\"M117.296,-287.697C114.97,-276.846 111.986,-262.917 109.669,-252.104\" fill=\"none\" stroke=\"black\"/>\n",
       "</g>\n",
       "<!-- _ast.Name object at 0x1815f467d0 -->\n",
       "<g class=\"node\" id=\"node8\"><title>_ast.Name object at 0x1815f467d0</title>\n",
       "<text fill=\"#004080\" font-family=\"Courier,monospace\" font-size=\"14.00\" font-weight=\"bold\" text-anchor=\"start\" x=\"228.201\" y=\"-158.8\">Name</text>\n",
       "</g>\n",
       "<!-- _ast.arguments object at 0x1815f46cd0&#45;&#45;_ast.Name object at 0x1815f467d0 -->\n",
       "<g class=\"edge\" id=\"edge7\"><title>_ast.arguments object at 0x1815f46cd0--_ast.Name object at 0x1815f467d0</title>\n",
       "<path d=\"M244.251,-215.697C244.406,-204.846 244.605,-190.917 244.759,-180.104\" fill=\"none\" stroke=\"black\"/>\n",
       "</g>\n",
       "<!-- _ast.BinOp object at 0x1815f46a50 -->\n",
       "<g class=\"node\" id=\"node9\"><title>_ast.BinOp object at 0x1815f46a50</title>\n",
       "<text fill=\"#004080\" font-family=\"Courier,monospace\" font-size=\"14.00\" font-weight=\"bold\" text-anchor=\"start\" x=\"405\" y=\"-158.8\">BinOp</text>\n",
       "</g>\n",
       "<!-- _ast.Print object at 0x1815f46650&#45;&#45;_ast.BinOp object at 0x1815f46a50 -->\n",
       "<g class=\"edge\" id=\"edge8\"><title>_ast.Print object at 0x1815f46650--_ast.BinOp object at 0x1815f46a50</title>\n",
       "<path d=\"M357.003,-215C357.003,-215 383.287,-195.192 403.41,-180.027\" fill=\"none\" stroke=\"black\"/>\n",
       "</g>\n",
       "<!-- True -->\n",
       "<g class=\"node\" id=\"node10\"><title>True</title>\n",
       "<text fill=\"#008040\" font-family=\"Courier,monospace\" font-size=\"14.00\" font-weight=\"bold\" text-anchor=\"start\" x=\"332.201\" y=\"-158.8\">bool</text>\n",
       "</g>\n",
       "<!-- _ast.Print object at 0x1815f46650&#45;&#45;True -->\n",
       "<g class=\"edge\" id=\"edge9\"><title>_ast.Print object at 0x1815f46650--True</title>\n",
       "<path d=\"M357.003,-215C357.003,-215 353.956,-195.192 351.623,-180.027\" fill=\"none\" stroke=\"black\"/>\n",
       "</g>\n",
       "<!-- _ast.Name object at 0x1815f46790 -->\n",
       "<g class=\"node\" id=\"node11\"><title>_ast.Name object at 0x1815f46790</title>\n",
       "<text fill=\"#004080\" font-family=\"Courier,monospace\" font-size=\"14.00\" font-weight=\"bold\" text-anchor=\"start\" x=\"89.2007\" y=\"-158.8\">Name</text>\n",
       "</g>\n",
       "<!-- _ast.Call object at 0x1815f46410&#45;&#45;_ast.Name object at 0x1815f46790 -->\n",
       "<g class=\"edge\" id=\"edge10\"><title>_ast.Call object at 0x1815f46410--_ast.Name object at 0x1815f46790</title>\n",
       "<path d=\"M98.0034,-215C98.0034,-215 101.051,-195.192 103.384,-180.027\" fill=\"none\" stroke=\"black\"/>\n",
       "</g>\n",
       "<!-- _ast.Str object at 0x1815f46c10 -->\n",
       "<g class=\"node\" id=\"node12\"><title>_ast.Str object at 0x1815f46c10</title>\n",
       "<text fill=\"#004080\" font-family=\"Courier,monospace\" font-size=\"14.00\" font-weight=\"bold\" text-anchor=\"start\" x=\"17.4014\" y=\"-158.8\">Str</text>\n",
       "</g>\n",
       "<!-- _ast.Call object at 0x1815f46410&#45;&#45;_ast.Str object at 0x1815f46c10 -->\n",
       "<g class=\"edge\" id=\"edge11\"><title>_ast.Call object at 0x1815f46410--_ast.Str object at 0x1815f46c10</title>\n",
       "<path d=\"M98.0034,-215C98.0034,-215 72.1008,-195.192 52.2692,-180.027\" fill=\"none\" stroke=\"black\"/>\n",
       "</g>\n",
       "<!-- name -->\n",
       "<g class=\"node\" id=\"node13\"><title>name</title>\n",
       "<text fill=\"#008040\" font-family=\"Courier,monospace\" font-size=\"14.00\" font-weight=\"bold\" text-anchor=\"start\" x=\"312.201\" y=\"-14.8\">name</text>\n",
       "</g>\n",
       "<!-- _ast.Name object at 0x1815f467d0&#45;&#45;name -->\n",
       "<g class=\"edge\" id=\"edge12\"><title>_ast.Name object at 0x1815f467d0--name</title>\n",
       "<path d=\"M250.003,-143C250.003,-143 270.642,-125.444 283.003,-108 299.496,-84.7267 313.736,-54.7467 321.841,-36.2043\" fill=\"none\" stroke=\"black\"/>\n",
       "</g>\n",
       "<!-- _ast.Param object at 0x1053bb8d0 -->\n",
       "<g class=\"node\" id=\"node14\"><title>_ast.Param object at 0x1053bb8d0</title>\n",
       "<text fill=\"#004080\" font-family=\"Courier,monospace\" font-size=\"14.00\" font-weight=\"bold\" text-anchor=\"start\" x=\"224\" y=\"-86.8\">Param</text>\n",
       "</g>\n",
       "<!-- _ast.Name object at 0x1815f467d0&#45;&#45;_ast.Param object at 0x1053bb8d0 -->\n",
       "<g class=\"edge\" id=\"edge13\"><title>_ast.Name object at 0x1815f467d0--_ast.Param object at 0x1053bb8d0</title>\n",
       "<path d=\"M250.003,-143C250.003,-143 248.099,-123.192 246.641,-108.027\" fill=\"none\" stroke=\"black\"/>\n",
       "</g>\n",
       "<!-- _ast.Str object at 0x1815f46750 -->\n",
       "<g class=\"node\" id=\"node15\"><title>_ast.Str object at 0x1815f46750</title>\n",
       "<text fill=\"#004080\" font-family=\"Courier,monospace\" font-size=\"14.00\" font-weight=\"bold\" text-anchor=\"start\" x=\"488.401\" y=\"-86.8\">Str</text>\n",
       "</g>\n",
       "<!-- _ast.BinOp object at 0x1815f46a50&#45;&#45;_ast.Str object at 0x1815f46750 -->\n",
       "<g class=\"edge\" id=\"edge14\"><title>_ast.BinOp object at 0x1815f46a50--_ast.Str object at 0x1815f46750</title>\n",
       "<path d=\"M427.003,-143C427.003,-143 455.192,-123.192 476.773,-108.027\" fill=\"none\" stroke=\"black\"/>\n",
       "</g>\n",
       "<!-- _ast.Mod object at 0x1053bbe90 -->\n",
       "<g class=\"node\" id=\"node16\"><title>_ast.Mod object at 0x1053bbe90</title>\n",
       "<text fill=\"#004080\" font-family=\"Courier,monospace\" font-size=\"14.00\" font-weight=\"bold\" text-anchor=\"start\" x=\"416.401\" y=\"-86.8\">Mod</text>\n",
       "</g>\n",
       "<!-- _ast.BinOp object at 0x1815f46a50&#45;&#45;_ast.Mod object at 0x1053bbe90 -->\n",
       "<g class=\"edge\" id=\"edge15\"><title>_ast.BinOp object at 0x1815f46a50--_ast.Mod object at 0x1053bbe90</title>\n",
       "<path d=\"M427.003,-143C427.003,-143 427.765,-123.192 428.349,-108.027\" fill=\"none\" stroke=\"black\"/>\n",
       "</g>\n",
       "<!-- _ast.Name object at 0x1815f468d0 -->\n",
       "<g class=\"node\" id=\"node17\"><title>_ast.Name object at 0x1815f468d0</title>\n",
       "<text fill=\"#004080\" font-family=\"Courier,monospace\" font-size=\"14.00\" font-weight=\"bold\" text-anchor=\"start\" x=\"340.201\" y=\"-86.8\">Name</text>\n",
       "</g>\n",
       "<!-- _ast.BinOp object at 0x1815f46a50&#45;&#45;_ast.Name object at 0x1815f468d0 -->\n",
       "<g class=\"edge\" id=\"edge16\"><title>_ast.BinOp object at 0x1815f46a50--_ast.Name object at 0x1815f468d0</title>\n",
       "<path d=\"M427.003,-143C427.003,-143 400.339,-123.192 379.924,-108.027\" fill=\"none\" stroke=\"black\"/>\n",
       "</g>\n",
       "<!-- _ast.Name object at 0x1815f46790&#45;&#45;get_name -->\n",
       "<g class=\"edge\" id=\"edge17\"><title>_ast.Name object at 0x1815f46790--get_name</title>\n",
       "<path d=\"M117.003,-143C117.003,-143 131.859,-123.192 143.233,-108.027\" fill=\"none\" stroke=\"black\"/>\n",
       "</g>\n",
       "<!-- _ast.Load object at 0x1053bb650 -->\n",
       "<g class=\"node\" id=\"node18\"><title>_ast.Load object at 0x1053bb650</title>\n",
       "<text fill=\"#004080\" font-family=\"Courier,monospace\" font-size=\"14.00\" font-weight=\"bold\" text-anchor=\"start\" x=\"168.201\" y=\"-14.8\">Load</text>\n",
       "</g>\n",
       "<!-- _ast.Name object at 0x1815f46790&#45;&#45;_ast.Load object at 0x1053bb650 -->\n",
       "<g class=\"edge\" id=\"edge18\"><title>_ast.Name object at 0x1815f46790--_ast.Load object at 0x1053bb650</title>\n",
       "<path d=\"M117.003,-143C117.003,-143 89.8617,-100.194 105.003,-72 116.118,-51.3046 139.258,-37.3284 157.805,-28.9479\" fill=\"none\" stroke=\"black\"/>\n",
       "</g>\n",
       "<!-- David -->\n",
       "<g class=\"node\" id=\"node19\"><title>David</title>\n",
       "<text fill=\"#008040\" font-family=\"Courier,monospace\" font-size=\"14.00\" font-weight=\"bold\" text-anchor=\"start\" x=\"8\" y=\"-86.8\">David</text>\n",
       "</g>\n",
       "<!-- _ast.Str object at 0x1815f46c10&#45;&#45;David -->\n",
       "<g class=\"edge\" id=\"edge19\"><title>_ast.Str object at 0x1815f46c10--David</title>\n",
       "<path d=\"M29.7562,-143.697C29.6012,-132.846 29.4022,-118.917 29.2478,-108.104\" fill=\"none\" stroke=\"black\"/>\n",
       "</g>\n",
       "<!-- Hi %s -->\n",
       "<g class=\"node\" id=\"node20\"><title>Hi %s</title>\n",
       "<text fill=\"#008040\" font-family=\"Courier,monospace\" font-size=\"14.00\" font-weight=\"bold\" text-anchor=\"start\" x=\"480\" y=\"-14.8\">Hi %s</text>\n",
       "</g>\n",
       "<!-- _ast.Str object at 0x1815f46750&#45;&#45;Hi %s -->\n",
       "<g class=\"edge\" id=\"edge20\"><title>_ast.Str object at 0x1815f46750--Hi %s</title>\n",
       "<path d=\"M501.003,-71.6966C501.003,-60.8463 501.003,-46.9167 501.003,-36.1043\" fill=\"none\" stroke=\"black\"/>\n",
       "</g>\n",
       "<!-- _ast.Name object at 0x1815f468d0&#45;&#45;name -->\n",
       "<g class=\"edge\" id=\"edge21\"><title>_ast.Name object at 0x1815f468d0--name</title>\n",
       "<path d=\"M339.003,-71C339.003,-71 335.194,-51.1921 332.278,-36.0267\" fill=\"none\" stroke=\"black\"/>\n",
       "</g>\n",
       "<!-- _ast.Name object at 0x1815f468d0&#45;&#45;_ast.Load object at 0x1053bb650 -->\n",
       "<g class=\"edge\" id=\"edge22\"><title>_ast.Name object at 0x1815f468d0--_ast.Load object at 0x1053bb650</title>\n",
       "<path d=\"M339.003,-71C339.003,-71 256.391,-43.105 212.181,-28.1769\" fill=\"none\" stroke=\"black\"/>\n",
       "</g>\n",
       "</g>\n",
       "</svg>"
      ],
      "text/plain": [
       "<IPython.core.display.SVG object>"
      ]
     },
     "execution_count": 71,
     "metadata": {},
     "output_type": "execute_result"
    }
   ],
   "source": [
    "tree = get_ast_repr(ast.parse(program_a))\n",
    "graph(tree)"
   ]
  },
  {
   "cell_type": "code",
   "execution_count": 72,
   "metadata": {},
   "outputs": [
    {
     "data": {
      "text/plain": [
       "[('Module', 'FunctionDef'),\n",
       " ('Module', 'Expr'),\n",
       " ('FunctionDef', 'get_name'),\n",
       " ('FunctionDef', 'arguments'),\n",
       " ('FunctionDef', 'Print'),\n",
       " ('Expr', 'Call'),\n",
       " ('arguments', 'Name'),\n",
       " ('Print', 'BinOp'),\n",
       " ('Print', 'bool'),\n",
       " ('Call', 'Name'),\n",
       " ('Call', 'Str'),\n",
       " ('Name', 'name'),\n",
       " ('Name', 'Param'),\n",
       " ('BinOp', 'Str'),\n",
       " ('BinOp', 'Mod'),\n",
       " ('BinOp', 'Name'),\n",
       " ('Name', 'get_name'),\n",
       " ('Name', 'Load'),\n",
       " ('Str', 'David'),\n",
       " ('Str', 'Hi %s'),\n",
       " ('Name', 'name'),\n",
       " ('Name', 'Load')]"
      ]
     },
     "execution_count": 72,
     "metadata": {},
     "output_type": "execute_result"
    }
   ],
   "source": [
    "get_ast_pairs(tree)"
   ]
  },
  {
   "cell_type": "code",
   "execution_count": 73,
   "metadata": {},
   "outputs": [
    {
     "data": {
      "image/svg+xml": [
       "<svg height=\"404pt\" viewBox=\"0.00 0.00 646.00 404.00\" width=\"646pt\" xmlns=\"http://www.w3.org/2000/svg\" xmlns:xlink=\"http://www.w3.org/1999/xlink\">\n",
       "<g class=\"graph\" id=\"graph0\" transform=\"scale(1 1) rotate(0) translate(4 400)\">\n",
       "<title>%3</title>\n",
       "<polygon fill=\"white\" points=\"-4,4 -4,-400 642,-400 642,4 -4,4\" stroke=\"none\"/>\n",
       "<!-- _ast.Module object at 0x1815f46a10 -->\n",
       "<g class=\"node\" id=\"node1\"><title>_ast.Module object at 0x1815f46a10</title>\n",
       "<text fill=\"#004080\" font-family=\"Courier,monospace\" font-size=\"14.00\" font-weight=\"bold\" text-anchor=\"start\" x=\"226.796\" y=\"-374.8\">Module</text>\n",
       "</g>\n",
       "<!-- _ast.Assign object at 0x1815f469d0 -->\n",
       "<g class=\"node\" id=\"node2\"><title>_ast.Assign object at 0x1815f469d0</title>\n",
       "<text fill=\"#004080\" font-family=\"Courier,monospace\" font-size=\"14.00\" font-weight=\"bold\" text-anchor=\"start\" x=\"226.796\" y=\"-302.8\">Assign</text>\n",
       "</g>\n",
       "<!-- _ast.Module object at 0x1815f46a10&#45;&#45;_ast.Assign object at 0x1815f469d0 -->\n",
       "<g class=\"edge\" id=\"edge1\"><title>_ast.Module object at 0x1815f46a10--_ast.Assign object at 0x1815f469d0</title>\n",
       "<path d=\"M252,-359C252,-359 252,-339.192 252,-324.027\" fill=\"none\" stroke=\"black\"/>\n",
       "</g>\n",
       "<!-- _ast.Assign object at 0x1815f46ed0 -->\n",
       "<g class=\"node\" id=\"node3\"><title>_ast.Assign object at 0x1815f46ed0</title>\n",
       "<text fill=\"#004080\" font-family=\"Courier,monospace\" font-size=\"14.00\" font-weight=\"bold\" text-anchor=\"start\" x=\"310.796\" y=\"-302.8\">Assign</text>\n",
       "</g>\n",
       "<!-- _ast.Module object at 0x1815f46a10&#45;&#45;_ast.Assign object at 0x1815f46ed0 -->\n",
       "<g class=\"edge\" id=\"edge2\"><title>_ast.Module object at 0x1815f46a10--_ast.Assign object at 0x1815f46ed0</title>\n",
       "<path d=\"M252,-359C252,-359 283.997,-339.192 308.495,-324.027\" fill=\"none\" stroke=\"black\"/>\n",
       "</g>\n",
       "<!-- _ast.Print object at 0x1815f463d0 -->\n",
       "<g class=\"node\" id=\"node4\"><title>_ast.Print object at 0x1815f463d0</title>\n",
       "<text fill=\"#004080\" font-family=\"Courier,monospace\" font-size=\"14.00\" font-weight=\"bold\" text-anchor=\"start\" x=\"150.997\" y=\"-302.8\">Print</text>\n",
       "</g>\n",
       "<!-- _ast.Module object at 0x1815f46a10&#45;&#45;_ast.Print object at 0x1815f463d0 -->\n",
       "<g class=\"edge\" id=\"edge3\"><title>_ast.Module object at 0x1815f46a10--_ast.Print object at 0x1815f463d0</title>\n",
       "<path d=\"M252,-359C252,-359 221.526,-339.192 198.195,-324.027\" fill=\"none\" stroke=\"black\"/>\n",
       "</g>\n",
       "<!-- _ast.Name object at 0x1815f46310 -->\n",
       "<g class=\"node\" id=\"node5\"><title>_ast.Name object at 0x1815f46310</title>\n",
       "<text fill=\"#004080\" font-family=\"Courier,monospace\" font-size=\"14.00\" font-weight=\"bold\" text-anchor=\"start\" x=\"234.197\" y=\"-230.8\">Name</text>\n",
       "</g>\n",
       "<!-- _ast.Assign object at 0x1815f469d0&#45;&#45;_ast.Name object at 0x1815f46310 -->\n",
       "<g class=\"edge\" id=\"edge4\"><title>_ast.Assign object at 0x1815f469d0--_ast.Name object at 0x1815f46310</title>\n",
       "<path d=\"M263,-287C263,-287 258.429,-267.192 254.929,-252.027\" fill=\"none\" stroke=\"black\"/>\n",
       "</g>\n",
       "<!-- _ast.Call object at 0x1815f46b90 -->\n",
       "<g class=\"node\" id=\"node6\"><title>_ast.Call object at 0x1815f46b90</title>\n",
       "<text fill=\"#004080\" font-family=\"Courier,monospace\" font-size=\"14.00\" font-weight=\"bold\" text-anchor=\"start\" x=\"378.197\" y=\"-230.8\">Call</text>\n",
       "</g>\n",
       "<!-- _ast.Assign object at 0x1815f469d0&#45;&#45;_ast.Call object at 0x1815f46b90 -->\n",
       "<g class=\"edge\" id=\"edge5\"><title>_ast.Assign object at 0x1815f469d0--_ast.Call object at 0x1815f46b90</title>\n",
       "<path d=\"M263,-287C263,-287 317.09,-269.492 359,-252 361.934,-250.775 364.976,-249.442 367.993,-248.078\" fill=\"none\" stroke=\"black\"/>\n",
       "</g>\n",
       "<!-- _ast.Name object at 0x1815f46450 -->\n",
       "<g class=\"node\" id=\"node7\"><title>_ast.Name object at 0x1815f46450</title>\n",
       "<text fill=\"#004080\" font-family=\"Courier,monospace\" font-size=\"14.00\" font-weight=\"bold\" text-anchor=\"start\" x=\"306.197\" y=\"-230.8\">Name</text>\n",
       "</g>\n",
       "<!-- _ast.Assign object at 0x1815f46ed0&#45;&#45;_ast.Name object at 0x1815f46450 -->\n",
       "<g class=\"edge\" id=\"edge6\"><title>_ast.Assign object at 0x1815f46ed0--_ast.Name object at 0x1815f46450</title>\n",
       "<path d=\"M345,-287C345,-287 336.62,-267.192 330.204,-252.027\" fill=\"none\" stroke=\"black\"/>\n",
       "</g>\n",
       "<!-- _ast.Call object at 0x1815f46490 -->\n",
       "<g class=\"node\" id=\"node8\"><title>_ast.Call object at 0x1815f46490</title>\n",
       "<text fill=\"#004080\" font-family=\"Courier,monospace\" font-size=\"14.00\" font-weight=\"bold\" text-anchor=\"start\" x=\"450.197\" y=\"-230.8\">Call</text>\n",
       "</g>\n",
       "<!-- _ast.Assign object at 0x1815f46ed0&#45;&#45;_ast.Call object at 0x1815f46490 -->\n",
       "<g class=\"edge\" id=\"edge7\"><title>_ast.Assign object at 0x1815f46ed0--_ast.Call object at 0x1815f46490</title>\n",
       "<path d=\"M345,-287C345,-287 393.217,-268.594 431,-252 433.911,-250.721 436.938,-249.353 439.946,-247.97\" fill=\"none\" stroke=\"black\"/>\n",
       "</g>\n",
       "<!-- _ast.BinOp object at 0x1815f46810 -->\n",
       "<g class=\"node\" id=\"node9\"><title>_ast.BinOp object at 0x1815f46810</title>\n",
       "<text fill=\"#004080\" font-family=\"Courier,monospace\" font-size=\"14.00\" font-weight=\"bold\" text-anchor=\"start\" x=\"77.9966\" y=\"-230.8\">BinOp</text>\n",
       "</g>\n",
       "<!-- _ast.Print object at 0x1815f463d0&#45;&#45;_ast.BinOp object at 0x1815f46810 -->\n",
       "<g class=\"edge\" id=\"edge8\"><title>_ast.Print object at 0x1815f463d0--_ast.BinOp object at 0x1815f46810</title>\n",
       "<path d=\"M165,-287C165,-287 139.859,-267.192 120.611,-252.027\" fill=\"none\" stroke=\"black\"/>\n",
       "</g>\n",
       "<!-- True -->\n",
       "<g class=\"node\" id=\"node10\"><title>True</title>\n",
       "<text fill=\"#008040\" font-family=\"Courier,monospace\" font-size=\"14.00\" font-weight=\"bold\" text-anchor=\"start\" x=\"156.197\" y=\"-230.8\">bool</text>\n",
       "</g>\n",
       "<!-- _ast.Print object at 0x1815f463d0&#45;&#45;True -->\n",
       "<g class=\"edge\" id=\"edge9\"><title>_ast.Print object at 0x1815f463d0--True</title>\n",
       "<path d=\"M165,-287C165,-287 168.047,-267.192 170.381,-252.027\" fill=\"none\" stroke=\"black\"/>\n",
       "</g>\n",
       "<!-- a -->\n",
       "<g class=\"node\" id=\"node11\"><title>a</title>\n",
       "<text fill=\"#008040\" font-family=\"Courier,monospace\" font-size=\"14.00\" font-weight=\"bold\" text-anchor=\"start\" x=\"149.799\" y=\"-86.8\">a</text>\n",
       "</g>\n",
       "<!-- _ast.Name object at 0x1815f46310&#45;&#45;a -->\n",
       "<g class=\"edge\" id=\"edge10\"><title>_ast.Name object at 0x1815f46310--a</title>\n",
       "<path d=\"M249,-215C249,-215 196.232,-209.038 173,-180 156.517,-159.397 153.453,-127.8 153.316,-108.321\" fill=\"none\" stroke=\"black\"/>\n",
       "</g>\n",
       "<!-- _ast.Store object at 0x1053bb6d0 -->\n",
       "<g class=\"node\" id=\"node12\"><title>_ast.Store object at 0x1053bb6d0</title>\n",
       "<text fill=\"#004080\" font-family=\"Courier,monospace\" font-size=\"14.00\" font-weight=\"bold\" text-anchor=\"start\" x=\"261.997\" y=\"-158.8\">Store</text>\n",
       "</g>\n",
       "<!-- _ast.Name object at 0x1815f46310&#45;&#45;_ast.Store object at 0x1053bb6d0 -->\n",
       "<g class=\"edge\" id=\"edge11\"><title>_ast.Name object at 0x1815f46310--_ast.Store object at 0x1053bb6d0</title>\n",
       "<path d=\"M249,-215C249,-215 261.951,-195.192 271.867,-180.027\" fill=\"none\" stroke=\"black\"/>\n",
       "</g>\n",
       "<!-- _ast.Name object at 0x1815f46c90 -->\n",
       "<g class=\"node\" id=\"node13\"><title>_ast.Name object at 0x1815f46c90</title>\n",
       "<text fill=\"#004080\" font-family=\"Courier,monospace\" font-size=\"14.00\" font-weight=\"bold\" text-anchor=\"start\" x=\"378.197\" y=\"-158.8\">Name</text>\n",
       "</g>\n",
       "<!-- _ast.Call object at 0x1815f46b90&#45;&#45;_ast.Name object at 0x1815f46c90 -->\n",
       "<g class=\"edge\" id=\"edge12\"><title>_ast.Call object at 0x1815f46b90--_ast.Name object at 0x1815f46c90</title>\n",
       "<path d=\"M406,-215C406,-215 401.81,-195.192 398.602,-180.027\" fill=\"none\" stroke=\"black\"/>\n",
       "</g>\n",
       "<!-- _ast.Call object at 0x1815f46d10 -->\n",
       "<g class=\"node\" id=\"node14\"><title>_ast.Call object at 0x1815f46d10</title>\n",
       "<text fill=\"#004080\" font-family=\"Courier,monospace\" font-size=\"14.00\" font-weight=\"bold\" text-anchor=\"start\" x=\"522.197\" y=\"-158.8\">Call</text>\n",
       "</g>\n",
       "<!-- _ast.Call object at 0x1815f46b90&#45;&#45;_ast.Call object at 0x1815f46d10 -->\n",
       "<g class=\"edge\" id=\"edge13\"><title>_ast.Call object at 0x1815f46b90--_ast.Call object at 0x1815f46d10</title>\n",
       "<path d=\"M406,-215C406,-215 460.675,-197.583 503,-180 505.936,-178.78 508.979,-177.45 511.997,-176.088\" fill=\"none\" stroke=\"black\"/>\n",
       "</g>\n",
       "<!-- _ast.Name object at 0x1815f46450&#45;&#45;_ast.Store object at 0x1053bb6d0 -->\n",
       "<g class=\"edge\" id=\"edge15\"><title>_ast.Name object at 0x1815f46450--_ast.Store object at 0x1053bb6d0</title>\n",
       "<path d=\"M317,-215C317,-215 304.049,-195.192 294.133,-180.027\" fill=\"none\" stroke=\"black\"/>\n",
       "</g>\n",
       "<!-- b -->\n",
       "<g class=\"node\" id=\"node15\"><title>b</title>\n",
       "<text fill=\"#008040\" font-family=\"Courier,monospace\" font-size=\"14.00\" font-weight=\"bold\" text-anchor=\"start\" x=\"292.799\" y=\"-86.8\">b</text>\n",
       "</g>\n",
       "<!-- _ast.Name object at 0x1815f46450&#45;&#45;b -->\n",
       "<g class=\"edge\" id=\"edge14\"><title>_ast.Name object at 0x1815f46450--b</title>\n",
       "<path d=\"M317,-215C317,-215 327.669,-174.894 321,-144 318.272,-131.362 312.272,-118.112 306.954,-108.022\" fill=\"none\" stroke=\"black\"/>\n",
       "</g>\n",
       "<!-- _ast.Name object at 0x1815f46710 -->\n",
       "<g class=\"node\" id=\"node16\"><title>_ast.Name object at 0x1815f46710</title>\n",
       "<text fill=\"#004080\" font-family=\"Courier,monospace\" font-size=\"14.00\" font-weight=\"bold\" text-anchor=\"start\" x=\"450.197\" y=\"-158.8\">Name</text>\n",
       "</g>\n",
       "<!-- _ast.Call object at 0x1815f46490&#45;&#45;_ast.Name object at 0x1815f46710 -->\n",
       "<g class=\"edge\" id=\"edge16\"><title>_ast.Call object at 0x1815f46490--_ast.Name object at 0x1815f46710</title>\n",
       "<path d=\"M478,-215C478,-215 473.81,-195.192 470.602,-180.027\" fill=\"none\" stroke=\"black\"/>\n",
       "</g>\n",
       "<!-- _ast.Call object at 0x1815f46210 -->\n",
       "<g class=\"node\" id=\"node17\"><title>_ast.Call object at 0x1815f46210</title>\n",
       "<text fill=\"#004080\" font-family=\"Courier,monospace\" font-size=\"14.00\" font-weight=\"bold\" text-anchor=\"start\" x=\"594.197\" y=\"-158.8\">Call</text>\n",
       "</g>\n",
       "<!-- _ast.Call object at 0x1815f46490&#45;&#45;_ast.Call object at 0x1815f46210 -->\n",
       "<g class=\"edge\" id=\"edge17\"><title>_ast.Call object at 0x1815f46490--_ast.Call object at 0x1815f46210</title>\n",
       "<path d=\"M478,-215C478,-215 532.675,-197.583 575,-180 577.936,-178.78 580.979,-177.45 583.997,-176.088\" fill=\"none\" stroke=\"black\"/>\n",
       "</g>\n",
       "<!-- _ast.Name object at 0x1815f464d0 -->\n",
       "<g class=\"node\" id=\"node18\"><title>_ast.Name object at 0x1815f464d0</title>\n",
       "<text fill=\"#004080\" font-family=\"Courier,monospace\" font-size=\"14.00\" font-weight=\"bold\" text-anchor=\"start\" x=\"82.1973\" y=\"-158.8\">Name</text>\n",
       "</g>\n",
       "<!-- _ast.BinOp object at 0x1815f46810&#45;&#45;_ast.Name object at 0x1815f464d0 -->\n",
       "<g class=\"edge\" id=\"edge18\"><title>_ast.BinOp object at 0x1815f46810--_ast.Name object at 0x1815f464d0</title>\n",
       "<path d=\"M100,-215C100,-215 99.6191,-195.192 99.3274,-180.027\" fill=\"none\" stroke=\"black\"/>\n",
       "</g>\n",
       "<!-- _ast.Add object at 0x1053bbc90 -->\n",
       "<g class=\"node\" id=\"node19\"><title>_ast.Add object at 0x1053bbc90</title>\n",
       "<text fill=\"#004080\" font-family=\"Courier,monospace\" font-size=\"14.00\" font-weight=\"bold\" text-anchor=\"start\" x=\"14.3979\" y=\"-158.8\">Add</text>\n",
       "</g>\n",
       "<!-- _ast.BinOp object at 0x1815f46810&#45;&#45;_ast.Add object at 0x1053bbc90 -->\n",
       "<g class=\"edge\" id=\"edge19\"><title>_ast.BinOp object at 0x1815f46810--_ast.Add object at 0x1053bbc90</title>\n",
       "<path d=\"M100,-215C100,-215 72.1928,-195.192 50.9029,-180.027\" fill=\"none\" stroke=\"black\"/>\n",
       "</g>\n",
       "<!-- _ast.Name object at 0x1815fef050 -->\n",
       "<g class=\"node\" id=\"node20\"><title>_ast.Name object at 0x1815fef050</title>\n",
       "<text fill=\"#004080\" font-family=\"Courier,monospace\" font-size=\"14.00\" font-weight=\"bold\" text-anchor=\"start\" x=\"192.197\" y=\"-158.8\">Name</text>\n",
       "</g>\n",
       "<!-- _ast.BinOp object at 0x1815f46810&#45;&#45;_ast.Name object at 0x1815fef050 -->\n",
       "<g class=\"edge\" id=\"edge20\"><title>_ast.BinOp object at 0x1815f46810--_ast.Name object at 0x1815fef050</title>\n",
       "<path d=\"M100,-215C100,-215 149.491,-191.39 181.776,-175.988\" fill=\"none\" stroke=\"black\"/>\n",
       "</g>\n",
       "<!-- int -->\n",
       "<g class=\"node\" id=\"node21\"><title>int</title>\n",
       "<text fill=\"#008040\" font-family=\"Courier,monospace\" font-size=\"14.00\" font-weight=\"bold\" text-anchor=\"start\" x=\"403.398\" y=\"-86.8\">int</text>\n",
       "</g>\n",
       "<!-- _ast.Name object at 0x1815f46c90&#45;&#45;int -->\n",
       "<g class=\"edge\" id=\"edge21\"><title>_ast.Name object at 0x1815f46c90--int</title>\n",
       "<path d=\"M399,-143C399,-143 405.476,-123.192 410.434,-108.027\" fill=\"none\" stroke=\"black\"/>\n",
       "</g>\n",
       "<!-- _ast.Load object at 0x1053bb650 -->\n",
       "<g class=\"node\" id=\"node22\"><title>_ast.Load object at 0x1053bb650</title>\n",
       "<text fill=\"#004080\" font-family=\"Courier,monospace\" font-size=\"14.00\" font-weight=\"bold\" text-anchor=\"start\" x=\"399.197\" y=\"-14.8\">Load</text>\n",
       "</g>\n",
       "<!-- _ast.Name object at 0x1815f46c90&#45;&#45;_ast.Load object at 0x1053bb650 -->\n",
       "<g class=\"edge\" id=\"edge22\"><title>_ast.Name object at 0x1815f46c90--_ast.Load object at 0x1053bb650</title>\n",
       "<path d=\"M399,-143C399,-143 384.356,-125.155 380,-108 376.062,-92.4922 375.297,-87.2933 380,-72 384.054,-58.8163 392.627,-45.9695 400.39,-36.2264\" fill=\"none\" stroke=\"black\"/>\n",
       "</g>\n",
       "<!-- _ast.Name object at 0x1815f46f90 -->\n",
       "<g class=\"node\" id=\"node23\"><title>_ast.Name object at 0x1815f46f90</title>\n",
       "<text fill=\"#004080\" font-family=\"Courier,monospace\" font-size=\"14.00\" font-weight=\"bold\" text-anchor=\"start\" x=\"517.197\" y=\"-86.8\">Name</text>\n",
       "</g>\n",
       "<!-- _ast.Call object at 0x1815f46d10&#45;&#45;_ast.Name object at 0x1815f46f90 -->\n",
       "<g class=\"edge\" id=\"edge23\"><title>_ast.Call object at 0x1815f46d10--_ast.Name object at 0x1815f46f90</title>\n",
       "<path d=\"M537.764,-143.697C536.989,-132.846 535.994,-118.917 535.222,-108.104\" fill=\"none\" stroke=\"black\"/>\n",
       "</g>\n",
       "<!-- _ast.Name object at 0x1815f46710&#45;&#45;int -->\n",
       "<g class=\"edge\" id=\"edge24\"><title>_ast.Name object at 0x1815f46710--int</title>\n",
       "<path d=\"M457,-143C457,-143 441.382,-123.192 429.425,-108.027\" fill=\"none\" stroke=\"black\"/>\n",
       "</g>\n",
       "<!-- _ast.Name object at 0x1815f46710&#45;&#45;_ast.Load object at 0x1053bb650 -->\n",
       "<g class=\"edge\" id=\"edge25\"><title>_ast.Name object at 0x1815f46710--_ast.Load object at 0x1053bb650</title>\n",
       "<path d=\"M457,-143C457,-143 462.355,-101.891 452,-72 447.485,-58.967 438.898,-46.1249 431.242,-36.3465\" fill=\"none\" stroke=\"black\"/>\n",
       "</g>\n",
       "<!-- _ast.Name object at 0x1815f46e90 -->\n",
       "<g class=\"node\" id=\"node24\"><title>_ast.Name object at 0x1815f46e90</title>\n",
       "<text fill=\"#004080\" font-family=\"Courier,monospace\" font-size=\"14.00\" font-weight=\"bold\" text-anchor=\"start\" x=\"589.197\" y=\"-86.8\">Name</text>\n",
       "</g>\n",
       "<!-- _ast.Call object at 0x1815f46210&#45;&#45;_ast.Name object at 0x1815f46e90 -->\n",
       "<g class=\"edge\" id=\"edge26\"><title>_ast.Call object at 0x1815f46210--_ast.Name object at 0x1815f46e90</title>\n",
       "<path d=\"M609.764,-143.697C608.989,-132.846 607.994,-118.917 607.222,-108.104\" fill=\"none\" stroke=\"black\"/>\n",
       "</g>\n",
       "<!-- _ast.Name object at 0x1815f464d0&#45;&#45;a -->\n",
       "<g class=\"edge\" id=\"edge27\"><title>_ast.Name object at 0x1815f464d0--a</title>\n",
       "<path d=\"M122,-143C122,-143 134.189,-123.192 143.522,-108.027\" fill=\"none\" stroke=\"black\"/>\n",
       "</g>\n",
       "<!-- _ast.Name object at 0x1815f464d0&#45;&#45;_ast.Load object at 0x1053bb650 -->\n",
       "<g class=\"edge\" id=\"edge28\"><title>_ast.Name object at 0x1815f464d0--_ast.Load object at 0x1053bb650</title>\n",
       "<path d=\"M122,-143C122,-143 97.7022,-96.2263 118,-72 152.507,-30.8147 322.045,-21.6086 388.861,-19.5714\" fill=\"none\" stroke=\"black\"/>\n",
       "</g>\n",
       "<!-- _ast.Name object at 0x1815fef050&#45;&#45;b -->\n",
       "<g class=\"edge\" id=\"edge29\"><title>_ast.Name object at 0x1815fef050--b</title>\n",
       "<path d=\"M233,-143C233,-143 257.379,-123.192 276.044,-108.027\" fill=\"none\" stroke=\"black\"/>\n",
       "</g>\n",
       "<!-- _ast.Name object at 0x1815fef050&#45;&#45;_ast.Load object at 0x1053bb650 -->\n",
       "<g class=\"edge\" id=\"edge30\"><title>_ast.Name object at 0x1815fef050--_ast.Load object at 0x1053bb650</title>\n",
       "<path d=\"M233,-143C233,-143 236.467,-95.4256 261,-72 296.583,-38.0225 354.859,-25.7637 388.907,-21.3862\" fill=\"none\" stroke=\"black\"/>\n",
       "</g>\n",
       "<!-- _ast.Name object at 0x1815f46f90&#45;&#45;_ast.Load object at 0x1053bb650 -->\n",
       "<g class=\"edge\" id=\"edge32\"><title>_ast.Name object at 0x1815f46f90--_ast.Load object at 0x1053bb650</title>\n",
       "<path d=\"M529,-71C529,-71 476.496,-46.839 443.066,-31.4553\" fill=\"none\" stroke=\"black\"/>\n",
       "</g>\n",
       "<!-- raw_input -->\n",
       "<g class=\"node\" id=\"node25\"><title>raw_input</title>\n",
       "<text fill=\"#008040\" font-family=\"Courier,monospace\" font-size=\"14.00\" font-weight=\"bold\" text-anchor=\"start\" x=\"532.194\" y=\"-14.8\">raw_input</text>\n",
       "</g>\n",
       "<!-- _ast.Name object at 0x1815f46f90&#45;&#45;raw_input -->\n",
       "<g class=\"edge\" id=\"edge31\"><title>_ast.Name object at 0x1815f46f90--raw_input</title>\n",
       "<path d=\"M529,-71C529,-71 544.618,-51.1921 556.575,-36.0267\" fill=\"none\" stroke=\"black\"/>\n",
       "</g>\n",
       "<!-- _ast.Name object at 0x1815f46e90&#45;&#45;_ast.Load object at 0x1053bb650 -->\n",
       "<g class=\"edge\" id=\"edge34\"><title>_ast.Name object at 0x1815f46e90--_ast.Load object at 0x1053bb650</title>\n",
       "<path d=\"M586,-71C586,-71 491.368,-42.0539 443.313,-27.3547\" fill=\"none\" stroke=\"black\"/>\n",
       "</g>\n",
       "<!-- _ast.Name object at 0x1815f46e90&#45;&#45;raw_input -->\n",
       "<g class=\"edge\" id=\"edge33\"><title>_ast.Name object at 0x1815f46e90--raw_input</title>\n",
       "<path d=\"M586,-71C586,-71 579.905,-51.1921 575.239,-36.0267\" fill=\"none\" stroke=\"black\"/>\n",
       "</g>\n",
       "</g>\n",
       "</svg>"
      ],
      "text/plain": [
       "<IPython.core.display.SVG object>"
      ]
     },
     "execution_count": 73,
     "metadata": {},
     "output_type": "execute_result"
    }
   ],
   "source": [
    "graph(get_ast_repr(ast.parse(program_sum)))"
   ]
  },
  {
   "cell_type": "markdown",
   "metadata": {},
   "source": [
    "### Utils"
   ]
  },
  {
   "cell_type": "code",
   "execution_count": 74,
   "metadata": {
    "collapsed": true
   },
   "outputs": [],
   "source": [
    "# Run another notebook\n",
    "\n",
    "# http://nbviewer.jupyter.org/gist/minrk/5491090/analysis.ipynb\n",
    "\n",
    "#import io\n",
    "#from IPython.nbformat import current\n",
    "\n",
    "#def execute_notebook(nbfile):\n",
    "#    with io.open(nbfile) as f:\n",
    "#        nb = current.read(f, 'json')\n",
    "#    ip = get_ipython()\n",
    "#    for cell in nb.worksheets[0].cells:\n",
    "#        if cell.cell_type != 'code':\n",
    "#            continue\n",
    "#        ip.run_cell(cell.input)\n",
    "\n",
    "# execute_notebook(\"Tokenize Python programs.ipynb\")\n",
    "\n",
    "# Call the function defined on that notebook:\n",
    "# get_tokens(program)"
   ]
  }
 ],
 "metadata": {
  "kernelspec": {
   "display_name": "Python 2",
   "language": "python",
   "name": "python2"
  },
  "language_info": {
   "codemirror_mode": {
    "name": "ipython",
    "version": 2
   },
   "file_extension": ".py",
   "mimetype": "text/x-python",
   "name": "python",
   "nbconvert_exporter": "python",
   "pygments_lexer": "ipython2",
   "version": "2.7.14"
  }
 },
 "nbformat": 4,
 "nbformat_minor": 2
}
